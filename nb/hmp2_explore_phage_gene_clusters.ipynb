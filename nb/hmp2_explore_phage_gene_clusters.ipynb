{
 "cells": [
  {
   "cell_type": "markdown",
   "metadata": {},
   "source": [
    "## Preamble"
   ]
  },
  {
   "cell_type": "markdown",
   "metadata": {},
   "source": [
    "### Project Template"
   ]
  },
  {
   "cell_type": "code",
   "execution_count": null,
   "metadata": {},
   "outputs": [],
   "source": [
    "%load_ext autoreload"
   ]
  },
  {
   "cell_type": "code",
   "execution_count": null,
   "metadata": {},
   "outputs": [],
   "source": [
    "import os as _os\n",
    "\n",
    "_os.chdir(_os.environ[\"PROJECT_ROOT\"])\n",
    "_os.path.realpath(_os.path.curdir)"
   ]
  },
  {
   "cell_type": "markdown",
   "metadata": {},
   "source": [
    "### Imports"
   ]
  },
  {
   "cell_type": "code",
   "execution_count": null,
   "metadata": {},
   "outputs": [],
   "source": [
    "import os\n",
    "import subprocess\n",
    "import sys\n",
    "import time\n",
    "from datetime import datetime\n",
    "from glob import glob\n",
    "from itertools import chain, product\n",
    "from tempfile import mkstemp\n",
    "\n",
    "import matplotlib as mpl\n",
    "import matplotlib.pyplot as plt\n",
    "import numpy as np\n",
    "import pandas as pd\n",
    "import scipy as sp\n",
    "import seaborn as sns\n",
    "import sfacts as sf\n",
    "import statsmodels.api as sm\n",
    "import statsmodels.formula.api as smf\n",
    "import xarray as xr\n",
    "from mpl_toolkits.axes_grid1 import make_axes_locatable\n",
    "from statsmodels.stats.multitest import fdrcorrection\n",
    "from tqdm import tqdm\n",
    "\n",
    "import lib.plot\n",
    "from lib.dissimilarity import load_dmat_as_pickle\n",
    "from lib.pandas_util import align_indexes, aligned_index, idxwhere, invert_mapping"
   ]
  },
  {
   "cell_type": "code",
   "execution_count": null,
   "metadata": {},
   "outputs": [],
   "source": [
    "import lib.thisproject.data"
   ]
  },
  {
   "cell_type": "markdown",
   "metadata": {},
   "source": [
    "### Set Style"
   ]
  },
  {
   "cell_type": "code",
   "execution_count": null,
   "metadata": {},
   "outputs": [],
   "source": [
    "sns.set_context(\"talk\")\n",
    "plt.rcParams[\"figure.dpi\"] = 100"
   ]
  },
  {
   "cell_type": "markdown",
   "metadata": {},
   "source": [
    "## Load Metadata"
   ]
  },
  {
   "cell_type": "raw",
   "metadata": {},
   "source": [
    "### Prototype F. gnavus MWAS analysis:"
   ]
  },
  {
   "cell_type": "raw",
   "metadata": {},
   "source": [
    "inpath = \"data/group/hmp2/species/sp-100076/r.proc.gtpro.sfacts-fit.gene99_v15-v22-agg75.spgc-fit.uhgg-strain_gene.hmp2_mwas-f30-n2.tsv\"\n",
    "d = pd.read_table(inpath, index_col=['gene_id']).assign(\n",
    "    num_present=lambda x: x[[\"present-IBD\", \"present-nonIBD\"]].sum(1),\n",
    "    num_absent=lambda x: x[[\"absent-IBD\", \"absent-nonIBD\"]].sum(1),\n",
    ")[lambda x: x[[\"num_present\", \"num_absent\"]].min(1) > 5].assign(fdr=lambda x: fdrcorrection(x.fisher_exact_pvalue_ibd)[1])\n",
    "\n",
    "d.sort_values('fdr')"
   ]
  },
  {
   "cell_type": "code",
   "execution_count": null,
   "metadata": {},
   "outputs": [],
   "source": [
    "# File paths\n",
    "species = \"103694\"\n",
    "c75_clust_inpath = f\"data/group/hmp2/species/sp-{species}/r.proc.gtpro.sfacts-fit.gene99_v15-v22-agg75.spgc-fit.uhgg-strain_gene.gene_clust-t10.tsv\"\n",
    "gene_family_inpath = f\"ref/midasdb_uhgg_v15/pangenomes/{species}/gene_info.txt\"\n",
    "gene_phage_inpath = f\"ref/midasdb_uhgg_v15/pangenomes/{species}/genomad_virus.tsv\"\n",
    "gene_amr_inpath = f\"ref/midasdb_uhgg_v15/pangenomes/{species}/resfinder.tsv\"\n",
    "gene_plasmid_inpath = f\"ref/midasdb_uhgg_v15/pangenomes/{species}/genomad_plasmid.tsv\"\n",
    "morans_inpath = f\"data/group/hmp2/species/sp-{species}/r.proc.gtpro.sfacts-fit.gene99_v15-v22-agg75.spgc-fit.uhgg-strain_gene.morans_i.tsv\"\n",
    "\n",
    "pdist_inpath = 'data/group/hmp2/species/sp-102506/r.proc.gtpro.filt-poly05-cvrg05.ss-g10000-block0-seed0.fit-sfacts37-s85-seed0.spgc_ss-all.geno_uhgg-v15_pdist-mask10-pseudo10.pkl'  # f\"data/group/hmp2/species/sp-{species}/r.proc.gtpro.sfacts-fit.spgc_ss-all.geno_uhgg-v15_pdist-mask10-pseudo10.pkl\"\n",
    "strain_gene_inpath = f\"data/group/hmp2/species/sp-{species}/r.proc.gtpro.sfacts-fit.gene99_v15-v22-agg75.spgc-fit.uhgg-strain_gene.tsv\""
   ]
  },
  {
   "cell_type": "code",
   "execution_count": null,
   "metadata": {},
   "outputs": [],
   "source": [
    "morans_inpath"
   ]
  },
  {
   "cell_type": "code",
   "execution_count": null,
   "metadata": {},
   "outputs": [],
   "source": [
    "c75_by_clust = pd.read_table(c75_clust_inpath, names=[\"centroid_75\", \"cluster\"])\n",
    "c75_by_clust"
   ]
  },
  {
   "cell_type": "code",
   "execution_count": null,
   "metadata": {},
   "outputs": [],
   "source": [
    "c75_by_clust.cluster.value_counts().head(20)"
   ]
  },
  {
   "cell_type": "code",
   "execution_count": null,
   "metadata": {},
   "outputs": [],
   "source": [
    "gene_family = pd.read_table(gene_family_inpath, index_col=\"gene_id\")\n",
    "centroid75_num_members = gene_family.centroid_75.value_counts()\n",
    "gene_family"
   ]
  },
  {
   "cell_type": "code",
   "execution_count": null,
   "metadata": {},
   "outputs": [],
   "source": [
    "len(set(gene_family.centroid_75))"
   ]
  },
  {
   "cell_type": "markdown",
   "metadata": {},
   "source": [
    "### AMR Annotations"
   ]
  },
  {
   "cell_type": "code",
   "execution_count": null,
   "metadata": {},
   "outputs": [],
   "source": [
    "amr_annotations = pd.read_table(gene_amr_inpath, index_col=[\"centroid_99\"]).rename_axis(\n",
    "    index=\"gene_id\"\n",
    ")"
   ]
  },
  {
   "cell_type": "code",
   "execution_count": null,
   "metadata": {},
   "outputs": [],
   "source": [
    "gene_by_amr = amr_annotations.accession_no.reset_index().drop_duplicates()\n",
    "gene_by_amr"
   ]
  },
  {
   "cell_type": "code",
   "execution_count": null,
   "metadata": {},
   "outputs": [],
   "source": [
    "len(gene_by_amr.gene_id.unique())"
   ]
  },
  {
   "cell_type": "code",
   "execution_count": null,
   "metadata": {},
   "outputs": [],
   "source": [
    "amr_annotations.loc[list(set(gene_by_amr.gene_id) - set(gene_family.index))]"
   ]
  },
  {
   "cell_type": "code",
   "execution_count": null,
   "metadata": {},
   "outputs": [],
   "source": [
    "gene_by_amr"
   ]
  },
  {
   "cell_type": "code",
   "execution_count": null,
   "metadata": {},
   "outputs": [],
   "source": [
    "c75_by_amr_votes = (\n",
    "    gene_by_amr.join(\n",
    "        gene_family.centroid_75.reindex(gene_by_amr.gene_id.unique()), on=\"gene_id\"\n",
    "    )[[\"centroid_75\", \"accession_no\"]].value_counts()\n",
    "    / centroid75_num_members\n",
    ")\n",
    "plt.hist(c75_by_amr_votes)"
   ]
  },
  {
   "cell_type": "code",
   "execution_count": null,
   "metadata": {},
   "outputs": [],
   "source": [
    "c75_by_amr = c75_by_amr_votes[lambda x: x >= 0.5].reset_index()[\n",
    "    [\"centroid_75\", \"accession_no\"]\n",
    "]\n",
    "c75_by_amr"
   ]
  },
  {
   "cell_type": "code",
   "execution_count": null,
   "metadata": {},
   "outputs": [],
   "source": [
    "c75_is_amr_list = c75_by_amr.centroid_75.unique()\n",
    "len(c75_is_amr_list)"
   ]
  },
  {
   "cell_type": "markdown",
   "metadata": {},
   "source": [
    "### Phage Annotations"
   ]
  },
  {
   "cell_type": "code",
   "execution_count": null,
   "metadata": {},
   "outputs": [],
   "source": [
    "phage_annotations = pd.read_table(\n",
    "    gene_phage_inpath, index_col=\"centroid_99\"\n",
    ").rename_axis(\"gene_id\")"
   ]
  },
  {
   "cell_type": "code",
   "execution_count": null,
   "metadata": {},
   "outputs": [],
   "source": [
    "gene_by_phage = (\n",
    "    phage_annotations[lambda x: x.annotation_accessions != \".\"]\n",
    "    .annotation_accessions.str.split(\";\")\n",
    "    .explode()\n",
    "    .reset_index()\n",
    "    .drop_duplicates()\n",
    ")"
   ]
  },
  {
   "cell_type": "code",
   "execution_count": null,
   "metadata": {},
   "outputs": [],
   "source": [
    "# Features annotated as phage genes that don't show up in gene_info.txt (seems to be because they're <200 bp)\n",
    "phage_annotations.loc[list(set(gene_by_phage.gene_id) - set(gene_family.index))]"
   ]
  },
  {
   "cell_type": "code",
   "execution_count": null,
   "metadata": {},
   "outputs": [],
   "source": [
    "c75_by_phage_votes = (\n",
    "    gene_by_phage.join(\n",
    "        gene_family.centroid_75.reindex(gene_by_phage.gene_id.unique()), on=\"gene_id\"\n",
    "    )[[\"centroid_75\", \"annotation_accessions\"]].value_counts()\n",
    "    / centroid75_num_members\n",
    ")\n",
    "plt.hist(c75_by_phage_votes)"
   ]
  },
  {
   "cell_type": "code",
   "execution_count": null,
   "metadata": {},
   "outputs": [],
   "source": [
    "c75_by_phage = c75_by_phage_votes[lambda x: x >= 0.5].reset_index()[\n",
    "    [\"centroid_75\", \"annotation_accessions\"]\n",
    "]\n",
    "c75_by_phage"
   ]
  },
  {
   "cell_type": "code",
   "execution_count": null,
   "metadata": {},
   "outputs": [],
   "source": [
    "c75_is_phage_list = c75_by_phage.centroid_75.unique()\n",
    "c75_is_phage_list"
   ]
  },
  {
   "cell_type": "markdown",
   "metadata": {},
   "source": [
    "### Plasmid Annotations"
   ]
  },
  {
   "cell_type": "code",
   "execution_count": null,
   "metadata": {},
   "outputs": [],
   "source": [
    "plasmid_annotations = pd.read_table(\n",
    "    gene_plasmid_inpath, index_col=\"centroid_99\"\n",
    ").rename_axis(\"gene_id\")"
   ]
  },
  {
   "cell_type": "code",
   "execution_count": null,
   "metadata": {},
   "outputs": [],
   "source": [
    "plasmid_annotations.shape"
   ]
  },
  {
   "cell_type": "code",
   "execution_count": null,
   "metadata": {},
   "outputs": [],
   "source": [
    "gene_by_plasmid = (\n",
    "    plasmid_annotations[lambda x: x.annotation_accessions != \".\"]\n",
    "    .annotation_accessions.str.split(\";\")\n",
    "    .explode()\n",
    "    .reset_index()\n",
    "    .drop_duplicates()\n",
    ")"
   ]
  },
  {
   "cell_type": "code",
   "execution_count": null,
   "metadata": {},
   "outputs": [],
   "source": [
    "gene_by_plasmid.shape"
   ]
  },
  {
   "cell_type": "code",
   "execution_count": null,
   "metadata": {},
   "outputs": [],
   "source": [
    "# Features annotated as plasmid genes that don't show up in gene_info.txt (seems to be because they're <200 bp)\n",
    "plasmid_annotations.loc[list(set(gene_by_plasmid.gene_id) - set(gene_family.index))]"
   ]
  },
  {
   "cell_type": "code",
   "execution_count": null,
   "metadata": {},
   "outputs": [],
   "source": [
    "c75_by_plasmid_votes = (\n",
    "    gene_by_plasmid.join(\n",
    "        gene_family.centroid_75.reindex(gene_by_plasmid.gene_id.unique()), on=\"gene_id\"\n",
    "    )[[\"centroid_75\", \"annotation_accessions\"]].value_counts()\n",
    "    / centroid75_num_members\n",
    ")\n",
    "plt.hist(c75_by_plasmid_votes, bins=100)\n",
    "None"
   ]
  },
  {
   "cell_type": "code",
   "execution_count": null,
   "metadata": {},
   "outputs": [],
   "source": [
    "c75_by_plasmid = c75_by_plasmid_votes[lambda x: x >= 0.5].reset_index()[\n",
    "    [\"centroid_75\", \"annotation_accessions\"]\n",
    "]\n",
    "c75_by_plasmid"
   ]
  },
  {
   "cell_type": "code",
   "execution_count": null,
   "metadata": {},
   "outputs": [],
   "source": [
    "c75_is_plasmid_list = c75_by_plasmid.centroid_75.unique()\n",
    "\n",
    "c75_is_plasmid_list, len(c75_is_plasmid_list)"
   ]
  },
  {
   "cell_type": "markdown",
   "metadata": {},
   "source": [
    "## Analyze Clusters"
   ]
  },
  {
   "cell_type": "code",
   "execution_count": null,
   "metadata": {},
   "outputs": [],
   "source": [
    "clust_size = c75_by_clust.cluster.value_counts()\n",
    "\n",
    "large_cluster_list = idxwhere(clust_size.drop([-1, -2, -3, -4]) >= 5)\n",
    "len(large_cluster_list)"
   ]
  },
  {
   "cell_type": "code",
   "execution_count": null,
   "metadata": {},
   "outputs": [],
   "source": [
    "clust_phage_info = (\n",
    "    c75_by_clust.assign(\n",
    "        is_phage=lambda x: x.centroid_75.isin(c75_is_phage_list),\n",
    "        is_amr=lambda x: x.centroid_75.isin(c75_is_amr_list),\n",
    "        is_plasmid=lambda x: x.centroid_75.isin(c75_is_plasmid_list),\n",
    "    )[[\"cluster\", \"is_phage\"]]\n",
    "    .value_counts()\n",
    "    .unstack(\"is_phage\", fill_value=0)\n",
    "    .rename(columns={True: \"count_phage_genes\", False: \"count_not_phage_genes\"})\n",
    "    .assign(frac_phage_genes=lambda x: x.count_phage_genes / x.sum(1))\n",
    "    .sort_values(\"frac_phage_genes\", ascending=False)\n",
    ")\n",
    "\n",
    "plt.hist(\n",
    "    clust_phage_info.loc[large_cluster_list].frac_phage_genes,\n",
    "    bins=np.linspace(1e-5, 1, num=20),\n",
    ")"
   ]
  },
  {
   "cell_type": "code",
   "execution_count": null,
   "metadata": {},
   "outputs": [],
   "source": [
    "clust_plasmid_info = (\n",
    "    c75_by_clust.assign(\n",
    "        is_phage=lambda x: x.centroid_75.isin(c75_is_phage_list),\n",
    "        is_amr=lambda x: x.centroid_75.isin(c75_is_amr_list),\n",
    "        is_plasmid=lambda x: x.centroid_75.isin(c75_is_plasmid_list),\n",
    "    )[[\"cluster\", \"is_plasmid\"]]\n",
    "    .value_counts()\n",
    "    .unstack(\"is_plasmid\", fill_value=0)\n",
    "    .rename(columns={True: \"count_plasmid_genes\", False: \"count_not_plasmid_genes\"})\n",
    "    .assign(frac_plasmid_genes=lambda x: x.count_plasmid_genes / x.sum(1))\n",
    "    .sort_values(\"frac_plasmid_genes\", ascending=False)\n",
    ")\n",
    "\n",
    "plt.hist(\n",
    "    clust_plasmid_info.loc[large_cluster_list].frac_plasmid_genes,\n",
    "    bins=np.linspace(1e-5, 1, num=20),\n",
    ")"
   ]
  },
  {
   "cell_type": "code",
   "execution_count": null,
   "metadata": {},
   "outputs": [],
   "source": [
    "clust_amr_info = (\n",
    "    c75_by_clust.assign(\n",
    "        is_phage=lambda x: x.centroid_75.isin(c75_is_phage_list),\n",
    "        is_amr=lambda x: x.centroid_75.isin(c75_is_amr_list),\n",
    "        is_plasmid=lambda x: x.centroid_75.isin(c75_is_plasmid_list),\n",
    "    )[[\"cluster\", \"is_amr\"]]\n",
    "    .value_counts()\n",
    "    .unstack(\"is_amr\", fill_value=0)\n",
    "    .rename(columns={True: \"count_amr_genes\", False: \"count_not_amr_genes\"})\n",
    "    .assign(frac_amr_genes=lambda x: x.count_amr_genes / x.sum(1))\n",
    "    .sort_values(\"frac_amr_genes\", ascending=False)\n",
    ")\n",
    "\n",
    "clust_amr_info"
   ]
  },
  {
   "cell_type": "code",
   "execution_count": null,
   "metadata": {},
   "outputs": [],
   "source": [
    "clust_amr_info.head(10)"
   ]
  },
  {
   "cell_type": "code",
   "execution_count": null,
   "metadata": {},
   "outputs": [],
   "source": [
    "clust_phage_info.loc[[198, 1855, 2199, 1925, 1868, 1869]]"
   ]
  },
  {
   "cell_type": "code",
   "execution_count": null,
   "metadata": {},
   "outputs": [],
   "source": [
    "clust_phage_info.join(clust_amr_info).join(clust_plasmid_info).assign(\n",
    "    clust_size=clust_size\n",
    ").sort_values(\"frac_amr_genes\", ascending=False).head(10)"
   ]
  },
  {
   "cell_type": "code",
   "execution_count": null,
   "metadata": {},
   "outputs": [],
   "source": [
    "d = (\n",
    "    clust_phage_info.join(clust_amr_info)\n",
    "    .join(clust_plasmid_info)\n",
    "    .assign(clust_size=clust_size)\n",
    ")\n",
    "plt.hist(d[d.clust_size >= 5].frac_plasmid_genes, bins=20)"
   ]
  },
  {
   "cell_type": "code",
   "execution_count": null,
   "metadata": {},
   "outputs": [],
   "source": [
    "d.sort_values(\"count_plasmid_genes\", ascending=False).head(20)"
   ]
  },
  {
   "cell_type": "code",
   "execution_count": null,
   "metadata": {},
   "outputs": [],
   "source": [
    "d.drop([-1, -2, -3, -4]).assign(singleton=lambda x: x.clust_size == 1).groupby(\n",
    "    \"singleton\"\n",
    ")[[\"count_not_plasmid_genes\", \"count_plasmid_genes\"]].sum()"
   ]
  },
  {
   "cell_type": "code",
   "execution_count": null,
   "metadata": {},
   "outputs": [],
   "source": [
    "morans_i = pd.read_table(\n",
    "    morans_inpath, names=[\"centroid_75\", \"stat\"], index_col=\"centroid_75\"\n",
    ").stat\n",
    "morans_i"
   ]
  },
  {
   "cell_type": "code",
   "execution_count": null,
   "metadata": {},
   "outputs": [],
   "source": [
    "plt.hist(morans_i.drop(c75_is_plasmid_list), bins=100)\n",
    "plt.hist(morans_i.loc[c75_is_plasmid_list], bins=100)\n",
    "plt.yscale(\"log\")\n",
    "None"
   ]
  },
  {
   "cell_type": "code",
   "execution_count": null,
   "metadata": {},
   "outputs": [],
   "source": [
    "d = c75_by_clust.set_index(\"centroid_75\")[lambda x: x.cluster >= 0].assign(\n",
    "    morans_i=morans_i,\n",
    "    is_phage=lambda x: x.index.isin(c75_is_phage_list),\n",
    "    is_amr=lambda x: x.index.isin(c75_is_amr_list),\n",
    "    is_plasmid=lambda x: x.index.isin(c75_is_plasmid_list),\n",
    ")\n",
    "\n",
    "d.sort_values(['morans_i', 'is_plasmid'], ascending=False).head(20)"
   ]
  },
  {
   "cell_type": "markdown",
   "metadata": {},
   "source": [
    "### Cluster 2894"
   ]
  },
  {
   "cell_type": "code",
   "execution_count": null,
   "metadata": {},
   "outputs": [],
   "source": [
    "clust_2894_gene_list = idxwhere(c75_by_clust.set_index('centroid_75').cluster == 2894)\n",
    "\n",
    "d.loc[clust_2894_gene_list]"
   ]
  },
  {
   "cell_type": "code",
   "execution_count": null,
   "metadata": {},
   "outputs": [],
   "source": [
    "from scipy.cluster.hierarchy import linkage\n",
    "from scipy.spatial.distance import squareform\n",
    "\n",
    "\n",
    "geno_dmat = lib.dissimilarity.load_dmat_as_pickle(pdist_inpath)\n",
    "geno_linkage = linkage(squareform(geno_dmat), optimal_ordering=True)\n",
    "strain_gene = pd.read_table(strain_gene_inpath, index_col='gene_id')"
   ]
  },
  {
   "cell_type": "code",
   "execution_count": null,
   "metadata": {},
   "outputs": [],
   "source": [
    "ref_strain_gene = pd.read_table(\"data/species/sp-102506/midasdb.gene75_v15.uhgg-strain_gene.tsv\", index_col='gene_id')"
   ]
  },
  {
   "cell_type": "code",
   "execution_count": null,
   "metadata": {},
   "outputs": [],
   "source": [
    "strain_geno_linkage = linkage(geno_dmat.loc[strain_gene.columns, strain_gene.columns], optimal_ordering=True)\n",
    "sns.clustermap(strain_gene.loc[clust_2894_gene_list], col_linkage=strain_geno_linkage)"
   ]
  },
  {
   "cell_type": "code",
   "execution_count": null,
   "metadata": {},
   "outputs": [],
   "source": [
    "sns.clustermap(pd.concat([ref_strain_gene.loc[clust_2894_gene_list], strain_gene.loc[clust_2894_gene_list]], axis=1), col_linkage=geno_linkage)"
   ]
  },
  {
   "cell_type": "code",
   "execution_count": null,
   "metadata": {},
   "outputs": [],
   "source": [
    "species = '102272'\n",
    "\n",
    "cog_category_inpath = f'data/species/sp-{species}/midasdb_v15.emapper.gene75_x_cog_category.tsv'\n",
    "eggnog_inpath = f'data/species/sp-{species}/midasdb_v15.emapper.gene75_x_eggnog.tsv'\n",
    "ko_inpath = f'data/species/sp-{species}/midasdb_v15.emapper.gene75_x_ko.tsv'\n",
    "amr_inpath = f'data/species/sp-{species}/midasdb_v15.gene75_x_amr.tsv'\n",
    "plasmid_inpath = f'data/species/sp-{species}/midasdb_v15.gene75_x_genomad_plasmid.tsv'\n",
    "phage_inpath = f'data/species/sp-{species}/midasdb_v15.gene75_x_genomad_virus.tsv'\n",
    "emapper_inpath = f'ref/midasdb_uhgg_v15/pangenomes/{species}/eggnog.tsv'\n",
    "clust_inpath = f'data/group/hmp2/species/sp-{species}/r.proc.gtpro.sfacts-fit.gene99_v15-v22-agg75.spgc-fit.uhgg-strain_gene.gene_clust-t10.tsv'\n",
    "gene_family_inpath = f'ref/midasdb_uhgg_v15/pangenomes/{species}/gene_info.txt'\n",
    "morans_i_inpath = f'data/group/hmp2/species/sp-{species}/r.proc.gtpro.sfacts-fit.gene99_v15-v22-agg75.spgc-fit.uhgg-strain_gene.morans_i.tsv'\n",
    "prevalence_inpath = f'data/group/hmp2/species/sp-{species}/r.proc.gtpro.sfacts-fit.gene99_v15-v22-agg75.spgc-fit.uhgg-strain_gene.prevalence.tsv'\n",
    "\n",
    "pdist_inpath = f'data/group/hmp2/species/sp-{species}/r.proc.gtpro.sfacts-fit.spgc_ss-all.geno_uhgg-v15_pdist-mask10-pseudo10.pkl'\n",
    "strain_gene_inpath = f\"data/group/hmp2/species/sp-{species}/r.proc.gtpro.sfacts-fit.gene99_v15-v22-agg75.spgc-fit.uhgg-strain_gene.tsv\""
   ]
  },
  {
   "cell_type": "code",
   "execution_count": null,
   "metadata": {},
   "outputs": [],
   "source": [
    "gene_family = pd.read_table(gene_family_inpath, index_col=\"gene_id\")"
   ]
  },
  {
   "cell_type": "code",
   "execution_count": null,
   "metadata": {},
   "outputs": [],
   "source": [
    "emapper_all = pd.read_table(emapper_inpath, index_col='#query').rename_axis('centroid_99')\n",
    "description = emapper_all.reindex(gene_family.centroid_75.unique()).dropna(subset=['seed_ortholog']).rename_axis('centroid_75')"
   ]
  },
  {
   "cell_type": "code",
   "execution_count": null,
   "metadata": {},
   "outputs": [],
   "source": [
    "phage = pd.read_table(phage_inpath)#.groupby('centroid_75')\n",
    "plasmid = pd.read_table(plasmid_inpath)\n",
    "amr = pd.read_table(amr_inpath)\n",
    "\n",
    "clust = pd.read_table(clust_inpath, names=['centroid_75', 'clust'], index_col='centroid_75').clust\n",
    "clust_size = clust.value_counts()\n",
    "clust = clust[lambda x: (x >= 0) & x.isin(idxwhere(clust_size > 1))]\n",
    "\n",
    "morans_i = pd.read_table(morans_i_inpath, names=['centroid_75', 'morans_i'], index_col='centroid_75').morans_i.dropna()\n",
    "prevalence = pd.read_table(prevalence_inpath, names=['centroid_75', 'prevalence'], index_col='centroid_75').prevalence"
   ]
  },
  {
   "cell_type": "code",
   "execution_count": null,
   "metadata": {},
   "outputs": [],
   "source": [
    "eggnog = pd.read_table(eggnog_inpath)\n",
    "cog_category = pd.read_table(cog_category_inpath)"
   ]
  },
  {
   "cell_type": "code",
   "execution_count": null,
   "metadata": {},
   "outputs": [],
   "source": [
    "from scipy.cluster.hierarchy import linkage\n",
    "from scipy.spatial.distance import squareform\n",
    "\n",
    "strain_gene = pd.read_table(strain_gene_inpath, index_col='gene_id')\n",
    "geno_dmat = lib.dissimilarity.load_dmat_as_pickle(pdist_inpath).loc[strain_gene.columns, strain_gene.columns]\n",
    "geno_linkage = linkage(squareform(geno_dmat), optimal_ordering=False)"
   ]
  },
  {
   "cell_type": "code",
   "execution_count": null,
   "metadata": {},
   "outputs": [],
   "source": [
    "plt.hist(morans_i, bins=100)\n",
    "None"
   ]
  },
  {
   "cell_type": "code",
   "execution_count": null,
   "metadata": {},
   "outputs": [],
   "source": [
    "d = description[['Preferred_name', 'Description']].reindex(gene_family.centroid_75.unique()).assign(morans_i=morans_i).assign(\n",
    "    cog_category=cog_category.groupby('centroid_75').cog_category.apply(''.join),\n",
    "    eggnog=eggnog.groupby('centroid_75').eggnog.apply(';'.join),\n",
    "    clust=clust,\n",
    "    csize=lambda x: x.clust.map(clust_size),\n",
    "    plasmid=plasmid.groupby('centroid_75').annotation_accessions.apply(';'.join),\n",
    "    phage=phage.groupby('centroid_75').annotation_accessions.apply(';'.join),\n",
    "    amr=amr.groupby('centroid_75').accession_no.apply(';'.join),\n",
    "    prevalence=prevalence,\n",
    ")\n",
    "\n",
    "d[lambda x: ~x.clust.isna() & (prevalence > 0.1) & (prevalence < 0.9)].sort_values('morans_i', ascending=False).head(100).tail(50)"
   ]
  },
  {
   "cell_type": "code",
   "execution_count": null,
   "metadata": {},
   "outputs": [],
   "source": [
    "d[lambda x: x.clust == 3669.0].sort_values('prevalence')"
   ]
  },
  {
   "cell_type": "code",
   "execution_count": null,
   "metadata": {},
   "outputs": [],
   "source": [
    "emapper_all[['contig_id', 'start', 'end', 'strand']].loc[['GUT_GENOME002517_01711', 'GUT_GENOME002517_01829', 'GUT_GENOME002517_01830', 'GUT_GENOME002517_01980']]"
   ]
  },
  {
   "cell_type": "code",
   "execution_count": null,
   "metadata": {},
   "outputs": [],
   "source": [
    "gene_family"
   ]
  },
  {
   "cell_type": "code",
   "execution_count": null,
   "metadata": {},
   "outputs": [],
   "source": [
    "gene_family[lambda x: x.centroid_75.isin(idxwhere(clust == 3669))].assign(\n",
    "    genome_id=lambda x: x.index.to_series().str.rsplit(\"_\", n=1).str[0]\n",
    ")[[\"genome_id\", \"centroid_75\"]].reset_index().groupby(\n",
    "    [\"genome_id\", \"centroid_75\"]\n",
    ").gene_id.apply(\n",
    "    \",\".join\n",
    ").unstack(\n",
    "    \"centroid_75\", fill_value=\"\"\n",
    ").T.sort_values(\n",
    "    \"GUT_GENOME005078\"\n",
    ")"
   ]
  },
  {
   "cell_type": "code",
   "execution_count": null,
   "metadata": {},
   "outputs": [],
   "source": [
    "sns.clustermap(strain_gene.loc[idxwhere(clust == 3669.0)], col_linkage=geno_linkage)"
   ]
  },
  {
   "cell_type": "code",
   "execution_count": null,
   "metadata": {},
   "outputs": [],
   "source": [
    "d = description[['Description', 'Preferred_name']].assign(\n",
    "    phage=phage.groupby('centroid_75').agg(';'.join),\n",
    "    plasmid=plasmid.groupby('centroid_75').agg(';'.join),\n",
    "    amr=amr.groupby('centroid_75').agg(';'.join),\n",
    "    clust=clust,\n",
    "    morans_i=morans_i,\n",
    "    prevalence=prevalence,\n",
    ")\n",
    "\n",
    "d.dropna(subset=['amr']).sort_values('prevalence', ascending=False).head(20)"
   ]
  },
  {
   "cell_type": "code",
   "execution_count": null,
   "metadata": {},
   "outputs": [],
   "source": [
    "geno_dmat"
   ]
  },
  {
   "cell_type": "code",
   "execution_count": null,
   "metadata": {},
   "outputs": [],
   "source": [
    "plt.hist(d.prevalence)\n",
    "plt.yscale('log')"
   ]
  },
  {
   "cell_type": "code",
   "execution_count": null,
   "metadata": {},
   "outputs": [],
   "source": [
    "spgc_gene_content_inpath = pd.read_table(f'data/group/hmp2/species/sp-{species}/r.proc.gtpro.sfacts-fit.gene99_v15-v22-agg75.spgc-fit.uhgg-strain_gene.tsv', index_col='gene_id')\n",
    "x = spgc_gene_content_inpath.loc[idxwhere(clust == 2443)]\n",
    "sns.clustermap(x)"
   ]
  },
  {
   "cell_type": "code",
   "execution_count": null,
   "metadata": {},
   "outputs": [],
   "source": [
    "d = gene_family[lambda x: x.centroid_75.isin(idxwhere(clust == 1925))].assign(genome_id=lambda x: x.index.to_series().str.split('_').str[1])[['genome_id', 'centroid_75']].value_counts().unstack('centroid_75', fill_value=0)\n",
    "\n",
    "sns.clustermap(d)"
   ]
  },
  {
   "cell_type": "code",
   "execution_count": null,
   "metadata": {},
   "outputs": [],
   "source": [
    "d.assign(is_plasmid=lambda x: ~x.plasmid.isna())[\n",
    "    [\"clust\", \"is_plasmid\"]\n",
    "].value_counts().unstack(\"is_plasmid\", fill_value=0).rename(\n",
    "    index=int, columns={True: \"count_plasmid\", False: \"count_not_plasmid\"}\n",
    ").sort_values(\n",
    "    \"count_plasmid\", ascending=False\n",
    ").head(\n",
    "    20\n",
    ")"
   ]
  },
  {
   "cell_type": "code",
   "execution_count": null,
   "metadata": {},
   "outputs": [],
   "source": [
    "d.loc[lambda x: x.clust == 4782]"
   ]
  },
  {
   "cell_type": "code",
   "execution_count": null,
   "metadata": {},
   "outputs": [],
   "source": [
    "x = 'morans_i'\n",
    "\n",
    "phage_x = d[~d.phage.isna()][x].dropna()\n",
    "plasmid_x = d[~d.plasmid.isna()][x].dropna()\n",
    "mobile_x = d[~d.phage.isna() | ~d.plasmid.isna()][x].dropna()\n",
    "not_mobile_x = d[d.phage.isna() & d.plasmid.isna()][x].dropna()\n",
    "\n",
    "bins = np.linspace(np.min(d[x]), np.max(d[x]), num=10)\n",
    "plt.hist(not_mobile_x, bins=bins, alpha=0.7, density=True)\n",
    "plt.hist(plasmid_x, bins=bins, alpha=0.5, density=True)\n",
    "plt.hist(phage_x, bins=bins, alpha=0.5, density=True)\n",
    "plt.yscale('log')\n",
    "sp.stats.mannwhitneyu(mobile_x, not_mobile_x)"
   ]
  },
  {
   "cell_type": "code",
   "execution_count": null,
   "metadata": {},
   "outputs": [],
   "source": [
    "plt.scatter('prevalence', 'morans_i', data=d.dropna(subset=['prevalence', 'morans_i']), s=1)"
   ]
  },
  {
   "cell_type": "code",
   "execution_count": null,
   "metadata": {},
   "outputs": [],
   "source": []
  }
 ],
 "metadata": {
  "kernelspec": {
   "display_name": "toolz4",
   "language": "python",
   "name": "toolz4"
  },
  "language_info": {
   "codemirror_mode": {
    "name": "ipython",
    "version": 3
   },
   "file_extension": ".py",
   "mimetype": "text/x-python",
   "name": "python",
   "nbconvert_exporter": "python",
   "pygments_lexer": "ipython3",
   "version": "3.10.13"
  }
 },
 "nbformat": 4,
 "nbformat_minor": 5
}