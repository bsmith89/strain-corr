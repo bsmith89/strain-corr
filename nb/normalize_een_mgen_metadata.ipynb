{
 "cells": [
  {
   "cell_type": "code",
   "execution_count": null,
   "metadata": {},
   "outputs": [],
   "source": [
    "%load_ext autoreload"
   ]
  },
  {
   "cell_type": "code",
   "execution_count": null,
   "metadata": {},
   "outputs": [],
   "source": [
    "import os as _os\n",
    "\n",
    "_os.chdir(_os.environ[\"PROJECT_ROOT\"])\n",
    "_os.path.realpath(_os.path.curdir)"
   ]
  },
  {
   "cell_type": "code",
   "execution_count": null,
   "metadata": {},
   "outputs": [],
   "source": [
    "import pandas as pd"
   ]
  },
  {
   "cell_type": "code",
   "execution_count": null,
   "metadata": {},
   "outputs": [],
   "source": [
    "input_path = \"/Users/bsmith/Downloads/\""
   ]
  },
  {
   "cell_type": "code",
   "execution_count": null,
   "metadata": {},
   "outputs": [],
   "source": [
    "rename_mgen_map = {\n",
    "    \"CF_094\": \"CF_94\",\n",
    "    \"CF_095\": \"CF_95\",\n",
    "    \"CF_096\": \"CF_96\",\n",
    "    \"CF_097\": \"CF_97\",\n",
    "    \"CF_098\": \"CF_98\",\n",
    "    \"CF_099\": \"CF_99\",\n",
    "    \"CF_001\": \"CF_1\",\n",
    "    \"CF_011\": \"CF_11\",\n",
    "    \"CF_015\": \"CF_15\",\n",
    "    \"CF_089\": \"CF_89\",\n",
    "}\n",
    "\n",
    "def rename_mgen(curr_name):\n",
    "    prefix, suffix = curr_name.split('_')\n",
    "    suffix = int(suffix)\n",
    "    normalized = f'{prefix}_{suffix:03d}'\n",
    "    if normalized in rename_mgen_map:\n",
    "        output = rename_mgen_map[normalized]\n",
    "    else:\n",
    "        output = normalized\n",
    "    return output"
   ]
  },
  {
   "cell_type": "code",
   "execution_count": null,
   "metadata": {},
   "outputs": [],
   "source": [
    "subject_meta = (\n",
    "    pd.read_csv(\n",
    "        \"raw/een-mgen/2023-07-28_Kolja.Siebert@med.uni-muenchen.de/1.0_Metadata_sharedwithByron_Shotgunmetagenomics_CRC1371Juli2023_datesfixed_sheet2.csv\",\n",
    "        parse_dates=False,\n",
    "    )\n",
    "    .rename(\n",
    "        columns={\n",
    "            \"Patient_ID\": \"subject_id\",\n",
    "            \"Start_date_EEN\": \"een_start_date\",\n",
    "            \"End_date_EEN\": \"een_end_date\",\n",
    "            \"Relapse1year\": \"endpoint_patient\",\n",
    "            \"Date_Relapse_Start\": \"relapse_start_date\",\n",
    "        }\n",
    "    )\n",
    "    .set_index(\"subject_id\")\n",
    "    # .assign(\n",
    "    #     relapse_start_date=lambda s: s.relapse_start_date.str.replace(\n",
    "    #         \".\", \"/\"\n",
    "    #     ),  # One relapse date was written with '.' separators instead of '/'\n",
    "    #     een_start_date=lambda s: s.een_start_date.str.replace(\n",
    "    #         \".\", \"/\"\n",
    "    #     ),  # One start date was written with '.' separators instead of '/'\n",
    "    # )\n",
    "    .assign(\n",
    "        een_start_date=lambda x: pd.to_datetime(x.een_start_date),\n",
    "        een_end_date=lambda x: pd.to_datetime(x.een_end_date),\n",
    "        relapse_start_date=lambda x: pd.to_datetime(x.relapse_start_date),\n",
    "        endpoint_patient=lambda x: x.endpoint_patient.fillna(\"no\"),\n",
    "    )\n",
    "    .assign(\n",
    "        een_start_date_relative_een_end=lambda x: (\n",
    "            x.een_start_date - x.een_end_date\n",
    "        ).dt.days,\n",
    "        relapse_start_date_relative_een_end=lambda x: (\n",
    "            x.relapse_start_date - x.een_end_date\n",
    "        ).dt.days,\n",
    "    )\n",
    ")\n",
    "\n",
    "assert subject_meta.index.is_unique\n",
    "\n",
    "subject_meta  # .apply(lambda x: x.value_counts().index.values)"
   ]
  },
  {
   "cell_type": "code",
   "execution_count": null,
   "metadata": {},
   "outputs": [],
   "source": [
    "# , names=[]\n",
    "\n",
    "microcosm_data = (\n",
    "    pd.read_csv(\n",
    "        \"raw/een-mgen/2023-07-28_Kolja.Siebert@med.uni-muenchen.de/1.0_Metadata_sharedwithByron_Shotgunmetagenomics_CRC1371Juli2023_datesfixed_sheet1.csv\",\n",
    "        skiprows=99,\n",
    "        usecols=range(6),\n",
    "        parse_dates=False,\n",
    "    )\n",
    "    .rename(\n",
    "        columns={\n",
    "            \"Unnamed: 0\": \"mgen_id\",\n",
    "            \"Unnamed: 1\": \"inoculum_subject_id\",\n",
    "            \"used inocculum\": \"inoculum_mgen_id\",\n",
    "            \"Unnamed: 3\": \"comments\",\n",
    "            \"diet\": \"subject_diet\",\n",
    "            \"Vessel\": \"replicate\",\n",
    "        }\n",
    "    )\n",
    "    .set_index(\"mgen_id\")\n",
    "    .assign(\n",
    "        comments=lambda x: x.comments.fillna(\"\"),\n",
    "    )\n",
    "    .rename(rename_mgen)\n",
    ")\n",
    "\n",
    "# Assertions\n",
    "microcosm_data  # .reset_index().apply(lambda x: x.value_counts().index.values)"
   ]
  },
  {
   "cell_type": "code",
   "execution_count": null,
   "metadata": {},
   "outputs": [],
   "source": [
    "stool_data = (\n",
    "    pd.read_csv(\n",
    "        \"raw/een-mgen/2023-07-28_Kolja.Siebert@med.uni-muenchen.de/1.0_Metadata_sharedwithByron_Shotgunmetagenomics_CRC1371Juli2023_datesfixed_sheet1.csv\",\n",
    "        nrows=98,\n",
    "        parse_dates=False,\n",
    "        usecols=range(8),\n",
    "    )\n",
    "    .rename(\n",
    "        columns={\n",
    "            \"Seq-Name\": \"mgen_id\",\n",
    "            \"Patient_ID\": \"subject_id\",\n",
    "            \"sampleDate\": \"collection_date\",\n",
    "            \"Group\": \"sample_group\",\n",
    "            \"Diet_PreEEN_EEN_PostEEN\": \"sample_type\",\n",
    "            \"pga\": \"patient_status_specific\",\n",
    "            \"active_inactive\": \"patient_status\",\n",
    "            \"HealingGroup\": \"endpoint_patient\",\n",
    "        }\n",
    "    )\n",
    "    .dropna(subset=[\"subject_id\"])\n",
    "    .set_index(\"mgen_id\")\n",
    "    .assign(collection_date=lambda x: pd.to_datetime(x.collection_date))\n",
    "    .join(subject_meta.een_end_date, on=\"subject_id\")\n",
    "    .assign(\n",
    "        collection_date_relative_een_end=lambda x: (\n",
    "            x.collection_date - x.een_end_date\n",
    "        ).dt.days\n",
    "    )\n",
    "    .rename(rename_mgen)\n",
    ")\n",
    "\n",
    "# Assertions\n",
    "assert stool_data.index.is_unique\n",
    "\n",
    "stool_data#.reset_index().apply(lambda x: x.value_counts().index.values)"
   ]
  },
  {
   "cell_type": "code",
   "execution_count": null,
   "metadata": {},
   "outputs": [],
   "source": [
    "subject_meta[['een_start_date', 'een_end_date', 'relapse_start_date']].to_csv('meta/een-mgen/subject_tocheck.csv')"
   ]
  },
  {
   "cell_type": "code",
   "execution_count": null,
   "metadata": {},
   "outputs": [],
   "source": [
    "stool_data[['collection_date', 'een_end_date']].to_csv('meta/een-mgen/sample_tocheck.csv')"
   ]
  },
  {
   "cell_type": "code",
   "execution_count": null,
   "metadata": {},
   "outputs": [],
   "source": [
    "stool_data.drop(columns=[\"collection_date\", \"een_end_date\"]).to_csv('meta/een-mgen/stool.tsv', sep='\\t')"
   ]
  },
  {
   "cell_type": "code",
   "execution_count": null,
   "metadata": {},
   "outputs": [],
   "source": [
    "subject_meta.drop(columns=['een_start_date', 'een_end_date', 'relapse_start_date']).to_csv('meta/een-mgen/subject.tsv', sep='\\t')"
   ]
  },
  {
   "cell_type": "code",
   "execution_count": null,
   "metadata": {},
   "outputs": [],
   "source": [
    "microcosm_data.to_csv('meta/een-mgen/microcosm.tsv', sep='\\t')"
   ]
  }
 ],
 "metadata": {
  "kernelspec": {
   "display_name": "toolz",
   "language": "python",
   "name": "toolz"
  },
  "language_info": {
   "codemirror_mode": {
    "name": "ipython",
    "version": 3
   },
   "file_extension": ".py",
   "mimetype": "text/x-python",
   "name": "python",
   "nbconvert_exporter": "python",
   "pygments_lexer": "ipython3",
   "version": "3.10.12"
  }
 },
 "nbformat": 4,
 "nbformat_minor": 5
}