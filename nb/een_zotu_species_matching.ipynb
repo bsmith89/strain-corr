{
 "cells": [
  {
   "cell_type": "markdown",
   "metadata": {},
   "source": [
    "## Preamble"
   ]
  },
  {
   "cell_type": "code",
   "execution_count": null,
   "metadata": {},
   "outputs": [],
   "source": [
    "%load_ext autoreload"
   ]
  },
  {
   "cell_type": "code",
   "execution_count": null,
   "metadata": {},
   "outputs": [],
   "source": [
    "import os as _os\n",
    "\n",
    "_os.chdir(_os.environ[\"PROJECT_ROOT\"])\n",
    "_os.path.realpath(_os.path.curdir)"
   ]
  },
  {
   "cell_type": "markdown",
   "metadata": {},
   "source": [
    "### Imports"
   ]
  },
  {
   "cell_type": "code",
   "execution_count": null,
   "metadata": {},
   "outputs": [],
   "source": [
    "import os\n",
    "import subprocess\n",
    "import time\n",
    "from itertools import chain, product\n",
    "from tempfile import mkstemp\n",
    "from warnings import filterwarnings\n",
    "\n",
    "import matplotlib as mpl\n",
    "import matplotlib.pyplot as plt\n",
    "import numpy as np\n",
    "import pandas as pd\n",
    "import scipy as sp\n",
    "import seaborn as sns\n",
    "import sfacts as sf\n",
    "import statsmodels.formula.api as smf\n",
    "import xarray as xr\n",
    "from mpl_toolkits.axes_grid1 import make_axes_locatable\n",
    "\n",
    "# from fastcluster import linkage\n",
    "from scipy.cluster.hierarchy import linkage\n",
    "from scipy.spatial.distance import pdist, squareform\n",
    "from statsmodels.graphics.regressionplots import influence_plot\n",
    "from statsmodels.stats.multitest import fdrcorrection\n",
    "from tqdm import tqdm\n",
    "\n",
    "import lib.plot\n",
    "import lib.thisproject.data\n",
    "from lib.pandas_util import align_indexes, aligned_index, idxwhere, invert_mapping"
   ]
  },
  {
   "cell_type": "code",
   "execution_count": null,
   "metadata": {},
   "outputs": [],
   "source": [
    "sns.set_context('notebook')\n",
    "plt.rcParams[\"figure.dpi\"] = 100"
   ]
  },
  {
   "cell_type": "code",
   "execution_count": null,
   "metadata": {},
   "outputs": [],
   "source": [
    "def _calculate_2tailed_pvalue_from_perm(obs, perms):\n",
    "    hypoth_left = perms > obs\n",
    "    hypoth_right = perms < obs\n",
    "    null_p_left = (hypoth_left.sum() + 1) / (len(hypoth_left) + 1)\n",
    "    null_p_right = (hypoth_right.sum() + 1) / (len(hypoth_right) + 1)\n",
    "    return np.minimum(null_p_left, null_p_right) * 2"
   ]
  },
  {
   "cell_type": "code",
   "execution_count": null,
   "metadata": {},
   "outputs": [],
   "source": [
    "def linkage_order(linkage, labels):\n",
    "    return labels[sp.cluster.hierarchy.to_tree(linkage).pre_order(lambda x: x.id)]\n",
    "\n",
    "\n",
    "def is_prime(n):\n",
    "    if n <= 1:\n",
    "        return False\n",
    "    for i in range(2, int(n**0.5) + 1):\n",
    "        if n % i == 0:\n",
    "            return False\n",
    "    return True\n",
    "\n",
    "\n",
    "def iterate_primes_up_to(n, return_index=False):\n",
    "    n = int(np.ceil(n))\n",
    "    idx = 0\n",
    "    for i in range(n):\n",
    "        if is_prime(i):\n",
    "            if return_index:\n",
    "                yield (idx, i)\n",
    "            else:\n",
    "                yield i\n",
    "            idx += 1\n",
    "\n",
    "\n",
    "def maximally_shuffled_order(sorted_order):\n",
    "    n = len(sorted_order)\n",
    "    primes_list = list(iterate_primes_up_to(np.sqrt(n)))\n",
    "    table = pd.DataFrame(np.arange(n), index=sorted_order, columns=[\"original_order\"])\n",
    "    for prime in primes_list:\n",
    "        table[prime] = table.original_order % prime\n",
    "    table.sort_values(primes_list).original_order.values\n",
    "    table = table.assign(new_order=table.sort_values(primes_list).original_order.values)\n",
    "    z = table.sort_values(\"new_order\").original_order.values\n",
    "    table[\"delta\"] = [np.nan] + list(z[1:] - z[:-1])\n",
    "    return table.sort_values(\"new_order\").index.to_list()"
   ]
  },
  {
   "cell_type": "code",
   "execution_count": null,
   "metadata": {},
   "outputs": [],
   "source": [
    "from sklearn.cross_decomposition import PLSCanonical, PLSRegression\n",
    "\n",
    "\n",
    "def cross_correlation(x, y, metric='correlation'):\n",
    "    cc = pd.DataFrame(\n",
    "        1\n",
    "        - sp.spatial.distance.cdist(\n",
    "            x, y, metric=metric\n",
    "        ),\n",
    "        index=x.index,\n",
    "        columns=y.index,\n",
    "    )\n",
    "    return cc\n",
    "\n",
    "def pls_pseudo_mapping(x, y, scale=False, tol=1e-7, **kwargs):\n",
    "    pls = PLSCanonical(n_components=min(*x.shape, *y.shape), scale=scale, tol=tol).fit(\n",
    "        x.T, y.T\n",
    "    )\n",
    "    pseudo_map = pd.DataFrame(\n",
    "        (pls.y_rotations_ @ pls.x_rotations_.T), index=y.index, columns=x.index\n",
    "    )\n",
    "    return pseudo_map.T\n",
    "\n",
    "def reciprocal_hits(x, y, cc_func=lambda x, y: cross_correlation(x, y, metric='correlation'), alpha=1, rank_thresh=1, corr_thresh=0.0):\n",
    "    x, y = align_indexes(x, y)\n",
    "    \n",
    "    cc = cc_func(x.T, y.T)\n",
    "    \n",
    "    cols = cc.columns\n",
    "    idxs = cc.index\n",
    "\n",
    "    x_weight = (x.mean().loc[idxs]) ** alpha\n",
    "    y_weight = (y.mean().loc[cols]) ** alpha\n",
    "    score = cc.multiply(x_weight, axis=0).multiply(y_weight, axis=1)\n",
    "    \n",
    "    cols_rank = score.rank(1, ascending=False)\n",
    "    idxs_rank = score.rank(0, ascending=False)\n",
    "\n",
    "    result = (cols_rank * idxs_rank).stack().to_frame('rank_product').assign(corr=cc.stack(), score=score.stack())[lambda x: (x.rank_product <= rank_thresh) & (x['corr'] >= corr_thresh)]\n",
    "    \n",
    "    return result"
   ]
  },
  {
   "cell_type": "code",
   "execution_count": null,
   "metadata": {},
   "outputs": [],
   "source": []
  },
  {
   "cell_type": "markdown",
   "metadata": {},
   "source": [
    "## Construct Metadata"
   ]
  },
  {
   "cell_type": "raw",
   "metadata": {},
   "source": [
    "# NOTE: If I decide that it's the filenames that are wrong, then I need to swap labels in the metagenomic results (including sfacts worlds and\n",
    "# species relative abundances).\n",
    "\n",
    "SAMPLE_SWAP_CORRECTION = {\n",
    "    # CF_667 through CF_672 should actually be labeled CF_531 - CF_537\n",
    "    'CF_667': 'CF_531',\n",
    "    'CF_668': 'CF_532',\n",
    "    'CF_669': 'CF_533',\n",
    "    'CF_670': 'CF_534',\n",
    "    'CF_671': 'CF_535',\n",
    "    'CF_672': 'CF_536',\n",
    "\n",
    "    # CF_11 <-> CF_15\n",
    "    'CF_11': 'CF_15',\n",
    "    'CF_15': 'CF_11',\n",
    "\n",
    "    # Some/half of the newly shared samples\n",
    "    CF_379\n",
    "    CF_380\n",
    "    CF_381\n",
    "    CF_384\n",
    "    CF_385\n",
    "    CF_386\n",
    "    CF_426\n",
    "    CF_427\n",
    "    CF_428\n",
    "    CF_429\n",
    "    CF_430\n",
    "    CF_431\n",
    "    CF_395\n",
    "    CF_397\n",
    "    CF_402\n",
    "    CF_406\n",
    "    CF_409\n",
    "}"
   ]
  },
  {
   "cell_type": "code",
   "execution_count": null,
   "metadata": {},
   "outputs": [],
   "source": [
    "pair_type_palette={'Transition': 'plum', 'EEN': 'pink', 'PostEEN': 'lightblue'}\n",
    "\n",
    "diet_palette = {\n",
    "    \"EEN\": \"lightgreen\",\n",
    "    \"PostEEN\": \"lightblue\",\n",
    "    \"InVitro\": \"plum\",\n",
    "    \"PreEEN\": \"lightpink\",\n",
    "}\n",
    "\n",
    "subject_order = [\n",
    "    \"A\",\n",
    "    \"B\",\n",
    "    \"H\",\n",
    "    \"C\",\n",
    "    \"D\",\n",
    "    \"E\",\n",
    "    \"F\",\n",
    "    \"G\",\n",
    "    \"K\",\n",
    "    \"L\",\n",
    "    \"M\",\n",
    "    \"N\",\n",
    "    \"O\",\n",
    "    \"P\",\n",
    "    \"Q\",\n",
    "    \"R\",\n",
    "    \"S\",\n",
    "    \"T\",\n",
    "    \"U\",\n",
    "]\n",
    "\n",
    "# NOTE: Requires a dummy value because I want exactly 20 items.\n",
    "subject_palette = lib.plot.construct_ordered_palette(\n",
    "    subject_order + [f\"dummy{i}\" for i in range(20 - len(subject_order))], cm=\"tab20\"\n",
    ")\n",
    "subject_palette[\"X\"] = \"black\"\n",
    "pair_type_order = [\"EEN\", \"Transition\", \"PostEEN\"]\n",
    "pair_type_marker_palette = {\"EEN\": \"s\", \"Transition\": \">\", \"PostEEN\": \"o\"}\n",
    "pair_type_linestyle_palette = {\"EEN\": \":\", \"Transition\": \"-.\", \"PostEEN\": \"-\"}"
   ]
  },
  {
   "cell_type": "code",
   "execution_count": null,
   "metadata": {},
   "outputs": [],
   "source": [
    "sample = (\n",
    "    pd.read_table(\"meta/een-mgen/sample.tsv\")\n",
    "    .assign(\n",
    "        label=lambda x: x[\n",
    "            [\"collection_date_relative_een_end\", \"diet_or_media\", \"sample_id\"]\n",
    "        ].apply(tuple, axis=1)\n",
    "    )\n",
    "    .set_index(\"sample_id\")\n",
    ")\n",
    "subject = pd.read_table(\"meta/een-mgen/subject.tsv\", index_col=\"subject_id\")"
   ]
  },
  {
   "cell_type": "code",
   "execution_count": null,
   "metadata": {},
   "outputs": [],
   "source": [
    "rotu_counts = pd.read_table(\n",
    "    \"data/group/een/a.proc.zotu_counts.tsv\", index_col=\"#OTU ID\"\n",
    ").rename_axis(index=\"zotu\", columns=\"sample_id\")\n",
    "rotu_taxonomy0 = rotu_counts.taxonomy\n",
    "rotu_counts = rotu_counts.drop(columns=[\"taxonomy\"]).T\n",
    "rotu_rabund = rotu_counts.divide(rotu_counts.sum(1), axis=0)\n",
    "\n",
    "sample_rotu_bc_linkage = sp.cluster.hierarchy.linkage(\n",
    "    rotu_rabund, method=\"average\", metric=\"braycurtis\", optimal_ordering=True\n",
    ")"
   ]
  },
  {
   "cell_type": "code",
   "execution_count": null,
   "metadata": {},
   "outputs": [],
   "source": [
    "rotu_taxonomy = rotu_taxonomy0.str.split(';').apply(lambda x: pd.Series(x, index=['d__', 'p__', 'c__', 'o__', 'f__', 'g__', 's__']))"
   ]
  },
  {
   "cell_type": "code",
   "execution_count": null,
   "metadata": {},
   "outputs": [],
   "source": [
    "missing_samples = sorted(idxwhere(~rotu_counts.index.to_series().isin(sample.index)))\n",
    "print(len(missing_samples), \", \".join(missing_samples))"
   ]
  },
  {
   "cell_type": "code",
   "execution_count": null,
   "metadata": {},
   "outputs": [],
   "source": [
    "x = rotu_rabund\n",
    "row_colors = pd.DataFrame(\n",
    "    dict(\n",
    "        subj=sample.subject_id.map(subject_palette),\n",
    "        swap=sample.index.to_series()\n",
    "        .isin([\"CF_11\", \"CF_15\"])\n",
    "        .replace({False: \"grey\", True: \"black\"}),\n",
    "    )\n",
    ")\n",
    "row_linkage = sample_rotu_bc_linkage\n",
    "\n",
    "sns.clustermap(\n",
    "    rotu_rabund,\n",
    "    norm=mpl.colors.PowerNorm(1 / 5),\n",
    "    row_colors=row_colors,\n",
    "    row_linkage=row_linkage,\n",
    ")"
   ]
  },
  {
   "cell_type": "code",
   "execution_count": null,
   "metadata": {},
   "outputs": [],
   "source": [
    "pd.read_table(\n",
    "    \"data/group/een/r.proc.gtpro.species_depth.tsv\")"
   ]
  },
  {
   "cell_type": "code",
   "execution_count": null,
   "metadata": {},
   "outputs": [],
   "source": [
    "gtpro_depth = (pd.read_table(\n",
    "    \"data/group/een/r.proc.gtpro.species_depth.tsv\",\n",
    "    index_col=['sample', \"species_id\"],\n",
    "    )\n",
    "    .depth.unstack(fill_value=0)\n",
    "    .rename(columns=str, index=lambda x: \"CF_\" + str(int(x.split(\"_\")[1])))\n",
    "    .rename({'CF_15': 'CF_11', 'CF_11': 'CF_15'})  # Sample swap\n",
    ")\n",
    "gtpro_rabund = gtpro_depth.divide(gtpro_depth.sum(1), axis=0)\n",
    "\n",
    "gtpro_rabund"
   ]
  },
  {
   "cell_type": "code",
   "execution_count": null,
   "metadata": {},
   "outputs": [],
   "source": [
    "motu_depth = (pd.read_table(\n",
    "    \"data/group/een/r.proc.gene99_new-v22-agg75.spgc_specgene-ref-t25-p95.species_depth.tsv\",\n",
    "    names=['sample', \"species_id\", 'depth'], index_col=['sample', \"species_id\"],\n",
    "    )\n",
    "    .depth.unstack(fill_value=0)\n",
    "    .rename(columns=str, index=lambda x: \"CF_\" + str(int(x.split(\"_\")[1])))\n",
    "    .rename({'CF_15': 'CF_11', 'CF_11': 'CF_15'})  # Sample swap\n",
    ")\n",
    "motu_rabund = motu_depth.divide(motu_depth.sum(1), axis=0)\n",
    "\n",
    "motu_rabund"
   ]
  },
  {
   "cell_type": "code",
   "execution_count": null,
   "metadata": {},
   "outputs": [],
   "source": [
    "x, y = align_indexes(motu_rabund, rotu_rabund)\n",
    "\n",
    "\n",
    "x_linkage = linkage(x, method=\"average\", metric=\"braycurtis\", optimal_ordering=True)\n",
    "y_linkage = linkage(y, method=\"average\", metric=\"braycurtis\", optimal_ordering=True)\n",
    "colors = pd.DataFrame(\n",
    "    dict(\n",
    "        subj=sample.subject_id.map(subject_palette),\n",
    "        swap=sample.index.to_series()\n",
    "        .isin([\"CF_11\", \"CF_15\"])\n",
    "        .replace({False: \"grey\", True: \"black\"}),\n",
    "    )\n",
    ")\n",
    "\n",
    "x_pdist = pd.DataFrame(\n",
    "    squareform(pdist(x, metric=\"braycurtis\")), index=x.index, columns=x.index\n",
    ")\n",
    "sns.clustermap(\n",
    "    x_pdist,\n",
    "    row_linkage=y_linkage,\n",
    "    col_linkage=x_linkage,\n",
    "    row_colors=colors,\n",
    "    col_colors=colors,\n",
    ")"
   ]
  },
  {
   "cell_type": "code",
   "execution_count": null,
   "metadata": {},
   "outputs": [],
   "source": [
    "x, y = align_indexes(motu_rabund, gtpro_rabund)\n",
    "\n",
    "\n",
    "x_linkage = linkage(x, method=\"average\", metric=\"braycurtis\", optimal_ordering=True)\n",
    "y_linkage = linkage(y, method=\"average\", metric=\"braycurtis\", optimal_ordering=True)\n",
    "colors = pd.DataFrame(\n",
    "    dict(\n",
    "        subj=sample.subject_id.map(subject_palette),\n",
    "        swap=sample.index.to_series()\n",
    "        .isin([\"CF_11\", \"CF_15\"])\n",
    "        .replace({False: \"grey\", True: \"black\"}),\n",
    "    )\n",
    ")\n",
    "\n",
    "x_pdist = pd.DataFrame(\n",
    "    squareform(pdist(x, metric=\"braycurtis\")), index=x.index, columns=x.index\n",
    ")\n",
    "sns.clustermap(\n",
    "    x_pdist,\n",
    "    row_linkage=y_linkage,\n",
    "    col_linkage=x_linkage,\n",
    "    row_colors=colors,\n",
    "    col_colors=colors,\n",
    ")"
   ]
  },
  {
   "cell_type": "code",
   "execution_count": null,
   "metadata": {},
   "outputs": [],
   "source": [
    "bins = np.linspace(0, 30_000, num=200)\n",
    "\n",
    "fig, axs = plt.subplots(2, sharex=True)\n",
    "\n",
    "for (title, x), ax in zip(\n",
    "    dict(\n",
    "        total_depth_by_sample=motu_depth.sum(1),\n",
    "        total_depth_by_species=motu_depth.sum(0),\n",
    "    ).items(),\n",
    "    axs.flatten(),\n",
    "):\n",
    "    ax.hist(x, bins=np.logspace(-1, 5, num=100))\n",
    "    ax.set_title(title)\n",
    "    ax.set_xscale(\"log\")\n",
    "fig.tight_layout()"
   ]
  },
  {
   "cell_type": "code",
   "execution_count": null,
   "metadata": {},
   "outputs": [],
   "source": [
    "motu_rabund.mean().sort_values(ascending=False).head(20)"
   ]
  },
  {
   "cell_type": "code",
   "execution_count": null,
   "metadata": {},
   "outputs": [],
   "source": [
    "n_species = 10\n",
    "top_motus = (\n",
    "    (motu_rabund > 1e-5).sum().sort_values(ascending=False).head(n_species).index\n",
    ")\n",
    "\n",
    "fig, axs = plt.subplots(\n",
    "    n_species, figsize=(5, 0.3 * n_species), sharex=True, sharey=True\n",
    ")\n",
    "\n",
    "bins = np.logspace(-8, 1, num=51)\n",
    "\n",
    "for species_id, ax in zip(top_motus, axs):\n",
    "    # ax.hist(rabund_subset[species_id], bins=bins, alpha=0.7)\n",
    "    ax.hist(motu_rabund[species_id], bins=bins, alpha=0.7)\n",
    "    ax.set_xscale(\"log\")\n",
    "    prevalence = (motu_rabund[species_id] > 1e-5).mean()\n",
    "    ax.set_title(\"\")\n",
    "    # ax.set_xticks()\n",
    "    # ax.set_yticks()\n",
    "    ax.yaxis.set_visible(False)\n",
    "    ax.xaxis.set_visible(False)\n",
    "    ax.patch.set_alpha(0.0)\n",
    "    for spine in [\"left\", \"right\", \"top\", \"bottom\"]:\n",
    "        ax.spines[spine].set_visible(False)\n",
    "    ax.annotate(\n",
    "        f\"{species_id} ({prevalence:0.0%})\",\n",
    "        xy=(0.05, 0.1),\n",
    "        ha=\"left\",\n",
    "        xycoords=\"axes fraction\",\n",
    "    )\n",
    "    ax.set_xlim(left=1e-9)\n",
    "    ax.set_ylim(top=20)\n",
    "    ax.axvline(1e-5, lw=1, linestyle=\":\", color=\"k\")\n",
    "\n",
    "ax.xaxis.set_visible(True)\n",
    "ax.spines[\"bottom\"].set_visible(True)\n",
    "ax.set_xticks([1e-4, 1e-2, 1e-0])\n",
    "ax.set_xticklabels([\"0.01%\", \"1%\", \"100%\"])\n",
    "ax.set_xlabel(\"Relative Abundance\")\n",
    "\n",
    "# fig.subplots_adjust(hspace=-0.75)"
   ]
  },
  {
   "cell_type": "raw",
   "metadata": {},
   "source": [
    "motu_taxonomy = lib.thisproject.data.load_species_taxonomy(\n",
    "    \"ref/gtpro/species_taxonomy_ext.tsv\"\n",
    ")\n",
    "# motu_taxonomy.loc[\"102506\", \"s__\"] = \"s__Escherichia coli\""
   ]
  },
  {
   "cell_type": "code",
   "execution_count": null,
   "metadata": {},
   "outputs": [],
   "source": [
    "def parse_taxonomy_string(taxonomy_string):\n",
    "    values = taxonomy_string.split(\";\")\n",
    "    return pd.Series(values, index=[\"d__\", \"p__\", \"c__\", \"o__\", \"f__\", \"g__\", \"s__\"])"
   ]
  },
  {
   "cell_type": "code",
   "execution_count": null,
   "metadata": {},
   "outputs": [],
   "source": [
    "motu_taxonomy_inpath = \"ref/uhgg_genomes_all_v2.tsv\"\n",
    "\n",
    "_motu_taxonomy = (\n",
    "    pd.read_table(motu_taxonomy_inpath)[lambda x: x.Genome == x.Species_rep]\n",
    "    .assign(species_id=lambda x: \"1\" + x.MGnify_accession.str.split(\"-\").str[2])\n",
    "    .set_index(\"species_id\")\n",
    ")\n",
    "\n",
    "# motu_lineage_string = _motu_taxonomy.Lineage\n",
    "\n",
    "motu_taxonomy = _motu_taxonomy.Lineage.apply(\n",
    "    parse_taxonomy_string\n",
    ")  # .assign(taxonomy_string=motu_lineage_string)\n",
    "motu_taxonomy"
   ]
  },
  {
   "cell_type": "code",
   "execution_count": null,
   "metadata": {},
   "outputs": [],
   "source": [
    "for _species_id in top_motus.astype(str):\n",
    "    print(_species_id, \":\", \";\".join(motu_taxonomy.loc[_species_id].values))"
   ]
  },
  {
   "cell_type": "markdown",
   "metadata": {},
   "source": [
    "## Statistical Linkage Between zOTUs and GT-Pro Species"
   ]
  },
  {
   "cell_type": "markdown",
   "metadata": {},
   "source": [
    "### \"Enterobacteriaceae\""
   ]
  },
  {
   "cell_type": "code",
   "execution_count": null,
   "metadata": {},
   "outputs": [],
   "source": [
    "focal_family_list = [\"Enterobacteriaceae\"]\n",
    "# rotu_taxonomy0.loc[focal_zotu].str.split(\";\").str[-3].unique()\n",
    "assert len(focal_family_list) == 1\n",
    "focal_family = focal_family_list[0]"
   ]
  },
  {
   "cell_type": "code",
   "execution_count": null,
   "metadata": {},
   "outputs": [],
   "source": [
    "x_taxa = idxwhere(rotu_taxonomy0.str.contains(f\";{focal_family};\"))\n",
    "y_taxa = idxwhere(\n",
    "    motu_taxonomy.apply(lambda x: \";\".join(x), axis=1).str.contains(\n",
    "        f\"f__{focal_family};\"\n",
    "    )\n",
    "    & motu_taxonomy.index.to_series().isin(motu_rabund.columns)\n",
    ")"
   ]
  },
  {
   "cell_type": "code",
   "execution_count": null,
   "metadata": {},
   "outputs": [],
   "source": [
    "rotu_taxonomy0.loc[x_taxa].reset_index().values"
   ]
  },
  {
   "cell_type": "code",
   "execution_count": null,
   "metadata": {},
   "outputs": [],
   "source": [
    "motu_taxonomy.loc[y_taxa]"
   ]
  },
  {
   "cell_type": "code",
   "execution_count": null,
   "metadata": {},
   "outputs": [],
   "source": [
    "from sklearn.cross_decomposition import PLSCanonical, PLSRegression\n",
    "\n",
    "x, y = align_indexes(rotu_rabund[x_taxa], motu_rabund[y_taxa])\n",
    "pls = PLSCanonical(n_components=min(*x.shape, *y.shape), scale=False, tol=1e-7).fit(\n",
    "    x, y\n",
    ")"
   ]
  },
  {
   "cell_type": "code",
   "execution_count": null,
   "metadata": {},
   "outputs": [],
   "source": [
    "pseudo_map = pd.DataFrame(\n",
    "    (pls.y_rotations_ @ pls.x_rotations_.T), index=y.columns, columns=x.columns\n",
    ")\n",
    "pseudo_map.shape"
   ]
  },
  {
   "cell_type": "code",
   "execution_count": null,
   "metadata": {},
   "outputs": [],
   "source": [
    "plt.hist(pseudo_map.values.flatten(), bins=1000)\n",
    "plt.yscale(\"log\")\n",
    "None"
   ]
  },
  {
   "cell_type": "code",
   "execution_count": null,
   "metadata": {},
   "outputs": [],
   "source": [
    "cross_correlation = pd.DataFrame(\n",
    "    1\n",
    "    - sp.spatial.distance.cdist(\n",
    "        x.T, y.T, metric=lambda x, y: 1 - sp.stats.pearsonr(x, y)[0]\n",
    "    ),\n",
    "    columns=y.columns,\n",
    "    index=x.columns,\n",
    ")"
   ]
  },
  {
   "cell_type": "code",
   "execution_count": null,
   "metadata": {},
   "outputs": [],
   "source": [
    "sns.clustermap(\n",
    "    pseudo_map.fillna(0).T, center=0, figsize=(5, 5), xticklabels=1, yticklabels=1,\n",
    ")\n",
    "sns.clustermap(\n",
    "    cross_correlation.fillna(0), center=0, figsize=(5, 5), xticklabels=1, yticklabels=1\n",
    ")"
   ]
  },
  {
   "cell_type": "code",
   "execution_count": null,
   "metadata": {},
   "outputs": [],
   "source": [
    "d = pd.DataFrame(\n",
    "    dict(\n",
    "        pls=pseudo_map.stack(),\n",
    "        cc=cross_correlation.T.stack(),\n",
    "        pls_rank_A=pseudo_map.rank(axis=0, ascending=False).stack(),\n",
    "        pls_rank_B=pseudo_map.rank(axis=1, ascending=False).stack(),\n",
    "        cc_rank_A=cross_correlation.T.rank(axis=0, ascending=False).stack(),\n",
    "        cc_rank_B=cross_correlation.T.rank(axis=1, ascending=False).stack(),\n",
    "    )\n",
    ").join(motu_rabund.mean().rename(\"motu_mean\")).join(rotu_rabund.mean().rename(\"rotu_mean\"))"
   ]
  },
  {
   "cell_type": "code",
   "execution_count": null,
   "metadata": {},
   "outputs": [],
   "source": [
    "# Reciprocal best hits\n",
    "\n",
    "motu_list = cross_correlation.columns\n",
    "zotu_list = cross_correlation.index\n",
    "\n",
    "motu_rank = cross_correlation.multiply(motu_rabund.mean().loc[motu_list], axis=1).rank(1, ascending=False)\n",
    "zotu_rank = cross_correlation.multiply(rotu_rabund.mean().loc[zotu_list], axis=0).rank(0, ascending=False)\n",
    "\n",
    "(motu_rank * zotu_rank).unstack()[lambda x: x==1]"
   ]
  },
  {
   "cell_type": "code",
   "execution_count": null,
   "metadata": {},
   "outputs": [],
   "source": [
    "z, m = ('Zotu4', '102506')\n",
    "\n",
    "plt.scatter('x', 'y', data=pd.DataFrame(dict(x=rotu_rabund[z], y=motu_rabund[m])).dropna())\n",
    "cross_correlation.loc[z, m]"
   ]
  },
  {
   "cell_type": "code",
   "execution_count": null,
   "metadata": {},
   "outputs": [],
   "source": [
    "reciprocal_hits(\n",
    "    motu_rabund[y_taxa],\n",
    "    rotu_rabund[x_taxa],\n",
    "    metric='correlation',\n",
    "    # corr_func=sp.stats.pearsonr,\n",
    ")"
   ]
  },
  {
   "cell_type": "code",
   "execution_count": null,
   "metadata": {},
   "outputs": [],
   "source": [
    "focal_family_list = [\"Enterobacteriaceae\"]\n",
    "# rotu_taxonomy.loc[focal_zotu].str.split(\";\").str[-3].unique()\n",
    "assert len(focal_family_list) == 1\n",
    "focal_family = focal_family_list[0]"
   ]
  },
  {
   "cell_type": "code",
   "execution_count": null,
   "metadata": {},
   "outputs": [],
   "source": [
    "x_taxa = idxwhere(rotu_taxonomy0.str.contains(f\";{focal_family};\"))\n",
    "y_taxa = idxwhere(\n",
    "    motu_taxonomy.apply(lambda x: \";\".join(x), axis=1).str.contains(\n",
    "        f\"f__{focal_family};\"\n",
    "    )\n",
    "    & motu_taxonomy.index.to_series().isin(motu_rabund.columns)\n",
    ")"
   ]
  },
  {
   "cell_type": "markdown",
   "metadata": {},
   "source": [
    "#### Zotu4"
   ]
  },
  {
   "cell_type": "raw",
   "metadata": {},
   "source": [
    "d2 = d.join(motu_rabund.sum().rename(\"motu_mean\")).join(rotu_rabund.sum().rename(\"rotu_mean\")).assign(motu_pls_score=lambda x: x.motu_mean * x.pls, rotu_pls_score=lambda x: x.rotu_mean * x.pls)\n",
    "\n",
    "rotu_pls_score = d2.rotu_pls_score.unstack()\n",
    "motu_pls_score = d2.motu_pls_score.unstack()\n",
    "\n",
    "sns.heatmap(rotu_pls_score * motu_pls_score, norm=mpl.colors.PowerNorm(1/5))"
   ]
  },
  {
   "cell_type": "raw",
   "metadata": {},
   "source": [
    "d.join(motu_rabund.sum().rename(\"motu_mean\")).join(rotu_rabund.sum().rename(\"rotu_mean\")).assign(motu_pls_score=lambda x: x.motu_mean * x.pls, rotu_pls_score=lambda x: x.rotu_mean * x.pls).motu_pls_score.unstack()"
   ]
  },
  {
   "cell_type": "code",
   "execution_count": null,
   "metadata": {},
   "outputs": [],
   "source": [
    "focal_zotu = \"Zotu4\"\n",
    "\n",
    "_selection_data = (\n",
    "    d.reorder_levels([\"zotu\", \"species_id\"])\n",
    "    .loc[[focal_zotu]]\n",
    "    .join(rotu_rabund[x_taxa].mean().rename(\"rotu_mean\"))\n",
    "    .join(motu_rabund[y_taxa].mean().rename(\"motu_mean\"))\n",
    "    .assign(pls_score=lambda x: x.pls * x.rotu_mean * x.motu_mean)\n",
    "    .sort_values(\"pls_score\", ascending=False)\n",
    "    .head(10)\n",
    "    .join(motu_taxonomy.s__)\n",
    ")\n",
    "\n",
    "_selection_data"
   ]
  },
  {
   "cell_type": "code",
   "execution_count": null,
   "metadata": {},
   "outputs": [],
   "source": [
    "d.assign(score=lambda x: np.log10(x.pls * x.motu_mean * x.rotu_mean)).score.groupby(level='zotu').apply(lambda x: {'max_score': x.max(), 'motu': x.idxmax()[0]}).unstack().sort_values('max_score', ascending=False)"
   ]
  },
  {
   "cell_type": "code",
   "execution_count": null,
   "metadata": {},
   "outputs": [],
   "source": [
    "focal_motu = _selection_data.pls_score.idxmax()[1]\n",
    "focal_motu"
   ]
  },
  {
   "cell_type": "code",
   "execution_count": null,
   "metadata": {},
   "outputs": [],
   "source": [
    "plt.scatter(x[focal_zotu], y[focal_motu])\n",
    "print(sp.stats.pearsonr(x[focal_zotu], y[focal_motu]))\n",
    "plt.plot([0, 0.5], [0, 0.5])"
   ]
  },
  {
   "cell_type": "markdown",
   "metadata": {},
   "source": [
    "#### 102351"
   ]
  },
  {
   "cell_type": "code",
   "execution_count": null,
   "metadata": {},
   "outputs": [],
   "source": [
    "focal_motu = '102351'\n",
    "\n",
    "(\n",
    "    d.reorder_levels([\"species_id\", \"zotu\"])\n",
    "    .join(rotu_rabund[x_taxa].mean().rename(\"rotu_mean\"))\n",
    "    .join(motu_rabund[y_taxa].mean().rename(\"motu_mean\"))\n",
    "    .assign(pls_score=lambda x: x.pls * x.rotu_mean * x.motu_mean)\n",
    "    .sort_values(\"pls_score\", ascending=False)\n",
    "    .join(rotu_taxonomy0.str[-20:])\n",
    "    .loc[focal_motu]\n",
    ")"
   ]
  },
  {
   "cell_type": "markdown",
   "metadata": {},
   "source": [
    "### \"Eggerthellaceae\" (Zotu172)"
   ]
  },
  {
   "cell_type": "code",
   "execution_count": null,
   "metadata": {},
   "outputs": [],
   "source": [
    "focal_zotu = [\"Zotu172\"]\n",
    "focal_family_list = rotu_taxonomy0.loc[focal_zotu].str.split(\";\").str[-3].unique()\n",
    "assert len(focal_family_list) == 1\n",
    "focal_family = focal_family_list[0]\n",
    "print(focal_family)"
   ]
  },
  {
   "cell_type": "code",
   "execution_count": null,
   "metadata": {},
   "outputs": [],
   "source": [
    "x_taxa = idxwhere(rotu_taxonomy0.str.contains(f\";{focal_family};\"))\n",
    "y_taxa = idxwhere(\n",
    "    motu_taxonomy.apply(lambda x: \";\".join(x), axis=1).str.contains(\n",
    "        f\"f__{focal_family};\"\n",
    "    )\n",
    "    & motu_taxonomy.index.to_series().isin(motu_rabund.columns)\n",
    ")"
   ]
  },
  {
   "cell_type": "code",
   "execution_count": null,
   "metadata": {},
   "outputs": [],
   "source": [
    "rotu_taxonomy0.loc[x_taxa].reset_index().values"
   ]
  },
  {
   "cell_type": "code",
   "execution_count": null,
   "metadata": {},
   "outputs": [],
   "source": [
    "motu_taxonomy.loc[y_taxa]"
   ]
  },
  {
   "cell_type": "code",
   "execution_count": null,
   "metadata": {},
   "outputs": [],
   "source": [
    "from sklearn.cross_decomposition import PLSCanonical, PLSRegression\n",
    "\n",
    "x, y = align_indexes(rotu_rabund[x_taxa], motu_rabund[y_taxa])\n",
    "pls = PLSCanonical(n_components=min(*x.shape, *y.shape), scale=False, tol=1e-7).fit(\n",
    "    x, y\n",
    ")"
   ]
  },
  {
   "cell_type": "code",
   "execution_count": null,
   "metadata": {},
   "outputs": [],
   "source": [
    "pseudo_map = pd.DataFrame(\n",
    "    (pls.y_rotations_ @ pls.x_rotations_.T), index=y.columns, columns=x.columns\n",
    ")\n",
    "pseudo_map.shape"
   ]
  },
  {
   "cell_type": "code",
   "execution_count": null,
   "metadata": {},
   "outputs": [],
   "source": [
    "plt.hist(pseudo_map.values.flatten(), bins=1000)\n",
    "plt.yscale(\"log\")\n",
    "None"
   ]
  },
  {
   "cell_type": "code",
   "execution_count": null,
   "metadata": {},
   "outputs": [],
   "source": [
    "cross_correlation = pd.DataFrame(\n",
    "    1\n",
    "    - sp.spatial.distance.cdist(\n",
    "        x.T, y.T, metric=lambda x, y: 1 - sp.stats.pearsonr(x, y)[0]\n",
    "    ),\n",
    "    columns=y.columns,\n",
    "    index=x.columns,\n",
    ")"
   ]
  },
  {
   "cell_type": "code",
   "execution_count": null,
   "metadata": {},
   "outputs": [],
   "source": [
    "sns.clustermap(\n",
    "    pseudo_map.fillna(0).T, center=0, figsize=(5, 5), xticklabels=1, yticklabels=1\n",
    ")\n",
    "sns.clustermap(\n",
    "    cross_correlation.fillna(0), center=0, figsize=(5, 5), xticklabels=1, yticklabels=1\n",
    ")"
   ]
  },
  {
   "cell_type": "code",
   "execution_count": null,
   "metadata": {},
   "outputs": [],
   "source": [
    "d = pd.DataFrame(\n",
    "    dict(\n",
    "        pls=pseudo_map.stack(),\n",
    "        cc=cross_correlation.T.stack(),\n",
    "        pls_rank_A=pseudo_map.rank(axis=0, ascending=False).stack(),\n",
    "        pls_rank_B=pseudo_map.rank(axis=1, ascending=False).stack(),\n",
    "        cc_rank_A=cross_correlation.T.rank(axis=0, ascending=False).stack(),\n",
    "        cc_rank_B=cross_correlation.T.rank(axis=1, ascending=False).stack(),\n",
    "    )\n",
    ")"
   ]
  },
  {
   "cell_type": "code",
   "execution_count": null,
   "metadata": {},
   "outputs": [],
   "source": [
    "(\n",
    "    d.reorder_levels([\"zotu\", \"species_id\"])\n",
    "    .loc[focal_zotu]\n",
    "    .join(rotu_rabund[x_taxa].mean().rename(\"rotu_mean\"))\n",
    "    .join(motu_rabund[y_taxa].mean().rename(\"motu_mean\"))\n",
    "    .assign(pls_score=lambda x: x.pls * x.rotu_mean * x.motu_mean)\n",
    "    .sort_values(\"pls_score\", ascending=False)\n",
    "    .head(10)\n",
    "    .join(motu_taxonomy.s__)\n",
    ")"
   ]
  },
  {
   "cell_type": "markdown",
   "metadata": {},
   "source": [
    "### \"Lachnospiraceae\""
   ]
  },
  {
   "cell_type": "markdown",
   "metadata": {},
   "source": [
    "#### Zotu114"
   ]
  },
  {
   "cell_type": "code",
   "execution_count": null,
   "metadata": {},
   "outputs": [],
   "source": [
    "focal_zotu = [\"Zotu114\"]\n",
    "focal_family_list = rotu_taxonomy0.loc[focal_zotu].str.split(\";\").str[-3].unique()\n",
    "assert len(focal_family_list) == 1\n",
    "focal_family = focal_family_list[0]\n",
    "print(focal_family)"
   ]
  },
  {
   "cell_type": "code",
   "execution_count": null,
   "metadata": {},
   "outputs": [],
   "source": [
    "x_taxa = idxwhere(rotu_taxonomy0.str.contains(f\";{focal_family};\"))\n",
    "y_taxa = idxwhere(\n",
    "    motu_taxonomy.apply(lambda x: \";\".join(x), axis=1).str.contains(\n",
    "        f\"f__{focal_family};\"\n",
    "    )\n",
    "    & motu_taxonomy.index.to_series().isin(motu_rabund.columns)\n",
    ")"
   ]
  },
  {
   "cell_type": "code",
   "execution_count": null,
   "metadata": {},
   "outputs": [],
   "source": [
    "rotu_taxonomy0.loc[x_taxa].reset_index().values"
   ]
  },
  {
   "cell_type": "code",
   "execution_count": null,
   "metadata": {},
   "outputs": [],
   "source": [
    "motu_taxonomy.loc[y_taxa]"
   ]
  },
  {
   "cell_type": "code",
   "execution_count": null,
   "metadata": {},
   "outputs": [],
   "source": [
    "from sklearn.cross_decomposition import PLSCanonical, PLSRegression\n",
    "\n",
    "x, y = align_indexes(rotu_rabund[x_taxa], motu_rabund[y_taxa])\n",
    "pls = PLSCanonical(n_components=min(*x.shape, *y.shape), scale=False, tol=1e-7).fit(\n",
    "    x, y\n",
    ")"
   ]
  },
  {
   "cell_type": "code",
   "execution_count": null,
   "metadata": {},
   "outputs": [],
   "source": [
    "pseudo_map = pd.DataFrame(\n",
    "    (pls.y_rotations_ @ pls.x_rotations_.T), index=y.columns, columns=x.columns\n",
    ")\n",
    "pseudo_map.shape"
   ]
  },
  {
   "cell_type": "code",
   "execution_count": null,
   "metadata": {},
   "outputs": [],
   "source": [
    "plt.hist(pseudo_map.values.flatten(), bins=1000)\n",
    "plt.yscale(\"log\")\n",
    "None"
   ]
  },
  {
   "cell_type": "code",
   "execution_count": null,
   "metadata": {},
   "outputs": [],
   "source": [
    "cross_correlation = pd.DataFrame(\n",
    "    1\n",
    "    - sp.spatial.distance.cdist(\n",
    "        x.T, y.T, metric=lambda x, y: 1 - sp.stats.pearsonr(x, y)[0]\n",
    "    ),\n",
    "    columns=y.columns,\n",
    "    index=x.columns,\n",
    ")"
   ]
  },
  {
   "cell_type": "code",
   "execution_count": null,
   "metadata": {},
   "outputs": [],
   "source": [
    "sns.clustermap(\n",
    "    pseudo_map.fillna(0).T, center=0, figsize=(5, 5), xticklabels=1, yticklabels=1\n",
    ")\n",
    "sns.clustermap(\n",
    "    cross_correlation.fillna(0), center=0, figsize=(5, 5), xticklabels=1, yticklabels=1\n",
    ")"
   ]
  },
  {
   "cell_type": "code",
   "execution_count": null,
   "metadata": {},
   "outputs": [],
   "source": [
    "d = pd.DataFrame(\n",
    "    dict(\n",
    "        pls=pseudo_map.stack(),\n",
    "        cc=cross_correlation.T.stack(),\n",
    "        pls_rank_A=pseudo_map.rank(axis=0, ascending=False).stack(),\n",
    "        pls_rank_B=pseudo_map.rank(axis=1, ascending=False).stack(),\n",
    "        cc_rank_A=cross_correlation.T.rank(axis=0, ascending=False).stack(),\n",
    "        cc_rank_B=cross_correlation.T.rank(axis=1, ascending=False).stack(),\n",
    "    )\n",
    ")"
   ]
  },
  {
   "cell_type": "code",
   "execution_count": null,
   "metadata": {},
   "outputs": [],
   "source": [
    "(\n",
    "    d.reorder_levels([\"zotu\", \"species_id\"])\n",
    "    .loc[focal_zotu]\n",
    "    .join(rotu_rabund[x_taxa].mean().rename(\"rotu_mean\"))\n",
    "    .join(motu_rabund[y_taxa].mean().rename(\"motu_mean\"))\n",
    "    .assign(pls_score=lambda x: x.pls * x.rotu_mean * x.motu_mean)\n",
    "    .sort_values(\"pls_score\", ascending=False)\n",
    "    .head(10)\n",
    "    .join(motu_taxonomy.s__)\n",
    ")"
   ]
  },
  {
   "cell_type": "markdown",
   "metadata": {},
   "source": [
    "#### Zotu25"
   ]
  },
  {
   "cell_type": "code",
   "execution_count": null,
   "metadata": {},
   "outputs": [],
   "source": [
    "focal_zotu = [\"Zotu25\"]\n",
    "\n",
    "(\n",
    "    d.reorder_levels([\"zotu\", \"species_id\"])\n",
    "    .loc[focal_zotu]\n",
    "    .join(rotu_rabund[x_taxa].mean().rename(\"rotu_mean\"))\n",
    "    .join(motu_rabund[y_taxa].mean().rename(\"motu_mean\"))\n",
    "    .assign(pls_score=lambda x: x.pls * x.rotu_mean * x.motu_mean)\n",
    "    .sort_values(\"pls_score\", ascending=False)\n",
    "    .head(10)\n",
    "    .join(motu_taxonomy.s__)\n",
    ")"
   ]
  },
  {
   "cell_type": "markdown",
   "metadata": {},
   "source": [
    "#### Zotu5"
   ]
  },
  {
   "cell_type": "code",
   "execution_count": null,
   "metadata": {},
   "outputs": [],
   "source": [
    "focal_zotu = [\"Zotu5\"]\n",
    "\n",
    "(\n",
    "    d.reorder_levels([\"zotu\", \"species_id\"])\n",
    "    .loc[focal_zotu]\n",
    "    .join(rotu_rabund[x_taxa].mean().rename(\"rotu_mean\"))\n",
    "    .join(motu_rabund[y_taxa].mean().rename(\"motu_mean\"))\n",
    "    .assign(pls_score=lambda x: x.pls * x.rotu_mean * x.motu_mean)\n",
    "    .sort_values(\"pls_score\", ascending=False)\n",
    "    .head(10)\n",
    "    .join(motu_taxonomy.s__)\n",
    ")"
   ]
  },
  {
   "cell_type": "markdown",
   "metadata": {},
   "source": [
    "#### Zotu10"
   ]
  },
  {
   "cell_type": "code",
   "execution_count": null,
   "metadata": {},
   "outputs": [],
   "source": [
    "focal_zotu = [\"Zotu10\"]\n",
    "\n",
    "(\n",
    "    d.reorder_levels([\"zotu\", \"species_id\"])\n",
    "    .loc[focal_zotu]\n",
    "    .join(rotu_rabund[x_taxa].mean().rename(\"rotu_mean\"))\n",
    "    .join(motu_rabund[y_taxa].mean().rename(\"motu_mean\"))\n",
    "    .assign(pls_score=lambda x: x.pls * x.rotu_mean * x.motu_mean)\n",
    "    .sort_values(\"pls_score\", ascending=False)\n",
    "    .head(10)\n",
    "    .join(motu_taxonomy.s__)\n",
    ")"
   ]
  },
  {
   "cell_type": "markdown",
   "metadata": {},
   "source": [
    "#### Zotu160"
   ]
  },
  {
   "cell_type": "code",
   "execution_count": null,
   "metadata": {},
   "outputs": [],
   "source": [
    "focal_zotu = [\"Zotu160\"]\n",
    "\n",
    "(\n",
    "    d.reorder_levels([\"zotu\", \"species_id\"])\n",
    "    .loc[focal_zotu]\n",
    "    .join(rotu_rabund[x_taxa].mean().rename(\"rotu_mean\"))\n",
    "    .join(motu_rabund[y_taxa].mean().rename(\"motu_mean\"))\n",
    "    .assign(pls_score=lambda x: x.pls * x.rotu_mean * x.motu_mean)\n",
    "    .sort_values(\"pls_score\", ascending=False)\n",
    "    .head(10)\n",
    "    .join(motu_taxonomy.s__)\n",
    ")"
   ]
  },
  {
   "cell_type": "markdown",
   "metadata": {},
   "source": [
    "#### Zotu31"
   ]
  },
  {
   "cell_type": "code",
   "execution_count": null,
   "metadata": {},
   "outputs": [],
   "source": [
    "focal_zotu = [\"Zotu31\"]\n",
    "\n",
    "(\n",
    "    d.reorder_levels([\"zotu\", \"species_id\"])\n",
    "    .loc[focal_zotu]\n",
    "    .join(rotu_rabund[x_taxa].mean().rename(\"rotu_mean\"))\n",
    "    .join(motu_rabund[y_taxa].mean().rename(\"motu_mean\"))\n",
    "    .assign(pls_score=lambda x: x.pls * x.rotu_mean * x.motu_mean)\n",
    "    .sort_values(\"pls_score\", ascending=False)\n",
    "    .head(10)\n",
    "    .join(motu_taxonomy.s__)\n",
    ")"
   ]
  },
  {
   "cell_type": "markdown",
   "metadata": {},
   "source": [
    "#### Zotu155"
   ]
  },
  {
   "cell_type": "code",
   "execution_count": null,
   "metadata": {},
   "outputs": [],
   "source": [
    "focal_zotu = [\"Zotu155\"]\n",
    "\n",
    "(\n",
    "    d.reorder_levels([\"zotu\", \"species_id\"])\n",
    "    .loc[focal_zotu]\n",
    "    .join(rotu_rabund[x_taxa].mean().rename(\"rotu_mean\"))\n",
    "    .join(motu_rabund[y_taxa].mean().rename(\"motu_mean\"))\n",
    "    .assign(pls_score=lambda x: x.pls * x.rotu_mean * x.motu_mean)\n",
    "    .sort_values(\"pls_score\", ascending=False)\n",
    "    .head(10)\n",
    "    .join(motu_taxonomy.s__)\n",
    ")"
   ]
  },
  {
   "cell_type": "markdown",
   "metadata": {},
   "source": [
    "#### Zotu75"
   ]
  },
  {
   "cell_type": "code",
   "execution_count": null,
   "metadata": {},
   "outputs": [],
   "source": [
    "focal_zotu = [\"Zotu75\"]\n",
    "\n",
    "(\n",
    "    d.reorder_levels([\"zotu\", \"species_id\"])\n",
    "    .loc[focal_zotu]\n",
    "    .join(rotu_rabund[x_taxa].mean().rename(\"rotu_mean\"))\n",
    "    .join(motu_rabund[y_taxa].mean().rename(\"motu_mean\"))\n",
    "    .assign(pls_score=lambda x: x.pls * x.rotu_mean * x.motu_mean)\n",
    "    .sort_values(\"pls_score\", ascending=False)\n",
    "    .head(10)\n",
    "    .join(motu_taxonomy.s__)\n",
    ")"
   ]
  },
  {
   "cell_type": "markdown",
   "metadata": {},
   "source": [
    "#### Zotu13"
   ]
  },
  {
   "cell_type": "code",
   "execution_count": null,
   "metadata": {},
   "outputs": [],
   "source": [
    "focal_zotu = [\"Zotu13\"]\n",
    "\n",
    "(\n",
    "    d.reorder_levels([\"zotu\", \"species_id\"])\n",
    "    .loc[focal_zotu]\n",
    "    .join(rotu_rabund[x_taxa].mean().rename(\"rotu_mean\"))\n",
    "    .join(motu_rabund[y_taxa].mean().rename(\"motu_mean\"))\n",
    "    .assign(pls_score=lambda x: x.pls * x.rotu_mean * x.motu_mean)\n",
    "    .sort_values(\"pls_score\", ascending=False)\n",
    "    .head(10)\n",
    "    .join(motu_taxonomy.s__)\n",
    ")"
   ]
  },
  {
   "cell_type": "markdown",
   "metadata": {},
   "source": [
    "#### Zotu155"
   ]
  },
  {
   "cell_type": "code",
   "execution_count": null,
   "metadata": {},
   "outputs": [],
   "source": [
    "focal_zotu = [\"Zotu155\"]\n",
    "\n",
    "(\n",
    "    d.reorder_levels([\"zotu\", \"species_id\"])\n",
    "    .loc[focal_zotu]\n",
    "    .join(rotu_rabund[x_taxa].mean().rename(\"rotu_mean\"))\n",
    "    .join(motu_rabund[y_taxa].mean().rename(\"motu_mean\"))\n",
    "    .assign(pls_score=lambda x: x.pls * x.rotu_mean * x.motu_mean)\n",
    "    .sort_values(\"pls_score\", ascending=False)\n",
    "    .head(10)\n",
    "    .join(motu_taxonomy.s__)\n",
    ")"
   ]
  },
  {
   "cell_type": "markdown",
   "metadata": {},
   "source": [
    "#### Zotu27"
   ]
  },
  {
   "cell_type": "code",
   "execution_count": null,
   "metadata": {},
   "outputs": [],
   "source": [
    "focal_zotu = [\"Zotu27\"]\n",
    "\n",
    "(\n",
    "    d.reorder_levels([\"zotu\", \"species_id\"])\n",
    "    .loc[focal_zotu]\n",
    "    .join(rotu_rabund[x_taxa].mean().rename(\"rotu_mean\"))\n",
    "    .join(motu_rabund[y_taxa].mean().rename(\"motu_mean\"))\n",
    "    .assign(pls_score=lambda x: x.pls * x.rotu_mean * x.motu_mean)\n",
    "    .sort_values(\"pls_score\", ascending=False)\n",
    "    .head(10)\n",
    "    .join(motu_taxonomy.s__)\n",
    ")"
   ]
  },
  {
   "cell_type": "markdown",
   "metadata": {},
   "source": [
    "#### Zotu104"
   ]
  },
  {
   "cell_type": "code",
   "execution_count": null,
   "metadata": {},
   "outputs": [],
   "source": [
    "focal_zotu = [\"Zotu104\"]\n",
    "\n",
    "(\n",
    "    d.reorder_levels([\"zotu\", \"species_id\"])\n",
    "    .loc[focal_zotu]\n",
    "    .join(rotu_rabund[x_taxa].mean().rename(\"rotu_mean\"))\n",
    "    .join(motu_rabund[y_taxa].mean().rename(\"motu_mean\"))\n",
    "    .assign(pls_score=lambda x: x.pls * x.rotu_mean * x.motu_mean)\n",
    "    .sort_values(\"pls_score\", ascending=False)\n",
    "    .head(10)\n",
    "    .join(motu_taxonomy.s__)\n",
    ")"
   ]
  },
  {
   "cell_type": "markdown",
   "metadata": {},
   "source": [
    "##### Alternative zOTUs"
   ]
  },
  {
   "cell_type": "code",
   "execution_count": null,
   "metadata": {},
   "outputs": [],
   "source": [
    "(\n",
    "    d\n",
    "    .loc[['100205']]\n",
    "    .join(rotu_rabund[x_taxa].mean().rename(\"rotu_mean\"))\n",
    "    .join(motu_rabund[y_taxa].mean().rename(\"motu_mean\"))\n",
    "    .assign(pls_score=lambda x: x.pls * x.rotu_mean * x.motu_mean)\n",
    "    .sort_values(\"pls\", ascending=False)\n",
    "    .head(10)\n",
    "    .join(motu_taxonomy.s__)\n",
    ")"
   ]
  },
  {
   "cell_type": "markdown",
   "metadata": {},
   "source": [
    "#### Zotu167"
   ]
  },
  {
   "cell_type": "code",
   "execution_count": null,
   "metadata": {},
   "outputs": [],
   "source": [
    "focal_zotu = [\"Zotu167\"]\n",
    "\n",
    "(\n",
    "    d.reorder_levels([\"zotu\", \"species_id\"])\n",
    "    .loc[focal_zotu]\n",
    "    .join(rotu_rabund[x_taxa].mean().rename(\"rotu_mean\"))\n",
    "    .join(motu_rabund[y_taxa].mean().rename(\"motu_mean\"))\n",
    "    .assign(pls_score=lambda x: x.pls * x.rotu_mean * x.motu_mean)\n",
    "    .sort_values(\"cc\", ascending=False)\n",
    "    .head(10)\n",
    "    .join(motu_taxonomy.s__)\n",
    ")"
   ]
  },
  {
   "cell_type": "markdown",
   "metadata": {},
   "source": [
    "#### Zotu26"
   ]
  },
  {
   "cell_type": "code",
   "execution_count": null,
   "metadata": {},
   "outputs": [],
   "source": [
    "focal_zotu = [\"Zotu26\"]\n",
    "\n",
    "(\n",
    "    d.reorder_levels([\"zotu\", \"species_id\"])\n",
    "    .loc[focal_zotu]\n",
    "    .join(rotu_rabund[x_taxa].mean().rename(\"rotu_mean\"))\n",
    "    .join(motu_rabund[y_taxa].mean().rename(\"motu_mean\"))\n",
    "    .assign(pls_score=lambda x: x.pls * x.rotu_mean * x.motu_mean)\n",
    "    .sort_values(\"pls_score\", ascending=False)\n",
    "    .head(10)\n",
    "    .join(motu_taxonomy.s__)\n",
    ")"
   ]
  },
  {
   "cell_type": "code",
   "execution_count": null,
   "metadata": {},
   "outputs": [],
   "source": [
    "focal_zotu = [\"Zotu100\"]\n",
    "focal_family_list = rotu_taxonomy0.loc[focal_zotu].str.split(\";\").str[-3].unique()\n",
    "assert len(focal_family_list) == 1\n",
    "focal_family = focal_family_list[0]\n",
    "print(focal_family)"
   ]
  },
  {
   "cell_type": "markdown",
   "metadata": {},
   "source": [
    "### \"Erysipelatoclostridiaceae\" (Zotu46)"
   ]
  },
  {
   "cell_type": "code",
   "execution_count": null,
   "metadata": {},
   "outputs": [],
   "source": [
    "focal_zotu = [\"Zotu46\"]\n",
    "focal_family_list = rotu_taxonomy0.loc[focal_zotu].str.split(\";\").str[-3].unique()\n",
    "assert len(focal_family_list) == 1\n",
    "focal_family = focal_family_list[0]\n",
    "print(focal_family)"
   ]
  },
  {
   "cell_type": "code",
   "execution_count": null,
   "metadata": {},
   "outputs": [],
   "source": [
    "x_taxa = idxwhere(rotu_taxonomy0.str.contains(f\";{focal_family};\"))\n",
    "y_taxa = idxwhere(\n",
    "    motu_taxonomy.apply(lambda x: \";\".join(x), axis=1).str.contains(\n",
    "        f\"f__{focal_family};\"\n",
    "    )\n",
    "    & motu_taxonomy.index.to_series().isin(motu_rabund.columns)\n",
    ")"
   ]
  },
  {
   "cell_type": "code",
   "execution_count": null,
   "metadata": {},
   "outputs": [],
   "source": [
    "rotu_taxonomy0.loc[x_taxa].reset_index().values"
   ]
  },
  {
   "cell_type": "code",
   "execution_count": null,
   "metadata": {},
   "outputs": [],
   "source": [
    "motu_taxonomy.loc[y_taxa]"
   ]
  },
  {
   "cell_type": "code",
   "execution_count": null,
   "metadata": {},
   "outputs": [],
   "source": [
    "from sklearn.cross_decomposition import PLSCanonical, PLSRegression\n",
    "\n",
    "x, y = align_indexes(rotu_rabund[x_taxa], motu_rabund[y_taxa])\n",
    "pls = PLSCanonical(n_components=min(*x.shape, *y.shape), scale=False, tol=1e-7).fit(\n",
    "    x, y\n",
    ")"
   ]
  },
  {
   "cell_type": "code",
   "execution_count": null,
   "metadata": {},
   "outputs": [],
   "source": [
    "pseudo_map = pd.DataFrame(\n",
    "    (pls.y_rotations_ @ pls.x_rotations_.T), index=y.columns, columns=x.columns\n",
    ")\n",
    "pseudo_map.shape"
   ]
  },
  {
   "cell_type": "code",
   "execution_count": null,
   "metadata": {},
   "outputs": [],
   "source": [
    "plt.hist(pseudo_map.values.flatten(), bins=1000)\n",
    "plt.yscale(\"log\")\n",
    "None"
   ]
  },
  {
   "cell_type": "code",
   "execution_count": null,
   "metadata": {},
   "outputs": [],
   "source": [
    "cross_correlation = pd.DataFrame(\n",
    "    1\n",
    "    - sp.spatial.distance.cdist(\n",
    "        x.T, y.T, metric=lambda x, y: 1 - sp.stats.pearsonr(x, y)[0]\n",
    "    ),\n",
    "    columns=y.columns,\n",
    "    index=x.columns,\n",
    ")"
   ]
  },
  {
   "cell_type": "code",
   "execution_count": null,
   "metadata": {},
   "outputs": [],
   "source": [
    "sns.clustermap(\n",
    "    pseudo_map.fillna(0).T, center=0, figsize=(5, 5), xticklabels=1, yticklabels=1\n",
    ")\n",
    "sns.clustermap(\n",
    "    cross_correlation.fillna(0), center=0, figsize=(5, 5), xticklabels=1, yticklabels=1\n",
    ")"
   ]
  },
  {
   "cell_type": "code",
   "execution_count": null,
   "metadata": {},
   "outputs": [],
   "source": [
    "d = pd.DataFrame(\n",
    "    dict(\n",
    "        pls=pseudo_map.stack(),\n",
    "        cc=cross_correlation.T.stack(),\n",
    "        pls_rank_A=pseudo_map.rank(axis=0, ascending=False).stack(),\n",
    "        pls_rank_B=pseudo_map.rank(axis=1, ascending=False).stack(),\n",
    "        cc_rank_A=cross_correlation.T.rank(axis=0, ascending=False).stack(),\n",
    "        cc_rank_B=cross_correlation.T.rank(axis=1, ascending=False).stack(),\n",
    "    )\n",
    ")"
   ]
  },
  {
   "cell_type": "code",
   "execution_count": null,
   "metadata": {},
   "outputs": [],
   "source": [
    "(\n",
    "    d.reorder_levels([\"zotu\", \"species_id\"])\n",
    "    .loc[focal_zotu]\n",
    "    .join(rotu_rabund[x_taxa].mean().rename(\"rotu_mean\"))\n",
    "    .join(motu_rabund[y_taxa].mean().rename(\"motu_mean\"))\n",
    "    .assign(pls_score=lambda x: x.pls * x.rotu_mean * x.motu_mean)\n",
    "    .sort_values(\"pls_score\", ascending=False)\n",
    "    .head(10)\n",
    "    .join(motu_taxonomy.s__)\n",
    ")"
   ]
  },
  {
   "cell_type": "markdown",
   "metadata": {},
   "source": [
    "### \"Oscillospiraceae\" (Zotu49)"
   ]
  },
  {
   "cell_type": "code",
   "execution_count": null,
   "metadata": {},
   "outputs": [],
   "source": [
    "focal_zotu = [\"Zotu49\"]\n",
    "focal_family_list = rotu_taxonomy0.loc[focal_zotu].str.split(\";\").str[-3].unique()\n",
    "assert len(focal_family_list) == 1\n",
    "focal_family = focal_family_list[0]\n",
    "print(focal_family)"
   ]
  },
  {
   "cell_type": "code",
   "execution_count": null,
   "metadata": {},
   "outputs": [],
   "source": [
    "x_taxa = idxwhere(rotu_taxonomy0.str.contains(f\";{focal_family};\"))\n",
    "y_taxa = idxwhere(\n",
    "    motu_taxonomy.apply(lambda x: \";\".join(x), axis=1).str.contains(\n",
    "        f\"f__{focal_family};\"\n",
    "    )\n",
    "    & motu_taxonomy.index.to_series().isin(motu_rabund.columns)\n",
    ")"
   ]
  },
  {
   "cell_type": "code",
   "execution_count": null,
   "metadata": {},
   "outputs": [],
   "source": [
    "rotu_taxonomy0.loc[x_taxa].reset_index().values"
   ]
  },
  {
   "cell_type": "code",
   "execution_count": null,
   "metadata": {},
   "outputs": [],
   "source": [
    "motu_taxonomy.loc[y_taxa]"
   ]
  },
  {
   "cell_type": "code",
   "execution_count": null,
   "metadata": {},
   "outputs": [],
   "source": [
    "from sklearn.cross_decomposition import PLSCanonical, PLSRegression\n",
    "\n",
    "x, y = align_indexes(rotu_rabund[x_taxa], motu_rabund[y_taxa])\n",
    "pls = PLSCanonical(n_components=min(*x.shape, *y.shape), scale=False, tol=1e-7).fit(\n",
    "    x, y\n",
    ")"
   ]
  },
  {
   "cell_type": "code",
   "execution_count": null,
   "metadata": {},
   "outputs": [],
   "source": [
    "pseudo_map = pd.DataFrame(\n",
    "    (pls.y_rotations_ @ pls.x_rotations_.T), index=y.columns, columns=x.columns\n",
    ")\n",
    "pseudo_map.shape"
   ]
  },
  {
   "cell_type": "code",
   "execution_count": null,
   "metadata": {},
   "outputs": [],
   "source": [
    "plt.hist(pseudo_map.values.flatten(), bins=1000)\n",
    "plt.yscale(\"log\")\n",
    "None"
   ]
  },
  {
   "cell_type": "code",
   "execution_count": null,
   "metadata": {},
   "outputs": [],
   "source": [
    "cross_correlation = pd.DataFrame(\n",
    "    1\n",
    "    - sp.spatial.distance.cdist(\n",
    "        x.T, y.T, metric=lambda x, y: 1 - sp.stats.pearsonr(x, y)[0]\n",
    "    ),\n",
    "    columns=y.columns,\n",
    "    index=x.columns,\n",
    ")"
   ]
  },
  {
   "cell_type": "code",
   "execution_count": null,
   "metadata": {},
   "outputs": [],
   "source": [
    "sns.clustermap(\n",
    "    pseudo_map.fillna(0).T, center=0, figsize=(5, 5), xticklabels=1, yticklabels=1\n",
    ")\n",
    "sns.clustermap(\n",
    "    cross_correlation.fillna(0), center=0, figsize=(5, 5), xticklabels=1, yticklabels=1\n",
    ")"
   ]
  },
  {
   "cell_type": "code",
   "execution_count": null,
   "metadata": {},
   "outputs": [],
   "source": [
    "d = pd.DataFrame(\n",
    "    dict(\n",
    "        pls=pseudo_map.stack(),\n",
    "        cc=cross_correlation.T.stack(),\n",
    "        pls_rank_A=pseudo_map.rank(axis=0, ascending=False).stack(),\n",
    "        pls_rank_B=pseudo_map.rank(axis=1, ascending=False).stack(),\n",
    "        cc_rank_A=cross_correlation.T.rank(axis=0, ascending=False).stack(),\n",
    "        cc_rank_B=cross_correlation.T.rank(axis=1, ascending=False).stack(),\n",
    "    )\n",
    ")"
   ]
  },
  {
   "cell_type": "code",
   "execution_count": null,
   "metadata": {},
   "outputs": [],
   "source": [
    "(\n",
    "    d.reorder_levels([\"zotu\", \"species_id\"])\n",
    "    .loc[focal_zotu]\n",
    "    .join(rotu_rabund[x_taxa].mean().rename(\"rotu_mean\"))\n",
    "    .join(motu_rabund[y_taxa].mean().rename(\"motu_mean\"))\n",
    "    .assign(pls_score=lambda x: x.pls * x.rotu_mean * x.motu_mean)\n",
    "    .sort_values(\"pls_score\", ascending=False)\n",
    "    .head(10)\n",
    "    .join(motu_taxonomy.s__)\n",
    ")"
   ]
  },
  {
   "cell_type": "markdown",
   "metadata": {},
   "source": [
    "### \"Erysipelotrichaceae\" (Zotu34)"
   ]
  },
  {
   "cell_type": "code",
   "execution_count": null,
   "metadata": {},
   "outputs": [],
   "source": [
    "focal_zotu = [\"Zotu34\"]\n",
    "focal_family_list = rotu_taxonomy0.loc[focal_zotu].str.split(\";\").str[-3].unique()\n",
    "assert len(focal_family_list) == 1\n",
    "focal_family = focal_family_list[0]\n",
    "print(focal_family)"
   ]
  },
  {
   "cell_type": "code",
   "execution_count": null,
   "metadata": {},
   "outputs": [],
   "source": [
    "x_taxa = idxwhere(rotu_taxonomy0.str.contains(f\";{focal_family};\"))\n",
    "y_taxa = idxwhere(\n",
    "    motu_taxonomy.apply(lambda x: \";\".join(x), axis=1).str.contains(\n",
    "        f\"f__{focal_family};\"\n",
    "    )\n",
    "    & motu_taxonomy.index.to_series().isin(motu_rabund.columns)\n",
    ")"
   ]
  },
  {
   "cell_type": "code",
   "execution_count": null,
   "metadata": {},
   "outputs": [],
   "source": [
    "rotu_taxonomy0.loc[x_taxa].reset_index().values"
   ]
  },
  {
   "cell_type": "code",
   "execution_count": null,
   "metadata": {},
   "outputs": [],
   "source": [
    "motu_taxonomy.loc[y_taxa]"
   ]
  },
  {
   "cell_type": "code",
   "execution_count": null,
   "metadata": {},
   "outputs": [],
   "source": [
    "from sklearn.cross_decomposition import PLSCanonical, PLSRegression\n",
    "\n",
    "x, y = align_indexes(rotu_rabund[x_taxa], motu_rabund[y_taxa])\n",
    "pls = PLSCanonical(n_components=min(*x.shape, *y.shape), scale=False, tol=1e-7).fit(\n",
    "    x, y\n",
    ")"
   ]
  },
  {
   "cell_type": "code",
   "execution_count": null,
   "metadata": {},
   "outputs": [],
   "source": [
    "pseudo_map = pd.DataFrame(\n",
    "    (pls.y_rotations_ @ pls.x_rotations_.T), index=y.columns, columns=x.columns\n",
    ")\n",
    "pseudo_map.shape"
   ]
  },
  {
   "cell_type": "code",
   "execution_count": null,
   "metadata": {},
   "outputs": [],
   "source": [
    "plt.hist(pseudo_map.values.flatten(), bins=1000)\n",
    "plt.yscale(\"log\")\n",
    "None"
   ]
  },
  {
   "cell_type": "code",
   "execution_count": null,
   "metadata": {},
   "outputs": [],
   "source": [
    "cross_correlation = pd.DataFrame(\n",
    "    1\n",
    "    - sp.spatial.distance.cdist(\n",
    "        x.T, y.T, metric=lambda x, y: 1 - sp.stats.pearsonr(x, y)[0]\n",
    "    ),\n",
    "    columns=y.columns,\n",
    "    index=x.columns,\n",
    ")"
   ]
  },
  {
   "cell_type": "code",
   "execution_count": null,
   "metadata": {},
   "outputs": [],
   "source": [
    "sns.clustermap(\n",
    "    pseudo_map.fillna(0).T, center=0, figsize=(5, 5), xticklabels=1, yticklabels=1\n",
    ")\n",
    "sns.clustermap(\n",
    "    cross_correlation.fillna(0), center=0, figsize=(5, 5), xticklabels=1, yticklabels=1\n",
    ")"
   ]
  },
  {
   "cell_type": "code",
   "execution_count": null,
   "metadata": {},
   "outputs": [],
   "source": [
    "d = pd.DataFrame(\n",
    "    dict(\n",
    "        pls=pseudo_map.stack(),\n",
    "        cc=cross_correlation.T.stack(),\n",
    "        pls_rank_A=pseudo_map.rank(axis=0, ascending=False).stack(),\n",
    "        pls_rank_B=pseudo_map.rank(axis=1, ascending=False).stack(),\n",
    "        cc_rank_A=cross_correlation.T.rank(axis=0, ascending=False).stack(),\n",
    "        cc_rank_B=cross_correlation.T.rank(axis=1, ascending=False).stack(),\n",
    "    )\n",
    ")"
   ]
  },
  {
   "cell_type": "code",
   "execution_count": null,
   "metadata": {},
   "outputs": [],
   "source": [
    "(\n",
    "    d.reorder_levels([\"zotu\", \"species_id\"])\n",
    "    .loc[focal_zotu]\n",
    "    .join(rotu_rabund[x_taxa].mean().rename(\"rotu_mean\"))\n",
    "    .join(motu_rabund[y_taxa].mean().rename(\"motu_mean\"))\n",
    "    .assign(pls_score=lambda x: x.pls * x.rotu_mean * x.motu_mean)\n",
    "    .sort_values(\"pls_score\", ascending=False)\n",
    "    .head(10)\n",
    "    .join(motu_taxonomy.s__)\n",
    ")"
   ]
  },
  {
   "cell_type": "markdown",
   "metadata": {},
   "source": [
    "### \"Ruminococcaceae\""
   ]
  },
  {
   "cell_type": "markdown",
   "metadata": {},
   "source": [
    "#### Zotu78"
   ]
  },
  {
   "cell_type": "code",
   "execution_count": null,
   "metadata": {},
   "outputs": [],
   "source": [
    "focal_zotu = [\"Zotu78\"]\n",
    "focal_family_list = rotu_taxonomy0.loc[focal_zotu].str.split(\";\").str[-3].unique()\n",
    "assert len(focal_family_list) == 1\n",
    "focal_family = focal_family_list[0]\n",
    "print(focal_family)"
   ]
  },
  {
   "cell_type": "code",
   "execution_count": null,
   "metadata": {},
   "outputs": [],
   "source": [
    "x_taxa = idxwhere(rotu_taxonomy0.str.contains(f\";{focal_family};\"))\n",
    "y_taxa = idxwhere(\n",
    "    motu_taxonomy.apply(lambda x: \";\".join(x), axis=1).str.contains(\n",
    "        f\"f__{focal_family};\"\n",
    "    )\n",
    "    & motu_taxonomy.index.to_series().isin(motu_rabund.columns)\n",
    ")"
   ]
  },
  {
   "cell_type": "code",
   "execution_count": null,
   "metadata": {},
   "outputs": [],
   "source": [
    "rotu_taxonomy0.loc[x_taxa].reset_index().values"
   ]
  },
  {
   "cell_type": "code",
   "execution_count": null,
   "metadata": {},
   "outputs": [],
   "source": [
    "motu_taxonomy.loc[y_taxa]"
   ]
  },
  {
   "cell_type": "code",
   "execution_count": null,
   "metadata": {},
   "outputs": [],
   "source": [
    "from sklearn.cross_decomposition import PLSCanonical, PLSRegression\n",
    "\n",
    "x, y = align_indexes(rotu_rabund[x_taxa], motu_rabund[y_taxa])\n",
    "pls = PLSCanonical(n_components=min(*x.shape, *y.shape), scale=False, tol=1e-7).fit(\n",
    "    x, y\n",
    ")"
   ]
  },
  {
   "cell_type": "code",
   "execution_count": null,
   "metadata": {},
   "outputs": [],
   "source": [
    "pseudo_map = pd.DataFrame(\n",
    "    (pls.y_rotations_ @ pls.x_rotations_.T), index=y.columns, columns=x.columns\n",
    ")\n",
    "pseudo_map.shape"
   ]
  },
  {
   "cell_type": "code",
   "execution_count": null,
   "metadata": {},
   "outputs": [],
   "source": [
    "plt.hist(pseudo_map.values.flatten(), bins=1000)\n",
    "plt.yscale(\"log\")\n",
    "None"
   ]
  },
  {
   "cell_type": "code",
   "execution_count": null,
   "metadata": {},
   "outputs": [],
   "source": [
    "cross_correlation = pd.DataFrame(\n",
    "    1\n",
    "    - sp.spatial.distance.cdist(\n",
    "        x.T, y.T, metric=lambda x, y: 1 - sp.stats.pearsonr(x, y)[0]\n",
    "    ),\n",
    "    columns=y.columns,\n",
    "    index=x.columns,\n",
    ")"
   ]
  },
  {
   "cell_type": "code",
   "execution_count": null,
   "metadata": {},
   "outputs": [],
   "source": [
    "sns.clustermap(\n",
    "    pseudo_map.fillna(0).T, center=0, figsize=(5, 5), xticklabels=1, yticklabels=1\n",
    ")\n",
    "sns.clustermap(\n",
    "    cross_correlation.fillna(0), center=0, figsize=(5, 5), xticklabels=1, yticklabels=1\n",
    ")"
   ]
  },
  {
   "cell_type": "code",
   "execution_count": null,
   "metadata": {},
   "outputs": [],
   "source": [
    "d = pd.DataFrame(\n",
    "    dict(\n",
    "        pls=pseudo_map.stack(),\n",
    "        cc=cross_correlation.T.stack(),\n",
    "        pls_rank_A=pseudo_map.rank(axis=0, ascending=False).stack(),\n",
    "        pls_rank_B=pseudo_map.rank(axis=1, ascending=False).stack(),\n",
    "        cc_rank_A=cross_correlation.T.rank(axis=0, ascending=False).stack(),\n",
    "        cc_rank_B=cross_correlation.T.rank(axis=1, ascending=False).stack(),\n",
    "    )\n",
    ")"
   ]
  },
  {
   "cell_type": "code",
   "execution_count": null,
   "metadata": {},
   "outputs": [],
   "source": [
    "(\n",
    "    d.reorder_levels([\"zotu\", \"species_id\"])\n",
    "    .loc[focal_zotu]\n",
    "    .join(rotu_rabund[x_taxa].mean().rename(\"rotu_mean\"))\n",
    "    .join(motu_rabund[y_taxa].mean().rename(\"motu_mean\"))\n",
    "    .assign(pls_score=lambda x: x.pls * x.rotu_mean * x.motu_mean)\n",
    "    .sort_values(\"pls_score\", ascending=False)\n",
    "    .head(10)\n",
    "    .join(motu_taxonomy.s__)\n",
    ")"
   ]
  },
  {
   "cell_type": "markdown",
   "metadata": {},
   "source": [
    "#### Zotu16"
   ]
  },
  {
   "cell_type": "code",
   "execution_count": null,
   "metadata": {},
   "outputs": [],
   "source": [
    "focal_zotu = [\"Zotu16\"]\n",
    "(\n",
    "    d.reorder_levels([\"zotu\", \"species_id\"])\n",
    "    .loc[focal_zotu]\n",
    "    .join(rotu_rabund[x_taxa].mean().rename(\"rotu_mean\"))\n",
    "    .join(motu_rabund[y_taxa].mean().rename(\"motu_mean\"))\n",
    "    .assign(pls_score=lambda x: x.pls * x.rotu_mean * x.motu_mean)\n",
    "    .sort_values(\"pls_score\", ascending=False)\n",
    "    .head(10)\n",
    "    .join(motu_taxonomy.s__)\n",
    ")"
   ]
  },
  {
   "cell_type": "code",
   "execution_count": null,
   "metadata": {},
   "outputs": [],
   "source": [
    "motu_taxonomy.g__.loc['102040']"
   ]
  },
  {
   "cell_type": "markdown",
   "metadata": {},
   "source": [
    "#### Zotu9"
   ]
  },
  {
   "cell_type": "code",
   "execution_count": null,
   "metadata": {},
   "outputs": [],
   "source": [
    "focal_zotu = [\"Zotu9\"]\n",
    "(\n",
    "    d.reorder_levels([\"zotu\", \"species_id\"])\n",
    "    .loc[focal_zotu]\n",
    "    .join(rotu_rabund[x_taxa].mean().rename(\"rotu_mean\"))\n",
    "    .join(motu_rabund[y_taxa].mean().rename(\"motu_mean\"))\n",
    "    .assign(pls_score=lambda x: x.pls * x.rotu_mean * x.motu_mean)\n",
    "    .sort_values(\"pls_score\", ascending=False)\n",
    "    .head(10)\n",
    "    .join(motu_taxonomy.s__)\n",
    ")"
   ]
  },
  {
   "cell_type": "code",
   "execution_count": null,
   "metadata": {},
   "outputs": [],
   "source": [
    "motu_taxonomy.loc['103166']"
   ]
  },
  {
   "cell_type": "markdown",
   "metadata": {},
   "source": [
    "### \"Oscillospiraceae\" (Zotu13)"
   ]
  },
  {
   "cell_type": "code",
   "execution_count": null,
   "metadata": {},
   "outputs": [],
   "source": [
    "focal_zotu = [\"Zotu13\"]\n",
    "focal_family_list = rotu_taxonomy0.loc[focal_zotu].str.split(\";\").str[-3].unique()\n",
    "assert len(focal_family_list) == 1\n",
    "focal_family = focal_family_list[0]\n",
    "print(focal_family)"
   ]
  },
  {
   "cell_type": "code",
   "execution_count": null,
   "metadata": {},
   "outputs": [],
   "source": [
    "x_taxa = idxwhere(rotu_taxonomy0.str.contains(f\";{focal_family};\"))\n",
    "y_taxa = idxwhere(\n",
    "    motu_taxonomy.apply(lambda x: \";\".join(x), axis=1).str.contains(\n",
    "        f\"f__{focal_family};\"\n",
    "    )\n",
    "    & motu_taxonomy.index.to_series().isin(motu_rabund.columns)\n",
    ")"
   ]
  },
  {
   "cell_type": "code",
   "execution_count": null,
   "metadata": {},
   "outputs": [],
   "source": [
    "rotu_taxonomy0.loc[x_taxa].reset_index().values"
   ]
  },
  {
   "cell_type": "code",
   "execution_count": null,
   "metadata": {},
   "outputs": [],
   "source": [
    "motu_taxonomy.loc[y_taxa]"
   ]
  },
  {
   "cell_type": "code",
   "execution_count": null,
   "metadata": {},
   "outputs": [],
   "source": [
    "from sklearn.cross_decomposition import PLSCanonical, PLSRegression\n",
    "\n",
    "x, y = align_indexes(rotu_rabund[x_taxa], motu_rabund[y_taxa])\n",
    "pls = PLSCanonical(n_components=min(*x.shape, *y.shape), scale=False, tol=1e-7).fit(\n",
    "    x, y\n",
    ")"
   ]
  },
  {
   "cell_type": "code",
   "execution_count": null,
   "metadata": {},
   "outputs": [],
   "source": [
    "pseudo_map = pd.DataFrame(\n",
    "    (pls.y_rotations_ @ pls.x_rotations_.T), index=y.columns, columns=x.columns\n",
    ")\n",
    "pseudo_map.shape"
   ]
  },
  {
   "cell_type": "code",
   "execution_count": null,
   "metadata": {},
   "outputs": [],
   "source": [
    "plt.hist(pseudo_map.values.flatten(), bins=1000)\n",
    "plt.yscale(\"log\")\n",
    "None"
   ]
  },
  {
   "cell_type": "code",
   "execution_count": null,
   "metadata": {},
   "outputs": [],
   "source": [
    "cross_correlation = pd.DataFrame(\n",
    "    1\n",
    "    - sp.spatial.distance.cdist(\n",
    "        x.T, y.T, metric=lambda x, y: 1 - sp.stats.pearsonr(x, y)[0]\n",
    "    ),\n",
    "    columns=y.columns,\n",
    "    index=x.columns,\n",
    ")"
   ]
  },
  {
   "cell_type": "code",
   "execution_count": null,
   "metadata": {},
   "outputs": [],
   "source": [
    "sns.clustermap(\n",
    "    pseudo_map.fillna(0).T, center=0, figsize=(5, 5), xticklabels=1, yticklabels=1\n",
    ")\n",
    "sns.clustermap(\n",
    "    cross_correlation.fillna(0), center=0, figsize=(5, 5), xticklabels=1, yticklabels=1\n",
    ")"
   ]
  },
  {
   "cell_type": "code",
   "execution_count": null,
   "metadata": {},
   "outputs": [],
   "source": [
    "d = pd.DataFrame(\n",
    "    dict(\n",
    "        pls=pseudo_map.stack(),\n",
    "        cc=cross_correlation.T.stack(),\n",
    "        pls_rank_A=pseudo_map.rank(axis=0, ascending=False).stack(),\n",
    "        pls_rank_B=pseudo_map.rank(axis=1, ascending=False).stack(),\n",
    "        cc_rank_A=cross_correlation.T.rank(axis=0, ascending=False).stack(),\n",
    "        cc_rank_B=cross_correlation.T.rank(axis=1, ascending=False).stack(),\n",
    "    )\n",
    ")"
   ]
  },
  {
   "cell_type": "code",
   "execution_count": null,
   "metadata": {},
   "outputs": [],
   "source": [
    "(\n",
    "    d.reorder_levels([\"zotu\", \"species_id\"])\n",
    "    .loc[focal_zotu]\n",
    "    .join(rotu_rabund[x_taxa].mean().rename(\"rotu_mean\"))\n",
    "    .join(motu_rabund[y_taxa].mean().rename(\"motu_mean\"))\n",
    "    .assign(pls_score=lambda x: x.pls * x.rotu_mean * x.motu_mean)\n",
    "    .sort_values(\"pls_score\", ascending=False)\n",
    "    .head(10)\n",
    "    .join(motu_taxonomy.s__)\n",
    ")"
   ]
  },
  {
   "cell_type": "markdown",
   "metadata": {},
   "source": [
    "### \"Bacteroidaceae\""
   ]
  },
  {
   "cell_type": "markdown",
   "metadata": {},
   "source": [
    "####  Zotu74"
   ]
  },
  {
   "cell_type": "code",
   "execution_count": null,
   "metadata": {},
   "outputs": [],
   "source": [
    "focal_zotu = [\"Zotu74\"]\n",
    "focal_family_list = rotu_taxonomy0.loc[focal_zotu].str.split(\";\").str[-3].unique()\n",
    "assert len(focal_family_list) == 1\n",
    "focal_family = focal_family_list[0]\n",
    "print(focal_family)"
   ]
  },
  {
   "cell_type": "code",
   "execution_count": null,
   "metadata": {},
   "outputs": [],
   "source": [
    "x_taxa = idxwhere(rotu_taxonomy0.str.contains(f\";{focal_family};\"))\n",
    "y_taxa = idxwhere(\n",
    "    motu_taxonomy.apply(lambda x: \";\".join(x), axis=1).str.contains(\n",
    "        f\"f__{focal_family};\"\n",
    "    )\n",
    "    & motu_taxonomy.index.to_series().isin(motu_rabund.columns)\n",
    ")"
   ]
  },
  {
   "cell_type": "code",
   "execution_count": null,
   "metadata": {},
   "outputs": [],
   "source": [
    "rotu_taxonomy0.loc[x_taxa].reset_index().values"
   ]
  },
  {
   "cell_type": "code",
   "execution_count": null,
   "metadata": {},
   "outputs": [],
   "source": [
    "motu_taxonomy.loc[y_taxa]"
   ]
  },
  {
   "cell_type": "code",
   "execution_count": null,
   "metadata": {},
   "outputs": [],
   "source": [
    "from sklearn.cross_decomposition import PLSCanonical, PLSRegression\n",
    "\n",
    "x, y = align_indexes(rotu_rabund[x_taxa], motu_rabund[y_taxa])\n",
    "pls = PLSCanonical(n_components=min(*x.shape, *y.shape), scale=False, tol=1e-7).fit(\n",
    "    x, y\n",
    ")"
   ]
  },
  {
   "cell_type": "code",
   "execution_count": null,
   "metadata": {},
   "outputs": [],
   "source": [
    "pseudo_map = pd.DataFrame(\n",
    "    (pls.y_rotations_ @ pls.x_rotations_.T), index=y.columns, columns=x.columns\n",
    ")\n",
    "pseudo_map.shape"
   ]
  },
  {
   "cell_type": "code",
   "execution_count": null,
   "metadata": {},
   "outputs": [],
   "source": [
    "plt.hist(pseudo_map.values.flatten(), bins=1000)\n",
    "plt.yscale(\"log\")\n",
    "None"
   ]
  },
  {
   "cell_type": "code",
   "execution_count": null,
   "metadata": {},
   "outputs": [],
   "source": [
    "cross_correlation = pd.DataFrame(\n",
    "    1\n",
    "    - sp.spatial.distance.cdist(\n",
    "        x.T, y.T, metric=lambda x, y: 1 - sp.stats.pearsonr(x, y)[0]\n",
    "    ),\n",
    "    columns=y.columns,\n",
    "    index=x.columns,\n",
    ")"
   ]
  },
  {
   "cell_type": "code",
   "execution_count": null,
   "metadata": {},
   "outputs": [],
   "source": [
    "sns.clustermap(\n",
    "    pseudo_map.fillna(0).T, center=0, figsize=(5, 5), xticklabels=1, yticklabels=1\n",
    ")\n",
    "sns.clustermap(\n",
    "    cross_correlation.fillna(0), center=0, figsize=(5, 5), xticklabels=1, yticklabels=1\n",
    ")"
   ]
  },
  {
   "cell_type": "code",
   "execution_count": null,
   "metadata": {},
   "outputs": [],
   "source": [
    "d = pd.DataFrame(\n",
    "    dict(\n",
    "        pls=pseudo_map.stack(),\n",
    "        cc=cross_correlation.T.stack(),\n",
    "        pls_rank_A=pseudo_map.rank(axis=0, ascending=False).stack(),\n",
    "        pls_rank_B=pseudo_map.rank(axis=1, ascending=False).stack(),\n",
    "        cc_rank_A=cross_correlation.T.rank(axis=0, ascending=False).stack(),\n",
    "        cc_rank_B=cross_correlation.T.rank(axis=1, ascending=False).stack(),\n",
    "    )\n",
    ")"
   ]
  },
  {
   "cell_type": "code",
   "execution_count": null,
   "metadata": {},
   "outputs": [],
   "source": [
    "(\n",
    "    d.reorder_levels([\"zotu\", \"species_id\"])\n",
    "    .loc[focal_zotu]\n",
    "    .join(rotu_rabund[x_taxa].mean().rename(\"rotu_mean\"))\n",
    "    .join(motu_rabund[y_taxa].mean().rename(\"motu_mean\"))\n",
    "    .assign(pls_score=lambda x: x.pls * x.rotu_mean * x.motu_mean)\n",
    "    .sort_values(\"pls_score\", ascending=False)\n",
    "    .head(10)\n",
    "    .join(motu_taxonomy.s__)\n",
    ")"
   ]
  },
  {
   "cell_type": "markdown",
   "metadata": {},
   "source": [
    "##### Deeper dive into alternative Zotus to the same species"
   ]
  },
  {
   "cell_type": "code",
   "execution_count": null,
   "metadata": {},
   "outputs": [],
   "source": [
    "(\n",
    "    d\n",
    "    .loc[['102549']]\n",
    "    .join(rotu_rabund[x_taxa].mean().rename(\"rotu_mean\"))\n",
    "    .join(motu_rabund[y_taxa].mean().rename(\"motu_mean\"))\n",
    "    .assign(pls_score=lambda x: x.pls * x.rotu_mean * x.motu_mean)\n",
    "    .sort_values(\"pls\", ascending=False)\n",
    "    .head(10)\n",
    "    .join(motu_taxonomy.s__)\n",
    ")"
   ]
  },
  {
   "cell_type": "markdown",
   "metadata": {},
   "source": [
    "#### Zotu6"
   ]
  },
  {
   "cell_type": "code",
   "execution_count": null,
   "metadata": {},
   "outputs": [],
   "source": [
    "focal_zotu = [\"Zotu6\"]\n",
    "(\n",
    "    d.reorder_levels([\"zotu\", \"species_id\"])\n",
    "    .loc[focal_zotu]\n",
    "    .join(rotu_rabund[x_taxa].mean().rename(\"rotu_mean\"))\n",
    "    .join(motu_rabund[y_taxa].mean().rename(\"motu_mean\"))\n",
    "    .assign(pls_score=lambda x: x.pls * x.rotu_mean * x.motu_mean)\n",
    "    .sort_values(\"pls_score\", ascending=False)\n",
    "    .head(10)\n",
    "    .join(motu_taxonomy.s__)\n",
    ")"
   ]
  },
  {
   "cell_type": "code",
   "execution_count": null,
   "metadata": {},
   "outputs": [],
   "source": [
    "motu_taxonomy[['g__', 's__']].loc['101346']"
   ]
  },
  {
   "cell_type": "markdown",
   "metadata": {},
   "source": [
    "#### Zotu12"
   ]
  },
  {
   "cell_type": "code",
   "execution_count": null,
   "metadata": {},
   "outputs": [],
   "source": [
    "focal_zotu = [\"Zotu12\"]\n",
    "(\n",
    "    d.reorder_levels([\"zotu\", \"species_id\"])\n",
    "    .loc[focal_zotu]\n",
    "    .join(rotu_rabund[x_taxa].mean().rename(\"rotu_mean\"))\n",
    "    .join(motu_rabund[y_taxa].mean().rename(\"motu_mean\"))\n",
    "    .assign(pls_score=lambda x: x.pls * x.rotu_mean * x.motu_mean)\n",
    "    .sort_values(\"pls_score\", ascending=False)\n",
    "    .head(10)\n",
    "    .join(motu_taxonomy.s__)\n",
    ")"
   ]
  },
  {
   "cell_type": "code",
   "execution_count": null,
   "metadata": {},
   "outputs": [],
   "source": [
    "motu_taxonomy[['g__', 's__']].loc['101337']"
   ]
  },
  {
   "cell_type": "markdown",
   "metadata": {},
   "source": [
    "#### 102478"
   ]
  },
  {
   "cell_type": "code",
   "execution_count": null,
   "metadata": {},
   "outputs": [],
   "source": [
    "focal_motu = '102478'\n",
    "\n",
    "print(motu_taxonomy.loc[focal_motu])\n",
    "\n",
    "(\n",
    "    d.reorder_levels([\"species_id\", \"zotu\"])\n",
    "    .join(rotu_rabund[x_taxa].mean().rename(\"rotu_mean\"))\n",
    "    .join(motu_rabund[y_taxa].mean().rename(\"motu_mean\"))\n",
    "    .assign(pls_score=lambda x: x.pls * x.rotu_mean * x.motu_mean)\n",
    "    .sort_values(\"pls_score\", ascending=False)\n",
    "    .join(rotu_taxonomy0.str[-20:])\n",
    "    .loc[focal_motu]\n",
    ")"
   ]
  },
  {
   "cell_type": "markdown",
   "metadata": {},
   "source": [
    "#### 101378"
   ]
  },
  {
   "cell_type": "code",
   "execution_count": null,
   "metadata": {},
   "outputs": [],
   "source": [
    "focal_motu = '101378'\n",
    "\n",
    "print(motu_taxonomy.loc[focal_motu])\n",
    "\n",
    "(\n",
    "    d.reorder_levels([\"species_id\", \"zotu\"])\n",
    "    .join(rotu_rabund[x_taxa].mean().rename(\"rotu_mean\"))\n",
    "    .join(motu_rabund[y_taxa].mean().rename(\"motu_mean\"))\n",
    "    .assign(pls_score=lambda x: x.pls * x.rotu_mean * x.motu_mean)\n",
    "    .sort_values(\"pls_score\", ascending=False)\n",
    "    .join(rotu_taxonomy0.str[-20:])\n",
    "    .loc[focal_motu]\n",
    ")"
   ]
  },
  {
   "cell_type": "code",
   "execution_count": null,
   "metadata": {},
   "outputs": [],
   "source": [
    "motu_taxonomy.loc[focal_motu]"
   ]
  },
  {
   "cell_type": "markdown",
   "metadata": {},
   "source": [
    "### \"Peptostreptococcaceae\" (Zotu100)"
   ]
  },
  {
   "cell_type": "code",
   "execution_count": null,
   "metadata": {},
   "outputs": [],
   "source": [
    "focal_zotu = [\"Zotu100\"]\n",
    "focal_family_list = rotu_taxonomy0.loc[focal_zotu].str.split(\";\").str[-3].unique()\n",
    "assert len(focal_family_list) == 1\n",
    "focal_family = focal_family_list[0]\n",
    "print(focal_family)"
   ]
  },
  {
   "cell_type": "code",
   "execution_count": null,
   "metadata": {},
   "outputs": [],
   "source": [
    "x_taxa = idxwhere(rotu_taxonomy0.str.contains(f\";{focal_family};\"))\n",
    "y_taxa = idxwhere(\n",
    "    motu_taxonomy.apply(lambda x: \";\".join(x), axis=1).str.contains(\n",
    "        f\"f__{focal_family};\"\n",
    "    )\n",
    "    & motu_taxonomy.index.to_series().isin(motu_rabund.columns)\n",
    ")"
   ]
  },
  {
   "cell_type": "code",
   "execution_count": null,
   "metadata": {},
   "outputs": [],
   "source": [
    "rotu_taxonomy0.loc[x_taxa].reset_index().values"
   ]
  },
  {
   "cell_type": "code",
   "execution_count": null,
   "metadata": {},
   "outputs": [],
   "source": [
    "motu_taxonomy.loc[y_taxa]"
   ]
  },
  {
   "cell_type": "code",
   "execution_count": null,
   "metadata": {},
   "outputs": [],
   "source": [
    "from sklearn.cross_decomposition import PLSCanonical, PLSRegression\n",
    "\n",
    "x, y = align_indexes(rotu_rabund[x_taxa], motu_rabund[y_taxa])\n",
    "pls = PLSCanonical(n_components=min(*x.shape, *y.shape), scale=False, tol=1e-7).fit(\n",
    "    x, y\n",
    ")"
   ]
  },
  {
   "cell_type": "code",
   "execution_count": null,
   "metadata": {},
   "outputs": [],
   "source": [
    "pseudo_map = pd.DataFrame(\n",
    "    (pls.y_rotations_ @ pls.x_rotations_.T), index=y.columns, columns=x.columns\n",
    ")\n",
    "pseudo_map.shape"
   ]
  },
  {
   "cell_type": "code",
   "execution_count": null,
   "metadata": {},
   "outputs": [],
   "source": [
    "plt.hist(pseudo_map.values.flatten(), bins=1000)\n",
    "plt.yscale(\"log\")\n",
    "None"
   ]
  },
  {
   "cell_type": "code",
   "execution_count": null,
   "metadata": {},
   "outputs": [],
   "source": [
    "cross_correlation = pd.DataFrame(\n",
    "    1\n",
    "    - sp.spatial.distance.cdist(\n",
    "        x.T, y.T, metric=lambda x, y: 1 - sp.stats.pearsonr(x, y)[0]\n",
    "    ),\n",
    "    columns=y.columns,\n",
    "    index=x.columns,\n",
    ")"
   ]
  },
  {
   "cell_type": "code",
   "execution_count": null,
   "metadata": {},
   "outputs": [],
   "source": [
    "sns.clustermap(\n",
    "    pseudo_map.fillna(0).T, center=0, figsize=(5, 5), xticklabels=1, yticklabels=1\n",
    ")\n",
    "sns.clustermap(\n",
    "    cross_correlation.fillna(0), center=0, figsize=(5, 5), xticklabels=1, yticklabels=1\n",
    ")"
   ]
  },
  {
   "cell_type": "code",
   "execution_count": null,
   "metadata": {},
   "outputs": [],
   "source": [
    "d = pd.DataFrame(\n",
    "    dict(\n",
    "        pls=pseudo_map.stack(),\n",
    "        cc=cross_correlation.T.stack(),\n",
    "        pls_rank_A=pseudo_map.rank(axis=0, ascending=False).stack(),\n",
    "        pls_rank_B=pseudo_map.rank(axis=1, ascending=False).stack(),\n",
    "        cc_rank_A=cross_correlation.T.rank(axis=0, ascending=False).stack(),\n",
    "        cc_rank_B=cross_correlation.T.rank(axis=1, ascending=False).stack(),\n",
    "    )\n",
    ")"
   ]
  },
  {
   "cell_type": "code",
   "execution_count": null,
   "metadata": {},
   "outputs": [],
   "source": [
    "(\n",
    "    d.reorder_levels([\"zotu\", \"species_id\"])\n",
    "    .loc[focal_zotu]\n",
    "    .join(rotu_rabund[x_taxa].mean().rename(\"rotu_mean\"))\n",
    "    .join(motu_rabund[y_taxa].mean().rename(\"motu_mean\"))\n",
    "    .assign(pls_score=lambda x: x.pls * x.rotu_mean * x.motu_mean)\n",
    "    .sort_values(\"pls_score\", ascending=False)\n",
    "    .head(10)\n",
    "    .join(motu_taxonomy.s__)\n",
    ")"
   ]
  },
  {
   "cell_type": "markdown",
   "metadata": {},
   "source": [
    "### \"Enterococcaceae\" (100323)"
   ]
  },
  {
   "cell_type": "code",
   "execution_count": null,
   "metadata": {},
   "outputs": [],
   "source": [
    "focal_motu = [\"100323\"]\n",
    "focal_family_list = list(motu_taxonomy.loc[focal_motu].f__.str[3:].values)\n",
    "focal_family_list\n",
    "assert len(focal_family_list) == 1\n",
    "focal_family = focal_family_list[0]\n",
    "print(focal_family)"
   ]
  },
  {
   "cell_type": "code",
   "execution_count": null,
   "metadata": {},
   "outputs": [],
   "source": [
    "x_taxa = idxwhere(rotu_taxonomy0.str.contains(f\";{focal_family};\"))\n",
    "y_taxa = idxwhere(\n",
    "    motu_taxonomy.apply(lambda x: \";\".join(x), axis=1).str.contains(\n",
    "        f\"f__{focal_family};\"\n",
    "    )\n",
    "    & motu_taxonomy.index.to_series().isin(motu_rabund.columns)\n",
    ")"
   ]
  },
  {
   "cell_type": "code",
   "execution_count": null,
   "metadata": {},
   "outputs": [],
   "source": [
    "rotu_taxonomy0.loc[x_taxa].reset_index().values"
   ]
  },
  {
   "cell_type": "code",
   "execution_count": null,
   "metadata": {},
   "outputs": [],
   "source": [
    "motu_taxonomy.loc[y_taxa]"
   ]
  },
  {
   "cell_type": "code",
   "execution_count": null,
   "metadata": {},
   "outputs": [],
   "source": [
    "from sklearn.cross_decomposition import PLSCanonical, PLSRegression\n",
    "\n",
    "x, y = align_indexes(rotu_rabund[x_taxa], motu_rabund[y_taxa])\n",
    "pls = PLSCanonical(n_components=min(*x.shape, *y.shape), scale=False, tol=1e-7).fit(\n",
    "    x, y\n",
    ")"
   ]
  },
  {
   "cell_type": "code",
   "execution_count": null,
   "metadata": {},
   "outputs": [],
   "source": [
    "pseudo_map = pd.DataFrame(\n",
    "    (pls.y_rotations_ @ pls.x_rotations_.T), index=y.columns, columns=x.columns\n",
    ")\n",
    "pseudo_map.shape"
   ]
  },
  {
   "cell_type": "code",
   "execution_count": null,
   "metadata": {},
   "outputs": [],
   "source": [
    "plt.hist(pseudo_map.values.flatten(), bins=1000)\n",
    "plt.yscale(\"log\")\n",
    "None"
   ]
  },
  {
   "cell_type": "code",
   "execution_count": null,
   "metadata": {},
   "outputs": [],
   "source": [
    "cross_correlation = pd.DataFrame(\n",
    "    1\n",
    "    - sp.spatial.distance.cdist(\n",
    "        x.T, y.T, metric=lambda x, y: 1 - sp.stats.pearsonr(x, y)[0]\n",
    "    ),\n",
    "    columns=y.columns,\n",
    "    index=x.columns,\n",
    ")"
   ]
  },
  {
   "cell_type": "code",
   "execution_count": null,
   "metadata": {},
   "outputs": [],
   "source": [
    "sns.clustermap(\n",
    "    pseudo_map.fillna(0).T, center=0, figsize=(5, 5), xticklabels=1, yticklabels=1\n",
    ")\n",
    "sns.clustermap(\n",
    "    cross_correlation.fillna(0), center=0, figsize=(5, 5), xticklabels=1, yticklabels=1\n",
    ")"
   ]
  },
  {
   "cell_type": "code",
   "execution_count": null,
   "metadata": {},
   "outputs": [],
   "source": [
    "d = pd.DataFrame(\n",
    "    dict(\n",
    "        pls=pseudo_map.stack(),\n",
    "        cc=cross_correlation.T.stack(),\n",
    "        pls_rank_A=pseudo_map.rank(axis=0, ascending=False).stack(),\n",
    "        pls_rank_B=pseudo_map.rank(axis=1, ascending=False).stack(),\n",
    "        cc_rank_A=cross_correlation.T.rank(axis=0, ascending=False).stack(),\n",
    "        cc_rank_B=cross_correlation.T.rank(axis=1, ascending=False).stack(),\n",
    "    )\n",
    ")"
   ]
  },
  {
   "cell_type": "code",
   "execution_count": null,
   "metadata": {},
   "outputs": [],
   "source": [
    "(\n",
    "    d.reorder_levels([\"species_id\", \"zotu\"])\n",
    "    .join(rotu_rabund[x_taxa].mean().rename(\"rotu_mean\"))\n",
    "    .join(motu_rabund[y_taxa].mean().rename(\"motu_mean\"))\n",
    "    .assign(pls_score=lambda x: x.pls * x.rotu_mean * x.motu_mean)\n",
    "    .sort_values(\"pls_score\", ascending=False)\n",
    "    .join(rotu_taxonomy0.str[-20:])\n",
    "    .loc[focal_motu]\n",
    ")"
   ]
  },
  {
   "cell_type": "markdown",
   "metadata": {},
   "source": [
    "### \"f__Desulfovibrionaceae\" (101359)"
   ]
  },
  {
   "cell_type": "code",
   "execution_count": null,
   "metadata": {},
   "outputs": [],
   "source": [
    "focal_motu = [\"101359\"]\n",
    "focal_family_list = list(motu_taxonomy.loc[focal_motu].f__.str[3:].values)\n",
    "focal_family_list\n",
    "assert len(focal_family_list) == 1\n",
    "focal_family = focal_family_list[0]\n",
    "print(focal_family)"
   ]
  },
  {
   "cell_type": "code",
   "execution_count": null,
   "metadata": {},
   "outputs": [],
   "source": [
    "x_taxa = idxwhere(rotu_taxonomy0.str.contains(f\";{focal_family};\"))\n",
    "y_taxa = idxwhere(\n",
    "    motu_taxonomy.apply(lambda x: \";\".join(x), axis=1).str.contains(\n",
    "        f\"f__{focal_family};\"\n",
    "    )\n",
    "    & motu_taxonomy.index.to_series().isin(motu_rabund.columns)\n",
    ")"
   ]
  },
  {
   "cell_type": "code",
   "execution_count": null,
   "metadata": {},
   "outputs": [],
   "source": [
    "rotu_taxonomy0.loc[x_taxa].reset_index().values"
   ]
  },
  {
   "cell_type": "code",
   "execution_count": null,
   "metadata": {},
   "outputs": [],
   "source": [
    "motu_taxonomy.loc[y_taxa]"
   ]
  },
  {
   "cell_type": "code",
   "execution_count": null,
   "metadata": {},
   "outputs": [],
   "source": [
    "from sklearn.cross_decomposition import PLSCanonical, PLSRegression\n",
    "\n",
    "x, y = align_indexes(rotu_rabund[x_taxa], motu_rabund[y_taxa])\n",
    "pls = PLSCanonical(n_components=min(*x.shape, *y.shape), scale=False, tol=1e-7).fit(\n",
    "    x, y\n",
    ")"
   ]
  },
  {
   "cell_type": "code",
   "execution_count": null,
   "metadata": {},
   "outputs": [],
   "source": [
    "pseudo_map = pd.DataFrame(\n",
    "    (pls.y_rotations_ @ pls.x_rotations_.T), index=y.columns, columns=x.columns\n",
    ")\n",
    "pseudo_map.shape"
   ]
  },
  {
   "cell_type": "code",
   "execution_count": null,
   "metadata": {},
   "outputs": [],
   "source": [
    "plt.hist(pseudo_map.values.flatten(), bins=1000)\n",
    "plt.yscale(\"log\")\n",
    "None"
   ]
  },
  {
   "cell_type": "code",
   "execution_count": null,
   "metadata": {},
   "outputs": [],
   "source": [
    "cross_correlation = pd.DataFrame(\n",
    "    1\n",
    "    - sp.spatial.distance.cdist(\n",
    "        x.T, y.T, metric=lambda x, y: 1 - sp.stats.pearsonr(x, y)[0]\n",
    "    ),\n",
    "    columns=y.columns,\n",
    "    index=x.columns,\n",
    ")"
   ]
  },
  {
   "cell_type": "code",
   "execution_count": null,
   "metadata": {},
   "outputs": [],
   "source": [
    "sns.clustermap(\n",
    "    pseudo_map.fillna(0).T, center=0, figsize=(5, 5), xticklabels=1, yticklabels=1\n",
    ")\n",
    "sns.clustermap(\n",
    "    cross_correlation.fillna(0), center=0, figsize=(5, 5), xticklabels=1, yticklabels=1\n",
    ")"
   ]
  },
  {
   "cell_type": "code",
   "execution_count": null,
   "metadata": {},
   "outputs": [],
   "source": [
    "d = pd.DataFrame(\n",
    "    dict(\n",
    "        pls=pseudo_map.stack(),\n",
    "        cc=cross_correlation.T.stack(),\n",
    "        pls_rank_A=pseudo_map.rank(axis=0, ascending=False).stack(),\n",
    "        pls_rank_B=pseudo_map.rank(axis=1, ascending=False).stack(),\n",
    "        cc_rank_A=cross_correlation.T.rank(axis=0, ascending=False).stack(),\n",
    "        cc_rank_B=cross_correlation.T.rank(axis=1, ascending=False).stack(),\n",
    "    )\n",
    ")"
   ]
  },
  {
   "cell_type": "code",
   "execution_count": null,
   "metadata": {},
   "outputs": [],
   "source": [
    "(\n",
    "    d.reorder_levels([\"species_id\", \"zotu\"])\n",
    "    .join(rotu_rabund[x_taxa].mean().rename(\"rotu_mean\"))\n",
    "    .join(motu_rabund[y_taxa].mean().rename(\"motu_mean\"))\n",
    "    .assign(pls_score=lambda x: x.pls * x.rotu_mean * x.motu_mean)\n",
    "    .sort_values(\"pls_score\", ascending=False)\n",
    "    .join(rotu_taxonomy0.str[-20:])\n",
    "    .loc[focal_motu]\n",
    ")"
   ]
  },
  {
   "cell_type": "markdown",
   "metadata": {},
   "source": [
    "## All-by-all"
   ]
  },
  {
   "cell_type": "raw",
   "metadata": {},
   "source": [
    "family_list = list(rotu_taxonomy.f__.value_counts().index)\n",
    "family_list"
   ]
  },
  {
   "cell_type": "code",
   "execution_count": null,
   "metadata": {},
   "outputs": [],
   "source": [
    "motu_list = motu_rabund.columns\n",
    "rotu_list = rotu_rabund.columns\n",
    "print(len(motu_list), len(rotu_list))\n",
    "\n",
    "reciprocal_hits_results = reciprocal_hits(\n",
    "    motu_rabund,\n",
    "    rotu_rabund,\n",
    "    alpha=1,\n",
    "    rank_thresh=2,\n",
    "    corr_thresh=0,\n",
    ").join(motu_taxonomy[['f__', 'g__', 's__']], on='species_id').join(rotu_taxonomy[['f__', 'g__']], lsuffix='mgen', rsuffix='zotu').sort_values('zotu')\n",
    "\n",
    "plt.hist(reciprocal_hits_results['corr'], bins=np.linspace(0, 1))\n",
    "plt.xlabel('Pearson Correlation')\n",
    "plt.ylabel('Count')\n",
    "plt.title('Distribution of Correlations Between Matches')\n",
    "plt.savefig('fig/een_species_matching_histogram.pdf')\n",
    "\n",
    "\n",
    "reciprocal_hits_results.sort_values('score')"
   ]
  },
  {
   "cell_type": "code",
   "execution_count": null,
   "metadata": {},
   "outputs": [],
   "source": [
    "reciprocal_hits_results.to_csv('fig/een_zotu_species_matching.tsv', sep='\\t')"
   ]
  },
  {
   "cell_type": "code",
   "execution_count": null,
   "metadata": {},
   "outputs": [],
   "source": [
    "d = pd.DataFrame(dict(rotu=rotu_rabund[['Zotu1', 'Zotu11']].sum(1), motu=motu_rabund[['102478']].sum(1))).dropna()\n",
    "print(sp.stats.pearsonr(d['motu'], d['rotu']))\n",
    "plt.scatter('rotu', 'motu', data=d)"
   ]
  },
  {
   "cell_type": "code",
   "execution_count": null,
   "metadata": {},
   "outputs": [],
   "source": [
    "d = pd.DataFrame(dict(rotu=rotu_rabund[['Zotu4']].sum(1), motu=motu_rabund[['102506']].sum(1))).dropna()\n",
    "print(sp.stats.pearsonr(d['motu'], d['rotu']))\n",
    "plt.scatter('rotu', 'motu', data=d)"
   ]
  },
  {
   "cell_type": "code",
   "execution_count": null,
   "metadata": {},
   "outputs": [],
   "source": [
    "d = pd.DataFrame(dict(\n",
    "    rotu=rotu_rabund[['Zotu5']].sum(1),\n",
    "    motu_A=motu_rabund[['101386']].sum(1),\n",
    "    motu_B=motu_rabund[['101493']].sum(1),\n",
    "    motu_both=motu_rabund[['101493', '101386']].sum(1),\n",
    "\n",
    ")).dropna()\n",
    "print(sp.stats.pearsonr(d['motu_A'], d['rotu']))\n",
    "print(sp.stats.pearsonr(d['motu_B'], d['rotu']))\n",
    "print(sp.stats.pearsonr(d['motu_both'], d['rotu']))\n",
    "plt.scatter('rotu', 'motu_A', data=d, label='C. clostridioforme')\n",
    "plt.scatter('rotu', 'motu_B', data=d, label='C. bolteae')\n",
    "plt.scatter('rotu', 'motu_both', data=d, label='Combined')\n",
    "plt.plot([0, 0.5], [0, 0.5])\n",
    "plt.xlabel('zOTU5 relative abundance')\n",
    "plt.ylabel('Species relative abundance')\n",
    "plt.yscale('log')\n",
    "plt.xscale('log')\n",
    "plt.legend()\n",
    "\n",
    "plt.savefig('fig/een_zotu5_species_matching.pdf')"
   ]
  },
  {
   "cell_type": "code",
   "execution_count": null,
   "metadata": {},
   "outputs": [],
   "source": [
    "d = pd.DataFrame(dict(\n",
    "    rotu_A=rotu_rabund[['Zotu79']].sum(1),\n",
    "    rotu_B=rotu_rabund[['Zotu80']].sum(1),\n",
    "    rotu_both=rotu_rabund[['Zotu79', 'Zotu80']].sum(1),\n",
    "    motu_A=motu_rabund[['100107']].sum(1),\n",
    "\n",
    ")).dropna()\n",
    "print(sp.stats.pearsonr(d['motu_A'], d['rotu_A']))\n",
    "print(sp.stats.pearsonr(d['motu_A'], d['rotu_B']))\n",
    "print(sp.stats.pearsonr(d['motu_A'], d['rotu_both']))\n",
    "plt.scatter('motu_A', 'rotu_A', data=d, label='Zotu79')\n",
    "plt.scatter('motu_A', 'rotu_B', data=d, label='Zotu80')\n",
    "plt.scatter('motu_A', 'rotu_both', data=d, label='Combined')\n",
    "plt.plot([0, 0.5], [0, 0.5])\n",
    "plt.ylabel('zOTU relative abundance')\n",
    "plt.xlabel('Species 100107 relative abundance')\n",
    "# plt.yscale('log')\n",
    "# plt.xscale('log')\n",
    "plt.legend()\n",
    "\n",
    "# plt.savefig('fig/een_zotu5_species_matching.pdf')"
   ]
  },
  {
   "cell_type": "code",
   "execution_count": null,
   "metadata": {},
   "outputs": [],
   "source": [
    "d = pd.DataFrame(dict(\n",
    "    rotu_A=rotu_rabund[['Zotu79']].sum(1),\n",
    "    rotu_B=rotu_rabund[['Zotu80']].sum(1),\n",
    "    rotu_both=rotu_rabund[['Zotu79', 'Zotu80']].sum(1),\n",
    "    motu_A=motu_rabund[['100107']].sum(1),\n",
    "\n",
    ")).dropna()\n",
    "print(sp.stats.pearsonr(d['motu_A'], d['rotu_A']))\n",
    "print(sp.stats.pearsonr(d['rotu_A'], d['rotu_B']))\n",
    "plt.scatter('rotu_A', 'rotu_B', data=d)\n",
    "plt.plot([0, 0.5], [0, 0.5])\n",
    "plt.ylabel('Zotu80 relative abundance')\n",
    "plt.xlabel('Zotu79 relative abundance')\n",
    "# plt.yscale('log')\n",
    "# plt.xscale('log')\n",
    "\n",
    "# plt.savefig('fig/een_zotu5_species_matching.pdf')"
   ]
  },
  {
   "cell_type": "markdown",
   "metadata": {},
   "source": [
    "## PLS-based"
   ]
  },
  {
   "cell_type": "code",
   "execution_count": null,
   "metadata": {},
   "outputs": [],
   "source": [
    "motu_list = motu_rabund.columns\n",
    "rotu_list = rotu_rabund.columns\n",
    "print(len(motu_list), len(rotu_list))\n",
    "\n",
    "reciprocal_hits_results2 = reciprocal_hits(\n",
    "    motu_rabund,\n",
    "    rotu_rabund,\n",
    "    cc_func=pls_pseudo_mapping,\n",
    "    rank_thresh=2,\n",
    ").join(motu_taxonomy[['f__', 'g__', 's__']], on='species_id').join(rotu_taxonomy[['f__', 'g__']], lsuffix='mgen', rsuffix='zotu').sort_values('zotu')\n",
    "\n",
    "\n",
    "reciprocal_hits_results2.sort_values('zotu')"
   ]
  },
  {
   "cell_type": "code",
   "execution_count": null,
   "metadata": {},
   "outputs": [],
   "source": [
    "reciprocal_hits_results2.sort_values('corr').head(50)"
   ]
  },
  {
   "cell_type": "code",
   "execution_count": null,
   "metadata": {},
   "outputs": [],
   "source": [
    "reciprocal_hits_results2.xs('100032', level='species_id')"
   ]
  },
  {
   "cell_type": "code",
   "execution_count": null,
   "metadata": {},
   "outputs": [],
   "source": [
    "reciprocal_hits_results2.xs('Zotu62', level='zotu')"
   ]
  },
  {
   "cell_type": "code",
   "execution_count": null,
   "metadata": {},
   "outputs": [],
   "source": [
    "d = pd.DataFrame(dict(\n",
    "    x=motu_rabund[['100076', '100217']].sum(1),\n",
    "    y=rotu_rabund[['Zotu35']].sum(1),\n",
    ")).dropna()\n",
    "print(sp.stats.pearsonr(d['x'], d['y']))\n",
    "plt.scatter('x', 'y', data=d)\n",
    "plt.plot([0, 0.5], [0, 0.5])\n",
    "# plt.yscale('log')\n",
    "# plt.xscale('log')\n",
    "\n",
    "# plt.savefig('fig/een_zotu5_species_matching.pdf')"
   ]
  },
  {
   "cell_type": "markdown",
   "metadata": {},
   "source": [
    "## Non-negative PLS?"
   ]
  },
  {
   "cell_type": "code",
   "execution_count": null,
   "metadata": {},
   "outputs": [],
   "source": [
    "motu_list = motu_rabund.columns\n",
    "rotu_list = rotu_rabund.columns\n",
    "print(len(motu_list), len(rotu_list))\n",
    "\n",
    "x, y = lib.pandas_util.align_indexes(motu_rabund, rotu_rabund)\n",
    "\n",
    "sns.clustermap((x.T @ y), norm=mpl.colors.SymLogNorm(1e-5))"
   ]
  },
  {
   "cell_type": "code",
   "execution_count": null,
   "metadata": {},
   "outputs": [],
   "source": [
    "from sklearn.decomposition import non_negative_factorization\n",
    "z = (x.T @ y)\n",
    "w, h, n_iter = non_negative_factorization(z, n_components=max(*z.shape), verbose=2, solver='mu', alpha_W=0.1, alpha_H=0.0, l1_ratio=1.0)"
   ]
  },
  {
   "cell_type": "code",
   "execution_count": null,
   "metadata": {},
   "outputs": [],
   "source": [
    "w.shape"
   ]
  },
  {
   "cell_type": "code",
   "execution_count": null,
   "metadata": {},
   "outputs": [],
   "source": [
    "pd.DataFrame(w, "
   ]
  },
  {
   "cell_type": "code",
   "execution_count": null,
   "metadata": {},
   "outputs": [],
   "source": [
    "sns.clustermap(w, norm=mpl.colors.SymLogNorm(1e-10))"
   ]
  },
  {
   "cell_type": "markdown",
   "metadata": {},
   "source": [
    "## Family-wise"
   ]
  },
  {
   "cell_type": "code",
   "execution_count": null,
   "metadata": {},
   "outputs": [],
   "source": [
    "family = 'Lachnospiraceae'\n",
    "\n",
    "motu_list = idxwhere(motu_taxonomy.f__.str.startswith(f'f__{family}'))\n",
    "rotu_list = idxwhere(rotu_taxonomy.f__.str.startswith(f'{family}'))\n",
    "\n",
    "print(len(motu_list), len(rotu_list))"
   ]
  },
  {
   "cell_type": "code",
   "execution_count": null,
   "metadata": {},
   "outputs": [],
   "source": [
    "rotu_taxonomy.f__.unique()"
   ]
  },
  {
   "cell_type": "code",
   "execution_count": null,
   "metadata": {},
   "outputs": [],
   "source": [
    "reciprocal_hits_results3 = []\n",
    "# for family in ['Clostridiaceae']:\n",
    "for family in rotu_taxonomy.f__.unique():\n",
    "    if family == '':\n",
    "        continue\n",
    "    motu_list = idxwhere(motu_taxonomy.f__.str.startswith(f'f__{family}'))\n",
    "    rotu_list = idxwhere(rotu_taxonomy.f__.str.startswith(f'{family}'))\n",
    "    print(family, len(motu_list), len(rotu_list))\n",
    "    reciprocal_hits_results3.append(reciprocal_hits(\n",
    "        motu_rabund.reindex(columns=motu_list).dropna(axis='columns'),\n",
    "        rotu_rabund.reindex(columns=rotu_list).dropna(axis='columns'),\n",
    "        cc_func=cross_correlation,\n",
    "        rank_thresh=2,\n",
    "    ))\n",
    "    \n",
    "    \n",
    "reciprocal_hits_results3 = pd.concat(reciprocal_hits_results3).join(motu_taxonomy[['f__', 'g__', 's__']], on='species_id').join(rotu_taxonomy[['f__', 'g__']], lsuffix='mgen', rsuffix='zotu').sort_values('zotu')\n",
    "reciprocal_hits_results3.sort_values('species_id')"
   ]
  },
  {
   "cell_type": "code",
   "execution_count": null,
   "metadata": {},
   "outputs": [],
   "source": [
    "d = pd.DataFrame(dict(rotu=rotu_rabund[['Zotu10', 'Zotu15']].sum(1), motu=motu_rabund[['100032']].sum(1))).dropna()\n",
    "print(sp.stats.pearsonr(d['motu'], d['rotu']))\n",
    "plt.scatter('rotu', 'motu', data=d)\n",
    "plt.plot([0, 0.5], [0, 0.5])"
   ]
  }
 ],
 "metadata": {
  "kernelspec": {
   "display_name": "toolz2",
   "language": "python",
   "name": "toolz2"
  },
  "language_info": {
   "codemirror_mode": {
    "name": "ipython",
    "version": 3
   },
   "file_extension": ".py",
   "mimetype": "text/x-python",
   "name": "python",
   "nbconvert_exporter": "python",
   "pygments_lexer": "ipython3",
   "version": "3.10.12"
  }
 },
 "nbformat": 4,
 "nbformat_minor": 5
}