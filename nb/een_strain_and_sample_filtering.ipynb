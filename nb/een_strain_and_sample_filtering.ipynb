{
 "cells": [
  {
   "cell_type": "markdown",
   "metadata": {},
   "source": [
    "# Preamble"
   ]
  },
  {
   "cell_type": "code",
   "execution_count": null,
   "metadata": {},
   "outputs": [],
   "source": [
    "%load_ext autoreload"
   ]
  },
  {
   "cell_type": "code",
   "execution_count": null,
   "metadata": {},
   "outputs": [],
   "source": [
    "import os as _os\n",
    "\n",
    "_os.chdir(_os.environ[\"PROJECT_ROOT\"])\n",
    "_os.path.realpath(_os.path.curdir)"
   ]
  },
  {
   "cell_type": "markdown",
   "metadata": {},
   "source": [
    "## Imports"
   ]
  },
  {
   "cell_type": "code",
   "execution_count": null,
   "metadata": {},
   "outputs": [],
   "source": [
    "import os\n",
    "import subprocess\n",
    "import time\n",
    "from itertools import chain, product\n",
    "from tempfile import mkstemp\n",
    "from warnings import filterwarnings\n",
    "\n",
    "import matplotlib as mpl\n",
    "import matplotlib.pyplot as plt\n",
    "import numpy as np\n",
    "import pandas as pd\n",
    "import scipy as sp\n",
    "import seaborn as sns\n",
    "import sfacts as sf\n",
    "import statsmodels.formula.api as smf\n",
    "import xarray as xr\n",
    "from mpl_toolkits.axes_grid1 import make_axes_locatable\n",
    "\n",
    "# from fastcluster import linkage\n",
    "from scipy.cluster.hierarchy import linkage\n",
    "from scipy.spatial.distance import pdist, squareform\n",
    "from statsmodels.graphics.regressionplots import influence_plot\n",
    "from statsmodels.stats.multitest import fdrcorrection\n",
    "from tqdm import tqdm\n",
    "\n",
    "import lib.plot\n",
    "import lib.thisproject.data\n",
    "from lib.pandas_util import align_indexes, aligned_index, idxwhere, invert_mapping"
   ]
  },
  {
   "cell_type": "code",
   "execution_count": null,
   "metadata": {},
   "outputs": [],
   "source": [
    "sns.set_context(\"talk\")\n",
    "plt.rcParams[\"figure.dpi\"] = 50"
   ]
  },
  {
   "cell_type": "code",
   "execution_count": null,
   "metadata": {},
   "outputs": [],
   "source": [
    "def metagenotype_entropy_error(\n",
    "    world, metagenotype=None, discretized=False, fuzz_eps=1e-5, montecarlo_draws=1\n",
    "):\n",
    "    if metagenotype is None:\n",
    "        metagenotype = world\n",
    "    metagenotype = (\n",
    "        metagenotype.metagenotype\n",
    "    )  # In case metagenotype is a full World object.\n",
    "    if discretized:\n",
    "        g = world.genotype.discretized().fuzzed(fuzz_eps).data\n",
    "    else:\n",
    "        g = world.genotype.data\n",
    "    p = world.community.data @ g\n",
    "    m = metagenotype.total_counts().astype(int)\n",
    "    mu = m.mean(\"position\")\n",
    "\n",
    "    obs_entropy = metagenotype.entropy()\n",
    "    err_accum = 0\n",
    "    for i in range(montecarlo_draws):\n",
    "        sim = sp.stats.binom(m, p).rvs()\n",
    "        sim_mgtp = sf.data.Metagenotype.from_counts_and_totals(\n",
    "            sim,\n",
    "            m,\n",
    "            coords=dict(sample=metagenotype.sample, position=metagenotype.position),\n",
    "        )\n",
    "        sim_sample_entropy = sim_mgtp.entropy()\n",
    "        err = obs_entropy - sim_sample_entropy\n",
    "        err_accum += err\n",
    "\n",
    "    err = err_accum / montecarlo_draws\n",
    "    \n",
    "    return ((err * mu).sum() / mu.sum()).values, err.to_series()"
   ]
  },
  {
   "cell_type": "markdown",
   "metadata": {},
   "source": [
    "# Data"
   ]
  },
  {
   "cell_type": "code",
   "execution_count": null,
   "metadata": {},
   "outputs": [],
   "source": [
    "world = sf.data.World.load('data/group/een/species/sp-102506/r.proc.gtpro.filt-poly05-cvrg05.ss-g10000-block0-seed0.fit-sfacts48-s85-seed0.world.nc')\n",
    "print(world.sizes)\n",
    "\n",
    "np.random.seed(0)\n",
    "\n",
    "position_ss = world.random_sample(position=min(1000, world.sizes['position'])).position\n",
    "sample_linkage = world.metagenotype.linkage()\n",
    "mgtp_error = sf.evaluation.metagenotype_error2(world, discretized=False)[1]\n",
    "entrp_error = sf.evaluation.metagenotype_entropy_error(world, discretized=False, p=1, montecarlo_draws=10)[1]\n",
    "comm_entrp = world.community.entropy().to_series()"
   ]
  },
  {
   "cell_type": "raw",
   "metadata": {},
   "source": [
    "plt.scatter(\n",
    "    sf.evaluation.metagenotype_entropy_error(world, discretized=False, p=1, montecarlo_draws=10)[1],\n",
    "    sf.evaluation.metagenotype_entropy_error(world, discretized=True, p=1, montecarlo_draws=10)[1],\n",
    ")\n",
    "plt.plot([0, 0.2], [0, 0.2])"
   ]
  },
  {
   "cell_type": "raw",
   "metadata": {},
   "source": [
    "plt.scatter(\n",
    "    sf.evaluation.metagenotype_error2(world, discretized=False)[1],\n",
    "    sf.evaluation.metagenotype_error2(world, discretized=True)[1],\n",
    ")\n",
    "plt.plot([0, 0.2], [0, 0.2])"
   ]
  },
  {
   "cell_type": "code",
   "execution_count": null,
   "metadata": {},
   "outputs": [],
   "source": [
    "w = world.sel(position=position_ss).drop_low_abundance_strains(0.05)\n",
    "\n",
    "w_genotype_linkage = w.genotype.linkage(\"strain\")\n",
    "w_position_linkage = w.genotype.linkage(\"position\")\n",
    "\n",
    "sf.plot.plot_metagenotype(\n",
    "    w,\n",
    "    col_linkage_func=lambda w: sample_linkage,\n",
    "    row_linkage_func=lambda w: w_position_linkage,\n",
    "    col_colors_func=lambda w: xr.Dataset(dict(entrp=entrp_error, mgtp=mgtp_error, cetrp=comm_entrp)),\n",
    ")\n",
    "sf.plot.plot_community(\n",
    "    w,\n",
    "    col_linkage_func=lambda w: sample_linkage,\n",
    "    row_linkage_func=lambda w: w_genotype_linkage,\n",
    "    col_colors_func=lambda w: xr.Dataset(dict(entrp=entrp_error, mgtp=mgtp_error, cetrp=comm_entrp)),\n",
    ")"
   ]
  },
  {
   "cell_type": "code",
   "execution_count": null,
   "metadata": {},
   "outputs": [],
   "source": [
    "high_mgtp_error = mgtp_error >= 0.1\n",
    "high_entrp_error = entrp_error >= 0.2\n",
    "high_comm_entrp = comm_entrp >= 1.5"
   ]
  },
  {
   "cell_type": "code",
   "execution_count": null,
   "metadata": {},
   "outputs": [],
   "source": [
    "sf.plot.plot_metagenotype(\n",
    "    w,\n",
    "    col_linkage_func=lambda w: sample_linkage,\n",
    "    row_linkage_func=lambda w: w_position_linkage,\n",
    "    col_colors_func=lambda w: xr.Dataset(\n",
    "        dict(entrp=high_entrp_error, mgtp=high_mgtp_error, centrp=high_comm_entrp)\n",
    "    ),\n",
    ")\n",
    "sf.plot.plot_community(\n",
    "    w,\n",
    "    col_linkage_func=lambda w: sample_linkage,\n",
    "    row_linkage_func=lambda w: w_genotype_linkage,\n",
    "    col_colors_func=lambda w: xr.Dataset(\n",
    "        dict(entrp=high_entrp_error, mgtp=high_mgtp_error, centrp=high_comm_entrp)\n",
    "    ),\n",
    ")"
   ]
  },
  {
   "cell_type": "code",
   "execution_count": null,
   "metadata": {},
   "outputs": [],
   "source": [
    "world_filt = sf.data.World.load('data/group/een/species/sp-101338/r.proc.gtpro.filt-poly05-cvrg05.ss-g10000-block0-seed0.fit-sfacts48-s85-seed0.clean-m10-e20-c15.world.nc')\n",
    "print(world_filt.sizes)\n",
    "\n",
    "sample_filt_linkage = world_filt.metagenotype.linkage()"
   ]
  },
  {
   "cell_type": "raw",
   "metadata": {},
   "source": [
    "world_filt = sf.data.World(world.data.drop_sel(sample=idxwhere(high_mgtp_error | high_entrp_error)))\n",
    "sample_filt_linkage = world_filt.unifrac_linkage()"
   ]
  },
  {
   "cell_type": "code",
   "execution_count": null,
   "metadata": {},
   "outputs": [],
   "source": [
    "# mgtp_error2 = sf.evaluation.metagenotype_error2(world, discretized=False)[1]\n",
    "entrp_error2 = sf.evaluation.metagenotype_entropy_error(world, discretized=False, p=3, montecarlo_draws=10)[1]"
   ]
  },
  {
   "cell_type": "code",
   "execution_count": null,
   "metadata": {},
   "outputs": [],
   "source": [
    "w = world_filt.sel(position=position_ss).drop_low_abundance_strains(0.05)\n",
    "\n",
    "w_genotype_linkage = w.genotype.linkage(\"strain\")\n",
    "w_position_linkage = w.genotype.linkage('position')\n",
    "\n",
    "sf.plot.plot_metagenotype(w, col_linkage_func=lambda w: sample_filt_linkage, row_linkage_func=lambda w: w_position_linkage, col_colors_func=lambda w: xr.Dataset(dict(entrp=entrp_error2, mgtp=mgtp_error)))\n",
    "sf.plot.plot_community(w, col_linkage_func=lambda w: sample_filt_linkage, row_linkage_func=lambda w: w_genotype_linkage, col_colors_func=lambda w: xr.Dataset(dict(entrp=entrp_error2, mgtp=mgtp_error)))"
   ]
  },
  {
   "cell_type": "raw",
   "metadata": {},
   "source": [
    "sfacts cleanup_fit2 --metagenotype-error 0.1 --entropy-error 0.35\n",
    "    data/group/een/species/sp-102506/r.proc.gtpro.sfacts-fit.world.nc\n",
    "    data/group/een/species/sp-102506/r.proc.gtpro.sfacts-fit.cleanup-m10-e35.world.nc"
   ]
  }
 ],
 "metadata": {
  "kernelspec": {
   "display_name": "toolz2",
   "language": "python",
   "name": "toolz2"
  },
  "language_info": {
   "codemirror_mode": {
    "name": "ipython",
    "version": 3
   },
   "file_extension": ".py",
   "mimetype": "text/x-python",
   "name": "python",
   "nbconvert_exporter": "python",
   "pygments_lexer": "ipython3",
   "version": "3.10.12"
  }
 },
 "nbformat": 4,
 "nbformat_minor": 5
}