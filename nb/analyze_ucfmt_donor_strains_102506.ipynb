{
 "cells": [
  {
   "cell_type": "markdown",
   "metadata": {},
   "source": [
    "## Preamble"
   ]
  },
  {
   "cell_type": "markdown",
   "metadata": {},
   "source": [
    "### Project Template"
   ]
  },
  {
   "cell_type": "code",
   "execution_count": null,
   "metadata": {},
   "outputs": [],
   "source": [
    "%load_ext autoreload"
   ]
  },
  {
   "cell_type": "code",
   "execution_count": null,
   "metadata": {},
   "outputs": [],
   "source": [
    "import os as _os\n",
    "\n",
    "_os.chdir(_os.environ[\"PROJECT_ROOT\"])\n",
    "_os.path.realpath(_os.path.curdir)"
   ]
  },
  {
   "cell_type": "markdown",
   "metadata": {},
   "source": [
    "### Imports"
   ]
  },
  {
   "cell_type": "code",
   "execution_count": null,
   "metadata": {},
   "outputs": [],
   "source": [
    "import os\n",
    "import subprocess\n",
    "import sys\n",
    "import time\n",
    "from datetime import datetime\n",
    "from glob import glob\n",
    "from itertools import chain, product\n",
    "from tempfile import mkstemp\n",
    "\n",
    "import matplotlib as mpl\n",
    "import matplotlib.pyplot as plt\n",
    "import matplotlib.ticker as mtick\n",
    "import mpltern\n",
    "import numpy as np\n",
    "import pandas as pd\n",
    "import scipy as sp\n",
    "import seaborn as sns\n",
    "import sfacts as sf\n",
    "import statsmodels.api as sm\n",
    "import statsmodels.formula.api as smf\n",
    "import xarray as xr\n",
    "from matplotlib_venn import venn2\n",
    "from mpl_toolkits.axes_grid1 import make_axes_locatable\n",
    "from scipy.spatial.distance import pdist, squareform\n",
    "from statsmodels.stats.multitest import fdrcorrection\n",
    "from tqdm import tqdm\n",
    "\n",
    "import lib.plot\n",
    "from lib.dissimilarity import load_dmat_as_pickle\n",
    "from lib.pandas_util import align_indexes, aligned_index, idxwhere, invert_mapping"
   ]
  },
  {
   "cell_type": "code",
   "execution_count": null,
   "metadata": {},
   "outputs": [],
   "source": [
    "def linkage_order(linkage, labels):\n",
    "    return labels[sp.cluster.hierarchy.to_tree(linkage).pre_order(lambda x: x.id)]\n",
    "\n",
    "\n",
    "def plot_stacked_barplot(data, x_var, order, palette=None, ax=None, **kwargs):\n",
    "    if ax is None:\n",
    "        ax = plt.subplot()\n",
    "    if palette is None:\n",
    "        palette = lib.plot.construct_ordered_palette(order)\n",
    "\n",
    "    # Bar styles\n",
    "    bar_kwargs = dict(\n",
    "        width=1.0,\n",
    "        alpha=1.0,\n",
    "        edgecolor=\"k\",\n",
    "        lw=1,\n",
    "    )\n",
    "    bar_kwargs.update(kwargs)\n",
    "\n",
    "    # Plot each bar segment\n",
    "    _last_top = 0\n",
    "    for y_var in order:\n",
    "        ax.bar(\n",
    "            x=data[x_var],\n",
    "            height=data[y_var],\n",
    "            bottom=_last_top,\n",
    "            label=y_var,\n",
    "            color=palette[y_var],\n",
    "            **bar_kwargs,\n",
    "        )\n",
    "        _last_top += data[y_var]\n",
    "    ax.set_xticks(data[x_var].values)\n",
    "    return ax\n",
    "\n",
    "\n",
    "plot_stacked_barplot(\n",
    "    pd.DataFrame(dict(t=[0, 1, 2], y1=[0.0, 0.5, 1.0], y2=[1.0, 0.5, 0.0])),\n",
    "    x_var=\"t\",\n",
    "    order=[\"y1\", \"y2\"],\n",
    ")"
   ]
  },
  {
   "cell_type": "code",
   "execution_count": null,
   "metadata": {},
   "outputs": [],
   "source": [
    "import lib.thisproject.data"
   ]
  },
  {
   "cell_type": "markdown",
   "metadata": {},
   "source": [
    "### Set Style"
   ]
  },
  {
   "cell_type": "code",
   "execution_count": null,
   "metadata": {},
   "outputs": [],
   "source": [
    "sns.set_context(\"talk\")\n",
    "plt.rcParams[\"figure.dpi\"] = 100"
   ]
  },
  {
   "cell_type": "markdown",
   "metadata": {},
   "source": [
    "## Metadata"
   ]
  },
  {
   "cell_type": "code",
   "execution_count": null,
   "metadata": {},
   "outputs": [],
   "source": [
    "mgen_list = list(\n",
    "    pd.read_table(\"meta/mgen_group.tsv\")[\n",
    "        lambda x: x.mgen_group_id == \"ucfmt\"\n",
    "    ].mgen_id.values\n",
    ")\n",
    "len(mgen_list)"
   ]
  },
  {
   "cell_type": "code",
   "execution_count": null,
   "metadata": {},
   "outputs": [],
   "source": [
    "mgen = pd.read_table(\"meta/ucfmt/mgen.tsv\", index_col=\"mgen_id\")\n",
    "sample = pd.read_table(\"meta/ucfmt/sample.tsv\", index_col=\"sample_id\")\n",
    "subject = pd.read_table(\"meta/ucfmt/subject.tsv\", index_col=\"subject_id\")\n",
    "assert mgen.sample_id.isin(sample.index).all()\n",
    "\n",
    "mgen_meta = mgen.join(sample, on=\"sample_id\").join(subject, on=\"subject_id\")"
   ]
  },
  {
   "cell_type": "code",
   "execution_count": null,
   "metadata": {},
   "outputs": [],
   "source": [
    "sample.loc[mgen_meta.loc[mgen_list].sample_id].sample_type.value_counts()"
   ]
  },
  {
   "cell_type": "code",
   "execution_count": null,
   "metadata": {},
   "outputs": [],
   "source": [
    "mgen_list = list(mgen_meta.index)"
   ]
  },
  {
   "cell_type": "code",
   "execution_count": null,
   "metadata": {},
   "outputs": [],
   "source": [
    "subject[lambda x: ~x.remission.isna() & x.recipient].donor_subject_id.value_counts()"
   ]
  },
  {
   "cell_type": "code",
   "execution_count": null,
   "metadata": {},
   "outputs": [],
   "source": [
    "d97_mgen_list = idxwhere(mgen_meta.subject_id == \"D0097\")\n",
    "d44_mgen_list = idxwhere(mgen_meta.subject_id == \"D0044\")\n",
    "\n",
    "(len(d97_mgen_list), len(d44_mgen_list))"
   ]
  },
  {
   "cell_type": "markdown",
   "metadata": {},
   "source": [
    "### StrainPGC Post-filtering Strains"
   ]
  },
  {
   "cell_type": "code",
   "execution_count": null,
   "metadata": {},
   "outputs": [],
   "source": [
    "spgc_meta = pd.read_table(\n",
    "    f\"data/group/ucfmt/species/sp-102506/r.proc.gtpro.sfacts-fit.gene99_v20-v23-agg75.spgc-fit.strain_meta_spgc_and_ref.tsv\",\n",
    "    index_col=\"genome_id\",\n",
    ")\n",
    "spgc_strain_list = spgc_meta[\n",
    "    lambda x: x.passes_filter & x.genome_type.isin([\"SPGC\"])\n",
    "].index.values  # .astype(str)\n",
    "len(spgc_strain_list)"
   ]
  },
  {
   "cell_type": "code",
   "execution_count": null,
   "metadata": {},
   "outputs": [],
   "source": [
    "gene_x_eggnog = pd.read_table(\n",
    "    \"data/species/sp-102506/midasdb_v20.emapper.gene75_x_eggnog.tsv\"\n",
    ")"
   ]
  },
  {
   "cell_type": "markdown",
   "metadata": {},
   "source": [
    "## Strain tracking"
   ]
  },
  {
   "cell_type": "code",
   "execution_count": null,
   "metadata": {},
   "outputs": [],
   "source": [
    "strain_fit = sf.data.World.load(\n",
    "    \"data/group/ucfmt/species/sp-102506/r.proc.gtpro.sfacts-fit.world.nc\"\n",
    ").rename_coords(strain=str)\n",
    "\n",
    "np.random.seed(0)\n",
    "position_ss = strain_fit.random_sample(position=1000).position\n",
    "sample_linkage = strain_fit.unifrac_linkage(optimal_ordering=True)\n",
    "sample_linkage_alt = strain_fit.metagenotype.linkage(optimal_ordering=True)\n",
    "strain_linkage = strain_fit.genotype.linkage(optimal_ordering=True)\n",
    "position_linkage = strain_fit.metagenotype.sel(position=position_ss).linkage(\"position\")\n",
    "\n",
    "print(sf.evaluation.metagenotype_error2(strain_fit, discretized=True)[0])"
   ]
  },
  {
   "cell_type": "markdown",
   "metadata": {},
   "source": [
    "### Visualize strain tracking"
   ]
  },
  {
   "cell_type": "code",
   "execution_count": null,
   "metadata": {},
   "outputs": [],
   "source": [
    "sf.plot.plot_metagenotype(strain_fit, col_linkage_func=lambda w: sample_linkage_alt)\n",
    "sf.plot.plot_community(strain_fit, col_linkage_func=lambda w: sample_linkage_alt)"
   ]
  },
  {
   "cell_type": "code",
   "execution_count": null,
   "metadata": {},
   "outputs": [],
   "source": [
    "w_all = strain_fit.drop_low_abundance_strains(0.01)\n",
    "_mgen_list = list(set(mgen_list) & set(w_all.sample.values))\n",
    "\n",
    "w = w_all.sel(sample=_mgen_list).drop_low_abundance_strains(0.01)\n",
    "\n",
    "sample_linkage = w.unifrac_linkage()\n",
    "w_ss = w.random_sample(position=min(500, w.sizes[\"position\"]))\n",
    "\n",
    "d = (\n",
    "    w.community.to_series()[lambda x: x > 0.1]\n",
    "    .to_frame()\n",
    "    .reset_index()\n",
    "    .rename(columns=dict(sample=\"mgen_id\"))\n",
    "    .join(mgen_meta, on=\"mgen_id\")\n",
    "    .assign(\n",
    "        sample_class=lambda x: x.sample_type.replace(\n",
    "            {\n",
    "                # Padding and renaming\n",
    "                \"baseline\": \"baseline\",\n",
    "                \"donor\": \"    donor\",\n",
    "                \"maintenance\": \"     other\",\n",
    "                \"followup\": \"     other\",\n",
    "                \"post_antibiotic\": \"     other\",\n",
    "            }\n",
    "        )\n",
    "    )\n",
    "    .groupby([\"donor_subject_id\", \"subject_id\", \"sample_class\"])\n",
    "    .strain.value_counts()\n",
    "    .unstack(\"strain\", fill_value=0)\n",
    "    .sort_index(ascending=[True, True, False])\n",
    ")\n",
    "\n",
    "strain_order = d.sum().sort_values(ascending=False).index\n",
    "d = d.loc[:, strain_order]\n",
    "\n",
    "nrow, ncol = d.shape\n",
    "fig, ax = plt.subplots(figsize=(0.4 * ncol + 0.5, 0.5 * nrow + 1))\n",
    "sns.heatmap(d, norm=mpl.colors.PowerNorm(1 / 3), annot=True, cbar=False, ax=ax)"
   ]
  },
  {
   "cell_type": "code",
   "execution_count": null,
   "metadata": {},
   "outputs": [],
   "source": [
    "spgc_meta[lambda x: x.genome_type.isin([\"SPGC\"])].dropna(axis=\"columns\")"
   ]
  },
  {
   "cell_type": "code",
   "execution_count": null,
   "metadata": {},
   "outputs": [],
   "source": [
    "ucfmt_strains = list(\n",
    "    spgc_meta[lambda x: x.genome_type.isin([\"SPGC\"]) & x.passes_filter].index\n",
    ")"
   ]
  },
  {
   "cell_type": "code",
   "execution_count": null,
   "metadata": {},
   "outputs": [],
   "source": [
    "len(ucfmt_strains)"
   ]
  },
  {
   "cell_type": "code",
   "execution_count": null,
   "metadata": {},
   "outputs": [],
   "source": [
    "focal_strains = [\n",
    "    \"6\",\n",
    "    \"9\",  #'33',\n",
    "    # '38',  # Unfortunately low-quality gene content inferences. :-/\n",
    "]  # Defined based on dominant, donor strains in followup samples."
   ]
  },
  {
   "cell_type": "code",
   "execution_count": null,
   "metadata": {},
   "outputs": [],
   "source": [
    "strain_order = [\n",
    "    s\n",
    "    for s in linkage_order(\n",
    "        strain_linkage,\n",
    "        strain_fit.strain.values,\n",
    "    )\n",
    "]\n",
    "# ) if s in spgc_strain_list]\n",
    "\n",
    "if \"-1\" in strain_order:\n",
    "    strain_order.remove(\"-1\")  # Drop \"other\" strain.\n",
    "strain_order.append(\"-1\")  # Add to end of list\n",
    "\n",
    "strain_palette = lib.plot.construct_ordered_palette(\n",
    "    strain_order,  # Linkage order, I believe\n",
    "    cm=\"turbo\",\n",
    "    vmin=0.05,\n",
    "    vmax=0.95,\n",
    "    extend={\"-1\": \"silver\"},\n",
    "    desaturate_levels=[1.0],\n",
    ")\n",
    "\n",
    "# Desaturate non-focal strains\n",
    "for strain in strain_palette:\n",
    "    if strain == \"-1\":\n",
    "        continue\n",
    "    if strain not in focal_strains:\n",
    "        strain_palette[strain] = sns.set_hls_values(\n",
    "            strain_palette[strain], l=0.35, s=0.7\n",
    "        )\n",
    "    else:\n",
    "        strain_palette[strain] = sns.set_hls_values(\n",
    "            strain_palette[strain], l=0.75, s=1.0\n",
    "        )"
   ]
  },
  {
   "cell_type": "code",
   "execution_count": null,
   "metadata": {},
   "outputs": [],
   "source": [
    "strain_colors = (\n",
    "    pd.Series(strain_order, index=strain_order).map(strain_palette).to_frame()\n",
    ")\n",
    "\n",
    "sf.plot.plot_metagenotype(\n",
    "    strain_fit.sel(position=position_ss), col_linkage=sample_linkage_alt\n",
    ")\n",
    "sf.plot.plot_community(\n",
    "    strain_fit.sel(position=position_ss),\n",
    "    col_linkage=sample_linkage_alt,\n",
    "    row_linkage=strain_linkage,\n",
    "    row_colors=strain_colors,\n",
    ")"
   ]
  },
  {
   "cell_type": "raw",
   "metadata": {},
   "source": [
    "strain_fit.community.sel(sample=idxwhere(strain_fit.sample.to_series().str.startswith('DS0044'))).max(\"sample\").to_series().sort_values(ascending=False).head(5)"
   ]
  },
  {
   "cell_type": "code",
   "execution_count": null,
   "metadata": {},
   "outputs": [],
   "source": [
    "sf.plot.plot_genotype(\n",
    "    strain_fit.sel(position=position_ss),\n",
    "    row_linkage=strain_linkage,\n",
    "    row_colors=strain_colors,\n",
    ")"
   ]
  },
  {
   "cell_type": "code",
   "execution_count": null,
   "metadata": {},
   "outputs": [],
   "source": [
    "strain_samples = pd.read_table(\n",
    "    \"data/group/ucfmt/species/sp-102506/r.proc.gtpro.sfacts-fit.spgc_ss-all.strain_samples.tsv\",\n",
    "    names=[\"sample\", \"strain\"],\n",
    "    dtype=str,\n",
    ")\n",
    "strain_samples[lambda x: x.strain.isin(focal_strains)].sort_values(\n",
    "    \"strain\"\n",
    ").strain.value_counts()"
   ]
  },
  {
   "cell_type": "code",
   "execution_count": null,
   "metadata": {},
   "outputs": [],
   "source": [
    "focal_strain_samples = idxwhere(\n",
    "    (\n",
    "        strain_fit.community.data.sel(strain=focal_strains).max(\"strain\") > 0.75\n",
    "    ).to_series()\n",
    ")\n",
    "w = strain_fit.sel(\n",
    "    position=position_ss, sample=focal_strain_samples\n",
    ").drop_low_abundance_strains(0.001)\n",
    "sf.plot.plot_community(w, col_linkage_func=lambda w: w.metagenotype.linkage())\n",
    "sf.plot.plot_metagenotype(\n",
    "    w,\n",
    "    row_linkage_func=lambda w: position_linkage,\n",
    "    col_linkage_func=lambda w: w.metagenotype.linkage(),\n",
    ")"
   ]
  },
  {
   "cell_type": "code",
   "execution_count": null,
   "metadata": {},
   "outputs": [],
   "source": [
    "sample_type_specific_relabel = {\n",
    "    \"donor_enema\": \"D\",\n",
    "    \"donor_initial\": \"D\",\n",
    "    \"donor_capsule\": \"D\",\n",
    "    \"baseline\": \"B\",\n",
    "    \"post_antibiotic\": \"pA\",\n",
    "    \"pre_maintenance_1\": \"M1\",\n",
    "    \"pre_maintenance_2\": \"M2\",\n",
    "    \"pre_maintenance_3\": \"M3\",\n",
    "    \"pre_maintenance_4\": \"M4\",\n",
    "    \"pre_maintenance_5\": \"M5\",\n",
    "    \"pre_maintenance_6\": \"M6\",\n",
    "    \"followup_1\": \"F1\",\n",
    "    \"followup_2\": \"F2\",\n",
    "    \"followup_3\": \"F3\",\n",
    "}"
   ]
  },
  {
   "cell_type": "code",
   "execution_count": null,
   "metadata": {},
   "outputs": [],
   "source": [
    "for strain, c in strain_colors.squeeze().items():\n",
    "    plt.scatter([], [], c=c, label=strain)\n",
    "plt.legend(ncols=3)\n",
    "lib.plot.hide_axes_and_spines()"
   ]
  },
  {
   "cell_type": "markdown",
   "metadata": {},
   "source": [
    "#### Figure 5A"
   ]
  },
  {
   "cell_type": "code",
   "execution_count": null,
   "metadata": {},
   "outputs": [],
   "source": [
    "_meta = mgen_meta\n",
    "subject_order = [\"D0044\", \"D0097\", \"D0485\"]\n",
    "\n",
    "fig, axs = plt.subplots(\n",
    "    1, len(subject_order), figsize=(5 * len(subject_order), 2), squeeze=False\n",
    ")\n",
    "for subject_id, ax in zip(subject_order, axs.flatten()):\n",
    "    sample_list = (\n",
    "        _meta[\n",
    "            lambda x: (x.subject_id == subject_id)\n",
    "            & (x.index.isin(strain_fit.sample.values))\n",
    "        ]\n",
    "        # .sort_values('collection_days_post_fmt')  # This will be useful for subjects, but not donors\n",
    "        .index\n",
    "    )\n",
    "\n",
    "    if len(sample_list) < 2:\n",
    "        sample_order = sample_list\n",
    "    else:\n",
    "        sample_order = list(\n",
    "            linkage_order(\n",
    "                strain_fit.sel(sample=sample_list).metagenotype.linkage(\n",
    "                    optimal_ordering=True\n",
    "                ),\n",
    "                sample_list,\n",
    "            )\n",
    "        )\n",
    "\n",
    "    if len(sample_list) < 1:\n",
    "        subject_comm = pd.DataFrame([], columns=[-1])\n",
    "    else:\n",
    "        subject_comm = (\n",
    "            strain_fit.sel(sample=sample_order).keep_only_strain_list(strain_order)\n",
    "            # .drop_low_abundance_strains(\n",
    "            #     0.0, agg_strain_coord=-1\n",
    "            # )  # TODO: Check that this adds to the alread-existing strain_-1\n",
    "            .community.to_pandas()\n",
    "        )\n",
    "\n",
    "    d = (\n",
    "        _meta.reindex(sample_order)\n",
    "        # .dropna(subset=[\"collection_date_relative_een_end\"])\n",
    "        # .sort_values(\"collection_date_relative_een_end\")\n",
    "        .assign(\n",
    "            t=lambda x: range(len(x)),\n",
    "        )\n",
    "    ).join(subject_comm)\n",
    "    # d.loc[d.index[:num_offset_samples], 't'] -= 0.7  # Offset width\n",
    "\n",
    "    plot_stacked_barplot(\n",
    "        data=d,\n",
    "        x_var=\"t\",\n",
    "        order=[s for s in strain_order if s in subject_comm.columns],\n",
    "        palette=strain_palette,\n",
    "        ax=ax,\n",
    "        width=0.8,\n",
    "        lw=0.5,\n",
    "    )\n",
    "\n",
    "    ax.set_title(subject_id)\n",
    "    ax.set_xticklabels(\n",
    "        d.sample_type_specific.map(sample_type_specific_relabel),\n",
    "        fontsize=12,\n",
    "    )\n",
    "    ax.set_aspect(9, anchor=\"NW\")\n",
    "    ax.set_ylim(0, 1.0)\n",
    "    lib.plot.rotate_xticklabels(rotation=90, ax=ax, ha=\"center\")\n",
    "    ax.set_yticks(np.linspace(0, 1.0, num=3))\n",
    "    ax.yaxis.set_major_formatter(mtick.PercentFormatter(xmax=1, symbol=\"%\"))\n",
    "    if not d.empty:\n",
    "        ax.set_xlim(d.t.min() - 0.5, d.t.max() + 0.5)\n",
    "    ax.spines[[\"right\", \"top\"]].set_visible(False)\n",
    "\n",
    "fig.savefig('fig/fig5a_donor_panels.pdf', bbox_inches='tight')"
   ]
  },
  {
   "cell_type": "code",
   "execution_count": null,
   "metadata": {},
   "outputs": [],
   "source": [
    "donor_subject_order = [\"D0044\", \"D0097\", \"D0485\"]\n",
    "_meta = mgen_meta.loc[strain_fit.sample.values][\n",
    "    lambda x: x.recipient\n",
    "    # & ~x.sra_accession.isna()\n",
    "]\n",
    "\n",
    "for donor in donor_subject_order:\n",
    "    subject_order = (\n",
    "        _meta[lambda x: x.donor_subject_id == donor].subject_id.value_counts().index\n",
    "    )\n",
    "    fig, axs = plt.subplots(\n",
    "        1,\n",
    "        len(subject_order),\n",
    "        figsize=(3 * len(subject_order), 2),\n",
    "        squeeze=False,\n",
    "        sharey=True,\n",
    "    )\n",
    "    for subject_id, ax in zip(subject_order, axs.flatten()):\n",
    "        sample_order = (\n",
    "            _meta[\n",
    "                lambda x: (x.subject_id == subject_id)\n",
    "                & (x.index.isin(strain_fit.sample.values))\n",
    "            ]\n",
    "            .sort_values(\"collection_days_post_fmt\")\n",
    "            .index\n",
    "        )\n",
    "\n",
    "        if len(sample_order) < 1:\n",
    "            subject_comm = pd.DataFrame([], columns=[-1])\n",
    "        else:\n",
    "            subject_comm = (\n",
    "                strain_fit.sel(sample=sample_order).keep_only_strain_list(strain_order)\n",
    "                # .drop_low_abundance_strains(\n",
    "                #     0.0, agg_strain_coord=-1\n",
    "                # )  # TODO: Check that this adds to the alread-existing strain_-1\n",
    "                .community.to_pandas()\n",
    "            )\n",
    "\n",
    "        d = (\n",
    "            _meta.reindex(sample_order)\n",
    "            # .dropna(subset=[\"collection_date_relative_een_end\"])\n",
    "            # .sort_values(\"collection_date_relative_een_end\")\n",
    "            .assign(\n",
    "                t=lambda x: range(len(x)),\n",
    "            )\n",
    "        ).join(subject_comm)\n",
    "        # d.loc[d.index[:num_offset_samples], 't'] -= 0.7  # Offset width\n",
    "\n",
    "        plot_stacked_barplot(\n",
    "            data=d,\n",
    "            x_var=\"t\",\n",
    "            order=[s for s in strain_order if s in subject_comm.columns],\n",
    "            palette=strain_palette,\n",
    "            ax=ax,\n",
    "            width=0.8,\n",
    "            lw=0.5,\n",
    "        )\n",
    "\n",
    "        ax.set_title(subject_id)\n",
    "        ax.set_xticklabels(\n",
    "            d.sample_type_specific.map(sample_type_specific_relabel),\n",
    "            fontsize=12,\n",
    "        )\n",
    "        ax.set_aspect(10, anchor=\"NW\")\n",
    "        ax.set_ylim(0, 1.0)\n",
    "        lib.plot.rotate_xticklabels(rotation=90, ax=ax, ha=\"center\")\n",
    "        ax.set_yticks(np.linspace(0, 1.0, num=3))\n",
    "        ax.yaxis.set_major_formatter(mtick.PercentFormatter(xmax=1, symbol=\"%\"))\n",
    "        if not d.empty:\n",
    "            ax.set_xlim(d.t.min() - 0.5, d.t.max() + 0.5)\n",
    "        ax.spines[[\"right\", \"top\"]].set_visible(False)\n",
    "    fig.savefig(f'fig/fig5a_recipient_{donor}_panels.pdf', bbox_inches='tight')"
   ]
  },
  {
   "cell_type": "markdown",
   "metadata": {},
   "source": [
    "## Dominant strains from donors / recipients"
   ]
  },
  {
   "cell_type": "code",
   "execution_count": null,
   "metadata": {},
   "outputs": [],
   "source": [
    "spgc_meta[lambda x: x.passes_filter & (x.genome_type == \"SPGC\")]"
   ]
  },
  {
   "cell_type": "code",
   "execution_count": null,
   "metadata": {},
   "outputs": [],
   "source": [
    "spgc_meta.loc[np.array(focal_strains).astype(str)]"
   ]
  },
  {
   "cell_type": "markdown",
   "metadata": {},
   "source": [
    "## Compare to reference database"
   ]
  },
  {
   "cell_type": "code",
   "execution_count": null,
   "metadata": {},
   "outputs": [],
   "source": [
    "pd.read_table(\"ref/midasdb_uhgg_v20_all/metadata/genomes-all_metadata.tsv\").columns"
   ]
  },
  {
   "cell_type": "code",
   "execution_count": null,
   "metadata": {},
   "outputs": [],
   "source": [
    "ref_meta = pd.read_table(\n",
    "    \"ref/midasdb_uhgg_v20_all/metadata/genomes-all_metadata.tsv\",\n",
    ").set_index(\"New_Genome_accession\")\n",
    "ref_meta"
   ]
  },
  {
   "cell_type": "code",
   "execution_count": null,
   "metadata": {},
   "outputs": [],
   "source": [
    "geno_pdmat = lib.dissimilarity.load_dmat_as_pickle(\n",
    "    \"data/group/ucfmt/species/sp-102506/r.proc.gtpro.sfacts-fit.spgc_ss-all.geno_uhgg-v20_pdist-mask10-pseudo10.pkl\"\n",
    ")\n",
    "d0 = geno_pdmat.loc[spgc_meta.genome_type.isin([\"Isolate\"]), focal_strains]\n",
    "d1 = pd.DataFrame(dict(\n",
    "    min_diss=d0.min(), idxmin_isolate=d0.idxmin()\n",
    "))\n",
    "\n",
    "d1.join(ref_meta, on='idxmin_isolate')"
   ]
  },
  {
   "cell_type": "code",
   "execution_count": null,
   "metadata": {},
   "outputs": [],
   "source": [
    "spgc_meta.loc[['6', '9', 'GUT_GENOME288864', 'GUT_GENOME140932']]\n",
    "# TODO: Figure. out"
   ]
  },
  {
   "cell_type": "code",
   "execution_count": null,
   "metadata": {},
   "outputs": [],
   "source": [
    "midas_mgtp_inpath = f\"data/species/sp-102506/midasdb_v15.gtpro.mgtp.nc\"\n",
    "midas_mgtp_geno = (\n",
    "    sf.Metagenotype.load(midas_mgtp_inpath).to_estimated_genotype()\n",
    ")"
   ]
  },
  {
   "cell_type": "code",
   "execution_count": null,
   "metadata": {},
   "outputs": [],
   "source": [
    "ucfmt_infer_inpath = f\"data/group/ucfmt/species/sp-102506/r.proc.gtpro.sfacts-fit.spgc_ss-all.mgtp.nc\"\n",
    "ucfmt_infer_geno = (\n",
    "    sf.Metagenotype.load(ucfmt_infer_inpath).to_estimated_genotype()\n",
    ")"
   ]
  },
  {
   "cell_type": "code",
   "execution_count": null,
   "metadata": {},
   "outputs": [],
   "source": [
    "ambiguity_threshold = 0.1\n",
    "\n",
    "g_ucfmt = ucfmt_infer_geno.discretized(max_ambiguity=ambiguity_threshold)\n",
    "g_midas = midas_mgtp_geno.discretized(max_ambiguity=ambiguity_threshold)\n",
    "\n",
    "geno_ucfmt_and_midas = sf.data.Genotype.concat(\n",
    "    {\n",
    "        \"ucfmt\": g_ucfmt,\n",
    "        \"midas\": g_midas,\n",
    "    },\n",
    "    dim=\"strain\",\n",
    "    # rename=False,\n",
    ")"
   ]
  },
  {
   "cell_type": "code",
   "execution_count": null,
   "metadata": {},
   "outputs": [],
   "source": []
  },
  {
   "cell_type": "code",
   "execution_count": null,
   "metadata": {},
   "outputs": [],
   "source": [
    "_strain_list = ['ucfmt_6', 'midas_GUT_GENOME288864']\n",
    "\n",
    "assert len(_strain_list) == 2\n",
    "g = geno_ucfmt_and_midas.sel(strain=_strain_list).data\n",
    "shared_positions = idxwhere(~g.pipe(np.isnan).any(\"strain\").to_series())\n",
    "\n",
    "print(\n",
    "    (g.sel(strain=_strain_list[0]) != g.sel(strain=_strain_list[1])).sel(position=shared_positions).sum(),\n",
    "    len(shared_positions)\n",
    ")"
   ]
  },
  {
   "cell_type": "code",
   "execution_count": null,
   "metadata": {},
   "outputs": [],
   "source": [
    "_strain_list = ['ucfmt_9', 'midas_GUT_GENOME140932']\n",
    "\n",
    "assert len(_strain_list) == 2\n",
    "g = geno_ucfmt_and_midas.sel(strain=_strain_list).data\n",
    "shared_positions = idxwhere(~g.pipe(np.isnan).any(\"strain\").to_series())\n",
    "\n",
    "print(\n",
    "    (g.sel(strain=_strain_list[0]) != g.sel(strain=_strain_list[1])).sel(position=shared_positions).sum(),\n",
    "    len(shared_positions)\n",
    ")"
   ]
  },
  {
   "cell_type": "code",
   "execution_count": null,
   "metadata": {},
   "outputs": [],
   "source": [
    "dmat = geno_pdmat.loc[spgc_meta.genome_type.isin([\"Isolate\", \"MAG\"]), spgc_meta.genome_type.isin([\"Isolate\", \"MAG\"])]\n",
    "dmat.values[np.diag_indices_from(dmat)] = 1\n",
    "d = dmat.min()\n",
    "\n",
    "\n",
    "linthresh = 1e-5\n",
    "bins = [0] + list(np.logspace(np.log10(linthresh), 0, num=50))\n",
    "plt.hist(d, bins=bins)\n",
    "plt.xscale('symlog', linthresh=linthresh, linscale=0.1)\n",
    "plt.xlabel('Closest Match Genotype Dissimilarity')"
   ]
  },
  {
   "cell_type": "code",
   "execution_count": null,
   "metadata": {},
   "outputs": [],
   "source": [
    "(d > 0.030).mean(), (d > 0.077).mean()"
   ]
  },
  {
   "cell_type": "markdown",
   "metadata": {},
   "source": [
    "## Gene Content Comparison"
   ]
  },
  {
   "cell_type": "markdown",
   "metadata": {},
   "source": [
    "### Gene Annotations"
   ]
  },
  {
   "cell_type": "code",
   "execution_count": null,
   "metadata": {},
   "outputs": [],
   "source": [
    "gene_content_uhgg = pd.read_table(\n",
    "    \"data/group/ucfmt/species/sp-102506/r.proc.gtpro.sfacts-fit.gene99_v20-v23-agg75.spgc-fit.uhgg-strain_gene.tsv\",\n",
    "    index_col=\"gene_id\",\n",
    ").astype(bool)\n",
    "gene_content_uhgg = gene_content_uhgg.drop(idxwhere(gene_content_uhgg.sum(1) == 0))"
   ]
  },
  {
   "cell_type": "code",
   "execution_count": null,
   "metadata": {},
   "outputs": [],
   "source": [
    "gene_content_uhgg[focal_strains][lambda x: x.sum(1) > 0].value_counts().sort_index()"
   ]
  },
  {
   "cell_type": "code",
   "execution_count": null,
   "metadata": {},
   "outputs": [],
   "source": [
    "gene_prevalence_ref_uhgg = pd.read_table(\n",
    "    \"data/species/sp-102506/midasdb.gene75_v20.uhgg-strain_gene.ref_prevalence.tsv\",\n",
    "    names=[\"gene_id\", \"prevalence\"],\n",
    "    index_col=\"gene_id\",\n",
    ").prevalence\n",
    "gene_prevalence_hmp2_uhgg = pd.read_table(\n",
    "    \"data/group/hmp2/species/sp-102506/r.proc.gtpro.sfacts-fit.gene99_v20-v23-agg75.spgc-fit.uhgg-strain_gene.prevalence.tsv\",\n",
    "    names=[\"gene_id\", \"prevalence\"],\n",
    "    index_col=\"gene_id\",\n",
    ").prevalence"
   ]
  },
  {
   "cell_type": "code",
   "execution_count": null,
   "metadata": {},
   "outputs": [],
   "source": [
    "d0 = (\n",
    "    gene_prevalence_hmp2_uhgg.to_frame()\n",
    "    .join(gene_content_uhgg)\n",
    "    .groupby([\"6\", \"9\"])\n",
    "    .prevalence\n",
    ")\n",
    "\n",
    "fig, axs = plt.subplots(2, 2, sharex=True, sharey=True)\n",
    "bins = np.linspace(0, 1, num=11)\n",
    "for (focal_strain_gene_type, (k, c)), ax in zip(\n",
    "    {\n",
    "        \"neither\": ((False, False), \"silver\"),\n",
    "        \"D44\": ((True, False), strain_palette[\"6\"]),\n",
    "        \"D97\": ((False, True), strain_palette[\"9\"]),\n",
    "        \"both\": ((True, True), \"black\"),\n",
    "    }.items(),\n",
    "    axs.T.flatten(),\n",
    "):\n",
    "    d1 = d0.get_group(k)\n",
    "    ax.set_title(focal_strain_gene_type)\n",
    "    ax.hist(\n",
    "        d1,\n",
    "        bins=bins,\n",
    "        density=True,\n",
    "        label=focal_strain_gene_type,\n",
    "        color=c,\n",
    "        alpha=0.5,\n",
    "        histtype=\"stepfilled\",\n",
    "    )\n",
    "    ax.hist(\n",
    "        d1,\n",
    "        bins=bins,\n",
    "        density=True,\n",
    "        label=focal_strain_gene_type,\n",
    "        color=c,\n",
    "        alpha=0.85,\n",
    "        histtype=\"step\",\n",
    "    )\n",
    "    if not focal_strain_gene_type == \"neither\":\n",
    "        ax.annotate(len(d1), xy=(0.5, 0.5), xycoords=\"axes fraction\")\n",
    "\n",
    "fig.tight_layout()"
   ]
  },
  {
   "cell_type": "code",
   "execution_count": null,
   "metadata": {},
   "outputs": [],
   "source": [
    "gene_clust = pd.read_table(\n",
    "    \"data/group/hmp2/species/sp-102506/r.proc.gtpro.sfacts-fit.gene99_v20-v23-agg75.spgc-fit.uhgg-strain_gene.gene_clust-t10.tsv\",\n",
    "    names=[\"gene_id\", \"clust\"],\n",
    "    index_col=\"gene_id\",\n",
    ").clust\n",
    "gene_clust.value_counts()"
   ]
  },
  {
   "cell_type": "code",
   "execution_count": null,
   "metadata": {},
   "outputs": [],
   "source": [
    "gene_annotation = pd.read_table(\n",
    "    \"data/species/sp-102506/midasdb_v20.gene75_meta.tsv\", index_col=\"centroid_75\"\n",
    ")"
   ]
  },
  {
   "cell_type": "code",
   "execution_count": null,
   "metadata": {},
   "outputs": [],
   "source": [
    "gene_x_cog = pd.read_table(\n",
    "    \"data/species/sp-102506/midasdb_v20.emapper.gene75_x_cog.tsv\"\n",
    ").drop_duplicates()\n",
    "cog_x_cog_pathway = pd.read_table(\n",
    "    \"ref/cog-20.meta.tsv\",\n",
    "    encoding=\"latin1\",\n",
    "    names=[\n",
    "        \"cog\",\n",
    "        \"cog_categories\",\n",
    "        \"description\",\n",
    "        \"preferred_name\",\n",
    "        \"cog_pathway\",\n",
    "        \"_5\",\n",
    "        \"color_hex\",\n",
    "    ],\n",
    "    index_col=\"cog\",\n",
    ").cog_pathway"
   ]
  },
  {
   "cell_type": "code",
   "execution_count": null,
   "metadata": {},
   "outputs": [],
   "source": [
    "hmp2_strain_meta = pd.read_table(\n",
    "    \"data/group/hmp2/species/sp-102506/r.proc.gtpro.sfacts-fit.gene99_v20-v23-agg75.spgc-fit.strain_meta_spgc_and_ref.tsv\",\n",
    "    index_col=\"genome_id\",\n",
    ")\n",
    "hmp2_strain_list = idxwhere(\n",
    "    (hmp2_strain_meta.genome_type == \"SPGC\") & hmp2_strain_meta.passes_filter\n",
    ")\n",
    "hmp2_strain_rename_list = [f\"hmp2_{s}\" for s in hmp2_strain_list]\n",
    "len(hmp2_strain_list)"
   ]
  },
  {
   "cell_type": "code",
   "execution_count": null,
   "metadata": {},
   "outputs": [],
   "source": [
    "hmp2_geno = (\n",
    "    sf.Metagenotype.load(\n",
    "        \"data/group/hmp2/species/sp-102506/r.proc.gtpro.sfacts-fit.spgc_ss-all.mgtp.nc\"\n",
    "    )\n",
    "    .rename_coords(sample=str)\n",
    "    .sel(sample=hmp2_strain_list)\n",
    "    .to_estimated_genotype()\n",
    "    .discretized(max_ambiguity=0.1)\n",
    "    .rename_coords(strain=lambda s: f\"hmp2_{s}\")\n",
    ")\n",
    "ucfmt_geno = (\n",
    "    sf.Metagenotype.load(\n",
    "        \"data/group/ucfmt/species/sp-102506/r.proc.gtpro.sfacts-fit.spgc_ss-all.mgtp.nc\"\n",
    "    )\n",
    "    .rename_coords(sample=str)\n",
    "    .to_estimated_genotype()\n",
    "    .discretized(max_ambiguity=0.1)\n",
    ")\n",
    "\n",
    "combined_geno = sf.Genotype.concat(\n",
    "    dict(hmp2=hmp2_geno, ucfmt=ucfmt_geno.sel(strain=ucfmt_strains)),\n",
    "    dim=\"strain\",\n",
    "    rename=False,\n",
    ")"
   ]
  },
  {
   "cell_type": "code",
   "execution_count": null,
   "metadata": {},
   "outputs": [],
   "source": [
    "from scripts.calculate_pairwise_genotype_masked_hamming_distance import (\n",
    "    native_masked_hamming_distance_pdist,\n",
    ")\n",
    "\n",
    "combined_mgtp_geno_pdist = pd.DataFrame(\n",
    "    squareform(native_masked_hamming_distance_pdist(combined_geno.values, pseudo=1)),\n",
    "    index=combined_geno.strain,\n",
    "    columns=combined_geno.strain,\n",
    ")\n",
    "combined_mgtp_geno_linkage = sp.cluster.hierarchy.linkage(\n",
    "    squareform(combined_mgtp_geno_pdist), method=\"average\", optimal_ordering=True\n",
    ")"
   ]
  },
  {
   "cell_type": "code",
   "execution_count": null,
   "metadata": {},
   "outputs": [],
   "source": [
    "sf.plot.plot_genotype(\n",
    "    combined_geno.sel(position=position_ss),\n",
    "    row_linkage_func=lambda w: combined_mgtp_geno_linkage,\n",
    "    col_linkage_func=lambda w: position_linkage,\n",
    "    row_colors=strain_colors,\n",
    ")"
   ]
  },
  {
   "cell_type": "code",
   "execution_count": null,
   "metadata": {},
   "outputs": [],
   "source": [
    "gene_content_hmp2_uhgg = (\n",
    "    pd.read_table(\n",
    "        \"data/group/hmp2/species/sp-102506/r.proc.gtpro.sfacts-fit.gene99_v20-v23-agg75.spgc-fit.uhgg-strain_gene.tsv\",\n",
    "        index_col=\"gene_id\",\n",
    "    )[hmp2_strain_list]\n",
    "    .astype(bool)\n",
    "    .rename(columns=lambda s: f\"hmp2_{s}\")\n",
    ")\n",
    "gene_content_ucfmt_uhgg = gene_content_uhgg[\n",
    "    ucfmt_strains\n",
    "]  # pd.read_table('data/group/ucfmt/species/sp-102506/r.proc.gtpro.sfacts-fit.gene99_v20-v23-agg75.spgc-fit.uhgg-strain_gene.tsv', index_col='gene_id').astype(bool)\n",
    "gene_content_combined = pd.concat(\n",
    "    [gene_content_hmp2_uhgg, gene_content_ucfmt_uhgg], axis=\"columns\"\n",
    ").fillna(False)"
   ]
  },
  {
   "cell_type": "markdown",
   "metadata": {},
   "source": [
    "#### Figure 5B"
   ]
  },
  {
   "cell_type": "code",
   "execution_count": null,
   "metadata": {},
   "outputs": [],
   "source": [
    "d = gene_content_combined[\n",
    "    lambda x: (gene_prevalence_hmp2_uhgg > 0.15)\n",
    "    & (gene_prevalence_hmp2_uhgg < 0.9)\n",
    "    & (gene_content_combined.mean(1) > 0)\n",
    "]\n",
    "\n",
    "cg = sns.clustermap(\n",
    "    d,\n",
    "    col_linkage=combined_mgtp_geno_linkage,\n",
    "    metric=\"cosine\",\n",
    "    cmap=\"Grays\",\n",
    "    xticklabels=False,\n",
    "    yticklabels=False,\n",
    "    figsize=(10, 5),\n",
    "    tree_kws=dict(lw=1),\n",
    "    dendrogram_ratio=0.4,\n",
    "    rasterized=True,\n",
    ")\n",
    "cg.ax_heatmap.set_ylabel(\"\")\n",
    "cg.ax_row_dendrogram.set_visible(False)\n",
    "cg.ax_cbar.set_visible(False)\n",
    "\n",
    "d.shape\n",
    "\n",
    "plt.savefig('fig/fig5b_heatmap.pdf', bbox_inches='tight')"
   ]
  },
  {
   "cell_type": "code",
   "execution_count": null,
   "metadata": {},
   "outputs": [],
   "source": [
    "gene_content_combined[\n",
    "    lambda x: (gene_prevalence_hmp2_uhgg > 0.15)\n",
    "    & (gene_prevalence_hmp2_uhgg < 0.9)\n",
    "    & (gene_content_combined.mean(1) > 0)\n",
    "].dropna(axis=\"columns\").dropna(axis=\"rows\").shape"
   ]
  },
  {
   "cell_type": "code",
   "execution_count": null,
   "metadata": {},
   "outputs": [],
   "source": [
    "# Helper figure to place pointers.\n",
    "\n",
    "d = gene_content_combined[\n",
    "    lambda x: (gene_prevalence_hmp2_uhgg > 0.15)\n",
    "    & (gene_prevalence_hmp2_uhgg < 0.9)\n",
    "    & (gene_content_combined.mean(1) > 0)\n",
    "]\n",
    "\n",
    "cg = sns.clustermap(\n",
    "    d,\n",
    "    col_linkage=combined_mgtp_geno_linkage,\n",
    "    col_colors=strain_colors,\n",
    "    metric=\"cosine\",\n",
    "    xticklabels=False,\n",
    "    yticklabels=False,\n",
    "    figsize=(10, 4),\n",
    "    tree_kws=dict(lw=1),\n",
    "    dendrogram_ratio=0.3,\n",
    ")\n",
    "cg.ax_row_dendrogram.set_visible(False)\n",
    "cg.ax_cbar.set_visible(False)"
   ]
  },
  {
   "cell_type": "code",
   "execution_count": null,
   "metadata": {},
   "outputs": [],
   "source": [
    "combined_gene_content_pdist = lib.dissimilarity.dmatrix(\n",
    "    gene_content_combined[\n",
    "        lambda x: (gene_prevalence_hmp2_uhgg > 0.15) & (gene_prevalence_hmp2_uhgg < 0.9)\n",
    "    ].T,\n",
    "    metric=\"cosine\",\n",
    ")\n",
    "\n",
    "_strain_list = combined_gene_content_pdist.index\n",
    "\n",
    "strain_pair_coded = lib.dissimilarity.dmatrix(\n",
    "    _strain_list.to_frame().isin(_strain_list).replace({True: 2, False: 1}),\n",
    "    metric=lambda x, y: x * y,\n",
    ")\n",
    "print(strain_pair_coded.stack().value_counts())\n",
    "\n",
    "d = pd.DataFrame(\n",
    "    dict(\n",
    "        geno_diss=squareform(combined_mgtp_geno_pdist.loc[_strain_list, _strain_list]),\n",
    "        gene_diss=squareform(\n",
    "            combined_gene_content_pdist.loc[_strain_list, _strain_list]\n",
    "        ),\n",
    "        pair_type_coded=squareform(strain_pair_coded.loc[_strain_list, _strain_list]),\n",
    "    )\n",
    ").assign(\n",
    "    pair_type=lambda x: x.pair_type_coded.map(\n",
    "        {0.0: \"self\", 1.0: \"hmp2\", 2.0: \"inter\", 4.0: \"ucfmt\"}\n",
    "    )\n",
    ")\n",
    "print(sp.stats.pearsonr(d[\"geno_diss\"], d[\"gene_diss\"]))\n",
    "\n",
    "# Plot hmp2 and inter-set pairs\n",
    "plt.scatter(\n",
    "    \"geno_diss\",\n",
    "    \"gene_diss\",\n",
    "    data=d[lambda x: x.pair_type.isin([\"hmp2\", \"inter\"])],\n",
    "    s=30,\n",
    "    facecolor=\"none\",\n",
    "    edgecolor=\"darkgrey\",\n",
    "    label=\"Other pairs\",\n",
    ")\n",
    "\n",
    "# Plot UCFMT pairs\n",
    "plt.scatter(\n",
    "    \"geno_diss\",\n",
    "    \"gene_diss\",\n",
    "    data=d[lambda x: x.pair_type.isin([\"ucfmt\"])],\n",
    "    s=30,\n",
    "    facecolor=\"none\",\n",
    "    edgecolor=\"tab:blue\",\n",
    "    label=\"UCFMT pairs\",\n",
    ")\n",
    "\n",
    "\n",
    "# ucfmt-by-ucfmt pairs# Highlight\n",
    "# _x = squareform(combined_mgtp_geno_pdist.loc[spgc_strain_list, spgc_strain_list])\n",
    "# _y = squareform(combined_gene_content_pdist.loc[spgc_strain_list, spgc_strain_list])\n",
    "# plt.scatter(_x, _y, s=5)\n",
    "\n",
    "# Highlight focal strain comparison#\n",
    "_x = squareform(combined_mgtp_geno_pdist.loc[focal_strains, focal_strains])\n",
    "_y = squareform(combined_gene_content_pdist.loc[focal_strains, focal_strains])\n",
    "plt.scatter(_x, _y, s=40, c=\"red\", label=\"9 and 6\")\n",
    "\n",
    "plt.legend()\n",
    "plt.xlabel(\"Genotype Dissimilarity\", fontsize=14)\n",
    "plt.ylabel(\"Shell Gene Content Dissimilarity\", fontsize=14)"
   ]
  },
  {
   "cell_type": "code",
   "execution_count": null,
   "metadata": {},
   "outputs": [],
   "source": [
    "plt.hist(\n",
    "    squareform(combined_mgtp_geno_pdist.loc[spgc_strain_list, spgc_strain_list]),\n",
    "    bins=20,\n",
    ")\n",
    "plt.axvline(\n",
    "    squareform(combined_mgtp_geno_pdist.loc[focal_strains, focal_strains]), color=\"r\"\n",
    ")\n",
    "print(squareform(combined_mgtp_geno_pdist.loc[focal_strains, focal_strains]))\n",
    "print(\n",
    "    (\n",
    "        squareform(combined_mgtp_geno_pdist.loc[spgc_strain_list, spgc_strain_list])\n",
    "        < squareform(combined_mgtp_geno_pdist.loc[focal_strains, focal_strains])\n",
    "    ).mean()\n",
    ")\n",
    "np.quantile(\n",
    "    squareform(combined_mgtp_geno_pdist.loc[spgc_strain_list, spgc_strain_list]),\n",
    "    [0.25, 0.5, 0.75],\n",
    ")"
   ]
  },
  {
   "cell_type": "code",
   "execution_count": null,
   "metadata": {},
   "outputs": [],
   "source": [
    "sns.clustermap(\n",
    "    combined_mgtp_geno_pdist,\n",
    "    row_linkage=combined_mgtp_geno_linkage,\n",
    "    col_linkage=combined_mgtp_geno_linkage,\n",
    "    col_colors=strain_colors,\n",
    "    row_colors=strain_colors,\n",
    ")"
   ]
  },
  {
   "cell_type": "code",
   "execution_count": null,
   "metadata": {},
   "outputs": [],
   "source": [
    "d0 = gene_content_combined[\n",
    "    lambda x: (gene_prevalence_hmp2_uhgg > 0.15) & (gene_prevalence_hmp2_uhgg < 0.9)\n",
    "]\n",
    "\n",
    "pdist = lib.dissimilarity.dmatrix(d0.T, metric=\"jaccard\")\n",
    "\n",
    "sns.clustermap(\n",
    "    pdist,\n",
    "    row_linkage=combined_mgtp_geno_linkage,\n",
    "    col_linkage=combined_mgtp_geno_linkage,\n",
    "    col_colors=strain_colors,\n",
    "    row_colors=strain_colors,\n",
    ")"
   ]
  },
  {
   "cell_type": "code",
   "execution_count": null,
   "metadata": {},
   "outputs": [],
   "source": [
    "gene_x_cog_category_matrix = (\n",
    "    pd.read_table(\n",
    "        \"data/species/sp-102506/midasdb_v20.emapper.gene75_x_cog_category.tsv\"\n",
    "    )\n",
    "    .assign(flag=True)\n",
    "    .set_index([\"centroid_75\", \"cog_category\"])\n",
    "    .flag.unstack(\"cog_category\", fill_value=False)\n",
    ")"
   ]
  },
  {
   "cell_type": "markdown",
   "metadata": {},
   "source": [
    "#### Figure 5C"
   ]
  },
  {
   "cell_type": "code",
   "execution_count": null,
   "metadata": {},
   "outputs": [],
   "source": [
    "d = gene_content_ucfmt_uhgg\n",
    "\n",
    "v = venn2(\n",
    "    [set(idxwhere(d[\"6\"])), set(idxwhere(d[\"9\"]))],\n",
    "    set_labels=[\"\", \"\"],\n",
    "    set_colors=[strain_palette[\"6\"], strain_palette[\"9\"]],\n",
    ")\n",
    "\n",
    "for text in v.subset_labels:\n",
    "    text.set_fontsize(30)\n",
    "\n",
    "plt.savefig('fig/fig5c_venn.pdf', bbox_inches='tight')"
   ]
  },
  {
   "cell_type": "markdown",
   "metadata": {},
   "source": [
    "#### Figure 5D"
   ]
  },
  {
   "cell_type": "code",
   "execution_count": null,
   "metadata": {},
   "outputs": [],
   "source": [
    "# Figure 5D\n",
    "\n",
    "drop_clusters = set(idxwhere(gene_clust.value_counts() < 2) + [-4, -3, -2, -1])\n",
    "d = (gene_content_ucfmt_uhgg.groupby(gene_clust).mean() >= 0.75).drop(\n",
    "    drop_clusters, errors=\"ignore\"\n",
    ")\n",
    "\n",
    "v = venn2(\n",
    "    [set(idxwhere(d[\"6\"])), set(idxwhere(d[\"9\"]))],\n",
    "    set_labels=[\"\", \"\"],\n",
    "    set_colors=[strain_palette[\"6\"], strain_palette[\"9\"]],\n",
    ")\n",
    "\n",
    "for text in v.subset_labels:\n",
    "    text.set_fontsize(30)\n",
    "\n",
    "plt.savefig('fig/fig5d_venn.pdf', bbox_inches='tight')"
   ]
  },
  {
   "cell_type": "markdown",
   "metadata": {},
   "source": [
    "### Focal Strain Shared Gene Content"
   ]
  },
  {
   "cell_type": "raw",
   "metadata": {},
   "source": [
    "_strain_status = pd.DataFrame(dict(\n",
    "    shared=gene_content_combined[focal_strains].all(1).astype(int),\n",
    "    ucfmt_prevalence=gene_content_combined[ucfmt_strains].mean(1),\n",
    "    hmp2_prevalence=gene_content_combined[hmp2_strain_rename_list].mean(1),\n",
    "))[lambda x: x.ucfmt_prevalence > 0]\n",
    "\n",
    "_cog_category = gene_x_cog_category_matrix.reindex(_strain_status.index).fillna(False).assign(no_category=lambda d: d.drop(columns=['no_category']).sum(1) == 0)\n",
    "\n",
    "d = _strain_status.join(_cog_category.astype(int))\n",
    "\n",
    "fit = smf.logit('shared ~ ucfmt_prevalence + ' + ' + '.join(_cog_category.drop(columns=['no_category']).columns), data=d).fit()"
   ]
  },
  {
   "cell_type": "code",
   "execution_count": null,
   "metadata": {},
   "outputs": [],
   "source": [
    "_strain_status = pd.DataFrame(\n",
    "    dict(\n",
    "        shared=gene_content_combined[focal_strains].all(1),\n",
    "        ucfmt_prevalence=gene_content_combined[ucfmt_strains].mean(1),\n",
    "        hmp2_prevalence=gene_content_combined[hmp2_strain_rename_list].mean(1),\n",
    "    )\n",
    ")[lambda x: x.ucfmt_prevalence > 0]\n",
    "\n",
    "_strain_status"
   ]
  },
  {
   "cell_type": "code",
   "execution_count": null,
   "metadata": {},
   "outputs": [],
   "source": [
    "cluster_content = (gene_content_combined.groupby(gene_clust).mean() >= 0.75).drop(\n",
    "    drop_clusters, errors=\"ignore\"\n",
    ")\n",
    "\n",
    "_strain_status = pd.DataFrame(\n",
    "    dict(\n",
    "        shared=cluster_content[focal_strains].all(1),\n",
    "        ucfmt_prevalence=cluster_content[ucfmt_strains].mean(1),\n",
    "        hmp2_prevalence=cluster_content[hmp2_strain_rename_list].mean(1),\n",
    "        cluster_size=gene_clust.value_counts(),\n",
    "    )\n",
    ")[lambda x: x.ucfmt_prevalence > 0]\n",
    "\n",
    "shared_low_prevalence_clusters = idxwhere(\n",
    "    (_strain_status.ucfmt_prevalence < 5 / 18) & (_strain_status.shared)\n",
    ")\n",
    "\n",
    "_strain_status.loc[shared_low_prevalence_clusters].sort_values(\n",
    "    [\"cluster_size\", \"ucfmt_prevalence\"], ascending=False\n",
    ")"
   ]
  },
  {
   "cell_type": "code",
   "execution_count": null,
   "metadata": {},
   "outputs": [],
   "source": [
    "clust = shared_low_prevalence_clusters\n",
    "_clust_annotations = (\n",
    "    gene_annotation.loc[idxwhere(gene_clust.isin(clust))]\n",
    "    .assign(ucfmt_prevalence=gene_content_combined[ucfmt_strains].mean(1))\n",
    "    .join(gene_clust)\n",
    "    .join(gene_content_uhgg[focal_strains])\n",
    "    .sort_values([\"clust\", \"Preferred_name\"])\n",
    ")\n",
    "\n",
    "# _clust_annotations[['eggNOG_OGs', 'COG_category', 'Description', 'Preferred_name', 'PFAMs', 'ucfmt_prevalence', 'clust', '6', '9']]\n",
    "\n",
    "gene_x_cog_category_matrix.reindex(_clust_annotations.index).fillna(False).assign(\n",
    "    no_category=lambda d: (d.drop(columns=[\"no_category\"]).sum(1) == 0)\n",
    ").sum()[lambda x: x > 0]"
   ]
  },
  {
   "cell_type": "code",
   "execution_count": null,
   "metadata": {},
   "outputs": [],
   "source": [
    "gene_x_cog_category_matrix.reindex(_clust_annotations.index).fillna(False).assign(\n",
    "    no_category=lambda d: (d.drop(columns=[\"no_category\"]).sum(1) == 0)\n",
    ").groupby(gene_clust).sum().loc[:, lambda x: x.sum() > 0]"
   ]
  },
  {
   "cell_type": "code",
   "execution_count": null,
   "metadata": {},
   "outputs": [],
   "source": [
    "clust = [624]\n",
    "_clust_annotations = (\n",
    "    gene_annotation.loc[idxwhere(gene_clust.isin(clust))]\n",
    "    .assign(ucfmt_prevalence=gene_content_combined[ucfmt_strains].mean(1))\n",
    "    .join(gene_clust)\n",
    "    .join(gene_content_uhgg[focal_strains])\n",
    "    .sort_values(\"Preferred_name\")\n",
    ")\n",
    "\n",
    "_clust_annotations[\n",
    "    [\n",
    "        \"eggNOG_OGs\",\n",
    "        \"COG_category\",\n",
    "        \"Description\",\n",
    "        \"Preferred_name\",\n",
    "        \"PFAMs\",\n",
    "        \"ucfmt_prevalence\",\n",
    "        \"clust\",\n",
    "        \"6\",\n",
    "        \"9\",\n",
    "    ]\n",
    "]"
   ]
  },
  {
   "cell_type": "markdown",
   "metadata": {},
   "source": [
    "### Focal Strain Differences"
   ]
  },
  {
   "cell_type": "code",
   "execution_count": null,
   "metadata": {},
   "outputs": [],
   "source": [
    "gene_x_amr = pd.read_table(\"data/species/sp-102506/midasdb_v20.gene75_x_amr.tsv\")\n",
    "amr_gene_list = gene_x_amr.centroid_75.unique()\n",
    "len(amr_gene_list)"
   ]
  },
  {
   "cell_type": "code",
   "execution_count": null,
   "metadata": {},
   "outputs": [],
   "source": [
    "gene_content_ucfmt_uhgg.reindex(\n",
    "    index=amr_gene_list, columns=focal_strains, fill_value=False\n",
    ").sum()"
   ]
  },
  {
   "cell_type": "code",
   "execution_count": null,
   "metadata": {},
   "outputs": [],
   "source": [
    "gene_content_ucfmt_uhgg.reindex(\n",
    "    index=amr_gene_list, columns=focal_strains, fill_value=False\n",
    ")[lambda x: x.sum(1) > 0]"
   ]
  },
  {
   "cell_type": "code",
   "execution_count": null,
   "metadata": {},
   "outputs": [],
   "source": [
    "focal_strain_amr_hits = gene_x_amr[\n",
    "    lambda x: x.centroid_75.isin(\n",
    "        idxwhere(gene_content_ucfmt_uhgg[focal_strains].any(axis=1))\n",
    "    )\n",
    "]\n",
    "focal_strain_amr_list = focal_strain_amr_hits.accession_no.values\n",
    "focal_strain_amr_hits.sort_values(\"centroid_75\")"
   ]
  },
  {
   "cell_type": "code",
   "execution_count": null,
   "metadata": {},
   "outputs": [],
   "source": [
    "resfinder = pd.read_table(\n",
    "    \"ref/midasdb_uhgg_v20/pangenomes/102506/annotation/resfinder.tsv\"\n",
    ")[[\"resistance_gene\", \"phenotype\", \"accession_no\"]].drop_duplicates()\n",
    "resfinder"
   ]
  },
  {
   "cell_type": "code",
   "execution_count": null,
   "metadata": {},
   "outputs": [],
   "source": [
    "resfinder[lambda x: x.accession_no.isin(focal_strain_amr_list)].sort_values(\n",
    "    \"accession_no\"\n",
    ")"
   ]
  },
  {
   "cell_type": "code",
   "execution_count": null,
   "metadata": {},
   "outputs": [],
   "source": [
    "resfinder[lambda x: x.accession_no.isin(focal_strain_amr_list)].sort_values(\n",
    "    \"accession_no\"\n",
    ").phenotype.str.split(\", \").explode().value_counts()"
   ]
  },
  {
   "cell_type": "code",
   "execution_count": null,
   "metadata": {},
   "outputs": [],
   "source": [
    "d = gene_content_combined.loc[amr_gene_list][lambda x: x.sum(1) > 0]\n",
    "\n",
    "cg = sns.clustermap(\n",
    "    d,\n",
    "    col_linkage=combined_mgtp_geno_linkage,\n",
    "    col_colors=strain_colors,\n",
    "    metric=\"cosine\",\n",
    "    xticklabels=False,\n",
    "    yticklabels=False,\n",
    "    figsize=(10, 4),\n",
    "    tree_kws=dict(lw=1),\n",
    "    dendrogram_ratio=0.3,\n",
    ")\n",
    "cg.ax_row_dendrogram.set_visible(False)\n",
    "cg.ax_cbar.set_visible(False)"
   ]
  },
  {
   "cell_type": "code",
   "execution_count": null,
   "metadata": {},
   "outputs": [],
   "source": [
    "gene_content_combined"
   ]
  },
  {
   "cell_type": "code",
   "execution_count": null,
   "metadata": {},
   "outputs": [],
   "source": [
    "drop_clusters = set(idxwhere(gene_clust.value_counts() < 2) + [-4, -3, -2, -1])\n",
    "clust_content_combined = (\n",
    "    gene_content_combined.reindex(gene_clust.index, fill_value=False)\n",
    "    .groupby(gene_clust)\n",
    "    .mean()\n",
    "    # >= 0.75\n",
    ").drop(drop_clusters, errors=\"ignore\")\n",
    "d = clust_content_combined\n",
    "\n",
    "cg = sns.clustermap(\n",
    "    d,\n",
    "    col_linkage=combined_mgtp_geno_linkage,\n",
    "    col_colors=strain_colors,\n",
    "    metric=\"cosine\",\n",
    "    xticklabels=False,\n",
    "    yticklabels=False,\n",
    "    figsize=(10, 4),\n",
    "    tree_kws=dict(lw=1),\n",
    "    dendrogram_ratio=0.3,\n",
    ")\n",
    "cg.ax_row_dendrogram.set_visible(False)\n",
    "cg.ax_cbar.set_visible(False)"
   ]
  },
  {
   "cell_type": "markdown",
   "metadata": {},
   "source": [
    "## Comprehensive Results Table (Supplementary Table 2)"
   ]
  },
  {
   "cell_type": "code",
   "execution_count": null,
   "metadata": {},
   "outputs": [],
   "source": [
    "d = (\n",
    "    gene_annotation[[\"nlength\", \"Description\", \"Preferred_name\"]]\n",
    "    .reindex(idxwhere(gene_content_uhgg[focal_strains].any(axis=1)))\n",
    "    .join(\n",
    "        gene_content_combined[focal_strains].rename(\n",
    "            columns=lambda s: f\"{s}_gene_present\"\n",
    "        )\n",
    "    )\n",
    "    .assign(\n",
    "        eggnog_og=gene_x_eggnog.groupby(\"centroid_75\").eggnog.apply(\n",
    "            lambda x: \",\".join(x)\n",
    "        ),\n",
    "        gene_clust=gene_clust.replace({-4: np.nan, -3: np.nan, -2: np.nan, -1: np.nan}),\n",
    "        amr_hit=gene_x_amr.groupby(\"centroid_75\").accession_no.apply(\n",
    "            lambda s: \",\".join(s)\n",
    "        ),\n",
    "        cog_category=gene_x_cog_category_matrix.stack()\n",
    "        .rename(\"is_category\")\n",
    "        .reset_index()[lambda x: x.is_category & (x.cog_category != \"no_category\")]\n",
    "        .groupby(\"centroid_75\")\n",
    "        .cog_category.apply(lambda s: \",\".join(s)),\n",
    "    )\n",
    "    .join(\n",
    "        gene_content_combined[focal_strains]\n",
    "        .reindex(gene_clust.index, fill_value=False)\n",
    "        .groupby(gene_clust)\n",
    "        .mean()\n",
    "        .rename(columns=lambda s: f\"{s}_clust_frac\")\n",
    "        .drop([-4, -3, -2, -1]),\n",
    "        on=\"gene_clust\",\n",
    "    )\n",
    ")\n",
    "d.to_csv(\"fig/ucfmt_focal_strain_genes_supplementary_table2.tsv\", sep='\\t')\n",
    "d"
   ]
  },
  {
   "cell_type": "code",
   "execution_count": null,
   "metadata": {},
   "outputs": [],
   "source": [
    "d = gene_annotation.join(gene_clust).join(gene_content_uhgg[focal_strains])\n",
    "\n",
    "d"
   ]
  },
  {
   "cell_type": "markdown",
   "metadata": {},
   "source": [
    "## Strain-9"
   ]
  },
  {
   "cell_type": "code",
   "execution_count": null,
   "metadata": {},
   "outputs": [],
   "source": [
    "d = clust_content_combined > 0.75\n",
    "\n",
    "strain9_only_clust_list = idxwhere(\n",
    "    (~d[\"6\"] & d[\"9\"])\n",
    ")\n",
    "gene_clust.value_counts().to_frame(\"total_genes\").assign(\n",
    "    cat=gene_x_cog_category_matrix.groupby(gene_clust)\n",
    "    .sum()\n",
    "    .apply(lambda x: x[lambda x: x > 0].sort_values(ascending=False).to_dict(), axis=1)\n",
    ").loc[strain9_only_clust_list].sort_values(\"total_genes\", ascending=False).head(20)"
   ]
  },
  {
   "cell_type": "markdown",
   "metadata": {},
   "source": [
    "### Clust-37"
   ]
  },
  {
   "cell_type": "code",
   "execution_count": null,
   "metadata": {},
   "outputs": [],
   "source": [
    "clust = [37]\n",
    "_clust_annotations = (\n",
    "    gene_annotation.loc[idxwhere(gene_clust.isin(clust))]\n",
    "    .join(gene_clust)\n",
    "    .join(\n",
    "        gene_content_uhgg[focal_strains].reindex(\n",
    "            idxwhere(gene_clust.isin(clust)), fill_value=False\n",
    "        )\n",
    "    )\n",
    "    .sort_values(\"Preferred_name\")\n",
    ")\n",
    "print(gene_clust[lambda x: x.isin(clust)].value_counts())\n",
    "print(\n",
    "    gene_content_uhgg.reindex(_clust_annotations.index)[focal_strains]\n",
    "    .value_counts()\n",
    "    .unstack(fill_value=0)\n",
    ")\n",
    "print(\n",
    "    gene_x_cog_category_matrix.reindex(idxwhere(gene_clust.isin(clust)))\n",
    "    .sum()\n",
    "    .sort_values(ascending=False)[lambda x: x > 0]\n",
    ")\n",
    "# _clust_annotations"
   ]
  },
  {
   "cell_type": "code",
   "execution_count": null,
   "metadata": {},
   "outputs": [],
   "source": [
    "for gene_id, x in _clust_annotations.iterrows():\n",
    "    print(\n",
    "        gene_id,\n",
    "        x.Preferred_name,\n",
    "        x.Description,\n",
    "        x.eggNOG_OGs,\n",
    "        idxwhere(x[focal_strains]),\n",
    "    )\n",
    "    print()"
   ]
  },
  {
   "cell_type": "markdown",
   "metadata": {},
   "source": [
    "#### type iv / pil / pilin"
   ]
  },
  {
   "cell_type": "code",
   "execution_count": null,
   "metadata": {},
   "outputs": [],
   "source": [
    "_related_annotations = (\n",
    "    gene_annotation[\n",
    "        lambda x: (x.Preferred_name.fillna(\"\").str.lower().str.startswith(\"pil\"))\n",
    "        | (x.Description.fillna(\"\").str.lower().str.contains(\"pilin\"))\n",
    "        | (x.Description.fillna(\"\").str.lower().str.contains(\"type iv secre\"))\n",
    "    ]\n",
    "    .join(gene_clust)\n",
    "    .join(gene_content_uhgg[focal_strains])[\n",
    "        lambda x: x[[\"6\", \"9\"]].fillna(False).any(axis=1)\n",
    "    ]\n",
    "    .sort_values(\"Preferred_name\")\n",
    ")\n",
    "\n",
    "print(\n",
    "    _related_annotations[[\"clust\", *focal_strains]]\n",
    "    .value_counts()\n",
    "    .unstack(\"clust\", fill_value=0)\n",
    "    .T\n",
    ")"
   ]
  },
  {
   "cell_type": "code",
   "execution_count": null,
   "metadata": {},
   "outputs": [],
   "source": [
    "for gene_id, x in _related_annotations.iterrows():\n",
    "    print(\n",
    "        gene_id,\n",
    "        x.clust,\n",
    "        idxwhere(x[focal_strains]),\n",
    "        x.Preferred_name,\n",
    "        x.Description,\n",
    "        x.eggNOG_OGs,\n",
    "    )\n",
    "    print()"
   ]
  },
  {
   "cell_type": "markdown",
   "metadata": {},
   "source": [
    "### Clust-418"
   ]
  },
  {
   "cell_type": "code",
   "execution_count": null,
   "metadata": {},
   "outputs": [],
   "source": [
    "clust = [418]\n",
    "_clust_annotations = (\n",
    "    gene_annotation.loc[idxwhere(gene_clust.isin(clust))]\n",
    "    .join(gene_clust)\n",
    "    .join(\n",
    "        gene_content_uhgg[focal_strains].reindex(\n",
    "            idxwhere(gene_clust.isin(clust)), fill_value=False\n",
    "        )\n",
    "    )\n",
    "    .sort_values(\"Preferred_name\")\n",
    ")\n",
    "print(gene_clust[lambda x: x.isin(clust)].value_counts())\n",
    "print(\n",
    "    gene_content_uhgg.reindex(_clust_annotations.index)[focal_strains]\n",
    "    .value_counts()\n",
    "    .unstack(fill_value=0)\n",
    ")\n",
    "print(\n",
    "    gene_x_cog_category_matrix.reindex(idxwhere(gene_clust.isin(clust)))\n",
    "    .sum()\n",
    "    .sort_values(ascending=False)[lambda x: x > 0]\n",
    ")\n",
    "# _clust_annotations"
   ]
  },
  {
   "cell_type": "code",
   "execution_count": null,
   "metadata": {},
   "outputs": [],
   "source": [
    "for gene_id, x in _clust_annotations.iterrows():\n",
    "    print(\n",
    "        gene_id,\n",
    "        x.Preferred_name,\n",
    "        x.Description,\n",
    "        x.eggNOG_OGs,\n",
    "        idxwhere(x[focal_strains]),\n",
    "    )\n",
    "    print()"
   ]
  },
  {
   "cell_type": "markdown",
   "metadata": {},
   "source": [
    "#### sgc / yjh operons"
   ]
  },
  {
   "cell_type": "code",
   "execution_count": null,
   "metadata": {},
   "outputs": [],
   "source": [
    "_related_annotations = (\n",
    "    gene_annotation[\n",
    "        lambda x: (x.Preferred_name.fillna(\"\").str.lower().str.startswith(\"sgc\"))\n",
    "        | (x.Preferred_name.fillna(\"\").str.lower().str.startswith(\"yjh\"))\n",
    "        # | (x.Description.fillna('').str.lower().str.contains('pilin'))\n",
    "        # | (x.Description.fillna('').str.lower().str.contains('type iv secre'))\n",
    "    ]\n",
    "    .join(gene_clust)\n",
    "    .join(gene_content_uhgg[focal_strains])[\n",
    "        lambda x: x[[\"6\", \"9\"]].fillna(False).any(axis=1)\n",
    "    ]\n",
    "    .sort_values(\"Preferred_name\")\n",
    ")\n",
    "\n",
    "print(\n",
    "    _related_annotations[[\"clust\", *focal_strains]]\n",
    "    .value_counts()\n",
    "    .unstack(\"clust\", fill_value=0)\n",
    "    .T\n",
    ")"
   ]
  },
  {
   "cell_type": "code",
   "execution_count": null,
   "metadata": {},
   "outputs": [],
   "source": [
    "for _, x in _related_annotations.iterrows():\n",
    "    print(\n",
    "        gene_id,\n",
    "        x.clust,\n",
    "        idxwhere(x[focal_strains]),\n",
    "        x.Preferred_name,\n",
    "        x.Description,\n",
    "        x.eggNOG_OGs,\n",
    "    )\n",
    "    print()"
   ]
  },
  {
   "cell_type": "markdown",
   "metadata": {},
   "source": [
    "### Clust-1485"
   ]
  },
  {
   "cell_type": "code",
   "execution_count": null,
   "metadata": {},
   "outputs": [],
   "source": [
    "clust = [1485]\n",
    "_clust_annotations = (\n",
    "    gene_annotation.loc[idxwhere(gene_clust.isin(clust))]\n",
    "    .join(gene_clust)\n",
    "    .join(\n",
    "        gene_content_uhgg[focal_strains].reindex(\n",
    "            idxwhere(gene_clust.isin(clust)), fill_value=False\n",
    "        )\n",
    "    )\n",
    "    .sort_values(\"Preferred_name\")\n",
    ")\n",
    "print(gene_clust[lambda x: x.isin(clust)].value_counts())\n",
    "print(\n",
    "    gene_content_uhgg.reindex(_clust_annotations.index)[focal_strains]\n",
    "    .value_counts()\n",
    "    .unstack(fill_value=0)\n",
    ")\n",
    "print(\n",
    "    gene_x_cog_category_matrix.reindex(idxwhere(gene_clust.isin(clust)))\n",
    "    .sum()\n",
    "    .sort_values(ascending=False)[lambda x: x > 0]\n",
    ")\n",
    "# _clust_annotations"
   ]
  },
  {
   "cell_type": "code",
   "execution_count": null,
   "metadata": {},
   "outputs": [],
   "source": [
    "for gene_id, x in _clust_annotations.iterrows():\n",
    "    print(\n",
    "        gene_id,\n",
    "        x.Preferred_name,\n",
    "        x.Description,\n",
    "        x.eggNOG_OGs,\n",
    "        idxwhere(x[focal_strains]),\n",
    "    )\n",
    "    print()"
   ]
  },
  {
   "cell_type": "markdown",
   "metadata": {},
   "source": [
    "### Clust-861"
   ]
  },
  {
   "cell_type": "code",
   "execution_count": null,
   "metadata": {},
   "outputs": [],
   "source": [
    "clust = [861]\n",
    "_clust_annotations = (\n",
    "    gene_annotation.loc[idxwhere(gene_clust.isin(clust))]\n",
    "    .join(gene_clust)\n",
    "    .join(\n",
    "        gene_content_uhgg[focal_strains].reindex(\n",
    "            idxwhere(gene_clust.isin(clust)), fill_value=False\n",
    "        )\n",
    "    )\n",
    "    .sort_values(\"Preferred_name\")\n",
    ")\n",
    "print(gene_clust[lambda x: x.isin(clust)].value_counts())\n",
    "print(\n",
    "    gene_content_uhgg.reindex(_clust_annotations.index)[focal_strains]\n",
    "    .value_counts()\n",
    "    .unstack(fill_value=0)\n",
    ")\n",
    "print(\n",
    "    gene_x_cog_category_matrix.reindex(idxwhere(gene_clust.isin(clust)))\n",
    "    .sum()\n",
    "    .sort_values(ascending=False)[lambda x: x > 0]\n",
    ")\n",
    "# _clust_annotations"
   ]
  },
  {
   "cell_type": "code",
   "execution_count": null,
   "metadata": {},
   "outputs": [],
   "source": [
    "for gene_id, x in _clust_annotations.iterrows():\n",
    "    print(\n",
    "        gene_id,\n",
    "        x.Preferred_name,\n",
    "        x.Description,\n",
    "        x.eggNOG_OGs,\n",
    "        idxwhere(x[focal_strains]),\n",
    "    )\n",
    "    print()"
   ]
  },
  {
   "cell_type": "markdown",
   "metadata": {},
   "source": [
    "#### T6SS"
   ]
  },
  {
   "cell_type": "code",
   "execution_count": null,
   "metadata": {},
   "outputs": [],
   "source": [
    "_related_annotations = (\n",
    "    gene_annotation[\n",
    "        lambda x: (x.Preferred_name.fillna(\"\").str.lower().str.startswith(\"imp\"))\n",
    "        | (x.Preferred_name.fillna(\"\").str.lower().str.startswith(\"vas\"))\n",
    "        # | (x.Preferred_name.fillna('').str.lower().str.startswith('yjh'))\n",
    "        | (x.Description.fillna(\"\").str.lower().str.contains(\"type vi secret\"))\n",
    "        # | (x.Description.fillna('').str.lower().str.contains('Capsule polysaccharide'))\n",
    "    ]\n",
    "    .join(gene_clust)\n",
    "    .join(gene_content_uhgg[focal_strains])[\n",
    "        lambda x: x[[\"6\", \"9\"]].fillna(False).any(axis=1)\n",
    "    ]\n",
    "    .sort_values(\"Preferred_name\")\n",
    ")\n",
    "\n",
    "print(\n",
    "    _related_annotations[[\"clust\", *focal_strains]]\n",
    "    .value_counts()\n",
    "    .unstack(\"clust\", fill_value=0)\n",
    "    .T\n",
    ")"
   ]
  },
  {
   "cell_type": "code",
   "execution_count": null,
   "metadata": {},
   "outputs": [],
   "source": [
    "for gene_id, x in _related_annotations.iterrows():\n",
    "    print(\n",
    "        gene_id,\n",
    "        x.clust,\n",
    "        idxwhere(x[focal_strains]),\n",
    "        x.Preferred_name,\n",
    "        x.Description,\n",
    "        x.eggNOG_OGs,\n",
    "    )\n",
    "    print()"
   ]
  },
  {
   "cell_type": "markdown",
   "metadata": {},
   "source": [
    "### Clust-789"
   ]
  },
  {
   "cell_type": "code",
   "execution_count": null,
   "metadata": {},
   "outputs": [],
   "source": [
    "clust = [789]\n",
    "_clust_annotations = (\n",
    "    gene_annotation.loc[idxwhere(gene_clust.isin(clust))]\n",
    "    .join(gene_clust)\n",
    "    .join(\n",
    "        gene_content_uhgg[focal_strains].reindex(\n",
    "            idxwhere(gene_clust.isin(clust)), fill_value=False\n",
    "        )\n",
    "    )\n",
    "    .sort_values(\"Preferred_name\")\n",
    ")\n",
    "print(gene_clust[lambda x: x.isin(clust)].value_counts())\n",
    "print(\n",
    "    gene_content_uhgg.reindex(_clust_annotations.index)[focal_strains]\n",
    "    .value_counts()\n",
    "    .unstack(fill_value=0)\n",
    ")\n",
    "print(\n",
    "    gene_x_cog_category_matrix.reindex(idxwhere(gene_clust.isin(clust)))\n",
    "    .sum()\n",
    "    .sort_values(ascending=False)[lambda x: x > 0]\n",
    ")\n",
    "# _clust_annotations"
   ]
  },
  {
   "cell_type": "code",
   "execution_count": null,
   "metadata": {},
   "outputs": [],
   "source": [
    "for gene_id, x in _clust_annotations.iterrows():\n",
    "    print(\n",
    "        gene_id,\n",
    "        x.Preferred_name,\n",
    "        x.Description,\n",
    "        x.eggNOG_OGs,\n",
    "        idxwhere(x[focal_strains]),\n",
    "    )\n",
    "    print()"
   ]
  },
  {
   "cell_type": "markdown",
   "metadata": {},
   "source": [
    "#### fab operon"
   ]
  },
  {
   "cell_type": "code",
   "execution_count": null,
   "metadata": {},
   "outputs": [],
   "source": [
    "_related_annotations = (\n",
    "    gene_annotation[\n",
    "        lambda x: False\n",
    "        | (x.Preferred_name.fillna(\"\").str.lower().str.startswith(\"fab\"))\n",
    "        # | (x.Preferred_name.fillna('').str.lower().str.startswith('yjh'))\n",
    "        # | (x.Description.fillna('').str.lower().str.contains('lipoprotein'))\n",
    "        # | (x.Description.fillna('').str.lower().str.contains('Capsule polysaccharide'))\n",
    "    ]\n",
    "    .join(gene_clust)\n",
    "    .join(gene_content_uhgg[focal_strains])[\n",
    "        lambda x: x[[\"6\", \"9\"]].fillna(False).any(axis=1)\n",
    "    ]\n",
    "    .sort_values(\"Preferred_name\")\n",
    ")\n",
    "\n",
    "print(_related_annotations[[\"clust\", *focal_strains]].sum())\n",
    "print(\n",
    "    _related_annotations[[\"clust\", *focal_strains]]\n",
    "    .value_counts()\n",
    "    .unstack(\"clust\", fill_value=0)\n",
    "    .T\n",
    ")"
   ]
  },
  {
   "cell_type": "code",
   "execution_count": null,
   "metadata": {},
   "outputs": [],
   "source": [
    "for gene_id, x in _related_annotations.iterrows():\n",
    "    print(\n",
    "        gene_id,\n",
    "        x.clust,\n",
    "        idxwhere(x[focal_strains]),\n",
    "        x.Preferred_name,\n",
    "        x.Description,\n",
    "        x.eggNOG_OGs,\n",
    "    )\n",
    "    print()"
   ]
  },
  {
   "cell_type": "markdown",
   "metadata": {},
   "source": [
    "### Clust-129"
   ]
  },
  {
   "cell_type": "code",
   "execution_count": null,
   "metadata": {},
   "outputs": [],
   "source": [
    "clust = [129]\n",
    "_clust_annotations = (\n",
    "    gene_annotation.loc[idxwhere(gene_clust.isin(clust))]\n",
    "    .join(gene_clust)\n",
    "    .join(\n",
    "        gene_content_uhgg[focal_strains].reindex(\n",
    "            idxwhere(gene_clust.isin(clust)), fill_value=False\n",
    "        )\n",
    "    )\n",
    "    .sort_values(\"Preferred_name\")\n",
    ")\n",
    "print(gene_clust[lambda x: x.isin(clust)].value_counts())\n",
    "print(\n",
    "    gene_content_uhgg.reindex(_clust_annotations.index)[focal_strains]\n",
    "    .value_counts()\n",
    "    .unstack(fill_value=0)\n",
    ")\n",
    "print(\n",
    "    gene_x_cog_category_matrix.reindex(idxwhere(gene_clust.isin(clust)))\n",
    "    .sum()\n",
    "    .sort_values(ascending=False)[lambda x: x > 0]\n",
    ")\n",
    "# _clust_annotations"
   ]
  },
  {
   "cell_type": "code",
   "execution_count": null,
   "metadata": {},
   "outputs": [],
   "source": [
    "for gene_id, x in _clust_annotations.iterrows():\n",
    "    print(\n",
    "        gene_id,\n",
    "        x.Preferred_name,\n",
    "        x.Description,\n",
    "        x.eggNOG_OGs,\n",
    "        idxwhere(x[focal_strains]),\n",
    "    )\n",
    "    print()"
   ]
  },
  {
   "cell_type": "markdown",
   "metadata": {},
   "source": [
    "#### glc"
   ]
  },
  {
   "cell_type": "code",
   "execution_count": null,
   "metadata": {},
   "outputs": [],
   "source": [
    "_related_annotations = (\n",
    "    gene_annotation[\n",
    "        lambda x: (x.Preferred_name.fillna(\"\").str.lower().str.startswith(\"glc\"))\n",
    "        # | (x.Preferred_name.fillna('').str.lower().str.startswith('JD73_'))\n",
    "        # | (x.Preferred_name.fillna('').str.lower().str.startswith('yjh'))\n",
    "        # | (x.Description.fillna('').str.lower().str.contains('type vi secret'))\n",
    "        # | (x.Description.fillna('').str.lower().str.contains('Capsule polysaccharide'))\n",
    "    ]\n",
    "    .join(gene_clust)\n",
    "    .join(gene_content_uhgg[focal_strains])[\n",
    "        lambda x: x[[\"6\", \"9\"]].fillna(False).any(axis=1)\n",
    "    ]\n",
    "    .sort_values(\"Preferred_name\")\n",
    ")\n",
    "\n",
    "print(\n",
    "    _related_annotations[[\"clust\", *focal_strains]]\n",
    "    .value_counts()\n",
    "    .unstack(\"clust\", fill_value=0)\n",
    "    .T\n",
    ")"
   ]
  },
  {
   "cell_type": "code",
   "execution_count": null,
   "metadata": {},
   "outputs": [],
   "source": [
    "for gene_id, x in _related_annotations.iterrows():\n",
    "    print(\n",
    "        gene_id,\n",
    "        x.clust,\n",
    "        idxwhere(x[focal_strains]),\n",
    "        x.Preferred_name,\n",
    "        x.Description,\n",
    "        x.eggNOG_OGs,\n",
    "    )\n",
    "    print()"
   ]
  },
  {
   "cell_type": "markdown",
   "metadata": {},
   "source": [
    "### Clust-351"
   ]
  },
  {
   "cell_type": "code",
   "execution_count": null,
   "metadata": {},
   "outputs": [],
   "source": [
    "clust = [351]\n",
    "_clust_annotations = (\n",
    "    gene_annotation.loc[idxwhere(gene_clust.isin(clust))]\n",
    "    .join(gene_clust)\n",
    "    .join(\n",
    "        gene_content_uhgg[focal_strains].reindex(\n",
    "            idxwhere(gene_clust.isin(clust)), fill_value=False\n",
    "        )\n",
    "    )\n",
    "    .sort_values(\"Preferred_name\")\n",
    ")\n",
    "print(gene_clust[lambda x: x.isin(clust)].value_counts())\n",
    "print(\n",
    "    gene_content_uhgg.reindex(_clust_annotations.index)[focal_strains]\n",
    "    .value_counts()\n",
    "    .unstack(fill_value=0)\n",
    ")\n",
    "print(\n",
    "    gene_x_cog_category_matrix.reindex(idxwhere(gene_clust.isin(clust)))\n",
    "    .sum()\n",
    "    .sort_values(ascending=False)[lambda x: x > 0]\n",
    ")\n",
    "# _clust_annotations"
   ]
  },
  {
   "cell_type": "code",
   "execution_count": null,
   "metadata": {},
   "outputs": [],
   "source": [
    "for gene_id, x in _clust_annotations.iterrows():\n",
    "    print(\n",
    "        gene_id,\n",
    "        x.Preferred_name,\n",
    "        x.Description,\n",
    "        x.eggNOG_OGs,\n",
    "        idxwhere(x[focal_strains]),\n",
    "    )\n",
    "    print()"
   ]
  },
  {
   "cell_type": "markdown",
   "metadata": {},
   "source": [
    "#### pdu*"
   ]
  },
  {
   "cell_type": "code",
   "execution_count": null,
   "metadata": {},
   "outputs": [],
   "source": [
    "_related_annotations = (\n",
    "    gene_annotation[\n",
    "        lambda x: (x.Preferred_name.fillna(\"\").str.lower().str.startswith(\"pdu\"))\n",
    "        # | (x.Preferred_name.fillna('').str.lower().str.startswith('jd73_'))\n",
    "        # | (x.Preferred_name.fillna('').str.lower().str.startswith('yjh'))\n",
    "        # | (x.Description.fillna('').str.lower().str.contains('glycolate '))\n",
    "        # | (x.Description.fillna('').str.lower().str.contains('Capsule polysaccharide'))\n",
    "    ]\n",
    "    .join(gene_clust)\n",
    "    .join(gene_content_uhgg[focal_strains])[\n",
    "        lambda x: x[[\"6\", \"9\"]].fillna(False).any(axis=1)\n",
    "    ]\n",
    "    .sort_values(\"Preferred_name\")\n",
    ")\n",
    "\n",
    "print(\n",
    "    _related_annotations[[\"clust\", *focal_strains]]\n",
    "    .value_counts()\n",
    "    .unstack(\"clust\", fill_value=0)\n",
    "    .T\n",
    ")"
   ]
  },
  {
   "cell_type": "code",
   "execution_count": null,
   "metadata": {},
   "outputs": [],
   "source": [
    "for gene_id, x in _related_annotations.iterrows():\n",
    "    print(\n",
    "        gene_id,\n",
    "        x.clust,\n",
    "        idxwhere(x[focal_strains]),\n",
    "        x.Preferred_name,\n",
    "        x.Description,\n",
    "        x.eggNOG_OGs,\n",
    "    )\n",
    "    print()"
   ]
  },
  {
   "cell_type": "markdown",
   "metadata": {},
   "source": [
    "### Clust-2275"
   ]
  },
  {
   "cell_type": "code",
   "execution_count": null,
   "metadata": {},
   "outputs": [],
   "source": [
    "clust = [2275]\n",
    "_clust_annotations = (\n",
    "    gene_annotation.loc[idxwhere(gene_clust.isin(clust))]\n",
    "    .join(gene_clust)\n",
    "    .join(\n",
    "        gene_content_uhgg[focal_strains].reindex(\n",
    "            idxwhere(gene_clust.isin(clust)), fill_value=False\n",
    "        )\n",
    "    )\n",
    "    .sort_values(\"Preferred_name\")\n",
    ")\n",
    "print(gene_clust[lambda x: x.isin(clust)].value_counts())\n",
    "print(\n",
    "    gene_content_uhgg.reindex(_clust_annotations.index)[focal_strains]\n",
    "    .value_counts()\n",
    "    .unstack(fill_value=0)\n",
    ")\n",
    "print(\n",
    "    gene_x_cog_category_matrix.reindex(idxwhere(gene_clust.isin(clust)))\n",
    "    .sum()\n",
    "    .sort_values(ascending=False)[lambda x: x > 0]\n",
    ")\n",
    "# _clust_annotations"
   ]
  },
  {
   "cell_type": "code",
   "execution_count": null,
   "metadata": {},
   "outputs": [],
   "source": [
    "for gene_id, x in _clust_annotations.iterrows():\n",
    "    print(\n",
    "        gene_id,\n",
    "        x.Preferred_name,\n",
    "        x.Description,\n",
    "        x.eggNOG_OGs,\n",
    "        idxwhere(x[focal_strains]),\n",
    "    )\n",
    "    print()"
   ]
  },
  {
   "cell_type": "markdown",
   "metadata": {},
   "source": [
    "#### rfb*"
   ]
  },
  {
   "cell_type": "code",
   "execution_count": null,
   "metadata": {},
   "outputs": [],
   "source": [
    "_related_annotations = (\n",
    "    gene_annotation[\n",
    "        lambda x: (x.Preferred_name.fillna(\"\").str.lower().str.startswith(\"rfb\"))\n",
    "        # | (x.Preferred_name.fillna('').str.lower().str.startswith('jd73_'))\n",
    "        # | (x.Preferred_name.fillna('').str.lower().str.startswith('yjh'))\n",
    "        # | (x.Description.fillna('').str.lower().str.contains('glycolate '))\n",
    "        # | (x.Description.fillna('').str.lower().str.contains('Capsule polysaccharide'))\n",
    "    ]\n",
    "    .join(gene_clust)\n",
    "    .join(gene_content_uhgg[focal_strains])[\n",
    "        lambda x: x[[\"6\", \"9\"]].fillna(False).any(axis=1)\n",
    "    ]\n",
    "    .sort_values(\"Preferred_name\")\n",
    ")\n",
    "\n",
    "print(\n",
    "    _related_annotations[[\"clust\", *focal_strains]]\n",
    "    .value_counts()\n",
    "    .unstack(\"clust\", fill_value=0)\n",
    "    .T\n",
    ")"
   ]
  },
  {
   "cell_type": "code",
   "execution_count": null,
   "metadata": {},
   "outputs": [],
   "source": [
    "for gene_id, x in _related_annotations.iterrows():\n",
    "    print(\n",
    "        gene_id,\n",
    "        x.clust,\n",
    "        idxwhere(x[focal_strains]),\n",
    "        x.Preferred_name,\n",
    "        x.Description,\n",
    "        x.eggNOG_OGs,\n",
    "    )\n",
    "    print()"
   ]
  },
  {
   "cell_type": "markdown",
   "metadata": {},
   "source": [
    "### Clust-172"
   ]
  },
  {
   "cell_type": "code",
   "execution_count": null,
   "metadata": {},
   "outputs": [],
   "source": [
    "clust = [172]\n",
    "_clust_annotations = (\n",
    "    gene_annotation.loc[idxwhere(gene_clust.isin(clust))]\n",
    "    .join(gene_clust)\n",
    "    .join(\n",
    "        gene_content_uhgg[focal_strains].reindex(\n",
    "            idxwhere(gene_clust.isin(clust)), fill_value=False\n",
    "        )\n",
    "    )\n",
    "    .sort_values(\"Preferred_name\")\n",
    ")\n",
    "print(gene_clust[lambda x: x.isin(clust)].value_counts())\n",
    "print(\n",
    "    gene_content_uhgg.reindex(_clust_annotations.index)[focal_strains]\n",
    "    .value_counts()\n",
    "    .unstack(fill_value=0)\n",
    ")\n",
    "print(\n",
    "    gene_x_cog_category_matrix.reindex(idxwhere(gene_clust.isin(clust)))\n",
    "    .sum()\n",
    "    .sort_values(ascending=False)[lambda x: x > 0]\n",
    ")\n",
    "# _clust_annotations"
   ]
  },
  {
   "cell_type": "code",
   "execution_count": null,
   "metadata": {},
   "outputs": [],
   "source": [
    "for gene_id, x in _clust_annotations.iterrows():\n",
    "    print(\n",
    "        gene_id,\n",
    "        x.Preferred_name,\n",
    "        x.Description,\n",
    "        x.eggNOG_OGs,\n",
    "        idxwhere(x[focal_strains]),\n",
    "    )\n",
    "    print()"
   ]
  },
  {
   "cell_type": "markdown",
   "metadata": {},
   "source": [
    "#### ecp*/mat*/common pilus"
   ]
  },
  {
   "cell_type": "code",
   "execution_count": null,
   "metadata": {},
   "outputs": [],
   "source": [
    "_related_annotations = (\n",
    "    gene_annotation[\n",
    "        lambda x: (x.Preferred_name.fillna(\"\").str.lower().str.startswith(\"ecp\"))\n",
    "        | (x.Preferred_name.fillna(\"\").str.lower().str.startswith(\"mat\"))\n",
    "        # | (x.Preferred_name.fillna('').str.lower().str.startswith('yjh'))\n",
    "        | (x.Description.fillna(\"\").str.lower().str.contains(\"common pilus\"))\n",
    "        # | (x.Description.fillna('').str.lower().str.contains('Capsule polysaccharide'))\n",
    "    ]\n",
    "    .join(gene_clust)\n",
    "    .join(gene_content_uhgg[focal_strains])[\n",
    "        lambda x: x[[\"6\", \"9\"]].fillna(False).any(axis=1)\n",
    "    ]\n",
    "    .sort_values(\"Preferred_name\")\n",
    ")\n",
    "\n",
    "print(\n",
    "    _related_annotations[[\"clust\", *focal_strains]]\n",
    "    .value_counts()\n",
    "    .unstack(\"clust\", fill_value=0)\n",
    "    .T\n",
    ")"
   ]
  },
  {
   "cell_type": "code",
   "execution_count": null,
   "metadata": {},
   "outputs": [],
   "source": [
    "for gene_id, x in _related_annotations.iterrows():\n",
    "    print(\n",
    "        gene_id,\n",
    "        x.clust,\n",
    "        idxwhere(x[focal_strains]),\n",
    "        x.Preferred_name,\n",
    "        x.Description,\n",
    "        x.eggNOG_OGs,\n",
    "    )\n",
    "    print()"
   ]
  },
  {
   "cell_type": "markdown",
   "metadata": {},
   "source": [
    "#### fim* / fimbrial / pap"
   ]
  },
  {
   "cell_type": "code",
   "execution_count": null,
   "metadata": {},
   "outputs": [],
   "source": [
    "_related_annotations = (\n",
    "    gene_annotation[\n",
    "        lambda x: (x.Preferred_name.fillna(\"\").str.lower().str.startswith(\"fim\"))\n",
    "        | (x.Preferred_name.fillna(\"\").str.lower().str.startswith(\"pap\"))\n",
    "        # | (x.Preferred_name.fillna('').str.lower().str.startswith('jd73_'))\n",
    "        # | (x.Preferred_name.fillna('').str.lower().str.startswith('yjh'))\n",
    "        | (x.Description.fillna(\"\").str.lower().str.contains(\"fimbrial\"))\n",
    "        # | (x.Description.fillna('').str.lower().str.contains('Capsule polysaccharide'))\n",
    "    ]\n",
    "    .join(gene_clust)\n",
    "    .join(gene_content_uhgg[focal_strains])[\n",
    "        lambda x: x[[\"6\", \"9\"]].fillna(False).any(axis=1)\n",
    "    ]\n",
    "    .sort_values(\"Preferred_name\")\n",
    ")\n",
    "\n",
    "print(\n",
    "    _related_annotations[[\"clust\", *focal_strains]]\n",
    "    .value_counts()\n",
    "    .unstack(\"clust\", fill_value=0)\n",
    "    .T\n",
    ")"
   ]
  },
  {
   "cell_type": "code",
   "execution_count": null,
   "metadata": {},
   "outputs": [],
   "source": [
    "for gene_id, x in _related_annotations.iterrows():\n",
    "    print(\n",
    "        gene_id,\n",
    "        x.clust,\n",
    "        idxwhere(x[focal_strains]),\n",
    "        x.Preferred_name,\n",
    "        x.Description,\n",
    "        x.eggNOG_OGs,\n",
    "    )\n",
    "    print()"
   ]
  },
  {
   "cell_type": "markdown",
   "metadata": {},
   "source": [
    "### Clust-2618"
   ]
  },
  {
   "cell_type": "code",
   "execution_count": null,
   "metadata": {},
   "outputs": [],
   "source": [
    "clust = [2618]\n",
    "_clust_annotations = (\n",
    "    gene_annotation.loc[idxwhere(gene_clust.isin(clust))]\n",
    "    .join(gene_clust)\n",
    "    .join(\n",
    "        gene_content_uhgg[focal_strains].reindex(\n",
    "            idxwhere(gene_clust.isin(clust)), fill_value=False\n",
    "        )\n",
    "    )\n",
    "    .sort_values(\"Preferred_name\")\n",
    ")\n",
    "print(gene_clust[lambda x: x.isin(clust)].value_counts())\n",
    "print(\n",
    "    gene_content_uhgg.reindex(_clust_annotations.index)[focal_strains]\n",
    "    .value_counts()\n",
    "    .unstack(fill_value=0)\n",
    ")\n",
    "print(\n",
    "    gene_x_cog_category_matrix.reindex(idxwhere(gene_clust.isin(clust)))\n",
    "    .sum()\n",
    "    .sort_values(ascending=False)[lambda x: x > 0]\n",
    ")\n",
    "# _clust_annotations"
   ]
  },
  {
   "cell_type": "code",
   "execution_count": null,
   "metadata": {},
   "outputs": [],
   "source": [
    "for gene_id, x in _clust_annotations.iterrows():\n",
    "    print(\n",
    "        gene_id,\n",
    "        x.Preferred_name,\n",
    "        x.Description,\n",
    "        x.eggNOG_OGs,\n",
    "        idxwhere(x[focal_strains]),\n",
    "    )\n",
    "    print()"
   ]
  },
  {
   "cell_type": "markdown",
   "metadata": {},
   "source": [
    "#### hpa meta-operon"
   ]
  },
  {
   "cell_type": "code",
   "execution_count": null,
   "metadata": {},
   "outputs": [],
   "source": [
    "_related_annotations = (\n",
    "    gene_annotation[\n",
    "        lambda x: (x.Preferred_name.fillna(\"\").str.lower().str.startswith(\"hpa\"))\n",
    "        # | (x.Preferred_name.fillna('').str.lower().str.startswith('jd73_'))\n",
    "        # | (x.Preferred_name.fillna('').str.lower().str.startswith('yjh'))\n",
    "        # | (x.Description.fillna('').str.lower().str.contains('glycolate '))\n",
    "        # | (x.Description.fillna('').str.lower().str.contains('Capsule polysaccharide'))\n",
    "    ]\n",
    "    .join(gene_clust)\n",
    "    .join(gene_content_uhgg[focal_strains])[\n",
    "        lambda x: x[[\"6\", \"9\"]].fillna(False).any(axis=1)\n",
    "    ]\n",
    "    .sort_values(\"Preferred_name\")\n",
    ")\n",
    "\n",
    "print(\n",
    "    _related_annotations[[\"clust\", *focal_strains]]\n",
    "    .value_counts()\n",
    "    .unstack(\"clust\", fill_value=0)\n",
    "    .T\n",
    ")"
   ]
  },
  {
   "cell_type": "code",
   "execution_count": null,
   "metadata": {},
   "outputs": [],
   "source": [
    "for gene_id, x in _related_annotations.iterrows():\n",
    "    print(\n",
    "        gene_id,\n",
    "        x.clust,\n",
    "        idxwhere(x[focal_strains]),\n",
    "        x.Preferred_name,\n",
    "        x.Description,\n",
    "        x.eggNOG_OGs,\n",
    "    )\n",
    "    print()"
   ]
  },
  {
   "cell_type": "markdown",
   "metadata": {},
   "source": [
    "### Clust-2478"
   ]
  },
  {
   "cell_type": "code",
   "execution_count": null,
   "metadata": {},
   "outputs": [],
   "source": [
    "clust = [2478]\n",
    "_clust_annotations = (\n",
    "    gene_annotation.loc[idxwhere(gene_clust.isin(clust))]\n",
    "    .join(gene_clust)\n",
    "    .join(\n",
    "        gene_content_uhgg[focal_strains].reindex(\n",
    "            idxwhere(gene_clust.isin(clust)), fill_value=False\n",
    "        )\n",
    "    )\n",
    "    .sort_values(\"Preferred_name\")\n",
    ")\n",
    "print(gene_clust[lambda x: x.isin(clust)].value_counts())\n",
    "print(\n",
    "    gene_content_uhgg.reindex(_clust_annotations.index)[focal_strains]\n",
    "    .value_counts()\n",
    "    .unstack(fill_value=0)\n",
    ")\n",
    "print(\n",
    "    gene_x_cog_category_matrix.reindex(idxwhere(gene_clust.isin(clust)))\n",
    "    .sum()\n",
    "    .sort_values(ascending=False)[lambda x: x > 0]\n",
    ")\n",
    "# _clust_annotations"
   ]
  },
  {
   "cell_type": "code",
   "execution_count": null,
   "metadata": {},
   "outputs": [],
   "source": [
    "for gene_id, x in _clust_annotations.iterrows():\n",
    "    print(\n",
    "        gene_id,\n",
    "        x.Preferred_name,\n",
    "        x.Description,\n",
    "        x.eggNOG_OGs,\n",
    "        idxwhere(x[focal_strains]),\n",
    "    )\n",
    "    print()"
   ]
  },
  {
   "cell_type": "markdown",
   "metadata": {},
   "source": [
    "#### yih*"
   ]
  },
  {
   "cell_type": "code",
   "execution_count": null,
   "metadata": {},
   "outputs": [],
   "source": [
    "_related_annotations = (\n",
    "    gene_annotation[\n",
    "        lambda x: (x.Preferred_name.fillna(\"\").str.lower().str.startswith(\"yih\"))\n",
    "        # | (x.Preferred_name.fillna('').str.lower().str.startswith('jd73_'))\n",
    "        # | (x.Preferred_name.fillna('').str.lower().str.startswith('yjh'))\n",
    "        # | (x.Description.fillna('').str.lower().str.contains('glycolate '))\n",
    "        # | (x.Description.fillna('').str.lower().str.contains('Capsule polysaccharide'))\n",
    "    ]\n",
    "    .join(gene_clust)\n",
    "    .join(gene_content_uhgg[focal_strains])[\n",
    "        lambda x: x[[\"6\", \"9\"]].fillna(False).any(axis=1)\n",
    "    ]\n",
    "    .sort_values(\"Preferred_name\")\n",
    ")\n",
    "\n",
    "print(\n",
    "    _related_annotations[[\"clust\", *focal_strains]]\n",
    "    .value_counts()\n",
    "    .unstack(\"clust\", fill_value=0)\n",
    "    .T\n",
    ")"
   ]
  },
  {
   "cell_type": "code",
   "execution_count": null,
   "metadata": {},
   "outputs": [],
   "source": [
    "for gene_id, x in _related_annotations.iterrows():\n",
    "    print(\n",
    "        gene_id,\n",
    "        x.clust,\n",
    "        idxwhere(x[focal_strains]),\n",
    "        x.Preferred_name,\n",
    "        x.Description,\n",
    "        x.eggNOG_OGs,\n",
    "    )\n",
    "    print()"
   ]
  },
  {
   "cell_type": "markdown",
   "metadata": {},
   "source": [
    "### Clust-1500"
   ]
  },
  {
   "cell_type": "code",
   "execution_count": null,
   "metadata": {},
   "outputs": [],
   "source": [
    "clust = [1500]\n",
    "_clust_annotations = (\n",
    "    gene_annotation.loc[idxwhere(gene_clust.isin(clust))]\n",
    "    .join(gene_clust)\n",
    "    .join(\n",
    "        gene_content_uhgg[focal_strains].reindex(\n",
    "            idxwhere(gene_clust.isin(clust)), fill_value=False\n",
    "        )\n",
    "    )\n",
    "    .sort_values(\"Preferred_name\")\n",
    ")\n",
    "print(gene_clust[lambda x: x.isin(clust)].value_counts())\n",
    "print(\n",
    "    gene_content_uhgg.reindex(_clust_annotations.index)[focal_strains]\n",
    "    .value_counts()\n",
    "    .unstack(fill_value=0)\n",
    ")\n",
    "print(\n",
    "    gene_x_cog_category_matrix.reindex(idxwhere(gene_clust.isin(clust)))\n",
    "    .sum()\n",
    "    .sort_values(ascending=False)[lambda x: x > 0]\n",
    ")\n",
    "# _clust_annotations"
   ]
  },
  {
   "cell_type": "code",
   "execution_count": null,
   "metadata": {},
   "outputs": [],
   "source": [
    "for gene_id, x in _clust_annotations.iterrows():\n",
    "    print(\n",
    "        gene_id,\n",
    "        x.Preferred_name,\n",
    "        x.Description,\n",
    "        x.eggNOG_OGs,\n",
    "        idxwhere(x[focal_strains]),\n",
    "    )\n",
    "    print()"
   ]
  },
  {
   "cell_type": "markdown",
   "metadata": {},
   "source": [
    "## Strain-6"
   ]
  },
  {
   "cell_type": "code",
   "execution_count": null,
   "metadata": {},
   "outputs": [],
   "source": [
    "d = clust_content_combined > 0.75\n",
    "\n",
    "strain6_only_clust_list = idxwhere(\n",
    "    (d[\"6\"] & ~d[\"9\"])\n",
    ")\n",
    "gene_clust.value_counts().to_frame(\"total_genes\").assign(\n",
    "    cat=gene_x_cog_category_matrix.groupby(gene_clust)\n",
    "    .sum()\n",
    "    .apply(lambda x: x[lambda x: x > 0].sort_values(ascending=False).to_dict(), axis=1)\n",
    ").loc[strain6_only_clust_list].sort_values(\"total_genes\", ascending=False).head(20)"
   ]
  },
  {
   "cell_type": "markdown",
   "metadata": {},
   "source": [
    "### Clust-1575"
   ]
  },
  {
   "cell_type": "code",
   "execution_count": null,
   "metadata": {},
   "outputs": [],
   "source": [
    "clust = [1575]\n",
    "_clust_annotations = (\n",
    "    gene_annotation.loc[idxwhere(gene_clust.isin(clust))]\n",
    "    .join(gene_clust)\n",
    "    .join(\n",
    "        gene_content_uhgg[focal_strains].reindex(\n",
    "            idxwhere(gene_clust.isin(clust)), fill_value=False\n",
    "        )\n",
    "    )\n",
    "    .sort_values(\"Preferred_name\")\n",
    ")\n",
    "print(gene_clust[lambda x: x.isin(clust)].value_counts())\n",
    "print(\n",
    "    gene_content_uhgg.reindex(_clust_annotations.index)[focal_strains]\n",
    "    .value_counts()\n",
    "    .unstack(fill_value=0)\n",
    ")\n",
    "print(\n",
    "    gene_x_cog_category_matrix.reindex(idxwhere(gene_clust.isin(clust)))\n",
    "    .sum()\n",
    "    .sort_values(ascending=False)[lambda x: x > 0]\n",
    ")\n",
    "# _clust_annotations"
   ]
  },
  {
   "cell_type": "code",
   "execution_count": null,
   "metadata": {},
   "outputs": [],
   "source": [
    "for gene_id, x in _clust_annotations.iterrows():\n",
    "    print(\n",
    "        gene_id,\n",
    "        x.Preferred_name,\n",
    "        x.Description,\n",
    "        x.eggNOG_OGs,\n",
    "        idxwhere(x[focal_strains]),\n",
    "    )\n",
    "    print()"
   ]
  },
  {
   "cell_type": "markdown",
   "metadata": {},
   "source": [
    "### Clust-941"
   ]
  },
  {
   "cell_type": "code",
   "execution_count": null,
   "metadata": {},
   "outputs": [],
   "source": [
    "clust = [941]\n",
    "_clust_annotations = (\n",
    "    gene_annotation.loc[idxwhere(gene_clust.isin(clust))]\n",
    "    .join(gene_clust)\n",
    "    .join(\n",
    "        gene_content_uhgg[focal_strains].reindex(\n",
    "            idxwhere(gene_clust.isin(clust)), fill_value=False\n",
    "        )\n",
    "    )\n",
    "    .sort_values(\"Preferred_name\")\n",
    ")\n",
    "print(gene_clust[lambda x: x.isin(clust)].value_counts())\n",
    "print(\n",
    "    gene_content_uhgg.reindex(_clust_annotations.index)[focal_strains]\n",
    "    .value_counts()\n",
    "    .unstack(fill_value=0)\n",
    ")\n",
    "print(\n",
    "    gene_x_cog_category_matrix.reindex(idxwhere(gene_clust.isin(clust)))\n",
    "    .sum()\n",
    "    .sort_values(ascending=False)[lambda x: x > 0]\n",
    ")\n",
    "# _clust_annotations"
   ]
  },
  {
   "cell_type": "code",
   "execution_count": null,
   "metadata": {},
   "outputs": [],
   "source": [
    "for gene_id, x in _clust_annotations.iterrows():\n",
    "    print(\n",
    "        gene_id,\n",
    "        x.Preferred_name,\n",
    "        x.Description,\n",
    "        x.eggNOG_OGs,\n",
    "        idxwhere(x[focal_strains]),\n",
    "    )\n",
    "    print()"
   ]
  },
  {
   "cell_type": "markdown",
   "metadata": {},
   "source": [
    "#### Thioredoxin (just a DEMO)"
   ]
  },
  {
   "cell_type": "code",
   "execution_count": null,
   "metadata": {},
   "outputs": [],
   "source": [
    "_related_annotations = (\n",
    "    gene_annotation[\n",
    "        lambda x: False\n",
    "        # | (x.Preferred_name.fillna(\"\").str.lower().str.startswith(\"fab\"))\n",
    "        # | (x.Preferred_name.fillna('').str.lower().str.startswith('yjh'))\n",
    "        | (x.Description.fillna(\"\").str.lower().str.contains(\"thioredoxin\"))\n",
    "        # | (x.Description.fillna('').str.lower().str.contains('Capsule polysaccharide'))\n",
    "    ]\n",
    "    .join(gene_clust)\n",
    "    .join(gene_content_uhgg[focal_strains])[\n",
    "        lambda x: x[[\"6\", \"9\"]].fillna(False).any(axis=1)\n",
    "    ]\n",
    "    .sort_values(\"Preferred_name\")\n",
    ")\n",
    "\n",
    "print(_related_annotations[[\"clust\", *focal_strains]].sum())\n",
    "print(\n",
    "    _related_annotations[[\"clust\", *focal_strains]]\n",
    "    .value_counts()\n",
    "    .unstack(\"clust\", fill_value=0)\n",
    "    .T\n",
    ")"
   ]
  },
  {
   "cell_type": "code",
   "execution_count": null,
   "metadata": {},
   "outputs": [],
   "source": [
    "for gene_id, x in _related_annotations.iterrows():\n",
    "    print(\n",
    "        gene_id,\n",
    "        x.clust,\n",
    "        idxwhere(x[focal_strains]),\n",
    "        x.Preferred_name,\n",
    "        x.Description,\n",
    "        x.eggNOG_OGs,\n",
    "    )\n",
    "    print()"
   ]
  },
  {
   "cell_type": "markdown",
   "metadata": {},
   "source": [
    "### Clust-1322"
   ]
  },
  {
   "cell_type": "code",
   "execution_count": null,
   "metadata": {},
   "outputs": [],
   "source": [
    "clust = [1322]\n",
    "_clust_annotations = (\n",
    "    gene_annotation.loc[idxwhere(gene_clust.isin(clust))]\n",
    "    .join(gene_clust)\n",
    "    .join(\n",
    "        gene_content_uhgg[focal_strains].reindex(\n",
    "            idxwhere(gene_clust.isin(clust)), fill_value=False\n",
    "        )\n",
    "    )\n",
    "    .sort_values(\"Preferred_name\")\n",
    ")\n",
    "print(gene_clust[lambda x: x.isin(clust)].value_counts())\n",
    "print(\n",
    "    gene_content_uhgg.reindex(_clust_annotations.index)[focal_strains]\n",
    "    .value_counts()\n",
    "    .unstack(fill_value=0)\n",
    ")\n",
    "print(\n",
    "    gene_x_cog_category_matrix.reindex(idxwhere(gene_clust.isin(clust)))\n",
    "    .sum()\n",
    "    .sort_values(ascending=False)[lambda x: x > 0]\n",
    ")\n",
    "# _clust_annotations"
   ]
  },
  {
   "cell_type": "code",
   "execution_count": null,
   "metadata": {},
   "outputs": [],
   "source": [
    "for gene_id, x in _clust_annotations.iterrows():\n",
    "    print(\n",
    "        gene_id,\n",
    "        x.Preferred_name,\n",
    "        x.Description,\n",
    "        x.eggNOG_OGs,\n",
    "        idxwhere(x[focal_strains]),\n",
    "    )\n",
    "    print()"
   ]
  },
  {
   "cell_type": "markdown",
   "metadata": {},
   "source": [
    "#### Ethanolamine"
   ]
  },
  {
   "cell_type": "code",
   "execution_count": null,
   "metadata": {},
   "outputs": [],
   "source": [
    "_related_annotations = (\n",
    "    gene_annotation[\n",
    "        lambda x:\n",
    "        # (x.Preferred_name.fillna('').str.lower().str.startswith('TODO'))\n",
    "        (x.Description.fillna(\"\").str.lower().str.contains(\"ethanolamine\"))\n",
    "    ]\n",
    "    .join(gene_clust)\n",
    "    .join(gene_content_uhgg[focal_strains])[\n",
    "        lambda x: x[[\"6\", \"9\"]].fillna(False).any(axis=1)\n",
    "    ]\n",
    "    .sort_values(\"Preferred_name\")\n",
    ")\n",
    "\n",
    "print(\n",
    "    gene_content_uhgg.loc[_related_annotations.index, focal_strains]\n",
    "    .value_counts()\n",
    "    .unstack(fill_value=0)\n",
    ")"
   ]
  },
  {
   "cell_type": "code",
   "execution_count": null,
   "metadata": {},
   "outputs": [],
   "source": [
    "for gene_id, x in _related_annotations.iterrows():\n",
    "    print(\n",
    "        gene_id,\n",
    "        x.clust,\n",
    "        idxwhere(x[focal_strains]),\n",
    "        x.Preferred_name,\n",
    "        x.Description,\n",
    "        x.eggNOG_OGs,\n",
    "    )\n",
    "    print()"
   ]
  },
  {
   "cell_type": "markdown",
   "metadata": {},
   "source": [
    "### Clust-1857"
   ]
  },
  {
   "cell_type": "code",
   "execution_count": null,
   "metadata": {},
   "outputs": [],
   "source": [
    "clust = [1857]\n",
    "_clust_annotations = (\n",
    "    gene_annotation.loc[idxwhere(gene_clust.isin(clust))]\n",
    "    .join(gene_clust)\n",
    "    .join(\n",
    "        gene_content_uhgg[focal_strains].reindex(\n",
    "            idxwhere(gene_clust.isin(clust)), fill_value=False\n",
    "        )\n",
    "    )\n",
    "    .sort_values(\"Preferred_name\")\n",
    ")\n",
    "print(gene_clust[lambda x: x.isin(clust)].value_counts())\n",
    "print(\n",
    "    gene_content_uhgg.reindex(_clust_annotations.index)[focal_strains]\n",
    "    .value_counts()\n",
    "    .unstack(fill_value=0)\n",
    ")\n",
    "print(\n",
    "    gene_x_cog_category_matrix.reindex(idxwhere(gene_clust.isin(clust)))\n",
    "    .sum()\n",
    "    .sort_values(ascending=False)[lambda x: x > 0]\n",
    ")\n",
    "# _clust_annotations"
   ]
  },
  {
   "cell_type": "code",
   "execution_count": null,
   "metadata": {},
   "outputs": [],
   "source": [
    "for gene_id, x in _clust_annotations.iterrows():\n",
    "    print(\n",
    "        gene_id,\n",
    "        x.Preferred_name,\n",
    "        x.Description,\n",
    "        x.eggNOG_OGs,\n",
    "        idxwhere(x[focal_strains]),\n",
    "    )\n",
    "    print()"
   ]
  },
  {
   "cell_type": "markdown",
   "metadata": {},
   "source": [
    "### Related annotations"
   ]
  },
  {
   "cell_type": "markdown",
   "metadata": {},
   "source": [
    "#### Capsule polysaccharide"
   ]
  },
  {
   "cell_type": "code",
   "execution_count": null,
   "metadata": {},
   "outputs": [],
   "source": [
    "_related_annotations = (\n",
    "    gene_annotation[\n",
    "        lambda x: (x.Preferred_name.fillna(\"\").str.lower().str.startswith(\"kps\"))\n",
    "        | (x.Description.fillna(\"\").str.lower().str.contains(\"capsule polysac\"))\n",
    "    ]\n",
    "    .join(gene_clust)\n",
    "    .join(gene_content_uhgg[focal_strains])[\n",
    "        lambda x: x[[\"6\", \"9\"]].fillna(False).any(axis=1)\n",
    "    ]\n",
    "    .sort_values(\"Preferred_name\")\n",
    ")\n",
    "\n",
    "print(\n",
    "    _related_annotations[[\"clust\", *focal_strains]]\n",
    "    .value_counts()\n",
    "    .unstack(\"clust\", fill_value=0)\n",
    "    .T\n",
    ")"
   ]
  },
  {
   "cell_type": "code",
   "execution_count": null,
   "metadata": {},
   "outputs": [],
   "source": [
    "for gene_id, x in _related_annotations.iterrows():\n",
    "    print(\n",
    "        gene_id,\n",
    "        x.clust,\n",
    "        idxwhere(x[focal_strains]),\n",
    "        x.Preferred_name,\n",
    "        x.Description,\n",
    "        x.eggNOG_OGs,\n",
    "    )\n",
    "    print()"
   ]
  },
  {
   "cell_type": "markdown",
   "metadata": {},
   "source": [
    "#### frv*"
   ]
  },
  {
   "cell_type": "code",
   "execution_count": null,
   "metadata": {},
   "outputs": [],
   "source": [
    "_related_annotations = (\n",
    "    gene_annotation[\n",
    "        lambda x: (x.Preferred_name.fillna(\"\").str.lower().str.startswith(\"frv\"))\n",
    "        | (\n",
    "            x.Description.fillna(\"\")\n",
    "            .str.lower()\n",
    "            .str.contains(\n",
    "                \"phosphoenolpyruvate-dependent sugar phosphotransferase system\"\n",
    "            )\n",
    "        )\n",
    "    ]\n",
    "    .join(gene_clust)\n",
    "    .join(gene_content_uhgg[focal_strains])[\n",
    "        lambda x: x[[\"6\", \"9\"]].fillna(False).any(axis=1)\n",
    "    ]\n",
    "    .sort_values(\"Preferred_name\")\n",
    ")\n",
    "\n",
    "print(\n",
    "    _related_annotations[[\"clust\", *focal_strains]]\n",
    "    .value_counts()\n",
    "    .unstack(\"clust\", fill_value=0)\n",
    "    .T\n",
    ")"
   ]
  },
  {
   "cell_type": "code",
   "execution_count": null,
   "metadata": {},
   "outputs": [],
   "source": [
    "for gene_id, x in _related_annotations.iterrows():\n",
    "    print(\n",
    "        gene_id,\n",
    "        x.clust,\n",
    "        idxwhere(x[focal_strains]),\n",
    "        x.Preferred_name,\n",
    "        x.Description,\n",
    "        x.eggNOG_OGs,\n",
    "    )\n",
    "    print()"
   ]
  }
 ],
 "metadata": {
  "kernelspec": {
   "display_name": "toolz5",
   "language": "python",
   "name": "toolz5"
  },
  "language_info": {
   "codemirror_mode": {
    "name": "ipython",
    "version": 3
   },
   "file_extension": ".py",
   "mimetype": "text/x-python",
   "name": "python",
   "nbconvert_exporter": "python",
   "pygments_lexer": "ipython3",
   "version": "3.10.13"
  }
 },
 "nbformat": 4,
 "nbformat_minor": 5
}