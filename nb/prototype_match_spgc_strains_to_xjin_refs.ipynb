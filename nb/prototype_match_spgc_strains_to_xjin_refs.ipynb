{
 "cells": [
  {
   "cell_type": "markdown",
   "metadata": {
    "tags": []
   },
   "source": [
    "## Preamble"
   ]
  },
  {
   "cell_type": "markdown",
   "metadata": {
    "tags": []
   },
   "source": [
    "### Template Utils"
   ]
  },
  {
   "cell_type": "code",
   "execution_count": null,
   "metadata": {
    "tags": []
   },
   "outputs": [],
   "source": [
    "%load_ext autoreload"
   ]
  },
  {
   "cell_type": "code",
   "execution_count": null,
   "metadata": {
    "tags": []
   },
   "outputs": [],
   "source": [
    "import os as _os\n",
    "\n",
    "_os.chdir(_os.environ[\"PROJECT_ROOT\"])\n",
    "_os.path.realpath(_os.path.curdir)"
   ]
  },
  {
   "cell_type": "markdown",
   "metadata": {
    "tags": []
   },
   "source": [
    "### Imports"
   ]
  },
  {
   "cell_type": "code",
   "execution_count": null,
   "metadata": {
    "tags": []
   },
   "outputs": [],
   "source": [
    "import os\n",
    "import subprocess\n",
    "import time\n",
    "from itertools import chain, product\n",
    "from tempfile import mkstemp\n",
    "\n",
    "import fastcluster\n",
    "import matplotlib as mpl\n",
    "import matplotlib.gridspec as gridspec\n",
    "import matplotlib.pyplot as plt\n",
    "import numpy as np\n",
    "import pandas as pd\n",
    "import scipy as sp\n",
    "import seaborn as sns\n",
    "import sfacts as sf\n",
    "import statsmodels as sm\n",
    "import statsmodels.formula.api as smf\n",
    "import xarray as xr\n",
    "from mpl_toolkits.axes_grid1 import make_axes_locatable\n",
    "from scipy.spatial.distance import pdist, squareform\n",
    "from sklearn.cluster import AgglomerativeClustering\n",
    "from sklearn.metrics import adjusted_mutual_info_score, adjusted_rand_score\n",
    "from statsmodels.stats.multitest import fdrcorrection\n",
    "from tqdm import tqdm\n",
    "\n",
    "import lib.plot\n",
    "import lib.thisproject.data\n",
    "from lib.pandas_util import align_indexes, aligned_index, idxwhere, invert_mapping"
   ]
  },
  {
   "cell_type": "code",
   "execution_count": null,
   "metadata": {},
   "outputs": [],
   "source": [
    "genome = pd.read_table('meta/genome.tsv', index_col='genome_id')"
   ]
  },
  {
   "cell_type": "code",
   "execution_count": null,
   "metadata": {},
   "outputs": [],
   "source": [
    "genome.species_id.value_counts().head(20)"
   ]
  },
  {
   "cell_type": "code",
   "execution_count": null,
   "metadata": {},
   "outputs": [],
   "source": [
    "species_id = \"102478\""
   ]
  },
  {
   "cell_type": "code",
   "execution_count": null,
   "metadata": {},
   "outputs": [],
   "source": [
    "xjin_sample_inpath = \"meta/XJIN_BENCHMARK/mgen.tsv\"\n",
    "xjin_strain_geno_inpath = f\"data/species/sp-{species_id}/strain_genomes.gtpro.mgtp.nc\"\n",
    "spgc_strain_geno_inpath = f\"data/group/xjin_ucfmt_hmp2/species/sp-{species_id}/r.proc.gtpro.sfacts-fit.world.nc\""
   ]
  },
  {
   "cell_type": "code",
   "execution_count": null,
   "metadata": {},
   "outputs": [],
   "source": [
    "xjin_sample_list = pd.read_table(xjin_sample_inpath).mgen_id.to_list()"
   ]
  },
  {
   "cell_type": "code",
   "execution_count": null,
   "metadata": {},
   "outputs": [],
   "source": [
    "# \"Reference GT-Pro genotype\"\n",
    "xjin_geno = sf.Metagenotype.load(xjin_strain_geno_inpath).to_estimated_genotype()\n",
    "xjin_geno.sizes"
   ]
  },
  {
   "cell_type": "code",
   "execution_count": null,
   "metadata": {},
   "outputs": [],
   "source": [
    "sfacts_fit = sf.World.load(spgc_strain_geno_inpath)\n",
    "sfacts_fit.sizes"
   ]
  },
  {
   "cell_type": "code",
   "execution_count": null,
   "metadata": {},
   "outputs": [],
   "source": [
    "matched_sample_list = list(set(sfacts_fit.sample.values) & set(xjin_sample_list))\n",
    "len(matched_sample_list)"
   ]
  },
  {
   "cell_type": "code",
   "execution_count": null,
   "metadata": {},
   "outputs": [],
   "source": [
    "accuracy_inpaths = {\n",
    "    genome_id: f\"data/group/XJIN_BENCHMARK/species/sp-{species_id}/r.proc.gene99_new-v22-agg75.spgc-fit.{genome_id}.uhggtiles-reconstruction_accuracy.tsv\"\n",
    "    for genome_id in genome[lambda x: x.species_id == species_id].index\n",
    "}\n",
    "accuracy_inpaths"
   ]
  },
  {
   "cell_type": "code",
   "execution_count": null,
   "metadata": {},
   "outputs": [],
   "source": [
    "strain_cdist = xjin_geno.cdist(sfacts_fit.genotype)"
   ]
  },
  {
   "cell_type": "code",
   "execution_count": null,
   "metadata": {},
   "outputs": [],
   "source": [
    "for genome_id in accuracy_inpaths:\n",
    "    _spgc_accuracy = pd.read_table(accuracy_inpaths[genome_id], index_col=\"strain\").f1\n",
    "    _geno_diss = strain_cdist.loc[genome_id]\n",
    "    top_strain = strain_cdist.loc[genome_id].idxmin()\n",
    "    if top_strain not in _spgc_accuracy.index:\n",
    "        print(f\"ERROR: Best hit to {genome_id} ({top_strain}) not found in accuracy table.\")\n",
    "    d = pd.DataFrame(dict(geno_diss=_geno_diss, gene_f1=_spgc_accuracy)).assign(gene_f1=lambda x: x.gene_f1.fillna(0))\n",
    "    plt.scatter('geno_diss', 'gene_f1', data=d.sort_values('geno_diss'), label=genome_id)\n",
    "\n",
    "\n",
    "plt.xscale('symlog', linthresh=1e-3, linscale=0.1)\n",
    "plt.ylim(-0.05, 1.05)\n",
    "plt.legend(bbox_to_anchor=(1, 1))"
   ]
  },
  {
   "cell_type": "code",
   "execution_count": null,
   "metadata": {},
   "outputs": [],
   "source": [
    "for genome_id in accuracy_inpaths:\n",
    "    print(genome_id)\n",
    "    spgc_accuracy = pd.read_table(accuracy_inpaths[genome_id], index_col=\"strain\")\n",
    "    print(strain_cdist.loc[genome_id].sort_values().head(10))\n",
    "    print()\n",
    "    top_strain = strain_cdist.loc[genome_id].idxmin()\n",
    "    print(spgc_accuracy.head(5))\n",
    "    print()\n",
    "    if top_strain not in spgc_accuracy.index:\n",
    "        print(\"ERROR: Best hit to {genome_id} ({top_strain}) not found in accuracy table.\")\n",
    "    else:\n",
    "        print(spgc_accuracy.loc[top_strain])\n",
    "    print(\"\\n\")"
   ]
  },
  {
   "cell_type": "code",
   "execution_count": null,
   "metadata": {},
   "outputs": [],
   "source": []
  }
 ],
 "metadata": {
  "kernelspec": {
   "display_name": "toolz2",
   "language": "python",
   "name": "toolz2"
  },
  "language_info": {
   "codemirror_mode": {
    "name": "ipython",
    "version": 3
   },
   "file_extension": ".py",
   "mimetype": "text/x-python",
   "name": "python",
   "nbconvert_exporter": "python",
   "pygments_lexer": "ipython3",
   "version": "3.10.12"
  }
 },
 "nbformat": 4,
 "nbformat_minor": 5
}