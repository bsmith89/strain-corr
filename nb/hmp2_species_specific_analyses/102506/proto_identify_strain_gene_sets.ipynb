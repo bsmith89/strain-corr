{
 "cells": [
  {
   "cell_type": "code",
   "execution_count": null,
   "metadata": {},
   "outputs": [],
   "source": [
    "%load_ext autoreload"
   ]
  },
  {
   "cell_type": "code",
   "execution_count": null,
   "metadata": {},
   "outputs": [],
   "source": [
    "import os\n",
    "os.chdir('..')\n",
    "os.path.realpath(os.path.curdir)"
   ]
  },
  {
   "cell_type": "code",
   "execution_count": null,
   "metadata": {},
   "outputs": [],
   "source": [
    "import pandas as pd\n",
    "import numpy as np\n",
    "import scipy as sp\n",
    "import matplotlib.pyplot as plt\n",
    "import seaborn as sns\n",
    "import xarray as xr\n",
    "from lib.pandas_util import idxwhere, align_indexes, invert_mapping\n",
    "import matplotlib as mpl\n",
    "import lib.plot\n",
    "import statsmodels as sm\n",
    "from statsmodels.stats.multitest import fdrcorrection\n",
    "from tqdm import tqdm\n",
    "import subprocess\n",
    "from tempfile import mkstemp\n",
    "import time\n",
    "import subprocess\n",
    "from itertools import chain\n",
    "from scipy.spatial.distance import pdist, squareform"
   ]
  },
  {
   "cell_type": "code",
   "execution_count": null,
   "metadata": {},
   "outputs": [],
   "source": [
    "import sfacts as sf"
   ]
  },
  {
   "cell_type": "code",
   "execution_count": null,
   "metadata": {},
   "outputs": [],
   "source": [
    "# sns.set_context('talk')\n",
    "# plt.rcParams['figure.dpi'] = 100\n",
    "stemA = 'hmp2.a.r.proc'\n",
    "centroid = 75\n",
    "stemB = 'filt-poly05-cvrg05.ss-g10000-block0-seed0.fit-sfacts37-s80-seed0'\n",
    "# stemB = 'filt-poly05-cvrg05.ss-g10000-block0-seed0.approx-clust2-thresh05-s95'"
   ]
  },
  {
   "cell_type": "markdown",
   "metadata": {},
   "source": [
    "# Analysis Parameters"
   ]
  },
  {
   "cell_type": "code",
   "execution_count": null,
   "metadata": {},
   "outputs": [],
   "source": [
    "species_id = '102506'\n",
    "# depth_ratio_bound = 3\n",
    "# species_gene_corr_thresh = 0.99\n",
    "# n_species_genes = 2000\n",
    "species_gene_corr_thresh = 0.98"
   ]
  },
  {
   "cell_type": "markdown",
   "metadata": {},
   "source": [
    "# Prepare Data"
   ]
  },
  {
   "cell_type": "markdown",
   "metadata": {},
   "source": [
    "## Taxonomy"
   ]
  },
  {
   "cell_type": "code",
   "execution_count": null,
   "metadata": {},
   "outputs": [],
   "source": [
    "species_taxonomy = pd.read_table('ref/gtpro/species_taxonomy_ext.tsv', names=['genome_id', 'species_id', 'taxonomy_string']).assign(species_id=lambda x: x.species_id.astype(str)).set_index('species_id')[['taxonomy_string']].assign(taxonomy_split=lambda x: x.taxonomy_string.str.split(';'))\n",
    "\n",
    "for level_name, level_number in [('p__', 1), ('c__', 2), ('o__', 3), ('f__', 4), ('g__', 5), ('s__', 6)]:\n",
    "    species_taxonomy = species_taxonomy.assign(**{level_name: species_taxonomy.taxonomy_split.apply(lambda x: x[level_number])}) \n",
    "species_taxonomy = species_taxonomy.drop(columns=['taxonomy_split'])\n",
    "\n",
    "species_taxonomy.loc[species_id]"
   ]
  },
  {
   "cell_type": "code",
   "execution_count": null,
   "metadata": {},
   "outputs": [],
   "source": [
    "midasdb_genomes = pd.read_table('ref_temp/uhgg_genomes_all_4644.tsv')"
   ]
  },
  {
   "cell_type": "code",
   "execution_count": null,
   "metadata": {},
   "outputs": [],
   "source": [
    "midasdb_genomes.Species_rep.value_counts()"
   ]
  },
  {
   "cell_type": "markdown",
   "metadata": {},
   "source": [
    "## Species"
   ]
  },
  {
   "cell_type": "code",
   "execution_count": null,
   "metadata": {},
   "outputs": [],
   "source": [
    "all_species_depth = pd.read_table(f'data/{stemA}.gtpro.species_depth.tsv', index_col=['sample', 'species_id']).squeeze().unstack('species_id', fill_value=0).rename(str, axis='columns')\n",
    "species_rabund = all_species_depth.divide(all_species_depth.sum(1), axis=0)"
   ]
  },
  {
   "cell_type": "code",
   "execution_count": null,
   "metadata": {},
   "outputs": [],
   "source": [
    "gtpro_species_depth = pd.read_table(f'data/sp-{species_id}.{stemA}.gtpro.species_depth.tsv', dtype=dict(sample=str, species_id=str, depth=float), index_col=['sample', 'species_id']).squeeze().unstack('species_id')"
   ]
  },
  {
   "cell_type": "code",
   "execution_count": null,
   "metadata": {},
   "outputs": [],
   "source": [
    "species_depth = pd.read_table(f'data_temp/sp-{species_id}.{stemA}.midas_gene{centroid}.species_depth.tsv', names=['sample', 'depth'], index_col='sample').squeeze()"
   ]
  },
  {
   "cell_type": "code",
   "execution_count": null,
   "metadata": {},
   "outputs": [],
   "source": [
    "gene_depth = xr.load_dataarray(f'data_temp/sp-{species_id}.{stemA}.midas_gene{centroid}.depth.nc').sel(sample=species_depth.index)"
   ]
  },
  {
   "cell_type": "code",
   "execution_count": null,
   "metadata": {},
   "outputs": [],
   "source": [
    "d = pd.DataFrame(dict(gtpro=gtpro_species_depth[species_id], midas=species_depth))\n",
    "\n",
    "plt.scatter('gtpro', 'midas', data=d, s=3, alpha=0.3)\n",
    "plt.plot([0, 1e2], [0, 1e2])\n",
    "plt.yscale('symlog', linthresh=1e-4)\n",
    "plt.xscale('symlog', linthresh=1e-4)"
   ]
  },
  {
   "cell_type": "code",
   "execution_count": null,
   "metadata": {},
   "outputs": [],
   "source": [
    "d = pd.DataFrame(dict(gtpro=gtpro_species_depth[species_id], midas=species_depth))\n",
    "\n",
    "plt.scatter('gtpro', 'midas', data=np.cbrt(d), s=3, alpha=0.3)\n",
    "# plt.plot([0, 1e2], [0, 1e2])\n",
    "# plt.yscale('symlog', linthresh=1e-4)\n",
    "# plt.xscale('symlog', linthresh=1e-4)"
   ]
  },
  {
   "cell_type": "code",
   "execution_count": null,
   "metadata": {},
   "outputs": [],
   "source": [
    "species_corr = pd.read_table(f'data_temp/sp-{species_id}.{stemA}.midas_gene{centroid}.species_correlation.tsv', names=['sample', 'correlation'], index_col='sample').squeeze()"
   ]
  },
  {
   "cell_type": "markdown",
   "metadata": {},
   "source": [
    "## Metadata"
   ]
  },
  {
   "cell_type": "code",
   "execution_count": null,
   "metadata": {},
   "outputs": [],
   "source": [
    "mgen = pd.read_table('meta/hmp2/mgen.tsv', index_col='library_id')\n",
    "preparation = pd.read_table('meta/hmp2/preparation.tsv', index_col='preparation_id')\n",
    "stool = pd.read_table('meta/hmp2/stool.tsv', index_col='stool_id')\n",
    "subject = pd.read_table('meta/hmp2/subject.tsv', index_col='subject_id')\n",
    "\n",
    "sample_meta = mgen.join(preparation, on='preparation_id', rsuffix='_').join(stool, on='stool_id').join(subject, on='subject_id').loc[all_species_depth.index]"
   ]
  },
  {
   "cell_type": "code",
   "execution_count": null,
   "metadata": {},
   "outputs": [],
   "source": [
    "len(sample_meta.stool_id.unique()), len(sample_meta.subject_id.unique())"
   ]
  },
  {
   "cell_type": "markdown",
   "metadata": {},
   "source": [
    "## Strains"
   ]
  },
  {
   "cell_type": "code",
   "execution_count": null,
   "metadata": {},
   "outputs": [],
   "source": [
    "fit = sf.World.load(\n",
    "    f'data_temp/sp-{species_id}.{stemA}.gtpro.{stemB}.world.nc'\n",
    ").drop_low_abundance_strains(0.05)\n",
    "print(fit.sizes)\n",
    "\n",
    "np.random.seed(0)\n",
    "position_ss = fit.random_sample(position=min(fit.sizes['position'], 1000)).position"
   ]
  },
  {
   "cell_type": "code",
   "execution_count": null,
   "metadata": {},
   "outputs": [],
   "source": [
    "strain_corr = pd.read_table(\n",
    "    f'data_temp/sp-{species_id}.{stemA}.gtpro.{stemB}.midas_gene{centroid}.strain_correlation.tsv',\n",
    "    index_col=['gene_id', 'strain']\n",
    ").squeeze().unstack(fill_value=0)\n",
    "# strain_corr = strain_by_species_corr.sel(species_id=species_id).to_series().unstack('strain')\n",
    "strain_depth = pd.read_table(\n",
    "    f'data_temp/sp-{species_id}.{stemA}.gtpro.{stemB}.midas_gene{centroid}.strain_depth_ratio.tsv',\n",
    "    index_col=['gene_id', 'strain']\n",
    ").squeeze().unstack()\n",
    "strain_corr, strain_depth = align_indexes(*align_indexes(strain_corr, strain_depth), axis=\"columns\")"
   ]
  },
  {
   "cell_type": "code",
   "execution_count": null,
   "metadata": {},
   "outputs": [],
   "source": [
    "sample_to_strain = (\n",
    "    (fit.community.data > 0.95)\n",
    "    .to_series()\n",
    "    .unstack()\n",
    "    .apply(idxwhere, axis=1)\n",
    "    [lambda x: x.apply(bool)]\n",
    "    .str[0]\n",
    "    .rename('strain')\n",
    ")\n",
    "    \n",
    "strain_to_sample_list = (\n",
    "    sample_to_strain\n",
    "    .rename('strain_id')\n",
    "    .reset_index()\n",
    "    .groupby('strain_id')\n",
    "    .apply(lambda x: x['sample'].to_list())\n",
    ")\n",
    "strain_to_sample_list.apply(len).sort_values(ascending=False).head()"
   ]
  },
  {
   "cell_type": "code",
   "execution_count": null,
   "metadata": {},
   "outputs": [],
   "source": [
    "# species_gene_corr_thresh = species_corr.sort_values(ascending=False).head(n_species_genes + 1).min()\n",
    "species_gene_list = idxwhere(species_corr.loc[strain_corr.index] > species_gene_corr_thresh)\n",
    "print(len(species_gene_list))"
   ]
  },
  {
   "cell_type": "code",
   "execution_count": null,
   "metadata": {},
   "outputs": [],
   "source": [
    "# strain_thresh = pd.read_table(\n",
    "#     f'data_temp/sp-{species_id}.{stemA}.gtpro.{stemB}.midas_gene{centroid}.strain_correlation_threshold.tsv',\n",
    "#     names=['strain_id', 'threshold'],\n",
    "#     index_col='strain_id',\n",
    "# ).loc[strain_corr.columns]\n",
    "plt.hist(species_corr, bins=np.linspace(0, 1, num=101))\n",
    "plt.axvline(species_gene_corr_thresh, linestyle=':', color='k')"
   ]
  },
  {
   "cell_type": "code",
   "execution_count": null,
   "metadata": {},
   "outputs": [],
   "source": [
    "strain_frac = pd.read_table(f'data_temp/sp-{species_id}.{stemA}.gtpro.{stemB}.comm.tsv', index_col=['sample', 'strain']).squeeze().unstack(fill_value=0)"
   ]
  },
  {
   "cell_type": "code",
   "execution_count": null,
   "metadata": {},
   "outputs": [],
   "source": [
    "plt.hist(np.log10(species_depth[species_depth > 0]), bins=np.linspace(-4, 4))\n",
    "plt.axvline(np.log10(1.0), linestyle=':', color='k')"
   ]
  },
  {
   "cell_type": "markdown",
   "metadata": {},
   "source": [
    "## MIDAS Genes, COGs, COG categories"
   ]
  },
  {
   "cell_type": "code",
   "execution_count": null,
   "metadata": {},
   "outputs": [],
   "source": [
    "gene_cluster = pd.read_table(\n",
    "    f'ref_temp/midasdb_uhgg/pangenomes/{species_id}/cluster_info.txt'\n",
    ").set_index('centroid_99', drop=False).rename_axis(index='gene_id')\n",
    "gene_annotation = pd.read_table(\n",
    "    f'ref_temp/midasdb_uhgg.sp-{species_id}.gene{centroid}_annotations.tsv',\n",
    "    names=['locus_tag', 'ftype', 'length_bp', 'gene', 'EC_number', 'COG', 'product'],\n",
    "    index_col='locus_tag',\n",
    ").rename(columns=str.lower)\n",
    "\n",
    "gene_meta = gene_cluster.loc[gene_cluster[f'centroid_{centroid}'].unique()].join(gene_annotation)"
   ]
  },
  {
   "cell_type": "code",
   "execution_count": null,
   "metadata": {},
   "outputs": [],
   "source": [
    "gene_cluster"
   ]
  },
  {
   "cell_type": "code",
   "execution_count": null,
   "metadata": {},
   "outputs": [],
   "source": [
    "_cog_meta = pd.read_table(\n",
    "    'ref/cog-20.meta.tsv',\n",
    "    names=['cog', 'categories', 'description', 'gene', 'pathway', '_1', '_2'],\n",
    "    index_col=['cog']\n",
    ")\n",
    "cog_meta = _cog_meta.drop(columns=['categories', '_1', '_2'])\n",
    "cog_x_category = _cog_meta.categories.apply(tuple).apply(pd.Series).unstack().to_frame(name='category').reset_index()[['cog', 'category']].dropna()"
   ]
  },
  {
   "cell_type": "code",
   "execution_count": null,
   "metadata": {},
   "outputs": [],
   "source": [
    "cog_category = pd.read_table('ref/cog-20.categories.tsv', names=['category', 'description'], index_col='category')"
   ]
  },
  {
   "cell_type": "markdown",
   "metadata": {},
   "source": [
    "## Genes"
   ]
  },
  {
   "cell_type": "code",
   "execution_count": null,
   "metadata": {},
   "outputs": [],
   "source": [
    "sample_depth = xr.load_dataarray(f'data_temp/sp-{species_id}.{stemA}.midas_gene{centroid}.depth.nc')"
   ]
  },
  {
   "cell_type": "markdown",
   "metadata": {},
   "source": [
    "## References"
   ]
  },
  {
   "cell_type": "code",
   "execution_count": null,
   "metadata": {},
   "outputs": [],
   "source": [
    "reference_meta = pd.read_table('ref_temp/uhgg_genomes_all_4644.tsv', index_col='Genome').rename_axis(index='genome_id')[lambda x: x.MGnify_accession == 'MGYG-HGUT-' + species_id[1:]].rename(lambda s: 'UHGG' + s[10:])\n",
    "reference_meta.head()"
   ]
  },
  {
   "cell_type": "code",
   "execution_count": null,
   "metadata": {},
   "outputs": [],
   "source": [
    "reference_gene = xr.load_dataarray(f'data_temp/sp-{species_id}.midas_gene{centroid}.reference_copy_number.nc')\n",
    "reference_gene = pd.DataFrame(reference_gene.T.values, index=reference_gene.gene_id, columns=reference_gene.genome_id)"
   ]
  },
  {
   "cell_type": "code",
   "execution_count": null,
   "metadata": {},
   "outputs": [],
   "source": [
    "isolate_gene = reference_gene[idxwhere(reference_meta.Genome_type == 'Isolate')]"
   ]
  },
  {
   "cell_type": "markdown",
   "metadata": {},
   "source": [
    "# Select strains, genes"
   ]
  },
  {
   "cell_type": "markdown",
   "metadata": {},
   "source": [
    "## QC Strains"
   ]
  },
  {
   "cell_type": "code",
   "execution_count": null,
   "metadata": {},
   "outputs": [],
   "source": [
    "strain_thresholds = (\n",
    "    pd.read_table(f'data_temp/sp-{species_id}.{stemA}.gtpro.{stemB}.midas_gene{centroid}.strain_gene_threshold.tsv', index_col='strain')\n",
    "    .rename(columns=dict(\n",
    "        correlation_strict='corr_threshold_strict',\n",
    "        correlation_moderate='corr_threshold_moderate',\n",
    "        correlation_lenient='corr_threshold_lenient',\n",
    "        depth_high='depth_thresh_high',\n",
    "        depth_low='depth_thresh_low',\n",
    "    ))\n",
    ")"
   ]
  },
  {
   "cell_type": "code",
   "execution_count": null,
   "metadata": {},
   "outputs": [],
   "source": [
    "_strain_meta = (\n",
    "    strain_thresholds\n",
    "    .join(fit.genotype.entropy().to_series().rename('genotype_entropy'))\n",
    "    .join(fit.metagenotype.entropy().to_series().rename('metagenotype_entropy').groupby(sample_to_strain).mean().rename(int))\n",
    "    .join(strain_to_sample_list.apply(len).rename('num_samples'))\n",
    "    .join(species_depth.apply(np.cbrt).groupby(sample_to_strain).std().rename('depth_stdev').rename(int))\n",
    "    .join(species_depth.apply(np.cbrt).groupby(sample_to_strain).max().rename('depth_max').rename(int))\n",
    "    .join(species_depth.apply(np.cbrt).groupby(sample_to_strain).sum().rename('depth_sum').rename(int))\n",
    "    .assign(power_index=lambda x: (x.depth_stdev * np.sqrt(x.num_samples)).fillna(0))\n",
    ")\n",
    "strain_meta = _strain_meta\n",
    "high_power_strain_list = idxwhere((strain_meta.power_index > 1.0) & (strain_meta.metagenotype_entropy < 0.05))\n",
    "print(len(high_power_strain_list))\n",
    "highest_power_strain_list = strain_meta.sort_values('power_index', ascending=False).head(3).index\n",
    "strain_meta.sort_values('num_samples', ascending=False)"
   ]
  },
  {
   "cell_type": "code",
   "execution_count": null,
   "metadata": {},
   "outputs": [],
   "source": [
    "high_power_strain_palette = lib.plot.construct_ordered_palette(high_power_strain_list, mpl.cm.Spectral)"
   ]
  },
  {
   "cell_type": "markdown",
   "metadata": {},
   "source": [
    "## Select Genes"
   ]
  },
  {
   "cell_type": "code",
   "execution_count": null,
   "metadata": {},
   "outputs": [],
   "source": [
    "strict_corr_hit = strain_corr > strain_meta.corr_threshold_strict\n",
    "lenient_corr_hit = strain_corr > strain_meta.corr_threshold_lenient\n",
    "low_corr =  strain_corr < strain_meta.corr_threshold_lenient\n",
    "depth_hit = (strain_depth < strain_meta.depth_thresh_high) & (strain_depth > strain_meta.depth_thresh_low)\n",
    "low_depth = (strain_depth < strain_meta.depth_thresh_low)\n",
    "high_depth = (strain_depth > strain_meta.depth_thresh_high)\n",
    "high_confidence_hit = depth_hit & strict_corr_hit\n",
    "maybe_hit = depth_hit & lenient_corr_hit\n",
    "low_depth_hit = low_depth & strict_corr_hit\n",
    "high_depth_hit = high_depth & strict_corr_hit\n",
    "ambiguous_hit = depth_hit ^ strict_corr_hit\n",
    "high_confidence_not_hit = low_depth & low_corr"
   ]
  },
  {
   "cell_type": "code",
   "execution_count": null,
   "metadata": {},
   "outputs": [],
   "source": [
    "strain_meta.loc[high_power_strain_list]"
   ]
  },
  {
   "cell_type": "code",
   "execution_count": null,
   "metadata": {},
   "outputs": [],
   "source": [
    "high_confidence_hit[high_power_strain_list].sum()"
   ]
  },
  {
   "cell_type": "code",
   "execution_count": null,
   "metadata": {},
   "outputs": [],
   "source": [
    "samples_with_high_power_strains = idxwhere(fit.community.data.sel(strain=high_power_strain_list).sum(\"strain\").to_series() > 0.5)\n",
    "samples_without_high_power_strains = idxwhere(fit.community.data.sel(strain=high_power_strain_list).sum(\"strain\").to_series() < 0.5)\n",
    "len(samples_with_high_power_strains), len(samples_without_high_power_strains)"
   ]
  },
  {
   "cell_type": "code",
   "execution_count": null,
   "metadata": {},
   "outputs": [],
   "source": [
    "sf.plot.plot_genotype(\n",
    "    fit.sel(strain=high_power_strain_list, position=position_ss),\n",
    "    col_linkage_func=lambda w: w.metagenotype.linkage(\"position\"),\n",
    "    row_linkage_func=lambda w: w.genotype.linkage(\"strain\"),\n",
    ")"
   ]
  },
  {
   "cell_type": "code",
   "execution_count": null,
   "metadata": {},
   "outputs": [],
   "source": [
    "sf.plot.plot_metagenotype(\n",
    "    fit.sel(sample=samples_with_high_power_strains, position=position_ss),\n",
    "    col_linkage_func=lambda w: w.metagenotype.linkage(),\n",
    "    row_linkage_func=lambda w: w.metagenotype.linkage(\"position\"),\n",
    "    col_colors=fit.sel(sample=samples_with_high_power_strains, position=position_ss).sample.to_series().map(sample_to_strain).map(high_power_strain_palette),\n",
    ")"
   ]
  },
  {
   "cell_type": "code",
   "execution_count": null,
   "metadata": {},
   "outputs": [],
   "source": [
    "sf.plot.plot_community(\n",
    "    fit.sel(sample=samples_with_high_power_strains, position=position_ss).drop_low_abundance_strains(0.05),\n",
    "    col_linkage_func=lambda w: w.metagenotype.linkage(),\n",
    "    row_linkage_func=lambda w: w.genotype.linkage(\"strain\"),\n",
    "    col_colors=fit.sel(sample=samples_with_high_power_strains, position=position_ss).sample.to_series().map(sample_to_strain).map(high_power_strain_palette),\n",
    ")"
   ]
  },
  {
   "cell_type": "code",
   "execution_count": null,
   "metadata": {},
   "outputs": [],
   "source": [
    "strain_list = high_power_strain_list\n",
    "gene_list = idxwhere(high_confidence_hit[strain_list].sum(1) > 0)\n",
    "\n",
    "x = strain_depth.loc[gene_list, strain_list]\n",
    "\n",
    "if len(gene_list) < 2e4:\n",
    "    sns.clustermap(\n",
    "        x,\n",
    "        metric='cosine',\n",
    "        norm=mpl.colors.SymLogNorm(linthresh=1e-4, vmin=0.1, vmax=10),\n",
    "        yticklabels=0,\n",
    "        xticklabels=0,\n",
    "        col_linkage=fit.genotype.sel(strain=strain_list).linkage(\"strain\"),\n",
    "    )\n",
    "else:\n",
    "    print(\"Too many genes for clustermap:\", len(gene_list))\n",
    "\n",
    "print(len(gene_list), len(gene_list) - gene_annotation.loc[gene_list]['product'].value_counts()['hypothetical protein'])\n",
    "print()\n",
    "print(\n",
    "    gene_annotation\n",
    "    .loc[gene_list]\n",
    "    .cog.to_frame()\n",
    "    .join(cog_meta, on='cog')\n",
    "    .pathway\n",
    "    .value_counts()\n",
    "    .sort_values(ascending=False)\n",
    "    .head(10)\n",
    ")\n",
    "print()\n",
    "print(\n",
    "    gene_meta\n",
    "    .loc[gene_list]\n",
    "    ['product']\n",
    "    .value_counts()\n",
    "    .head(10)\n",
    ")\n",
    "print()\n",
    "print(pd.merge(\n",
    "    gene_annotation.loc[gene_list].cog.dropna().to_frame(),\n",
    "    cog_x_category,\n",
    "    on='cog',\n",
    ").category.value_counts().to_frame().join(cog_category).head(10))"
   ]
  },
  {
   "cell_type": "code",
   "execution_count": null,
   "metadata": {},
   "outputs": [],
   "source": [
    "strain_list = high_power_strain_list\n",
    "gene_list = idxwhere(high_confidence_hit[strain_list].mean(1) > 0.8)\n",
    "\n",
    "x = strain_depth.loc[gene_list, strain_list]\n",
    "\n",
    "if len(gene_list) < 2e4:\n",
    "    sns.clustermap(\n",
    "        x,\n",
    "        metric='cosine',\n",
    "        norm=mpl.colors.SymLogNorm(linthresh=1e-4, vmin=0.1, vmax=10),\n",
    "        yticklabels=0,\n",
    "        xticklabels=0,\n",
    "        col_linkage=fit.genotype.sel(strain=strain_list).linkage(\"strain\"),\n",
    "    )\n",
    "else:\n",
    "    print(\"Too many genes for clustermap:\", len(gene_list))\n",
    "\n",
    "print(len(gene_list), len(gene_list) - gene_annotation.loc[gene_list]['product'].value_counts()['hypothetical protein'])\n",
    "print()\n",
    "print(\n",
    "    gene_annotation\n",
    "    .loc[gene_list]\n",
    "    .cog.to_frame()\n",
    "    .join(cog_meta, on='cog')\n",
    "    .pathway\n",
    "    .value_counts()\n",
    "    .sort_values(ascending=False)\n",
    "    .head(10)\n",
    ")\n",
    "print()\n",
    "print(\n",
    "    gene_meta\n",
    "    .loc[gene_list]\n",
    "    ['product']\n",
    "    .value_counts()\n",
    "    .head(10)\n",
    ")\n",
    "print()\n",
    "print(pd.merge(\n",
    "    gene_annotation.loc[gene_list].cog.dropna().to_frame(),\n",
    "    cog_x_category,\n",
    "    on='cog',\n",
    ").category.value_counts().to_frame().join(cog_category).head(10))"
   ]
  },
  {
   "cell_type": "code",
   "execution_count": null,
   "metadata": {},
   "outputs": [],
   "source": [
    "strain_list = high_power_strain_list\n",
    "gene_list = idxwhere((high_confidence_hit[strain_list].mean(1) > 0.05) & (high_confidence_not_hit[strain_list].mean(1) > 0.2))\n",
    "\n",
    "x = strain_depth.loc[gene_list, strain_list]\n",
    "\n",
    "if len(gene_list) < 2e4:\n",
    "    sns.clustermap(\n",
    "        x,\n",
    "        metric='cosine',\n",
    "        norm=mpl.colors.SymLogNorm(linthresh=1e-4, vmin=0.1, vmax=10),\n",
    "        yticklabels=0,\n",
    "        xticklabels=0,\n",
    "        col_linkage=fit.genotype.sel(strain=strain_list).linkage(\"strain\"),\n",
    "    )\n",
    "else:\n",
    "    print(\"Too many genes for clustermap:\", len(gene_list))\n",
    "\n",
    "print(len(gene_list), len(gene_list) - gene_annotation.loc[gene_list]['product'].value_counts()['hypothetical protein'])\n",
    "print()\n",
    "print(\n",
    "    gene_annotation\n",
    "    .loc[gene_list]\n",
    "    .cog.to_frame()\n",
    "    .join(cog_meta, on='cog')\n",
    "    .pathway\n",
    "    .value_counts()\n",
    "    .sort_values(ascending=False)\n",
    "    .head(10)\n",
    ")\n",
    "print()\n",
    "print(\n",
    "    gene_meta\n",
    "    .loc[gene_list]\n",
    "    ['product']\n",
    "    .value_counts()\n",
    "    .head(10)\n",
    ")\n",
    "print()\n",
    "print(pd.merge(\n",
    "    gene_annotation.loc[gene_list].cog.dropna().to_frame(),\n",
    "    cog_x_category,\n",
    "    on='cog',\n",
    ").category.value_counts().to_frame().join(cog_category).head(10))"
   ]
  },
  {
   "cell_type": "markdown",
   "metadata": {},
   "source": [
    "# Broad strokes characterization of gene sets"
   ]
  },
  {
   "cell_type": "markdown",
   "metadata": {},
   "source": [
    "## Phylogenetic conservation"
   ]
  },
  {
   "cell_type": "code",
   "execution_count": null,
   "metadata": {},
   "outputs": [],
   "source": [
    "strain_list = high_power_strain_list\n",
    "gene_list = high_confidence_hit.index\n",
    "\n",
    "m = gene_meta.join(cog_meta, on='cog', rsuffix='_cog')\n",
    "x = high_confidence_hit.loc[gene_list, strain_list]\n",
    "\n",
    "fdist = pd.DataFrame(sp.spatial.distance.squareform(sp.spatial.distance.pdist(x.T, metric='jaccard')), index=x.columns, columns=x.columns)\n",
    "gdist = fit.genotype.sel(strain=strain_list).pdist()\n",
    "\n",
    "d = pd.DataFrame(dict(\n",
    "    genotype_distance=sp.spatial.distance.squareform(gdist),\n",
    "    gene_content_distance=sp.spatial.distance.squareform(fdist)\n",
    "))\n",
    "plt.scatter('genotype_distance', 'gene_content_distance', data=d, s=5)\n",
    "sp.stats.spearmanr(d.genotype_distance, d.gene_content_distance)"
   ]
  },
  {
   "cell_type": "code",
   "execution_count": null,
   "metadata": {},
   "outputs": [],
   "source": [
    "strain_list = high_power_strain_list\n",
    "gene_list = idxwhere((high_confidence_hit[strain_list].mean(1) > 0.05) & (high_confidence_not_hit[strain_list].mean(1) > 0.2))\n",
    "\n",
    "m = gene_meta.join(cog_meta, on='cog', rsuffix='_cog')\n",
    "x = high_confidence_hit.loc[gene_list, strain_list]\n",
    "\n",
    "fdist = pd.DataFrame(sp.spatial.distance.squareform(sp.spatial.distance.pdist(x.T, metric='jaccard')), index=x.columns, columns=x.columns)\n",
    "gdist = fit.genotype.sel(strain=strain_list).pdist()\n",
    "\n",
    "d = pd.DataFrame(dict(\n",
    "    genotype_distance=sp.spatial.distance.squareform(gdist),\n",
    "    gene_content_distance=sp.spatial.distance.squareform(fdist)\n",
    "))\n",
    "plt.scatter('genotype_distance', 'gene_content_distance', data=d, s=5)\n",
    "sp.stats.spearmanr(d.genotype_distance, d.gene_content_distance)"
   ]
  },
  {
   "cell_type": "code",
   "execution_count": null,
   "metadata": {},
   "outputs": [],
   "source": [
    "tally_cog_category_reps = pd.merge(\n",
    "    gene_meta.loc[idxwhere(high_confidence_hit[strain_list].any(1))].cog.value_counts().reset_index().rename(columns=dict(index='cog', cog='tally')),\n",
    "    cog_x_category,\n",
    "    on='cog'\n",
    ").groupby('category').tally.sum().sort_values(ascending=False)\n",
    "tally_cog_category_reps"
   ]
  },
  {
   "cell_type": "code",
   "execution_count": null,
   "metadata": {},
   "outputs": [],
   "source": [
    "fig, axs = plt.subplots(5, 3, figsize=(15, 19), sharex=True, sharey=True)\n",
    "\n",
    "for this_cog_category, ax in zip(tally_cog_category_reps.index, axs.flatten()):\n",
    "    ax.set_title(this_cog_category)\n",
    "    strain_list = high_power_strain_list\n",
    "    cog_list = cog_x_category[cog_x_category.category == this_cog_category].cog.unique()\n",
    "    gene_list = gene_meta.cog.isin(cog_list)\n",
    "\n",
    "    x = high_confidence_hit.loc[gene_list, strain_list]\n",
    "    fdist = pd.DataFrame(sp.spatial.distance.squareform(sp.spatial.distance.pdist(x.T, metric='jaccard')), index=x.columns, columns=x.columns)\n",
    "\n",
    "    gdist = fit.genotype.sel(strain=strain_list).pdist()\n",
    "\n",
    "    d = pd.DataFrame(dict(\n",
    "        genotype_distance=sp.spatial.distance.squareform(gdist),\n",
    "        gene_content_distance=sp.spatial.distance.squareform(fdist)\n",
    "    ))\n",
    "    ax.scatter('genotype_distance', 'gene_content_distance', data=d, s=5)\n",
    "    ax.annotate(np.round(sp.stats.spearmanr(d.genotype_distance, d.gene_content_distance)[0], 2), xy=(0.8, 0.9), xycoords='axes fraction')\n",
    "    ax.annotate(int(x.mean(1).sum()), xy=(0.8, 0.7), xycoords='axes fraction')\n",
    "    ax.annotate(cog_category.loc[this_cog_category].description, xy=(0.0, 0.8), xycoords='axes fraction')"
   ]
  },
  {
   "cell_type": "markdown",
   "metadata": {},
   "source": [
    "## Gene Clusters"
   ]
  },
  {
   "cell_type": "code",
   "execution_count": null,
   "metadata": {},
   "outputs": [],
   "source": [
    "from sklearn.cluster import OPTICS, AgglomerativeClustering, MiniBatchKMeans, KMeans, Birch, OPTICS\n",
    "from sklearn.mixture import GaussianMixture\n",
    "from sklearn.decomposition import PCA"
   ]
  },
  {
   "cell_type": "code",
   "execution_count": null,
   "metadata": {},
   "outputs": [],
   "source": [
    "strain_hit_gene_list = idxwhere((high_confidence_hit[high_power_strain_list].sum(1) > 0))\n",
    "strain_hit_gene_list = idxwhere((reference_gene > 0).loc[strain_hit_gene_list].sum(1) > 2)"
   ]
  },
  {
   "cell_type": "code",
   "execution_count": null,
   "metadata": {},
   "outputs": [],
   "source": [
    "%%time\n",
    "# Expect ~7 minutes\n",
    "x = (reference_gene > 0).loc[strain_hit_gene_list]\n",
    "clust = AgglomerativeClustering(n_clusters=None, distance_threshold=0.1, linkage='average', affinity='cosine').fit(x)"
   ]
  },
  {
   "cell_type": "code",
   "execution_count": null,
   "metadata": {},
   "outputs": [],
   "source": [
    "reference_gene_clust = pd.Series(clust.labels_, index=strain_hit_gene_list)"
   ]
  },
  {
   "cell_type": "code",
   "execution_count": null,
   "metadata": {},
   "outputs": [],
   "source": [
    "reference_gene_clust_list = idxwhere(reference_gene_clust.value_counts() > 1)"
   ]
  },
  {
   "cell_type": "code",
   "execution_count": null,
   "metadata": {},
   "outputs": [],
   "source": [
    "reference_gene_clust.value_counts()[reference_gene_clust_list]"
   ]
  },
  {
   "cell_type": "code",
   "execution_count": null,
   "metadata": {},
   "outputs": [],
   "source": [
    "genes_in_reference_gene_clust_list = idxwhere(reference_gene_clust.isin(reference_gene_clust_list))"
   ]
  },
  {
   "cell_type": "code",
   "execution_count": null,
   "metadata": {},
   "outputs": [],
   "source": [
    "gene_clust_palette = lib.plot.construct_ordered_palette(reference_gene_clust_list)"
   ]
  },
  {
   "cell_type": "code",
   "execution_count": null,
   "metadata": {},
   "outputs": [],
   "source": [
    "strain_list = high_power_strain_list\n",
    "gene_list = idxwhere(high_confidence_hit[high_power_strain_list].any(1))\n",
    "\n",
    "x = strain_depth.loc[gene_list, strain_list]\n",
    "\n",
    "if len(gene_list) < 2e4:\n",
    "    sns.clustermap(\n",
    "        x,\n",
    "        metric='cosine',\n",
    "        norm=mpl.colors.SymLogNorm(linthresh=1e-4, vmin=0.1, vmax=10),\n",
    "        yticklabels=0,\n",
    "        xticklabels=0,\n",
    "        col_linkage=fit.genotype.sel(strain=strain_list).linkage(\"strain\"),\n",
    "        row_colors=reference_gene_clust.reindex(gene_list).map(gene_clust_palette),\n",
    "    )\n",
    "else:\n",
    "    print(\"Too many genes for clustermap:\", len(gene_list))\n",
    "\n",
    "print(len(gene_list), len(gene_list) - gene_annotation.loc[gene_list]['product'].value_counts()['hypothetical protein'])\n",
    "print()\n",
    "print(\n",
    "    gene_annotation\n",
    "    .loc[gene_list]\n",
    "    .cog.to_frame()\n",
    "    .join(cog_meta, on='cog')\n",
    "    .pathway\n",
    "    .value_counts()\n",
    "    .sort_values(ascending=False)\n",
    "    .head(10)\n",
    ")\n",
    "print()\n",
    "print(\n",
    "    gene_meta\n",
    "    .loc[gene_list]\n",
    "    ['product']\n",
    "    .value_counts()\n",
    "    .head(10)\n",
    ")\n",
    "print()\n",
    "print(pd.merge(\n",
    "    gene_annotation.loc[gene_list].cog.dropna().to_frame(),\n",
    "    cog_x_category,\n",
    "    on='cog',\n",
    ").category.value_counts().to_frame().join(cog_category).head(10))"
   ]
  },
  {
   "cell_type": "code",
   "execution_count": null,
   "metadata": {},
   "outputs": [],
   "source": [
    "strain_list = high_power_strain_list\n",
    "gene_list = idxwhere(reference_gene_clust == reference_gene_clust_list[0])\n",
    "\n",
    "x = strain_depth.loc[gene_list, strain_list]\n",
    "\n",
    "if len(gene_list) < 2e4:\n",
    "    sns.clustermap(\n",
    "        x,\n",
    "        metric='cosine',\n",
    "        norm=mpl.colors.SymLogNorm(linthresh=1e-4, vmin=0.1, vmax=10),\n",
    "        yticklabels=0,\n",
    "        xticklabels=0,\n",
    "        col_linkage=fit.genotype.sel(strain=strain_list).linkage(\"strain\"),\n",
    "    )\n",
    "else:\n",
    "    print(\"Too many genes for clustermap:\", len(gene_list))\n",
    "    \n",
    "x2 = (high_confidence_hit.astype(int) + maybe_hit.astype(int) - high_confidence_not_hit.astype(int)).loc[gene_list, strain_list]\n",
    "\n",
    "if len(gene_list) < 2e4:\n",
    "    sns.clustermap(\n",
    "        x2 + 1e-4,\n",
    "        metric='cosine',\n",
    "        # norm=mpl.colors.SymLogNorm(linthresh=1e-4, vmin=0.1, vmax=10),\n",
    "        yticklabels=0,\n",
    "        xticklabels=0,\n",
    "        col_linkage=fit.genotype.sel(strain=strain_list).linkage(\"strain\"),\n",
    "    )\n",
    "else:\n",
    "    print(\"Too many genes for clustermap:\", len(gene_list))\n",
    "\n",
    "print(len(gene_list), len(gene_list) - gene_annotation.loc[gene_list]['product'].value_counts()['hypothetical protein'])\n",
    "print()\n",
    "print(\n",
    "    gene_annotation\n",
    "    .loc[gene_list]\n",
    "    .cog.to_frame()\n",
    "    .join(cog_meta, on='cog')\n",
    "    .pathway\n",
    "    .value_counts()\n",
    "    .sort_values(ascending=False)\n",
    "    .head(10)\n",
    ")\n",
    "print()\n",
    "print(\n",
    "    gene_meta\n",
    "    .loc[gene_list]\n",
    "    ['product']\n",
    "    .value_counts()\n",
    "    .head(10)\n",
    ")\n",
    "print()\n",
    "print(pd.merge(\n",
    "    gene_annotation.loc[gene_list].cog.dropna().to_frame(),\n",
    "    cog_x_category,\n",
    "    on='cog',\n",
    ").category.value_counts().to_frame().join(cog_category).head(10))"
   ]
  },
  {
   "cell_type": "code",
   "execution_count": null,
   "metadata": {},
   "outputs": [],
   "source": [
    "strain_list = high_power_strain_list\n",
    "gene_list = idxwhere(reference_gene_clust == reference_gene_clust_list[1])\n",
    "\n",
    "x = strain_depth.loc[gene_list, strain_list]\n",
    "\n",
    "if len(gene_list) < 2e4:\n",
    "    sns.clustermap(\n",
    "        x,\n",
    "        metric='cosine',\n",
    "        norm=mpl.colors.SymLogNorm(linthresh=1e-4, vmin=0.1, vmax=10),\n",
    "        yticklabels=0,\n",
    "        xticklabels=0,\n",
    "        col_linkage=fit.genotype.sel(strain=strain_list).linkage(\"strain\"),\n",
    "    )\n",
    "else:\n",
    "    print(\"Too many genes for clustermap:\", len(gene_list))\n",
    "    \n",
    "x2 = (high_confidence_hit.astype(int) + maybe_hit.astype(int) - high_confidence_not_hit.astype(int)).loc[gene_list, strain_list]\n",
    "\n",
    "if len(gene_list) < 2e4:\n",
    "    sns.clustermap(\n",
    "        x2 + 1e-4,\n",
    "        metric='cosine',\n",
    "        # norm=mpl.colors.SymLogNorm(linthresh=1e-4, vmin=0.1, vmax=10),\n",
    "        yticklabels=0,\n",
    "        xticklabels=0,\n",
    "        col_linkage=fit.genotype.sel(strain=strain_list).linkage(\"strain\"),\n",
    "    )\n",
    "else:\n",
    "    print(\"Too many genes for clustermap:\", len(gene_list))\n",
    "\n",
    "print(len(gene_list), len(gene_list) - gene_annotation.loc[gene_list]['product'].value_counts()['hypothetical protein'])\n",
    "print()\n",
    "print(\n",
    "    gene_annotation\n",
    "    .loc[gene_list]\n",
    "    .cog.to_frame()\n",
    "    .join(cog_meta, on='cog')\n",
    "    .pathway\n",
    "    .value_counts()\n",
    "    .sort_values(ascending=False)\n",
    "    .head(10)\n",
    ")\n",
    "print()\n",
    "print(\n",
    "    gene_meta\n",
    "    .loc[gene_list]\n",
    "    ['product']\n",
    "    .value_counts()\n",
    "    .head(10)\n",
    ")\n",
    "print()\n",
    "print(pd.merge(\n",
    "    gene_annotation.loc[gene_list].cog.dropna().to_frame(),\n",
    "    cog_x_category,\n",
    "    on='cog',\n",
    ").category.value_counts().to_frame().join(cog_category).head(10))"
   ]
  },
  {
   "cell_type": "code",
   "execution_count": null,
   "metadata": {},
   "outputs": [],
   "source": [
    "strain_list = high_power_strain_list\n",
    "gene_list = idxwhere(reference_gene_clust == reference_gene_clust_list[2])\n",
    "\n",
    "x = strain_depth.loc[gene_list, strain_list]\n",
    "\n",
    "if len(gene_list) < 2e4:\n",
    "    sns.clustermap(\n",
    "        x,\n",
    "        metric='cosine',\n",
    "        norm=mpl.colors.SymLogNorm(linthresh=1e-4, vmin=0.1, vmax=10),\n",
    "        yticklabels=0,\n",
    "        xticklabels=0,\n",
    "        col_linkage=fit.genotype.sel(strain=strain_list).linkage(\"strain\"),\n",
    "    )\n",
    "else:\n",
    "    print(\"Too many genes for clustermap:\", len(gene_list))\n",
    "    \n",
    "x2 = (high_confidence_hit.astype(int) + maybe_hit.astype(int) - high_confidence_not_hit.astype(int)).loc[gene_list, strain_list]\n",
    "\n",
    "if len(gene_list) < 2e4:\n",
    "    sns.clustermap(\n",
    "        x2 + 1e-4,\n",
    "        metric='cosine',\n",
    "        # norm=mpl.colors.SymLogNorm(linthresh=1e-4, vmin=0.1, vmax=10),\n",
    "        yticklabels=0,\n",
    "        xticklabels=0,\n",
    "        col_linkage=fit.genotype.sel(strain=strain_list).linkage(\"strain\"),\n",
    "    )\n",
    "else:\n",
    "    print(\"Too many genes for clustermap:\", len(gene_list))\n",
    "\n",
    "print(len(gene_list), len(gene_list) - gene_annotation.loc[gene_list]['product'].value_counts()['hypothetical protein'])\n",
    "print()\n",
    "print(\n",
    "    gene_annotation\n",
    "    .loc[gene_list]\n",
    "    .cog.to_frame()\n",
    "    .join(cog_meta, on='cog')\n",
    "    .pathway\n",
    "    .value_counts()\n",
    "    .sort_values(ascending=False)\n",
    "    .head(10)\n",
    ")\n",
    "print()\n",
    "print(\n",
    "    gene_meta\n",
    "    .loc[gene_list]\n",
    "    ['product']\n",
    "    .value_counts()\n",
    "    .head(10)\n",
    ")\n",
    "print()\n",
    "print(pd.merge(\n",
    "    gene_annotation.loc[gene_list].cog.dropna().to_frame(),\n",
    "    cog_x_category,\n",
    "    on='cog',\n",
    ").category.value_counts().to_frame().join(cog_category).head(10))"
   ]
  },
  {
   "cell_type": "code",
   "execution_count": null,
   "metadata": {},
   "outputs": [],
   "source": [
    "gene_clust_depth = gene_depth.to_series().unstack().groupby(reference_gene_clust).mean().rename(int).T\n",
    "gene_clust_depth_trimmed_mean = gene_depth.to_series().unstack().groupby(reference_gene_clust).apply(lambda x: pd.Series(sp.stats.trim_mean(x, 0.2), index=x.columns)).rename(int).T"
   ]
  },
  {
   "cell_type": "code",
   "execution_count": null,
   "metadata": {},
   "outputs": [],
   "source": [
    "species_with_cluster = (((gene_clust_depth_trimmed_mean.T / species_depth) > 0.1) & (species_depth > 1e-3)).T\n",
    "species_with_cluster_sample_frac = species_with_cluster.groupby(sample_meta.subject_id).mean()"
   ]
  },
  {
   "cell_type": "code",
   "execution_count": null,
   "metadata": {},
   "outputs": [],
   "source": [
    "depth = species_depth_by_subject\n",
    "depth_colors = ((depth / depth.max())**(1/4)).map(mpl.cm.viridis)\n",
    "diagnosis_colors = subject.loc[species_with_cluster_sample_frac.index].ibd_diagnosis.map({'CD': 'red', 'UC': 'pink', 'nonIBD': 'grey'})\n",
    "\n",
    "sns.clustermap(\n",
    "    species_with_cluster_sample_frac,\n",
    "    metric='cosine',\n",
    "    row_colors=depth_colors.to_frame('depth').assign(ibd=diagnosis_colors),\n",
    ")"
   ]
  },
  {
   "cell_type": "code",
   "execution_count": null,
   "metadata": {},
   "outputs": [],
   "source": [
    "plt.plot(species_with_cluster_sample_frac.std().sort_values().values)\n",
    "plt.axhline(0.31)"
   ]
  },
  {
   "cell_type": "code",
   "execution_count": null,
   "metadata": {},
   "outputs": [],
   "source": [
    "species_with_cluster_sample_frac.std().gt(0.2).sum()"
   ]
  },
  {
   "cell_type": "code",
   "execution_count": null,
   "metadata": {},
   "outputs": [],
   "source": [
    "d0 = species_with_cluster_sample_frac\n",
    "d1 = d0.loc[:, d0.std() > 0.2]\n",
    "y = subject.ibd_diagnosis.isin(['UC', 'CD'])\n",
    "\n",
    "gene_cluster_test = d1.apply(lambda x: sp.stats.mannwhitneyu(x[y], x[~y])).T[1].rename('pvalue')"
   ]
  },
  {
   "cell_type": "code",
   "execution_count": null,
   "metadata": {},
   "outputs": [],
   "source": [
    "from statsmodels.stats.multitest import fdrcorrection\n",
    "\n",
    "fdr_gene_cluster_test = pd.Series(fdrcorrection(gene_cluster_test)[1], index=gene_cluster_test.index)\n",
    "\n",
    "fdr_gene_cluster_test.sort_values().head(30)"
   ]
  },
  {
   "cell_type": "code",
   "execution_count": null,
   "metadata": {},
   "outputs": [],
   "source": [
    "d0 = species_with_cluster_sample_frac\n",
    "y = subject#.ibd_diagnosis.isin(['UC', 'CD'])\n",
    "\n",
    "d1 = d0.rename_axis(columns='clust_id').unstack().to_frame('frac').reset_index().join(y, on='subject_id')\n",
    "\n",
    "fig, ax = plt.subplots(figsize=(25, 10))\n",
    "lib.plot.boxplot_with_points(\n",
    "    'clust_id',\n",
    "    'frac',\n",
    "    hue='ibd_diagnosis',\n",
    "    data=d1[d1.clust_id.isin(idxwhere(fdr_gene_cluster_test < 0.15))],\n",
    "    dodge=True,\n",
    "    ax=ax)"
   ]
  },
  {
   "cell_type": "code",
   "execution_count": null,
   "metadata": {},
   "outputs": [],
   "source": [
    "d = species_with_cluster_sample_frac[idxwhere(species_with_cluster_sample_frac.columns.to_series().isin(idxwhere(fdr_gene_cluster_test < 0.2)))]\n",
    "depth = species_depth_by_subject\n",
    "depth_colors = ((depth / depth.max())**(1/4)).map(mpl.cm.viridis)\n",
    "diagnosis_colors = subject.loc[species_with_cluster_sample_frac.index].ibd_diagnosis.map({'CD': 'red', 'UC': 'pink', 'nonIBD': 'grey'})\n",
    "\n",
    "sns.clustermap(\n",
    "    d,\n",
    "    metric='cosine',\n",
    "    row_colors=depth_colors.to_frame('depth').assign(ibd=diagnosis_colors),\n",
    ")"
   ]
  },
  {
   "cell_type": "code",
   "execution_count": null,
   "metadata": {},
   "outputs": [],
   "source": [
    "reference_gene_clust_list[0], reference_gene_clust_list[10], reference_gene_clust_list[2],"
   ]
  },
  {
   "cell_type": "code",
   "execution_count": null,
   "metadata": {},
   "outputs": [],
   "source": [
    "sns.clustermap(gene_clust_depth[[4, 174, 25]], norm=mpl.colors.LogNorm())"
   ]
  },
  {
   "cell_type": "code",
   "execution_count": null,
   "metadata": {},
   "outputs": [],
   "source": [
    "d = species_with_cluster_sample_frac[[4, 174, 25]]\n",
    "depth = species_depth_by_subject\n",
    "depth_colors = ((depth / depth.max())**(1/4)).map(mpl.cm.viridis)\n",
    "diagnosis_colors = subject.loc[species_with_cluster_sample_frac.index].ibd_diagnosis.map({'CD': 'red', 'UC': 'pink', 'nonIBD': 'grey'})\n",
    "\n",
    "sns.clustermap(\n",
    "    d,\n",
    "    # metric='cosine',\n",
    "    row_colors=depth_colors.to_frame('depth').assign(ibd=diagnosis_colors),\n",
    ")"
   ]
  },
  {
   "cell_type": "code",
   "execution_count": null,
   "metadata": {},
   "outputs": [],
   "source": [
    "reference_gene_clust[reference_gene_clust.isin(idxwhere(fdr_gene_cluster_test < 0.1))].value_counts()"
   ]
  },
  {
   "cell_type": "code",
   "execution_count": null,
   "metadata": {},
   "outputs": [],
   "source": [
    "gene_meta.loc[idxwhere(reference_gene_clust == 147)]"
   ]
  },
  {
   "cell_type": "code",
   "execution_count": null,
   "metadata": {},
   "outputs": [],
   "source": [
    "strain_list = high_power_strain_list\n",
    "gene_list = idxwhere(reference_gene_clust == 147)\n",
    "\n",
    "x = strain_depth.loc[gene_list, strain_list]\n",
    "\n",
    "if len(gene_list) < 2e4:\n",
    "    sns.clustermap(\n",
    "        x,\n",
    "        metric='cosine',\n",
    "        norm=mpl.colors.SymLogNorm(linthresh=1e-4, vmin=0.1, vmax=10),\n",
    "        yticklabels=0,\n",
    "        xticklabels=0,\n",
    "        col_linkage=fit.genotype.sel(strain=strain_list).linkage(\"strain\"),\n",
    "    )\n",
    "else:\n",
    "    print(\"Too many genes for clustermap:\", len(gene_list))\n",
    "\n",
    "print(len(gene_list), len(gene_list) - gene_annotation.loc[gene_list]['product'].value_counts()['hypothetical protein'])\n",
    "print()\n",
    "print(\n",
    "    gene_annotation\n",
    "    .loc[gene_list]\n",
    "    .cog.to_frame()\n",
    "    .join(cog_meta, on='cog')\n",
    "    .pathway\n",
    "    .value_counts()\n",
    "    .sort_values(ascending=False)\n",
    "    .head(10)\n",
    ")\n",
    "print()\n",
    "print(\n",
    "    gene_meta\n",
    "    .loc[gene_list]\n",
    "    ['product']\n",
    "    .value_counts()\n",
    "    .head(10)\n",
    ")\n",
    "print()\n",
    "print(pd.merge(\n",
    "    gene_annotation.loc[gene_list].cog.dropna().to_frame(),\n",
    "    cog_x_category,\n",
    "    on='cog',\n",
    ").category.value_counts().to_frame().join(cog_category).head(10))"
   ]
  },
  {
   "cell_type": "code",
   "execution_count": null,
   "metadata": {},
   "outputs": [],
   "source": [
    "strain_list = high_power_strain_list\n",
    "gene_list = idxwhere(reference_gene_clust == 602)\n",
    "\n",
    "x = strain_depth.loc[gene_list, strain_list]\n",
    "\n",
    "if len(gene_list) < 2e4:\n",
    "    sns.clustermap(\n",
    "        x,\n",
    "        metric='cosine',\n",
    "        norm=mpl.colors.SymLogNorm(linthresh=1e-4, vmin=0.1, vmax=10),\n",
    "        yticklabels=0,\n",
    "        xticklabels=0,\n",
    "        col_linkage=fit.genotype.sel(strain=strain_list).linkage(\"strain\"),\n",
    "    )\n",
    "else:\n",
    "    print(\"Too many genes for clustermap:\", len(gene_list))\n",
    "\n",
    "print(len(gene_list), len(gene_list) - gene_annotation.loc[gene_list]['product'].value_counts()['hypothetical protein'])\n",
    "print()\n",
    "print(\n",
    "    gene_annotation\n",
    "    .loc[gene_list]\n",
    "    .cog.to_frame()\n",
    "    .join(cog_meta, on='cog')\n",
    "    .pathway\n",
    "    .value_counts()\n",
    "    .sort_values(ascending=False)\n",
    "    .head(10)\n",
    ")\n",
    "print()\n",
    "print(\n",
    "    gene_meta\n",
    "    .loc[gene_list]\n",
    "    ['product']\n",
    "    .value_counts()\n",
    "    .head(10)\n",
    ")\n",
    "print()\n",
    "print(pd.merge(\n",
    "    gene_annotation.loc[gene_list].cog.dropna().to_frame(),\n",
    "    cog_x_category,\n",
    "    on='cog',\n",
    ").category.value_counts().to_frame().join(cog_category).head(10))"
   ]
  },
  {
   "cell_type": "code",
   "execution_count": null,
   "metadata": {},
   "outputs": [],
   "source": [
    "strain_list = high_power_strain_list\n",
    "gene_list = idxwhere(reference_gene_clust == 147)\n",
    "\n",
    "x = strain_depth.loc[gene_list, strain_list]\n",
    "\n",
    "if len(gene_list) < 2e4:\n",
    "    sns.clustermap(\n",
    "        x,\n",
    "        metric='cosine',\n",
    "        norm=mpl.colors.SymLogNorm(linthresh=1e-4, vmin=0.1, vmax=10),\n",
    "        yticklabels=0,\n",
    "        xticklabels=0,\n",
    "        col_linkage=fit.genotype.sel(strain=strain_list).linkage(\"strain\"),\n",
    "    )\n",
    "else:\n",
    "    print(\"Too many genes for clustermap:\", len(gene_list))\n",
    "\n",
    "print(len(gene_list), len(gene_list) - gene_annotation.loc[gene_list]['product'].value_counts()['hypothetical protein'])\n",
    "print()\n",
    "print(\n",
    "    gene_annotation\n",
    "    .loc[gene_list]\n",
    "    .cog.to_frame()\n",
    "    .join(cog_meta, on='cog')\n",
    "    .pathway\n",
    "    .value_counts()\n",
    "    .sort_values(ascending=False)\n",
    "    .head(10)\n",
    ")\n",
    "print()\n",
    "print(\n",
    "    gene_meta\n",
    "    .loc[gene_list]\n",
    "    ['product']\n",
    "    .value_counts()\n",
    "    .head(10)\n",
    ")\n",
    "print()\n",
    "print(pd.merge(\n",
    "    gene_annotation.loc[gene_list].cog.dropna().to_frame(),\n",
    "    cog_x_category,\n",
    "    on='cog',\n",
    ").category.value_counts().to_frame().join(cog_category).head(10))"
   ]
  },
  {
   "cell_type": "code",
   "execution_count": null,
   "metadata": {},
   "outputs": [],
   "source": [
    "plt.hist(fit.community.sel(strain=high_power_strain_list).sum(\"strain\"))"
   ]
  },
  {
   "cell_type": "code",
   "execution_count": null,
   "metadata": {},
   "outputs": [],
   "source": [
    "x = species_depth / (sample_meta.sequenced_reads / 1e6)\n",
    "y = gene_clust_depth_trimmed_mean[496] / (sample_meta.sequenced_reads / 1e6)\n",
    "\n",
    "plt.scatter(x, y, s=5)\n",
    "plt.yscale('symlog', linthresh=1e-5)\n",
    "plt.xscale('symlog', linthresh=1e-5)"
   ]
  },
  {
   "cell_type": "code",
   "execution_count": null,
   "metadata": {},
   "outputs": [],
   "source": [
    "d = high_confidence_hit[high_power_strain_list].groupby(reference_gene_clust).mean().rename(int).loc[reference_gene_clust_list]\n",
    "\n",
    "sns.clustermap(\n",
    "    d + 1e-4,\n",
    "    metric='cosine',\n",
    "    col_linkage=fit.genotype.sel(strain=d.columns).linkage(),\n",
    "    col_colors=strain_meta.loc[d.columns].power_index.pipe(lambda x: x / x.max()).pipe(mpl.cm.viridis),\n",
    "    row_colors=reference_gene_clust.value_counts().loc[reference_gene_clust_list].pipe(np.log10).pipe(lambda x: x / x.max()).pipe(mpl.cm.viridis),\n",
    "    # figsize=(5, 50),\n",
    ")"
   ]
  },
  {
   "cell_type": "code",
   "execution_count": null,
   "metadata": {},
   "outputs": [],
   "source": [
    "high_confidence_hit[high_power_strain_list].groupby(reference_gene_clust).mean().rename(int).assign(clust_size=reference_gene_clust.value_counts()).sort_values('clust_size', ascending=False).head(10)"
   ]
  },
  {
   "cell_type": "code",
   "execution_count": null,
   "metadata": {},
   "outputs": [],
   "source": [
    "maybe_hit[high_power_strain_list].groupby(reference_gene_clust).mean().rename(int).assign(clust_size=reference_gene_clust.value_counts()).sort_values('clust_size', ascending=False).head(10)"
   ]
  },
  {
   "cell_type": "code",
   "execution_count": null,
   "metadata": {},
   "outputs": [],
   "source": [
    "# strain_id = 8\n",
    "gene_freq = (reference_gene > 0).mean(1).sort_values()\n",
    "# strain_content = high_confidence_hit[strain_id]\n",
    "\n",
    "window_size = 0.01\n",
    "\n",
    "def window_agg(df, by, width):\n",
    "    df = df.assign(__window_idx=(df[by] / width).round())\n",
    "    return df.groupby('__window_idx').agg(['mean', 'count']).rename(lambda x: x * width).rename_axis(index=by)\n",
    "    \n",
    "for strain_id in high_power_strain_list:\n",
    "    d = (\n",
    "        window_agg(\n",
    "            pd.DataFrame(dict(strain_content=high_confidence_hit[strain_id].astype(float).reindex(gene_freq.index, fill_value=0), gene_freq=gene_freq)),\n",
    "            by='gene_freq',\n",
    "            width=0.05\n",
    "        )\n",
    "        .strain_content\n",
    "        .reset_index()\n",
    "        .assign(delta=lambda d: d['gene_freq'] - d['mean'])\n",
    "        .assign(sqrt_count=lambda x: np.sqrt(x['count']))\n",
    "    )\n",
    "    plt.plot('gene_freq', 'mean', data=d, alpha=0.4, label='__none__')\n",
    "    plt.scatter('gene_freq', 'mean', data=d, s='sqrt_count', linewidths=1, alpha=0.2, label=(strain_id, round(strain_meta.power_index[strain_id], 1)))\n",
    "    plt.plot([0, 1], [0, 1], lw=1, linestyle='--', color='k')\n",
    "plt.legend(bbox_to_anchor=(1, 1))"
   ]
  },
  {
   "cell_type": "code",
   "execution_count": null,
   "metadata": {},
   "outputs": [],
   "source": [
    "# strain_id = 8\n",
    "gene_freq = (reference_gene > 0).mean(1).sort_values()\n",
    "# strain_content = high_confidence_hit[strain_id]\n",
    "\n",
    "window_size = 0.01\n",
    "\n",
    "def window_agg(df, by, width):\n",
    "    df = df.assign(__window_idx=(df[by] / width).round())\n",
    "    return df.groupby('__window_idx').agg(['mean', 'count']).rename(lambda x: x * width).rename_axis(index=by)\n",
    "    \n",
    "for strain_id in idxwhere(strain_meta.power_index < 1):\n",
    "    d = (\n",
    "        window_agg(\n",
    "            pd.DataFrame(dict(strain_content=high_confidence_hit[strain_id].astype(float).reindex(gene_freq.index, fill_value=0), gene_freq=gene_freq)),\n",
    "            by='gene_freq',\n",
    "            width=0.05\n",
    "        )\n",
    "        .strain_content\n",
    "        .reset_index()\n",
    "        .assign(delta=lambda d: d['gene_freq'] - d['mean'])\n",
    "        .assign(sqrt_count=lambda x: np.sqrt(x['count']))\n",
    "    )\n",
    "    plt.plot('gene_freq', 'mean', data=d, alpha=0.4, label='__none__')\n",
    "    plt.scatter('gene_freq', 'mean', data=d, s='sqrt_count', linewidths=1, alpha=0.2, label=(strain_id, round(strain_meta.power_index[strain_id], 1)))\n",
    "    plt.plot([0, 1], [0, 1], lw=1, linestyle='--', color='k')\n",
    "plt.legend(bbox_to_anchor=(1, 1))"
   ]
  },
  {
   "cell_type": "code",
   "execution_count": null,
   "metadata": {},
   "outputs": [],
   "source": [
    "# strain_id = 8\n",
    "gene_freq = (reference_gene > 0).mean(1).sort_values()\n",
    "# strain_content = high_confidence_hit[strain_id]\n",
    "\n",
    "window_size = 0.01\n",
    "\n",
    "def window_agg(df, by, width):\n",
    "    df = df.assign(__window_idx=(df[by] / width).round())\n",
    "    return df.groupby('__window_idx').agg(['mean', 'count']).rename(lambda x: x * width).rename_axis(index=by)\n",
    "    \n",
    "for strain_id in reference_gene.columns.to_series().sample(10):\n",
    "    d = (\n",
    "        window_agg(\n",
    "            pd.DataFrame(dict(strain_content=(reference_gene > 0)[strain_id].astype(float).reindex(gene_freq.index, fill_value=0), gene_freq=gene_freq)),\n",
    "            by='gene_freq',\n",
    "            width=0.05\n",
    "        )\n",
    "        .strain_content\n",
    "        .reset_index()\n",
    "        .assign(delta=lambda d: d['gene_freq'] - d['mean'])\n",
    "        .assign(sqrt_count=lambda x: np.sqrt(x['count']))\n",
    "    )\n",
    "    plt.plot('gene_freq', 'mean', data=d, alpha=0.4, label='__none__')\n",
    "    plt.scatter('gene_freq', 'mean', data=d, s='sqrt_count', linewidths=1, alpha=0.2, label=strain_id)\n",
    "    plt.plot([0, 1], [0, 1], lw=1, linestyle='--', color='k')\n",
    "plt.legend(bbox_to_anchor=(1, 1))"
   ]
  },
  {
   "cell_type": "code",
   "execution_count": null,
   "metadata": {},
   "outputs": [],
   "source": [
    "# strain_id = 8\n",
    "gene_freq = (reference_gene > 0).mean(1).sort_values()\n",
    "# strain_content = high_confidence_hit[strain_id]\n",
    "\n",
    "window_size = 0.01\n",
    "\n",
    "def window_agg(df, by, width):\n",
    "    df = df.assign(__window_idx=(df[by] / width).round())\n",
    "    return df.groupby('__window_idx').agg(['mean', 'count']).rename(lambda x: x * width).rename_axis(index=by)\n",
    "    \n",
    "for strain_id in isolate_gene.columns.to_series().sample(10):\n",
    "    d = (\n",
    "        window_agg(\n",
    "            pd.DataFrame(dict(strain_content=(reference_gene > 0)[strain_id].astype(float).reindex(gene_freq.index, fill_value=0), gene_freq=gene_freq)),\n",
    "            by='gene_freq',\n",
    "            width=0.05\n",
    "        )\n",
    "        .strain_content\n",
    "        .reset_index()\n",
    "        .assign(delta=lambda d: d['gene_freq'] - d['mean'])\n",
    "        .assign(sqrt_count=lambda x: np.sqrt(x['count']))\n",
    "    )\n",
    "    plt.plot('gene_freq', 'mean', data=d, alpha=0.4, label='__none__')\n",
    "    plt.scatter('gene_freq', 'mean', data=d, s='sqrt_count', linewidths=1, alpha=0.2, label=strain_id)\n",
    "    plt.plot([0, 1], [0, 1], lw=1, linestyle='--', color='k')\n",
    "plt.legend(bbox_to_anchor=(1, 1))"
   ]
  }
 ],
 "metadata": {
  "kernelspec": {
   "display_name": "Python 3 (ipykernel)",
   "language": "python",
   "name": "python3"
  },
  "language_info": {
   "codemirror_mode": {
    "name": "ipython",
    "version": 3
   },
   "file_extension": ".py",
   "mimetype": "text/x-python",
   "name": "python",
   "nbconvert_exporter": "python",
   "pygments_lexer": "ipython3",
   "version": "3.10.11"
  }
 },
 "nbformat": 4,
 "nbformat_minor": 5
}