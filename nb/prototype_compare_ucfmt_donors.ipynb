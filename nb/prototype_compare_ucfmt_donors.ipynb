{
 "cells": [
  {
   "cell_type": "markdown",
   "metadata": {},
   "source": [
    "## Preamble"
   ]
  },
  {
   "cell_type": "markdown",
   "metadata": {},
   "source": [
    "### Project Template"
   ]
  },
  {
   "cell_type": "code",
   "execution_count": null,
   "metadata": {},
   "outputs": [],
   "source": [
    "%load_ext autoreload"
   ]
  },
  {
   "cell_type": "code",
   "execution_count": null,
   "metadata": {},
   "outputs": [],
   "source": [
    "import os as _os\n",
    "\n",
    "_os.chdir(_os.environ[\"PROJECT_ROOT\"])\n",
    "_os.path.realpath(_os.path.curdir)"
   ]
  },
  {
   "cell_type": "markdown",
   "metadata": {},
   "source": [
    "### Imports"
   ]
  },
  {
   "cell_type": "code",
   "execution_count": null,
   "metadata": {},
   "outputs": [],
   "source": [
    "import os\n",
    "import subprocess\n",
    "import sys\n",
    "import time\n",
    "from datetime import datetime\n",
    "from glob import glob\n",
    "from itertools import chain, product\n",
    "from tempfile import mkstemp\n",
    "\n",
    "import matplotlib as mpl\n",
    "import matplotlib.pyplot as plt\n",
    "import numpy as np\n",
    "import pandas as pd\n",
    "import scipy as sp\n",
    "import seaborn as sns\n",
    "import sfacts as sf\n",
    "import statsmodels.api as sm\n",
    "import statsmodels.formula.api as smf\n",
    "import xarray as xr\n",
    "from mpl_toolkits.axes_grid1 import make_axes_locatable\n",
    "from statsmodels.stats.multitest import fdrcorrection\n",
    "from tqdm import tqdm\n",
    "\n",
    "import lib.plot\n",
    "from lib.dissimilarity import load_dmat_as_pickle\n",
    "from lib.pandas_util import align_indexes, aligned_index, idxwhere, invert_mapping"
   ]
  },
  {
   "cell_type": "code",
   "execution_count": null,
   "metadata": {},
   "outputs": [],
   "source": [
    "import lib.thisproject.data"
   ]
  },
  {
   "cell_type": "markdown",
   "metadata": {},
   "source": [
    "### Set Style"
   ]
  },
  {
   "cell_type": "code",
   "execution_count": null,
   "metadata": {},
   "outputs": [],
   "source": [
    "sns.set_context(\"talk\")\n",
    "plt.rcParams[\"figure.dpi\"] = 50"
   ]
  },
  {
   "cell_type": "code",
   "execution_count": null,
   "metadata": {},
   "outputs": [],
   "source": [
    "genome_type_palette = {\"SPGC\": \"tab:green\", \"MAG\": \"tab:orange\", \"Isolate\": \"tab:blue\"}"
   ]
  },
  {
   "cell_type": "markdown",
   "metadata": {},
   "source": [
    "## Parameters"
   ]
  },
  {
   "cell_type": "code",
   "execution_count": null,
   "metadata": {},
   "outputs": [],
   "source": [
    "group_id = \"xjin_ucfmt_hmp2\"\n",
    "# species = '101337'  # 101433, 101337, 100236"
   ]
  },
  {
   "cell_type": "markdown",
   "metadata": {},
   "source": [
    "## Data Setup"
   ]
  },
  {
   "cell_type": "markdown",
   "metadata": {},
   "source": [
    "### Metadata"
   ]
  },
  {
   "cell_type": "markdown",
   "metadata": {},
   "source": [
    "#### Taxonomy"
   ]
  },
  {
   "cell_type": "code",
   "execution_count": null,
   "metadata": {},
   "outputs": [],
   "source": [
    "species_list = (\n",
    "    pd.read_table(\"meta/species_group.tsv\")[lambda x: x.species_group_id == group_id]\n",
    "    .species_id.astype(str)\n",
    "    .unique()\n",
    ")"
   ]
  },
  {
   "cell_type": "code",
   "execution_count": null,
   "metadata": {},
   "outputs": [],
   "source": [
    "def parse_taxonomy_string(taxonomy_string):\n",
    "    values = taxonomy_string.split(\";\")\n",
    "    return pd.Series(values, index=[\"d__\", \"p__\", \"c__\", \"o__\", \"f__\", \"g__\", \"s__\"])"
   ]
  },
  {
   "cell_type": "code",
   "execution_count": null,
   "metadata": {},
   "outputs": [],
   "source": [
    "species_taxonomy_inpath = \"ref/uhgg_genomes_all_v2.tsv\"\n",
    "\n",
    "species_taxonomy = (\n",
    "    pd.read_table(species_taxonomy_inpath)[lambda x: x.Genome == x.Species_rep]\n",
    "    .assign(species_id=lambda x: \"1\" + x.MGnify_accession.str.split(\"-\").str[2])\n",
    "    .set_index(\"species_id\")\n",
    "    .Lineage.apply(parse_taxonomy_string)\n",
    ")"
   ]
  },
  {
   "cell_type": "markdown",
   "metadata": {},
   "source": [
    "#### Samples"
   ]
  },
  {
   "cell_type": "code",
   "execution_count": null,
   "metadata": {},
   "outputs": [],
   "source": [
    "mgen = pd.read_table(\"meta/ucfmt/mgen.tsv\", index_col=\"mgen_id\")\n",
    "sample = pd.read_table(\"meta/ucfmt/sample.tsv\", index_col=\"sample_id\")\n",
    "subject = pd.read_table(\"meta/ucfmt/subject.tsv\", index_col=\"subject_id\")\n",
    "assert mgen.sample_id.isin(sample.index).all()\n",
    "\n",
    "mgen_meta = mgen.join(sample, on=\"sample_id\").join(subject, on=\"subject_id\")"
   ]
  },
  {
   "cell_type": "code",
   "execution_count": null,
   "metadata": {},
   "outputs": [],
   "source": [
    "subject_and_donor_list = list(\n",
    "    mgen_meta[lambda x: x.donor_subject_id.isin([\"D0044\", \"D0097\"])]\n",
    "    .sort_values([\"donor_subject_id\"])\n",
    "    .subject_id.unique()\n",
    ")\n",
    "subject_list = list(\n",
    "    mgen_meta[lambda x: x.recipient & x.donor_subject_id.isin([\"D0044\", \"D0097\"])]\n",
    "    .sort_values([\"donor_subject_id\"])\n",
    "    .subject_id.unique()\n",
    ")\n",
    "subject_palette = lib.plot.construct_ordered_palette(subject_and_donor_list)"
   ]
  },
  {
   "cell_type": "code",
   "execution_count": null,
   "metadata": {},
   "outputs": [],
   "source": [
    "mgen_list = list(mgen_meta.index)"
   ]
  },
  {
   "cell_type": "code",
   "execution_count": null,
   "metadata": {},
   "outputs": [],
   "source": [
    "d97_mgen_list = idxwhere(mgen_meta.subject_id == \"D0097\")\n",
    "d44_mgen_list = idxwhere(mgen_meta.subject_id == \"D0044\")\n",
    "\n",
    "(len(d97_mgen_list), len(d44_mgen_list))"
   ]
  },
  {
   "cell_type": "markdown",
   "metadata": {},
   "source": [
    "### Quick result for Jacqueline Moltzau"
   ]
  },
  {
   "cell_type": "code",
   "execution_count": null,
   "metadata": {},
   "outputs": [],
   "source": [
    "for _species in [\"101337\", \"101433\", \"100236\"]:\n",
    "    world_all = sf.data.World.load(\n",
    "        f\"data/group/{group_id}/species/sp-{_species}/r.proc.gtpro.sfacts-fit.world.nc\"\n",
    "    ).drop_low_abundance_strains(0.01)\n",
    "    _mgen_list = list(set(mgen_list) & set(world_all.sample.values))\n",
    "    if not _mgen_list:\n",
    "        print(f\"Missing data for {_species}.\")\n",
    "        continue\n",
    "\n",
    "    world = world_all.sel(sample=_mgen_list).drop_low_abundance_strains(0.01)\n",
    "\n",
    "    sample_linkage = world.unifrac_linkage()\n",
    "    world_ss = world.random_sample(position=500)\n",
    "\n",
    "    d = (\n",
    "        world.community.to_series()[lambda x: x > 0.1]\n",
    "        .to_frame()\n",
    "        .reset_index()\n",
    "        .rename(columns=dict(sample=\"mgen_id\"))\n",
    "        .join(mgen_meta, on=\"mgen_id\")\n",
    "        .assign(\n",
    "            sample_class=lambda x: x.sample_type.replace(\n",
    "                {\n",
    "                    # Padding and renaming\n",
    "                    \"baseline\": \"baseline\",\n",
    "                    \"donor\": \"    donor\",\n",
    "                    \"maintenance\": \"     other\",\n",
    "                    \"followup\": \"     other\",\n",
    "                    \"post_antibiotic\": \"     other\",\n",
    "                }\n",
    "            )\n",
    "        )\n",
    "        .groupby([\"donor_subject_id\", \"subject_id\", \"sample_class\"])\n",
    "        .strain.value_counts()\n",
    "        .unstack(\"strain\", fill_value=0)\n",
    "        .sort_index(ascending=[True, True, False])\n",
    "    )\n",
    "\n",
    "    strain_order = d.sum().sort_values(ascending=False).index\n",
    "    d = d.loc[:, strain_order]\n",
    "\n",
    "    nrow, ncol = d.shape\n",
    "    fig, ax = plt.subplots(figsize=(0.4 * ncol + 0.5, 0.5 * nrow + 1))\n",
    "    sns.heatmap(d, norm=mpl.colors.PowerNorm(1 / 3), annot=True, cbar=False, ax=ax)\n",
    "    ax.set_title((_species, species_taxonomy.loc[_species].s__))"
   ]
  },
  {
   "cell_type": "markdown",
   "metadata": {},
   "source": [
    "### Closest references"
   ]
  },
  {
   "cell_type": "code",
   "execution_count": null,
   "metadata": {},
   "outputs": [],
   "source": [
    "_species = \"101337\"\n",
    "\n",
    "world_all = sf.data.World.load(\n",
    "    f\"data/group/{group_id}/species/sp-{_species}/r.proc.gtpro.sfacts-fit.world.nc\"\n",
    ").drop_low_abundance_strains(0.01)\n",
    "_mgen_list = list(set(mgen_list) & set(world_all.sample.values))\n",
    "\n",
    "assert _mgen_list\n",
    "\n",
    "world = world_all.sel(sample=_mgen_list).drop_low_abundance_strains(0.01)\n",
    "\n",
    "sample_linkage = world.unifrac_linkage()\n",
    "world_ss = world.random_sample(position=500)\n",
    "\n",
    "d = (\n",
    "    world.community.to_series()[lambda x: x > 0.1]\n",
    "    .to_frame()\n",
    "    .reset_index()\n",
    "    .rename(columns=dict(sample=\"mgen_id\"))\n",
    "    .join(mgen_meta, on=\"mgen_id\")\n",
    "    .assign(\n",
    "        sample_class=lambda x: x.sample_type.replace(\n",
    "            {\n",
    "                # Padding and renaming\n",
    "                \"baseline\": \"baseline\",\n",
    "                \"donor\": \"    donor\",\n",
    "                \"maintenance\": \"     other\",\n",
    "                \"followup\": \"     other\",\n",
    "                \"post_antibiotic\": \"     other\",\n",
    "            }\n",
    "        )\n",
    "    )\n",
    "    .groupby([\"donor_subject_id\", \"subject_id\", \"sample_class\"])\n",
    "    .strain.value_counts()\n",
    "    .unstack(\"strain\", fill_value=0)\n",
    "    .sort_index(ascending=[True, True, False])\n",
    ")\n",
    "\n",
    "strain_order = d.sum().sort_values(ascending=False).index\n",
    "d = d.loc[:, strain_order]\n",
    "\n",
    "nrow, ncol = d.shape\n",
    "fig, ax = plt.subplots(figsize=(0.4 * ncol + 0.5, 0.5 * nrow + 1))\n",
    "sns.heatmap(d, norm=mpl.colors.PowerNorm(1 / 3), annot=True, cbar=False, ax=ax)\n",
    "ax.set_title((_species, species_taxonomy.loc[_species].s__))"
   ]
  },
  {
   "cell_type": "code",
   "execution_count": null,
   "metadata": {},
   "outputs": [],
   "source": [
    "species_id = \"101337\""
   ]
  },
  {
   "cell_type": "code",
   "execution_count": null,
   "metadata": {},
   "outputs": [],
   "source": [
    "ref_mgtp = sf.data.Metagenotype.load(\n",
    "    f\"data/species/sp-{species_id}/midasdb_v15.gtpro.mgtp.nc\"\n",
    ")  # .rename_coords(sample=lambda s: 'UHGG' + s[len('GUT_GENOME'):])#.to_estimated_genotype(fillna=False)\n",
    "# data/species/sp-101337/midasdb_v15.gtpro.mgtp.nc\n",
    "spgc_mgtp = sf.data.Metagenotype.load(\n",
    "    f\"data/group/{group_id}/species/sp-{species_id}/r.proc.gtpro.sfacts-fit.spgc_ss-all.mgtp.nc\"\n",
    ").rename_coords(\n",
    "    sample=str\n",
    ")  # .to_estimated_genotype(fillna=False)\n",
    "isolate_mgtp = sf.data.Metagenotype.load(\n",
    "    f\"data/group/ucfmt/species/sp-{species_id}/strain_genomes.gtpro.mgtp.nc\"\n",
    ")\n",
    "\n",
    "all_mgtp = sf.data.Metagenotype.concat(\n",
    "    {\"ref\": ref_mgtp, \"spgc\": spgc_mgtp, \"iso\": isolate_mgtp},\n",
    "    dim=\"sample\",\n",
    "    rename=False,\n",
    ")\n",
    "all_geno = all_mgtp.to_estimated_genotype().discretized(max_ambiguity=0.1)"
   ]
  },
  {
   "cell_type": "raw",
   "metadata": {},
   "source": [
    "# Look at the focal strains and look for the closest reference genotypes. This will be found in the pdist table.\n",
    "from lib.dissimilarity import load_dmat_as_pickle\n",
    "\n",
    "dmat = load_dmat_as_pickle(f'data/group/{group_id}/species/sp-{species_id}/r.proc.gtpro.sfacts-fit.spgc_ss-all.geno_uhgg-v15_pdist-mask10-pseudo10.pkl')\n",
    "\n",
    "ucfmt_strain_list = ['1', '3']\n",
    "strain_list = []\n",
    "for strain in ucfmt_strain_list:\n",
    "    strain_list.extend(dmat[strain].sort_values().head(50).index)\n",
    "strain_list = list(set(strain_list))"
   ]
  },
  {
   "cell_type": "code",
   "execution_count": null,
   "metadata": {},
   "outputs": [],
   "source": [
    "from scripts.calculate_ref_and_spgc_pairwise_genotype_masked_hamming_distance import (\n",
    "    native_masked_hamming_distance_pdist,\n",
    ")\n",
    "\n",
    "geno_cdmat = native_masked_hamming_distance_pdist(all_geno.values, pseudo=1.0)\n",
    "\n",
    "all_geno_pdist = pd.DataFrame(\n",
    "    squareform(geno_cdmat), index=all_geno.strain, columns=all_geno.strain\n",
    ")\n",
    "all_geno_pdist"
   ]
  },
  {
   "cell_type": "code",
   "execution_count": null,
   "metadata": {},
   "outputs": [],
   "source": [
    "all_geno_pdist[\"Bacteroides-fragilis-VPI-2553\"].sort_values().head(50)"
   ]
  },
  {
   "cell_type": "code",
   "execution_count": null,
   "metadata": {},
   "outputs": [],
   "source": [
    "all_geno_pdist[\"Bacteroides-fragilis-VPI-2553\"].loc[[\"1\", \"3\"]]"
   ]
  },
  {
   "cell_type": "code",
   "execution_count": null,
   "metadata": {},
   "outputs": [],
   "source": [
    "from scipy.spatial.distance import squareform\n",
    "\n",
    "plt.hist(squareform(all_geno_pdist), bins=100)\n",
    "None"
   ]
  },
  {
   "cell_type": "code",
   "execution_count": null,
   "metadata": {},
   "outputs": [],
   "source": [
    "all_geno_linkage = sp.cluster.hierarchy.linkage(\n",
    "    geno_cdmat, method=\"average\", optimal_ordering=True\n",
    ")"
   ]
  },
  {
   "cell_type": "code",
   "execution_count": null,
   "metadata": {},
   "outputs": [],
   "source": [
    "np.random.seed(0)\n",
    "all_geno_ss = all_geno.random_sample(position=1000)\n",
    "all_geno_ss_pos_linkage = sp.cluster.hierarchy.linkage(\n",
    "    np.nan_to_num(all_geno_ss.values, nan=0.5).T,\n",
    "    method=\"average\",\n",
    "    metric=\"correlation\",\n",
    "    optimal_ordering=True,\n",
    ")\n",
    "\n",
    "sf.plot.plot_genotype(\n",
    "    all_geno_ss,\n",
    "    row_linkage_func=lambda w: all_geno_linkage,\n",
    "    col_linkage_func=lambda w: all_geno_ss_pos_linkage,\n",
    ")"
   ]
  },
  {
   "cell_type": "code",
   "execution_count": null,
   "metadata": {},
   "outputs": [],
   "source": [
    "all_geno_pdist[ucfmt_strain_list].stack()[lambda x: x < 0.01].sort_values().head(50)"
   ]
  },
  {
   "cell_type": "code",
   "execution_count": null,
   "metadata": {},
   "outputs": [],
   "source": [
    "all_geno_pdist[\"3\"][lambda x: (x < 0.01) & x.index.str.startswith(\"GUT_GENOME\")]"
   ]
  },
  {
   "cell_type": "code",
   "execution_count": null,
   "metadata": {},
   "outputs": [],
   "source": [
    "reference_genome_meta = (\n",
    "    pd.read_table(\n",
    "        \"ref/midasdb_uhgg_v15/metadata/2023-11-11-genomes-all_metadata.tsv\",\n",
    "        names=[\n",
    "            \"Genome\",\n",
    "            \"Genome_type\",\n",
    "            \"Length\",\n",
    "            \"N_contigs\",\n",
    "            \"N50\",\n",
    "            \"GC_content\",\n",
    "            \"Completeness\",\n",
    "            \"Contamination\",\n",
    "            \"rRNA_5S\",\n",
    "            \"rRNA_16S\",\n",
    "            \"rRNA_23S\",\n",
    "            \"tRNAs\",\n",
    "            \"Genome_accession\",\n",
    "            \"Species_rep\",\n",
    "            \"Lineage\",\n",
    "            \"Sample_accession\",\n",
    "            \"Study_accession\",\n",
    "            \"Country\",\n",
    "            \"Continent\",\n",
    "            \"FTP_download\",\n",
    "            \"_20\",\n",
    "            \"_21\",\n",
    "        ],\n",
    "        index_col=[\"Genome_accession\"],\n",
    "    )\n",
    "    .assign(\n",
    "        species_id=lambda x: \"1\" + x.Species_rep.str[len(\"MGYG0000\") :],\n",
    "    )[lambda x: x.species_id == species_id]\n",
    "    .rename_axis(index=\"genome_id\")\n",
    "    # .rename(index=lambda x: \"UHGG\" + x[len(\"GUT_GENOME\") :])\n",
    "    .rename(\n",
    "        columns={\n",
    "            \"Genome_type\": \"genome_type\",\n",
    "            \"Completeness\": \"completeness\",\n",
    "            \"Contamination\": \"contamination\",\n",
    "        }\n",
    "    )\n",
    ")"
   ]
  },
  {
   "cell_type": "raw",
   "metadata": {},
   "source": [
    "reference_genome_meta = pd.read_table('ref/midasdb_uhgg_v15/metadata/2023-11-11-genomes-all_metadata.tsv')#\n",
    "reference_genome_meta#, index_col='Genome')"
   ]
  },
  {
   "cell_type": "code",
   "execution_count": null,
   "metadata": {},
   "outputs": [],
   "source": [
    "all_geno_pdist[\"1\"][lambda x: (x < 0.01)]"
   ]
  },
  {
   "cell_type": "code",
   "execution_count": null,
   "metadata": {},
   "outputs": [],
   "source": [
    "reference_genome_meta.columns"
   ]
  },
  {
   "cell_type": "code",
   "execution_count": null,
   "metadata": {},
   "outputs": [],
   "source": []
  },
  {
   "cell_type": "code",
   "execution_count": null,
   "metadata": {},
   "outputs": [],
   "source": [
    "reference_genome_meta.assign(distance_to_strain_1=all_geno_pdist[\"1\"]).sort_values(\n",
    "    \"distance_to_strain_1\"\n",
    ")[\n",
    "    [\n",
    "        \"genome_type\",\n",
    "        \"Length\",\n",
    "        \"N_contigs\",\n",
    "        \"N50\",\n",
    "        \"completeness\",\n",
    "        \"contamination\",\n",
    "        \"Sample_accession\",\n",
    "        \"Study_accession\",\n",
    "        \"distance_to_strain_1\",\n",
    "    ]\n",
    "][lambda x: x.genome_type == 'Isolate']\n",
    "# & x.index.str.startswith(\"UHGG\")]\n",
    "#     .rename(lambda s: \"GUT_GENOME\" + s[len(\"UHGG\") :])\n",
    "#     .index\n",
    "# ]"
   ]
  },
  {
   "cell_type": "code",
   "execution_count": null,
   "metadata": {},
   "outputs": [],
   "source": [
    "reference_genome_meta.assign(distance_to_strain_1=all_geno_pdist[\"3\"]).sort_values(\n",
    "    \"distance_to_strain_1\"\n",
    ")[\n",
    "    [\n",
    "        \"genome_type\",\n",
    "        \"Length\",\n",
    "        \"N_contigs\",\n",
    "        \"N50\",\n",
    "        \"completeness\",\n",
    "        \"contamination\",\n",
    "        \"Sample_accession\",\n",
    "        \"Study_accession\",\n",
    "        \"distance_to_strain_1\",\n",
    "    ]\n",
    "][lambda x: x.genome_type == 'Isolate']\n",
    "# & x.index.str.startswith(\"UHGG\")]\n",
    "#     .rename(lambda s: \"GUT_GENOME\" + s[len(\"UHGG\") :])\n",
    "#     .index\n",
    "# ]"
   ]
  },
  {
   "cell_type": "code",
   "execution_count": null,
   "metadata": {},
   "outputs": [],
   "source": [
    "dmat[\"3\"].to_frame(\"snp_diss\").rename(lambda s: \"GUT_GENOME\" + s[len(\"UHGG\") :]).join(\n",
    "    reference_genome_meta\n",
    ").dropna()[lambda x: x.Genome_type == \"Isolate\"].sort_values(\"snp_diss\")"
   ]
  },
  {
   "cell_type": "code",
   "execution_count": null,
   "metadata": {},
   "outputs": [],
   "source": [
    "dmat[\"1\"].to_frame(\"snp_diss\").rename(lambda s: \"GUT_GENOME\" + s[len(\"UHGG\") :]).join(\n",
    "    reference_genome_meta\n",
    ").dropna()[lambda x: x.Genome_type == \"Isolate\"].sort_values(\"snp_diss\")"
   ]
  },
  {
   "cell_type": "code",
   "execution_count": null,
   "metadata": {},
   "outputs": [],
   "source": [
    "reference_genome_meta.loc[\n",
    "    dmat[\"3\"][lambda x: (x < 0.01) & x.index.str.startswith(\"UHGG\")]\n",
    "    .rename(lambda s: \"GUT_GENOME\" + s[len(\"UHGG\") :])\n",
    "    .index\n",
    "]"
   ]
  },
  {
   "cell_type": "code",
   "execution_count": null,
   "metadata": {},
   "outputs": [],
   "source": [
    "print(\n",
    "    \"\\n\".join(\n",
    "        dmat[\"1\"][lambda x: (x < 0.01) & x.index.str.startswith(\"UHGG\")]\n",
    "        .rename(lambda s: \"MGYG-HGUT-0\" + s[len(\"UHGG\") :])\n",
    "        .index\n",
    "    )\n",
    ")"
   ]
  },
  {
   "cell_type": "code",
   "execution_count": null,
   "metadata": {},
   "outputs": [],
   "source": [
    "sf.plot.plot_metagenotype(all_mgtp.sel(sample=strain_list), scalex=0.3)"
   ]
  },
  {
   "cell_type": "code",
   "execution_count": null,
   "metadata": {},
   "outputs": [],
   "source": [
    "w = sf.data.World.load(\n",
    "    f\"data/group/xjin_ucfmt_hmp2/species/sp-{_species}/r.proc.gtpro.filt-poly05-cvrg05.ss-g10000-block0-seed0.fit-sfacts37-s85-seed0.world.nc\"\n",
    ").rename_coords(strain=str)\n",
    "w.community.to_pandas()[\"4\"].sort_values(ascending=False).head(10)"
   ]
  },
  {
   "cell_type": "markdown",
   "metadata": {},
   "source": [
    "### Strains"
   ]
  },
  {
   "cell_type": "code",
   "execution_count": null,
   "metadata": {},
   "outputs": [],
   "source": [
    "species = \"102506\""
   ]
  },
  {
   "cell_type": "code",
   "execution_count": null,
   "metadata": {},
   "outputs": [],
   "source": [
    "species_taxonomy.loc[species]"
   ]
  },
  {
   "cell_type": "raw",
   "metadata": {},
   "source": [
    "species_taxonomy[species_taxonomy.s__.str.contains('fragilis')]"
   ]
  },
  {
   "cell_type": "code",
   "execution_count": null,
   "metadata": {},
   "outputs": [],
   "source": [
    "world_all = sf.data.World.load(\n",
    "    f\"data/group/{group}/species/sp-{species}/r.proc.gtpro.sfacts-fit.world.nc\"\n",
    ").drop_low_abundance_strains(0.01)\n",
    "_mgen_list = list(set(mgen_list) & set(world_all.sample.values))\n",
    "assert mgen_list\n",
    "world = world_all.sel(sample=_mgen_list).drop_low_abundance_strains(0.01)\n",
    "print(world_all.sizes)\n",
    "print(world.sizes)\n",
    "\n",
    "sample_linkage = world.unifrac_linkage()\n",
    "world_ss = world.random_sample(position=500)\n",
    "mgen_colors = pd.DataFrame(\n",
    "    dict(\n",
    "        subject=mgen_meta.subject_id.map(subject_palette),\n",
    "        donor=mgen_meta.donor_subject_id.map(subject_palette),\n",
    "    )\n",
    ")\n",
    "\n",
    "sf.plot.plot_metagenotype(\n",
    "    world_ss,\n",
    "    col_linkage_func=lambda w: sample_linkage,\n",
    "    row_linkage_func=lambda w: w.genotype.linkage(\"position\"),\n",
    "    col_colors=mgen_colors,\n",
    ")\n",
    "sf.plot.plot_community(\n",
    "    world_ss,\n",
    "    col_linkage_func=lambda w: sample_linkage,\n",
    "    row_linkage_func=lambda w: w.genotype.linkage(\"strain\"),\n",
    "    col_colors=mgen_colors,\n",
    ")"
   ]
  },
  {
   "cell_type": "code",
   "execution_count": null,
   "metadata": {},
   "outputs": [],
   "source": [
    "d = (\n",
    "    world.community.to_pandas()\n",
    "    .rename(index=dict(sample=\"mgen_id\"))\n",
    "    # Drop donor samples and all but follow-ups.\n",
    "    .drop(\n",
    "        idxwhere((~mgen_meta.recipient) | (mgen_meta.sample_type != \"followup\")),\n",
    "        errors=\"ignore\",\n",
    "    )\n",
    "    .gt(0.2)\n",
    "    .groupby(mgen_meta.subject_id)\n",
    "    # .join(mgen_meta, on=\"mgen_id\")\n",
    "    .any()\n",
    "    .groupby(subject.donor_subject_id)\n",
    "    .sum()\n",
    "    .stack()\n",
    "    .sort_values(ascending=False)\n",
    "    # .groupby('donor_subject_id').head(1).to_frame(\"num_subjects\")\n",
    "    # .reset_index()\n",
    ")\n",
    "\n",
    "(\n",
    "    d\n",
    "    # .groupby('donor_subject_id').head(1)\n",
    "    .head()\n",
    ")"
   ]
  },
  {
   "cell_type": "code",
   "execution_count": null,
   "metadata": {},
   "outputs": [],
   "source": [
    "strain_gene = pd.read_table(\n",
    "    f\"data/group/{group}/species/sp-{species}/r.proc.gtpro.sfacts-fit.gene99_new-v22-agg75.spgc-fit.uhgg-strain_gene.tsv\"\n",
    ")\n",
    "strain_gene[[\"8\", \"1\"]].value_counts()"
   ]
  },
  {
   "cell_type": "code",
   "execution_count": null,
   "metadata": {},
   "outputs": [],
   "source": []
  }
 ],
 "metadata": {
  "kernelspec": {
   "display_name": "toolz2",
   "language": "python",
   "name": "toolz2"
  },
  "language_info": {
   "codemirror_mode": {
    "name": "ipython",
    "version": 3
   },
   "file_extension": ".py",
   "mimetype": "text/x-python",
   "name": "python",
   "nbconvert_exporter": "python",
   "pygments_lexer": "ipython3",
   "version": "3.10.12"
  }
 },
 "nbformat": 4,
 "nbformat_minor": 5
}