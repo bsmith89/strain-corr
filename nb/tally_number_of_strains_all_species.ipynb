{
 "cells": [
  {
   "cell_type": "code",
   "execution_count": null,
   "metadata": {},
   "outputs": [],
   "source": [
    "%load_ext autoreload"
   ]
  },
  {
   "cell_type": "code",
   "execution_count": null,
   "metadata": {},
   "outputs": [],
   "source": [
    "import os as _os\n",
    "_os.chdir(_os.environ['PROJECT_ROOT'])\n",
    "_os.path.realpath(_os.path.curdir)"
   ]
  },
  {
   "cell_type": "markdown",
   "metadata": {},
   "source": [
    "#### Imports"
   ]
  },
  {
   "cell_type": "code",
   "execution_count": null,
   "metadata": {},
   "outputs": [],
   "source": [
    "import pandas as pd\n",
    "import numpy as np\n",
    "import scipy as sp\n",
    "import matplotlib.pyplot as plt\n",
    "import seaborn as sns\n",
    "import xarray as xr\n",
    "from lib.pandas_util import idxwhere, aligned_index, align_indexes, invert_mapping\n",
    "import lib.thisproject.data\n",
    "import matplotlib as mpl\n",
    "import lib.plot\n",
    "import statsmodels as sm\n",
    "from statsmodels.stats.multitest import fdrcorrection\n",
    "from tqdm import tqdm\n",
    "import subprocess\n",
    "from tempfile import mkstemp\n",
    "import time\n",
    "import subprocess\n",
    "from itertools import chain\n",
    "import os\n",
    "from itertools import product\n",
    "from mpl_toolkits.axes_grid1 import make_axes_locatable\n",
    "import sfacts as sf\n",
    "import lib.thisproject.data"
   ]
  },
  {
   "cell_type": "code",
   "execution_count": null,
   "metadata": {},
   "outputs": [],
   "source": [
    "species_depth = lib.thisproject.data.load_species_depth(\"data/group/xjin_hmp2/r.proc.gtpro.species_depth.tsv\")\n",
    "# species_depth_subset = lib.thisproject.data.load_species_depth(path['all_species_depth_subset'])\n",
    "rabund = species_depth.apply(lambda x: x / x.sum(), axis=1)\n",
    "# rabund_subset = species_depth_subset.apply(lambda x: x / x.sum(), axis=1)\n",
    "\n",
    "n_species = 40\n",
    "top_species = (species_depth > 1e-3).sum().sort_values(ascending=False).head(n_species).index\n",
    "\n",
    "fig, axs = plt.subplots(n_species, figsize=(5, 0.25 * n_species), sharex=True, sharey=True)\n",
    "\n",
    "bins = np.logspace(-3, 4, num=51)\n",
    "\n",
    "for species_id, ax in zip(top_species, axs):\n",
    "    # ax.hist(rabund_subset[species_id], bins=bins, alpha=0.7)\n",
    "    ax.hist(species_depth[species_id], bins=bins, alpha=0.7)\n",
    "    ax.set_xscale('log')\n",
    "    prevalence = (species_depth[species_id] > 1e-3).mean()\n",
    "    ax.set_title(\"\")\n",
    "    # ax.set_xticks()\n",
    "    # ax.set_yticks()\n",
    "    ax.yaxis.set_visible(False)\n",
    "    ax.xaxis.set_visible(False)\n",
    "    ax.patch.set_alpha(0.0)\n",
    "    for spine in ['left', 'right', 'top', 'bottom']:\n",
    "        ax.spines[spine].set_visible(False)\n",
    "    ax.annotate(f'{species_id} ({prevalence:0.0%})', xy=(0.05, 0.1), ha='left', xycoords=\"axes fraction\")\n",
    "    ax.set_xlim(left=1e-7)\n",
    "    ax.set_ylim(top=300)\n",
    "    \n",
    "ax.xaxis.set_visible(True)\n",
    "ax.spines['bottom'].set_visible(True)\n",
    "\n",
    "# fig.subplots_adjust(hspace=-0.75)"
   ]
  },
  {
   "cell_type": "code",
   "execution_count": null,
   "metadata": {},
   "outputs": [],
   "source": [
    "bins = [0] + list(np.logspace(0, 4))\n",
    "plt.hist((species_depth > 0.5).sum(), bins=bins)\n",
    "plt.xscale('symlog', linthresh=1.0, linscale=0.1)"
   ]
  },
  {
   "cell_type": "code",
   "execution_count": null,
   "metadata": {},
   "outputs": [],
   "source": [
    "# species_id = '100099'  # '100236'\n",
    "\n",
    "species_taxonomy = lib.thisproject.data.load_species_taxonomy(\"ref/gtpro/species_taxonomy_ext.tsv\")\n",
    "species_taxonomy.assign(num_samples_with_depth_gt_half=(species_depth > 0.5).sum()).fillna(0).sort_values('num_samples_with_depth_gt_half', ascending=False).head(10).drop(columns=['taxonomy_string'])"
   ]
  },
  {
   "cell_type": "code",
   "execution_count": null,
   "metadata": {},
   "outputs": [],
   "source": [
    "reference_meta = pd.read_table('ref/uhgg_genomes_all_4644.tsv', index_col='Genome').rename_axis(index='genome_id').rename(lambda s: 'UHGG' + s[len(\"GUT_GENOME\"):])\n",
    "reference_meta"
   ]
  },
  {
   "cell_type": "code",
   "execution_count": null,
   "metadata": {},
   "outputs": [],
   "source": [
    "reference_meta.groupby('Species_rep').MGnify_accession.count().rename_axis(index='genome_id').rename(lambda s: 'UHGG' + s[len(\"GUT_GENOME\"):]).sort_values()"
   ]
  },
  {
   "cell_type": "code",
   "execution_count": null,
   "metadata": {},
   "outputs": [],
   "source": [
    "ref_table0 = pd.read_table('ref/uhgg_genomes_all_4644.tsv', index_col='Genome').rename_axis(index='genome_id').rename(lambda s: 'UHGG' + s[len(\"GUT_GENOME\"):])\n",
    "ref_table1 = pd.read_table('ref/midasdb_uhgg/genomes.tsv').set_index('genome').rename(lambda s: 'UHGG' + s[len(\"GUT_GENOME\"):])\n",
    "assert set(ref_table0.index) == set(ref_table1.index)\n",
    "\n",
    "midasdb_genome_data = ref_table0.join(ref_table1)\n",
    "midasdb_genome_data"
   ]
  },
  {
   "cell_type": "code",
   "execution_count": null,
   "metadata": {},
   "outputs": [],
   "source": [
    "midasdb_genome_tally_total = pd.read_table('ref/midasdb_uhgg/genomes.tsv').groupby('species').genome.count().rename(str)\n",
    "midasdb_genome_tally_isolate = pd.read_table('ref/midasdb_uhgg/genomes.tsv').groupby('species').genome.count().rename(str)"
   ]
  },
  {
   "cell_type": "code",
   "execution_count": null,
   "metadata": {},
   "outputs": [],
   "source": [
    "num_strains_raw = {}\n",
    "for species_id in species_depth.columns:\n",
    "    try:\n",
    "        _spgc_meta = pd.read_table(f\"data/group/xjin_hmp2/species/sp-{species_id}/r.proc.gtpro.sfacts-fit.gene99-v22-agg75.spgc.strain_meta.tsv\", index_col='strain').rename(str)\n",
    "    except FileNotFoundError as err:\n",
    "        print(err)\n",
    "        continue\n",
    "    num_strains_raw[species_id] = _spgc_meta.shape[0]\n",
    "    \n",
    "num_strains_raw = pd.Series(num_strains_raw)"
   ]
  },
  {
   "cell_type": "code",
   "execution_count": null,
   "metadata": {},
   "outputs": [],
   "source": [
    "d = species_taxonomy.assign(num_samples_with_depth_gt_tenth=(species_depth > 0.1).sum(), num_strains_raw=num_strains_raw).fillna(0)\n",
    "plt.scatter('num_samples_with_depth_gt_tenth', 'num_strains_raw', data=d)\n",
    "plt.yscale('log')\n",
    "plt.xscale('log')\n",
    "plt.xlabel('num_samples_with_depth_gt_tenth')\n",
    "plt.ylabel('num_strains_raw')"
   ]
  },
  {
   "cell_type": "code",
   "execution_count": null,
   "metadata": {},
   "outputs": [],
   "source": [
    "all_strain_meta = []\n",
    "\n",
    "for species_id in tqdm(species_depth.columns):\n",
    "    try:\n",
    "        _spgc_meta = pd.read_table(f\"data/group/xjin_hmp2/species/sp-{species_id}/r.proc.gtpro.sfacts-fit.gene99-v22-agg75.spgc.strain_meta.tsv\", index_col='strain').rename(str)\n",
    "    except FileNotFoundError as err:\n",
    "        pass # print(species_id, \"File missing.\")\n",
    "    else:\n",
    "        x = _spgc_meta[_spgc_meta.species_gene_frac > 0.9].num_genes\n",
    "        if len(x) < 1:\n",
    "            pass # print(species_id, \"No strains have >90% of species genes.\")\n",
    "            num_strains_filt[species_id] = 0\n",
    "        else:\n",
    "            _df, _loc, _scale = sp.stats.t.fit(x.values, fix_df=2)\n",
    "            _dist0 = sp.stats.t(_df, _loc, _scale)\n",
    "            _dist1 = sp.stats.norm(_loc, _scale)\n",
    "            thresh_max_num_uhgg_genes = _dist1.ppf(0.999)\n",
    "            thresh_min_num_uhgg_genes = _dist1.ppf(0.001)\n",
    "        all_strain_meta.append(_spgc_meta.assign(\n",
    "            species_id=species_id,\n",
    "            thresh_max_num_uhgg_genes=thresh_max_num_uhgg_genes,\n",
    "            thresh_min_num_uhgg_genes=thresh_min_num_uhgg_genes,\n",
    "            passes_filt=lambda x: (True\n",
    "                & (x.sum_depth > 1)\n",
    "                & (x.species_gene_frac > 0.9)\n",
    "                & (x.num_genes <= x.thresh_max_num_uhgg_genes)\n",
    "                & (x.num_genes >= x.thresh_min_num_uhgg_genes)\n",
    "            )\n",
    "        ))\n",
    "\n",
    "all_strain_meta = pd.concat(all_strain_meta).assign(num_sample=lambda x: x.num_sample.astype(int), num_genes=lambda x: x.num_genes.astype(int))"
   ]
  },
  {
   "cell_type": "code",
   "execution_count": null,
   "metadata": {},
   "outputs": [],
   "source": [
    "plt.hist(all_strain_meta.sum_depth, bins=np.logspace(-3, 5))\n",
    "plt.xscale('log')\n",
    "plt.axvline(1.0, lw=1, linestyle='--', color='k')\n",
    "None"
   ]
  },
  {
   "cell_type": "code",
   "execution_count": null,
   "metadata": {},
   "outputs": [],
   "source": [
    "x = all_strain_meta.groupby('species_id')[['thresh_max_num_uhgg_genes', 'thresh_min_num_uhgg_genes']].first().assign(width=lambda x: x.thresh_max_num_uhgg_genes - x.thresh_min_num_uhgg_genes)\n",
    "x.width.sort_values().head(10)"
   ]
  },
  {
   "cell_type": "code",
   "execution_count": null,
   "metadata": {},
   "outputs": [],
   "source": [
    "all_strain_meta.num_sample.astype(int)"
   ]
  },
  {
   "cell_type": "code",
   "execution_count": null,
   "metadata": {},
   "outputs": [],
   "source": [
    "all_strain_meta.passes_filt.sum()"
   ]
  },
  {
   "cell_type": "code",
   "execution_count": null,
   "metadata": {},
   "outputs": [],
   "source": [
    "pg = sns.pairplot(\n",
    "    (\n",
    "        all_strain_meta\n",
    "        .assign(\n",
    "            num_sample=lambda x: np.log10(x.num_sample + 1e-1),\n",
    "            max_depth=lambda x: np.log10(x.max_depth + 1e-3),\n",
    "            sum_depth=lambda x: np.log10(x.sum_depth + 1e-3),\n",
    "            species_gene_frac_n1ml=lambda x: -np.log10(1 - x.species_gene_frac + 1e-3),\n",
    "            num_genes=lambda x: np.log10(x.num_genes + 1),\n",
    "            strain_metagenotype_entropy=lambda x: np.log10(x.strain_metagenotype_entropy + 1e-4),\n",
    "        )\n",
    "    ),\n",
    "    vars=['num_sample', 'max_depth', 'sum_depth', 'species_gene_frac_n1ml', 'num_genes', 'strain_metagenotype_entropy'],\n",
    "    hue='passes_filt',\n",
    "    kind='scatter',\n",
    "    plot_kws=dict(s=4, lw=0),\n",
    ")"
   ]
  },
  {
   "cell_type": "code",
   "execution_count": null,
   "metadata": {},
   "outputs": [],
   "source": [
    "all_species_meta = (\n",
    "    all_strain_meta\n",
    "    .groupby('species_id')\n",
    "    .apply(lambda x: pd.Series(dict(num_strains_filt=x.passes_filt.sum(), num_strains_raw=x.shape[0])))\n",
    "    .assign(\n",
    "        num_samples_with_depth_gt_half=(species_depth > 0.5).sum(),\n",
    "        num_filtered_out=lambda x: x.num_strains_raw - x.num_strains_filt,\n",
    "        num_strains_midasdb=midasdb_genome_tally_total,\n",
    "        num_isolates_midasdb=midasdb_genome_tally_isolate,\n",
    "    )\n",
    "    .join(species_taxonomy)\n",
    "    .sort_values('num_strains_filt', ascending=False)\n",
    "    )\n",
    "all_species_meta"
   ]
  },
  {
   "cell_type": "code",
   "execution_count": null,
   "metadata": {},
   "outputs": [],
   "source": [
    "o__order = all_species_meta['o__'].value_counts().index.values\n",
    "top_o = o__order[:5]\n",
    "o__palette = lib.plot.construct_ordered_palette(top_o)\n",
    "plt.scatter('num_strains_raw', 'num_strains_filt', data=all_species_meta, c='num_samples_with_depth_gt_half', norm=mpl.colors.SymLogNorm(1.0))\n",
    "plt.colorbar()\n",
    "plt.xlabel('num_strains_raw')\n",
    "plt.ylabel('num_strains_filt')\n",
    "plt.xscale('symlog')\n",
    "plt.yscale('symlog')"
   ]
  },
  {
   "cell_type": "code",
   "execution_count": null,
   "metadata": {},
   "outputs": [],
   "source": [
    "o__order = all_species_meta['o__'].value_counts().index.values\n",
    "top_o = o__order[:10]\n",
    "o__palette = lib.plot.construct_ordered_palette(top_o, cm='tab20')\n",
    "\n",
    "for o__ in o__order:\n",
    "    plt.scatter(\n",
    "        'num_strains_raw',\n",
    "        'num_strains_filt',\n",
    "        data=all_species_meta[all_species_meta.o__ == o__],\n",
    "        c=o__palette[o__],\n",
    "        label=o__,\n",
    "    )\n",
    "plt.xlabel('num_strains_raw')\n",
    "plt.ylabel('num_strains_filt')\n",
    "plt.xscale('symlog')\n",
    "plt.yscale('symlog')\n",
    "plt.legend(bbox_to_anchor=(1, 1))"
   ]
  },
  {
   "cell_type": "code",
   "execution_count": null,
   "metadata": {},
   "outputs": [],
   "source": [
    "o__order = all_species_meta['o__'].value_counts().index.values\n",
    "top_o = o__order[:10]\n",
    "o__palette = lib.plot.construct_ordered_palette(top_o, cm='tab20')\n",
    "\n",
    "for o__ in o__order:\n",
    "    plt.scatter(\n",
    "        'num_strains_midasdb',\n",
    "        'num_strains_filt',\n",
    "        data=all_species_meta[all_species_meta.o__ == o__],\n",
    "        c=o__palette[o__],\n",
    "        label=o__,\n",
    "    )\n",
    "plt.ylabel('num_strains_filt')\n",
    "plt.xlabel('num_strains_midasdb')\n",
    "plt.xscale('symlog')\n",
    "plt.yscale('symlog')\n",
    "plt.plot([1, 100], [1, 100])\n",
    "plt.legend(bbox_to_anchor=(1, 1))"
   ]
  },
  {
   "cell_type": "code",
   "execution_count": null,
   "metadata": {},
   "outputs": [],
   "source": [
    "o__order = all_species_meta['o__'].value_counts().index.values\n",
    "top_o = o__order[:10]\n",
    "o__palette = lib.plot.construct_ordered_palette(top_o, cm='tab20')\n",
    "\n",
    "for o__ in o__order:\n",
    "    plt.scatter(\n",
    "        'num_samples_with_depth_gt_half',\n",
    "        'num_strains_midasdb',\n",
    "        data=all_species_meta[all_species_meta.o__ == o__],\n",
    "        c=o__palette[o__],\n",
    "        label=o__,\n",
    "    )\n",
    "plt.ylabel('num_strains_midasdb')\n",
    "plt.xlabel('num_samples_with_depth_gt_half')\n",
    "plt.xscale('symlog')\n",
    "plt.yscale('symlog')\n",
    "# plt.plot([1, 100], [1, 100])\n",
    "plt.legend(bbox_to_anchor=(1, 1))"
   ]
  },
  {
   "cell_type": "code",
   "execution_count": null,
   "metadata": {},
   "outputs": [],
   "source": [
    "all_species_meta.sort_values('num_filtered_out', ascending=False)"
   ]
  },
  {
   "cell_type": "code",
   "execution_count": null,
   "metadata": {},
   "outputs": [],
   "source": [
    "all_species_meta.sort_values('num_strains_filt', ascending=False).head(30)"
   ]
  },
  {
   "cell_type": "code",
   "execution_count": null,
   "metadata": {},
   "outputs": [],
   "source": [
    "all_species_meta.assign(spgc_strain_to_midas_isolate_ratio=lambda x: x.num_strains_filt / x.num_isolates_midasdb).sort_values('spgc_strain_to_midas_isolate_ratio', ascending=False).head(50)"
   ]
  },
  {
   "cell_type": "code",
   "execution_count": null,
   "metadata": {},
   "outputs": [],
   "source": []
  }
 ],
 "metadata": {
  "kernelspec": {
   "display_name": "default",
   "language": "python",
   "name": "default"
  },
  "language_info": {
   "codemirror_mode": {
    "name": "ipython",
    "version": 3
   },
   "file_extension": ".py",
   "mimetype": "text/x-python",
   "name": "python",
   "nbconvert_exporter": "python",
   "pygments_lexer": "ipython3",
   "version": "3.10.11"
  }
 },
 "nbformat": 4,
 "nbformat_minor": 5
}