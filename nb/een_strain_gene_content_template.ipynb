{
 "cells": [
  {
   "cell_type": "markdown",
   "metadata": {},
   "source": [
    "## Preamble"
   ]
  },
  {
   "cell_type": "code",
   "execution_count": null,
   "metadata": {},
   "outputs": [],
   "source": [
    "%load_ext autoreload"
   ]
  },
  {
   "cell_type": "code",
   "execution_count": null,
   "metadata": {},
   "outputs": [],
   "source": [
    "import os as _os\n",
    "\n",
    "_os.chdir(_os.environ[\"PROJECT_ROOT\"])\n",
    "_os.path.realpath(_os.path.curdir)"
   ]
  },
  {
   "cell_type": "markdown",
   "metadata": {},
   "source": [
    "### Imports"
   ]
  },
  {
   "cell_type": "code",
   "execution_count": null,
   "metadata": {},
   "outputs": [],
   "source": [
    "import os\n",
    "import subprocess\n",
    "import time\n",
    "from itertools import chain, product\n",
    "from tempfile import mkstemp\n",
    "from warnings import filterwarnings\n",
    "\n",
    "import matplotlib as mpl\n",
    "import matplotlib.pyplot as plt\n",
    "import numpy as np\n",
    "import pandas as pd\n",
    "import scipy as sp\n",
    "import seaborn as sns\n",
    "import sfacts as sf\n",
    "import statsmodels.formula.api as smf\n",
    "import xarray as xr\n",
    "from mpl_toolkits.axes_grid1 import make_axes_locatable\n",
    "from statsmodels.graphics.regressionplots import influence_plot\n",
    "from statsmodels.stats.multitest import fdrcorrection\n",
    "from tqdm import tqdm\n",
    "\n",
    "import lib.plot\n",
    "import lib.thisproject.data\n",
    "from lib.pandas_util import align_indexes, aligned_index, idxwhere, invert_mapping"
   ]
  },
  {
   "cell_type": "code",
   "execution_count": null,
   "metadata": {},
   "outputs": [],
   "source": [
    "def linkage_order(linkage, labels):\n",
    "    labels = np.array(labels)\n",
    "    return list(labels[sp.cluster.hierarchy.to_tree(linkage).pre_order(lambda x: x.id)])\n",
    "\n",
    "\n",
    "def is_prime(n):\n",
    "    if n <= 1:\n",
    "        return False\n",
    "    for i in range(2, int(n**0.5) + 1):\n",
    "        if n % i == 0:\n",
    "            return False\n",
    "    return True\n",
    "\n",
    "\n",
    "def iterate_primes_up_to(n, return_index=False):\n",
    "    n = int(np.ceil(n))\n",
    "    idx = 0\n",
    "    for i in range(n):\n",
    "        if is_prime(i):\n",
    "            if return_index:\n",
    "                yield (idx, i)\n",
    "            else:\n",
    "                yield i\n",
    "            idx += 1\n",
    "\n",
    "\n",
    "def maximally_shuffled_order(sorted_order):\n",
    "    n = len(sorted_order)\n",
    "    primes_list = list(iterate_primes_up_to(np.sqrt(n)))\n",
    "    table = pd.DataFrame(np.arange(n), index=sorted_order, columns=[\"original_order\"])\n",
    "    for prime in primes_list:\n",
    "        table[prime] = table.original_order % prime\n",
    "    table.sort_values(primes_list).original_order.values\n",
    "    table = table.assign(new_order=table.sort_values(primes_list).original_order.values)\n",
    "    z = table.sort_values(\"new_order\").original_order.values\n",
    "    table[\"delta\"] = [np.nan] + list(z[1:] - z[:-1])\n",
    "    return table.sort_values(\"new_order\").index.to_list()"
   ]
  },
  {
   "cell_type": "markdown",
   "metadata": {},
   "source": [
    "### Set Style"
   ]
  },
  {
   "cell_type": "code",
   "execution_count": null,
   "metadata": {},
   "outputs": [],
   "source": [
    "sns.set_context(\"talk\")\n",
    "plt.rcParams[\"figure.dpi\"] = 50"
   ]
  },
  {
   "cell_type": "markdown",
   "metadata": {},
   "source": [
    "## Papermill parameters"
   ]
  },
  {
   "cell_type": "code",
   "execution_count": null,
   "metadata": {},
   "outputs": [],
   "source": [
    "# This cell is tagged \"parameters\" for papermill.\n",
    "# See <https://papermill.readthedocs.io/en/latest/usage-parameterize.html#how-parameters-work> for some gotchas.\n",
    "# NOTE: *ALL* parameters should be passed to papermill. Values set here are only for prototyping.\n",
    "species_id = \"100099\"\n",
    "sfacts_params = \"filt-poly05-cvrg05.ss-g10000-block0-seed0.fit-sfacts37-s85-seed0\"\n",
    "spgc_specgene_params = \"specgene-ref-t25-p95\"\n",
    "spgc_paramsA = f\"{spgc_specgene_params}_ss-all_t-30\"\n",
    "spgc_params = f\"spgc_{spgc_paramsA}_thresh-corr200-depth250\"\n",
    "group = \"een\"\n",
    "pangenome_params = \"gene99_new-v22-agg75\"\n",
    "\n",
    "species_taxonomy_inpath = \"ref/gtpro/species_taxonomy_ext.tsv\"\n",
    "sfacts_fit_inpath = (\n",
    "    f\"data/group/{group}/species/sp-{species_id}/r.proc.gtpro.{sfacts_params}.world.nc\"\n",
    ")\n",
    "spgc_meta_inpath = f\"data/group/{group}/species/sp-{species_id}/r.proc.gtpro.{sfacts_params}.{pangenome_params}.{spgc_params}.strain_meta.tsv\"\n",
    "\n",
    "ref_gene_copies_inpath = f\"data/species/sp-{species_id}/gene75_new.reference_copy_number.nc\"\n",
    "spgc_hits_inpath = f\"data/group/{group}/species/sp-{species_id}/r.proc.gtpro.{sfacts_params}.{pangenome_params}.{spgc_params}.strain_gene.tsv\"\n",
    "spgc_depth_inpath = f\"data/group/{group}/species/sp-{species_id}/r.proc.gtpro.{sfacts_params}.{pangenome_params}.spgc_{spgc_paramsA}.strain_depth_ratio.tsv\"\n",
    "spgc_corr_inpath = f\"data/group/{group}/species/sp-{species_id}/r.proc.gtpro.{sfacts_params}.{pangenome_params}.spgc_{spgc_paramsA}.strain_correlation.tsv\"\n",
    "sample_to_spgc_inpath = f\"data/group/{group}/species/sp-{species_id}/r.proc.gtpro.{sfacts_params}.spgc_ss-all.strain_samples.tsv\"\n",
    "uhgg_x_eggnog_inpath = (\n",
    "    f\"data/species/sp-{species_id}/pangenome_new.centroids.emapper.gene_x_eggnog.tsv\"\n",
    ")\n",
    "uhgg_x_top_eggnog_inpath = f\"data/species/sp-{species_id}/pangenome_new.centroids.emapper.gene_x_top_eggnog.tsv\"\n",
    "uhgg_gene_length_inpath = (\n",
    "    f\"ref/midasdb_uhgg_new/pangenomes/{species_id}/cluster_info.txt\"\n",
    ")\n",
    "gene_annotations_inpath = f\"data/species/sp-{species_id}/pangenome_new.centroids.emapper.d/proteins.emapper.annotations\"\n",
    "\n",
    "# Sample Metadata\n",
    "raw_depth_inpath = (\n",
    "    f\"data/group/{group}/species/sp-{species_id}/r.proc.{pangenome_params}.depth2.nc\"\n",
    ")\n",
    "all_species_gtpro_depth_inpath = f\"data/group/{group}/r.proc.gtpro.species_depth.tsv\"\n",
    "species_depth_inpath = f\"data/group/{group}/species/sp-{species_id}/r.proc.{pangenome_params}.spgc_{spgc_specgene_params}.species_depth.tsv\"\n",
    "stool_inpath = \"meta/een-mgen/stool.tsv\"\n",
    "subject_inpath = \"meta/een-mgen/subject.tsv\"\n",
    "microcosm_inpath = \"meta/een-mgen/microcosm.tsv\"\n",
    "\n",
    "# Outputs\n",
    "html_outpath = f\"data/group/{group}/species/sp-{species_id}/r.proc.gtpro.{sfacts_params}.{pangenome_params}.{spgc_params}.spgc_ref_comparison.html\""
   ]
  },
  {
   "cell_type": "markdown",
   "metadata": {},
   "source": [
    "## Load Metadata"
   ]
  },
  {
   "cell_type": "markdown",
   "metadata": {},
   "source": [
    "### Gene Metadata"
   ]
  },
  {
   "cell_type": "code",
   "execution_count": null,
   "metadata": {},
   "outputs": [],
   "source": [
    "uhgg_x_eggnog = pd.read_table(uhgg_x_eggnog_inpath)"
   ]
  },
  {
   "cell_type": "code",
   "execution_count": null,
   "metadata": {},
   "outputs": [],
   "source": [
    "uhgg_x_top_eggnog = pd.read_table(uhgg_x_top_eggnog_inpath)"
   ]
  },
  {
   "cell_type": "code",
   "execution_count": null,
   "metadata": {},
   "outputs": [],
   "source": [
    "uhgg_gene_length = (\n",
    "    pd.read_table(uhgg_gene_length_inpath)\n",
    "    .groupby(\"centroid_75\")\n",
    "    .centroid_99_length.mean()\n",
    ")"
   ]
  },
  {
   "cell_type": "code",
   "execution_count": null,
   "metadata": {},
   "outputs": [],
   "source": [
    "eggnog_column_names = \"query seed_ortholog evalue score eggNOG_OGs max_annot_lvl COG_category Description Preferred_name GOs EC KEGG_ko KEGG_inpathway KEGG_Module KEGG_Reaction KEGG_rclass BRITE KEGG_TC CAZy BiGG_Reaction PFAMs\".split(\n",
    "    \" \"\n",
    ")\n",
    "_gene_annotations = (\n",
    "    pd.read_table(\n",
    "        gene_annotations_inpath,\n",
    "        comment=\"#\",\n",
    "        names=eggnog_column_names,\n",
    "        index_col=\"query\",\n",
    "    )\n",
    "    .rename_axis(index=\"gene_id\")\n",
    "    .replace({\"-\": np.nan})\n",
    ")\n",
    "_gene_annotations = uhgg_gene_length.to_frame().join(_gene_annotations)\n",
    "\n",
    "_gene_annotations.info()"
   ]
  },
  {
   "cell_type": "code",
   "execution_count": null,
   "metadata": {},
   "outputs": [],
   "source": [
    "gene_x_cog_category1 = (\n",
    "    _gene_annotations.COG_category.fillna(\"-\").apply(list).explode()[lambda x: x != \"-\"]\n",
    ")\n",
    "gene_x_cog_category1"
   ]
  },
  {
   "cell_type": "code",
   "execution_count": null,
   "metadata": {},
   "outputs": [],
   "source": [
    "cog_x_category = pd.read_table(\n",
    "    \"ref/cog-20.meta.tsv\",\n",
    "    names=[\"cog\", \"cog_category\", \"description\", \"short_name\", \"_4\", \"_5\", \"_6\"],\n",
    "    index_col=\"cog\",\n",
    ").cog_category\n",
    "cog_x_category"
   ]
  },
  {
   "cell_type": "code",
   "execution_count": null,
   "metadata": {},
   "outputs": [],
   "source": [
    "gene_x_ko = _gene_annotations.KEGG_ko.str.split(',').explode().dropna().str[len('ko:'):]\n",
    "gene_x_ec = _gene_annotations.EC.str.split(',').explode().dropna()"
   ]
  },
  {
   "cell_type": "code",
   "execution_count": null,
   "metadata": {},
   "outputs": [],
   "source": [
    "gene_x_kmodule = _gene_annotations.KEGG_Module.str.split(',').explode().dropna()"
   ]
  },
  {
   "cell_type": "code",
   "execution_count": null,
   "metadata": {},
   "outputs": [],
   "source": [
    "gene_x_kpathway = _gene_annotations.KEGG_inpathway.str.split(',').explode().dropna()"
   ]
  },
  {
   "cell_type": "code",
   "execution_count": null,
   "metadata": {},
   "outputs": [],
   "source": [
    "gene_x_cog = (\n",
    "    _gene_annotations.eggNOG_OGs.fillna(\"\")\n",
    "    .str.split(\",\")\n",
    "    .explode()[lambda x: x.str.startswith(\"COG\")]\n",
    "    .str.split(\"@\")\n",
    "    .str[0]\n",
    ")\n",
    "gene_x_cog.value_counts().head()\n",
    "gene_x_cog_category2 = gene_x_cog.map(cog_x_category).dropna().apply(list).explode()\n",
    "gene_x_cog_category2"
   ]
  },
  {
   "cell_type": "code",
   "execution_count": null,
   "metadata": {},
   "outputs": [],
   "source": [
    "gene_x_cog_category = (\n",
    "    pd.concat(\n",
    "        [\n",
    "            gene_x_cog_category1,\n",
    "            gene_x_cog_category2,  # FIXME: Which metadata table do I want?\n",
    "        ]\n",
    "    )\n",
    "    .reset_index()\n",
    "    .drop_duplicates()\n",
    ")\n",
    "\n",
    "gene_x_cog_category.columns = [\"centroid_75\", \"cog_category\"]\n",
    "gene_x_cog_category = gene_x_cog_category.set_index(\"centroid_75\").cog_category\n",
    "gene_x_cog_category.shape[0]"
   ]
  },
  {
   "cell_type": "code",
   "execution_count": null,
   "metadata": {},
   "outputs": [],
   "source": [
    "gene_annotations = _gene_annotations.assign(\n",
    "    COG_category=gene_x_cog_category.sort_values()\n",
    "    .reset_index()\n",
    "    .groupby(\"centroid_75\")\n",
    "    .apply(lambda x: \"\".join(x.cog_category.values))\n",
    ").assign(COG_category=lambda x: x.COG_category.fillna(\"\"))"
   ]
  },
  {
   "cell_type": "code",
   "execution_count": null,
   "metadata": {},
   "outputs": [],
   "source": [
    "gene_x_cog_category_matrix = (\n",
    "    gene_x_cog_category.reset_index()\n",
    "    .assign(tally=True)\n",
    "    .set_index([\"centroid_75\", \"cog_category\"])\n",
    "    .tally.unstack(\"cog_category\")\n",
    "    .fillna(False)\n",
    "    .reindex(gene_annotations.index, fill_value=False)\n",
    "    .assign(no_category=lambda x: x.sum(1) == 0)\n",
    ")\n",
    "gene_x_cog_category_matrix"
   ]
  },
  {
   "cell_type": "markdown",
   "metadata": {},
   "source": [
    "### Sample Metadata"
   ]
  },
  {
   "cell_type": "code",
   "execution_count": null,
   "metadata": {},
   "outputs": [],
   "source": [
    "stool_meta = (\n",
    "    pd.read_table(stool_inpath)\n",
    "    # .rename(columns={'Seq-Name': 'sample', 'CED/Patient-recoded': 'subject_id', 'sampleDate': 'date', 'Diet (=PreEEN, EEN, PostEEN)': 'sample_type'})\n",
    "    # .assign(\n",
    "    #     date=lambda x: pd.to_datetime(x.date),\n",
    "    #     sample_type=lambda x: x.sample_type.fillna('???')\n",
    "    # )\n",
    "    .set_index(\"mgen_id\")\n",
    "    # .sort_values(['subject_id', 'date', 'sample_type'])\n",
    ")\n",
    "\n",
    "# FIXME: Metadata seems to include a swap in the metagenomic data of CF_11 and CF_15.\n",
    "stool_meta = stool_meta.rename({\"CF_11\": \"CF_15\", \"CF_15\": \"CF_11\"})\n",
    "stool_meta"
   ]
  },
  {
   "cell_type": "code",
   "execution_count": null,
   "metadata": {},
   "outputs": [],
   "source": [
    "microcosm_meta = (\n",
    "    pd.read_table(microcosm_inpath)\n",
    "    .set_index(\"mgen_id\")\n",
    "    .rename(columns={\"inoculum_subject_id\": \"subject_id\"})\n",
    ")\n",
    "microcosm_meta"
   ]
  },
  {
   "cell_type": "code",
   "execution_count": null,
   "metadata": {},
   "outputs": [],
   "source": [
    "meta = pd.concat(\n",
    "    [\n",
    "        stool_meta.assign(\n",
    "            label=lambda x: x.assign(idx=x.index)[\n",
    "                [\"idx\", \"collection_date_relative_een_end\", \"sample_type\"]\n",
    "            ].apply(tuple, axis=1)\n",
    "        ),\n",
    "        microcosm_meta.assign(\n",
    "            collection_date_relative_een_end=np.inf,\n",
    "            sample_type=lambda x: x.inoculum_mgen_id.map(lambda s: f\"invitro\"),\n",
    "            label=lambda x: x.assign(idx=x.index)[\n",
    "                [\"idx\", \"inoculum_mgen_id\", \"sample_type\"]\n",
    "            ].apply(tuple, axis=1),\n",
    "        ),\n",
    "    ]\n",
    ")"
   ]
  },
  {
   "cell_type": "code",
   "execution_count": null,
   "metadata": {},
   "outputs": [],
   "source": [
    "meta[[\"subject_id\", \"sample_type\"]].value_counts().unstack(fill_value=0).sort_values(\n",
    "    \"EEN\", ascending=False\n",
    ").head(20)"
   ]
  },
  {
   "cell_type": "code",
   "execution_count": null,
   "metadata": {},
   "outputs": [],
   "source": [
    "subject_list = [\n",
    "    \"A\",\n",
    "    \"B\",\n",
    "    \"H\",\n",
    "    \"C\",\n",
    "    \"D\",\n",
    "    \"E\",\n",
    "    \"F\",\n",
    "    \"G\",\n",
    "    \"K\",\n",
    "    \"L\",\n",
    "    \"M\",\n",
    "    \"N\",\n",
    "    \"O\",\n",
    "    \"P\",\n",
    "    \"Q\",\n",
    "    \"R\",\n",
    "    \"S\",\n",
    "    \"T\",\n",
    "    \"U\",\n",
    "]"
   ]
  },
  {
   "cell_type": "markdown",
   "metadata": {},
   "source": [
    "### Taxonomy"
   ]
  },
  {
   "cell_type": "code",
   "execution_count": null,
   "metadata": {},
   "outputs": [],
   "source": [
    "species_taxonomy = lib.thisproject.data.load_species_taxonomy(species_taxonomy_inpath)\n",
    "species_taxonomy.loc[\"102506\", \"s__\"] = \"s__Escherichia coli\"\n",
    "\n",
    "species_taxonomy.loc[species_id]\n",
    "species_name = species_taxonomy.loc[species_id].s__[len(\"s__\") :].replace(\" \", \"_\")\n",
    "print(species_name)"
   ]
  },
  {
   "cell_type": "markdown",
   "metadata": {},
   "source": [
    "### Strain Metadata"
   ]
  },
  {
   "cell_type": "code",
   "execution_count": null,
   "metadata": {},
   "outputs": [],
   "source": [
    "strain_meta = pd.read_table(spgc_meta_inpath, index_col=\"strain\").rename(str)"
   ]
  },
  {
   "cell_type": "code",
   "execution_count": null,
   "metadata": {},
   "outputs": [],
   "source": [
    "x = strain_meta[lambda x: x.species_gene_frac > 0.9].num_genes\n",
    "_df, _loc, _scale = sp.stats.t.fit(x.values, fix_df=2)\n",
    "_dist0 = sp.stats.t(_df, _loc, _scale)\n",
    "_dist1 = sp.stats.norm(_loc, _scale)\n",
    "\n",
    "thresh_max_num_genes = _dist1.ppf(0.999)\n",
    "thresh_min_num_genes = _dist1.ppf(0.001)\n",
    "\n",
    "\n",
    "bins = np.linspace(0, x.max() * 1.5, num=50)\n",
    "xx = np.linspace(0, x.max() * 1.5, num=1000)\n",
    "\n",
    "plt.hist(x, bins=bins, alpha=0.2)\n",
    "\n",
    "plt.plot(xx, _dist0.pdf(xx), color=\"k\")\n",
    "plt.plot(xx, _dist1.pdf(xx), color=\"k\", linestyle=\"--\")\n",
    "plt.axvline(thresh_max_num_genes, lw=1, linestyle=\"--\", color=\"k\")\n",
    "plt.axvline(thresh_min_num_genes, lw=1, linestyle=\"--\", color=\"k\")"
   ]
  },
  {
   "cell_type": "code",
   "execution_count": null,
   "metadata": {},
   "outputs": [],
   "source": [
    "thresh_min_num_genes, thresh_max_num_genes"
   ]
  },
  {
   "cell_type": "code",
   "execution_count": null,
   "metadata": {},
   "outputs": [],
   "source": [
    "# Gene count affine-tranformed so that min_genes = 0, max_genes = 1\n",
    "scaled_gene_count = (strain_meta.num_genes - thresh_min_num_genes) / (\n",
    "    thresh_max_num_genes - thresh_min_num_genes\n",
    ")\n",
    "\n",
    "plt.scatter(\n",
    "    \"sum_depth\",\n",
    "    \"species_gene_frac\",\n",
    "    c=scaled_gene_count,\n",
    "    data=strain_meta,\n",
    "    norm=mpl.colors.PowerNorm(1 / 1, vmin=-0.2, vmax=1.2),\n",
    ")\n",
    "plt.xscale(\"log\")\n",
    "plt.yscale(\"logit\")\n",
    "plt.axvline(1, lw=1, color=\"k\", linestyle=\"--\")\n",
    "plt.axhline(0.9, lw=1, color=\"k\", linestyle=\"--\")\n",
    "plt.colorbar()"
   ]
  },
  {
   "cell_type": "code",
   "execution_count": null,
   "metadata": {},
   "outputs": [],
   "source": [
    "strain_list_filt = idxwhere(\n",
    "    (strain_meta.sum_depth > 1)\n",
    "    & (strain_meta.species_gene_frac > 0.9)\n",
    "    & (strain_meta.num_genes <= thresh_max_num_genes)\n",
    "    & (strain_meta.num_genes >= thresh_min_num_genes)\n",
    ")\n",
    "strain_meta.loc[strain_list_filt]"
   ]
  },
  {
   "cell_type": "markdown",
   "metadata": {},
   "source": [
    "## Load Analysis"
   ]
  },
  {
   "cell_type": "markdown",
   "metadata": {},
   "source": [
    "### Species Tracking"
   ]
  },
  {
   "cell_type": "code",
   "execution_count": null,
   "metadata": {},
   "outputs": [],
   "source": [
    "all_species_gtpro_depth = (\n",
    "    pd.read_table(\n",
    "        all_species_gtpro_depth_inpath,\n",
    "        index_col=[\"sample\", \"species_id\"],\n",
    "    )\n",
    "    .depth.unstack(fill_value=0)\n",
    "    .rename(columns=str)\n",
    ")\n",
    "\n",
    "bins = np.linspace(0, 30_000, num=200)\n",
    "\n",
    "fig, axs = plt.subplots(2, sharex=True)\n",
    "\n",
    "for (title, x), ax in zip(\n",
    "    dict(\n",
    "        total_depth_by_sample=all_species_gtpro_depth.sum(1),\n",
    "        mean_depth_by_species=all_species_gtpro_depth.mean(0),\n",
    "    ).items(),\n",
    "    axs.flatten(),\n",
    "):\n",
    "    ax.hist(x, bins=np.logspace(-3, 4, num=100))\n",
    "    ax.set_title(title)\n",
    "    ax.set_xscale(\"log\")\n",
    "fig.tight_layout()\n",
    "\n",
    "species_rabund = all_species_gtpro_depth.divide(all_species_gtpro_depth.sum(1), axis=0)\n",
    "(species_rabund > 1e-4).mean().sort_values(ascending=False).to_frame().join(\n",
    "    species_taxonomy[[\"f__\", \"g__\", \"s__\"]]\n",
    ").head(10)"
   ]
  },
  {
   "cell_type": "markdown",
   "metadata": {},
   "source": [
    "### Strain Tracking"
   ]
  },
  {
   "cell_type": "code",
   "execution_count": null,
   "metadata": {},
   "outputs": [],
   "source": [
    "sample_to_strain = pd.read_table(\n",
    "    sample_to_spgc_inpath, index_col=\"sample\"\n",
    ").strain.astype(str)\n",
    "\n",
    "spgc_palette = lib.plot.construct_ordered_palette(\n",
    "    sample_to_strain, other=(0.8, 0.8, 0.8, 1.0)\n",
    ")\n",
    "\n",
    "d = (\n",
    "    sample_to_strain.to_frame()\n",
    "    .assign(subject_id=meta.subject_id)\n",
    "    .value_counts()\n",
    "    .unstack(\"subject_id\", fill_value=0)\n",
    ")\n",
    "cg = sns.clustermap(d, annot=d, norm=mpl.colors.PowerNorm(1 / 2))\n",
    "cg.ax_cbar.set_visible(False)"
   ]
  },
  {
   "cell_type": "code",
   "execution_count": null,
   "metadata": {},
   "outputs": [],
   "source": [
    "world = sf.data.World.load(\n",
    "    sfacts_fit_inpath,\n",
    ")\n",
    "position_ss = world.random_sample(position=1000).position\n",
    "# world.data['strain'] = world.data.strain.to_series().map(str).to_xarray()"
   ]
  },
  {
   "cell_type": "code",
   "execution_count": null,
   "metadata": {},
   "outputs": [],
   "source": [
    "# Genotype similarity ordered palette:\n",
    "strain_linkage = world.genotype.linkage(optimal_ordering=True)\n",
    "strain_order = linkage_order(strain_linkage, world.strain.values)\n",
    "strain_palette = lib.plot.construct_ordered_palette(\n",
    "    strain_order,\n",
    "    cm=\"rainbow\",\n",
    ")"
   ]
  },
  {
   "cell_type": "code",
   "execution_count": null,
   "metadata": {},
   "outputs": [],
   "source": [
    "w = world.sel(position=position_ss)\n",
    "_sample_linkage = w.unifrac_linkage(optimal_ordering=True)\n",
    "\n",
    "sf.plot.plot_metagenotype(\n",
    "    w,\n",
    "    col_linkage=_sample_linkage,\n",
    "    col_colors=(\n",
    "        w.sample.to_series()\n",
    "        .map(sample_to_strain)\n",
    "        .map(lambda x: np.nan_to_num(x, nan=-1).astype(int))\n",
    "        .map(strain_palette)\n",
    "    ),\n",
    "    scalex=0.3,\n",
    ")\n",
    "sf.plot.plot_community(\n",
    "    w,\n",
    "    col_linkage=_sample_linkage,\n",
    "    col_colors=(\n",
    "        w.sample.to_series()\n",
    "        .map(sample_to_strain)\n",
    "        .map(lambda x: np.nan_to_num(x, nan=-1).astype(int))\n",
    "        .map(strain_palette)\n",
    "    ),\n",
    "    row_linkage=strain_linkage,\n",
    "    row_colors=w.strain.to_series().map(strain_palette),\n",
    "    scalex=0.3,\n",
    "    scaley=0.3,\n",
    ")\n",
    "sf.plot.plot_genotype(\n",
    "    w,\n",
    "    row_linkage=strain_linkage,\n",
    "    # row_linkage_func=lambda w: w.genotype.linkage(optimal_ordering=True),\n",
    "    row_colors=w.strain.to_series().map(strain_palette),\n",
    "    scaley=0.3,\n",
    ")"
   ]
  },
  {
   "cell_type": "code",
   "execution_count": null,
   "metadata": {},
   "outputs": [],
   "source": [
    "_species_rabund = species_rabund[species_id]\n",
    "_frac = world.community.to_pandas()\n",
    "\n",
    "d0 = (\n",
    "    meta.assign(\n",
    "        species_rabund=_species_rabund,\n",
    "    )\n",
    "    .join(_frac)\n",
    "    .sort_values([\"subject_id\", \"collection_date_relative_een_end\", \"sample_type\"])\n",
    ")\n",
    "\n",
    "fig, axs = lib.plot.subplots_grid(\n",
    "    ncols=4,\n",
    "    naxes=len(subject_list),\n",
    "    ax_width=8,\n",
    "    ax_height=6,\n",
    ")\n",
    "fig.suptitle(species_name)\n",
    "for subject_id, ax in zip(subject_list, axs.flatten()):\n",
    "    ax.set_title(subject_id)\n",
    "    twin_ax = ax.twinx()\n",
    "    d1 = d0[lambda x: x.subject_id == subject_id].set_index(\"label\")\n",
    "    d1[strain_order].plot(\n",
    "        kind=\"bar\",\n",
    "        width=0.95,\n",
    "        stacked=True,\n",
    "        color=strain_palette,\n",
    "        ax=ax,\n",
    "    )\n",
    "    d1.species_rabund.plot(kind=\"line\", ax=twin_ax, color=\"k\")\n",
    "    ax.legend_.set_visible(False)\n",
    "    ax.set_ylim(0, 1)\n",
    "    ax.set_ylabel(\"strain fraction\")\n",
    "    ax.set_xlabel(\"\")\n",
    "    twin_ax.set_ylabel(\"species relative abundance\")\n",
    "    twin_ax.set_ylim(0)\n",
    "    lib.plot.rotate_xticklabels(ax)\n",
    "    ax.set_xlim(-0.5, 14)\n",
    "fig.tight_layout()"
   ]
  },
  {
   "cell_type": "code",
   "execution_count": null,
   "metadata": {},
   "outputs": [],
   "source": [
    "_palette = strain_palette.copy()\n",
    "for strain in strain_palette:\n",
    "    if str(strain) not in strain_list_filt:\n",
    "        del _palette[strain]\n",
    "\n",
    "fig, axs = lib.plot.subplots_grid(\n",
    "    ncols=4,\n",
    "    naxes=len(subject_list),\n",
    "    ax_width=8,\n",
    "    ax_height=6,\n",
    ")\n",
    "fig.suptitle(species_name)\n",
    "for subject_id, ax in zip(subject_list, axs.flatten()):\n",
    "    ax.set_title(subject_id)\n",
    "    twin_ax = ax.twinx()\n",
    "    d1 = d0[lambda x: x.subject_id == subject_id].set_index(\"label\")\n",
    "    d1[strain_order].plot(\n",
    "        kind=\"bar\",\n",
    "        width=0.95,\n",
    "        stacked=True,\n",
    "        color=_palette,\n",
    "        ax=ax,\n",
    "    )\n",
    "    d1.species_rabund.plot(kind=\"line\", ax=twin_ax, color=\"k\")\n",
    "    ax.legend_.set_visible(False)\n",
    "    ax.set_ylim(0, 1)\n",
    "    ax.set_ylabel(\"strain fraction\")\n",
    "    ax.set_xlabel(\"\")\n",
    "    twin_ax.set_ylabel(\"species relative abundance\")\n",
    "    twin_ax.set_ylim(0)\n",
    "    lib.plot.rotate_xticklabels(ax)\n",
    "    ax.set_xlim(-0.5, 14)\n",
    "fig.tight_layout()"
   ]
  },
  {
   "cell_type": "code",
   "execution_count": null,
   "metadata": {},
   "outputs": [],
   "source": [
    "species_depth = pd.read_table(\n",
    "    species_depth_inpath, names=[\"sample\", \"depth\"], index_col=[\"sample\"]\n",
    ").depth\n",
    "species_depth"
   ]
  },
  {
   "cell_type": "code",
   "execution_count": null,
   "metadata": {},
   "outputs": [],
   "source": [
    "pure_strain_agg_mgtp = sf.Metagenotype(\n",
    "    world.metagenotype.data.sel(sample=sample_to_strain.index)\n",
    "    .groupby(sample_to_strain.to_xarray())\n",
    "    .sum()\n",
    "    .rename(strain=\"sample\")\n",
    ")\n",
    "\n",
    "sf.plot.plot_metagenotype(pure_strain_agg_mgtp.sel(position=position_ss))\n",
    "sf.plot.plot_dominance(pure_strain_agg_mgtp.sel(position=position_ss))"
   ]
  },
  {
   "cell_type": "code",
   "execution_count": null,
   "metadata": {},
   "outputs": [],
   "source": [
    "spgc_est_geno = pure_strain_agg_mgtp.to_estimated_genotype(pseudo=0)\n",
    "g = sf.data.Genotype.concat(dict(mgen=spgc_est_geno, fit=world.genotype), dim=\"strain\")\n",
    "g_pdist = g.pdist()\n",
    "g_linkage = g.linkage()\n",
    "sf.plot.plot_genotype(\n",
    "    g.sel(position=position_ss), transpose=True, col_linkage=g_linkage\n",
    ")"
   ]
  },
  {
   "cell_type": "markdown",
   "metadata": {},
   "source": [
    "### Strain Genes"
   ]
  },
  {
   "cell_type": "code",
   "execution_count": null,
   "metadata": {},
   "outputs": [],
   "source": [
    "gene_x_sample_depth = xr.load_dataarray(raw_depth_inpath)\n",
    "gene_x_sample_depth_ratio = gene_x_sample_depth / species_depth.to_xarray().sel(\n",
    "    sample=gene_x_sample_depth.sample\n",
    ")"
   ]
  },
  {
   "cell_type": "code",
   "execution_count": null,
   "metadata": {},
   "outputs": [],
   "source": [
    "strain_gene_depth = pd.read_table(spgc_depth_inpath, index_col=['gene_id', 'strain'], dtype={'strain': str}).depth.unstack(fill_value=0)\n",
    "strain_gene_corr = pd.read_table(spgc_corr_inpath, index_col=['gene_id', 'strain'], dtype={'strain': str}).correlation.unstack(fill_value=0)"
   ]
  },
  {
   "cell_type": "code",
   "execution_count": null,
   "metadata": {},
   "outputs": [],
   "source": [
    "strain_genes = pd.read_table(spgc_hits_inpath, index_col=[\"gene_id\"])\n",
    "strain_genes"
   ]
  },
  {
   "cell_type": "code",
   "execution_count": null,
   "metadata": {},
   "outputs": [],
   "source": [
    "ref_genes = (xr.load_dataarray(ref_gene_copies_inpath).to_pandas().T >= 1).astype(float)\n",
    "gene_corr_cluster = pd.Series(sp.cluster.hierarchy.fcluster(sp.cluster.hierarchy.linkage(ref_genes, method='average', metric='cosine'), criterion='distance', t=0.05), index=ref_genes.index)\n",
    "gene_corr_cluster_size = gene_corr_cluster.value_counts()\n",
    "multi_gene_clusters = idxwhere(gene_corr_cluster_size > 1)"
   ]
  },
  {
   "cell_type": "code",
   "execution_count": null,
   "metadata": {},
   "outputs": [],
   "source": [
    "sns.clustermap(ref_genes.groupby(gene_corr_cluster[lambda x: x.isin(multi_gene_clusters)]).mean())"
   ]
  },
  {
   "cell_type": "code",
   "execution_count": null,
   "metadata": {},
   "outputs": [],
   "source": [
    "_strain_list = strain_list_filt\n",
    "_gene_list = idxwhere(strain_genes[strain_list_filt].apply(lambda x: (x.sum() > 1) & (x.mean() < 1.0), axis=1))\n",
    "x = strain_genes.reindex(index=_gene_list, columns=_strain_list, fill_value=0)\n",
    "_col_linkage = (\n",
    "    pure_strain_agg_mgtp.to_estimated_genotype()\n",
    "    .sel(strain=_strain_list)\n",
    "    .linkage(\"strain\")\n",
    ")\n",
    "\n",
    "_row_linkage = sp.cluster.hierarchy.linkage(x, method='average', metric='cosine')\n",
    "\n",
    "# _row_colors = (\n",
    "#     pd.DataFrame(index=_gene_list)\n",
    "#     .assign(\n",
    "#         species_gene=lambda x: x.index.isin(species_genes),\n",
    "#     )\n",
    "#     # .join(gene_x_cog_category_matrix)\n",
    "#     .apply(lambda x: x.map({True: \"black\", False: \"grey\"}))\n",
    "# )\n",
    "_col_colors = pd.Series([int(x) for x in _strain_list], index=_strain_list).map(strain_palette)\n",
    "\n",
    "sns.clustermap(\n",
    "    x,\n",
    "    col_linkage=_col_linkage,\n",
    "    row_linkage=_row_linkage,\n",
    "    # row_colors=_row_colors,\n",
    "    col_colors=_col_colors\n",
    ")"
   ]
  },
  {
   "cell_type": "code",
   "execution_count": null,
   "metadata": {},
   "outputs": [],
   "source": [
    "x2 = strain_gene_depth.reindex(index=_gene_list, columns=_strain_list, fill_value=0)\n",
    "\n",
    "sns.clustermap(\n",
    "    x2,\n",
    "    col_linkage=_col_linkage,\n",
    "    row_linkage=_row_linkage,\n",
    "    # row_colors=_row_colors,\n",
    "    col_colors=_col_colors,\n",
    "    norm=mpl.colors.PowerNorm(1/3, vmin=0, vmax=10),\n",
    ")"
   ]
  },
  {
   "cell_type": "code",
   "execution_count": null,
   "metadata": {},
   "outputs": [],
   "source": [
    "x2 = strain_gene_corr.reindex(index=_gene_list, columns=_strain_list, fill_value=0)\n",
    "\n",
    "sns.clustermap(\n",
    "    x2,\n",
    "    col_linkage=_col_linkage,\n",
    "    row_linkage=_row_linkage,\n",
    "    # row_colors=_row_colors,\n",
    "    col_colors=_col_colors\n",
    ")"
   ]
  },
  {
   "cell_type": "code",
   "execution_count": null,
   "metadata": {},
   "outputs": [],
   "source": [
    "strain_gene_cluster_gene_fraction = strain_genes.reindex(index=gene_corr_cluster.index, fill_value=0).groupby(gene_corr_cluster[lambda x: x.isin(multi_gene_clusters)]).mean()\n",
    "strain_gene_cluster_hits = strain_gene_cluster_gene_fraction >= 0.5"
   ]
  },
  {
   "cell_type": "code",
   "execution_count": null,
   "metadata": {},
   "outputs": [],
   "source": [
    "_strain_list = strain_list_filt\n",
    "x = strain_gene_cluster_gene_fraction[_strain_list]\n",
    "_col_linkage = (\n",
    "    pure_strain_agg_mgtp.to_estimated_genotype()\n",
    "    .sel(strain=_strain_list)\n",
    "    .linkage(\"strain\")\n",
    ")\n",
    "\n",
    "_row_linkage = sp.cluster.hierarchy.linkage(x, method='average')\n",
    "_col_colors = pd.Series([int(x) for x in _strain_list], index=_strain_list).map(strain_palette)\n",
    "\n",
    "sns.clustermap(\n",
    "    x,\n",
    "    col_linkage=_col_linkage,\n",
    "    row_linkage=_row_linkage,\n",
    "    col_colors=_col_colors\n",
    ")"
   ]
  },
  {
   "cell_type": "code",
   "execution_count": null,
   "metadata": {},
   "outputs": [],
   "source": [
    "plt.hist(strain_gene_cluster_hits[_strain_list].sum(1), bins=np.arange(10))"
   ]
  },
  {
   "cell_type": "code",
   "execution_count": null,
   "metadata": {},
   "outputs": [],
   "source": [
    "x, y = lib.pandas_util.align_indexes(gene_corr_cluster_size[multi_gene_clusters], strain_gene_cluster_hits[strain_list_filt].mean(1))\n",
    "plt.hist2d(x, y, norm=mpl.colors.PowerNorm(1/3), bins=(np.logspace(0, 3), np.linspace(0, 1, num=11)))\n",
    "plt.xscale('log')\n",
    "None"
   ]
  },
  {
   "cell_type": "code",
   "execution_count": null,
   "metadata": {},
   "outputs": [],
   "source": [
    "gene_cluster_cog_category_count = gene_x_cog_category.groupby(gene_corr_cluster).value_counts()\n",
    "gene_cluster_cog_category_count.sort_values(ascending=False).head(10)"
   ]
  },
  {
   "cell_type": "code",
   "execution_count": null,
   "metadata": {},
   "outputs": [],
   "source": [
    "gene_cluster_kpathway_count = gene_x_kpathway.groupby(gene_corr_cluster).value_counts()\n",
    "# most_kmodule_like_cluster_list= gene_cluster_kmodule_count.max().sort_values(ascending=False).head(20).index\n",
    "gene_cluster_kpathway_count.sort_values(ascending=False).head(100).tail(50)"
   ]
  },
  {
   "cell_type": "code",
   "execution_count": null,
   "metadata": {},
   "outputs": [],
   "source": [
    "pd.DataFrame(dict(x=x, y=y))[lambda x: (x.x > 10) & (x.y > 0.25)].rename(int).assign(cluster_top=gene_cluster_cog_category_count.unstack(fill_value=0).apply(lambda x: idxwhere(x.sort_values(ascending=False) > 1)[:5], axis=1))"
   ]
  },
  {
   "cell_type": "code",
   "execution_count": null,
   "metadata": {},
   "outputs": [],
   "source": [
    "gene_annotations.loc[gene_corr_cluster == 2812]"
   ]
  },
  {
   "cell_type": "markdown",
   "metadata": {},
   "source": [
    "### Bile Acid genes"
   ]
  },
  {
   "cell_type": "code",
   "execution_count": null,
   "metadata": {},
   "outputs": [],
   "source": [
    "gene_annotations.loc[idxwhere(gene_x_cog == 'COG1028')]"
   ]
  },
  {
   "cell_type": "raw",
   "metadata": {},
   "source": [
    "1.1.1.159            7alpha-hydroxysteroid dehydrogenase; 7alpha-hydroxy steroid dehydrogenase; 7alpha-HSDH \n",
    "1.1.1.176            12alpha-hydroxysteroid dehydrogenase; 12alpha-hydroxy steroid dehydrogenase; NAD+-dependent 12alpha- \n",
    "1.1.1.201            7beta-hydroxysteroid dehydrogenase (NADP+); NADP+-dependent 7beta-hydroxysteroid dehydrogenase; 7bet \n",
    "1.1.1.238            12beta-hydroxysteroid dehydrogenase; 12beta-hydroxy steroid (nicotinamide adenine dinucleotide phosp \n",
    "1.1.1.391            3beta-hydroxycholanate 3-dehydrogenase (NAD+); 3beta-hydroxysteroid dehydrogenase \n",
    "1.1.1.392            3alpha-hydroxycholanate dehydrogenase (NADP+); alpha-hydroxy-cholanate dehydrogenase (ambiguous) \n",
    "1.1.1.393            3beta-hydroxycholanate 3-dehydrogenase (NADP+); 3beta-hydroxysteroid dehydrogenase (ambiguous) \n",
    "1.1.1.395            3alpha-hydroxy bile acid-CoA-ester 3-dehydrogenase; baiA1 (gene name); baiA2 (gene name); baiA3 (gen \n",
    "1.1.1.52             3alpha-hydroxycholanate dehydrogenase (NAD+); alpha-hydroxy-cholanate dehydrogenase; lithocholate:NA \n",
    "1.3.1.114            3-dehydro-bile acid Delta4,6-reductase; baiN (gene name) \n",
    "1.3.1.115            3-oxocholoyl-CoA 4-desaturase; baiCD (gene name); 3-oxo-choloyl-CoA dehydrogenase \n",
    "1.3.1.116            7beta-hydroxy-3-oxochol-24-oyl-CoA 4-desaturase; baiH (gene name) \n",
    "2.8.3.25             bile acid CoA-transferase; baiF (gene name); baiK (gene name); bile acid coenzyme A transferase \n",
    "3.5.1.24             choloylglycine hydrolase; glycocholase; bile salt hydrolase; choloyltaurine hydrolase; 3alpha,7alpha \n",
    "3.5.1.74             chenodeoxycholoyltaurine hydrolase \n",
    "4.2.1.106            bile-acid 7alpha-dehydratase; baiE (gene name); 7alpha,12alpha-dihydroxy-3-oxochol-4-enoate hydro-ly \n",
    "6.2.1.7              cholate---CoA ligase; BAL; bile acid CoA ligase; bile acid coenzyme A ligase; choloyl-CoA synthetase "
   ]
  },
  {
   "cell_type": "raw",
   "metadata": {},
   "source": [
    "K00076               hdhA; 7-alpha-hydroxysteroid dehydrogenase [EC:1.1.1.159] \n",
    "K01442               cbh; choloylglycine hydrolase [EC:3.5.1.24] \n",
    "K07007               baiN; 3-dehydro-bile acid Delta4,6-reductase [EC:1.3.1.114] \n",
    "K15868               baiB; bile acid-coenzyme A ligase [EC:6.2.1.7] \n",
    "K15869               baiA; 3alpha-hydroxy bile acid-CoA-ester 3-dehydrogenase [EC:1.1.1.395] \n",
    "K15870               baiCD; 3-oxocholoyl-CoA 4-desaturase [EC:1.3.1.115] \n",
    "K15871               baiF; bile acid CoA-transferase [EC:2.8.3.25] \n",
    "K15872               baiE; bile-acid 7alpha-dehydratase [EC:4.2.1.106] \n",
    "K15873               baiH; 7beta-hydroxy-3-oxochol-24-oyl-CoA 4-desaturase [EC:1.3.1.116] \n",
    "K15874               baiI; bile acid 7beta-dehydratase \n",
    "K22604               E1.1.1.52; 3alpha-hydroxycholanate dehydrogenase (NAD+) [EC:1.1.1.52] \n",
    "K22605               baiA; 3alpha-hydroxycholanate dehydrogenase (NADP+) [EC:1.1.1.392] \n",
    "K22606               E1.1.1.391; 3beta-hydroxycholanate 3-dehydrogenase (NAD+) [EC:1.1.1.391] \n",
    "K22607               E1.1.1.393; 3beta-hydroxycholanate 3-dehydrogenase (NADP+) [EC:1.1.1.393] \n",
    "K23231               E1.1.1.201; 7beta-hydroxysteroid dehydrogenase (NADP+) [EC:1.1.1.201] "
   ]
  },
  {
   "cell_type": "code",
   "execution_count": null,
   "metadata": {},
   "outputs": [],
   "source": [
    "bile_acid_ko_list = [\n",
    "\"K00076\",\n",
    "\"K01442\",\n",
    "\"K07007\",\n",
    "\"K15868\",\n",
    "\"K15869\",\n",
    "\"K15870\",\n",
    "\"K15871\",\n",
    "\"K15872\",\n",
    "\"K15873\",\n",
    "\"K15874\",\n",
    "\"K22604\",\n",
    "\"K22605\",\n",
    "\"K22606\",\n",
    "\"K22607\",\n",
    "\"K23231\",\n",
    "]"
   ]
  },
  {
   "cell_type": "code",
   "execution_count": null,
   "metadata": {},
   "outputs": [],
   "source": [
    "bile_acid_ec_list = [\n",
    "\"1.1.1.159\",\n",
    "\"1.1.1.176\",\n",
    "\"1.1.1.201\",\n",
    "\"1.1.1.238\",\n",
    "\"1.1.1.391\",\n",
    "\"1.1.1.392\",\n",
    "\"1.1.1.393\",\n",
    "\"1.1.1.395\",\n",
    "\"1.1.1.52\",\n",
    "\"1.3.1.114\",\n",
    "\"1.3.1.115\",\n",
    "\"1.3.1.116\",\n",
    "\"2.8.3.25\",\n",
    "\"3.5.1.24\",\n",
    "\"3.5.1.74\",\n",
    "\"4.2.1.106\",\n",
    "\"6.2.1.7\",\n",
    "]"
   ]
  },
  {
   "cell_type": "code",
   "execution_count": null,
   "metadata": {},
   "outputs": [],
   "source": [
    "\n",
    "idxwhere(gene_x_ko.isin(bile_acid_ko_list))"
   ]
  },
  {
   "cell_type": "code",
   "execution_count": null,
   "metadata": {},
   "outputs": [],
   "source": [
    "idxwhere(gene_annotations.KEGG_inpathway.fillna('').str.contains('ko00121'))"
   ]
  },
  {
   "cell_type": "code",
   "execution_count": null,
   "metadata": {},
   "outputs": [],
   "source": [
    "idxwhere(gene_x_ec.isin(bile_acid_ec_list))"
   ]
  },
  {
   "cell_type": "code",
   "execution_count": null,
   "metadata": {},
   "outputs": [],
   "source": [
    "_strain_list = strain_list_filt\n",
    "_gene_list = idxwhere(gene_x_ko.isin(bile_acid_ko_list))\n",
    "x = strain_genes.reindex(index=_gene_list, columns=_strain_list, fill_value=0)\n",
    "_col_linkage = (\n",
    "    pure_strain_agg_mgtp.to_estimated_genotype()\n",
    "    .sel(strain=_strain_list)\n",
    "    .linkage(\"strain\")\n",
    ")\n",
    "\n",
    "# _row_colors = (\n",
    "#     pd.DataFrame(index=_gene_list)\n",
    "#     .assign(\n",
    "#         species_gene=lambda x: x.index.isin(species_genes),\n",
    "#     )\n",
    "#     # .join(gene_x_cog_category_matrix)\n",
    "#     .apply(lambda x: x.map({True: \"black\", False: \"grey\"}))\n",
    "# )\n",
    "_col_colors = pd.Series([int(x) for x in _strain_list], index=_strain_list).map(strain_palette)\n",
    "\n",
    "sns.clustermap(\n",
    "    x,\n",
    "    col_linkage=_col_linkage,\n",
    "    # row_colors=_row_colors,\n",
    "    col_colors=_col_colors\n",
    ")"
   ]
  },
  {
   "cell_type": "markdown",
   "metadata": {},
   "source": [
    "#### Confirm Depth Estimates (FIXME: Drop)"
   ]
  },
  {
   "cell_type": "code",
   "execution_count": null,
   "metadata": {},
   "outputs": [],
   "source": [
    "gtpro_species_depth = all_species_gtpro_depth[species_id]\n",
    "gtpro_species_depth"
   ]
  },
  {
   "cell_type": "code",
   "execution_count": null,
   "metadata": {},
   "outputs": [],
   "source": [
    "species_genes = lib.pandas_util.read_list(\n",
    "    f\"data/species/sp-{species_id}/midasuhgg.pangenome.gene75_new.spgc_specgene-ref-t25-p95.species_gene.list\"\n",
    ")\n",
    "# species_genes_denovo = lib.pandas_util.read_list(\n",
    "#     f\"data/group/een/species/sp-{species_id}/r.proc.gene99_new-v22-agg75.spgc_specgene-denovo2-t30-n500.species_gene.list\"\n",
    "# )"
   ]
  },
  {
   "cell_type": "code",
   "execution_count": null,
   "metadata": {},
   "outputs": [],
   "source": [
    "_species_depth = (\n",
    "    gene_x_sample_depth.sel(gene_id=species_genes)\n",
    "    .to_pandas()\n",
    "    .T.apply(sp.stats.trim_mean, proportiontocut=0.15)\n",
    ")\n",
    "# _species_depth2 = (\n",
    "#     gene_x_sample_depth.sel(gene_id=species_genes_denovo)\n",
    "#     .to_pandas()\n",
    "#     .T.apply(sp.stats.trim_mean, proportiontocut=0.15)\n",
    "# )"
   ]
  },
  {
   "cell_type": "code",
   "execution_count": null,
   "metadata": {},
   "outputs": [],
   "source": [
    "x, y = lib.pandas_util.align_indexes(\n",
    "    gtpro_species_depth, species_depth, how=\"outer\", fill_value=0\n",
    ")\n",
    "\n",
    "plt.scatter(x, y)\n",
    "plt.plot([1e-2, 2e2], [1e-2, 2e2])\n",
    "plt.yscale(\"symlog\", linthresh=1e-2)\n",
    "plt.xscale(\"symlog\", linthresh=1e-2)"
   ]
  },
  {
   "cell_type": "code",
   "execution_count": null,
   "metadata": {},
   "outputs": [],
   "source": [
    "(species_depth[lambda x: x > 1] / gtpro_species_depth).dropna().sort_values()"
   ]
  },
  {
   "cell_type": "raw",
   "metadata": {},
   "source": [
    "sample = \"CF_079\"\n",
    "species_depth.loc[sample], _species_depth2[sample], gtpro_species_depth[sample]"
   ]
  },
  {
   "cell_type": "code",
   "execution_count": null,
   "metadata": {},
   "outputs": [],
   "source": [
    "_gene_depth, _species_depth = lib.pandas_util.align_indexes(\n",
    "    gene_x_sample_depth.to_pandas(), _species_depth[lambda x: x > 0.5]\n",
    ")\n",
    "_gene_depth_ratio = _gene_depth.divide(_species_depth, axis=0).median()\n",
    "bins = np.logspace(-3, 1)\n",
    "plt.hist(_gene_depth_ratio, bins=bins)\n",
    "# plt.hist(_gene_depth_ratio[species_genes_denovo], bins=bins, alpha=0.5)\n",
    "plt.hist(_gene_depth_ratio[species_genes], bins=bins, alpha=0.5)\n",
    "plt.xscale(\"log\")\n",
    "plt.yscale(\"log\")"
   ]
  },
  {
   "cell_type": "code",
   "execution_count": null,
   "metadata": {},
   "outputs": [],
   "source": []
  }
 ],
 "metadata": {
  "kernelspec": {
   "display_name": "default",
   "language": "python",
   "name": "default"
  },
  "language_info": {
   "codemirror_mode": {
    "name": "ipython",
    "version": 3
   },
   "file_extension": ".py",
   "mimetype": "text/x-python",
   "name": "python",
   "nbconvert_exporter": "python",
   "pygments_lexer": "ipython3",
   "version": "3.10.11"
  }
 },
 "nbformat": 4,
 "nbformat_minor": 5
}