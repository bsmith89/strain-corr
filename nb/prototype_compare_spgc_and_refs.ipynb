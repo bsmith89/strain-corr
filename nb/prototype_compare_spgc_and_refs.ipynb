{
 "cells": [
  {
   "cell_type": "markdown",
   "metadata": {
    "tags": []
   },
   "source": [
    "## Preamble"
   ]
  },
  {
   "cell_type": "code",
   "execution_count": null,
   "metadata": {},
   "outputs": [],
   "source": [
    "!date"
   ]
  },
  {
   "cell_type": "markdown",
   "metadata": {
    "tags": []
   },
   "source": [
    "### Template Utils"
   ]
  },
  {
   "cell_type": "code",
   "execution_count": null,
   "metadata": {
    "tags": []
   },
   "outputs": [],
   "source": [
    "%load_ext autoreload\n",
    "%load_ext line_profiler"
   ]
  },
  {
   "cell_type": "code",
   "execution_count": null,
   "metadata": {
    "tags": []
   },
   "outputs": [],
   "source": [
    "import os as _os\n",
    "\n",
    "_os.chdir(_os.environ[\"PROJECT_ROOT\"])\n",
    "_os.path.realpath(_os.path.curdir)"
   ]
  },
  {
   "cell_type": "markdown",
   "metadata": {
    "tags": []
   },
   "source": [
    "### Imports"
   ]
  },
  {
   "cell_type": "code",
   "execution_count": null,
   "metadata": {
    "tags": []
   },
   "outputs": [],
   "source": [
    "import os\n",
    "import subprocess\n",
    "import time\n",
    "from itertools import chain, product\n",
    "from tempfile import mkstemp\n",
    "\n",
    "import fastcluster\n",
    "import matplotlib as mpl\n",
    "import matplotlib.gridspec as gridspec\n",
    "import matplotlib.pyplot as plt\n",
    "import numpy as np\n",
    "import pandas as pd\n",
    "import scipy as sp\n",
    "import seaborn as sns\n",
    "import sfacts as sf\n",
    "import statsmodels as sm\n",
    "import statsmodels.formula.api as smf\n",
    "import xarray as xr\n",
    "from mpl_toolkits.axes_grid1 import make_axes_locatable\n",
    "from scipy.spatial.distance import pdist, squareform\n",
    "from sklearn.cluster import AgglomerativeClustering\n",
    "from sklearn.metrics import adjusted_mutual_info_score, adjusted_rand_score\n",
    "from statsmodels.stats.multitest import fdrcorrection\n",
    "from tqdm import tqdm\n",
    "\n",
    "import lib.plot\n",
    "import lib.thisproject.data\n",
    "from lib.pandas_util import align_indexes, aligned_index, idxwhere, invert_mapping"
   ]
  },
  {
   "cell_type": "code",
   "execution_count": null,
   "metadata": {},
   "outputs": [],
   "source": [
    "def morans_i(x, w, return_zscore=False, centered=False):\n",
    "    \"\"\"TODO\n",
    "\n",
    "    w should be a weight matrix, e.g.\n",
    "\n",
    "        w = np.exp(-(strain_geno_pdist.loc[_genome_list, _genome_list].values))\n",
    "        w[np.diag_indices_from(w)] = 0\n",
    "\n",
    "    \"\"\"\n",
    "    # Moran's I.\n",
    "    x_centered = x - x.mean()\n",
    "    denomenator = (x_centered**2).sum()\n",
    "    if denomenator == 0:\n",
    "        return np.nan\n",
    "\n",
    "    n = len(x)\n",
    "    w_sum = w.sum()\n",
    "\n",
    "    numerator = np.einsum(\"i,j,ij->\", x_centered, x_centered, w)\n",
    "    normalizer = n / w_sum\n",
    "    observed = numerator * normalizer / denomenator\n",
    "\n",
    "    # Expected value of Moran's I under the null hypothesis:\n",
    "    expected = -1 / (len(x) - 1)\n",
    "    if centered:\n",
    "        observed_out = observed - expected\n",
    "    else:\n",
    "        observed_out = observed\n",
    "\n",
    "    if return_zscore:\n",
    "        # Expected variance under the null\n",
    "        s1 = 0.5 * ((w + w.T) ** 2).sum()\n",
    "        s2 = ((w.sum(0) + w.sum(1)) ** 2).sum()\n",
    "        s3 = ((1 / n) * (x_centered**4).sum()) / (\n",
    "            (1 / n) * x_centered**2\n",
    "        ).sum() ** 2\n",
    "        s4 = (n**2 - 3 * n + 3) * s1 - n * s2 + 3 * w_sum**2\n",
    "        s5 = (n**2 - n) * s1 - 2 * n * s2 + 6 * w_sum**2\n",
    "\n",
    "        i_var = (n * s4 - s3 * s5) / (\n",
    "            (n - 1) * (n - 2) * (n - 3) * w_sum**2\n",
    "        ) - expected**2\n",
    "\n",
    "        zscore = (observed - expected) / np.sqrt(i_var)\n",
    "        return observed_out, zscore\n",
    "    else:\n",
    "        return observed_out\n",
    "    # pvalue = 1 - sp.stats.norm(loc=0, scale=1).cdf(zscore)"
   ]
  },
  {
   "cell_type": "code",
   "execution_count": null,
   "metadata": {},
   "outputs": [],
   "source": [
    "def geno_pdist_to_weights(pdist, rate=2):\n",
    "    pdist = np.array(pdist)\n",
    "    w = np.exp(-rate * pdist)\n",
    "    w[np.diag_indices_from(w)] = 0\n",
    "    return w"
   ]
  },
  {
   "cell_type": "code",
   "execution_count": null,
   "metadata": {},
   "outputs": [],
   "source": [
    "from numba import jit\n",
    "\n",
    "\n",
    "# @jit(nopython=True, fastmath=False, nogil=True)\n",
    "def genotype_dissimilarity_transformed_values_jit(x, y):\n",
    "    dist = np.abs((x - y) / 2)\n",
    "    weight = np.abs(x * y)\n",
    "    wmean_dist = (weight * dist).sum() / weight.sum()\n",
    "    # NOTE: Why not finish up by powering it by (1 / q)?\n",
    "    # I don't do this part because it loses the city-block distance\n",
    "    # interpretation when x and y are both discrete (i.e. one of {0, 1}).\n",
    "\n",
    "    # While the basic function is undefined where weight.sum() == 0\n",
    "    # (and this is only true when one of x or y is always exactly 0.5 at every\n",
    "    # index),\n",
    "    # the limit approaches the same value from both directions.\n",
    "    # We therefore redefine the dissimilarity as a piecewise function,\n",
    "    # but one that is nonetheless everywhere smooth and defined.\n",
    "    if np.isnan(wmean_dist):\n",
    "        return dist.mean()\n",
    "    return wmean_dist  # np.where(np.isnan(wmean_dist), dist.mean(), wmean_dist)"
   ]
  },
  {
   "cell_type": "code",
   "execution_count": null,
   "metadata": {},
   "outputs": [],
   "source": [
    "def linkage_order(linkage, labels):\n",
    "    labels = np.array(labels)\n",
    "    return list(labels[sp.cluster.hierarchy.to_tree(linkage).pre_order(lambda x: x.id)])"
   ]
  },
  {
   "cell_type": "markdown",
   "metadata": {},
   "source": [
    "### Set Style"
   ]
  },
  {
   "cell_type": "code",
   "execution_count": null,
   "metadata": {},
   "outputs": [],
   "source": [
    "sns.set_context(\"talk\")\n",
    "plt.rcParams[\"figure.dpi\"] = 50"
   ]
  },
  {
   "cell_type": "markdown",
   "metadata": {
    "tags": []
   },
   "source": [
    "### Papermill parameters"
   ]
  },
  {
   "cell_type": "code",
   "execution_count": null,
   "metadata": {
    "tags": [
     "parameters"
    ]
   },
   "outputs": [],
   "source": [
    "# This cell is tagged \"parameters\" for papermill.\n",
    "# See <https://papermill.readthedocs.io/en/latest/usage-parameterize.html#how-parameters-work> for some gotchas.\n",
    "# NOTE: *ALL* parameters should be passed to papermill. Values set here are only for prototyping.\n",
    "species_id = \"100003\"\n",
    "show_unimportant_figures = \"True\"  # Since this is coming in through papermill, I'll need to treat it as a boolean below, and the only False string is \"\".\n",
    "\n",
    "group = \"xjin_ucfmt_hmp2\"\n",
    "spgc_ss_stem = 'all'\n",
    "centroidA = '99'\n",
    "centroidB = '75'\n",
    "spgc_specgene_stem = \"spgc_specgene-ref2-p95\"\n",
    "pgene_stem = f\"gene{centroidA}_new-v22-agg{centroidB}\"\n",
    "spgc_stem = f\"{spgc_specgene_stem}_ss-{spgc_ss_stem}_t-30_thresh-corr150-depth250\"\n",
    "sfacts_stem = \"filt-poly05-cvrg05.ss-g10000-block0-seed0.fit-sfacts37-s85-seed0\"\n",
    "\n",
    "species_taxonomy_inpath = \"ref/gtpro/species_taxonomy_ext.tsv\"\n",
    "sample_to_spgc_inpath = f\"data/group/{group}/species/sp-{species_id}/r.proc.gtpro.{sfacts_stem}.spgc_ss-{spgc_ss_stem}.strain_samples.tsv\"\n",
    "sfacts_fit_inpath = f\"data/group/{group}/species/sp-{species_id}/r.proc.gtpro.{sfacts_stem}.world.nc\"\n",
    "spgc_agg_mgtp_inpath = f\"data/group/{group}/species/sp-{species_id}/r.proc.gtpro.{sfacts_stem}.spgc_ss-{spgc_ss_stem}.strain_mgtp.nc\"\n",
    "ref_geno_inpath = (\n",
    "    f\"data/species/sp-{species_id}/midasdb.geno.nc\"  # \"Re-calculated GT-Pro genotype\"\n",
    ")\n",
    "# ref_geno_inpath = (\n",
    "#     f\"data/species/sp-{species_id}/gtpro_ref.mgtp.nc\"  # \"Reference GT-Pro genotype\"\n",
    "# )\n",
    "spgc_meta_inpath = f\"data/group/{group}/species/sp-{species_id}/r.proc.gtpro.{sfacts_stem}.{pgene_stem}.{spgc_stem}.strain_meta.tsv\"\n",
    "ref_gene_copy_number_uhgg_inpath = (\n",
    "    f\"data/species/sp-{species_id}/gene{centroidB}_new.reference_copy_number.nc\"\n",
    ")\n",
    "spgc_gene_uhgg_inpath = f\"data/group/{group}/species/sp-{species_id}/r.proc.gtpro.{sfacts_stem}.{pgene_stem}.{spgc_stem}.strain_gene.tsv\"\n",
    "spgc_gene_uhgg_depth_inpath = f\"data/group/{group}/species/sp-{species_id}/r.proc.gtpro.{sfacts_stem}.{pgene_stem}.{spgc_specgene_stem}_ss-{spgc_ss_stem}_t-30.strain_depth_ratio.tsv\"\n",
    "spgc_gene_uhgg_corr_inpath = f\"data/group/{group}/species/sp-{species_id}/r.proc.gtpro.{sfacts_stem}.{pgene_stem}.{spgc_specgene_stem}_ss-{spgc_ss_stem}_t-30.strain_correlation.tsv\"\n",
    "uhgg_x_eggnog_inpath = (\n",
    "    f\"data/species/sp-{species_id}/pangenome_new.centroids.emapper.gene_x_eggnog.tsv\"\n",
    ")\n",
    "uhgg_x_top_eggnog_inpath = f\"data/species/sp-{species_id}/pangenome_new.centroids.emapper.gene_x_top_eggnog.tsv\"\n",
    "uhgg_gene_length_inpath = (\n",
    "    f\"ref/midasdb_uhgg_new/pangenomes/{species_id}/cluster_info.txt\"\n",
    ")\n",
    "\n",
    "# TODO: Add these to the snakemake rule.\n",
    "geno_pdist_inpath = f\"data/group/{group}/species/sp-{species_id}/r.proc.gtpro.{sfacts_stem}.spgc_ss-{spgc_ss_stem}.geno_uhgg-{dvm}_pdist-mask10-pseudo10.pkl\"\n",
    "gene_pdist_inpath = f\"data/group/{group}/species/sp-{species_id}/r.proc.gtpro.{sfacts_stem}.{pgene_stem}.{spgc_stem}.gene_filt5_jaccard_pdist.pkl\"\n",
    "\n",
    "gene_annotations_inpath = f\"data/species/sp-{species_id}/pangenome_new.centroids.emapper.d/proteins.emapper.annotations\"\n",
    "uhgg_depth_inpath = f\"data/group/{group}/species/sp-{species_id}/r.proc.{pgene_stem}.depth2.nc\"\n",
    "species_depth_inpath = f\"data/group/{group}/species/sp-{species_id}/r.proc.{pgene_stem}.{spgc_specgene_stem}.species_depth.tsv\"\n",
    "\n",
    "mgen_inpath = \"meta/hmp2/mgen.tsv\"\n",
    "preparation_inpath = \"meta/hmp2/preparation.tsv\"\n",
    "stool_inpath = \"meta/hmp2/stool.tsv\"\n",
    "subject_inpath = \"meta/hmp2/subject.tsv\"\n",
    "\n",
    "# TODO: Export SPGC gene info: prevalence, passes filtering against references,\n",
    "#    concordance with SNP dissimilarity in each genome set (both using SPGC-only, SPGC+refs, refs-only),\n",
    "#    cluster membership for each clustering analysis (SPGC-only, SPGC+refs, refs-only),\n",
    "gene_stats_outpath = f\"data/group/{group}/species/sp-{species_id}/r.proc.gtpro.{sfacts_stem}.{pgene_stem}.{spgc_stem}.gene_stats.tsv\"\n",
    "# TODO: Export info for each SPGC strain: passes filtering? relationship between\n",
    "#   minimum genotype distance to a reference and the associated minimum gene\n",
    "#   distance (both weighted and unweighted)\n",
    "spgc_strain_stats_outpath = f\"data/group/{group}/species/sp-{species_id}/r.proc.gtpro.{sfacts_stem}.{pgene_stem}.{spgc_stem}.spgc_strain_stats.tsv\"\n",
    "# TODO: Export info for each reference strain: relationship between\n",
    "#   minimum genotype distance to a reference and the associated minimum gene\n",
    "#   distance (both weighted and unweighted)\n",
    "ref_strain_stats_outpath = f\"data/group/{group}/species/sp-{species_id}/r.proc.gtpro.{sfacts_stem}.{pgene_stem}.{spgc_stem}.ref_strain_stats.tsv\"\n",
    "# TODO: Export compiled metadata (length, COG category table), etc.\n",
    "gene_meta_outpath = f\"data/group/{group}/species/sp-{species_id}/r.proc.gtpro.{sfacts_stem}.{pgene_stem}.{spgc_stem}.gene_meta.tsv\"\n",
    "\n",
    "# TODO: Export anything else I need for cross-species comparisons. What might that be?\n",
    "# strain_mwas_outpath = f\"data/group/{group}/species/sp-{species_id}/r.proc.gtpro.{sfacts_stem}.{pgene_stem}.{spgc_stem}.strain_mwas.tsv\"\n",
    "html_outpath = f\"data/group/{group}/species/sp-{species_id}/r.proc.gtpro.{sfacts_stem}.{pgene_stem}.{spgc_stem}.spgc_ref_comparison.html\""
   ]
  },
  {
   "cell_type": "markdown",
   "metadata": {
    "tags": []
   },
   "source": [
    "## Data Loading / Validation"
   ]
  },
  {
   "cell_type": "markdown",
   "metadata": {
    "tags": []
   },
   "source": [
    "#### Taxonomy"
   ]
  },
  {
   "cell_type": "code",
   "execution_count": null,
   "metadata": {
    "tags": []
   },
   "outputs": [],
   "source": [
    "species_taxonomy = lib.thisproject.data.load_species_taxonomy(species_taxonomy_inpath)\n",
    "species_taxonomy.loc[species_id]"
   ]
  },
  {
   "cell_type": "markdown",
   "metadata": {
    "tags": []
   },
   "source": [
    "### Gene Annotations"
   ]
  },
  {
   "cell_type": "code",
   "execution_count": null,
   "metadata": {
    "tags": []
   },
   "outputs": [],
   "source": [
    "uhgg_x_eggnog = pd.read_table(uhgg_x_eggnog_inpath)"
   ]
  },
  {
   "cell_type": "code",
   "execution_count": null,
   "metadata": {
    "tags": []
   },
   "outputs": [],
   "source": [
    "uhgg_x_top_eggnog = pd.read_table(uhgg_x_top_eggnog_inpath)"
   ]
  },
  {
   "cell_type": "code",
   "execution_count": null,
   "metadata": {
    "tags": []
   },
   "outputs": [],
   "source": [
    "uhgg_gene_length = (\n",
    "    pd.read_table(uhgg_gene_length_inpath)\n",
    "    .groupby(\"centroid_75\")\n",
    "    .centroid_99_length.mean()\n",
    ")"
   ]
  },
  {
   "cell_type": "code",
   "execution_count": null,
   "metadata": {
    "tags": []
   },
   "outputs": [],
   "source": [
    "eggnog_column_names = \"query seed_ortholog evalue score eggNOG_OGs max_annot_lvl COG_category Description Preferred_name GOs EC KEGG_ko KEGG_inpathway KEGG_Module KEGG_Reaction KEGG_rclass BRITE KEGG_TC CAZy BiGG_Reaction PFAMs\".split(\n",
    "    \" \"\n",
    ")\n",
    "_gene_annotations = (\n",
    "    pd.read_table(\n",
    "        gene_annotations_inpath,\n",
    "        comment=\"#\",\n",
    "        names=eggnog_column_names,\n",
    "        index_col=\"query\",\n",
    "    )\n",
    "    .rename_axis(index=\"gene_id\")\n",
    "    .replace({\"-\": np.nan})\n",
    ")\n",
    "_gene_annotations = uhgg_gene_length.to_frame().join(_gene_annotations)\n",
    "\n",
    "_gene_annotations.info()"
   ]
  },
  {
   "cell_type": "code",
   "execution_count": null,
   "metadata": {},
   "outputs": [],
   "source": [
    "gene_x_cog_category1 = (\n",
    "    _gene_annotations.COG_category.fillna(\"-\").apply(list).explode()[lambda x: x != \"-\"]\n",
    ")\n",
    "gene_x_cog_category1"
   ]
  },
  {
   "cell_type": "code",
   "execution_count": null,
   "metadata": {},
   "outputs": [],
   "source": [
    "cog_x_category = pd.read_table(\n",
    "    \"ref/cog-20.meta.tsv\",\n",
    "    names=[\"cog\", \"cog_category\", \"description\", \"short_name\", \"_4\", \"_5\", \"_6\"],\n",
    "    index_col=\"cog\",\n",
    ").cog_category\n",
    "cog_x_category"
   ]
  },
  {
   "cell_type": "code",
   "execution_count": null,
   "metadata": {},
   "outputs": [],
   "source": [
    "_gene_annotations.eggNOG_OGs"
   ]
  },
  {
   "cell_type": "code",
   "execution_count": null,
   "metadata": {},
   "outputs": [],
   "source": [
    "gene_x_cog = (\n",
    "    _gene_annotations.eggNOG_OGs.fillna(\"\")\n",
    "    .str.split(\",\")\n",
    "    .explode()[lambda x: x.str.startswith(\"COG\")]\n",
    "    .str.split(\"@\")\n",
    "    .str[0]\n",
    ")\n",
    "gene_x_cog.value_counts().head()\n",
    "gene_x_cog_category2 = gene_x_cog.map(cog_x_category).dropna().apply(list).explode()\n",
    "gene_x_cog_category2"
   ]
  },
  {
   "cell_type": "code",
   "execution_count": null,
   "metadata": {},
   "outputs": [],
   "source": [
    "gene_x_cog_category = (\n",
    "    pd.concat(\n",
    "        [\n",
    "            gene_x_cog_category1,\n",
    "            gene_x_cog_category2,  # FIXME: Which metadata table do I want?\n",
    "        ]\n",
    "    )\n",
    "    .reset_index()\n",
    "    .drop_duplicates()\n",
    ")\n",
    "\n",
    "gene_x_cog_category.columns = [\"centroid_75\", \"cog_category\"]\n",
    "gene_x_cog_category = gene_x_cog_category.set_index(\"centroid_75\").cog_category\n",
    "gene_x_cog_category.shape[0]"
   ]
  },
  {
   "cell_type": "code",
   "execution_count": null,
   "metadata": {},
   "outputs": [],
   "source": [
    "gene_annotations = _gene_annotations.assign(\n",
    "    COG_category=(\n",
    "        gene_x_cog_category.sort_values()\n",
    "        .reset_index()\n",
    "        .groupby(\"centroid_75\")\n",
    "        .apply(lambda x: \"\".join(x.cog_category.values))\n",
    "    )\n",
    ").assign(COG_category=lambda x: x.COG_category.fillna(\"\"))"
   ]
  },
  {
   "cell_type": "code",
   "execution_count": null,
   "metadata": {},
   "outputs": [],
   "source": [
    "gene_x_cog_category_matrix = (\n",
    "    gene_x_cog_category.reset_index()\n",
    "    .assign(tally=True)\n",
    "    .set_index([\"centroid_75\", \"cog_category\"])\n",
    "    .tally.unstack(\"cog_category\")\n",
    "    .fillna(False)\n",
    "    .reindex(gene_annotations.index, fill_value=False)\n",
    "    .assign(no_category=lambda x: x.sum(1) == 0)\n",
    ")\n",
    "gene_x_cog_category_matrix"
   ]
  },
  {
   "cell_type": "markdown",
   "metadata": {},
   "source": [
    "### Samples"
   ]
  },
  {
   "cell_type": "code",
   "execution_count": null,
   "metadata": {},
   "outputs": [],
   "source": [
    "# TODO: Read in a list of relevant samples and filter to only strains found in these."
   ]
  },
  {
   "cell_type": "code",
   "execution_count": null,
   "metadata": {},
   "outputs": [],
   "source": [
    "species_depth = pd.read_table(\n",
    "    species_depth_inpath, names=[\"sample\", \"depth\"], index_col=[\"sample\"]\n",
    ").depth\n",
    "species_depth"
   ]
  },
  {
   "cell_type": "code",
   "execution_count": null,
   "metadata": {
    "tags": []
   },
   "outputs": [],
   "source": [
    "mgen = pd.read_table(mgen_inpath, index_col=\"library_id\")\n",
    "preparation = pd.read_table(preparation_inpath, index_col=\"preparation_id\")\n",
    "stool = pd.read_table(stool_inpath, index_col=\"stool_id\")\n",
    "subject = pd.read_table(subject_inpath, index_col=\"subject_id\")\n",
    "\n",
    "mgen_meta = (\n",
    "    mgen.join(preparation, on=\"preparation_id\", lsuffix=\"_mgen\", rsuffix=\"_preparation\")\n",
    "    .join(stool, on=\"stool_id\")\n",
    "    .join(subject, on=\"subject_id\")\n",
    ")"
   ]
  },
  {
   "cell_type": "code",
   "execution_count": null,
   "metadata": {},
   "outputs": [],
   "source": [
    "subject_palette = lib.plot.construct_ordered_palette(mgen_meta.subject_id.unique())\n",
    "subject_palette"
   ]
  },
  {
   "cell_type": "code",
   "execution_count": null,
   "metadata": {},
   "outputs": [],
   "source": [
    "sample_list = mgen.index\n",
    "assert sample_list.unique\n",
    "sample_list = sample_list.to_list()\n",
    "len(sample_list), sample_list[:5], sample_list[-5:]"
   ]
  },
  {
   "cell_type": "code",
   "execution_count": null,
   "metadata": {
    "tags": []
   },
   "outputs": [],
   "source": [
    "uhgg_depth = xr.load_dataarray(uhgg_depth_inpath)\n",
    "subject_uhgg_depth = (\n",
    "    mgen_meta[[\"subject_id\"]]\n",
    "    .join(uhgg_depth.to_pandas())\n",
    "    .groupby(\"subject_id\")\n",
    "    .mean()\n",
    "    .dropna()\n",
    ")"
   ]
  },
  {
   "cell_type": "code",
   "execution_count": null,
   "metadata": {},
   "outputs": [],
   "source": [
    "uhgg_depth_ratio = uhgg_depth / species_depth.to_xarray().sel(sample=uhgg_depth.sample)"
   ]
  },
  {
   "cell_type": "code",
   "execution_count": null,
   "metadata": {},
   "outputs": [],
   "source": [
    "subject_mean_species_depth = (\n",
    "    mgen_meta[[\"subject_id\"]]\n",
    "    .join(species_depth)\n",
    "    .groupby(\"subject_id\")\n",
    "    .depth.mean()\n",
    "    .dropna()\n",
    ")"
   ]
  },
  {
   "cell_type": "code",
   "execution_count": null,
   "metadata": {},
   "outputs": [],
   "source": [
    "total_subject_uhgg_depth = (\n",
    "    mgen_meta[[\"subject_id\"]]\n",
    "    .join(uhgg_depth.to_pandas())\n",
    "    .groupby(\"subject_id\")\n",
    "    .sum()\n",
    "    .dropna()\n",
    ")\n",
    "total_subject_species_depth = (\n",
    "    mgen_meta[[\"subject_id\"]]\n",
    "    .join(species_depth)\n",
    "    .groupby(\"subject_id\")\n",
    "    .depth.sum()\n",
    "    .dropna()\n",
    ")\n",
    "subject_uhgg_depth_ratio = total_subject_uhgg_depth.divide(\n",
    "    total_subject_species_depth, axis=0\n",
    ")"
   ]
  },
  {
   "cell_type": "markdown",
   "metadata": {},
   "source": [
    "### Strains"
   ]
  },
  {
   "cell_type": "markdown",
   "metadata": {
    "tags": []
   },
   "source": [
    "#### Ref Strains"
   ]
  },
  {
   "cell_type": "code",
   "execution_count": null,
   "metadata": {},
   "outputs": [],
   "source": [
    "# \"Re-calculated GT-Pro genotype\"\n",
    "ref_geno = xr.load_dataarray(ref_geno_inpath)\n",
    "ref_geno[\"genome_id\"] = ref_geno.genome_id.to_series().map(\n",
    "    lambda s: \"UHGG\" + s[len(\"GUT_GENOME\") :]\n",
    ")\n",
    "ref_geno = ref_geno.fillna(0.5)\n",
    "ref_geno = sf.data.Genotype(ref_geno.rename({\"genome_id\": \"strain\"}).T)"
   ]
  },
  {
   "cell_type": "raw",
   "metadata": {},
   "source": [
    "# \"Reference GT-Pro genotype\"\n",
    "ref_geno = sf.Metagenotype.load(ref_geno_inpath).to_estimated_genotype()\n",
    "ref_geno.data[\"strain\"] = ref_geno.strain.to_series().map(\n",
    "    lambda s: \"UHGG\" + s[len(\"GUT_GENOME\") :]\n",
    ")\n",
    "ref_geno.shape"
   ]
  },
  {
   "cell_type": "code",
   "execution_count": null,
   "metadata": {},
   "outputs": [],
   "source": [
    "reference_meta = (\n",
    "    pd.read_table(\"ref/uhgg_genomes_all_4644.tsv\", index_col=\"Genome\")\n",
    "    .rename_axis(index=\"genome_id\")[\n",
    "        lambda x: x.MGnify_accession == \"MGYG-HGUT-\" + species_id[1:]\n",
    "    ]\n",
    "    .rename(lambda s: \"UHGG\" + s[len(\"GUT_GENOME\") :])\n",
    "    .loc[ref_geno.strain]\n",
    ")"
   ]
  },
  {
   "cell_type": "code",
   "execution_count": null,
   "metadata": {},
   "outputs": [],
   "source": [
    "bins = np.linspace(0, 100, num=101)\n",
    "plt.hist(reference_meta.Completeness, bins=bins)\n",
    "plt.hist(reference_meta.Contamination, bins=bins)\n",
    "None"
   ]
  },
  {
   "cell_type": "code",
   "execution_count": null,
   "metadata": {
    "tags": []
   },
   "outputs": [],
   "source": [
    "ref_gene_copy_number_uhgg = xr.load_dataarray(ref_gene_copy_number_uhgg_inpath)\n",
    "ref_gene_uhgg = (ref_gene_copy_number_uhgg > 0).astype(int).to_pandas().T"
   ]
  },
  {
   "cell_type": "code",
   "execution_count": null,
   "metadata": {
    "tags": []
   },
   "outputs": [],
   "source": [
    "ref_gene_uhgg.shape"
   ]
  },
  {
   "cell_type": "markdown",
   "metadata": {
    "tags": []
   },
   "source": [
    "#### SPGC Strains"
   ]
  },
  {
   "cell_type": "code",
   "execution_count": null,
   "metadata": {
    "tags": []
   },
   "outputs": [],
   "source": [
    "sample_to_spgc = pd.read_table(sample_to_spgc_inpath, index_col=\"sample\").strain.astype(\n",
    "    str\n",
    ")"
   ]
  },
  {
   "cell_type": "code",
   "execution_count": null,
   "metadata": {},
   "outputs": [],
   "source": [
    "strain_x_sample_list_count = (\n",
    "    sample_to_spgc.to_frame()\n",
    "    .assign(in_sample_list=lambda x: x.index.isin(sample_list))\n",
    "    .value_counts()\n",
    "    .unstack(\"in_sample_list\", fill_value=0)\n",
    "    .reindex(columns=[False, True], fill_value=0)\n",
    "    .rename(\n",
    "        columns={\n",
    "            True: \"num_samples_in_sample_list\",\n",
    "            False: \"num_samples_not_in_sample_list\",\n",
    "        }\n",
    "    )\n",
    ")"
   ]
  },
  {
   "cell_type": "code",
   "execution_count": null,
   "metadata": {
    "tags": []
   },
   "outputs": [],
   "source": [
    "sfacts_fit = sf.World.load(sfacts_fit_inpath).drop_low_abundance_strains(0.5)\n",
    "# Strains should be str not int.\n",
    "sfacts_fit.data[\"strain\"] = sfacts_fit.strain.values.astype(str)\n",
    "print(dict(sfacts_fit.sizes))\n",
    "\n",
    "# Pre-calculate shared heatmap decorations\n",
    "position_ss = sfacts_fit.random_sample(\n",
    "    position=min(500, sfacts_fit.sizes[\"position\"])\n",
    ").position\n",
    "\n",
    "# Construct a strain palette\n",
    "_world = sfacts_fit.drop_low_abundance_strains(0.05)\n",
    "_sfacts_list = list(\n",
    "    linkage_order(\n",
    "        _world.genotype.linkage(optimal_ordering=True),\n",
    "        _world.strain.values,\n",
    "    )\n",
    ")\n",
    "_sfacts_list.remove(\"-1\")  # Drop \"other\" strain.\n",
    "spgc_palette = lib.plot.construct_ordered_palette(\n",
    "    _sfacts_list,\n",
    "    cm=\"rainbow\",\n",
    ")"
   ]
  },
  {
   "cell_type": "code",
   "execution_count": null,
   "metadata": {},
   "outputs": [],
   "source": [
    "spgc_est_mgtp = sf.Metagenotype.load(spgc_agg_mgtp_inpath)\n",
    "spgc_est_mgtp.data[\"sample\"] = spgc_est_mgtp.data[\"sample\"].to_series().apply(str)\n",
    "spgc_est_geno = spgc_est_mgtp.to_estimated_genotype(pseudo=0)\n",
    "spgc_est_mgtp.sizes"
   ]
  },
  {
   "cell_type": "code",
   "execution_count": null,
   "metadata": {},
   "outputs": [],
   "source": [
    "unifrac_pdist = sfacts_fit.unifrac_pdist()\n",
    "unifrac_cdmat = sp.spatial.distance.squareform(unifrac_pdist)\n",
    "spgc_sample_linkage = sp.cluster.hierarchy.optimal_leaf_ordering(\n",
    "    fastcluster.linkage(unifrac_cdmat), unifrac_cdmat\n",
    ")"
   ]
  },
  {
   "cell_type": "code",
   "execution_count": null,
   "metadata": {},
   "outputs": [],
   "source": [
    "w = sfacts_fit.sel(position=position_ss)\n",
    "try:\n",
    "    spgc_position_ss_linkage = fastcluster.linkage(\n",
    "        sp.spatial.distance.squareform(\n",
    "            spgc_est_geno.sel(position=position_ss).pdist(\"position\")\n",
    "        )\n",
    "    )\n",
    "except ValueError as err:\n",
    "    print(err)\n",
    "    spgc_position_ss_linkage = None\n",
    "spgc_sample_colors = (\n",
    "    sfacts_fit.sample.to_series().map(sample_to_spgc).map(spgc_palette)\n",
    ")  # Color samples that are strain-pure.\n",
    "spgc_strain_linkage = fastcluster.linkage(\n",
    "    sp.spatial.distance.squareform(w.genotype.pdist(\"strain\"))\n",
    ")\n",
    "spgc_strain_colors = sfacts_fit.strain.to_series().map(spgc_palette)"
   ]
  },
  {
   "cell_type": "code",
   "execution_count": null,
   "metadata": {},
   "outputs": [],
   "source": [
    "if show_unimportant_figures:\n",
    "    sf.plot.plot_community(\n",
    "        sfacts_fit.sel(position=position_ss),\n",
    "        col_linkage_func=lambda w: spgc_sample_linkage,\n",
    "        row_linkage_func=lambda w: spgc_strain_linkage,\n",
    "        col_colors=spgc_sample_colors,\n",
    "        row_colors=spgc_strain_colors,\n",
    "    )"
   ]
  },
  {
   "cell_type": "code",
   "execution_count": null,
   "metadata": {},
   "outputs": [],
   "source": [
    "if show_unimportant_figures:\n",
    "    sf.plot.plot_metagenotype(\n",
    "        sfacts_fit.sel(position=position_ss),\n",
    "        col_linkage_func=lambda w: spgc_sample_linkage,\n",
    "        row_colors=spgc_sample_colors,\n",
    "        row_linkage_func=lambda w: spgc_position_ss_linkage,\n",
    "        transpose=True,\n",
    "    )"
   ]
  },
  {
   "cell_type": "code",
   "execution_count": null,
   "metadata": {
    "tags": []
   },
   "outputs": [],
   "source": [
    "if show_unimportant_figures:\n",
    "    g = sf.data.Genotype.concat(\n",
    "        dict(mgen=spgc_est_geno, fit=sfacts_fit.genotype), dim=\"strain\"\n",
    "    ).mlift(\"fillna\", 0.5)\n",
    "    g_pdist = g.pdist()\n",
    "    g_linkage = g.linkage()\n",
    "\n",
    "    sf.plot.plot_genotype(\n",
    "        g.sel(position=position_ss),\n",
    "        # transpose=True,\n",
    "        row_linkage_func=lambda w: g_linkage,\n",
    "        col_linkage_func=lambda w: spgc_position_ss_linkage,\n",
    "    )"
   ]
  },
  {
   "cell_type": "code",
   "execution_count": null,
   "metadata": {
    "tags": []
   },
   "outputs": [],
   "source": [
    "spgc_meta = (\n",
    "    pd.read_table(spgc_meta_inpath, index_col=\"genome_id\")\n",
    "    .rename_axis(index=\"strain\")\n",
    "    .rename(str)\n",
    "    .join(strain_x_sample_list_count)\n",
    ")\n",
    "print(spgc_meta.shape)\n",
    "spgc_meta"
   ]
  },
  {
   "cell_type": "code",
   "execution_count": null,
   "metadata": {},
   "outputs": [],
   "source": [
    "assert spgc_meta.assign(\n",
    "    match_counts=lambda x: (\n",
    "        x.num_samples_in_sample_list + x.num_samples_not_in_sample_list\n",
    "    )\n",
    "    == x.num_sample\n",
    ").match_counts.all()"
   ]
  },
  {
   "cell_type": "code",
   "execution_count": null,
   "metadata": {
    "tags": []
   },
   "outputs": [],
   "source": [
    "spgc_gene_uhgg = pd.read_table(spgc_gene_uhgg_inpath, index_col=\"gene_id\").rename_axis(\n",
    "    columns=\"strain\"\n",
    ")"
   ]
  },
  {
   "cell_type": "code",
   "execution_count": null,
   "metadata": {
    "tags": []
   },
   "outputs": [],
   "source": [
    "ref_num_genes_uhgg = ref_gene_uhgg.sum()\n",
    "spgc_num_genes_uhgg = spgc_gene_uhgg.sum()"
   ]
  },
  {
   "cell_type": "markdown",
   "metadata": {
    "tags": []
   },
   "source": [
    "### Strain Selection / Filtering"
   ]
  },
  {
   "cell_type": "code",
   "execution_count": null,
   "metadata": {
    "tags": []
   },
   "outputs": [],
   "source": [
    "# NOTE: Select any ref genotype that is within the top-10 closest distances from an SPGC strain.\n",
    "# spgc_to_ref_geno_cdist = ref_geno.sel(\n",
    "#     position=spgc_est_geno.position,\n",
    "#     strain=idxwhere(\n",
    "#         (reference_meta.Completeness > 97) & (reference_meta.Contamination < 2)\n",
    "#     ),\n",
    "# ).cdist(spgc_est_geno)\n",
    "# ref_list = list(\n",
    "#     spgc_to_ref_geno_cdist.apply(lambda x: x.sort_values().head(10).index)\n",
    "#     .stack()\n",
    "#     .unique()\n",
    "# )\n",
    "\n",
    "# Select all high-enough-quality refs\n",
    "ref_list = idxwhere(\n",
    "    (reference_meta.Completeness > 90) & (reference_meta.Contamination < 2)\n",
    ")\n",
    "\n",
    "print(\n",
    "    len(ref_list),\n",
    "    \"of\",\n",
    "    len(reference_meta),\n",
    "    \"reference genomes pass completeness and contamination thresholds.\",\n",
    ")"
   ]
  },
  {
   "cell_type": "code",
   "execution_count": null,
   "metadata": {},
   "outputs": [],
   "source": [
    "reference_meta"
   ]
  },
  {
   "cell_type": "code",
   "execution_count": null,
   "metadata": {},
   "outputs": [],
   "source": [
    "_ref_uhgg_prevalence = ref_gene_uhgg[ref_list].mean(1)\n",
    "ref_gene_uhgg_entropy = (-_ref_uhgg_prevalence * np.log2(_ref_uhgg_prevalence)).fillna(\n",
    "    0\n",
    ")\n",
    "plt.hist(ref_gene_uhgg_entropy, bins=[0] + list(np.logspace(-3, 1)))\n",
    "plt.xscale(\"symlog\", linthresh=1e-3, linscale=0.1)\n",
    "plt.yscale(\"log\")"
   ]
  },
  {
   "cell_type": "code",
   "execution_count": null,
   "metadata": {
    "tags": []
   },
   "outputs": [],
   "source": [
    "x = spgc_meta[lambda x: x.species_gene_frac > 0.9].num_genes\n",
    "y = ref_num_genes_uhgg\n",
    "_df, _loc, _scale = sp.stats.t.fit(x.values, fix_df=2)\n",
    "_dist0 = sp.stats.t(_df, _loc, _scale)\n",
    "_dist1 = sp.stats.norm(_loc, _scale)\n",
    "\n",
    "thresh_max_num_uhgg_genes = _dist1.ppf(0.999)\n",
    "thresh_min_num_uhgg_genes = _dist1.ppf(0.001)\n",
    "\n",
    "\n",
    "bins = np.linspace(0, x.max() * 1.5, num=50)\n",
    "xx = np.linspace(0, x.max() * 1.5, num=1000)\n",
    "\n",
    "plt.hist(x, density=True, bins=bins, alpha=0.2)\n",
    "plt.hist(y, density=True, bins=bins, alpha=0.2)\n",
    "\n",
    "plt.plot(xx, _dist0.pdf(xx), color=\"k\")\n",
    "plt.plot(xx, _dist1.pdf(xx), color=\"k\", linestyle=\"--\")\n",
    "plt.axvline(thresh_max_num_uhgg_genes, lw=1, linestyle=\"--\", color=\"k\")\n",
    "plt.axvline(thresh_min_num_uhgg_genes, lw=1, linestyle=\"--\", color=\"k\")"
   ]
  },
  {
   "cell_type": "code",
   "execution_count": null,
   "metadata": {
    "tags": []
   },
   "outputs": [],
   "source": [
    "thresh_min_num_uhgg_genes, thresh_max_num_uhgg_genes"
   ]
  },
  {
   "cell_type": "code",
   "execution_count": null,
   "metadata": {
    "tags": []
   },
   "outputs": [],
   "source": [
    "plt.scatter(\n",
    "    \"sum_depth\",\n",
    "    \"species_gene_frac\",\n",
    "    c=(spgc_meta.num_genes - _loc) / _scale,\n",
    "    data=spgc_meta,\n",
    "    norm=mpl.colors.PowerNorm(1 / 1, vmin=-4, vmax=4),\n",
    ")\n",
    "plt.xscale(\"log\")\n",
    "# plt.yscale(\"logit\")\n",
    "plt.axvline(1, lw=1, color=\"k\", linestyle=\"--\")\n",
    "plt.axhline(0.9, lw=1, color=\"k\", linestyle=\"--\")\n",
    "plt.colorbar()"
   ]
  },
  {
   "cell_type": "code",
   "execution_count": null,
   "metadata": {},
   "outputs": [],
   "source": [
    "plt.scatter(\n",
    "    \"max_depth\",\n",
    "    \"sum_depth\",\n",
    "    c=1 - spgc_meta.species_gene_frac,\n",
    "    data=spgc_meta,\n",
    "    norm=mpl.colors.LogNorm(),\n",
    ")\n",
    "plt.plot([0, 1e2], [0, 1e2])\n",
    "plt.xscale(\"log\")\n",
    "plt.yscale(\"log\")\n",
    "# plt.axvline(1, lw=1, color=\"k\", linestyle=\"--\")\n",
    "# plt.axhline(0.9, lw=1, color=\"k\", linestyle=\"--\")\n",
    "plt.colorbar()"
   ]
  },
  {
   "cell_type": "code",
   "execution_count": null,
   "metadata": {
    "tags": []
   },
   "outputs": [],
   "source": [
    "# NOTE: Select SPGC strains that pass various filters\n",
    "spgc_list = idxwhere(\n",
    "    (spgc_meta.sum_depth > 1)\n",
    "    & (spgc_meta.num_samples_in_sample_list > 0)\n",
    "    & (spgc_meta.species_gene_frac > 0.9)\n",
    "    & (spgc_num_genes_uhgg <= thresh_max_num_uhgg_genes)\n",
    "    & (spgc_num_genes_uhgg >= thresh_min_num_uhgg_genes)\n",
    ")\n",
    "\n",
    "print(\n",
    "    \"Out of\",\n",
    "    spgc_meta.shape[0],\n",
    "    \"SPGC strains,\",\n",
    "    len(spgc_list),\n",
    "    \"passed QC. There are also\",\n",
    "    len(ref_list),\n",
    "    \"reference strains passing QC.\",\n",
    ")"
   ]
  },
  {
   "cell_type": "code",
   "execution_count": null,
   "metadata": {},
   "outputs": [],
   "source": [
    "print(\n",
    "    (spgc_meta.loc[spgc_list].num_samples_not_in_sample_list > 0).sum(),\n",
    "    \"of these strains were also found in the excluded samples.\\n\",\n",
    ")\n",
    "for strain in idxwhere((spgc_meta.loc[spgc_list].num_samples_not_in_sample_list > 0)):\n",
    "    print(strain, \":\", idxwhere(sample_to_spgc == strain))"
   ]
  },
  {
   "cell_type": "code",
   "execution_count": null,
   "metadata": {
    "tags": []
   },
   "outputs": [],
   "source": [
    "assert len(spgc_list) > 2"
   ]
  },
  {
   "cell_type": "raw",
   "metadata": {},
   "source": [
    "strain_geno_all = sf.Genotype.concat(dict(\n",
    "    ref=ref_geno.sel(position=spgc_est_geno.position),\n",
    "    spgc=spgc_est_geno.sel(strain=spgc_list),\n",
    "), dim='strain', rename=False).mlift('fillna', 0.5)\n",
    "\n",
    "print(ref_geno.sizes['strain'], len(spgc_list))\n",
    "strain_geno_all_pdist = strain_geno_all.pdist(q=1)\n",
    "strain_geno_all_linkage = strain_geno_all.linkage(pdist_kwargs=dict(q=1), optimal_ordering=True)"
   ]
  },
  {
   "cell_type": "raw",
   "metadata": {},
   "source": [
    "d0 = strain_geno_all_pdist.copy() + np.eye(strain_geno_all_pdist.shape[0])\n",
    "d1 = d0.min().to_frame(name='min_dist_to_ref').assign(is_ref=lambda x: x.index.isin(ref_geno.strain.values))\n",
    "\n",
    "sns.stripplot(data=d1, x='is_ref', y='min_dist_to_ref')"
   ]
  },
  {
   "cell_type": "code",
   "execution_count": null,
   "metadata": {
    "tags": []
   },
   "outputs": [],
   "source": [
    "strain_geno = sf.Genotype.concat(\n",
    "    dict(\n",
    "        ref=ref_geno.sel(strain=ref_list, position=spgc_est_geno.position),\n",
    "        spgc=spgc_est_geno.sel(strain=spgc_list),\n",
    "    ),\n",
    "    dim=\"strain\",\n",
    "    rename=False,\n",
    ").mlift(\"fillna\", 0.5)"
   ]
  },
  {
   "cell_type": "code",
   "execution_count": null,
   "metadata": {},
   "outputs": [],
   "source": [
    "# Estimate of how long it will take to run the full pdist operation (hours):\n",
    "((strain_geno.sizes[\"strain\"] / 200) ** 2 * 4.61) / 3600"
   ]
  },
  {
   "cell_type": "code",
   "execution_count": null,
   "metadata": {},
   "outputs": [],
   "source": [
    "# # Too slow!!!\n",
    "# strain_geno_pdist = strain_geno.pdist(q=1)\n",
    "\n",
    "# Instead we'll do something faster.\n",
    "# For computational efficiency, we're downcasting to float32 and pre-transforming the genotypes into [-1, 1] space.\n",
    "g = strain_geno  # .isel(strain=slice(0, 100))  # For testing purposes\n",
    "x = sf.math.genotype_binary_to_sign(g.values).astype(np.float32)\n",
    "# Then we'll run this on a numba-jitted version of sf.math.genotype_dissimilarity_transformed_values\n",
    "strain_geno_pdist_old = pd.DataFrame(\n",
    "    squareform(pdist(x, metric=genotype_dissimilarity_transformed_values_jit)),\n",
    "    index=g.strain,\n",
    "    columns=g.strain,\n",
    ")"
   ]
  },
  {
   "cell_type": "code",
   "execution_count": null,
   "metadata": {},
   "outputs": [],
   "source": [
    "import pickle\n",
    "\n",
    "with open(geno_pdist_inpath, \"rb\") as f:\n",
    "    d = pickle.load(f)\n",
    "\n",
    "_cdmat = d[\"cdmat\"]\n",
    "_labels = [l.replace(\"GUT_GENOME\", \"UHGG\") for l in d[\"labels\"]]\n",
    "\n",
    "_pdmat = pd.DataFrame(squareform(_cdmat), index=_labels, columns=_labels).loc[\n",
    "    g.strain, g.strain\n",
    "]\n",
    "plt.scatter(squareform(strain_geno_pdist_old), squareform(_pdmat), s=1)"
   ]
  },
  {
   "cell_type": "code",
   "execution_count": null,
   "metadata": {},
   "outputs": [],
   "source": [
    "strain_geno_pdist = (\n",
    "    _pdmat  # Use the new masked hamming distance estimates instead of the old ones\n",
    ")"
   ]
  },
  {
   "cell_type": "raw",
   "metadata": {},
   "source": [
    "# This value will be used as a pseudocount, updating the SNP-profile\n",
    "# distance as though a single mismatched position was found.\n",
    "geno_pdist_adjust = 1 / sfacts_fit.sizes[\"position\"]"
   ]
  },
  {
   "cell_type": "code",
   "execution_count": null,
   "metadata": {},
   "outputs": [],
   "source": [
    "strain_geno_cdmat = sp.spatial.distance.squareform(strain_geno_pdist)\n",
    "# strain_geno_linkage = strain_geno.linkage(pdist_kwargs=dict(q=1), optimal_ordering=True)\n",
    "strain_geno_linkage = sp.cluster.hierarchy.optimal_leaf_ordering(\n",
    "    fastcluster.linkage(strain_geno_cdmat, method=\"average\"), strain_geno_cdmat\n",
    ")"
   ]
  },
  {
   "cell_type": "code",
   "execution_count": null,
   "metadata": {},
   "outputs": [],
   "source": [
    "genome_type = reference_meta.Genome_type.reindex(strain_geno.strain)\n",
    "genome_type.loc[genome_type.index.isin(spgc_list)] = \"SPGC\"\n",
    "genome_type_order = [\"Isolate\", \"MAG\", \"SPGC\"]\n",
    "genome_type_palette = lib.plot.construct_ordered_palette(genome_type_order)"
   ]
  },
  {
   "cell_type": "code",
   "execution_count": null,
   "metadata": {},
   "outputs": [],
   "source": [
    "isolate_list = idxwhere(genome_type == \"Isolate\")\n",
    "mag_list = idxwhere(genome_type == \"MAG\")"
   ]
  },
  {
   "cell_type": "code",
   "execution_count": null,
   "metadata": {},
   "outputs": [],
   "source": [
    "fig, ax = plt.subplots(figsize=(2, 1))\n",
    "for _genome_type in genome_type_order:\n",
    "    ax.scatter([], [], color=genome_type_palette[_genome_type], label=_genome_type)\n",
    "ax.legend()\n",
    "\n",
    "lib.plot.hide_axes_and_spines(ax)"
   ]
  },
  {
   "cell_type": "code",
   "execution_count": null,
   "metadata": {},
   "outputs": [],
   "source": [
    "fig, ax = plt.subplots(figsize=(2, 1))\n",
    "for _genome_type in genome_type_order:\n",
    "    ax.scatter([], [], color=genome_type_palette[_genome_type], label=_genome_type)\n",
    "ax.legend(ncols=3)\n",
    "\n",
    "lib.plot.hide_axes_and_spines(ax)"
   ]
  },
  {
   "cell_type": "raw",
   "metadata": {
    "tags": []
   },
   "source": [
    "# Can take a LONG time for species with many strains (e.g. E. coli with ~6000)\n",
    "\n",
    "_colors = genome_type.map(genome_type_palette)\n",
    "sf.plot.plot_genotype(\n",
    "    strain_geno.sel(position=position_ss),\n",
    "    transpose=True,\n",
    "    col_linkage=strain_geno_linkage,\n",
    "    col_linkage_func=None,\n",
    "    row_linkage_func=None,\n",
    "    col_cluster=False,\n",
    "    row_cluster=False,\n",
    "    col_colors=_colors,\n",
    ")"
   ]
  },
  {
   "cell_type": "code",
   "execution_count": null,
   "metadata": {},
   "outputs": [],
   "source": [
    "_colors = genome_type.map(genome_type_palette)\n",
    "sns.clustermap(\n",
    "    strain_geno_pdist,\n",
    "    row_colors=_colors,\n",
    "    col_colors=_colors,\n",
    "    row_linkage=strain_geno_linkage,\n",
    "    col_linkage=strain_geno_linkage,\n",
    "    vmin=0,\n",
    "    vmax=1,\n",
    "    xticklabels=0,\n",
    "    yticklabels=0,\n",
    "    # figsize=(40, 40),\n",
    ")"
   ]
  },
  {
   "cell_type": "code",
   "execution_count": null,
   "metadata": {},
   "outputs": [],
   "source": [
    "fig, ax = plt.subplots(figsize=(10, 2))\n",
    "sns.heatmap([[]], vmin=0, vmax=1, ax=ax, cbar_kws=dict(location=\"bottom\"))\n",
    "lib.plot.hide_axes_and_spines(ax=ax)"
   ]
  },
  {
   "cell_type": "code",
   "execution_count": null,
   "metadata": {
    "tags": []
   },
   "outputs": [],
   "source": [
    "from scipy.spatial.distance import squareform\n",
    "\n",
    "bins = np.linspace(0, 1)\n",
    "plt.hist(\n",
    "    squareform(strain_geno_pdist.loc[ref_list, ref_list]),\n",
    "    bins=bins,\n",
    "    histtype=\"step\",\n",
    "    density=True,\n",
    "    label=\"ref-to-ref\",\n",
    ")\n",
    "plt.hist(\n",
    "    strain_geno_pdist.loc[ref_list, spgc_list].values.flatten(),\n",
    "    bins=bins,\n",
    "    histtype=\"step\",\n",
    "    density=True,\n",
    "    label=\"spgc-to-ref\",\n",
    ")\n",
    "plt.hist(\n",
    "    squareform(strain_geno_pdist.loc[spgc_list, spgc_list]),\n",
    "    bins=bins,\n",
    "    histtype=\"step\",\n",
    "    density=True,\n",
    "    label=\"spgc-to-spgc\",\n",
    ")\n",
    "plt.legend()"
   ]
  },
  {
   "cell_type": "code",
   "execution_count": null,
   "metadata": {
    "tags": []
   },
   "outputs": [],
   "source": [
    "bins = np.linspace(0, 1, num=200)\n",
    "\n",
    "_pdist = strain_geno_pdist + np.eye(len(strain_geno_pdist))\n",
    "\n",
    "plt.hist(\n",
    "    _pdist.loc[ref_list, ref_list].min(),\n",
    "    bins=bins,\n",
    "    histtype=\"step\",\n",
    "    cumulative=True,\n",
    "    density=True,\n",
    "    label=\"ref-to-ref\",\n",
    ")\n",
    "plt.hist(\n",
    "    _pdist.loc[ref_list, spgc_list].min(),\n",
    "    bins=bins,\n",
    "    histtype=\"step\",\n",
    "    cumulative=True,\n",
    "    density=True,\n",
    "    label=\"spgc-to-ref\",\n",
    ")\n",
    "plt.hist(\n",
    "    _pdist.loc[spgc_list, ref_list].min(),\n",
    "    bins=bins,\n",
    "    histtype=\"step\",\n",
    "    cumulative=True,\n",
    "    density=True,\n",
    "    label=\"ref-to-spgc\",\n",
    ")\n",
    "plt.hist(\n",
    "    _pdist.loc[spgc_list, spgc_list].min(),\n",
    "    bins=bins,\n",
    "    histtype=\"step\",\n",
    "    cumulative=True,\n",
    "    density=True,\n",
    "    label=\"spgc-to-spgc\",\n",
    ")\n",
    "\n",
    "plt.legend()\n",
    "# plt.axvline(0.43, lw=1, linestyle='--', color='k')\n",
    "plt.xlabel(\"minimum distance\")\n",
    "plt.ylabel(\"cumulative fraction\")"
   ]
  },
  {
   "cell_type": "code",
   "execution_count": null,
   "metadata": {
    "tags": []
   },
   "outputs": [],
   "source": [
    "spgc_gene_uhgg.shape, ref_gene_uhgg.shape"
   ]
  },
  {
   "cell_type": "code",
   "execution_count": null,
   "metadata": {
    "tags": []
   },
   "outputs": [],
   "source": [
    "strain_gene_uhgg = pd.concat(\n",
    "    [ref_gene_uhgg[ref_list], spgc_gene_uhgg[spgc_list]], axis=1\n",
    ").fillna(0)[lambda x: x.sum(1) > 0]\n",
    "strain_gene_uhgg.shape"
   ]
  },
  {
   "cell_type": "code",
   "execution_count": null,
   "metadata": {
    "tags": []
   },
   "outputs": [],
   "source": [
    "bins = np.linspace(0, 10000)\n",
    "plt.hist(\n",
    "    strain_gene_uhgg[ref_list].sum(),\n",
    "    bins=bins,\n",
    "    histtype=\"step\",\n",
    "    label=\"ref\",\n",
    "    density=True,\n",
    ")\n",
    "plt.hist(\n",
    "    strain_gene_uhgg[spgc_list].sum(),\n",
    "    bins=bins,\n",
    "    histtype=\"step\",\n",
    "    label=\"spgc\",\n",
    "    density=True,\n",
    ")\n",
    "plt.legend()\n",
    "\n",
    "None"
   ]
  },
  {
   "cell_type": "markdown",
   "metadata": {},
   "source": [
    "### Strain Dereplication"
   ]
  },
  {
   "cell_type": "code",
   "execution_count": null,
   "metadata": {},
   "outputs": [],
   "source": [
    "strain_derep_clust = pd.Series(\n",
    "    sp.cluster.hierarchy.fcluster(strain_geno_linkage, t=0.01, criterion=\"distance\"),\n",
    "    index=strain_geno.strain,\n",
    ")\n",
    "\n",
    "strain_derep_clust_stats = (\n",
    "    strain_derep_clust.to_frame(name=\"clust\")\n",
    "    .assign(\n",
    "        strain_type_flag=lambda x: x.index.isin(spgc_list) * 2\n",
    "        + x.index.isin(ref_list) * 3,\n",
    "        strain_type=lambda x: x.strain_type_flag.map(\n",
    "            {\n",
    "                2: \"spgc\",\n",
    "                3: \"ref\",\n",
    "                # 0: \"neither??\", 6: \"both??\"\n",
    "            }\n",
    "        ),\n",
    "    )[[\"clust\", \"strain_type\"]]\n",
    "    .value_counts()\n",
    "    .unstack()\n",
    "    .reindex(columns=[\"neither??\", \"spgc\", \"ref\", \"both??\"])\n",
    "    .fillna(0)\n",
    "    .assign(\n",
    "        clust_type_flag=lambda x: (x.spgc > 0) * 2 + (x.ref > 0) * 3,\n",
    "        clust_type=lambda x: x.clust_type_flag.map(\n",
    "            {\n",
    "                # 0: \"neither??\",\n",
    "                2: \"spgc\",\n",
    "                3: \"ref\",\n",
    "                5: \"both\",\n",
    "            }\n",
    "        ),\n",
    "    )\n",
    ")\n",
    "\n",
    "pd.DataFrame(\n",
    "    dict(\n",
    "        total_strains=strain_derep_clust_stats[[\"ref\", \"spgc\"]].sum(),\n",
    "        derep_strain=(strain_derep_clust_stats[[\"ref\", \"spgc\"]] > 0).sum(),\n",
    "        derep_membership=(strain_derep_clust_stats.clust_type.value_counts()),\n",
    "    )\n",
    ").reindex([\"ref\", \"both\", \"spgc\"]).fillna(0).astype(int)"
   ]
  },
  {
   "cell_type": "code",
   "execution_count": null,
   "metadata": {},
   "outputs": [],
   "source": [
    "d = (\n",
    "    strain_derep_clust.to_frame(name=\"clust\")\n",
    "    .join(genome_type)\n",
    "    .value_counts()\n",
    "    .unstack(fill_value=0)\n",
    ")\n",
    "\n",
    "pd.DataFrame(\n",
    "    dict(\n",
    "        total_strain=d.sum().rename(lambda x: str([x])),\n",
    "        derep_strain=(d > 0).sum().rename(lambda x: str([x])),\n",
    "        derep_membership=d.apply(lambda x: idxwhere((x > 0)), axis=1)\n",
    "        .value_counts()\n",
    "        .rename(str),\n",
    "    )\n",
    ").fillna(0).astype(int)"
   ]
  },
  {
   "cell_type": "markdown",
   "metadata": {
    "tags": []
   },
   "source": [
    "## Strain Geno/Gene Spaces"
   ]
  },
  {
   "cell_type": "raw",
   "metadata": {
    "tags": []
   },
   "source": [
    "strain_gene_uhgg_cdmat = sp.spatial.distance.pdist(\n",
    "    strain_gene_uhgg.T,\n",
    "    metric=\"cosine\",\n",
    "    w=ref_gene_uhgg_entropy.loc[strain_gene_uhgg.index],\n",
    ")\n",
    "strain_gene_uhgg_pdist = pd.DataFrame(\n",
    "    sp.spatial.distance.squareform(strain_gene_uhgg_cdmat),\n",
    "    index=strain_gene_uhgg.columns,\n",
    "    columns=strain_gene_uhgg.columns,\n",
    ")\n",
    "\n",
    "assert (strain_geno_pdist.index == strain_gene_uhgg_pdist.index).all()"
   ]
  },
  {
   "cell_type": "raw",
   "metadata": {},
   "source": [
    "strain_gene_uhgg_linkage = sp.cluster.hierarchy.optimal_leaf_ordering(\n",
    "    fastcluster.linkage(strain_gene_uhgg_cdmat, method=\"average\"),\n",
    "    strain_gene_uhgg_cdmat,\n",
    ")\n",
    "# strain_gene_uhgg_linkage = sp.cluster.hierarchy.linkage(\n",
    "#     strain_gene_uhgg_cdmat, method=\"average\", optimal_ordering=True\n",
    "# )"
   ]
  },
  {
   "cell_type": "code",
   "execution_count": null,
   "metadata": {
    "tags": []
   },
   "outputs": [],
   "source": [
    "spgc_gene_uhgg_depth = (\n",
    "    pd.read_table(spgc_gene_uhgg_depth_inpath, index_col=[\"gene_id\", \"strain\"])\n",
    "    .depth.unstack(\"strain\")\n",
    "    .rename(columns=str)\n",
    ")\n",
    "spgc_gene_uhgg_corr = (\n",
    "    pd.read_table(spgc_gene_uhgg_corr_inpath, index_col=[\"gene_id\", \"strain\"])\n",
    "    .correlation.unstack(\"strain\")\n",
    "    .rename(columns=str)\n",
    ")"
   ]
  },
  {
   "cell_type": "code",
   "execution_count": null,
   "metadata": {
    "tags": []
   },
   "outputs": [],
   "source": [
    "_ref = ref_gene_uhgg[ref_list]\n",
    "_spgc = spgc_gene_uhgg_depth[spgc_list]\n",
    "# The \"depth\" for the references is nominally set to 1, so we just concatenate the boolean ref_gene_uhgg.\n",
    "strain_gene_uhgg_depth = (\n",
    "    pd.concat([_ref, _spgc], axis=1).fillna(0).loc[strain_gene_uhgg.index]\n",
    ")"
   ]
  },
  {
   "cell_type": "code",
   "execution_count": null,
   "metadata": {
    "tags": []
   },
   "outputs": [],
   "source": [
    "_ref = ref_gene_uhgg[ref_list]\n",
    "_spgc = spgc_gene_uhgg_corr[spgc_list]\n",
    "# The \"correlation\" for the references is nominally set to 1, so we just concatenate the boolean ref_gene_uhgg.\n",
    "strain_gene_uhgg_corr = (\n",
    "    pd.concat([_ref, _spgc], axis=1).fillna(0).loc[strain_gene_uhgg.index]\n",
    ")"
   ]
  },
  {
   "cell_type": "raw",
   "metadata": {},
   "source": [
    "_pdistA = strain_geno_pdist\n",
    "_pdistA_trnsfm = np.log10(_pdistA + geno_pdist_adjust)\n",
    "_pdistB = strain_gene_uhgg_pdist\n",
    "\n",
    "plt.scatter(\n",
    "    squareform(_pdistA.loc[ref_list, ref_list]),\n",
    "    squareform(_pdistB.loc[ref_list, ref_list]),\n",
    "    s=1,\n",
    "    alpha=0.5,\n",
    "    label=\"ref-ref\",\n",
    ")\n",
    "print(\n",
    "    \"ref-ref\",\n",
    "    sp.stats.pearsonr(\n",
    "        squareform(_pdistA_trnsfm.loc[ref_list, ref_list], checks=False),\n",
    "        squareform(_pdistB.loc[ref_list, ref_list]),\n",
    "    ),\n",
    ")\n",
    "\n",
    "plt.scatter(\n",
    "    squareform(_pdistA.loc[spgc_list, spgc_list]),\n",
    "    squareform(_pdistB.loc[spgc_list, spgc_list]),\n",
    "    s=1,\n",
    "    alpha=0.5,\n",
    "    label=\"spgc-spgc\",\n",
    ")\n",
    "print(\n",
    "    \"spgc-spgc\",\n",
    "    sp.stats.pearsonr(\n",
    "        squareform(_pdistA_trnsfm.loc[spgc_list, spgc_list], checks=False),\n",
    "        squareform(_pdistB.loc[spgc_list, spgc_list]),\n",
    "    ),\n",
    ")\n",
    "\n",
    "plt.scatter(\n",
    "    _pdistA.loc[spgc_list, ref_list].values.flatten(),\n",
    "    _pdistB.loc[spgc_list, ref_list].values.flatten(),\n",
    "    s=1,\n",
    "    alpha=0.5,\n",
    "    label=\"spgc-ref\",\n",
    ")\n",
    "print(\n",
    "    \"spgc-ref\",\n",
    "    sp.stats.pearsonr(\n",
    "        _pdistA_trnsfm.loc[spgc_list, ref_list].values.flatten(),\n",
    "        _pdistB.loc[spgc_list, ref_list].values.flatten(),\n",
    "    ),\n",
    ")\n",
    "\n",
    "plt.legend(markerscale=5, bbox_to_anchor=(1, 1))\n",
    "plt.xscale(\"symlog\", linthresh=1e-3, linscale=0.1)"
   ]
  },
  {
   "cell_type": "raw",
   "metadata": {
    "tags": []
   },
   "source": [
    "bins = np.linspace(0, 1, num=200)\n",
    "\n",
    "_pdistA = strain_geno_pdist\n",
    "_pdistB = strain_gene_uhgg_pdist\n",
    "\n",
    "\n",
    "# Remove the diagonal from \"minimum distance\".\n",
    "_pdistA = _pdistA + np.eye(len(_pdistA))\n",
    "_pdistB = _pdistB + np.eye(len(_pdistB))\n",
    "\n",
    "plt.scatter(\n",
    "    _pdistA.loc[ref_list, ref_list].min(),\n",
    "    _pdistB.loc[ref_list, ref_list].min(),\n",
    "    s=10,\n",
    "    alpha=0.5,\n",
    "    label=\"ref-to-ref\",\n",
    ")\n",
    "plt.scatter(\n",
    "    _pdistA.loc[spgc_list, spgc_list].min(),\n",
    "    _pdistB.loc[spgc_list, spgc_list].min(),\n",
    "    s=10,\n",
    "    alpha=0.5,\n",
    "    label=\"spgc-to-spgc\",\n",
    ")\n",
    "plt.scatter(\n",
    "    _pdistA.loc[spgc_list, ref_list].min(),\n",
    "    _pdistB.loc[spgc_list, ref_list].min(),\n",
    "    s=10,\n",
    "    alpha=0.5,\n",
    "    label=\"ref-to-spgc\",\n",
    ")\n",
    "plt.scatter(\n",
    "    _pdistA.loc[ref_list, spgc_list].min(),\n",
    "    _pdistB.loc[ref_list, spgc_list].min(),\n",
    "    s=10,\n",
    "    alpha=0.5,\n",
    "    label=\"spgc-to-ref\",\n",
    ")\n",
    "plt.xlabel(\"minimum_genotype_diss\")\n",
    "plt.ylabel(\"minimum_gene_diss\")"
   ]
  },
  {
   "cell_type": "raw",
   "metadata": {
    "tags": []
   },
   "source": [
    "_pdistA = strain_geno_pdist\n",
    "_pdistA_trnsfm = np.log10(_pdistA + geno_pdist_adjust)\n",
    "_pdistB = strain_gene_uhgg_pdist\n",
    "\n",
    "plt.scatter(\n",
    "    squareform(_pdistA.loc[ref_list, ref_list]),\n",
    "    squareform(_pdistB.loc[ref_list, ref_list]),\n",
    "    s=1,\n",
    "    alpha=0.5,\n",
    "    color=\"k\",\n",
    "    label=\"ref-ref\",\n",
    ")\n",
    "\n",
    "for spgc_strain_id in spgc_list:\n",
    "    plt.scatter(\n",
    "        _pdistA.loc[spgc_strain_id, ref_list],\n",
    "        _pdistB.loc[spgc_strain_id, ref_list],\n",
    "        s=1,\n",
    "        alpha=0.5,\n",
    "        color=spgc_palette[spgc_strain_id],\n",
    "        # label='spgc-ref',\n",
    "    )\n",
    "    print(\n",
    "        spgc_strain_id,\n",
    "        sp.stats.pearsonr(\n",
    "            _pdistA_trnsfm.loc[spgc_strain_id, ref_list],\n",
    "            _pdistB.loc[spgc_strain_id, ref_list],\n",
    "        ),\n",
    "    )\n",
    "\n",
    "plt.xscale(\"symlog\", linthresh=1e-3, linscale=0.1)\n",
    "plt.legend(markerscale=5, bbox_to_anchor=(1, 1))"
   ]
  },
  {
   "cell_type": "markdown",
   "metadata": {
    "tags": []
   },
   "source": [
    "### Gene Filtering"
   ]
  },
  {
   "cell_type": "markdown",
   "metadata": {
    "tags": []
   },
   "source": [
    "#### Enriched/Depleted in SPGC Strains"
   ]
  },
  {
   "cell_type": "code",
   "execution_count": null,
   "metadata": {
    "tags": []
   },
   "outputs": [],
   "source": [
    "# NOTE: Using a pseudocount so that ratios between these two values are always defined.\n",
    "ref_uhgg_prevalence = (strain_gene_uhgg[ref_list].sum(1) + 1) / (len(ref_list) + 1)\n",
    "spgc_uhgg_prevalence = (strain_gene_uhgg[spgc_list].sum(1) + 1) / (len(spgc_list) + 1)"
   ]
  },
  {
   "cell_type": "code",
   "execution_count": null,
   "metadata": {
    "tags": []
   },
   "outputs": [],
   "source": [
    "x = ref_uhgg_prevalence\n",
    "y = spgc_uhgg_prevalence\n",
    "\n",
    "print(sp.stats.pearsonr(x, y))\n",
    "\n",
    "fig, axs = plt.subplots(2, figsize=(5, 10))\n",
    "\n",
    "bins0 = np.linspace(0.0, 1.0, num=50)\n",
    "axs[0].hist2d(x, y, bins=bins0, norm=mpl.colors.PowerNorm(1 / 3, vmin=0, vmax=1e3))\n",
    "\n",
    "bins1 = np.linspace(0.1, 0.9, num=40)\n",
    "axs[1].hist2d(x, y, bins=bins1, norm=mpl.colors.PowerNorm(1 / 3))\n",
    "axs[1].set_xlabel(\"reference prevalence\")\n",
    "axs[1].set_ylabel(\"inferred prevalence\")\n",
    "None"
   ]
  },
  {
   "cell_type": "code",
   "execution_count": null,
   "metadata": {},
   "outputs": [],
   "source": [
    "bins = np.logspace(-4, 4)\n",
    "plt.hist(\n",
    "    (spgc_uhgg_prevalence / ref_uhgg_prevalence).replace({0: 1e-3, np.inf: 1e3}),\n",
    "    bins=bins,\n",
    "    alpha=0.5,\n",
    ")\n",
    "plt.hist(\n",
    "    (ref_uhgg_prevalence / spgc_uhgg_prevalence).replace({0: 1e-3, np.inf: 1e3}),\n",
    "    bins=bins,\n",
    "    alpha=0.5,\n",
    ")\n",
    "plt.xscale(\"log\")\n",
    "plt.yscale(\"log\")"
   ]
  },
  {
   "cell_type": "code",
   "execution_count": null,
   "metadata": {
    "tags": []
   },
   "outputs": [],
   "source": [
    "spgc_extremely_enriched = idxwhere((spgc_uhgg_prevalence / ref_uhgg_prevalence) > 1000)\n",
    "spgc_extremely_depleted = idxwhere((ref_uhgg_prevalence / spgc_uhgg_prevalence) > 1000)\n",
    "spgc_very_enriched = idxwhere((spgc_uhgg_prevalence / ref_uhgg_prevalence) > 100)\n",
    "spgc_very_depleted = idxwhere((ref_uhgg_prevalence / spgc_uhgg_prevalence) > 100)\n",
    "spgc_highly_enriched = idxwhere((spgc_uhgg_prevalence / ref_uhgg_prevalence) > 10)\n",
    "spgc_highly_depleted = idxwhere((ref_uhgg_prevalence / spgc_uhgg_prevalence) > 10)\n",
    "spgc_enriched = idxwhere((spgc_uhgg_prevalence / ref_uhgg_prevalence) > 5)\n",
    "spgc_depleted = idxwhere((ref_uhgg_prevalence / spgc_uhgg_prevalence) > 5)\n",
    "spgc_similar = idxwhere(\n",
    "    ((spgc_uhgg_prevalence / ref_uhgg_prevalence) < 5)\n",
    "    & ((ref_uhgg_prevalence / spgc_uhgg_prevalence) < 5)\n",
    ")"
   ]
  },
  {
   "cell_type": "markdown",
   "metadata": {},
   "source": [
    "#### Gene Length / Singletons"
   ]
  },
  {
   "cell_type": "code",
   "execution_count": null,
   "metadata": {},
   "outputs": [],
   "source": [
    "for spgc_enrichment_class_list in [\n",
    "    spgc_extremely_enriched,\n",
    "    spgc_very_enriched,\n",
    "    spgc_highly_enriched,\n",
    "    spgc_enriched,\n",
    "    spgc_similar,\n",
    "    spgc_depleted,\n",
    "    spgc_highly_depleted,\n",
    "    spgc_very_depleted,\n",
    "    spgc_extremely_depleted,\n",
    "]:\n",
    "    print(\n",
    "        len(spgc_enrichment_class_list),\n",
    "        uhgg_gene_length.loc[spgc_enrichment_class_list].mean(),\n",
    "        uhgg_gene_length.loc[spgc_enrichment_class_list].std(),\n",
    "    )"
   ]
  },
  {
   "cell_type": "code",
   "execution_count": null,
   "metadata": {
    "tags": []
   },
   "outputs": [],
   "source": [
    "short_genes = idxwhere(uhgg_gene_length < 300)\n",
    "singleton_genes = idxwhere(strain_gene_uhgg.sum(1) <= 1)"
   ]
  },
  {
   "cell_type": "markdown",
   "metadata": {},
   "source": [
    "#### Final Filter"
   ]
  },
  {
   "cell_type": "code",
   "execution_count": null,
   "metadata": {
    "tags": []
   },
   "outputs": [],
   "source": [
    "drop_list = spgc_highly_enriched + spgc_highly_depleted + short_genes + singleton_genes\n",
    "print(\n",
    "    len(spgc_highly_enriched),\n",
    "    len(spgc_highly_depleted),\n",
    "    len(short_genes),\n",
    "    len(singleton_genes),\n",
    ")\n",
    "\n",
    "strain_uhgg_filt = strain_gene_uhgg.drop(index=drop_list, errors=\"ignore\")\n",
    "print(strain_gene_uhgg.shape[0], strain_uhgg_filt.shape[0])"
   ]
  },
  {
   "cell_type": "code",
   "execution_count": null,
   "metadata": {
    "tags": []
   },
   "outputs": [],
   "source": [
    "bins = np.linspace(0, strain_gene_uhgg[spgc_list + ref_list].sum().max(), num=50)\n",
    "\n",
    "plt.hist(\n",
    "    strain_gene_uhgg[ref_list].sum(),\n",
    "    bins=bins,\n",
    "    histtype=\"stepfilled\",\n",
    "    label=\"ref (uhgg)\",\n",
    "    density=True,\n",
    "    color=\"tab:blue\",\n",
    "    alpha=0.5,\n",
    ")\n",
    "plt.hist(\n",
    "    strain_gene_uhgg[spgc_list].sum(),\n",
    "    bins=bins,\n",
    "    histtype=\"stepfilled\",\n",
    "    label=\"spgc (uhgg)\",\n",
    "    density=True,\n",
    "    color=\"tab:orange\",\n",
    "    alpha=0.5,\n",
    ")\n",
    "\n",
    "plt.hist(\n",
    "    strain_uhgg_filt[ref_list].sum(),\n",
    "    bins=bins,\n",
    "    histtype=\"step\",\n",
    "    label=\"ref (filtered uhgg)\",\n",
    "    density=True,\n",
    "    linestyle=\"-\",\n",
    "    color=\"tab:blue\",\n",
    "    lw=2,\n",
    ")\n",
    "plt.hist(\n",
    "    strain_uhgg_filt[spgc_list].sum(),\n",
    "    bins=bins,\n",
    "    histtype=\"step\",\n",
    "    label=\"spgc (filtered uhgg)\",\n",
    "    density=True,\n",
    "    linestyle=\"-\",\n",
    "    color=\"tab:orange\",\n",
    "    lw=2,\n",
    ")\n",
    "\n",
    "# plt.hist(strain_gene_eggnog[ref_list].sum(), bins=bins, histtype='stepfilled', label='ref (eggnog)', density=True, color='tab:blue', alpha=0.3)\n",
    "# plt.hist(strain_gene_eggnog[spgc_list].sum(), bins=bins, histtype='stepfilled', label='spgc (eggnog)', density=True, color='tab:orange', alpha=0.3)\n",
    "\n",
    "# plt.hist(strain_gene_filt_eggnog[ref_list].sum(), bins=bins, histtype='step', label='ref (filtered eggnog)', density=True, linestyle='--', color='tab:blue', lw=1.5)\n",
    "# plt.hist(strain_gene_filt_eggnog[spgc_list].sum(), bins=bins, histtype='step', label='spgc (filtered eggnog)', density=True, linestyle='--', color='tab:orange', lw=1.5)\n",
    "\n",
    "plt.legend(bbox_to_anchor=(1, 1))\n",
    "\n",
    "None"
   ]
  },
  {
   "cell_type": "code",
   "execution_count": null,
   "metadata": {
    "tags": []
   },
   "outputs": [],
   "source": [
    "uhgg_filt_cdmat = sp.spatial.distance.pdist(strain_uhgg_filt, metric=\"cosine\")\n",
    "# uhgg_filt_pdist = pd.DataFrame(\n",
    "#     sp.spatial.distance.squareform(uhgg_filt_cdmat),\n",
    "#     index=strain_uhgg_filt.index,\n",
    "#     columns=strain_uhgg_filt.index,\n",
    "# )"
   ]
  },
  {
   "cell_type": "code",
   "execution_count": null,
   "metadata": {},
   "outputs": [],
   "source": [
    "# NOTE: Not using optimal ordering here. It takes way too long.\n",
    "uhgg_filt_linkage = fastcluster.linkage(uhgg_filt_cdmat, method=\"average\")"
   ]
  },
  {
   "cell_type": "raw",
   "metadata": {
    "tags": []
   },
   "source": [
    "# FIXME: Decide if this version (the weighted cosine distance) is actually\n",
    "# necessary to calculate, or if I can get away with one of the others\n",
    "# calculated below. These other ones are either much faster to calculate or\n",
    "# much easier to communicate (or both) compared to this weighted version.\n",
    "strain_uhgg_filt_cdmat = sp.spatial.distance.pdist(\n",
    "    strain_uhgg_filt.T,\n",
    "    metric=\"cosine\",\n",
    "    w=ref_gene_uhgg_entropy.loc[strain_uhgg_filt.index],\n",
    ")\n",
    "strain_uhgg_filt_pdist = pd.DataFrame(\n",
    "    sp.spatial.distance.squareform(strain_uhgg_filt_cdmat),\n",
    "    index=strain_uhgg_filt.columns,\n",
    "    columns=strain_uhgg_filt.columns,\n",
    ")\n",
    "strain_uhgg_filt_linkage = sp.cluster.hierarchy.optimal_leaf_ordering(\n",
    "    fastcluster.linkage(strain_uhgg_filt_cdmat, method=\"average\"),\n",
    "    strain_uhgg_filt_cdmat,\n",
    ")"
   ]
  },
  {
   "cell_type": "raw",
   "metadata": {},
   "source": [
    "strain_uhgg_filt_unweighted_cdmat = sp.spatial.distance.pdist(\n",
    "    strain_uhgg_filt.T, metric=\"cosine\"\n",
    ")\n",
    "strain_uhgg_filt_unweighted_pdist = pd.DataFrame(\n",
    "    sp.spatial.distance.squareform(strain_uhgg_filt_unweighted_cdmat),\n",
    "    index=strain_uhgg_filt.columns,\n",
    "    columns=strain_uhgg_filt.columns,\n",
    ")\n",
    "\n",
    "strain_uhgg_filt_unweighted_linkage = sp.cluster.hierarchy.optimal_leaf_ordering(\n",
    "    fastcluster.linkage(strain_uhgg_filt_unweighted_cdmat, method=\"average\"),\n",
    "    strain_uhgg_filt_unweighted_cdmat,\n",
    ")"
   ]
  },
  {
   "cell_type": "code",
   "execution_count": null,
   "metadata": {},
   "outputs": [],
   "source": [
    "_strain_uhgg_filt_unweighted_jacc_cdmat = sp.spatial.distance.pdist(\n",
    "    strain_uhgg_filt.T, metric=\"jaccard\"\n",
    ")\n",
    "_strain_uhgg_filt_unweighted_jacc_pdist = pd.DataFrame(\n",
    "    sp.spatial.distance.squareform(_strain_uhgg_filt_unweighted_jacc_cdmat),\n",
    "    index=strain_uhgg_filt.columns,\n",
    "    columns=strain_uhgg_filt.columns,\n",
    ")"
   ]
  },
  {
   "cell_type": "code",
   "execution_count": null,
   "metadata": {},
   "outputs": [],
   "source": [
    "import pickle\n",
    "\n",
    "with open(\n",
    "    gene_pdist_inpath,\n",
    "    \"rb\",\n",
    ") as f:\n",
    "    d = pickle.load(f)\n",
    "_cdmat = d[\"cdmat\"]\n",
    "_labels = d[\"labels\"]\n",
    "\n",
    "_pdmat = pd.DataFrame(squareform(_cdmat), index=_labels, columns=_labels)\n",
    "plt.scatter(\n",
    "    squareform(_strain_uhgg_filt_unweighted_jacc_pdist),\n",
    "    squareform(\n",
    "        _pdmat.loc[\n",
    "            _strain_uhgg_filt_unweighted_jacc_pdist.index,\n",
    "            _strain_uhgg_filt_unweighted_jacc_pdist.columns,\n",
    "        ]\n",
    "    ),\n",
    ")\n",
    "plt.plot([0, 1], [0, 1], color=\"k\")"
   ]
  },
  {
   "cell_type": "code",
   "execution_count": null,
   "metadata": {},
   "outputs": [],
   "source": [
    "strain_uhgg_filt_unweighted_jacc_pdist = _pdmat.loc[\n",
    "    _strain_uhgg_filt_unweighted_jacc_pdist.index,\n",
    "    _strain_uhgg_filt_unweighted_jacc_pdist.columns,\n",
    "]\n",
    "strain_uhgg_filt_unweighted_jacc_cdmat = squareform(\n",
    "    strain_uhgg_filt_unweighted_jacc_pdist\n",
    ")"
   ]
  },
  {
   "cell_type": "raw",
   "metadata": {},
   "source": [
    "strain_uhgg_unweighted_jacc_cdmat = sp.spatial.distance.pdist(\n",
    "    strain_gene_uhgg.T, metric=\"jaccard\"\n",
    ")\n",
    "strain_uhgg_unweighted_jacc_pdist = pd.DataFrame(\n",
    "    sp.spatial.distance.squareform(strain_uhgg_unweighted_jacc_cdmat),\n",
    "    index=strain_uhgg_filt.columns,\n",
    "    columns=strain_uhgg_filt.columns,\n",
    ")"
   ]
  },
  {
   "cell_type": "code",
   "execution_count": null,
   "metadata": {},
   "outputs": [],
   "source": [
    "# FIXME: Redundant? Delete this?\n",
    "strain_uhgg_filt_unweighted_jacc_linkage = sp.cluster.hierarchy.optimal_leaf_ordering(\n",
    "    fastcluster.linkage(strain_uhgg_filt_unweighted_jacc_cdmat, method=\"average\"),\n",
    "    strain_uhgg_filt_unweighted_jacc_cdmat,\n",
    ")\n",
    "# strain_uhgg_filt_unweighted_linkage = sp.cluster.hierarchy.optimal_leaf_ordering(\n",
    "#     fastcluster.linkage(strain_uhgg_filt_unweighted_cdmat, method=\"average\"),\n",
    "#     strain_uhgg_filt_unweighted_cdmat,\n",
    "# )"
   ]
  },
  {
   "cell_type": "code",
   "execution_count": null,
   "metadata": {
    "tags": []
   },
   "outputs": [],
   "source": [
    "x = strain_uhgg_filt\n",
    "_col_linkage = strain_geno_linkage\n",
    "_row_linkage = uhgg_filt_linkage\n",
    "# Order x by leaf order.\n",
    "# See <https://docs.scipy.org/doc/scipy/reference/generated/scipy.cluster.hierarchy.ClusterNode.pre_order.html#scipy.cluster.hierarchy.ClusterNode.pre_order>\n",
    "x = x.iloc[sp.cluster.hierarchy.to_tree(_row_linkage).pre_order(lambda x: x.id)]\n",
    "\n",
    "_col_colors = genome_type.map(genome_type_palette)\n",
    "\n",
    "if show_unimportant_figures:\n",
    "    sns.clustermap(\n",
    "        x, row_cluster=False, col_linkage=_col_linkage, col_colors=_col_colors\n",
    "    )"
   ]
  },
  {
   "cell_type": "code",
   "execution_count": null,
   "metadata": {},
   "outputs": [],
   "source": [
    "x = strain_uhgg_filt\n",
    "_col_linkage = strain_uhgg_filt_unweighted_jacc_linkage\n",
    "_row_linkage = uhgg_filt_linkage\n",
    "# Order x by leaf order.\n",
    "# See <https://docs.scipy.org/doc/scipy/reference/generated/scipy.cluster.hierarchy.ClusterNode.pre_order.html#scipy.cluster.hierarchy.ClusterNode.pre_order>\n",
    "x = x.iloc[sp.cluster.hierarchy.to_tree(_row_linkage).pre_order(lambda x: x.id)]\n",
    "\n",
    "_col_colors = genome_type.map(genome_type_palette)\n",
    "\n",
    "if show_unimportant_figures:\n",
    "    sns.clustermap(\n",
    "        x, row_cluster=False, col_linkage=_col_linkage, col_colors=_col_colors\n",
    "    )"
   ]
  },
  {
   "cell_type": "code",
   "execution_count": null,
   "metadata": {},
   "outputs": [],
   "source": [
    "d = strain_gene_uhgg.astype(bool).join(uhgg_x_eggnog.set_index('gene_id').eggnog).groupby('eggnog').any()\n",
    "x = d[ref_list].mean(1)\n",
    "y = d[spgc_list].mean(1)\n",
    "\n",
    "print(sp.stats.pearsonr(x, y))\n",
    "\n",
    "fig, axs = plt.subplots(2, figsize=(5, 10))\n",
    "\n",
    "bins0 = np.linspace(0.0, 1.0, num=50)\n",
    "axs[0].hist2d(x, y, bins=bins0, norm=mpl.colors.PowerNorm(1 / 3, vmin=0, vmax=1e3))\n",
    "\n",
    "bins1 = np.linspace(0.1, 0.9, num=40)\n",
    "axs[1].hist2d(x, y, bins=bins1, norm=mpl.colors.PowerNorm(1 / 3))\n",
    "axs[1].set_xlabel(\"reference prevalence\")\n",
    "axs[1].set_ylabel(\"inferred prevalence\")\n",
    "None"
   ]
  },
  {
   "cell_type": "code",
   "execution_count": null,
   "metadata": {},
   "outputs": [],
   "source": [
    "_strain_linkage = fastcluster.linkage(d[ref_list + spgc_list].T, metric='jaccard', method=\"average\")"
   ]
  },
  {
   "cell_type": "code",
   "execution_count": null,
   "metadata": {},
   "outputs": [],
   "source": [
    "x = d[ref_list + spgc_list]\n",
    "_col_linkage = _strain_linkage\n",
    "# _row_linkage = _gene_linkage\n",
    "# Order x by leaf order.\n",
    "# See <https://docs.scipy.org/doc/scipy/reference/generated/scipy.cluster.hierarchy.ClusterNode.pre_order.html#scipy.cluster.hierarchy.ClusterNode.pre_order>\n",
    "# x = x.iloc[sp.cluster.hierarchy.to_tree(_row_linkage).pre_order(lambda x: x.id)]\n",
    "\n",
    "_col_colors = genome_type.map(genome_type_palette)\n",
    "\n",
    "if show_unimportant_figures:\n",
    "    sns.clustermap(\n",
    "        x, row_cluster=False, col_linkage=_col_linkage, col_colors=_col_colors\n",
    "    )"
   ]
  },
  {
   "cell_type": "raw",
   "metadata": {},
   "source": [
    "x = strain_uhgg_filt\n",
    "_col_linkage = strain_uhgg_filt_unweighted_linkage\n",
    "_row_linkage = uhgg_filt_linkage\n",
    "# Order x by leaf order.\n",
    "# See <https://docs.scipy.org/doc/scipy/reference/generated/scipy.cluster.hierarchy.ClusterNode.pre_order.html#scipy.cluster.hierarchy.ClusterNode.pre_order>\n",
    "x = x.iloc[sp.cluster.hierarchy.to_tree(_row_linkage).pre_order(lambda x: x.id)]\n",
    "\n",
    "_col_colors = genome_type.map(genome_type_palette)\n",
    "\n",
    "if show_unimportant_figures:\n",
    "    sns.clustermap(\n",
    "        x, row_cluster=False, col_linkage=_col_linkage, col_colors=_col_colors\n",
    "    )"
   ]
  },
  {
   "cell_type": "markdown",
   "metadata": {
    "tags": []
   },
   "source": [
    "### Gene Content Divergence from Refs\n",
    "\n",
    "Are SPGC Genomes Believably Distinct?\n",
    "\n",
    "Test if SPGC Strains are surprisingly distinct from refs in gene content relative to their distinction in genotype"
   ]
  },
  {
   "cell_type": "markdown",
   "metadata": {},
   "source": [
    "#### Min-genotype / Min-gene content"
   ]
  },
  {
   "cell_type": "raw",
   "metadata": {
    "tags": []
   },
   "source": [
    "_pdistA = strain_geno_pdist\n",
    "_pdistA_trnsfm = np.log10(_pdistA + geno_pdist_adjust)\n",
    "_pdistB = strain_uhgg_filt_pdist\n",
    "\n",
    "plt.scatter(\n",
    "    squareform(_pdistA.loc[ref_list, ref_list]),\n",
    "    squareform(_pdistB.loc[ref_list, ref_list]),\n",
    "    s=1,\n",
    "    alpha=0.5,\n",
    "    label=\"ref-ref\",\n",
    ")\n",
    "print(\n",
    "    \"ref-ref\",\n",
    "    sp.stats.pearsonr(\n",
    "        squareform(_pdistA_trnsfm.loc[ref_list, ref_list], checks=False),\n",
    "        squareform(_pdistB.loc[ref_list, ref_list]),\n",
    "    ),\n",
    ")\n",
    "\n",
    "plt.scatter(\n",
    "    squareform(_pdistA.loc[spgc_list, spgc_list]),\n",
    "    squareform(_pdistB.loc[spgc_list, spgc_list]),\n",
    "    s=1,\n",
    "    alpha=0.5,\n",
    "    label=\"spgc-spgc\",\n",
    ")\n",
    "print(\n",
    "    \"spgc-spgc\",\n",
    "    sp.stats.pearsonr(\n",
    "        squareform(_pdistA_trnsfm.loc[spgc_list, spgc_list], checks=False),\n",
    "        squareform(_pdistB.loc[spgc_list, spgc_list]),\n",
    "    ),\n",
    ")\n",
    "\n",
    "plt.scatter(\n",
    "    _pdistA.loc[spgc_list, ref_list].values.flatten(),\n",
    "    _pdistB.loc[spgc_list, ref_list].values.flatten(),\n",
    "    s=1,\n",
    "    alpha=0.5,\n",
    "    label=\"spgc-ref\",\n",
    ")\n",
    "print(\n",
    "    \"spgc-ref\",\n",
    "    sp.stats.pearsonr(\n",
    "        _pdistA_trnsfm.loc[spgc_list, ref_list].values.flatten(),\n",
    "        _pdistB.loc[spgc_list, ref_list].values.flatten(),\n",
    "    ),\n",
    ")\n",
    "\n",
    "\n",
    "plt.legend(markerscale=5, bbox_to_anchor=(1, 1))\n",
    "plt.xscale(\"symlog\", linthresh=1e-3, linscale=0.1)"
   ]
  },
  {
   "cell_type": "raw",
   "metadata": {
    "tags": []
   },
   "source": [
    "_pdistA = strain_geno_pdist\n",
    "_pdistA_trnsfm = np.log10(_pdistA + geno_pdist_adjust)\n",
    "_pdistB = strain_uhgg_filt_pdist\n",
    "\n",
    "plt.scatter(\n",
    "    squareform(_pdistA.loc[ref_list, ref_list]),\n",
    "    squareform(_pdistB.loc[ref_list, ref_list]),\n",
    "    s=1,\n",
    "    alpha=0.5,\n",
    "    color=\"k\",\n",
    "    label=\"ref-ref\",\n",
    ")\n",
    "\n",
    "for spgc_strain_id in spgc_list:\n",
    "    plt.scatter(\n",
    "        _pdistA.loc[spgc_strain_id, ref_list],\n",
    "        _pdistB.loc[spgc_strain_id, ref_list],\n",
    "        s=1,\n",
    "        alpha=0.5,\n",
    "        color=spgc_palette[spgc_strain_id],\n",
    "        # label='spgc-ref',\n",
    "    )\n",
    "    print(\n",
    "        spgc_strain_id,\n",
    "        sp.stats.pearsonr(\n",
    "            _pdistA_trnsfm.loc[spgc_strain_id, ref_list],\n",
    "            _pdistB.loc[spgc_strain_id, ref_list],\n",
    "        ),\n",
    "    )\n",
    "\n",
    "plt.legend(markerscale=5, bbox_to_anchor=(1, 1))\n",
    "plt.xscale(\"symlog\", linthresh=1e-3, linscale=0.1)"
   ]
  },
  {
   "cell_type": "raw",
   "metadata": {
    "tags": []
   },
   "source": [
    "_pdistA = strain_geno_pdist\n",
    "_pdistA_trnsfm = np.log10(_pdistA + geno_pdist_adjust)\n",
    "_pdistB = strain_gene_uhgg_pdist\n",
    "\n",
    "plt.scatter(\n",
    "    squareform(_pdistA.loc[ref_list, ref_list]),\n",
    "    squareform(_pdistB.loc[ref_list, ref_list]),\n",
    "    s=1,\n",
    "    alpha=0.5,\n",
    "    color=\"k\",\n",
    "    label=\"ref-ref\",\n",
    ")\n",
    "\n",
    "for spgc_strain_id in spgc_list:\n",
    "    plt.scatter(\n",
    "        _pdistA.loc[spgc_strain_id, ref_list],\n",
    "        _pdistB.loc[spgc_strain_id, ref_list],\n",
    "        s=1,\n",
    "        alpha=0.5,\n",
    "        color=spgc_palette[spgc_strain_id],\n",
    "        # label='spgc-ref',\n",
    "    )\n",
    "    print(\n",
    "        spgc_strain_id,\n",
    "        sp.stats.pearsonr(\n",
    "            _pdistA_trnsfm.loc[spgc_strain_id, ref_list],\n",
    "            _pdistB.loc[spgc_strain_id, ref_list],\n",
    "        ),\n",
    "    )\n",
    "\n",
    "plt.legend(markerscale=5, bbox_to_anchor=(1, 1))\n",
    "plt.xscale(\"symlog\", linthresh=1e-3, linscale=0.1)"
   ]
  },
  {
   "cell_type": "markdown",
   "metadata": {},
   "source": [
    "#### Min-genotype / Matched-gene content"
   ]
  },
  {
   "cell_type": "code",
   "execution_count": null,
   "metadata": {
    "tags": []
   },
   "outputs": [],
   "source": [
    "_pdistA = strain_geno_pdist\n",
    "_pdistB = strain_uhgg_filt_unweighted_jacc_pdist\n",
    "\n",
    "# gene_pdist_adjust = (1 / strain_gene_filt_eggnog.shape[0])\n",
    "\n",
    "\n",
    "# Remove the diagonal from \"minimum distance\".\n",
    "_pdistA = _pdistA + np.eye(len(_pdistA))\n",
    "_pdistB = _pdistB + np.eye(len(_pdistB))\n",
    "\n",
    "isolate_to_ref_min = _pdistA.loc[ref_list, isolate_list].idxmin()\n",
    "isolate_to_ref_min_pdistA = _pdistA.stack()[\n",
    "    isolate_to_ref_min.reset_index().set_index([\"index\", 0]).index\n",
    "].reset_index(level=1, drop=True)\n",
    "isolate_to_ref_min_pdistB = _pdistB.stack()[\n",
    "    isolate_to_ref_min.reset_index().set_index([\"index\", 0]).index\n",
    "].reset_index(level=1, drop=True)\n",
    "\n",
    "mag_to_ref_min = _pdistA.loc[ref_list, mag_list].idxmin()\n",
    "mag_to_ref_min_pdistA = _pdistA.stack()[\n",
    "    mag_to_ref_min.reset_index().set_index([\"index\", 0]).index\n",
    "].reset_index(level=1, drop=True)\n",
    "mag_to_ref_min_pdistB = _pdistB.stack()[\n",
    "    mag_to_ref_min.reset_index().set_index([\"index\", 0]).index\n",
    "].reset_index(level=1, drop=True)\n",
    "\n",
    "spgc_to_ref_min = _pdistA.loc[ref_list, spgc_list].idxmin()\n",
    "spgc_to_ref_min_pdistA = _pdistA.stack()[\n",
    "    spgc_to_ref_min.reset_index().set_index([\"index\", 0]).index\n",
    "].reset_index(level=1, drop=True)\n",
    "spgc_to_ref_min_pdistB = _pdistB.stack()[\n",
    "    spgc_to_ref_min.reset_index().set_index([\"index\", 0]).index\n",
    "].reset_index(level=1, drop=True)\n",
    "\n",
    "d0 = pd.DataFrame(\n",
    "    dict(\n",
    "        min_geno_ref=pd.concat(\n",
    "            [\n",
    "                isolate_to_ref_min,\n",
    "                mag_to_ref_min,\n",
    "                spgc_to_ref_min,\n",
    "            ]\n",
    "        ),\n",
    "        geno_dist=(\n",
    "            pd.concat(\n",
    "                [\n",
    "                    isolate_to_ref_min_pdistA,\n",
    "                    mag_to_ref_min_pdistA,\n",
    "                    spgc_to_ref_min_pdistA,\n",
    "                ]\n",
    "            )\n",
    "        ),\n",
    "        gene_dist=pd.concat(\n",
    "            [isolate_to_ref_min_pdistB, mag_to_ref_min_pdistB, spgc_to_ref_min_pdistB]\n",
    "        ),\n",
    "        genome_type=[\"Isolate\"] * len(isolate_to_ref_min_pdistA)\n",
    "        + [\"MAG\"] * len(mag_to_ref_min_pdistA)\n",
    "        + [\"SPGC\"] * len(spgc_to_ref_min_pdistA),\n",
    "    )\n",
    ")  # .assign(\n",
    "#     geno_dist_pc=lambda x: x.geno_dist + geno_pdist_adjust,\n",
    "#     gene_dist_pc=lambda x: x.gene_dist + gene_pdist_adjust,\n",
    "# )\n",
    "fit = smf.ols(f\"gene_dist ~ np.log2(geno_dist) * genome_type\", data=d0).fit()\n",
    "genome_distance_comparison_filt_unweighted_jacc = d0.assign(\n",
    "    gene_dist_predict=lambda x: fit.predict(), gene_dist_resid_pearson=fit.resid_pearson\n",
    ").sort_values(\"geno_dist\")\n",
    "\n",
    "fig, axs = plt.subplots(1, 2, figsize=(10, 4))\n",
    "\n",
    "ax = axs[0]\n",
    "for _genome_type, d2 in genome_distance_comparison_filt_unweighted_jacc.groupby(\n",
    "    \"genome_type\"\n",
    "):\n",
    "    ax.scatter(\"geno_dist\", \"gene_dist\", data=d2, label=_genome_type)\n",
    "    ax.plot(\"geno_dist\", \"gene_dist_predict\", data=d2, label=\"__nolegend__\")\n",
    "\n",
    "ax = axs[1]\n",
    "for _genome_type, d2 in genome_distance_comparison_filt_unweighted_jacc.groupby(\n",
    "    \"genome_type\"\n",
    "):\n",
    "    ax.scatter(\"geno_dist\", \"gene_dist\", data=d2, label=_genome_type)\n",
    "    ax.plot(\"geno_dist\", \"gene_dist_predict\", data=d2, label=\"__nolegend__\")\n",
    "ax.legend()\n",
    "ax.set_xscale(\"symlog\", linthresh=1e-4)\n",
    "fit.summary()"
   ]
  },
  {
   "cell_type": "code",
   "execution_count": null,
   "metadata": {},
   "outputs": [],
   "source": [
    "genome_type_to_label = {\"isolate\": \"Isolate\", \"mag\": \"MAG\", \"spgc\": \"SPGC\"}\n",
    "\n",
    "fig, ax = plt.subplots(figsize=(5, 5))\n",
    "for _genome_type, d2 in genome_distance_comparison_filt_unweighted_jacc.groupby(\n",
    "    \"genome_type\"\n",
    "):\n",
    "    ax.scatter(\n",
    "        \"geno_dist\",\n",
    "        \"gene_dist\",\n",
    "        data=d2,\n",
    "        color=genome_type_palette[_genome_type],\n",
    "        label=_genome_type,\n",
    "        s=50,\n",
    "        alpha=0.7,\n",
    "        lw=0,\n",
    "    )\n",
    "    ax.plot(\n",
    "        \"geno_dist\",\n",
    "        \"gene_dist_predict\",\n",
    "        data=d2,\n",
    "        color=genome_type_palette[_genome_type],\n",
    "        label=\"__nolegend__\",\n",
    "    )\n",
    "# ax.legend(markerscale=3)\n",
    "ax.set_xscale(\"symlog\", linthresh=1e-4)\n",
    "ax.set_xlabel(\"SNP Profile Dissimilarity\")\n",
    "ax.set_ylabel(\"Gene Content Dissimilarity\")\n",
    "# ax.set_yticks([0, 0.1, 0.2, 0.3, 0.4])"
   ]
  },
  {
   "cell_type": "raw",
   "metadata": {
    "tags": []
   },
   "source": [
    "_pdistC = strain_uhgg_filt_unweighted_jacc_pdist\n",
    "_pdistC = _pdistC + np.eye(len(_pdistC))\n",
    "\n",
    "isolate_to_ref_min_pdistC_raw = _pdistC.stack()[\n",
    "    isolate_to_ref_min.reset_index().set_index([\"index\", 0]).index\n",
    "].reset_index(level=1, drop=True)\n",
    "mag_to_ref_min_pdistC_raw = _pdistC.stack()[\n",
    "    mag_to_ref_min.reset_index().set_index([\"index\", 0]).index\n",
    "].reset_index(level=1, drop=True)\n",
    "spgc_to_ref_min_pdistC_raw = _pdistC.stack()[\n",
    "    spgc_to_ref_min.reset_index().set_index([\"index\", 0]).index\n",
    "].reset_index(level=1, drop=True)\n",
    "\n",
    "d0 = pd.DataFrame(\n",
    "    dict(\n",
    "        min_geno_ref=pd.concat(\n",
    "            [\n",
    "                isolate_to_ref_min,\n",
    "                mag_to_ref_min,\n",
    "                spgc_to_ref_min,\n",
    "            ]\n",
    "        ),\n",
    "        geno_dist=(\n",
    "            pd.concat(\n",
    "                [\n",
    "                    isolate_to_ref_min_pdistA,\n",
    "                    mag_to_ref_min_pdistA,\n",
    "                    spgc_to_ref_min_pdistA,\n",
    "                ]\n",
    "            )\n",
    "            + geno_pdist_adjust\n",
    "        ),\n",
    "        gene_dist=pd.concat(\n",
    "            [\n",
    "                isolate_to_ref_min_pdistC_raw,\n",
    "                mag_to_ref_min_pdistC_raw,\n",
    "                spgc_to_ref_min_pdistC_raw,\n",
    "            ]\n",
    "        ),\n",
    "        genome_type=[\"Isolate\"] * len(isolate_to_ref_min_pdistA)\n",
    "        + [\"MAG\"] * len(mag_to_ref_min_pdistA)\n",
    "        + [\"SPGC\"] * len(spgc_to_ref_min_pdistA),\n",
    "    )\n",
    ")\n",
    "fit = smf.ols(f\"gene_dist ~ np.log2(geno_dist) * genome_type\", data=d0).fit()\n",
    "genome_distance_comparison_filt_unweighted_jacc = d0.assign(\n",
    "    gene_dist_predict=lambda x: fit.predict(), gene_dist_resid_pearson=fit.resid_pearson\n",
    ").sort_values(\"geno_dist\")\n",
    "\n",
    "fig, axs = plt.subplots(1, 2, figsize=(10, 4))\n",
    "\n",
    "ax = axs[0]\n",
    "for _genome_type, d2 in genome_distance_comparison_filt_unweighted_jacc.groupby(\n",
    "    \"genome_type\"\n",
    "):\n",
    "    ax.scatter(\"geno_dist\", \"gene_dist\", data=d2, label=_genome_type)\n",
    "    ax.plot(\"geno_dist\", \"gene_dist_predict\", data=d2, label=\"__nolegend__\")\n",
    "\n",
    "ax = axs[1]\n",
    "for _genome_type, d2 in genome_distance_comparison_filt_unweighted_jacc.groupby(\n",
    "    \"genome_type\"\n",
    "):\n",
    "    ax.scatter(\"geno_dist\", \"gene_dist\", data=d2, label=_genome_type)\n",
    "    ax.plot(\"geno_dist\", \"gene_dist_predict\", data=d2, label=\"__nolegend__\")\n",
    "ax.legend()\n",
    "ax.set_xscale(\"symlog\", linthresh=1e-4)\n",
    "fit.summary()"
   ]
  },
  {
   "cell_type": "raw",
   "metadata": {},
   "source": [
    "genome_type_to_label = {\"isolate\": \"Isolate\", \"mag\": \"MAG\", \"spgc\": \"SPGC\"}\n",
    "\n",
    "fig, ax = plt.subplots(figsize=(5, 5))\n",
    "for _genome_type, d2 in genome_distance_comparison_filt_unweighted_jacc.groupby(\n",
    "    \"genome_type\"\n",
    "):\n",
    "    ax.scatter(\n",
    "        \"geno_dist\",\n",
    "        \"gene_dist\",\n",
    "        data=d2,\n",
    "        color=genome_type_palette[_genome_type],\n",
    "        label=_genome_type,\n",
    "        s=50,\n",
    "        alpha=0.7,\n",
    "        lw=0,\n",
    "    )\n",
    "    ax.plot(\n",
    "        \"geno_dist\",\n",
    "        \"gene_dist_predict\",\n",
    "        data=d2,\n",
    "        color=genome_type_palette[_genome_type],\n",
    "        label=\"__nolegend__\",\n",
    "    )\n",
    "# ax.legend(markerscale=3)\n",
    "ax.set_xscale(\"symlog\", linthresh=1e-4)\n",
    "ax.set_xlabel(\"SNP Profile Dissimilarity\")\n",
    "ax.set_ylabel(\"Gene Content Dissimilarity\")\n",
    "# ax.set_yticks([0, 0.1, 0.2, 0.3, 0.4])"
   ]
  },
  {
   "cell_type": "code",
   "execution_count": null,
   "metadata": {},
   "outputs": [],
   "source": [
    "# TODO: Consider using a permutation test to say whether there is an overall relationship between\n",
    "# genotype distance and gene content distance and whether this is different in SPGC strains compared\n",
    "# to the references. (Similar to the EEN strain turnover analysis.)"
   ]
  },
  {
   "cell_type": "markdown",
   "metadata": {
    "tags": []
   },
   "source": [
    "## Strain Diversity Analysis"
   ]
  },
  {
   "cell_type": "code",
   "execution_count": null,
   "metadata": {},
   "outputs": [],
   "source": [
    "x = strain_geno_pdist.copy()\n",
    "dii, djj = np.diag_indices_from(x)\n",
    "x.values[dii, djj] = np.nan\n",
    "\n",
    "_colors = genome_type.map(genome_type_palette)\n",
    "\n",
    "g = sns.clustermap(\n",
    "    x,\n",
    "    row_colors=_colors,\n",
    "    col_colors=_colors,\n",
    "    row_linkage=strain_uhgg_filt_unweighted_jacc_linkage,\n",
    "    col_linkage=strain_geno_linkage,\n",
    "    # figsize=(40, 40),\n",
    ")\n",
    "g.ax_heatmap.set_facecolor(\"aqua\")\n",
    "# g.cax.set_visible(False)"
   ]
  },
  {
   "cell_type": "code",
   "execution_count": null,
   "metadata": {},
   "outputs": [],
   "source": [
    "x = strain_geno_pdist.copy()\n",
    "dii, djj = np.diag_indices_from(x)\n",
    "x.values[dii, djj] = np.nan\n",
    "\n",
    "_colors = pd.DataFrame(\n",
    "    dict(\n",
    "        g=genome_type.map(genome_type_palette),\n",
    "    )\n",
    ")\n",
    "\n",
    "g = sns.clustermap(\n",
    "    x,\n",
    "    row_colors=_colors,\n",
    "    col_colors=_colors,\n",
    "    row_linkage=strain_uhgg_filt_unweighted_jacc_linkage,\n",
    "    col_linkage=strain_geno_linkage,\n",
    "    xticklabels=0,\n",
    "    yticklabels=0,\n",
    "    dendrogram_ratio=0.1,\n",
    "    vmin=0,\n",
    "    vmax=1,\n",
    "    tree_kws=dict(lw=1.0),\n",
    "    # figsize=(40, 40),\n",
    ")\n",
    "g.ax_heatmap.set_facecolor(\"aqua\")\n",
    "g.cax.set_visible(False)"
   ]
  },
  {
   "cell_type": "code",
   "execution_count": null,
   "metadata": {},
   "outputs": [],
   "source": [
    "x = strain_uhgg_filt_unweighted_jacc_pdist.copy()\n",
    "dii, djj = np.diag_indices_from(x)\n",
    "x.values[dii, djj] = np.nan\n",
    "\n",
    "_colors = pd.DataFrame(\n",
    "    dict(\n",
    "        g=genome_type.map(genome_type_palette),\n",
    "    )\n",
    ")\n",
    "\n",
    "g = sns.clustermap(\n",
    "    x,\n",
    "    row_colors=_colors,\n",
    "    col_colors=_colors,\n",
    "    row_linkage=strain_uhgg_filt_unweighted_jacc_linkage,\n",
    "    col_linkage=strain_geno_linkage,\n",
    "    xticklabels=0,\n",
    "    yticklabels=0,\n",
    "    dendrogram_ratio=0.1,\n",
    "    vmin=0,\n",
    "    vmax=1,\n",
    "    tree_kws=dict(lw=1.0),\n",
    "    # figsize=(40, 40),\n",
    ")\n",
    "g.ax_heatmap.set_facecolor(\"aqua\")\n",
    "g.cax.set_visible(False)\n",
    "# # Clip the \"tips\" of the dendrogram so that it's not just a black rectangle (for dense maps).\n",
    "# g.ax_col_dendrogram.set_ylim(0.1, 1)\n",
    "# g.ax_row_dendrogram.set_xlim(1, 0.1)"
   ]
  },
  {
   "cell_type": "markdown",
   "metadata": {
    "tags": []
   },
   "source": [
    "### Prevalence Comparisons"
   ]
  },
  {
   "cell_type": "code",
   "execution_count": null,
   "metadata": {
    "tags": []
   },
   "outputs": [],
   "source": [
    "x = ref_uhgg_prevalence\n",
    "y = spgc_uhgg_prevalence\n",
    "\n",
    "print(sp.stats.pearsonr(x, y))\n",
    "\n",
    "fig, axs = plt.subplots(2, figsize=(5, 10))\n",
    "\n",
    "bins0 = np.linspace(0.0, 1.0, num=50)\n",
    "axs[0].hist2d(x, y, bins=bins0, norm=mpl.colors.PowerNorm(1 / 3, vmin=0, vmax=1e3))\n",
    "\n",
    "bins1 = np.linspace(0.1, 0.9, num=40)\n",
    "axs[1].hist2d(x, y, bins=bins1, norm=mpl.colors.PowerNorm(1 / 3))\n",
    "axs[1].set_xlabel(\"reference prevalence\")\n",
    "axs[1].set_ylabel(\"inferred prevalence\")\n",
    "None"
   ]
  },
  {
   "cell_type": "markdown",
   "metadata": {},
   "source": [
    "### Core / Shell / Cloud Pangenome"
   ]
  },
  {
   "cell_type": "code",
   "execution_count": null,
   "metadata": {},
   "outputs": [],
   "source": [
    "def _assign_prevalence_class(p):\n",
    "    if p > 0.95:\n",
    "        return \"core\"\n",
    "    elif p > 0.1:\n",
    "        return \"shell\"\n",
    "    elif p < 0.1:\n",
    "        return \"cloud\"\n",
    "\n",
    "\n",
    "prevalence_class_order = [\"core\", \"shell\", \"cloud\"]\n",
    "prevalence_class_palette = {\n",
    "    \"core\": \"tab:blue\",\n",
    "    \"shell\": \"tab:orange\",\n",
    "    \"cloud\": \"tab:green\",\n",
    "}"
   ]
  },
  {
   "cell_type": "code",
   "execution_count": null,
   "metadata": {},
   "outputs": [],
   "source": [
    "bins = np.linspace(0, 1, num=51)\n",
    "\n",
    "spgc_uhgg_class = spgc_uhgg_prevalence.map(_assign_prevalence_class)\n",
    "\n",
    "for prevalence_class in prevalence_class_order:\n",
    "    plt.hist(\n",
    "        spgc_uhgg_prevalence[spgc_uhgg_class == prevalence_class],\n",
    "        bins=bins,\n",
    "        label=prevalence_class,\n",
    "        color=prevalence_class_palette[prevalence_class],\n",
    "    )\n",
    "plt.legend()\n",
    "plt.yscale(\"log\")\n",
    "# core_genes = idxwhere(strain_uhgg_filt_prevalence > 0.9)\n",
    "# shell_genes = idxwhere((strain_uhgg_filt_prevalence < 0.9) & (strain_uhgg_filt_prevalence > 0.1))\n",
    "# cloud_genes = idxwhere(strain_uhgg_filt_prevalence < 0.1)"
   ]
  },
  {
   "cell_type": "code",
   "execution_count": null,
   "metadata": {},
   "outputs": [],
   "source": [
    "bins = np.linspace(0, 1, num=51)\n",
    "\n",
    "ref_uhgg_class = ref_uhgg_prevalence.map(_assign_prevalence_class)\n",
    "\n",
    "for prevalence_class in prevalence_class_order:\n",
    "    plt.hist(\n",
    "        ref_uhgg_prevalence[ref_uhgg_class == prevalence_class],\n",
    "        bins=bins,\n",
    "        label=prevalence_class,\n",
    "        color=prevalence_class_palette[prevalence_class],\n",
    "    )\n",
    "plt.legend()\n",
    "plt.yscale(\"log\")\n",
    "# core_genes = idxwhere(strain_uhgg_filt_prevalence > 0.9)\n",
    "# shell_genes = idxwhere((strain_uhgg_filt_prevalence < 0.9) & (strain_uhgg_filt_prevalence > 0.1))\n",
    "# cloud_genes = idxwhere(strain_uhgg_filt_prevalence < 0.1)"
   ]
  },
  {
   "cell_type": "code",
   "execution_count": null,
   "metadata": {},
   "outputs": [],
   "source": [
    "# Prevalence classes defined on SPGC strains.\n",
    "strain_genome_spgc_prevalence_class_tally = (\n",
    "    strain_uhgg_filt.groupby(spgc_uhgg_class)\n",
    "    .sum()\n",
    "    .reindex(prevalence_class_order, fill_value=0)\n",
    "    .T.astype(int)\n",
    ")\n",
    "\n",
    "fig = plt.figure(figsize=(10, 5), tight_layout=True)\n",
    "\n",
    "gs = gridspec.GridSpec(\n",
    "    1, 2, width_ratios=[len(ref_list) / len(spgc_list), 1], figure=fig\n",
    ")\n",
    "ax0 = fig.add_subplot(gs[0, 0])\n",
    "ax1 = fig.add_subplot(gs[0, 1], sharey=ax0)\n",
    "\n",
    "# , axs = plt.subplots(1, 2, figsize=(14, 5), sharey=True)\n",
    "for ax, strain_list, title in zip(\n",
    "    [ax0, ax1], [ref_list, spgc_list], [\"references\", \"spgc\"]\n",
    "):\n",
    "    # TODO: Fix the colors to always match the previous palette.\n",
    "    strain_genome_spgc_prevalence_class_tally.loc[strain_list].sort_values(\n",
    "        \"shell\"\n",
    "    ).plot.bar(stacked=True, ax=ax, width=1)\n",
    "    ax.set_title(title)\n",
    "    ax.set_xticks([])\n",
    "    ax.set_aspect(0.08)\n",
    "    ax.legend_.set_visible(False)\n",
    "ax1.legend_.set_visible(True)\n",
    "ax1.legend(bbox_to_anchor=(1, 1))"
   ]
  },
  {
   "cell_type": "code",
   "execution_count": null,
   "metadata": {},
   "outputs": [],
   "source": [
    "# Prevalence classes defined on ref strains.\n",
    "strain_genome_ref_prevalence_class_tally = (\n",
    "    strain_uhgg_filt.groupby(ref_uhgg_class)\n",
    "    .sum()\n",
    "    .reindex(prevalence_class_order, fill_value=0)\n",
    "    .T.astype(int)\n",
    ")\n",
    "\n",
    "fig = plt.figure(figsize=(10, 5), tight_layout=True)\n",
    "\n",
    "gs = gridspec.GridSpec(\n",
    "    1, 2, width_ratios=[len(ref_list) / len(spgc_list), 1], figure=fig\n",
    ")\n",
    "ax0 = fig.add_subplot(gs[0, 0])\n",
    "ax1 = fig.add_subplot(gs[0, 1], sharey=ax0)\n",
    "\n",
    "# , axs = plt.subplots(1, 2, figsize=(14, 5), sharey=True)\n",
    "for ax, strain_list, title in zip(\n",
    "    [ax0, ax1], [ref_list, spgc_list], [\"references\", \"spgc\"]\n",
    "):\n",
    "    # TODO: Fix the colors to always match the previous palette.\n",
    "    strain_genome_ref_prevalence_class_tally.loc[strain_list].sort_values(\n",
    "        \"shell\"\n",
    "    ).plot.bar(stacked=True, ax=ax, width=1)\n",
    "    ax.set_title(title)\n",
    "    ax.set_xticks([])\n",
    "    ax.set_aspect(0.08)\n",
    "    ax.legend_.set_visible(False)\n",
    "ax1.legend_.set_visible(True)\n",
    "ax1.legend(bbox_to_anchor=(1, 1))"
   ]
  },
  {
   "cell_type": "code",
   "execution_count": null,
   "metadata": {},
   "outputs": [],
   "source": [
    "gene_annotations.groupby(spgc_uhgg_class).centroid_99_length.quantile(\n",
    "    [0.1, 0.25, 0.5, 0.75, 0.9]\n",
    ").unstack()"
   ]
  },
  {
   "cell_type": "code",
   "execution_count": null,
   "metadata": {},
   "outputs": [],
   "source": [
    "cog_category_order = gene_x_cog_category_matrix.columns\n",
    "cog_category_palette = lib.plot.construct_ordered_palette(\n",
    "    cog_category_order, cm=\"rainbow\", extend=dict(no_category=\"grey\")\n",
    ")\n",
    "for cog_category in cog_category_order:\n",
    "    plt.scatter([], [], c=cog_category_palette[cog_category], label=cog_category)\n",
    "plt.legend(ncols=4)\n",
    "\n",
    "lib.plot.hide_axes_and_spines()"
   ]
  },
  {
   "cell_type": "code",
   "execution_count": null,
   "metadata": {},
   "outputs": [],
   "source": [
    "cog_category_description = pd.read_table(\n",
    "    \"ref/cog-20.categories.tsv\",\n",
    "    names=[\"cog_category\", \"description\"],\n",
    "    index_col=\"cog_category\",\n",
    ").assign(description=lambda x: x.index + \": \" + x.description)\n",
    "cog_category_description.loc[\"no_category\", \"description\"] = \"-: No Annotation\"\n",
    "cog_category_description"
   ]
  },
  {
   "cell_type": "code",
   "execution_count": null,
   "metadata": {},
   "outputs": [],
   "source": [
    "x = spgc_uhgg_class\n",
    "y = gene_x_cog_category_matrix.reindex(\n",
    "    x.index, fill_value=False\n",
    ")  # .assign(no_category=lambda x: x.sum(1) == 0)\n",
    "gene_list = spgc_uhgg_class.index\n",
    "\n",
    "cog_category_gene_class_enrichment_test = []\n",
    "\n",
    "for _prevalence_class, _cog_category in product(\n",
    "    prevalence_class_order, list(cog_category_order)\n",
    "):\n",
    "    contingency_table = (\n",
    "        pd.DataFrame(\n",
    "            dict(\n",
    "                is_prev_class=(x == _prevalence_class),\n",
    "                is_cog_category=y[_cog_category],\n",
    "            )\n",
    "        )\n",
    "        .value_counts()\n",
    "        .unstack()\n",
    "        .reindex(index=[False, True], columns=[False, True])\n",
    "        .fillna(0)\n",
    "    )\n",
    "    _test = sp.stats.fisher_exact(contingency_table)\n",
    "    cog_category_gene_class_enrichment_test.append(\n",
    "        (\n",
    "            _prevalence_class,\n",
    "            _cog_category,\n",
    "            _test[0],\n",
    "            _test[1],\n",
    "            contingency_table.loc[True, True],\n",
    "        )\n",
    "    )\n",
    "\n",
    "cog_category_gene_class_enrichment_test = (\n",
    "    pd.DataFrame(\n",
    "        cog_category_gene_class_enrichment_test,\n",
    "        columns=[\n",
    "            \"prevalence_class\",\n",
    "            \"cog_category\",\n",
    "            \"statistic\",\n",
    "            \"pvalue\",\n",
    "            \"gene_count\",\n",
    "        ],\n",
    "    )\n",
    "    .set_index([\"prevalence_class\", \"cog_category\"])\n",
    "    .assign(\n",
    "        negative_log10_pvalue=lambda x: -np.log10(x.pvalue),\n",
    "        log2_odds_ratio=lambda x: np.log2(x.statistic),\n",
    "    )\n",
    ")"
   ]
  },
  {
   "cell_type": "code",
   "execution_count": null,
   "metadata": {},
   "outputs": [],
   "source": [
    "def _assign_significance_marker(pvalue):\n",
    "    if pvalue < 1e-5:\n",
    "        return \"***\"\n",
    "    elif pvalue < 1e-3:\n",
    "        return \"**\"\n",
    "    elif pvalue < 0.05:\n",
    "        return \"*\"\n",
    "    else:\n",
    "        return \"\""
   ]
  },
  {
   "cell_type": "code",
   "execution_count": null,
   "metadata": {},
   "outputs": [],
   "source": [
    "x = (\n",
    "    cog_category_gene_class_enrichment_test.log2_odds_ratio.unstack(\"prevalence_class\")\n",
    "    .replace({np.inf: np.nan, -np.inf: np.nan})\n",
    "    .join(cog_category_description)\n",
    "    .set_index(\"description\")[prevalence_class_order]\n",
    "    .fillna(0)\n",
    ")\n",
    "# annot = (cog_category_gene_class_enrichment_test.pvalue.map(_assign_significance_marker) + '|' + cog_category_gene_class_enrichment_test.gene_count.astype(int).astype(str)).unstack('prevalence_class')[prevalence_class_order]\n",
    "annot = (\n",
    "    cog_category_gene_class_enrichment_test.pvalue.map(_assign_significance_marker)\n",
    "    .unstack(\"prevalence_class\")\n",
    "    .join(cog_category_description)\n",
    "    .set_index(\"description\")[prevalence_class_order]\n",
    ")\n",
    "# annot = cog_category_gene_class_enrichment_test.gene_count.unstack('prevalence_class')[prevalence_class_order].astype(int)\n",
    "\n",
    "_row_order = x[\"core\"].sort_values(ascending=False).index\n",
    "# x, annot = lib.pandas_util.align_indexes(x, annot)\n",
    "\n",
    "fig, ax = plt.subplots(figsize=(5, 12))\n",
    "ax = sns.heatmap(\n",
    "    x.reindex(_row_order),\n",
    "    annot=annot.reindex(_row_order),\n",
    "    fmt=\"\",\n",
    "    cmap=\"coolwarm\",\n",
    "    center=0,\n",
    "    vmin=-5,\n",
    "    vmax=5,\n",
    "    cbar_kws=dict(\n",
    "        use_gridspec=True, location=\"left\", label=\"log2(odds ratio)\", extend=\"both\"\n",
    "    ),\n",
    "    ax=ax,\n",
    "    yticklabels=1,\n",
    "    xticklabels=1,\n",
    "    annot_kws=dict(va=\"center\"),\n",
    "    # norm=mpl.colors.SymLogNorm(linthresh=1e1),\n",
    "    # center=0,\n",
    ")\n",
    "\n",
    "ax.yaxis.set_ticks_position(\"right\")\n",
    "ax.set_ylabel(\"\")\n",
    "lib.plot.rotate_yticklabels(rotation=-0, va=\"center\")"
   ]
  },
  {
   "cell_type": "code",
   "execution_count": null,
   "metadata": {},
   "outputs": [],
   "source": [
    "fig, ax = plt.subplots()\n",
    "\n",
    "for prevalence_class in prevalence_class_order:\n",
    "    d = cog_category_gene_class_enrichment_test.xs(\n",
    "        prevalence_class, level=\"prevalence_class\"\n",
    "    )\n",
    "    ax.scatter(\n",
    "        \"log2_odds_ratio\",\n",
    "        \"negative_log10_pvalue\",\n",
    "        data=d,\n",
    "        c=prevalence_class_palette[prevalence_class],\n",
    "        label=prevalence_class,\n",
    "        s=5,\n",
    "    )\n",
    "\n",
    "# Annotate top-10\n",
    "for idx in (\n",
    "    cog_category_gene_class_enrichment_test.sort_values(\n",
    "        \"negative_log10_pvalue\", ascending=False\n",
    "    )\n",
    "    .head(10)\n",
    "    .index\n",
    "):\n",
    "    ax.annotate(\n",
    "        idx[1],\n",
    "        xy=cog_category_gene_class_enrichment_test.loc[idx][\n",
    "            [\"log2_odds_ratio\", \"negative_log10_pvalue\"]\n",
    "        ],\n",
    "        xytext=(2, 1),\n",
    "        textcoords=\"offset pixels\",\n",
    "        color=prevalence_class_palette[idx[0]],\n",
    "        # ha='center',\n",
    "        # va='center',\n",
    "        fontweight=\"bold\",\n",
    "    )\n",
    "ax.axvline(0, linestyle=\"--\", lw=1, color=\"k\")\n",
    "ax.axhline(\n",
    "    -np.log10(0.05 / cog_category_gene_class_enrichment_test.shape[0]),\n",
    "    linestyle=\"--\",\n",
    "    lw=1,\n",
    "    color=\"k\",\n",
    ")\n",
    "ax.legend()\n",
    "# cog_category_gene_class_enrichment_test.sort_values('negative_log10_pvalue', ascending=False).head(20)"
   ]
  },
  {
   "cell_type": "markdown",
   "metadata": {},
   "source": [
    "### Strength of Phylogenetic Signal in Shell Genes"
   ]
  },
  {
   "cell_type": "code",
   "execution_count": null,
   "metadata": {},
   "outputs": [],
   "source": [
    "shell_gene_filt_list = list(\n",
    "    set(idxwhere((spgc_uhgg_class == \"shell\"))) & set(strain_uhgg_filt.index)\n",
    ")\n",
    "\n",
    "x = strain_gene_uhgg.loc[shell_gene_filt_list]\n",
    "\n",
    "# # Weighted\n",
    "# strain_shell_gene_cdist = sp.spatial.distance.pdist(\n",
    "#     x.T, metric=\"cosine\", w=ref_gene_uhgg_entropy.loc[x.index]\n",
    "# )\n",
    "\n",
    "# Unweighted\n",
    "strain_shell_gene_cdist = sp.spatial.distance.pdist(\n",
    "    x.T,\n",
    "    metric=\"jaccard\",\n",
    ")\n",
    "strain_shell_gene_pdist = pd.DataFrame(\n",
    "    squareform(strain_shell_gene_cdist), index=x.columns, columns=x.columns\n",
    ")\n",
    "strain_shell_gene_linkage = sp.cluster.hierarchy.optimal_leaf_ordering(\n",
    "    fastcluster.linkage(strain_shell_gene_cdist, method=\"average\"),\n",
    "    strain_shell_gene_cdist,\n",
    ")\n",
    "\n",
    "# _col_linkage = strain_shell_gene_linkage\n",
    "_col_colors = genome_type.map(genome_type_palette)\n",
    "_col_linkage = strain_shell_gene_linkage\n",
    "\n",
    "if show_unimportant_figures:\n",
    "    sns.clustermap(x, col_linkage=_col_linkage, col_colors=_col_colors)"
   ]
  },
  {
   "cell_type": "code",
   "execution_count": null,
   "metadata": {},
   "outputs": [],
   "source": [
    "# FIXME: x is ambiguous here.\n",
    "x = strain_shell_gene_pdist.copy()\n",
    "dii, djj = np.diag_indices_from(x)\n",
    "x.values[dii, djj] = np.nan\n",
    "\n",
    "_col_linkage = strain_geno_linkage\n",
    "_row_linkage = strain_shell_gene_linkage\n",
    "_colors = genome_type.map(genome_type_palette)\n",
    "\n",
    "g = sns.clustermap(\n",
    "    x,\n",
    "    col_linkage=_col_linkage,\n",
    "    row_linkage=_row_linkage,\n",
    "    col_colors=_colors,\n",
    "    row_colors=_colors,\n",
    ")\n",
    "g.ax_heatmap.set_facecolor(\"aqua\")"
   ]
  },
  {
   "cell_type": "code",
   "execution_count": null,
   "metadata": {},
   "outputs": [],
   "source": [
    "_genome_list = strain_geno_pdist.index\n",
    "_results = {}\n",
    "w = geno_pdist_to_weights(strain_geno_pdist.loc[_genome_list, _genome_list], rate=1)\n",
    "\n",
    "d = pd.DataFrame(w, index=_genome_list, columns=_genome_list)\n",
    "sns.clustermap(d, col_linkage=strain_geno_linkage, row_linkage=strain_geno_linkage)"
   ]
  },
  {
   "cell_type": "code",
   "execution_count": null,
   "metadata": {},
   "outputs": [],
   "source": [
    "# First, check if there's any \"phylogenetic signal\" of being SPGC vs. other sources of strains.\n",
    "\n",
    "with open(geno_pdist_inpath, \"rb\") as f:\n",
    "    d = pickle.load(f)\n",
    "\n",
    "_cdmat = d[\"cdmat\"]\n",
    "_labels = d['labels']\n",
    "_pdmat = pd.DataFrame(squareform(_cdmat), index=_labels, columns=_labels)\n",
    "\n",
    "w = pd.DataFrame(\n",
    "    geno_pdist_to_weights(_pdmat, rate=1),\n",
    "    index=_pdmat.index,\n",
    "    columns=_pdmat.columns,\n",
    ")\n",
    "\n",
    "x = pd.concat([reference_meta.Genome_type, spgc_meta.assign(Genome_type='SPGC').Genome_type]).isin(['SPGC'])\n",
    "w = w.loc[x.index, x.index]\n",
    "\n",
    "morans_i(\n",
    "        x.values,\n",
    "        w.values,\n",
    "        return_zscore=True,\n",
    "        centered=True,\n",
    ")"
   ]
  },
  {
   "cell_type": "code",
   "execution_count": null,
   "metadata": {},
   "outputs": [],
   "source": [
    "# This is the slowest running cell, because it can have 10s or 100s of thousands of genes for some species.\n",
    "\n",
    "_gene_list = strain_gene_uhgg.index\n",
    "# TODO: Pick best weight function\n",
    "w = pd.DataFrame(\n",
    "    geno_pdist_to_weights(strain_geno_pdist, rate=1),\n",
    "    index=strain_geno_pdist.index,\n",
    "    columns=strain_geno_pdist.columns,\n",
    ")\n",
    "\n",
    "_genome_list = ref_list\n",
    "_results = {}\n",
    "_w = w.loc[_genome_list, _genome_list].values\n",
    "for gene_id in tqdm(_gene_list):\n",
    "    _results[gene_id] = morans_i(\n",
    "        strain_gene_uhgg.loc[gene_id, _genome_list].values,\n",
    "        _w,\n",
    "        return_zscore=False,\n",
    "        centered=True,\n",
    "    )\n",
    "phylogenetic_signal_ref = pd.Series(_results)\n",
    "\n",
    "_genome_list = spgc_list\n",
    "_results = {}\n",
    "_w = w.loc[_genome_list, _genome_list].values\n",
    "for gene_id in tqdm(_gene_list):\n",
    "    _results[gene_id] = morans_i(\n",
    "        strain_gene_uhgg.loc[gene_id, _genome_list].values,\n",
    "        _w,\n",
    "        return_zscore=False,\n",
    "        centered=True,\n",
    "    )\n",
    "phylogenetic_signal_spgc = pd.Series(_results)"
   ]
  },
  {
   "cell_type": "code",
   "execution_count": null,
   "metadata": {},
   "outputs": [],
   "source": [
    "_gene_list = (spgc_uhgg_prevalence > 0.1) & (\n",
    "    spgc_uhgg_prevalence < 0.9\n",
    ")  # phylogenetic_signal_ref.index  # shell_gene_filt_list\n",
    "\n",
    "d = (\n",
    "    pd.DataFrame(dict(ref=phylogenetic_signal_ref, spgc=phylogenetic_signal_spgc))\n",
    "    .loc[_gene_list]\n",
    "    .fillna(0)\n",
    ")\n",
    "\n",
    "\n",
    "bins = 200  # np.linspace(-100, 100)\n",
    "\n",
    "fig, ax = plt.subplots(figsize=(12, 10))\n",
    "if not d.empty:\n",
    "    print(len(d))\n",
    "    print(sp.stats.pearsonr(d.ref, d.spgc))\n",
    "\n",
    "    plt.hist2d(\n",
    "        x=\"ref\",\n",
    "        y=\"spgc\",\n",
    "        data=d,\n",
    "        # kind=\"reg\",\n",
    "        bins=(bins, bins),\n",
    "        norm=mpl.colors.PowerNorm(1 / 5),\n",
    "    )\n",
    "    plt.colorbar()\n",
    "    None\n",
    "# plt.xscale('symlog', linthresh=1e-4, linscale=0.05)\n",
    "# plt.yscale('symlog', linthresh=1e-4, linscale=0.05)\n",
    "# plt.xlim(-5e-3, 1e-1)\n",
    "# plt.ylim(-5e-3, 1e-1)"
   ]
  },
  {
   "cell_type": "code",
   "execution_count": null,
   "metadata": {},
   "outputs": [],
   "source": [
    "_gene_list = shell_gene_filt_list\n",
    "\n",
    "bins = (\n",
    "    list(reversed(-np.logspace(-4, -0, num=50)))\n",
    "    + [0]\n",
    "    + list(np.logspace(-4, -0, num=50))\n",
    ")\n",
    "\n",
    "plt.hist(phylogenetic_signal_spgc.loc[_gene_list], alpha=0.5, bins=bins)\n",
    "plt.hist(phylogenetic_signal_ref.loc[_gene_list], alpha=0.5, bins=bins)\n",
    "\n",
    "plt.xscale(\"symlog\", linthresh=1e-4, linscale=0.05)\n",
    "plt.yscale(\"symlog\", linthresh=1e-4, linscale=0.05)"
   ]
  },
  {
   "cell_type": "code",
   "execution_count": null,
   "metadata": {},
   "outputs": [],
   "source": [
    "_gene_list = (spgc_uhgg_prevalence > 0.1) & (\n",
    "    spgc_uhgg_prevalence < 0.9\n",
    ")  # phylogenetic_signal_ref.index  # shell_gene_filt_list\n",
    "\n",
    "d = (\n",
    "    pd.DataFrame(dict(ref=phylogenetic_signal_ref, spgc=phylogenetic_signal_spgc))\n",
    "    .loc[_gene_list]\n",
    "    .fillna(0)\n",
    ")\n",
    "\n",
    "\n",
    "bins = (\n",
    "    list(reversed(-np.logspace(-4, -0, num=50)))\n",
    "    + [0]\n",
    "    + list(np.logspace(-4, -0, num=50))\n",
    ")\n",
    "\n",
    "fig, ax = plt.subplots(figsize=(12, 10))\n",
    "if not d.empty:\n",
    "    print(len(d))\n",
    "    print(sp.stats.pearsonr(d.ref, d.spgc))\n",
    "\n",
    "    plt.hist2d(\n",
    "        x=\"ref\",\n",
    "        y=\"spgc\",\n",
    "        data=d,\n",
    "        # kind=\"reg\",\n",
    "        bins=(bins, bins),\n",
    "        norm=mpl.colors.PowerNorm(1 / 5),\n",
    "    )\n",
    "    plt.colorbar()\n",
    "    None\n",
    "plt.xscale(\"symlog\", linthresh=1e-4, linscale=0.05)\n",
    "plt.yscale(\"symlog\", linthresh=1e-4, linscale=0.05)\n",
    "plt.xlim(-5e-3, 1e-1)\n",
    "plt.ylim(-5e-3, 1e-1)"
   ]
  },
  {
   "cell_type": "code",
   "execution_count": null,
   "metadata": {},
   "outputs": [],
   "source": [
    "bins = (\n",
    "    list(reversed(-np.logspace(-5, 0, num=50))) + [0] + list(np.logspace(-5, 0, num=50))\n",
    ")\n",
    "_gene_list = shell_gene_filt_list  # idxwhere((ref_uhgg_prevalence > 0.1) & (ref_uhgg_prevalence < 0.9))\n",
    "# plt.plot(bins)\n",
    "plt.hist(phylogenetic_signal_spgc.loc[_gene_list].dropna(), bins=bins, alpha=0.5)\n",
    "plt.hist(phylogenetic_signal_ref.loc[_gene_list].dropna(), bins=bins, alpha=0.5)\n",
    "\n",
    "plt.xscale(\"symlog\", linthresh=1e-5, linscale=0.05)\n",
    "plt.yscale(\"log\")"
   ]
  },
  {
   "cell_type": "code",
   "execution_count": null,
   "metadata": {},
   "outputs": [],
   "source": [
    "d = phylogenetic_signal_ref.to_frame(\"morans_i_centered\").assign(\n",
    "    prevalence=ref_uhgg_prevalence\n",
    ")\n",
    "plt.scatter(\n",
    "    \"prevalence\",\n",
    "    \"morans_i_centered\",\n",
    "    data=d,\n",
    "    # c=\"zscore\",\n",
    "    norm=mpl.colors.SymLogNorm(linthresh=0.1),\n",
    "    s=5,\n",
    "    alpha=1.0,\n",
    ")\n",
    "plt.colorbar()"
   ]
  },
  {
   "cell_type": "code",
   "execution_count": null,
   "metadata": {},
   "outputs": [],
   "source": [
    "x = strain_gene_uhgg.loc[shell_gene_filt_list]  # , spgc_list]\n",
    "\n",
    "min_spgc_morans_i = phylogenetic_signal_spgc.min()\n",
    "max_spgc_morans_i = phylogenetic_signal_spgc.max()\n",
    "_cmap_spgc = lambda x: mpl.cm.coolwarm(\n",
    "    (x - min_spgc_morans_i) / (max_spgc_morans_i - min_spgc_morans_i)\n",
    ")\n",
    "\n",
    "min_ref_morans_i = phylogenetic_signal_ref.min()\n",
    "max_ref_morans_i = phylogenetic_signal_ref.max()\n",
    "_cmap_ref = lambda x: mpl.cm.coolwarm(\n",
    "    (x - min_ref_morans_i) / (max_ref_morans_i - min_ref_morans_i)\n",
    ")\n",
    "\n",
    "_col_colors = genome_type.map(genome_type_palette)\n",
    "_row_colors = pd.DataFrame(\n",
    "    dict(\n",
    "        phylo_spgc=phylogenetic_signal_spgc.map(_cmap_spgc),\n",
    "        phylo_ref=phylogenetic_signal_ref.map(_cmap_ref),\n",
    "        entrp=ref_gene_uhgg_entropy.map(mpl.cm.viridis),\n",
    "    )\n",
    ")\n",
    "\n",
    "if show_unimportant_figures:\n",
    "    sns.clustermap(\n",
    "        x,\n",
    "        row_colors=_row_colors,\n",
    "        col_linkage=strain_geno_linkage,\n",
    "        col_colors=_col_colors,\n",
    "    )"
   ]
  },
  {
   "cell_type": "code",
   "execution_count": null,
   "metadata": {},
   "outputs": [],
   "source": [
    "cog_category_phylogenetic_signal_test = {}\n",
    "\n",
    "for _cog_category in tqdm(list(cog_category_order)):\n",
    "    d = pd.DataFrame(\n",
    "        dict(\n",
    "            phylogenetic_signal=phylogenetic_signal_spgc,\n",
    "            is_cog_category=gene_x_cog_category_matrix.reindex(\n",
    "                phylogenetic_signal_spgc.index\n",
    "            ).fillna(False)[_cog_category],\n",
    "        )\n",
    "    ).loc[shell_gene_filt_list]\n",
    "    x = d[d.is_cog_category].phylogenetic_signal\n",
    "    y = d[~d.is_cog_category].phylogenetic_signal\n",
    "    if (len(x) > 5) and (len(y) > 5):\n",
    "        _test = sp.stats.mannwhitneyu(x, y)\n",
    "    else:\n",
    "        _test = (np.nan, np.nan)\n",
    "    cog_category_phylogenetic_signal_test[_cog_category] = (\n",
    "        len(x),\n",
    "        x.median(),\n",
    "        y.median(),\n",
    "        x.mean(),\n",
    "        y.mean(),\n",
    "        *_test,\n",
    "    )\n",
    "\n",
    "cog_category_phylogenetic_signal_test = pd.DataFrame(\n",
    "    cog_category_phylogenetic_signal_test,\n",
    "    index=[\n",
    "        \"num_genes_in_category\",\n",
    "        \"cog_median_i\",\n",
    "        \"not_cog_median_i\",\n",
    "        \"cog_mean_i\",\n",
    "        \"not_cog_mean_i\",\n",
    "        \"mwu_statistic\",\n",
    "        \"pvalue\",\n",
    "    ],\n",
    ").T.assign(\n",
    "    negative_log10_pvalue=lambda x: -np.log10(x.pvalue),\n",
    "    median_diff=lambda x: x.cog_median_i - x.not_cog_median_i,\n",
    ")"
   ]
  },
  {
   "cell_type": "code",
   "execution_count": null,
   "metadata": {},
   "outputs": [],
   "source": [
    "d = cog_category_phylogenetic_signal_test.join(cog_category_description).dropna(\n",
    "    subset=[\"median_diff\"]\n",
    ")\n",
    "\n",
    "fig, ax = plt.subplots()\n",
    "plt.scatter(\n",
    "    \"median_diff\",\n",
    "    \"pvalue\",\n",
    "    data=d,\n",
    ")\n",
    "# lib.plot.rotate_xticklabels()\n",
    "ax.axvline(0, linestyle=\"--\", lw=1, color=\"k\")\n",
    "# ax.axhline(-np.log10(0.05 / d.shape[0]), linestyle='--', lw=1, color='k')\n",
    "\n",
    "\n",
    "for cog_category in idxwhere((np.abs(d.median_diff) > 0) & (d.pvalue < 1e-4)):\n",
    "    plt.annotate(\n",
    "        cog_category,\n",
    "        xy=d[[\"median_diff\", \"pvalue\"]].loc[cog_category],\n",
    "        xytext=(4, 2),\n",
    "        textcoords=\"offset points\",\n",
    "        # color=prevalence_class_palette[prevalence_class],\n",
    "        # ha='center',\n",
    "        # va='center',\n",
    "        # fontweight='bold',\n",
    "    )\n",
    "\n",
    "plt.yscale(\"log\")\n",
    "plt.xlim(-0.04, 0.04)\n",
    "plt.ylim(1e-15, 1)\n",
    "plt.gca().invert_yaxis()\n",
    "plt.xlabel(\"Difference in Median Moran's I\\n(in COG category vs. not)\")\n",
    "plt.ylabel(\"P-value\")\n",
    "\n",
    "d.sort_values(\"median_diff\", ascending=False)"
   ]
  },
  {
   "cell_type": "code",
   "execution_count": null,
   "metadata": {},
   "outputs": [],
   "source": [
    "x = (\n",
    "    cog_category_phylogenetic_signal_test.join(cog_category_description)[\n",
    "        [\"median_diff\"]\n",
    "    ]\n",
    "    .dropna()\n",
    "    .join(cog_category_description)\n",
    "    .set_index(\"description\")\n",
    ")\n",
    "\n",
    "# Order rows based on the COG-category enrichment analysis\n",
    "_row_order = (\n",
    "    cog_category_gene_class_enrichment_test.log2_odds_ratio.unstack(\"prevalence_class\")\n",
    "    .replace({np.inf: np.nan, -np.inf: np.nan})\n",
    "    .join(cog_category_description)\n",
    "    .set_index(\"description\")[prevalence_class_order]\n",
    "    .fillna(0)[\"core\"]\n",
    "    .sort_values(ascending=False)\n",
    "    .index\n",
    ")\n",
    "annot = (\n",
    "    cog_category_phylogenetic_signal_test.pvalue.map(_assign_significance_marker)\n",
    "    .to_frame()\n",
    "    .join(cog_category_description)\n",
    "    .set_index(\"description\")\n",
    ")\n",
    "\n",
    "\n",
    "fig, ax = plt.subplots(figsize=(3.5, 12))\n",
    "ax = sns.heatmap(\n",
    "    x.reindex(_row_order),\n",
    "    annot=annot.reindex(_row_order),\n",
    "    fmt=\"\",\n",
    "    cmap=\"PuOr\",\n",
    "    center=0,  # phylogenetic_signal_spgc.mean(),\n",
    "    cbar_kws=dict(\n",
    "        use_gridspec=True,\n",
    "        location=\"left\",\n",
    "        label=\"Difference in Median Moran's I\",\n",
    "        extend=\"both\",\n",
    "        fraction=0.5,\n",
    "    ),\n",
    "    # ax=ax,\n",
    "    # yticklabels=1,\n",
    "    # xticklabels=1,\n",
    "    # annot_kws=dict(va='center'),\n",
    "    # norm=mpl.colors.SymLogNorm(linthresh=1e1),\n",
    ")\n",
    "\n",
    "ax.yaxis.set_ticks_position(\"right\")\n",
    "ax.set_ylabel(\"\")\n",
    "lib.plot.rotate_yticklabels(rotation=-0, va=\"center\")"
   ]
  },
  {
   "cell_type": "code",
   "execution_count": null,
   "metadata": {},
   "outputs": [],
   "source": [
    "# d = phylogenetic_signal_spgc.loc[shell_gene_filt_list].dropna().to_frame().join(gene_x_cog_category).fillna(\"-\")\n",
    "d = (\n",
    "    phylogenetic_signal_spgc.dropna()\n",
    "    .to_frame(\"morans_i_centered\")\n",
    "    .join(gene_x_cog_category)\n",
    "    .fillna(\"-\")\n",
    ")\n",
    "\n",
    "\n",
    "fig, ax = plt.subplots(figsize=(20, 5))\n",
    "sns.violinplot(\n",
    "    data=d,\n",
    "    x=\"cog_category\",\n",
    "    y=\"morans_i_centered\",\n",
    "    ax=ax,\n",
    "    order=cog_category_phylogenetic_signal_test.cog_median_i.sort_values().index,\n",
    ")"
   ]
  },
  {
   "cell_type": "markdown",
   "metadata": {
    "tags": []
   },
   "source": [
    "## Gene Co-occurence"
   ]
  },
  {
   "cell_type": "markdown",
   "metadata": {
    "tags": []
   },
   "source": [
    "### Found using SPGC only"
   ]
  },
  {
   "cell_type": "code",
   "execution_count": null,
   "metadata": {
    "tags": []
   },
   "outputs": [],
   "source": [
    "gene_prevalence = strain_uhgg_filt[spgc_list].mean(1)\n",
    "plt.hist(gene_prevalence)\n",
    "plt.yscale(\"log\")\n",
    "variable_genes = idxwhere((gene_prevalence > 0.05) & (gene_prevalence < 0.95))\n",
    "len(variable_genes)"
   ]
  },
  {
   "cell_type": "code",
   "execution_count": null,
   "metadata": {
    "tags": []
   },
   "outputs": [],
   "source": [
    "x = strain_gene_uhgg.astype(bool)\n",
    "y = x[spgc_list]\n",
    "\n",
    "drop_nohit_genes_list = idxwhere(y.sum(1) == 0)\n",
    "drop_ubiq_genes_list = idxwhere((~y).sum(1) == 0)\n",
    "drop_single_hit_genes_list = idxwhere(y.sum(1) == 1)\n",
    "drop_only_one_missing_genes_list = idxwhere((~y).sum(1) == 1)\n",
    "print(\n",
    "    len(drop_nohit_genes_list),\n",
    "    len(drop_ubiq_genes_list),\n",
    "    len(drop_single_hit_genes_list),\n",
    "    len(drop_only_one_missing_genes_list),\n",
    ")\n",
    "\n",
    "z = y.drop(\n",
    "    drop_nohit_genes_list\n",
    "    + drop_ubiq_genes_list\n",
    "    + drop_single_hit_genes_list\n",
    "    + drop_only_one_missing_genes_list\n",
    ")\n",
    "print(z.shape)\n",
    "\n",
    "_col_colors = pd.DataFrame(\n",
    "    dict(\n",
    "        genome_type=genome_type.map(genome_type_palette),\n",
    "    )\n",
    ")\n",
    "\n",
    "if not z.empty:\n",
    "    linkage1 = fastcluster.linkage(z, metric=\"cosine\", method=\"average\")\n",
    "    # # Alternative: Optimal leaf ordering, but potentially MUCH slower.\n",
    "    # cdmat1 = pdist(z, metric=\"cosine\")\n",
    "    # linkage1 = sp.cluster.hierarchy.optimal_leaf_ordering(fastcluster.linkage(cdmat1, method=\"average\"), cdmat1)\n",
    "\n",
    "    clust1 = pd.Series(\n",
    "        sp.cluster.hierarchy.fcluster(\n",
    "            linkage1,\n",
    "            t=0.01,\n",
    "            criterion=\"distance\",\n",
    "        ),\n",
    "        index=z.index,\n",
    "    )\n",
    "    print(\"DONE: Clustering\")\n",
    "else:\n",
    "    clust1 = pd.Series(np.arange(len(z)), index=z.index)\n",
    "\n",
    "# Add back ubiquitous and nohit genes as clusters.\n",
    "clust1 = pd.concat(\n",
    "    [\n",
    "        clust1,\n",
    "        pd.Series(-1, index=drop_nohit_genes_list),\n",
    "        pd.Series(-2, index=drop_ubiq_genes_list),\n",
    "        pd.Series(-3, index=drop_single_hit_genes_list),\n",
    "        pd.Series(-4, index=drop_only_one_missing_genes_list),\n",
    "    ]\n",
    ")\n",
    "clust1_palette = lib.plot.construct_ordered_palette(clust1.unique())\n",
    "\n",
    "if show_unimportant_figures:\n",
    "    sns.clustermap(\n",
    "        x.loc[z.index],\n",
    "        row_colors=z.index.to_series().map(clust1).map(clust1_palette),\n",
    "        col_linkage=strain_uhgg_filt_unweighted_jacc_linkage,\n",
    "        row_linkage=linkage1,\n",
    "        col_colors=_col_colors,\n",
    "    )"
   ]
  },
  {
   "cell_type": "code",
   "execution_count": null,
   "metadata": {
    "tags": []
   },
   "outputs": [],
   "source": [
    "clust1_sizes = clust1.value_counts()\n",
    "\n",
    "clust1_sizes_meta = (\n",
    "    clust1.value_counts().to_frame(\"tally\")\n",
    "    # .groupby('clust')\n",
    "    # .count()\n",
    "    # .sort_values(ascending=False)\n",
    "    .assign(\n",
    "        top5_cc=gene_x_cog_category_matrix.groupby(clust1)\n",
    "        .sum()\n",
    "        .rename(int)\n",
    "        .astype(int)\n",
    "        .apply(lambda x: x.sort_values(ascending=False).head(5).index.to_list(), axis=1)\n",
    "    )\n",
    ")\n",
    "\n",
    "clust1_sizes_meta.head(20)"
   ]
  },
  {
   "cell_type": "code",
   "execution_count": null,
   "metadata": {},
   "outputs": [],
   "source": [
    "_real_clusters = clust1_sizes_meta.drop([-1, -2, -3, -4], errors=\"ignore\")\n",
    "if _real_clusters.empty:\n",
    "    print(\"No real clusters.\")\n",
    "else:\n",
    "    _clust = clust1_sizes_meta.drop([-1, -2, -3, -4], errors=\"ignore\").index[0]\n",
    "\n",
    "    _gene_list = idxwhere(clust1 == _clust)\n",
    "    x = strain_gene_uhgg.loc[_gene_list]\n",
    "    y = strain_gene_uhgg_depth.loc[_gene_list]\n",
    "    _col_colors = pd.DataFrame(\n",
    "        dict(\n",
    "            genome_type=genome_type.map(genome_type_palette),\n",
    "        )\n",
    "    )\n",
    "    _row_colors = (\n",
    "        gene_annotations.reindex(_gene_list)\n",
    "        .centroid_99_length.map(np.log10)\n",
    "        .map(lambda x: x / 4)\n",
    "        .map(mpl.cm.viridis)\n",
    "    )\n",
    "    _col_linkage = strain_geno_linkage\n",
    "    _row_linkage = sp.cluster.hierarchy.linkage(\n",
    "        x, method=\"average\", metric=\"cosine\", optimal_ordering=True\n",
    "    )  # TODO\n",
    "\n",
    "    sns.clustermap(\n",
    "        x,\n",
    "        figsize=(10, 5),\n",
    "        row_linkage=_row_linkage,\n",
    "        col_linkage=_col_linkage,\n",
    "        col_colors=_col_colors,\n",
    "        xticklabels=0,\n",
    "        yticklabels=0,\n",
    "    )\n",
    "    sns.clustermap(\n",
    "        y,\n",
    "        figsize=(10, 5),\n",
    "        row_linkage=_row_linkage,\n",
    "        col_linkage=_col_linkage,\n",
    "        col_colors=_col_colors,\n",
    "        norm=mpl.colors.PowerNorm(1 / 2, vmin=0, vmax=2),\n",
    "        xticklabels=0,\n",
    "        yticklabels=0,\n",
    "    )\n",
    "\n",
    "    print(phylogenetic_signal_spgc.loc[_gene_list].median())\n",
    "    print(phylogenetic_signal_ref.loc[_gene_list].median())\n",
    "\n",
    "    print(\n",
    "        gene_x_cog_category_matrix.reindex(_gene_list)\n",
    "        .sum()\n",
    "        .sort_values(ascending=False)[lambda x: x > 0]\n",
    "        .to_frame(\"tally\")\n",
    "        .join(cog_category_description)\n",
    "    )\n",
    "    gene_annotations.reindex(_gene_list)"
   ]
  },
  {
   "cell_type": "markdown",
   "metadata": {
    "tags": []
   },
   "source": [
    "### Found using Ref only"
   ]
  },
  {
   "cell_type": "code",
   "execution_count": null,
   "metadata": {
    "tags": []
   },
   "outputs": [],
   "source": [
    "x = strain_gene_uhgg.astype(bool)\n",
    "y = x[ref_list]\n",
    "\n",
    "drop_nohit_genes_list = idxwhere(y.sum(1) == 0)\n",
    "drop_ubiq_genes_list = idxwhere((~y).sum(1) == 0)\n",
    "drop_single_hit_genes_list = idxwhere(y.sum(1) == 1)\n",
    "drop_only_one_missing_genes_list = idxwhere((~y).sum(1) == 1)\n",
    "print(\n",
    "    len(drop_nohit_genes_list),\n",
    "    len(drop_ubiq_genes_list),\n",
    "    len(drop_single_hit_genes_list),\n",
    "    len(drop_only_one_missing_genes_list),\n",
    ")\n",
    "\n",
    "z = y.drop(\n",
    "    drop_nohit_genes_list\n",
    "    + drop_ubiq_genes_list\n",
    "    + drop_single_hit_genes_list\n",
    "    + drop_only_one_missing_genes_list\n",
    ")\n",
    "print(z.shape)\n",
    "\n",
    "_col_colors = pd.DataFrame(\n",
    "    dict(\n",
    "        genome_type=genome_type.map(genome_type_palette),\n",
    "    )\n",
    ")\n",
    "\n",
    "if not z.empty:\n",
    "    linkage3 = fastcluster.linkage(z, metric=\"cosine\", method=\"average\")\n",
    "    # # Alternative: Optimal leaf ordering, but potentially MUCH slower.\n",
    "    # cdmat3 = pdist(z, metric=\"cosine\")\n",
    "    # linkage3 = sp.cluster.hierarchy.optimal_leaf_ordering(fastcluster.linkage(cdmat3, method=\"average\"), cdmat3)\n",
    "\n",
    "    clust3 = pd.Series(\n",
    "        sp.cluster.hierarchy.fcluster(\n",
    "            linkage3,\n",
    "            t=0.035,\n",
    "            criterion=\"distance\",\n",
    "        ),\n",
    "        index=z.index,\n",
    "    )\n",
    "    print(\"DONE: Clustering\")\n",
    "else:\n",
    "    clust3 = pd.Series(np.arange(len(z)), index=z.index)\n",
    "\n",
    "# Add back ubiquitous and nohit genes as clusters.\n",
    "clust3 = pd.concat(\n",
    "    [\n",
    "        clust3,\n",
    "        pd.Series(-1, index=drop_nohit_genes_list),\n",
    "        pd.Series(-2, index=drop_ubiq_genes_list),\n",
    "        pd.Series(-3, index=drop_single_hit_genes_list),\n",
    "        pd.Series(-4, index=drop_only_one_missing_genes_list),\n",
    "    ]\n",
    ")\n",
    "clust3_palette = lib.plot.construct_ordered_palette(clust1.unique())\n",
    "\n",
    "if show_unimportant_figures:\n",
    "    sns.clustermap(\n",
    "        x.loc[z.index],\n",
    "        row_colors=z.index.to_series().map(clust3).map(clust3_palette),\n",
    "        col_linkage=strain_uhgg_filt_unweighted_jacc_linkage,\n",
    "        row_linkage=linkage3,\n",
    "        col_colors=_col_colors,\n",
    "    )"
   ]
  },
  {
   "cell_type": "code",
   "execution_count": null,
   "metadata": {
    "tags": []
   },
   "outputs": [],
   "source": [
    "clust3_sizes = clust3.value_counts()\n",
    "\n",
    "clust3_sizes_meta = (\n",
    "    clust3.value_counts().to_frame(\"tally\")\n",
    "    # .groupby('clust')\n",
    "    # .count()\n",
    "    # .sort_values(ascending=False)\n",
    "    .assign(\n",
    "        top5_cc=gene_x_cog_category_matrix.groupby(clust3)\n",
    "        .sum()\n",
    "        .rename(int)\n",
    "        .astype(int)\n",
    "        .apply(lambda x: x.sort_values(ascending=False).head(5).index.to_list(), axis=1)\n",
    "    )\n",
    ")\n",
    "\n",
    "clust3_sizes_meta.head(20)"
   ]
  },
  {
   "cell_type": "code",
   "execution_count": null,
   "metadata": {},
   "outputs": [],
   "source": [
    "_real_clusters = clust3_sizes_meta.drop([-1, -2, -3, -4], errors=\"ignore\")\n",
    "if _real_clusters.empty:\n",
    "    print(\"No real clusters.\")\n",
    "else:\n",
    "    _clust = clust3_sizes_meta.drop([-1, -2, -3, -4], errors=\"ignore\").index[0]\n",
    "\n",
    "_gene_list = idxwhere(clust3 == _clust)\n",
    "x = strain_gene_uhgg.loc[_gene_list]\n",
    "y = strain_gene_uhgg_depth.loc[_gene_list]\n",
    "_col_colors = pd.DataFrame(\n",
    "    dict(\n",
    "        genome_type=genome_type.map(genome_type_palette),\n",
    "    )\n",
    ")\n",
    "_row_colors = (\n",
    "    gene_annotations.reindex(_gene_list)\n",
    "    .centroid_99_length.map(np.log10)\n",
    "    .map(lambda x: x / 4)\n",
    "    .map(mpl.cm.viridis)\n",
    ")\n",
    "_col_linkage = strain_geno_linkage\n",
    "_row_linkage = sp.cluster.hierarchy.linkage(\n",
    "    x, method=\"average\", metric=\"cosine\", optimal_ordering=True\n",
    ")  # TODO\n",
    "\n",
    "sns.clustermap(\n",
    "    x,\n",
    "    figsize=(10, 5),\n",
    "    row_linkage=_row_linkage,\n",
    "    col_linkage=_col_linkage,\n",
    "    col_colors=_col_colors,\n",
    "    xticklabels=0,\n",
    "    yticklabels=0,\n",
    ")\n",
    "sns.clustermap(\n",
    "    y,\n",
    "    figsize=(10, 5),\n",
    "    row_linkage=_row_linkage,\n",
    "    col_linkage=_col_linkage,\n",
    "    col_colors=_col_colors,\n",
    "    norm=mpl.colors.PowerNorm(1 / 2, vmin=0, vmax=2),\n",
    "    xticklabels=0,\n",
    "    yticklabels=0,\n",
    ")\n",
    "\n",
    "print(phylogenetic_signal_spgc.loc[_gene_list].median())\n",
    "print(phylogenetic_signal_ref.loc[_gene_list].median())\n",
    "\n",
    "print(\n",
    "    gene_x_cog_category_matrix.reindex(_gene_list)\n",
    "    .sum()\n",
    "    .sort_values(ascending=False)[lambda x: x > 0]\n",
    "    .to_frame(\"tally\")\n",
    "    .join(cog_category_description)\n",
    ")\n",
    "gene_annotations.reindex(_gene_list)"
   ]
  },
  {
   "cell_type": "markdown",
   "metadata": {},
   "source": [
    "### Comparison Among Clusterings"
   ]
  },
  {
   "cell_type": "code",
   "execution_count": null,
   "metadata": {},
   "outputs": [],
   "source": [
    "_gene_list = idxwhere((gene_prevalence >= 0) & (gene_prevalence <= 1))\n",
    "\n",
    "print(adjusted_mutual_info_score(clust1[_gene_list], clust3[_gene_list]))\n",
    "# print(adjusted_mutual_info_score(clust1[_gene_list], clust2[_gene_list]))\n",
    "# print(adjusted_mutual_info_score(clust2[_gene_list], clust3[_gene_list]))"
   ]
  },
  {
   "cell_type": "code",
   "execution_count": null,
   "metadata": {},
   "outputs": [],
   "source": [
    "_gene_list = idxwhere((gene_prevalence >= 0.05) & (gene_prevalence <= 0.95))\n",
    "\n",
    "print(adjusted_mutual_info_score(clust1[_gene_list], clust3[_gene_list]))\n",
    "# print(adjusted_mutual_info_score(clust1[_gene_list], clust2[_gene_list]))\n",
    "# print(adjusted_mutual_info_score(clust2[_gene_list], clust3[_gene_list]))"
   ]
  },
  {
   "cell_type": "code",
   "execution_count": null,
   "metadata": {},
   "outputs": [],
   "source": [
    "_gene_list = idxwhere((gene_prevalence >= 0) & (gene_prevalence <= 1))\n",
    "\n",
    "print(adjusted_rand_score(clust1[_gene_list], clust3[_gene_list]))\n",
    "# print(adjusted_rand_score(clust1[_gene_list], clust2[_gene_list]))\n",
    "# print(adjusted_rand_score(clust2[_gene_list], clust3[_gene_list]))"
   ]
  },
  {
   "cell_type": "code",
   "execution_count": null,
   "metadata": {},
   "outputs": [],
   "source": [
    "_gene_list = idxwhere((gene_prevalence >= 0.05) & (gene_prevalence <= 0.95))\n",
    "\n",
    "print(adjusted_rand_score(clust1[_gene_list], clust3[_gene_list]))\n",
    "# print(adjusted_rand_score(clust1[_gene_list], clust2[_gene_list]))\n",
    "# print(adjusted_rand_score(clust2[_gene_list], clust3[_gene_list]))"
   ]
  },
  {
   "cell_type": "markdown",
   "metadata": {
    "tags": []
   },
   "source": [
    "## SPGC-MWAS"
   ]
  },
  {
   "cell_type": "code",
   "execution_count": null,
   "metadata": {},
   "outputs": [],
   "source": [
    "(\n",
    "    sfacts_fit.community.sel(strain=spgc_list)\n",
    "    .to_pandas()\n",
    "    .groupby(mgen_meta.subject_id)\n",
    "    .mean()\n",
    "    > 0.2\n",
    ").any()"
   ]
  },
  {
   "cell_type": "code",
   "execution_count": null,
   "metadata": {
    "tags": []
   },
   "outputs": [],
   "source": [
    "# _row_linkage = gene_uhgg_linkage\n",
    "_gene_data = strain_gene_uhgg\n",
    "\n",
    "u = (\n",
    "    sfacts_fit.community.sel(strain=spgc_list)\n",
    "    .to_pandas()\n",
    "    .groupby(mgen_meta.subject_id)\n",
    "    .mean()\n",
    "    > 0.2\n",
    ")[lambda x: x.any(axis=1)]\n",
    "v = _gene_data[u.columns]\n",
    "subject_strain_gene_content = (u @ v.T).T > 0\n",
    "subject_strain_gene_prevalence = subject_strain_gene_content.mean(1)\n",
    "num_strain_subjects = subject_strain_gene_content.shape[1]\n",
    "\n",
    "subject_ibd_diagnosis = subject.loc[subject_strain_gene_content.columns].ibd_diagnosis\n",
    "\n",
    "_col_colors = subject_ibd_diagnosis.replace(\n",
    "    {\"CD\": \"tab:green\", \"UC\": \"tab:blue\", \"nonIBD\": \"lightgrey\"}\n",
    ")\n",
    "# row_order = sp.cluster.hierarchy.to_tree(_row_linkage).pre_order(lambda x: x.id)\n",
    "# sns.clustermap(subject_strain_gene_content.iloc[row_order], col_colors=_col_colors, row_cluster=False)\n",
    "if not u.empty:\n",
    "    sns.clustermap(\n",
    "        subject_strain_gene_content, col_colors=_col_colors, row_cluster=False\n",
    "    )"
   ]
  },
  {
   "cell_type": "code",
   "execution_count": null,
   "metadata": {
    "tags": []
   },
   "outputs": [],
   "source": [
    "mwas_results = []\n",
    "for _gene in tqdm(strain_gene_uhgg.index):\n",
    "    contingency_table0 = (\n",
    "        pd.DataFrame(\n",
    "            dict(\n",
    "                diagnosis=subject_ibd_diagnosis,\n",
    "                gene=subject_strain_gene_content.loc[_gene],\n",
    "            )\n",
    "        )\n",
    "        .value_counts()\n",
    "        .unstack(\"diagnosis\")\n",
    "        .reindex(columns=[\"CD\", \"UC\", \"nonIBD\"])\n",
    "        .fillna(0)\n",
    "        .assign(IBD=lambda x: x.CD + x.UC)\n",
    "    )\n",
    "    for ibd_comparison, (groupA, groupB) in dict(\n",
    "        ibd=(\"nonIBD\", \"IBD\"), cd=(\"nonIBD\", \"CD\"), uc=(\"nonIBD\", \"UC\"), \n",
    "    ).items():\n",
    "        contingency_table1 = contingency_table0.reindex(\n",
    "            index=[True, False], columns=[groupA, groupB]\n",
    "        ).fillna(0)\n",
    "        _test = sp.stats.fisher_exact(contingency_table1)\n",
    "        contingency_table_pc = contingency_table1 + 1\n",
    "        oddsratio_pc = (\n",
    "            contingency_table_pc.loc[True, groupB]\n",
    "            / contingency_table_pc.loc[False, groupB]\n",
    "        ) / (\n",
    "            contingency_table_pc.loc[True, groupA]\n",
    "            / contingency_table_pc.loc[False, groupA]\n",
    "        )\n",
    "        mwas_results.append((ibd_comparison, _gene, *_test, oddsratio_pc))\n",
    "\n",
    "mwas_results = (\n",
    "    pd.DataFrame(\n",
    "        mwas_results,\n",
    "        columns=[\"ibd_comparison\", \"gene\", \"statistic\", \"pvalue\", \"oddsratio_pc\"],\n",
    "    )\n",
    "    # .join(\n",
    "    #     gene_annotations[\n",
    "    #         [\n",
    "    #             \"Description\",\n",
    "    #             \"COG_category\",\n",
    "    #             \"eggNOG_OGs\",\n",
    "    #             \"centroid_99_length\",\n",
    "    #             \"score\",\n",
    "    #             \"Preferred_name\",\n",
    "    #             \"KEGG_ko\",\n",
    "    #             \"PFAMs\",\n",
    "    #         ]\n",
    "    #     ],\n",
    "    #     on=\"gene\",\n",
    "    # )\n",
    "    .set_index(['gene', 'ibd_comparison'])\n",
    "    .sort_values(\"pvalue\")\n",
    ")\n",
    "mwas_results.head(10)"
   ]
  },
  {
   "cell_type": "code",
   "execution_count": null,
   "metadata": {},
   "outputs": [],
   "source": [
    "species_id = '101338'\n",
    "d = pd.DataFrame(dict(\n",
    "    in_G=mwas_stats[mwas_filt_func][lambda x: (x.species_id == species_id)].join(gene_meta).cog_categories.fillna('').str.contains('G'),\n",
    "    is_signif=mwas_stats[mwas_filt_func][lambda x: (x.species_id == species_id)].fisher_exact_pvalue_ibd < 1e-3,\n",
    "))\n",
    "contingency = d.value_counts().unstack()\n",
    "print(sp.stats.fisher_exact(contingency))\n",
    "contingency"
   ]
  },
  {
   "cell_type": "raw",
   "metadata": {},
   "source": [
    "_gene = 'UHGG162694_02008'\n",
    "\n",
    "contingency_table0 = (\n",
    "    pd.DataFrame(\n",
    "        dict(\n",
    "            diagnosis=subject_ibd_diagnosis,\n",
    "            gene=subject_strain_gene_content.loc[_gene],\n",
    "        )\n",
    "    )\n",
    "    .value_counts()\n",
    "    .unstack(\"diagnosis\")\n",
    "    .reindex(columns=[\"CD\", \"UC\", \"nonIBD\"])\n",
    "    .fillna(0)\n",
    "    .assign(IBD=lambda x: x.CD + x.UC)\n",
    ")\n",
    "\n",
    "groupA, groupB = \"nonIBD\", \"IBD\"\n",
    "\n",
    "contingency_table1 = contingency_table0.reindex(\n",
    "    index=[True, False], columns=[groupA, groupB]\n",
    ").fillna(0)\n",
    "_test = sp.stats.fisher_exact(contingency_table1)\n",
    "contingency_table_pc = contingency_table1 + 1\n",
    "oddsratio_pc = (\n",
    "    contingency_table_pc.loc[True, groupB]\n",
    "    / contingency_table_pc.loc[False, groupB]\n",
    ") / (\n",
    "    contingency_table_pc.loc[True, groupA]\n",
    "    / contingency_table_pc.loc[False, groupA]\n",
    ")\n",
    "\n",
    "sp.stats.fisher_exact(contingency_table1)"
   ]
  },
  {
   "cell_type": "code",
   "execution_count": null,
   "metadata": {},
   "outputs": [],
   "source": [
    "contingency_table0"
   ]
  },
  {
   "cell_type": "code",
   "execution_count": null,
   "metadata": {},
   "outputs": [],
   "source": [
    "bins = np.logspace(-5, 0, num=20)\n",
    "# bins = np.linspace(0, 1, num=51)\n",
    "for ibd_comparison in mwas_results.ibd_comparison.unique():\n",
    "    plt.hist(\n",
    "        mwas_results[lambda x: x.ibd_comparison == ibd_comparison].pvalue,\n",
    "        label=ibd_comparison,\n",
    "        alpha=0.5,\n",
    "        bins=bins,\n",
    "    )\n",
    "\n",
    "plt.plot(bins[1:], (bins[1:] - bins[:-1]) * mwas_results.shape[0])\n",
    "plt.legend()\n",
    "\n",
    "plt.xscale(\"log\")\n",
    "plt.yscale(\"log\")"
   ]
  },
  {
   "cell_type": "code",
   "execution_count": null,
   "metadata": {
    "tags": []
   },
   "outputs": [],
   "source": [
    "_gene = mwas_results.gene.iloc[0]\n",
    "print(_gene)\n",
    "pd.DataFrame(\n",
    "    dict(diagnosis=subject_ibd_diagnosis, gene=subject_strain_gene_content.loc[_gene])\n",
    ").value_counts().unstack().fillna(0)"
   ]
  },
  {
   "cell_type": "code",
   "execution_count": null,
   "metadata": {},
   "outputs": [],
   "source": [
    "_gene_list = mwas_results.head(10).gene\n",
    "x = strain_gene_uhgg.loc[_gene_list]\n",
    "y = strain_gene_uhgg_depth.loc[_gene_list]\n",
    "_col_colors = genome_type.map(genome_type_palette)\n",
    "_row_colors = (\n",
    "    gene_annotations.reindex(_gene_list)\n",
    "    .centroid_99_length.map(np.log10)\n",
    "    .map(lambda x: x / 4)\n",
    "    .map(mpl.cm.viridis)\n",
    ")\n",
    "_col_linkage = strain_geno_linkage\n",
    "_row_linkage = sp.cluster.hierarchy.linkage(\n",
    "    x, method=\"average\", metric=\"cosine\", optimal_ordering=True\n",
    ")  # TODO\n",
    "\n",
    "sns.clustermap(\n",
    "    x,\n",
    "    figsize=(10, 5),\n",
    "    row_linkage=_row_linkage,\n",
    "    col_linkage=_col_linkage,\n",
    "    col_colors=_col_colors,\n",
    "    xticklabels=0,\n",
    "    yticklabels=0,\n",
    ")\n",
    "sns.clustermap(\n",
    "    y,\n",
    "    figsize=(10, 5),\n",
    "    row_linkage=_row_linkage,\n",
    "    col_linkage=_col_linkage,\n",
    "    col_colors=_col_colors,\n",
    "    norm=mpl.colors.PowerNorm(1 / 2, vmin=0, vmax=2),\n",
    "    xticklabels=0,\n",
    "    yticklabels=0,\n",
    ")\n",
    "\n",
    "print(\n",
    "    gene_x_cog_category_matrix.reindex(_gene_list)\n",
    "    .sum()\n",
    "    .sort_values(ascending=False)[lambda x: x > 0]\n",
    "    .to_frame(\"tally\")\n",
    "    .join(cog_category_description)\n",
    ")\n",
    "gene_annotations.reindex(_gene_list)"
   ]
  },
  {
   "cell_type": "code",
   "execution_count": null,
   "metadata": {},
   "outputs": [],
   "source": [
    "_gene_data = strain_gene_uhgg.loc[_gene_list]\n",
    "\n",
    "_subject_x_strain = (\n",
    "    sfacts_fit.community.sel(strain=spgc_list)\n",
    "    .to_pandas()\n",
    "    .groupby(mgen_meta.subject_id)\n",
    "    .mean()\n",
    "    > 0.2\n",
    ")[lambda x: x.any(axis=1)]\n",
    "_strain_x_gene = _gene_data[u.columns]\n",
    "_subject_x_gene = (_subject_x_strain @ _strain_x_gene.T).T > 0\n",
    "\n",
    "_col_colors = subject.loc[_subject_x_gene.columns].ibd_diagnosis.replace(\n",
    "    {\"CD\": \"tab:green\", \"UC\": \"tab:blue\", \"nonIBD\": \"lightgrey\"}\n",
    ")\n",
    "if not _subject_x_gene.empty:\n",
    "    sns.clustermap(_subject_x_gene, col_colors=_col_colors, row_cluster=False)"
   ]
  },
  {
   "cell_type": "code",
   "execution_count": null,
   "metadata": {},
   "outputs": [],
   "source": [
    "_gene_data = subject_uhgg_depth_ratio.T.loc[_gene_list].applymap(\n",
    "    np.nan_to_num, nan=0, posinf=100, neginf=-100\n",
    ")\n",
    "\n",
    "_col_colors = pd.DataFrame(\n",
    "    dict(\n",
    "        ibd_diagnosis=subject.ibd_diagnosis.replace(\n",
    "            {\"CD\": \"tab:green\", \"UC\": \"tab:blue\", \"nonIBD\": \"lightgrey\"}\n",
    "        ),\n",
    "        species_depth=subject_mean_species_depth.map(\n",
    "            lambda x: mpl.cm.viridis(x / subject_mean_species_depth.max())\n",
    "        ),\n",
    "    )\n",
    ")\n",
    "sns.clustermap(\n",
    "    _gene_data + 1e-5,\n",
    "    col_colors=_col_colors,\n",
    "    norm=mpl.colors.SymLogNorm(1e-3, vmin=1e-2, vmax=1e2),\n",
    "    metric=\"cosine\",\n",
    "    row_cluster=False,\n",
    ")"
   ]
  },
  {
   "cell_type": "markdown",
   "metadata": {},
   "source": [
    "### MWAS On Genes Alone?"
   ]
  },
  {
   "cell_type": "code",
   "execution_count": null,
   "metadata": {
    "tags": []
   },
   "outputs": [],
   "source": [
    "mean_subject_depth = subject_uhgg_depth_ratio[_gene]\n",
    "\n",
    "d = subject[[\"ibd_diagnosis\"]].join(mean_subject_depth).dropna()\n",
    "for ibd_diagnosis in d.ibd_diagnosis.unique():\n",
    "    plt.hist(\n",
    "        d.loc[d.ibd_diagnosis == ibd_diagnosis, _gene] + 1e-4,\n",
    "        bins=np.logspace(-4, 3),\n",
    "        alpha=0.5,\n",
    "        label=ibd_diagnosis,\n",
    "    )\n",
    "\n",
    "thresh = 1e-1\n",
    "plt.axvline(thresh, lw=1, linestyle=\"--\", color=\"k\")\n",
    "plt.xscale(\"log\")\n",
    "# plt.yscale('log')\n",
    "plt.legend()\n",
    "\n",
    "d.assign(gene=lambda x: x[_gene] > thresh)[\n",
    "    [\"ibd_diagnosis\", \"gene\"]\n",
    "].value_counts().unstack()"
   ]
  },
  {
   "cell_type": "code",
   "execution_count": null,
   "metadata": {},
   "outputs": [],
   "source": [
    "# When we just grab gene presence absence in each subject using the depth ratio alone, can we still detect effects?\n",
    "subject_strain_gene_content2 = (\n",
    "    subject_uhgg_depth_ratio.T.loc[subject_strain_gene_content.index].replace(\n",
    "        {np.nan: 0, np.inf: 0, -np.inf: 0}\n",
    "    )\n",
    "    > 0.1\n",
    ")\n",
    "\n",
    "sp.stats.pearsonr(\n",
    "    subject_strain_gene_content2[subject_strain_gene_content.columns]\n",
    "    .astype(float)\n",
    "    .values.flatten(),\n",
    "    subject_strain_gene_content.astype(float).values.flatten(),\n",
    ")"
   ]
  },
  {
   "cell_type": "code",
   "execution_count": null,
   "metadata": {},
   "outputs": [],
   "source": [
    "mwas_results2 = []\n",
    "for _gene in tqdm(strain_gene_uhgg.index):\n",
    "    contingency_table0 = (\n",
    "        pd.DataFrame(\n",
    "            dict(\n",
    "                diagnosis=subject_ibd_diagnosis,\n",
    "                gene=subject_strain_gene_content2.loc[_gene],\n",
    "            )\n",
    "        )\n",
    "        .value_counts()\n",
    "        .unstack(\"diagnosis\")\n",
    "        .reindex(columns=[\"CD\", \"UC\", \"nonIBD\"])\n",
    "        .assign(IBD=lambda x: x.CD + x.UC)\n",
    "    )\n",
    "    for ibd_comparison, (groupA, groupB) in dict(\n",
    "        cd=(\"nonIBD\", \"CD\"), uc=(\"nonIBD\", \"UC\"), ibd=(\"nonIBD\", \"IBD\")\n",
    "    ).items():\n",
    "        contingency_table1 = contingency_table0.reindex(\n",
    "            index=[True, False], columns=[groupA, groupB]\n",
    "        ).fillna(0)\n",
    "        _test = sp.stats.fisher_exact(contingency_table1)\n",
    "        contingency_table_pc = contingency_table1 + 1\n",
    "        oddsratio_pc = (\n",
    "            contingency_table_pc.loc[True, groupB]\n",
    "            / contingency_table_pc.loc[False, groupB]\n",
    "        ) / (\n",
    "            contingency_table_pc.loc[True, groupA]\n",
    "            / contingency_table_pc.loc[False, groupA]\n",
    "        )\n",
    "        mwas_results2.append((ibd_comparison, _gene, *_test, oddsratio_pc))\n",
    "\n",
    "mwas_results2 = (\n",
    "    pd.DataFrame(\n",
    "        mwas_results2,\n",
    "        columns=[\"ibd_comparison\", \"gene\", \"statistic\", \"pvalue\", \"oddsratio_pc\"],\n",
    "    )\n",
    "    # .join(\n",
    "    #     gene_annotations[\n",
    "    #         [\n",
    "    #             \"Description\",\n",
    "    #             \"COG_category\",\n",
    "    #             \"eggNOG_OGs\",\n",
    "    #             \"centroid_99_length\",\n",
    "    #             \"score\",\n",
    "    #             \"Preferred_name\",\n",
    "    #             \"KEGG_ko\",\n",
    "    #             \"PFAMs\",\n",
    "    #         ]\n",
    "    #     ],\n",
    "    #     on=\"gene\",\n",
    "    # )\n",
    "    .sort_values(\"pvalue\")\n",
    "    .set_index(['gene', 'ibd_comparison'])\n",
    ")\n",
    "\n",
    "mwas_results2.head(10)"
   ]
  },
  {
   "cell_type": "code",
   "execution_count": null,
   "metadata": {},
   "outputs": [],
   "source": [
    "x, y = mwas_results.oddsratio_pc.apply(np.log), mwas_results2.oddsratio_pc.apply(np.log)\n",
    "print(sp.stats.pearsonr(x, y))\n",
    "plt.hist2d(x, y, bins=15, norm=mpl.colors.PowerNorm(1 / 5))\n",
    "None"
   ]
  },
  {
   "cell_type": "code",
   "execution_count": null,
   "metadata": {},
   "outputs": [],
   "source": [
    "x, y = mwas_results2.pvalue.apply(np.log), mwas_results.pvalue.apply(np.log)\n",
    "print(sp.stats.pearsonr(x, y))\n",
    "plt.hist2d(x, y, bins=15, norm=mpl.colors.PowerNorm(1 / 5))\n",
    "plt.colorbar()\n",
    "None"
   ]
  },
  {
   "cell_type": "markdown",
   "metadata": {},
   "source": [
    "## Write Statistics"
   ]
  },
  {
   "cell_type": "code",
   "execution_count": null,
   "metadata": {},
   "outputs": [],
   "source": [
    "gene_meta = (\n",
    "    pd.DataFrame(\n",
    "        dict(\n",
    "            nlength=gene_annotations[\"centroid_99_length\"],\n",
    "            eggnog=gene_annotations[\"eggNOG_OGs\"],\n",
    "            cog_categories=gene_annotations[\"COG_category\"],\n",
    "            description=gene_annotations[\"Description\"],\n",
    "            gene_name=gene_annotations[\"Preferred_name\"],\n",
    "            ko=gene_annotations[\"KEGG_ko\"],\n",
    "            pfam=gene_annotations[\"PFAMs\"],\n",
    "        )\n",
    "    )\n",
    "    .join(gene_x_cog_category_matrix.rename(columns=lambda x: \"cog_category_\" + x))\n",
    "    .rename_axis(index=\"gene_id\")\n",
    ")\n",
    "\n",
    "gene_meta.to_csv(gene_meta_outpath, sep=\"\\t\")"
   ]
  },
  {
   "cell_type": "code",
   "execution_count": null,
   "metadata": {},
   "outputs": [],
   "source": [
    "gene_stats = (\n",
    "    pd.DataFrame(\n",
    "        dict(\n",
    "            prevalence_spgc=spgc_uhgg_prevalence,\n",
    "            prevalence_ref=ref_uhgg_prevalence,\n",
    "            prevalence_mwas_subject=subject_strain_gene_prevalence,\n",
    "            num_mwas_subject=num_strain_subjects,\n",
    "            phylogenetic_i_spgc=phylogenetic_signal_spgc,\n",
    "            phylogenetic_i_ref=phylogenetic_signal_ref,\n",
    "            coclust_label_spgc=clust1,\n",
    "            # coclust_label_both=clust2,\n",
    "            coclust_label_ref=clust3,\n",
    "        )\n",
    "    )\n",
    "    .join(\n",
    "        mwas_results\n",
    "        .pvalue.unstack()\n",
    "        .rename(columns=lambda x: x + \"_mwas_pvalue\")\n",
    "    )\n",
    "    .join(\n",
    "        mwas_results\n",
    "        .oddsratio_pc.unstack()\n",
    "        .rename(columns=lambda x: x + \"_mwas_oddsratio_pc\")\n",
    "    )\n",
    "    .rename_axis(index=\"gene_id\")\n",
    ")\n",
    "\n",
    "gene_stats.to_csv(gene_stats_outpath, sep=\"\\t\")\n",
    "gene_stats"
   ]
  },
  {
   "cell_type": "code",
   "execution_count": null,
   "metadata": {},
   "outputs": [],
   "source": [
    "gene_stats.head()"
   ]
  },
  {
   "cell_type": "code",
   "execution_count": null,
   "metadata": {},
   "outputs": [],
   "source": [
    "spgc_strain_stats = (\n",
    "    pd.DataFrame(\n",
    "        dict(\n",
    "            nearest_ref_geno=genome_distance_comparison_filt_unweighted_jacc[\n",
    "                lambda x: x.genome_type.isin([\"SPGC\"])\n",
    "            ][\"min_geno_ref\"],\n",
    "            nearest_ref_geno_diss=genome_distance_comparison_filt_unweighted_jacc[\n",
    "                lambda x: x.genome_type.isin([\"SPGC\"])\n",
    "            ][\"geno_dist\"],\n",
    "            nearest_ref_gene_diss=genome_distance_comparison_filt_unweighted_jacc[\n",
    "                lambda x: x.genome_type.isin([\"SPGC\"])\n",
    "            ][\"gene_dist\"],\n",
    "        )\n",
    "    )\n",
    "    .join(spgc_meta.loc[spgc_list])\n",
    "    .assign(derep_clust=strain_derep_clust.loc[spgc_list])\n",
    "    .join(\n",
    "        strain_genome_spgc_prevalence_class_tally.rename(\n",
    "            columns=lambda x: f\"spgc_{x}_gene_tally\"\n",
    "        )\n",
    "    )\n",
    "    .join(\n",
    "        strain_genome_ref_prevalence_class_tally.rename(\n",
    "            columns=lambda x: f\"ref_{x}_gene_tally\"\n",
    "        )\n",
    "    )\n",
    "    .rename_axis(index=\"strain\")\n",
    ")\n",
    "\n",
    "spgc_strain_stats.to_csv(spgc_strain_stats_outpath, sep=\"\\t\")\n",
    "spgc_strain_stats"
   ]
  },
  {
   "cell_type": "code",
   "execution_count": null,
   "metadata": {},
   "outputs": [],
   "source": [
    "ref_strain_stats = (\n",
    "    pd.DataFrame(\n",
    "        dict(\n",
    "            nearest_ref_geno=genome_distance_comparison_filt_unweighted_jacc[\n",
    "                lambda x: x.genome_type.isin([\"Isolate\", \"MAG\"])\n",
    "            ][\"min_geno_ref\"],\n",
    "            nearest_ref_geno_diss=genome_distance_comparison_filt_unweighted_jacc[\n",
    "                lambda x: x.genome_type.isin([\"Isolate\", \"MAG\"])\n",
    "            ][\"geno_dist\"],\n",
    "            nearest_ref_gene_diss=genome_distance_comparison_filt_unweighted_jacc[\n",
    "                lambda x: x.genome_type.isin([\"Isolate\", \"MAG\"])\n",
    "            ][\"gene_dist\"],\n",
    "            genome_type=genome_distance_comparison_filt_unweighted_jacc[\n",
    "                lambda x: x.genome_type.isin([\"Isolate\", \"MAG\"])\n",
    "            ][\"genome_type\"],\n",
    "        )\n",
    "    )\n",
    "    .join(\n",
    "        reference_meta[\n",
    "            [\n",
    "                \"Length\",\n",
    "                \"N_contigs\",\n",
    "                \"N50\",\n",
    "                \"GC_content\",\n",
    "                \"Completeness\",\n",
    "                \"Contamination\",\n",
    "            ]\n",
    "        ]\n",
    "    )\n",
    "    .assign(derep_clust=strain_derep_clust.loc[ref_list])\n",
    "    .join(\n",
    "        strain_genome_spgc_prevalence_class_tally.rename(\n",
    "            columns=lambda x: f\"spgc_{x}_gene_tally\"\n",
    "        )\n",
    "    )\n",
    "    .join(\n",
    "        strain_genome_ref_prevalence_class_tally.rename(\n",
    "            columns=lambda x: f\"ref_{x}_gene_tally\"\n",
    "        )\n",
    "    )\n",
    "    .rename_axis(index=\"strain\")\n",
    ")\n",
    "\n",
    "ref_strain_stats.to_csv(ref_strain_stats_outpath, sep=\"\\t\")\n",
    "ref_strain_stats"
   ]
  },
  {
   "cell_type": "markdown",
   "metadata": {},
   "source": [
    "## SPGC-MWAS Experiment (antibiotics)"
   ]
  },
  {
   "cell_type": "code",
   "execution_count": null,
   "metadata": {},
   "outputs": [],
   "source": [
    "visit = pd.read_table(\"meta/hmp2/visit.tsv\", index_col=\"visit_id\")"
   ]
  },
  {
   "cell_type": "code",
   "execution_count": null,
   "metadata": {
    "tags": []
   },
   "outputs": [],
   "source": [
    "from sklearn.linear_model import Lasso, LassoCV, LogisticRegressionCV\n",
    "\n",
    "# _row_linkage = gene_uhgg_linkage\n",
    "_strain_list = spgc_list\n",
    "_strain_to_gene = strain_gene_uhgg[_strain_list]\n",
    "_strain_present = sfacts_fit.community.to_pandas()[spgc_list] > 0.2\n",
    "_strain_present = _strain_present[_strain_present.T.any()]\n",
    "\n",
    "_meta = mgen_meta.join(visit, on=\"visit_id\", rsuffix=\"_\")\n",
    "_meta, _strain_present = lib.pandas_util.align_indexes(_meta, _strain_present)\n",
    "\n",
    "# Multiplied together gives the subject by gene mapping\n",
    "sample_gene_content = (_strain_present @ _strain_to_gene.T) > 0\n",
    "\n",
    "# # Although I guess some subjects may have just a small subset of strains with that gene.\n",
    "# sample_strain_gene_prevalence = subject_strain_gene_content.mean(1)\n",
    "# lm.score(sample_gene_content.astype(float), _meta.status_antibiotics.astype(float))"
   ]
  },
  {
   "cell_type": "code",
   "execution_count": null,
   "metadata": {},
   "outputs": [],
   "source": [
    "lm = LogisticRegressionCV(Cs=[1e-0], cv=5, penalty=\"l1\", solver=\"liblinear\").fit(\n",
    "    sample_gene_content.astype(float), _meta.status_antibiotics.astype(float)\n",
    ")\n",
    "lm.score(sample_gene_content.astype(float), _meta.status_antibiotics.astype(float))"
   ]
  },
  {
   "cell_type": "code",
   "execution_count": null,
   "metadata": {},
   "outputs": [],
   "source": [
    "plt.hist(lm.coef_.flatten())\n",
    "plt.yscale(\"log\")"
   ]
  },
  {
   "cell_type": "code",
   "execution_count": null,
   "metadata": {},
   "outputs": [],
   "source": [
    "pd.Series(lm.coef_.flatten(), index=sample_gene_content.columns).sort_values().tail(20)"
   ]
  },
  {
   "cell_type": "code",
   "execution_count": null,
   "metadata": {},
   "outputs": [],
   "source": [
    "gene_meta.loc[\n",
    "    pd.Series(lm.coef_.flatten(), index=sample_gene_content.columns)\n",
    "    .sort_values()\n",
    "    .head(20)\n",
    "    .index\n",
    "]"
   ]
  }
 ],
 "metadata": {
  "kernelspec": {
   "display_name": "toolz2",
   "language": "python",
   "name": "toolz2"
  },
  "language_info": {
   "codemirror_mode": {
    "name": "ipython",
    "version": 3
   },
   "file_extension": ".py",
   "mimetype": "text/x-python",
   "name": "python",
   "nbconvert_exporter": "python",
   "pygments_lexer": "ipython3",
   "version": "3.10.12"
  },
  "papermill": {
   "default_parameters": {},
   "duration": 1847.611523,
   "end_time": "2023-06-24T02:46:52.897060",
   "environment_variables": {},
   "exception": null,
   "input_path": "nb/prototype_compare_spgc_and_refs.ipynb",
   "output_path": "nb/papermill/data/group/xjin_hmp2/species/sp-101346/r.proc.gtpro.sfacts-fit.gene99-v22-agg75.spgc_specgene-ref-t25-p95_ss-all_t-30_thresh-corr100-depth250.spgc_ref_comparison.ipynb",
   "parameters": {
    "gene_annotations_path": "data/species/sp-101346/pangenome.centroids.emapper.d/proteins.emapper.annotations",
    "mgen_path": "meta/hmp2/mgen.tsv",
    "nb_path": "nb/prototype_compare_spgc_and_refs.ipynb",
    "preparation_path": "meta/hmp2/preparation.tsv",
    "ref_gene_copy_number_uhgg_path": "ref/midasdb_uhgg_pangenomes/101346/gene75.reference_copy_number.nc",
    "ref_geno_path": "data/species/sp-101346/gtpro_ref.mgtp.nc",
    "sample_to_spgc_path": "data/group/xjin_hmp2/species/sp-101346/r.proc.gtpro.sfacts-fit.spgc_ss-all.strain_samples.tsv",
    "sfacts_fit_path": "data/group/xjin_hmp2/species/sp-101346/r.proc.gtpro.sfacts-fit.world.nc",
    "species_id": "101346",
    "species_taxonomy_path": "ref/gtpro/species_taxonomy_ext.tsv",
    "spgc_gene_uhgg_corr_path": "data/group/xjin_hmp2/species/sp-101346/r.proc.gtpro.sfacts-fit.gene99-v22-agg75.spgc_specgene-ref-t25-p95_ss-all_t-30.strain_correlation.tsv",
    "spgc_gene_uhgg_depth_path": "data/group/xjin_hmp2/species/sp-101346/r.proc.gtpro.sfacts-fit.gene99-v22-agg75.spgc_specgene-ref-t25-p95_ss-all_t-30.strain_depth_ratio.tsv",
    "spgc_gene_uhgg_path": "data/group/xjin_hmp2/species/sp-101346/r.proc.gtpro.sfacts-fit.gene99-v22-agg75.spgc_specgene-ref-t25-p95_ss-all_t-30_thresh-corr100-depth250.strain_gene.tsv",
    "spgc_meta_path": "data/group/xjin_hmp2/species/sp-101346/r.proc.gtpro.sfacts-fit.gene99-v22-agg75.spgc_specgene-ref-t25-p95_ss-all_t-30_thresh-corr100-depth250.strain_meta.tsv",
    "stool_path": "meta/hmp2/stool.tsv",
    "subject_path": "meta/hmp2/subject.tsv",
    "uhgg_depth_path": "data/group/xjin_hmp2/species/sp-101346/r.proc.gene99-v22-agg75.depth2.nc",
    "uhgg_gene_length_path": "ref/midasdb_uhgg/pangenomes/101346/cluster_info.txt",
    "uhgg_x_eggnog_path": "data/species/sp-101346/pangenome.centroids.emapper.gene_x_eggnog.tsv",
    "uhgg_x_top_eggnog_path": "data/species/sp-101346/pangenome.centroids.emapper.gene_x_top_eggnog.tsv"
   },
   "start_time": "2023-06-24T02:16:05.285537",
   "version": "2.4.0"
  }
 },
 "nbformat": 4,
 "nbformat_minor": 5
}