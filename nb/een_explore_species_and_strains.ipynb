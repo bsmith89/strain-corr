{
 "cells": [
  {
   "cell_type": "markdown",
   "metadata": {},
   "source": [
    "## Preamble"
   ]
  },
  {
   "cell_type": "code",
   "execution_count": null,
   "metadata": {},
   "outputs": [],
   "source": [
    "%load_ext autoreload"
   ]
  },
  {
   "cell_type": "code",
   "execution_count": null,
   "metadata": {},
   "outputs": [],
   "source": [
    "import os as _os\n",
    "\n",
    "_os.chdir(_os.environ[\"PROJECT_ROOT\"])\n",
    "_os.path.realpath(_os.path.curdir)"
   ]
  },
  {
   "cell_type": "markdown",
   "metadata": {},
   "source": [
    "### Imports"
   ]
  },
  {
   "cell_type": "code",
   "execution_count": null,
   "metadata": {},
   "outputs": [],
   "source": [
    "import os\n",
    "import subprocess\n",
    "import time\n",
    "from itertools import chain, product\n",
    "from tempfile import mkstemp\n",
    "from warnings import filterwarnings\n",
    "\n",
    "import matplotlib as mpl\n",
    "import matplotlib.pyplot as plt\n",
    "import numpy as np\n",
    "import pandas as pd\n",
    "import scipy as sp\n",
    "import seaborn as sns\n",
    "import sfacts as sf\n",
    "import statsmodels.formula.api as smf\n",
    "import xarray as xr\n",
    "from mpl_toolkits.axes_grid1 import make_axes_locatable\n",
    "\n",
    "# from fastcluster import linkage\n",
    "from scipy.cluster.hierarchy import linkage\n",
    "from scipy.spatial.distance import pdist, squareform\n",
    "from statsmodels.graphics.regressionplots import influence_plot\n",
    "from statsmodels.stats.multitest import fdrcorrection\n",
    "from tqdm import tqdm\n",
    "\n",
    "import lib.plot\n",
    "import lib.thisproject.data\n",
    "from lib.pandas_util import align_indexes, aligned_index, idxwhere, invert_mapping"
   ]
  },
  {
   "cell_type": "code",
   "execution_count": null,
   "metadata": {},
   "outputs": [],
   "source": [
    "sns.set_context(\"paper\")\n",
    "plt.rcParams[\"figure.dpi\"] = 200"
   ]
  },
  {
   "cell_type": "code",
   "execution_count": null,
   "metadata": {},
   "outputs": [],
   "source": [
    "def _calculate_2tailed_pvalue_from_perm(obs, perms):\n",
    "    hypoth_left = perms > obs\n",
    "    hypoth_right = perms < obs\n",
    "    null_p_left = (hypoth_left.sum() + 1) / (len(hypoth_left) + 1)\n",
    "    null_p_right = (hypoth_right.sum() + 1) / (len(hypoth_right) + 1)\n",
    "    return np.minimum(null_p_left, null_p_right) * 2"
   ]
  },
  {
   "cell_type": "code",
   "execution_count": null,
   "metadata": {},
   "outputs": [],
   "source": [
    "def linkage_order(linkage, labels):\n",
    "    return labels[sp.cluster.hierarchy.to_tree(linkage).pre_order(lambda x: x.id)]\n",
    "\n",
    "\n",
    "def is_prime(n):\n",
    "    if n <= 1:\n",
    "        return False\n",
    "    for i in range(2, int(n**0.5) + 1):\n",
    "        if n % i == 0:\n",
    "            return False\n",
    "    return True\n",
    "\n",
    "\n",
    "def iterate_primes_up_to(n, return_index=False):\n",
    "    n = int(np.ceil(n))\n",
    "    idx = 0\n",
    "    for i in range(n):\n",
    "        if is_prime(i):\n",
    "            if return_index:\n",
    "                yield (idx, i)\n",
    "            else:\n",
    "                yield i\n",
    "            idx += 1\n",
    "\n",
    "\n",
    "def maximally_shuffled_order(sorted_order):\n",
    "    n = len(sorted_order)\n",
    "    primes_list = list(iterate_primes_up_to(np.sqrt(n)))\n",
    "    table = pd.DataFrame(np.arange(n), index=sorted_order, columns=[\"original_order\"])\n",
    "    for prime in primes_list:\n",
    "        table[prime] = table.original_order % prime\n",
    "    table.sort_values(primes_list).original_order.values\n",
    "    table = table.assign(new_order=table.sort_values(primes_list).original_order.values)\n",
    "    z = table.sort_values(\"new_order\").original_order.values\n",
    "    table[\"delta\"] = [np.nan] + list(z[1:] - z[:-1])\n",
    "    return table.sort_values(\"new_order\").index.to_list()"
   ]
  },
  {
   "cell_type": "markdown",
   "metadata": {},
   "source": [
    "## Construct Metadata"
   ]
  },
  {
   "cell_type": "raw",
   "metadata": {},
   "source": [
    "# NOTE: If I decide that it's the filenames that are wrong, then I need to swap labels in the metagenomic results (including sfacts worlds and\n",
    "# species relative abundances).\n",
    "\n",
    "SAMPLE_SWAP_CORRECTION = {\n",
    "    # CF_667 through CF_672 should actually be labeled CF_531 - CF_537\n",
    "    'CF_667': 'CF_531',\n",
    "    'CF_668': 'CF_532',\n",
    "    'CF_669': 'CF_533',\n",
    "    'CF_670': 'CF_534',\n",
    "    'CF_671': 'CF_535',\n",
    "    'CF_672': 'CF_536',\n",
    "\n",
    "    # CF_11 <-> CF_15\n",
    "    'CF_11': 'CF_15',\n",
    "    'CF_15': 'CF_11',\n",
    "\n",
    "    # Some/half of the newly shared samples\n",
    "    CF_379\n",
    "    CF_380\n",
    "    CF_381\n",
    "    CF_384\n",
    "    CF_385\n",
    "    CF_386\n",
    "    CF_426\n",
    "    CF_427\n",
    "    CF_428\n",
    "    CF_429\n",
    "    CF_430\n",
    "    CF_431\n",
    "    CF_395\n",
    "    CF_397\n",
    "    CF_402\n",
    "    CF_406\n",
    "    CF_409\n",
    "}"
   ]
  },
  {
   "cell_type": "code",
   "execution_count": null,
   "metadata": {},
   "outputs": [],
   "source": [
    "pair_type_palette={'Transition': 'plum', 'EEN': 'pink', 'PostEEN': 'lightblue'}\n",
    "\n",
    "diet_palette = {\n",
    "    \"EEN\": \"lightgreen\",\n",
    "    \"PostEEN\": \"lightblue\",\n",
    "    \"InVitro\": \"plum\",\n",
    "    \"PreEEN\": \"lightpink\",\n",
    "}\n",
    "\n",
    "subject_order = [\n",
    "    \"A\",\n",
    "    \"B\",\n",
    "    \"H\",\n",
    "    \"C\",\n",
    "    \"D\",\n",
    "    \"E\",\n",
    "    \"F\",\n",
    "    \"G\",\n",
    "    \"K\",\n",
    "    \"L\",\n",
    "    \"M\",\n",
    "    \"N\",\n",
    "    \"O\",\n",
    "    \"P\",\n",
    "    \"Q\",\n",
    "    \"R\",\n",
    "    \"S\",\n",
    "    \"T\",\n",
    "    \"U\",\n",
    "]\n",
    "\n",
    "# NOTE: Requires a dummy value because I want exactly 20 items.\n",
    "subject_palette = lib.plot.construct_ordered_palette(\n",
    "    subject_order + [f\"dummy{i}\" for i in range(20 - len(subject_order))], cm=\"tab20\"\n",
    ")\n",
    "subject_palette[\"X\"] = \"black\"\n",
    "pair_type_order = [\"EEN\", \"Transition\", \"PostEEN\"]\n",
    "pair_type_marker_palette = {\"EEN\": \"s\", \"Transition\": \">\", \"PostEEN\": \"o\"}\n",
    "pair_type_linestyle_palette = {\"EEN\": \":\", \"Transition\": \"-.\", \"PostEEN\": \"-\"}"
   ]
  },
  {
   "cell_type": "code",
   "execution_count": null,
   "metadata": {},
   "outputs": [],
   "source": [
    "sample = (\n",
    "    pd.read_table(\"meta/een-mgen/sample.tsv\")\n",
    "    .assign(\n",
    "        label=lambda x: x[\n",
    "            [\"collection_date_relative_een_end\", \"diet_or_media\", \"sample_id\"]\n",
    "        ].apply(tuple, axis=1)\n",
    "    )\n",
    "    .set_index(\"sample_id\")\n",
    ")\n",
    "subject = pd.read_table(\"meta/een-mgen/subject.tsv\", index_col=\"subject_id\")"
   ]
  },
  {
   "cell_type": "code",
   "execution_count": null,
   "metadata": {},
   "outputs": [],
   "source": [
    "rotu_counts = pd.read_table(\n",
    "    \"data/group/een/a.proc.zotu_counts.tsv\", index_col=\"#OTU ID\"\n",
    ").rename_axis(index=\"zotu\", columns=\"sample_id\")\n",
    "rotu_taxonomy = rotu_counts.taxonomy\n",
    "rotu_counts = rotu_counts.drop(columns=[\"taxonomy\"]).T\n",
    "rotu_rabund = rotu_counts.divide(rotu_counts.sum(1), axis=0)\n",
    "\n",
    "sample_rotu_bc_linkage = sp.cluster.hierarchy.linkage(\n",
    "    rotu_rabund, method=\"average\", metric=\"braycurtis\", optimal_ordering=True\n",
    ")"
   ]
  },
  {
   "cell_type": "code",
   "execution_count": null,
   "metadata": {},
   "outputs": [],
   "source": [
    "missing_samples = sorted(idxwhere(~rotu_counts.index.to_series().isin(sample.index)))\n",
    "print(len(missing_samples), \", \".join(missing_samples))"
   ]
  },
  {
   "cell_type": "code",
   "execution_count": null,
   "metadata": {},
   "outputs": [],
   "source": [
    "x = rotu_rabund\n",
    "row_colors = pd.DataFrame(\n",
    "    dict(\n",
    "        subj=sample.subject_id.map(subject_palette),\n",
    "        swap=sample.index.to_series()\n",
    "        .isin([\"CF_11\", \"CF_15\"])\n",
    "        .replace({False: \"grey\", True: \"black\"}),\n",
    "    )\n",
    ")\n",
    "row_linkage = sample_rotu_bc_linkage\n",
    "\n",
    "sns.clustermap(\n",
    "    rotu_rabund,\n",
    "    norm=mpl.colors.PowerNorm(1 / 5),\n",
    "    row_colors=row_colors,\n",
    "    row_linkage=row_linkage,\n",
    ")"
   ]
  },
  {
   "cell_type": "code",
   "execution_count": null,
   "metadata": {},
   "outputs": [],
   "source": [
    "pd.read_table(\n",
    "    \"data/group/een/r.proc.gtpro.species_depth.tsv\")"
   ]
  },
  {
   "cell_type": "code",
   "execution_count": null,
   "metadata": {},
   "outputs": [],
   "source": [
    "gtpro_depth = (pd.read_table(\n",
    "    \"data/group/een/r.proc.gtpro.species_depth.tsv\",\n",
    "    index_col=['sample', \"species_id\"],\n",
    "    )\n",
    "    .depth.unstack(fill_value=0)\n",
    "    .rename(columns=str, index=lambda x: \"CF_\" + str(int(x.split(\"_\")[1])))\n",
    "    .rename({'CF_15': 'CF_11', 'CF_11': 'CF_15'})  # Sample swap\n",
    ")\n",
    "gtpro_rabund = gtpro_depth.divide(gtpro_depth.sum(1), axis=0)\n",
    "\n",
    "gtpro_rabund"
   ]
  },
  {
   "cell_type": "code",
   "execution_count": null,
   "metadata": {},
   "outputs": [],
   "source": [
    "motu_depth = (pd.read_table(\n",
    "    \"data/group/een/r.proc.gene99_new-v22-agg75.spgc_specgene-ref-t25-p95.species_depth.tsv\",\n",
    "    names=['sample', \"species_id\", 'depth'], index_col=['sample', \"species_id\"],\n",
    "    )\n",
    "    .depth.unstack(fill_value=0)\n",
    "    .rename(columns=str, index=lambda x: \"CF_\" + str(int(x.split(\"_\")[1])))\n",
    "    .rename({'CF_15': 'CF_11', 'CF_11': 'CF_15'})  # Sample swap\n",
    ")\n",
    "motu_rabund = motu_depth.divide(motu_depth.sum(1), axis=0)\n",
    "\n",
    "motu_rabund"
   ]
  },
  {
   "cell_type": "code",
   "execution_count": null,
   "metadata": {},
   "outputs": [],
   "source": [
    "x, y = align_indexes(motu_rabund, rotu_rabund)\n",
    "\n",
    "\n",
    "x_linkage = linkage(x, method=\"average\", metric=\"braycurtis\", optimal_ordering=True)\n",
    "y_linkage = linkage(y, method=\"average\", metric=\"braycurtis\", optimal_ordering=True)\n",
    "colors = pd.DataFrame(\n",
    "    dict(\n",
    "        subj=sample.subject_id.map(subject_palette),\n",
    "        swap=sample.index.to_series()\n",
    "        .isin([\"CF_11\", \"CF_15\"])\n",
    "        .replace({False: \"grey\", True: \"black\"}),\n",
    "    )\n",
    ")\n",
    "\n",
    "x_pdist = pd.DataFrame(\n",
    "    squareform(pdist(x, metric=\"braycurtis\")), index=x.index, columns=x.index\n",
    ")\n",
    "sns.clustermap(\n",
    "    x_pdist,\n",
    "    row_linkage=y_linkage,\n",
    "    col_linkage=x_linkage,\n",
    "    row_colors=colors,\n",
    "    col_colors=colors,\n",
    ")"
   ]
  },
  {
   "cell_type": "code",
   "execution_count": null,
   "metadata": {},
   "outputs": [],
   "source": [
    "x, y = align_indexes(motu_rabund, gtpro_rabund)\n",
    "\n",
    "\n",
    "x_linkage = linkage(x, method=\"average\", metric=\"braycurtis\", optimal_ordering=True)\n",
    "y_linkage = linkage(y, method=\"average\", metric=\"braycurtis\", optimal_ordering=True)\n",
    "colors = pd.DataFrame(\n",
    "    dict(\n",
    "        subj=sample.subject_id.map(subject_palette),\n",
    "        swap=sample.index.to_series()\n",
    "        .isin([\"CF_11\", \"CF_15\"])\n",
    "        .replace({False: \"grey\", True: \"black\"}),\n",
    "    )\n",
    ")\n",
    "\n",
    "x_pdist = pd.DataFrame(\n",
    "    squareform(pdist(x, metric=\"braycurtis\")), index=x.index, columns=x.index\n",
    ")\n",
    "sns.clustermap(\n",
    "    x_pdist,\n",
    "    row_linkage=y_linkage,\n",
    "    col_linkage=x_linkage,\n",
    "    row_colors=colors,\n",
    "    col_colors=colors,\n",
    ")"
   ]
  },
  {
   "cell_type": "code",
   "execution_count": null,
   "metadata": {},
   "outputs": [],
   "source": [
    "bins = np.linspace(0, 30_000, num=200)\n",
    "\n",
    "fig, axs = plt.subplots(2, sharex=True)\n",
    "\n",
    "for (title, x), ax in zip(\n",
    "    dict(\n",
    "        total_depth_by_sample=motu_depth.sum(1),\n",
    "        total_depth_by_species=motu_depth.sum(0),\n",
    "    ).items(),\n",
    "    axs.flatten(),\n",
    "):\n",
    "    ax.hist(x, bins=np.logspace(-1, 5, num=100))\n",
    "    ax.set_title(title)\n",
    "    ax.set_xscale(\"log\")\n",
    "fig.tight_layout()"
   ]
  },
  {
   "cell_type": "code",
   "execution_count": null,
   "metadata": {},
   "outputs": [],
   "source": [
    "motu_rabund.mean().sort_values(ascending=False).head(20)"
   ]
  },
  {
   "cell_type": "code",
   "execution_count": null,
   "metadata": {},
   "outputs": [],
   "source": [
    "n_species = 10\n",
    "top_motus = (\n",
    "    (motu_rabund > 1e-5).sum().sort_values(ascending=False).head(n_species).index\n",
    ")\n",
    "\n",
    "fig, axs = plt.subplots(\n",
    "    n_species, figsize=(5, 0.3 * n_species), sharex=True, sharey=True\n",
    ")\n",
    "\n",
    "bins = np.logspace(-8, 1, num=51)\n",
    "\n",
    "for species_id, ax in zip(top_motus, axs):\n",
    "    # ax.hist(rabund_subset[species_id], bins=bins, alpha=0.7)\n",
    "    ax.hist(motu_rabund[species_id], bins=bins, alpha=0.7)\n",
    "    ax.set_xscale(\"log\")\n",
    "    prevalence = (motu_rabund[species_id] > 1e-5).mean()\n",
    "    ax.set_title(\"\")\n",
    "    # ax.set_xticks()\n",
    "    # ax.set_yticks()\n",
    "    ax.yaxis.set_visible(False)\n",
    "    ax.xaxis.set_visible(False)\n",
    "    ax.patch.set_alpha(0.0)\n",
    "    for spine in [\"left\", \"right\", \"top\", \"bottom\"]:\n",
    "        ax.spines[spine].set_visible(False)\n",
    "    ax.annotate(\n",
    "        f\"{species_id} ({prevalence:0.0%})\",\n",
    "        xy=(0.05, 0.1),\n",
    "        ha=\"left\",\n",
    "        xycoords=\"axes fraction\",\n",
    "    )\n",
    "    ax.set_xlim(left=1e-9)\n",
    "    ax.set_ylim(top=20)\n",
    "    ax.axvline(1e-5, lw=1, linestyle=\":\", color=\"k\")\n",
    "\n",
    "ax.xaxis.set_visible(True)\n",
    "ax.spines[\"bottom\"].set_visible(True)\n",
    "ax.set_xticks([1e-4, 1e-2, 1e-0])\n",
    "ax.set_xticklabels([\"0.01%\", \"1%\", \"100%\"])\n",
    "ax.set_xlabel(\"Relative Abundance\")\n",
    "\n",
    "# fig.subplots_adjust(hspace=-0.75)"
   ]
  },
  {
   "cell_type": "raw",
   "metadata": {},
   "source": [
    "motu_taxonomy = lib.thisproject.data.load_species_taxonomy(\n",
    "    \"ref/gtpro/species_taxonomy_ext.tsv\"\n",
    ")\n",
    "# motu_taxonomy.loc[\"102506\", \"s__\"] = \"s__Escherichia coli\""
   ]
  },
  {
   "cell_type": "code",
   "execution_count": null,
   "metadata": {},
   "outputs": [],
   "source": [
    "def parse_taxonomy_string(taxonomy_string):\n",
    "    values = taxonomy_string.split(\";\")\n",
    "    return pd.Series(values, index=[\"d__\", \"p__\", \"c__\", \"o__\", \"f__\", \"g__\", \"s__\"])"
   ]
  },
  {
   "cell_type": "code",
   "execution_count": null,
   "metadata": {},
   "outputs": [],
   "source": [
    "motu_taxonomy_inpath = \"ref/uhgg_genomes_all_v2.tsv\"\n",
    "\n",
    "_motu_taxonomy = (\n",
    "    pd.read_table(motu_taxonomy_inpath)[lambda x: x.Genome == x.Species_rep]\n",
    "    .assign(species_id=lambda x: \"1\" + x.MGnify_accession.str.split(\"-\").str[2])\n",
    "    .set_index(\"species_id\")\n",
    ")\n",
    "\n",
    "# motu_lineage_string = _motu_taxonomy.Lineage\n",
    "\n",
    "motu_taxonomy = _motu_taxonomy.Lineage.apply(\n",
    "    parse_taxonomy_string\n",
    ")  # .assign(taxonomy_string=motu_lineage_string)\n",
    "motu_taxonomy"
   ]
  },
  {
   "cell_type": "code",
   "execution_count": null,
   "metadata": {},
   "outputs": [],
   "source": [
    "for _species_id in top_motus.astype(str):\n",
    "    print(_species_id, \":\", \";\".join(motu_taxonomy.loc[_species_id].values))"
   ]
  },
  {
   "cell_type": "code",
   "execution_count": null,
   "metadata": {},
   "outputs": [],
   "source": [
    "motu_taxonomy[lambda x: x.s__.str.endswith(\"hansenii\")]"
   ]
  },
  {
   "cell_type": "code",
   "execution_count": null,
   "metadata": {},
   "outputs": [],
   "source": [
    "for _species_id in [\"102544\", \"102506\", \"101303\", \"100150\", \"102330\", \"101704\"]:\n",
    "    print(\n",
    "        _species_id,\n",
    "        (motu_rabund[_species_id] > 0.0001).mean().round(2),\n",
    "        (motu_rabund[_species_id] > 0.001).mean().round(2),\n",
    "        motu_taxonomy.loc[_species_id].s__,\n",
    "        sep=\"\\t\\t\",\n",
    "    )"
   ]
  },
  {
   "cell_type": "code",
   "execution_count": null,
   "metadata": {},
   "outputs": [],
   "source": [
    "for _species_id in [\"100323\", \"101396\", \"101493\", \"102351\"]:\n",
    "    print(\n",
    "        _species_id,\n",
    "        (motu_rabund[_species_id] > 0.0001).mean().round(2),\n",
    "        (motu_rabund[_species_id] > 0.001).mean().round(2),\n",
    "        motu_taxonomy.loc[_species_id].s__,\n",
    "        sep=\"\\t\\t\",\n",
    "    )"
   ]
  },
  {
   "cell_type": "code",
   "execution_count": null,
   "metadata": {},
   "outputs": [],
   "source": [
    "n_species = 20\n",
    "top_motus = (\n",
    "    (motu_rabund > 1e-3).sum().sort_values(ascending=False).head(n_species).index\n",
    ")\n",
    "\n",
    "fig, axs = plt.subplots(\n",
    "    n_species, figsize=(5, 0.3 * n_species), sharex=True, sharey=True\n",
    ")\n",
    "\n",
    "bins = np.logspace(-8, 1, num=51)\n",
    "\n",
    "for species_id, ax in zip(top_motus, axs):\n",
    "    # ax.hist(rabund_subset[species_id], bins=bins, alpha=0.7)\n",
    "    ax.hist(motu_rabund[species_id], bins=bins, alpha=0.7)\n",
    "    ax.set_xscale(\"log\")\n",
    "    prevalence = (motu_rabund[species_id] > 1e-3).mean()\n",
    "    ax.set_title(\"\")\n",
    "    # ax.set_xticks()\n",
    "    # ax.set_yticks()\n",
    "    ax.yaxis.set_visible(False)\n",
    "    ax.xaxis.set_visible(False)\n",
    "    ax.patch.set_alpha(0.0)\n",
    "    for spine in [\"left\", \"right\", \"top\", \"bottom\"]:\n",
    "        ax.spines[spine].set_visible(False)\n",
    "    ax.annotate(\n",
    "        f\"{species_id} ({prevalence:0.0%})\",\n",
    "        xy=(0.05, 0.1),\n",
    "        ha=\"left\",\n",
    "        xycoords=\"axes fraction\",\n",
    "    )\n",
    "    ax.set_xlim(left=1e-9)\n",
    "    ax.set_ylim(top=20)\n",
    "    ax.axvline(1e-5, lw=1, linestyle=\":\", color=\"k\")\n",
    "\n",
    "ax.xaxis.set_visible(True)\n",
    "ax.spines[\"bottom\"].set_visible(True)\n",
    "ax.set_xticks([1e-4, 1e-2, 1e-0])\n",
    "ax.set_xticklabels([\"0.01%\", \"1%\", \"100%\"])\n",
    "ax.set_xlabel(\"Relative Abundance\")\n",
    "\n",
    "# fig.subplots_adjust(hspace=-0.75)"
   ]
  },
  {
   "cell_type": "code",
   "execution_count": null,
   "metadata": {},
   "outputs": [],
   "source": [
    "sotu_depth = []\n",
    "missing_files = []\n",
    "for species_id in motu_depth.columns:\n",
    "    path = f\"data/group/een/species/sp-{species_id}/r.proc.gtpro.sfacts-fit.comm.tsv\"\n",
    "    try:\n",
    "        d = (\n",
    "            pd.read_table(path, index_col=[\"sample\", \"strain\"])\n",
    "            .squeeze()\n",
    "            .unstack()\n",
    "            .rename(columns=str, index=lambda x: \"CF_\" + str(int(x.split(\"_\")[1])))\n",
    "            .rename({'CF_11': 'CF_15', 'CF_15': 'CF_11'})  # Sample swap.\n",
    "        )\n",
    "    except FileNotFoundError:\n",
    "        missing_files.append(path)\n",
    "        d = pd.DataFrame([])\n",
    "    _keep_strains = idxwhere(d.sum() > 0.05)\n",
    "    assert d.index.isin(motu_depth.index).all()\n",
    "    d = d.reindex(index=motu_depth.index, columns=_keep_strains, fill_value=0)\n",
    "    d = d.assign(__other=lambda x: 1 - x.sum(1)).rename(columns={\"__other\": -1})\n",
    "    d[d < 0] = 0\n",
    "    d = d.divide(d.sum(1), axis=0)\n",
    "    d = d.multiply(motu_depth[species_id], axis=0)\n",
    "    d = d.rename(columns=lambda s: f\"{species_id}_{s}\")\n",
    "    sotu_depth.append(d)\n",
    "sotu_depth = pd.concat(sotu_depth, axis=1)\n",
    "sotu_rabund = sotu_depth.divide(sotu_depth.sum(1), axis=0)\n",
    "len(motu_depth.columns), len(missing_files)"
   ]
  },
  {
   "cell_type": "code",
   "execution_count": null,
   "metadata": {},
   "outputs": [],
   "source": [
    "plt.hist(sotu_depth.values.flatten() + 1e-10, bins=np.logspace(-10, 0))\n",
    "plt.yscale(\"log\")\n",
    "plt.xscale(\"log\")"
   ]
  },
  {
   "cell_type": "code",
   "execution_count": null,
   "metadata": {},
   "outputs": [],
   "source": [
    "for _species_id in top_motus.astype(str):\n",
    "    print(_species_id, \":\", \";\".join(motu_taxonomy.loc[_species_id].values))"
   ]
  },
  {
   "cell_type": "code",
   "execution_count": null,
   "metadata": {},
   "outputs": [],
   "source": [
    "x, y = align_indexes(sotu_rabund, motu_rabund)\n",
    "\n",
    "x_linkage = linkage(x, method=\"average\", metric=\"braycurtis\", optimal_ordering=True)\n",
    "y_linkage = linkage(y, method=\"average\", metric=\"braycurtis\", optimal_ordering=True)\n",
    "\n",
    "colors = pd.DataFrame(\n",
    "    dict(\n",
    "        subj=sample.subject_id.map(subject_palette),\n",
    "        swap=sample.index.to_series()\n",
    "        .isin([\"CF_11\", \"CF_15\", \"CF_431\", \"CF_427\"])\n",
    "        .replace({False: \"grey\", True: \"black\"}),\n",
    "    )\n",
    ")\n",
    "\n",
    "x_pdist = pd.DataFrame(\n",
    "    squareform(pdist(x, metric=\"braycurtis\")), index=x.index, columns=x.index\n",
    ")\n",
    "sns.clustermap(\n",
    "    x_pdist,\n",
    "    row_linkage=y_linkage,\n",
    "    col_linkage=x_linkage,\n",
    "    row_colors=colors,\n",
    "    col_colors=colors,\n",
    ")"
   ]
  },
  {
   "cell_type": "code",
   "execution_count": null,
   "metadata": {},
   "outputs": [],
   "source": [
    "sample[[\"subject_id\", \"sample_type\"]].value_counts().unstack(fill_value=0).sort_values(\n",
    "    \"human\", ascending=False\n",
    ").head(20)"
   ]
  },
  {
   "cell_type": "code",
   "execution_count": null,
   "metadata": {},
   "outputs": [],
   "source": [
    "sample[[\"subject_id\", \"diet_or_media\"]].value_counts().unstack(\n",
    "    fill_value=0\n",
    ").sort_values(\"EEN\", ascending=False).head(20)"
   ]
  },
  {
   "cell_type": "markdown",
   "metadata": {},
   "source": [
    "## Understand Fermenter Expmt."
   ]
  },
  {
   "cell_type": "code",
   "execution_count": null,
   "metadata": {},
   "outputs": [],
   "source": [
    "sample[lambda x: x.subject_id.isin([\"A\", \"B\", \"H\"]) & x.index.isin(motu_rabund.index)][\n",
    "    [\"subject_id\", \"source_samples\", \"sample_type\", \"diet_or_media\", \"status_mouse_inflamed\"]\n",
    "].value_counts(dropna=False).sort_index()"
   ]
  },
  {
   "cell_type": "code",
   "execution_count": null,
   "metadata": {},
   "outputs": [],
   "source": [
    "def _label_experiment_sample(x):\n",
    "    if x.sample_type == \"human\":\n",
    "        label = f\"[{x.name}] {x.collection_date_relative_een_end} {x.diet_or_media}\"\n",
    "    elif x.sample_type in [\"Fermenter_inoculum\"]:\n",
    "        label = f\"[{x.name}] {x.source_samples} inoc {x.diet_or_media}\"\n",
    "    elif x.sample_type in [\"Fermenter\"]:\n",
    "        label = f\"[{x.name}] {x.source_samples} frmnt {x.diet_or_media}\"\n",
    "    elif x.sample_type in [\"mouse\"]:\n",
    "        if x.status_mouse_inflamed == 'Inflamed':\n",
    "            label = f\"[{x.name}] {x.source_samples} \ud83d\udc2d {x.mouse_genotype} {x.diet_or_media} inflam\"\n",
    "        elif x.status_mouse_inflamed == 'not_Inflamed':\n",
    "            label = f\"[{x.name}] {x.source_samples} \ud83d\udc2d {x.mouse_genotype} {x.diet_or_media} not_inf\"\n",
    "        else:\n",
    "            raise ValueError(f\"sample type {x.status_mouse_inflamed} not understood\")\n",
    "    else:\n",
    "        raise ValueError(f\"sample type {x.sample_type} not understood\")\n",
    "    return label\n",
    "\n",
    "\n",
    "sample.sort_values(\n",
    "    [\n",
    "        \"subject_id\",\n",
    "        \"collection_date_relative_een_end\",\n",
    "        \"source_samples\",\n",
    "        \"sample_type\",\n",
    "        \"diet_or_media\",\n",
    "    ]\n",
    ").assign(label=lambda d: d.apply(_label_experiment_sample, axis=1)).label"
   ]
  },
  {
   "cell_type": "code",
   "execution_count": null,
   "metadata": {},
   "outputs": [],
   "source": [
    "sample[\n",
    "    lambda x: x.subject_id.isin([\"A\"]) & x.index.isin(motu_rabund.index)\n",
    "].sort_values(\n",
    "    [\n",
    "        \"subject_id\",\n",
    "        \"collection_date_relative_een_end\",\n",
    "        \"sample_type\",\n",
    "        \"source_samples\",\n",
    "        \"diet_or_media\",\n",
    "        \"mouse_genotype\",\n",
    "        \"status_mouse_inflamed\",\n",
    "    ]\n",
    ").assign(\n",
    "    label=lambda d: d.apply(_label_experiment_sample, axis=1)\n",
    ")"
   ]
  },
  {
   "cell_type": "code",
   "execution_count": null,
   "metadata": {},
   "outputs": [],
   "source": [
    "sample[\n",
    "    lambda x: x.subject_id.isin([\"B\"]) & x.index.isin(motu_rabund.index)\n",
    "].sort_values(\n",
    "    [\n",
    "        \"subject_id\",\n",
    "        \"collection_date_relative_een_end\",\n",
    "        \"source_samples\",\n",
    "        \"sample_type\",\n",
    "        \"diet_or_media\",\n",
    "        \"mouse_genotype\",\n",
    "        \"status_mouse_inflamed\",\n",
    "    ]\n",
    ").assign(\n",
    "    label=lambda d: d.apply(_label_experiment_sample, axis=1)\n",
    ")"
   ]
  },
  {
   "cell_type": "code",
   "execution_count": null,
   "metadata": {},
   "outputs": [],
   "source": [
    "sample[\n",
    "    lambda x: x.subject_id.isin([\"H\"]) & x.index.isin(motu_rabund.index)\n",
    "].sort_values(\n",
    "    [\n",
    "        \"subject_id\",\n",
    "        \"collection_date_relative_een_end\",\n",
    "        \"source_samples\",\n",
    "        \"sample_type\",\n",
    "        \"diet_or_media\",\n",
    "        \"mouse_genotype\",\n",
    "        \"status_mouse_inflamed\",\n",
    "    ]\n",
    ").assign(\n",
    "    label=lambda d: d.apply(_label_experiment_sample, axis=1)\n",
    ")"
   ]
  },
  {
   "cell_type": "markdown",
   "metadata": {},
   "source": [
    "## Confirm Sample Swap"
   ]
  },
  {
   "cell_type": "code",
   "execution_count": null,
   "metadata": {},
   "outputs": [],
   "source": [
    "d = sotu_rabund.loc[:, lambda x: (x > 1e-5).sum() > 1]\n",
    "sample_linkage_strain_rabund = linkage(\n",
    "    d,\n",
    "    method=\"average\",\n",
    "    metric=\"braycurtis\",\n",
    "    optimal_ordering=True,\n",
    ")\n",
    "colors = pd.DataFrame(\n",
    "    dict(\n",
    "        subj=sample.subject_id.map(subject_palette),\n",
    "        # type=sample.diet_or_media.map(diet_palette),\n",
    "        swap=sample.index.to_series()\n",
    "        .isin([\"CF_11\", \"CF_15\", \"CF_431\", \"CF_427\", \"CF_402\"])\n",
    "        .map({True: \"black\", False: \"grey\"}),\n",
    "    )\n",
    ")\n",
    "\n",
    "cg = sns.clustermap(\n",
    "    d.T,\n",
    "    norm=mpl.colors.PowerNorm(1 / 5),\n",
    "    col_linkage=sample_linkage_strain_rabund,\n",
    "    metric=\"cosine\",\n",
    "    xticklabels=1,\n",
    "    figsize=(18, 10),\n",
    "    col_colors=colors,\n",
    "    dendrogram_ratio=(0.05, 0.05),\n",
    "    yticklabels=0,\n",
    ")\n",
    "cg.ax_cbar.set_visible(False)"
   ]
  },
  {
   "cell_type": "code",
   "execution_count": null,
   "metadata": {},
   "outputs": [],
   "source": [
    "d = motu_rabund.loc[:, lambda x: (x > 1e-5).sum() > 1]\n",
    "sample_linkage_strain_rabund = linkage(\n",
    "    d,\n",
    "    method=\"average\",\n",
    "    metric=\"braycurtis\",\n",
    "    optimal_ordering=True,\n",
    ")\n",
    "colors = pd.DataFrame(\n",
    "    dict(\n",
    "        subj=sample.subject_id.map(subject_palette),\n",
    "        # type=sample.diet_or_media.map(diet_palette),\n",
    "        swap=sample.index.to_series()\n",
    "        .isin([\"CF_11\", \"CF_15\", \"CF_431\", \"CF_427\", \"CF_402\"])\n",
    "        .map({True: \"black\", False: \"grey\"}),\n",
    "    )\n",
    ")\n",
    "\n",
    "cg = sns.clustermap(\n",
    "    d.T,\n",
    "    norm=mpl.colors.PowerNorm(1 / 5),\n",
    "    col_linkage=sample_linkage_strain_rabund,\n",
    "    metric=\"cosine\",\n",
    "    xticklabels=1,\n",
    "    figsize=(15, 10),\n",
    "    col_colors=colors,\n",
    "    dendrogram_ratio=(0.05, 0.05),\n",
    "    yticklabels=0,\n",
    ")\n",
    "cg.ax_cbar.set_visible(False)"
   ]
  },
  {
   "cell_type": "code",
   "execution_count": null,
   "metadata": {},
   "outputs": [],
   "source": [
    "d = rotu_rabund.loc[:, lambda x: (x > 1e-5).sum() > 1]\n",
    "sample_linkage_strain_rabund = linkage(\n",
    "    d,\n",
    "    method=\"average\",\n",
    "    metric=\"braycurtis\",\n",
    "    optimal_ordering=True,\n",
    ")\n",
    "colors = pd.DataFrame(\n",
    "    dict(\n",
    "        subj=sample.subject_id.map(subject_palette),\n",
    "        # type=sample.diet_or_media.map(diet_palette),\n",
    "        swap=sample.index.to_series()\n",
    "        .isin([\"CF_11\", \"CF_15\", \"CF_431\", \"CF_427\", \"CF_402\"])\n",
    "        .map({True: \"black\", False: \"grey\"}),\n",
    "    )\n",
    ")\n",
    "\n",
    "cg = sns.clustermap(\n",
    "    d.T,\n",
    "    norm=mpl.colors.PowerNorm(1 / 5),\n",
    "    col_linkage=sample_linkage_strain_rabund,\n",
    "    metric=\"cosine\",\n",
    "    xticklabels=1,\n",
    "    figsize=(85, 10),\n",
    "    col_colors=colors,\n",
    "    dendrogram_ratio=(0.05, 0.05),\n",
    "    yticklabels=0,\n",
    ")\n",
    "cg.ax_cbar.set_visible(False)\n",
    "\n",
    "# fig = plt.gcf()\n",
    "# fig.savefig('fig/een_zotus_clustermap.png')"
   ]
  },
  {
   "cell_type": "code",
   "execution_count": null,
   "metadata": {},
   "outputs": [],
   "source": [
    "for k in subject_palette:\n",
    "    plt.scatter([], [], color=subject_palette[k], label=k)\n",
    "k = \"other\"\n",
    "plt.scatter([], [], color=subject_palette[k], label=k)\n",
    "plt.legend(ncols=5)"
   ]
  },
  {
   "cell_type": "code",
   "execution_count": null,
   "metadata": {},
   "outputs": [],
   "source": [
    "suspect_labels = [\"CF_11\", \"CF_15\", \"CF_431\", \"CF_427\", \"CF_402\"]\n",
    "focal_subjects = list(sample.loc[suspect_labels].subject_id.unique())\n",
    "focal_samples = idxwhere(\n",
    "    sample.subject_id.isin(focal_subjects)\n",
    "    & sample.index.to_series().isin(sotu_rabund.index)\n",
    ")\n",
    "\n",
    "d = sotu_rabund.loc[focal_samples].loc[:, lambda x: (x > 1e-5).sum() > 1]\n",
    "sample_linkage_strain_rabund = linkage(\n",
    "    d,\n",
    "    method=\"average\",\n",
    "    metric=\"braycurtis\",\n",
    "    optimal_ordering=True,\n",
    ")\n",
    "colors = pd.DataFrame(\n",
    "    dict(\n",
    "        subj=sample.subject_id.map(subject_palette),\n",
    "        # type=sample.diet_or_media.map(diet_palette),\n",
    "        swap=sample.index.to_series()\n",
    "        .isin(suspect_labels)\n",
    "        .map({True: \"black\", False: \"grey\"}),\n",
    "    )\n",
    ")\n",
    "\n",
    "cg = sns.clustermap(\n",
    "    d.T,\n",
    "    norm=mpl.colors.PowerNorm(1 / 5),\n",
    "    col_linkage=sample_linkage_strain_rabund,\n",
    "    metric=\"cosine\",\n",
    "    xticklabels=1,\n",
    "    figsize=(15, 10),\n",
    "    col_colors=colors,\n",
    "    dendrogram_ratio=(0.05, 0.05),\n",
    "    yticklabels=0,\n",
    ")\n",
    "cg.ax_cbar.set_visible(False)"
   ]
  },
  {
   "cell_type": "code",
   "execution_count": null,
   "metadata": {},
   "outputs": [],
   "source": [
    "suspect_labels = [\"CF_11\", \"CF_15\", \"CF_431\", \"CF_427\", \"CF_402\"]\n",
    "focal_subjects = list(sample.loc[suspect_labels].subject_id.unique())\n",
    "focal_samples = idxwhere(\n",
    "    sample.subject_id.isin(focal_subjects)\n",
    "    & sample.index.to_series().isin(rotu_rabund.index)\n",
    ")\n",
    "\n",
    "d = rotu_rabund.loc[focal_samples].loc[:, lambda x: (x > 1e-5).sum() > 1]\n",
    "sample_linkage_strain_rabund = linkage(\n",
    "    d,\n",
    "    method=\"average\",\n",
    "    metric=\"braycurtis\",\n",
    "    optimal_ordering=True,\n",
    ")\n",
    "colors = pd.DataFrame(\n",
    "    dict(\n",
    "        subj=sample.subject_id.map(subject_palette),\n",
    "        # type=sample.diet_or_media.map(diet_palette),\n",
    "        swap=sample.index.to_series()\n",
    "        .isin(suspect_labels)\n",
    "        .map({True: \"black\", False: \"grey\"}),\n",
    "    )\n",
    ")\n",
    "\n",
    "cg = sns.clustermap(\n",
    "    d.T,\n",
    "    norm=mpl.colors.PowerNorm(1 / 5),\n",
    "    col_linkage=sample_linkage_strain_rabund,\n",
    "    metric=\"cosine\",\n",
    "    xticklabels=1,\n",
    "    figsize=(15, 10),\n",
    "    col_colors=colors,\n",
    "    dendrogram_ratio=(0.05, 0.05),\n",
    "    yticklabels=0,\n",
    ")\n",
    "cg.ax_cbar.set_visible(False)"
   ]
  },
  {
   "cell_type": "code",
   "execution_count": null,
   "metadata": {},
   "outputs": [],
   "source": [
    "sample.loc[suspect_labels]"
   ]
  },
  {
   "cell_type": "code",
   "execution_count": null,
   "metadata": {},
   "outputs": [],
   "source": [
    "all_new_samples_list = [\n",
    "    \"CF_379\",\n",
    "    \"CF_380\",\n",
    "    \"CF_381\",\n",
    "    \"CF_384\",\n",
    "    \"CF_385\",\n",
    "    \"CF_386\",\n",
    "    \"CF_426\",\n",
    "    \"CF_427\",\n",
    "    \"CF_428\",\n",
    "    \"CF_429\",\n",
    "    \"CF_430\",\n",
    "    \"CF_431\",\n",
    "    \"CF_395\",\n",
    "    \"CF_397\",\n",
    "    \"CF_402\",\n",
    "    \"CF_406\",\n",
    "    \"CF_408\",\n",
    "    \"CF_409\",\n",
    "    \"CF_140\",\n",
    "    \"CF_141\",\n",
    "    \"CF_142\",\n",
    "    \"CF_149\",\n",
    "    \"CF_150\",\n",
    "    \"CF_151\",\n",
    "    \"CF_170\",\n",
    "    \"CF_171\",\n",
    "    \"CF_172\",\n",
    "    \"CF_173\",\n",
    "    \"CF_174\",\n",
    "    \"CF_175\",\n",
    "    \"CF_152\",\n",
    "    \"CF_153\",\n",
    "    \"CF_154\",\n",
    "    \"CF_155\",\n",
    "    \"CF_156\",\n",
    "    \"CF_157\",\n",
    "    \"CF_115\",\n",
    "    \"CF_116\",\n",
    "    \"CF_117\",\n",
    "    \"CF_118\",\n",
    "    \"CF_119\",\n",
    "    \"CF_120\",\n",
    "    \"CF_127\",\n",
    "    \"CF_128\",\n",
    "    \"CF_130\",\n",
    "    \"CF_131\",\n",
    "    \"CF_132\",\n",
    "    \"CF_133\",\n",
    "    \"CF_667\",\n",
    "    \"CF_668\",\n",
    "    \"CF_669\",\n",
    "    \"CF_670\",\n",
    "    \"CF_671\",\n",
    "    \"CF_672\",\n",
    "]\n",
    "\n",
    "sample.loc[all_new_samples_list]"
   ]
  },
  {
   "cell_type": "markdown",
   "metadata": {},
   "source": [
    "## EEN vs. PostEEN Species Enrichment Analysis"
   ]
  },
  {
   "cell_type": "code",
   "execution_count": null,
   "metadata": {},
   "outputs": [],
   "source": [
    "d0 = motu_rabund.join(sample[['subject_id', 'diet_or_media']])[lambda x: x.diet_or_media.isin(['EEN', 'PostEEN'])].groupby(['subject_id', 'diet_or_media']).mean()\n",
    "\n",
    "species_enrichment_stats = []\n",
    "for species in d0.columns:\n",
    "    d1 = d0[species].unstack('diet_or_media').dropna()\n",
    "    prevalence = (d1 > 0).mean()\n",
    "    d1_pc = (d1 + 0.00001)\n",
    "    log2_fold_change = np.log2(d1_pc.PostEEN / d1_pc.EEN)\n",
    "    if (log2_fold_change == 0).all():\n",
    "        pval = 1\n",
    "    else:\n",
    "        pval = sp.stats.wilcoxon(d1.PostEEN, d1.EEN)[1]\n",
    "        \n",
    "    species_enrichment_stats.append((species, prevalence.PostEEN, prevalence.EEN, log2_fold_change.mean(), pval))\n",
    "\n",
    "species_enrichment_stats = pd.DataFrame(species_enrichment_stats, columns=['species_id', 'prevalence_post', 'prevalence_een', 'mean_log2_fold_change', 'pvalue']).set_index('species_id')"
   ]
  },
  {
   "cell_type": "code",
   "execution_count": null,
   "metadata": {},
   "outputs": [],
   "source": [
    "species_enrichment_stats.loc['102506']"
   ]
  },
  {
   "cell_type": "code",
   "execution_count": null,
   "metadata": {},
   "outputs": [],
   "source": [
    "species_enrichment_stats_with_fdr = species_enrichment_stats[lambda x: (x.prevalence_post > 0.1) | (x.prevalence_een > 0.1)].assign(fdr=lambda x: fdrcorrection(x.pvalue)[1]).sort_values('pvalue')\n",
    "species_enrichment_stats_with_fdr[lambda x: x.pvalue < 0.01].join(motu_taxonomy.s__)"
   ]
  },
  {
   "cell_type": "code",
   "execution_count": null,
   "metadata": {},
   "outputs": [],
   "source": [
    "species_enrichment_stats_with_fdr.sort_values('pvalue').head(20)"
   ]
  },
  {
   "cell_type": "markdown",
   "metadata": {},
   "source": [
    "## Statistical Linkage Between zOTUs and GT-Pro Species"
   ]
  },
  {
   "cell_type": "markdown",
   "metadata": {},
   "source": [
    "### \"Enterobacteriaceae\""
   ]
  },
  {
   "cell_type": "code",
   "execution_count": null,
   "metadata": {},
   "outputs": [],
   "source": [
    "focal_family_list = [\"Enterobacteriaceae\"]\n",
    "# rotu_taxonomy.loc[focal_zotu].str.split(\";\").str[-3].unique()\n",
    "assert len(focal_family_list) == 1\n",
    "focal_family = focal_family_list[0]"
   ]
  },
  {
   "cell_type": "code",
   "execution_count": null,
   "metadata": {},
   "outputs": [],
   "source": [
    "x_taxa = idxwhere(rotu_taxonomy.str.contains(f\";{focal_family};\"))\n",
    "y_taxa = idxwhere(\n",
    "    motu_taxonomy.apply(lambda x: \";\".join(x), axis=1).str.contains(\n",
    "        f\"f__{focal_family};\"\n",
    "    )\n",
    "    & motu_taxonomy.index.to_series().isin(motu_rabund.columns)\n",
    ")"
   ]
  },
  {
   "cell_type": "code",
   "execution_count": null,
   "metadata": {},
   "outputs": [],
   "source": [
    "rotu_taxonomy.loc[x_taxa].reset_index().values"
   ]
  },
  {
   "cell_type": "code",
   "execution_count": null,
   "metadata": {},
   "outputs": [],
   "source": [
    "motu_taxonomy.loc[y_taxa]"
   ]
  },
  {
   "cell_type": "code",
   "execution_count": null,
   "metadata": {},
   "outputs": [],
   "source": [
    "from sklearn.cross_decomposition import PLSCanonical, PLSRegression\n",
    "\n",
    "x, y = align_indexes(rotu_rabund[x_taxa], motu_rabund[y_taxa])\n",
    "pls = PLSCanonical(n_components=min(*x.shape, *y.shape), scale=False, tol=1e-7).fit(\n",
    "    x, y\n",
    ")"
   ]
  },
  {
   "cell_type": "code",
   "execution_count": null,
   "metadata": {},
   "outputs": [],
   "source": [
    "pseudo_map = pd.DataFrame(\n",
    "    (pls.y_rotations_ @ pls.x_rotations_.T), index=y.columns, columns=x.columns\n",
    ")\n",
    "pseudo_map.shape"
   ]
  },
  {
   "cell_type": "code",
   "execution_count": null,
   "metadata": {},
   "outputs": [],
   "source": [
    "plt.hist(pseudo_map.values.flatten(), bins=1000)\n",
    "plt.yscale(\"log\")\n",
    "None"
   ]
  },
  {
   "cell_type": "code",
   "execution_count": null,
   "metadata": {},
   "outputs": [],
   "source": [
    "cross_correlation = pd.DataFrame(\n",
    "    1\n",
    "    - sp.spatial.distance.cdist(\n",
    "        x.T, y.T, metric=lambda x, y: 1 - sp.stats.spearmanr(x, y)[0]\n",
    "    ),\n",
    "    columns=y.columns,\n",
    "    index=x.columns,\n",
    ")"
   ]
  },
  {
   "cell_type": "code",
   "execution_count": null,
   "metadata": {},
   "outputs": [],
   "source": [
    "sns.clustermap(\n",
    "    pseudo_map.fillna(0).T, center=0, figsize=(5, 5), xticklabels=1, yticklabels=1\n",
    ")\n",
    "sns.clustermap(\n",
    "    cross_correlation.fillna(0), center=0, figsize=(5, 5), xticklabels=1, yticklabels=1\n",
    ")"
   ]
  },
  {
   "cell_type": "code",
   "execution_count": null,
   "metadata": {},
   "outputs": [],
   "source": [
    "d = pd.DataFrame(\n",
    "    dict(\n",
    "        pls=pseudo_map.stack(),\n",
    "        cc=cross_correlation.T.stack(),\n",
    "        pls_rank_A=pseudo_map.rank(axis=0, ascending=False).stack(),\n",
    "        pls_rank_B=pseudo_map.rank(axis=1, ascending=False).stack(),\n",
    "        cc_rank_A=cross_correlation.T.rank(axis=0, ascending=False).stack(),\n",
    "        cc_rank_B=cross_correlation.T.rank(axis=1, ascending=False).stack(),\n",
    "    )\n",
    ")"
   ]
  },
  {
   "cell_type": "markdown",
   "metadata": {},
   "source": [
    "#### Zotu4"
   ]
  },
  {
   "cell_type": "code",
   "execution_count": null,
   "metadata": {},
   "outputs": [],
   "source": [
    "focal_zotu = [\"Zotu4\"]\n",
    "\n",
    "(\n",
    "    d.reorder_levels([\"zotu\", \"species_id\"])\n",
    "    .loc[focal_zotu]\n",
    "    .join(rotu_rabund[x_taxa].mean().rename(\"rotu_mean\"))\n",
    "    .join(motu_rabund[y_taxa].mean().rename(\"motu_mean\"))\n",
    "    .assign(pls_score=lambda x: x.pls * x.rotu_mean * x.motu_mean)\n",
    "    .sort_values(\"pls_score\", ascending=False)\n",
    "    .head(10)\n",
    "    .join(motu_taxonomy.s__)\n",
    ")"
   ]
  },
  {
   "cell_type": "markdown",
   "metadata": {},
   "source": [
    "#### 102351"
   ]
  },
  {
   "cell_type": "code",
   "execution_count": null,
   "metadata": {},
   "outputs": [],
   "source": [
    "focal_motu = '102351'\n",
    "\n",
    "(\n",
    "    d.reorder_levels([\"species_id\", \"zotu\"])\n",
    "    .join(rotu_rabund[x_taxa].mean().rename(\"rotu_mean\"))\n",
    "    .join(motu_rabund[y_taxa].mean().rename(\"motu_mean\"))\n",
    "    .assign(pls_score=lambda x: x.pls * x.rotu_mean * x.motu_mean)\n",
    "    .sort_values(\"pls_score\", ascending=False)\n",
    "    .join(rotu_taxonomy.str[-20:])\n",
    "    .loc[focal_motu]\n",
    ")"
   ]
  },
  {
   "cell_type": "markdown",
   "metadata": {},
   "source": [
    "### \"Eggerthellaceae\" (Zotu172)"
   ]
  },
  {
   "cell_type": "code",
   "execution_count": null,
   "metadata": {},
   "outputs": [],
   "source": [
    "focal_zotu = [\"Zotu172\"]\n",
    "focal_family_list = rotu_taxonomy.loc[focal_zotu].str.split(\";\").str[-3].unique()\n",
    "assert len(focal_family_list) == 1\n",
    "focal_family = focal_family_list[0]\n",
    "print(focal_family)"
   ]
  },
  {
   "cell_type": "code",
   "execution_count": null,
   "metadata": {},
   "outputs": [],
   "source": [
    "x_taxa = idxwhere(rotu_taxonomy.str.contains(f\";{focal_family};\"))\n",
    "y_taxa = idxwhere(\n",
    "    motu_taxonomy.apply(lambda x: \";\".join(x), axis=1).str.contains(\n",
    "        f\"f__{focal_family};\"\n",
    "    )\n",
    "    & motu_taxonomy.index.to_series().isin(motu_rabund.columns)\n",
    ")"
   ]
  },
  {
   "cell_type": "code",
   "execution_count": null,
   "metadata": {},
   "outputs": [],
   "source": [
    "rotu_taxonomy.loc[x_taxa].reset_index().values"
   ]
  },
  {
   "cell_type": "code",
   "execution_count": null,
   "metadata": {},
   "outputs": [],
   "source": [
    "motu_taxonomy.loc[y_taxa]"
   ]
  },
  {
   "cell_type": "code",
   "execution_count": null,
   "metadata": {},
   "outputs": [],
   "source": [
    "from sklearn.cross_decomposition import PLSCanonical, PLSRegression\n",
    "\n",
    "x, y = align_indexes(rotu_rabund[x_taxa], motu_rabund[y_taxa])\n",
    "pls = PLSCanonical(n_components=min(*x.shape, *y.shape), scale=False, tol=1e-7).fit(\n",
    "    x, y\n",
    ")"
   ]
  },
  {
   "cell_type": "code",
   "execution_count": null,
   "metadata": {},
   "outputs": [],
   "source": [
    "pseudo_map = pd.DataFrame(\n",
    "    (pls.y_rotations_ @ pls.x_rotations_.T), index=y.columns, columns=x.columns\n",
    ")\n",
    "pseudo_map.shape"
   ]
  },
  {
   "cell_type": "code",
   "execution_count": null,
   "metadata": {},
   "outputs": [],
   "source": [
    "plt.hist(pseudo_map.values.flatten(), bins=1000)\n",
    "plt.yscale(\"log\")\n",
    "None"
   ]
  },
  {
   "cell_type": "code",
   "execution_count": null,
   "metadata": {},
   "outputs": [],
   "source": [
    "cross_correlation = pd.DataFrame(\n",
    "    1\n",
    "    - sp.spatial.distance.cdist(\n",
    "        x.T, y.T, metric=lambda x, y: 1 - sp.stats.spearmanr(x, y)[0]\n",
    "    ),\n",
    "    columns=y.columns,\n",
    "    index=x.columns,\n",
    ")"
   ]
  },
  {
   "cell_type": "code",
   "execution_count": null,
   "metadata": {},
   "outputs": [],
   "source": [
    "sns.clustermap(\n",
    "    pseudo_map.fillna(0).T, center=0, figsize=(5, 5), xticklabels=1, yticklabels=1\n",
    ")\n",
    "sns.clustermap(\n",
    "    cross_correlation.fillna(0), center=0, figsize=(5, 5), xticklabels=1, yticklabels=1\n",
    ")"
   ]
  },
  {
   "cell_type": "code",
   "execution_count": null,
   "metadata": {},
   "outputs": [],
   "source": [
    "d = pd.DataFrame(\n",
    "    dict(\n",
    "        pls=pseudo_map.stack(),\n",
    "        cc=cross_correlation.T.stack(),\n",
    "        pls_rank_A=pseudo_map.rank(axis=0, ascending=False).stack(),\n",
    "        pls_rank_B=pseudo_map.rank(axis=1, ascending=False).stack(),\n",
    "        cc_rank_A=cross_correlation.T.rank(axis=0, ascending=False).stack(),\n",
    "        cc_rank_B=cross_correlation.T.rank(axis=1, ascending=False).stack(),\n",
    "    )\n",
    ")"
   ]
  },
  {
   "cell_type": "code",
   "execution_count": null,
   "metadata": {},
   "outputs": [],
   "source": [
    "(\n",
    "    d.reorder_levels([\"zotu\", \"species_id\"])\n",
    "    .loc[focal_zotu]\n",
    "    .join(rotu_rabund[x_taxa].mean().rename(\"rotu_mean\"))\n",
    "    .join(motu_rabund[y_taxa].mean().rename(\"motu_mean\"))\n",
    "    .assign(pls_score=lambda x: x.pls * x.rotu_mean * x.motu_mean)\n",
    "    .sort_values(\"pls_score\", ascending=False)\n",
    "    .head(10)\n",
    "    .join(motu_taxonomy.s__)\n",
    ")"
   ]
  },
  {
   "cell_type": "markdown",
   "metadata": {},
   "source": [
    "### \"Lachnospiraceae\""
   ]
  },
  {
   "cell_type": "markdown",
   "metadata": {},
   "source": [
    "#### Zotu114"
   ]
  },
  {
   "cell_type": "code",
   "execution_count": null,
   "metadata": {},
   "outputs": [],
   "source": [
    "focal_zotu = [\"Zotu114\"]\n",
    "focal_family_list = rotu_taxonomy.loc[focal_zotu].str.split(\";\").str[-3].unique()\n",
    "assert len(focal_family_list) == 1\n",
    "focal_family = focal_family_list[0]\n",
    "print(focal_family)"
   ]
  },
  {
   "cell_type": "code",
   "execution_count": null,
   "metadata": {},
   "outputs": [],
   "source": [
    "x_taxa = idxwhere(rotu_taxonomy.str.contains(f\";{focal_family};\"))\n",
    "y_taxa = idxwhere(\n",
    "    motu_taxonomy.apply(lambda x: \";\".join(x), axis=1).str.contains(\n",
    "        f\"f__{focal_family};\"\n",
    "    )\n",
    "    & motu_taxonomy.index.to_series().isin(motu_rabund.columns)\n",
    ")"
   ]
  },
  {
   "cell_type": "code",
   "execution_count": null,
   "metadata": {},
   "outputs": [],
   "source": [
    "rotu_taxonomy.loc[x_taxa].reset_index().values"
   ]
  },
  {
   "cell_type": "code",
   "execution_count": null,
   "metadata": {},
   "outputs": [],
   "source": [
    "motu_taxonomy.loc[y_taxa]"
   ]
  },
  {
   "cell_type": "code",
   "execution_count": null,
   "metadata": {},
   "outputs": [],
   "source": [
    "from sklearn.cross_decomposition import PLSCanonical, PLSRegression\n",
    "\n",
    "x, y = align_indexes(rotu_rabund[x_taxa], motu_rabund[y_taxa])\n",
    "pls = PLSCanonical(n_components=min(*x.shape, *y.shape), scale=False, tol=1e-7).fit(\n",
    "    x, y\n",
    ")"
   ]
  },
  {
   "cell_type": "code",
   "execution_count": null,
   "metadata": {},
   "outputs": [],
   "source": [
    "pseudo_map = pd.DataFrame(\n",
    "    (pls.y_rotations_ @ pls.x_rotations_.T), index=y.columns, columns=x.columns\n",
    ")\n",
    "pseudo_map.shape"
   ]
  },
  {
   "cell_type": "code",
   "execution_count": null,
   "metadata": {},
   "outputs": [],
   "source": [
    "plt.hist(pseudo_map.values.flatten(), bins=1000)\n",
    "plt.yscale(\"log\")\n",
    "None"
   ]
  },
  {
   "cell_type": "code",
   "execution_count": null,
   "metadata": {},
   "outputs": [],
   "source": [
    "cross_correlation = pd.DataFrame(\n",
    "    1\n",
    "    - sp.spatial.distance.cdist(\n",
    "        x.T, y.T, metric=lambda x, y: 1 - sp.stats.spearmanr(x, y)[0]\n",
    "    ),\n",
    "    columns=y.columns,\n",
    "    index=x.columns,\n",
    ")"
   ]
  },
  {
   "cell_type": "code",
   "execution_count": null,
   "metadata": {},
   "outputs": [],
   "source": [
    "sns.clustermap(\n",
    "    pseudo_map.fillna(0).T, center=0, figsize=(5, 5), xticklabels=1, yticklabels=1\n",
    ")\n",
    "sns.clustermap(\n",
    "    cross_correlation.fillna(0), center=0, figsize=(5, 5), xticklabels=1, yticklabels=1\n",
    ")"
   ]
  },
  {
   "cell_type": "code",
   "execution_count": null,
   "metadata": {},
   "outputs": [],
   "source": [
    "d = pd.DataFrame(\n",
    "    dict(\n",
    "        pls=pseudo_map.stack(),\n",
    "        cc=cross_correlation.T.stack(),\n",
    "        pls_rank_A=pseudo_map.rank(axis=0, ascending=False).stack(),\n",
    "        pls_rank_B=pseudo_map.rank(axis=1, ascending=False).stack(),\n",
    "        cc_rank_A=cross_correlation.T.rank(axis=0, ascending=False).stack(),\n",
    "        cc_rank_B=cross_correlation.T.rank(axis=1, ascending=False).stack(),\n",
    "    )\n",
    ")"
   ]
  },
  {
   "cell_type": "code",
   "execution_count": null,
   "metadata": {},
   "outputs": [],
   "source": [
    "(\n",
    "    d.reorder_levels([\"zotu\", \"species_id\"])\n",
    "    .loc[focal_zotu]\n",
    "    .join(rotu_rabund[x_taxa].mean().rename(\"rotu_mean\"))\n",
    "    .join(motu_rabund[y_taxa].mean().rename(\"motu_mean\"))\n",
    "    .assign(pls_score=lambda x: x.pls * x.rotu_mean * x.motu_mean)\n",
    "    .sort_values(\"pls_score\", ascending=False)\n",
    "    .head(10)\n",
    "    .join(motu_taxonomy.s__)\n",
    ")"
   ]
  },
  {
   "cell_type": "markdown",
   "metadata": {},
   "source": [
    "#### Zotu25"
   ]
  },
  {
   "cell_type": "code",
   "execution_count": null,
   "metadata": {},
   "outputs": [],
   "source": [
    "focal_zotu = [\"Zotu25\"]\n",
    "\n",
    "(\n",
    "    d.reorder_levels([\"zotu\", \"species_id\"])\n",
    "    .loc[focal_zotu]\n",
    "    .join(rotu_rabund[x_taxa].mean().rename(\"rotu_mean\"))\n",
    "    .join(motu_rabund[y_taxa].mean().rename(\"motu_mean\"))\n",
    "    .assign(pls_score=lambda x: x.pls * x.rotu_mean * x.motu_mean)\n",
    "    .sort_values(\"pls_score\", ascending=False)\n",
    "    .head(10)\n",
    "    .join(motu_taxonomy.s__)\n",
    ")"
   ]
  },
  {
   "cell_type": "markdown",
   "metadata": {},
   "source": [
    "#### Zotu5"
   ]
  },
  {
   "cell_type": "code",
   "execution_count": null,
   "metadata": {},
   "outputs": [],
   "source": [
    "focal_zotu = [\"Zotu5\"]\n",
    "\n",
    "(\n",
    "    d.reorder_levels([\"zotu\", \"species_id\"])\n",
    "    .loc[focal_zotu]\n",
    "    .join(rotu_rabund[x_taxa].mean().rename(\"rotu_mean\"))\n",
    "    .join(motu_rabund[y_taxa].mean().rename(\"motu_mean\"))\n",
    "    .assign(pls_score=lambda x: x.pls * x.rotu_mean * x.motu_mean)\n",
    "    .sort_values(\"pls_score\", ascending=False)\n",
    "    .head(10)\n",
    "    .join(motu_taxonomy.s__)\n",
    ")"
   ]
  },
  {
   "cell_type": "markdown",
   "metadata": {},
   "source": [
    "#### Zotu10"
   ]
  },
  {
   "cell_type": "code",
   "execution_count": null,
   "metadata": {},
   "outputs": [],
   "source": [
    "focal_zotu = [\"Zotu10\"]\n",
    "\n",
    "(\n",
    "    d.reorder_levels([\"zotu\", \"species_id\"])\n",
    "    .loc[focal_zotu]\n",
    "    .join(rotu_rabund[x_taxa].mean().rename(\"rotu_mean\"))\n",
    "    .join(motu_rabund[y_taxa].mean().rename(\"motu_mean\"))\n",
    "    .assign(pls_score=lambda x: x.pls * x.rotu_mean * x.motu_mean)\n",
    "    .sort_values(\"pls_score\", ascending=False)\n",
    "    .head(10)\n",
    "    .join(motu_taxonomy.s__)\n",
    ")"
   ]
  },
  {
   "cell_type": "markdown",
   "metadata": {},
   "source": [
    "#### Zotu160"
   ]
  },
  {
   "cell_type": "code",
   "execution_count": null,
   "metadata": {},
   "outputs": [],
   "source": [
    "focal_zotu = [\"Zotu160\"]\n",
    "\n",
    "(\n",
    "    d.reorder_levels([\"zotu\", \"species_id\"])\n",
    "    .loc[focal_zotu]\n",
    "    .join(rotu_rabund[x_taxa].mean().rename(\"rotu_mean\"))\n",
    "    .join(motu_rabund[y_taxa].mean().rename(\"motu_mean\"))\n",
    "    .assign(pls_score=lambda x: x.pls * x.rotu_mean * x.motu_mean)\n",
    "    .sort_values(\"pls_score\", ascending=False)\n",
    "    .head(10)\n",
    "    .join(motu_taxonomy.s__)\n",
    ")"
   ]
  },
  {
   "cell_type": "markdown",
   "metadata": {},
   "source": [
    "#### Zotu31"
   ]
  },
  {
   "cell_type": "code",
   "execution_count": null,
   "metadata": {},
   "outputs": [],
   "source": [
    "focal_zotu = [\"Zotu31\"]\n",
    "\n",
    "(\n",
    "    d.reorder_levels([\"zotu\", \"species_id\"])\n",
    "    .loc[focal_zotu]\n",
    "    .join(rotu_rabund[x_taxa].mean().rename(\"rotu_mean\"))\n",
    "    .join(motu_rabund[y_taxa].mean().rename(\"motu_mean\"))\n",
    "    .assign(pls_score=lambda x: x.pls * x.rotu_mean * x.motu_mean)\n",
    "    .sort_values(\"pls_score\", ascending=False)\n",
    "    .head(10)\n",
    "    .join(motu_taxonomy.s__)\n",
    ")"
   ]
  },
  {
   "cell_type": "markdown",
   "metadata": {},
   "source": [
    "#### Zotu155"
   ]
  },
  {
   "cell_type": "code",
   "execution_count": null,
   "metadata": {},
   "outputs": [],
   "source": [
    "focal_zotu = [\"Zotu155\"]\n",
    "\n",
    "(\n",
    "    d.reorder_levels([\"zotu\", \"species_id\"])\n",
    "    .loc[focal_zotu]\n",
    "    .join(rotu_rabund[x_taxa].mean().rename(\"rotu_mean\"))\n",
    "    .join(motu_rabund[y_taxa].mean().rename(\"motu_mean\"))\n",
    "    .assign(pls_score=lambda x: x.pls * x.rotu_mean * x.motu_mean)\n",
    "    .sort_values(\"pls_score\", ascending=False)\n",
    "    .head(10)\n",
    "    .join(motu_taxonomy.s__)\n",
    ")"
   ]
  },
  {
   "cell_type": "markdown",
   "metadata": {},
   "source": [
    "#### Zotu75"
   ]
  },
  {
   "cell_type": "code",
   "execution_count": null,
   "metadata": {},
   "outputs": [],
   "source": [
    "focal_zotu = [\"Zotu75\"]\n",
    "\n",
    "(\n",
    "    d.reorder_levels([\"zotu\", \"species_id\"])\n",
    "    .loc[focal_zotu]\n",
    "    .join(rotu_rabund[x_taxa].mean().rename(\"rotu_mean\"))\n",
    "    .join(motu_rabund[y_taxa].mean().rename(\"motu_mean\"))\n",
    "    .assign(pls_score=lambda x: x.pls * x.rotu_mean * x.motu_mean)\n",
    "    .sort_values(\"pls_score\", ascending=False)\n",
    "    .head(10)\n",
    "    .join(motu_taxonomy.s__)\n",
    ")"
   ]
  },
  {
   "cell_type": "markdown",
   "metadata": {},
   "source": [
    "#### Zotu13"
   ]
  },
  {
   "cell_type": "code",
   "execution_count": null,
   "metadata": {},
   "outputs": [],
   "source": [
    "focal_zotu = [\"Zotu13\"]\n",
    "\n",
    "(\n",
    "    d.reorder_levels([\"zotu\", \"species_id\"])\n",
    "    .loc[focal_zotu]\n",
    "    .join(rotu_rabund[x_taxa].mean().rename(\"rotu_mean\"))\n",
    "    .join(motu_rabund[y_taxa].mean().rename(\"motu_mean\"))\n",
    "    .assign(pls_score=lambda x: x.pls * x.rotu_mean * x.motu_mean)\n",
    "    .sort_values(\"pls_score\", ascending=False)\n",
    "    .head(10)\n",
    "    .join(motu_taxonomy.s__)\n",
    ")"
   ]
  },
  {
   "cell_type": "markdown",
   "metadata": {},
   "source": [
    "#### Zotu155"
   ]
  },
  {
   "cell_type": "code",
   "execution_count": null,
   "metadata": {},
   "outputs": [],
   "source": [
    "focal_zotu = [\"Zotu155\"]\n",
    "\n",
    "(\n",
    "    d.reorder_levels([\"zotu\", \"species_id\"])\n",
    "    .loc[focal_zotu]\n",
    "    .join(rotu_rabund[x_taxa].mean().rename(\"rotu_mean\"))\n",
    "    .join(motu_rabund[y_taxa].mean().rename(\"motu_mean\"))\n",
    "    .assign(pls_score=lambda x: x.pls * x.rotu_mean * x.motu_mean)\n",
    "    .sort_values(\"pls_score\", ascending=False)\n",
    "    .head(10)\n",
    "    .join(motu_taxonomy.s__)\n",
    ")"
   ]
  },
  {
   "cell_type": "markdown",
   "metadata": {},
   "source": [
    "#### Zotu27"
   ]
  },
  {
   "cell_type": "code",
   "execution_count": null,
   "metadata": {},
   "outputs": [],
   "source": [
    "focal_zotu = [\"Zotu27\"]\n",
    "\n",
    "(\n",
    "    d.reorder_levels([\"zotu\", \"species_id\"])\n",
    "    .loc[focal_zotu]\n",
    "    .join(rotu_rabund[x_taxa].mean().rename(\"rotu_mean\"))\n",
    "    .join(motu_rabund[y_taxa].mean().rename(\"motu_mean\"))\n",
    "    .assign(pls_score=lambda x: x.pls * x.rotu_mean * x.motu_mean)\n",
    "    .sort_values(\"pls_score\", ascending=False)\n",
    "    .head(10)\n",
    "    .join(motu_taxonomy.s__)\n",
    ")"
   ]
  },
  {
   "cell_type": "markdown",
   "metadata": {},
   "source": [
    "#### Zotu104"
   ]
  },
  {
   "cell_type": "code",
   "execution_count": null,
   "metadata": {},
   "outputs": [],
   "source": [
    "focal_zotu = [\"Zotu104\"]\n",
    "\n",
    "(\n",
    "    d.reorder_levels([\"zotu\", \"species_id\"])\n",
    "    .loc[focal_zotu]\n",
    "    .join(rotu_rabund[x_taxa].mean().rename(\"rotu_mean\"))\n",
    "    .join(motu_rabund[y_taxa].mean().rename(\"motu_mean\"))\n",
    "    .assign(pls_score=lambda x: x.pls * x.rotu_mean * x.motu_mean)\n",
    "    .sort_values(\"pls_score\", ascending=False)\n",
    "    .head(10)\n",
    "    .join(motu_taxonomy.s__)\n",
    ")"
   ]
  },
  {
   "cell_type": "markdown",
   "metadata": {},
   "source": [
    "##### Alternative zOTUs"
   ]
  },
  {
   "cell_type": "code",
   "execution_count": null,
   "metadata": {},
   "outputs": [],
   "source": [
    "(\n",
    "    d\n",
    "    .loc[['100205']]\n",
    "    .join(rotu_rabund[x_taxa].mean().rename(\"rotu_mean\"))\n",
    "    .join(motu_rabund[y_taxa].mean().rename(\"motu_mean\"))\n",
    "    .assign(pls_score=lambda x: x.pls * x.rotu_mean * x.motu_mean)\n",
    "    .sort_values(\"pls\", ascending=False)\n",
    "    .head(10)\n",
    "    .join(motu_taxonomy.s__)\n",
    ")"
   ]
  },
  {
   "cell_type": "markdown",
   "metadata": {},
   "source": [
    "#### Zotu167"
   ]
  },
  {
   "cell_type": "code",
   "execution_count": null,
   "metadata": {},
   "outputs": [],
   "source": [
    "focal_zotu = [\"Zotu167\"]\n",
    "\n",
    "(\n",
    "    d.reorder_levels([\"zotu\", \"species_id\"])\n",
    "    .loc[focal_zotu]\n",
    "    .join(rotu_rabund[x_taxa].mean().rename(\"rotu_mean\"))\n",
    "    .join(motu_rabund[y_taxa].mean().rename(\"motu_mean\"))\n",
    "    .assign(pls_score=lambda x: x.pls * x.rotu_mean * x.motu_mean)\n",
    "    .sort_values(\"cc\", ascending=False)\n",
    "    .head(10)\n",
    "    .join(motu_taxonomy.s__)\n",
    ")"
   ]
  },
  {
   "cell_type": "markdown",
   "metadata": {},
   "source": [
    "#### Zotu26"
   ]
  },
  {
   "cell_type": "code",
   "execution_count": null,
   "metadata": {},
   "outputs": [],
   "source": [
    "focal_zotu = [\"Zotu26\"]\n",
    "\n",
    "(\n",
    "    d.reorder_levels([\"zotu\", \"species_id\"])\n",
    "    .loc[focal_zotu]\n",
    "    .join(rotu_rabund[x_taxa].mean().rename(\"rotu_mean\"))\n",
    "    .join(motu_rabund[y_taxa].mean().rename(\"motu_mean\"))\n",
    "    .assign(pls_score=lambda x: x.pls * x.rotu_mean * x.motu_mean)\n",
    "    .sort_values(\"pls_score\", ascending=False)\n",
    "    .head(10)\n",
    "    .join(motu_taxonomy.s__)\n",
    ")"
   ]
  },
  {
   "cell_type": "code",
   "execution_count": null,
   "metadata": {},
   "outputs": [],
   "source": [
    "focal_zotu = [\"Zotu100\"]\n",
    "focal_family_list = rotu_taxonomy.loc[focal_zotu].str.split(\";\").str[-3].unique()\n",
    "assert len(focal_family_list) == 1\n",
    "focal_family = focal_family_list[0]\n",
    "print(focal_family)"
   ]
  },
  {
   "cell_type": "markdown",
   "metadata": {},
   "source": [
    "### \"Erysipelatoclostridiaceae\" (Zotu46)"
   ]
  },
  {
   "cell_type": "code",
   "execution_count": null,
   "metadata": {},
   "outputs": [],
   "source": [
    "focal_zotu = [\"Zotu46\"]\n",
    "focal_family_list = rotu_taxonomy.loc[focal_zotu].str.split(\";\").str[-3].unique()\n",
    "assert len(focal_family_list) == 1\n",
    "focal_family = focal_family_list[0]\n",
    "print(focal_family)"
   ]
  },
  {
   "cell_type": "code",
   "execution_count": null,
   "metadata": {},
   "outputs": [],
   "source": [
    "x_taxa = idxwhere(rotu_taxonomy.str.contains(f\";{focal_family};\"))\n",
    "y_taxa = idxwhere(\n",
    "    motu_taxonomy.apply(lambda x: \";\".join(x), axis=1).str.contains(\n",
    "        f\"f__{focal_family};\"\n",
    "    )\n",
    "    & motu_taxonomy.index.to_series().isin(motu_rabund.columns)\n",
    ")"
   ]
  },
  {
   "cell_type": "code",
   "execution_count": null,
   "metadata": {},
   "outputs": [],
   "source": [
    "rotu_taxonomy.loc[x_taxa].reset_index().values"
   ]
  },
  {
   "cell_type": "code",
   "execution_count": null,
   "metadata": {},
   "outputs": [],
   "source": [
    "motu_taxonomy.loc[y_taxa]"
   ]
  },
  {
   "cell_type": "code",
   "execution_count": null,
   "metadata": {},
   "outputs": [],
   "source": [
    "from sklearn.cross_decomposition import PLSCanonical, PLSRegression\n",
    "\n",
    "x, y = align_indexes(rotu_rabund[x_taxa], motu_rabund[y_taxa])\n",
    "pls = PLSCanonical(n_components=min(*x.shape, *y.shape), scale=False, tol=1e-7).fit(\n",
    "    x, y\n",
    ")"
   ]
  },
  {
   "cell_type": "code",
   "execution_count": null,
   "metadata": {},
   "outputs": [],
   "source": [
    "pseudo_map = pd.DataFrame(\n",
    "    (pls.y_rotations_ @ pls.x_rotations_.T), index=y.columns, columns=x.columns\n",
    ")\n",
    "pseudo_map.shape"
   ]
  },
  {
   "cell_type": "code",
   "execution_count": null,
   "metadata": {},
   "outputs": [],
   "source": [
    "plt.hist(pseudo_map.values.flatten(), bins=1000)\n",
    "plt.yscale(\"log\")\n",
    "None"
   ]
  },
  {
   "cell_type": "code",
   "execution_count": null,
   "metadata": {},
   "outputs": [],
   "source": [
    "cross_correlation = pd.DataFrame(\n",
    "    1\n",
    "    - sp.spatial.distance.cdist(\n",
    "        x.T, y.T, metric=lambda x, y: 1 - sp.stats.spearmanr(x, y)[0]\n",
    "    ),\n",
    "    columns=y.columns,\n",
    "    index=x.columns,\n",
    ")"
   ]
  },
  {
   "cell_type": "code",
   "execution_count": null,
   "metadata": {},
   "outputs": [],
   "source": [
    "sns.clustermap(\n",
    "    pseudo_map.fillna(0).T, center=0, figsize=(5, 5), xticklabels=1, yticklabels=1\n",
    ")\n",
    "sns.clustermap(\n",
    "    cross_correlation.fillna(0), center=0, figsize=(5, 5), xticklabels=1, yticklabels=1\n",
    ")"
   ]
  },
  {
   "cell_type": "code",
   "execution_count": null,
   "metadata": {},
   "outputs": [],
   "source": [
    "d = pd.DataFrame(\n",
    "    dict(\n",
    "        pls=pseudo_map.stack(),\n",
    "        cc=cross_correlation.T.stack(),\n",
    "        pls_rank_A=pseudo_map.rank(axis=0, ascending=False).stack(),\n",
    "        pls_rank_B=pseudo_map.rank(axis=1, ascending=False).stack(),\n",
    "        cc_rank_A=cross_correlation.T.rank(axis=0, ascending=False).stack(),\n",
    "        cc_rank_B=cross_correlation.T.rank(axis=1, ascending=False).stack(),\n",
    "    )\n",
    ")"
   ]
  },
  {
   "cell_type": "code",
   "execution_count": null,
   "metadata": {},
   "outputs": [],
   "source": [
    "(\n",
    "    d.reorder_levels([\"zotu\", \"species_id\"])\n",
    "    .loc[focal_zotu]\n",
    "    .join(rotu_rabund[x_taxa].mean().rename(\"rotu_mean\"))\n",
    "    .join(motu_rabund[y_taxa].mean().rename(\"motu_mean\"))\n",
    "    .assign(pls_score=lambda x: x.pls * x.rotu_mean * x.motu_mean)\n",
    "    .sort_values(\"pls_score\", ascending=False)\n",
    "    .head(10)\n",
    "    .join(motu_taxonomy.s__)\n",
    ")"
   ]
  },
  {
   "cell_type": "markdown",
   "metadata": {},
   "source": [
    "### \"Oscillospiraceae\" (Zotu49)"
   ]
  },
  {
   "cell_type": "code",
   "execution_count": null,
   "metadata": {},
   "outputs": [],
   "source": [
    "focal_zotu = [\"Zotu49\"]\n",
    "focal_family_list = rotu_taxonomy.loc[focal_zotu].str.split(\";\").str[-3].unique()\n",
    "assert len(focal_family_list) == 1\n",
    "focal_family = focal_family_list[0]\n",
    "print(focal_family)"
   ]
  },
  {
   "cell_type": "code",
   "execution_count": null,
   "metadata": {},
   "outputs": [],
   "source": [
    "x_taxa = idxwhere(rotu_taxonomy.str.contains(f\";{focal_family};\"))\n",
    "y_taxa = idxwhere(\n",
    "    motu_taxonomy.apply(lambda x: \";\".join(x), axis=1).str.contains(\n",
    "        f\"f__{focal_family};\"\n",
    "    )\n",
    "    & motu_taxonomy.index.to_series().isin(motu_rabund.columns)\n",
    ")"
   ]
  },
  {
   "cell_type": "code",
   "execution_count": null,
   "metadata": {},
   "outputs": [],
   "source": [
    "rotu_taxonomy.loc[x_taxa].reset_index().values"
   ]
  },
  {
   "cell_type": "code",
   "execution_count": null,
   "metadata": {},
   "outputs": [],
   "source": [
    "motu_taxonomy.loc[y_taxa]"
   ]
  },
  {
   "cell_type": "code",
   "execution_count": null,
   "metadata": {},
   "outputs": [],
   "source": [
    "from sklearn.cross_decomposition import PLSCanonical, PLSRegression\n",
    "\n",
    "x, y = align_indexes(rotu_rabund[x_taxa], motu_rabund[y_taxa])\n",
    "pls = PLSCanonical(n_components=min(*x.shape, *y.shape), scale=False, tol=1e-7).fit(\n",
    "    x, y\n",
    ")"
   ]
  },
  {
   "cell_type": "code",
   "execution_count": null,
   "metadata": {},
   "outputs": [],
   "source": [
    "pseudo_map = pd.DataFrame(\n",
    "    (pls.y_rotations_ @ pls.x_rotations_.T), index=y.columns, columns=x.columns\n",
    ")\n",
    "pseudo_map.shape"
   ]
  },
  {
   "cell_type": "code",
   "execution_count": null,
   "metadata": {},
   "outputs": [],
   "source": [
    "plt.hist(pseudo_map.values.flatten(), bins=1000)\n",
    "plt.yscale(\"log\")\n",
    "None"
   ]
  },
  {
   "cell_type": "code",
   "execution_count": null,
   "metadata": {},
   "outputs": [],
   "source": [
    "cross_correlation = pd.DataFrame(\n",
    "    1\n",
    "    - sp.spatial.distance.cdist(\n",
    "        x.T, y.T, metric=lambda x, y: 1 - sp.stats.spearmanr(x, y)[0]\n",
    "    ),\n",
    "    columns=y.columns,\n",
    "    index=x.columns,\n",
    ")"
   ]
  },
  {
   "cell_type": "code",
   "execution_count": null,
   "metadata": {},
   "outputs": [],
   "source": [
    "sns.clustermap(\n",
    "    pseudo_map.fillna(0).T, center=0, figsize=(5, 5), xticklabels=1, yticklabels=1\n",
    ")\n",
    "sns.clustermap(\n",
    "    cross_correlation.fillna(0), center=0, figsize=(5, 5), xticklabels=1, yticklabels=1\n",
    ")"
   ]
  },
  {
   "cell_type": "code",
   "execution_count": null,
   "metadata": {},
   "outputs": [],
   "source": [
    "d = pd.DataFrame(\n",
    "    dict(\n",
    "        pls=pseudo_map.stack(),\n",
    "        cc=cross_correlation.T.stack(),\n",
    "        pls_rank_A=pseudo_map.rank(axis=0, ascending=False).stack(),\n",
    "        pls_rank_B=pseudo_map.rank(axis=1, ascending=False).stack(),\n",
    "        cc_rank_A=cross_correlation.T.rank(axis=0, ascending=False).stack(),\n",
    "        cc_rank_B=cross_correlation.T.rank(axis=1, ascending=False).stack(),\n",
    "    )\n",
    ")"
   ]
  },
  {
   "cell_type": "code",
   "execution_count": null,
   "metadata": {},
   "outputs": [],
   "source": [
    "(\n",
    "    d.reorder_levels([\"zotu\", \"species_id\"])\n",
    "    .loc[focal_zotu]\n",
    "    .join(rotu_rabund[x_taxa].mean().rename(\"rotu_mean\"))\n",
    "    .join(motu_rabund[y_taxa].mean().rename(\"motu_mean\"))\n",
    "    .assign(pls_score=lambda x: x.pls * x.rotu_mean * x.motu_mean)\n",
    "    .sort_values(\"pls_score\", ascending=False)\n",
    "    .head(10)\n",
    "    .join(motu_taxonomy.s__)\n",
    ")"
   ]
  },
  {
   "cell_type": "markdown",
   "metadata": {},
   "source": [
    "### \"Erysipelotrichaceae\" (Zotu34)"
   ]
  },
  {
   "cell_type": "code",
   "execution_count": null,
   "metadata": {},
   "outputs": [],
   "source": [
    "focal_zotu = [\"Zotu34\"]\n",
    "focal_family_list = rotu_taxonomy.loc[focal_zotu].str.split(\";\").str[-3].unique()\n",
    "assert len(focal_family_list) == 1\n",
    "focal_family = focal_family_list[0]\n",
    "print(focal_family)"
   ]
  },
  {
   "cell_type": "code",
   "execution_count": null,
   "metadata": {},
   "outputs": [],
   "source": [
    "x_taxa = idxwhere(rotu_taxonomy.str.contains(f\";{focal_family};\"))\n",
    "y_taxa = idxwhere(\n",
    "    motu_taxonomy.apply(lambda x: \";\".join(x), axis=1).str.contains(\n",
    "        f\"f__{focal_family};\"\n",
    "    )\n",
    "    & motu_taxonomy.index.to_series().isin(motu_rabund.columns)\n",
    ")"
   ]
  },
  {
   "cell_type": "code",
   "execution_count": null,
   "metadata": {},
   "outputs": [],
   "source": [
    "rotu_taxonomy.loc[x_taxa].reset_index().values"
   ]
  },
  {
   "cell_type": "code",
   "execution_count": null,
   "metadata": {},
   "outputs": [],
   "source": [
    "motu_taxonomy.loc[y_taxa]"
   ]
  },
  {
   "cell_type": "code",
   "execution_count": null,
   "metadata": {},
   "outputs": [],
   "source": [
    "from sklearn.cross_decomposition import PLSCanonical, PLSRegression\n",
    "\n",
    "x, y = align_indexes(rotu_rabund[x_taxa], motu_rabund[y_taxa])\n",
    "pls = PLSCanonical(n_components=min(*x.shape, *y.shape), scale=False, tol=1e-7).fit(\n",
    "    x, y\n",
    ")"
   ]
  },
  {
   "cell_type": "code",
   "execution_count": null,
   "metadata": {},
   "outputs": [],
   "source": [
    "pseudo_map = pd.DataFrame(\n",
    "    (pls.y_rotations_ @ pls.x_rotations_.T), index=y.columns, columns=x.columns\n",
    ")\n",
    "pseudo_map.shape"
   ]
  },
  {
   "cell_type": "code",
   "execution_count": null,
   "metadata": {},
   "outputs": [],
   "source": [
    "plt.hist(pseudo_map.values.flatten(), bins=1000)\n",
    "plt.yscale(\"log\")\n",
    "None"
   ]
  },
  {
   "cell_type": "code",
   "execution_count": null,
   "metadata": {},
   "outputs": [],
   "source": [
    "cross_correlation = pd.DataFrame(\n",
    "    1\n",
    "    - sp.spatial.distance.cdist(\n",
    "        x.T, y.T, metric=lambda x, y: 1 - sp.stats.spearmanr(x, y)[0]\n",
    "    ),\n",
    "    columns=y.columns,\n",
    "    index=x.columns,\n",
    ")"
   ]
  },
  {
   "cell_type": "code",
   "execution_count": null,
   "metadata": {},
   "outputs": [],
   "source": [
    "sns.clustermap(\n",
    "    pseudo_map.fillna(0).T, center=0, figsize=(5, 5), xticklabels=1, yticklabels=1\n",
    ")\n",
    "sns.clustermap(\n",
    "    cross_correlation.fillna(0), center=0, figsize=(5, 5), xticklabels=1, yticklabels=1\n",
    ")"
   ]
  },
  {
   "cell_type": "code",
   "execution_count": null,
   "metadata": {},
   "outputs": [],
   "source": [
    "d = pd.DataFrame(\n",
    "    dict(\n",
    "        pls=pseudo_map.stack(),\n",
    "        cc=cross_correlation.T.stack(),\n",
    "        pls_rank_A=pseudo_map.rank(axis=0, ascending=False).stack(),\n",
    "        pls_rank_B=pseudo_map.rank(axis=1, ascending=False).stack(),\n",
    "        cc_rank_A=cross_correlation.T.rank(axis=0, ascending=False).stack(),\n",
    "        cc_rank_B=cross_correlation.T.rank(axis=1, ascending=False).stack(),\n",
    "    )\n",
    ")"
   ]
  },
  {
   "cell_type": "code",
   "execution_count": null,
   "metadata": {},
   "outputs": [],
   "source": [
    "(\n",
    "    d.reorder_levels([\"zotu\", \"species_id\"])\n",
    "    .loc[focal_zotu]\n",
    "    .join(rotu_rabund[x_taxa].mean().rename(\"rotu_mean\"))\n",
    "    .join(motu_rabund[y_taxa].mean().rename(\"motu_mean\"))\n",
    "    .assign(pls_score=lambda x: x.pls * x.rotu_mean * x.motu_mean)\n",
    "    .sort_values(\"pls_score\", ascending=False)\n",
    "    .head(10)\n",
    "    .join(motu_taxonomy.s__)\n",
    ")"
   ]
  },
  {
   "cell_type": "markdown",
   "metadata": {},
   "source": [
    "### \"Ruminococcaceae\""
   ]
  },
  {
   "cell_type": "markdown",
   "metadata": {},
   "source": [
    "#### Zotu78"
   ]
  },
  {
   "cell_type": "code",
   "execution_count": null,
   "metadata": {},
   "outputs": [],
   "source": [
    "focal_zotu = [\"Zotu78\"]\n",
    "focal_family_list = rotu_taxonomy.loc[focal_zotu].str.split(\";\").str[-3].unique()\n",
    "assert len(focal_family_list) == 1\n",
    "focal_family = focal_family_list[0]\n",
    "print(focal_family)"
   ]
  },
  {
   "cell_type": "code",
   "execution_count": null,
   "metadata": {},
   "outputs": [],
   "source": [
    "x_taxa = idxwhere(rotu_taxonomy.str.contains(f\";{focal_family};\"))\n",
    "y_taxa = idxwhere(\n",
    "    motu_taxonomy.apply(lambda x: \";\".join(x), axis=1).str.contains(\n",
    "        f\"f__{focal_family};\"\n",
    "    )\n",
    "    & motu_taxonomy.index.to_series().isin(motu_rabund.columns)\n",
    ")"
   ]
  },
  {
   "cell_type": "code",
   "execution_count": null,
   "metadata": {},
   "outputs": [],
   "source": [
    "rotu_taxonomy.loc[x_taxa].reset_index().values"
   ]
  },
  {
   "cell_type": "code",
   "execution_count": null,
   "metadata": {},
   "outputs": [],
   "source": [
    "motu_taxonomy.loc[y_taxa]"
   ]
  },
  {
   "cell_type": "code",
   "execution_count": null,
   "metadata": {},
   "outputs": [],
   "source": [
    "from sklearn.cross_decomposition import PLSCanonical, PLSRegression\n",
    "\n",
    "x, y = align_indexes(rotu_rabund[x_taxa], motu_rabund[y_taxa])\n",
    "pls = PLSCanonical(n_components=min(*x.shape, *y.shape), scale=False, tol=1e-7).fit(\n",
    "    x, y\n",
    ")"
   ]
  },
  {
   "cell_type": "code",
   "execution_count": null,
   "metadata": {},
   "outputs": [],
   "source": [
    "pseudo_map = pd.DataFrame(\n",
    "    (pls.y_rotations_ @ pls.x_rotations_.T), index=y.columns, columns=x.columns\n",
    ")\n",
    "pseudo_map.shape"
   ]
  },
  {
   "cell_type": "code",
   "execution_count": null,
   "metadata": {},
   "outputs": [],
   "source": [
    "plt.hist(pseudo_map.values.flatten(), bins=1000)\n",
    "plt.yscale(\"log\")\n",
    "None"
   ]
  },
  {
   "cell_type": "code",
   "execution_count": null,
   "metadata": {},
   "outputs": [],
   "source": [
    "cross_correlation = pd.DataFrame(\n",
    "    1\n",
    "    - sp.spatial.distance.cdist(\n",
    "        x.T, y.T, metric=lambda x, y: 1 - sp.stats.spearmanr(x, y)[0]\n",
    "    ),\n",
    "    columns=y.columns,\n",
    "    index=x.columns,\n",
    ")"
   ]
  },
  {
   "cell_type": "code",
   "execution_count": null,
   "metadata": {},
   "outputs": [],
   "source": [
    "sns.clustermap(\n",
    "    pseudo_map.fillna(0).T, center=0, figsize=(5, 5), xticklabels=1, yticklabels=1\n",
    ")\n",
    "sns.clustermap(\n",
    "    cross_correlation.fillna(0), center=0, figsize=(5, 5), xticklabels=1, yticklabels=1\n",
    ")"
   ]
  },
  {
   "cell_type": "code",
   "execution_count": null,
   "metadata": {},
   "outputs": [],
   "source": [
    "d = pd.DataFrame(\n",
    "    dict(\n",
    "        pls=pseudo_map.stack(),\n",
    "        cc=cross_correlation.T.stack(),\n",
    "        pls_rank_A=pseudo_map.rank(axis=0, ascending=False).stack(),\n",
    "        pls_rank_B=pseudo_map.rank(axis=1, ascending=False).stack(),\n",
    "        cc_rank_A=cross_correlation.T.rank(axis=0, ascending=False).stack(),\n",
    "        cc_rank_B=cross_correlation.T.rank(axis=1, ascending=False).stack(),\n",
    "    )\n",
    ")"
   ]
  },
  {
   "cell_type": "code",
   "execution_count": null,
   "metadata": {},
   "outputs": [],
   "source": [
    "(\n",
    "    d.reorder_levels([\"zotu\", \"species_id\"])\n",
    "    .loc[focal_zotu]\n",
    "    .join(rotu_rabund[x_taxa].mean().rename(\"rotu_mean\"))\n",
    "    .join(motu_rabund[y_taxa].mean().rename(\"motu_mean\"))\n",
    "    .assign(pls_score=lambda x: x.pls * x.rotu_mean * x.motu_mean)\n",
    "    .sort_values(\"pls_score\", ascending=False)\n",
    "    .head(10)\n",
    "    .join(motu_taxonomy.s__)\n",
    ")"
   ]
  },
  {
   "cell_type": "markdown",
   "metadata": {},
   "source": [
    "#### Zotu16"
   ]
  },
  {
   "cell_type": "code",
   "execution_count": null,
   "metadata": {},
   "outputs": [],
   "source": [
    "focal_zotu = [\"Zotu16\"]\n",
    "(\n",
    "    d.reorder_levels([\"zotu\", \"species_id\"])\n",
    "    .loc[focal_zotu]\n",
    "    .join(rotu_rabund[x_taxa].mean().rename(\"rotu_mean\"))\n",
    "    .join(motu_rabund[y_taxa].mean().rename(\"motu_mean\"))\n",
    "    .assign(pls_score=lambda x: x.pls * x.rotu_mean * x.motu_mean)\n",
    "    .sort_values(\"pls_score\", ascending=False)\n",
    "    .head(10)\n",
    "    .join(motu_taxonomy.s__)\n",
    ")"
   ]
  },
  {
   "cell_type": "code",
   "execution_count": null,
   "metadata": {},
   "outputs": [],
   "source": [
    "motu_taxonomy.g__.loc['102040']"
   ]
  },
  {
   "cell_type": "markdown",
   "metadata": {},
   "source": [
    "#### Zotu9"
   ]
  },
  {
   "cell_type": "code",
   "execution_count": null,
   "metadata": {},
   "outputs": [],
   "source": [
    "focal_zotu = [\"Zotu9\"]\n",
    "(\n",
    "    d.reorder_levels([\"zotu\", \"species_id\"])\n",
    "    .loc[focal_zotu]\n",
    "    .join(rotu_rabund[x_taxa].mean().rename(\"rotu_mean\"))\n",
    "    .join(motu_rabund[y_taxa].mean().rename(\"motu_mean\"))\n",
    "    .assign(pls_score=lambda x: x.pls * x.rotu_mean * x.motu_mean)\n",
    "    .sort_values(\"pls_score\", ascending=False)\n",
    "    .head(10)\n",
    "    .join(motu_taxonomy.s__)\n",
    ")"
   ]
  },
  {
   "cell_type": "code",
   "execution_count": null,
   "metadata": {},
   "outputs": [],
   "source": [
    "motu_taxonomy.loc['103166']"
   ]
  },
  {
   "cell_type": "markdown",
   "metadata": {},
   "source": [
    "### \"Oscillospiraceae\" (Zotu13)"
   ]
  },
  {
   "cell_type": "code",
   "execution_count": null,
   "metadata": {},
   "outputs": [],
   "source": [
    "focal_zotu = [\"Zotu13\"]\n",
    "focal_family_list = rotu_taxonomy.loc[focal_zotu].str.split(\";\").str[-3].unique()\n",
    "assert len(focal_family_list) == 1\n",
    "focal_family = focal_family_list[0]\n",
    "print(focal_family)"
   ]
  },
  {
   "cell_type": "code",
   "execution_count": null,
   "metadata": {},
   "outputs": [],
   "source": [
    "x_taxa = idxwhere(rotu_taxonomy.str.contains(f\";{focal_family};\"))\n",
    "y_taxa = idxwhere(\n",
    "    motu_taxonomy.apply(lambda x: \";\".join(x), axis=1).str.contains(\n",
    "        f\"f__{focal_family};\"\n",
    "    )\n",
    "    & motu_taxonomy.index.to_series().isin(motu_rabund.columns)\n",
    ")"
   ]
  },
  {
   "cell_type": "code",
   "execution_count": null,
   "metadata": {},
   "outputs": [],
   "source": [
    "rotu_taxonomy.loc[x_taxa].reset_index().values"
   ]
  },
  {
   "cell_type": "code",
   "execution_count": null,
   "metadata": {},
   "outputs": [],
   "source": [
    "motu_taxonomy.loc[y_taxa]"
   ]
  },
  {
   "cell_type": "code",
   "execution_count": null,
   "metadata": {},
   "outputs": [],
   "source": [
    "from sklearn.cross_decomposition import PLSCanonical, PLSRegression\n",
    "\n",
    "x, y = align_indexes(rotu_rabund[x_taxa], motu_rabund[y_taxa])\n",
    "pls = PLSCanonical(n_components=min(*x.shape, *y.shape), scale=False, tol=1e-7).fit(\n",
    "    x, y\n",
    ")"
   ]
  },
  {
   "cell_type": "code",
   "execution_count": null,
   "metadata": {},
   "outputs": [],
   "source": [
    "pseudo_map = pd.DataFrame(\n",
    "    (pls.y_rotations_ @ pls.x_rotations_.T), index=y.columns, columns=x.columns\n",
    ")\n",
    "pseudo_map.shape"
   ]
  },
  {
   "cell_type": "code",
   "execution_count": null,
   "metadata": {},
   "outputs": [],
   "source": [
    "plt.hist(pseudo_map.values.flatten(), bins=1000)\n",
    "plt.yscale(\"log\")\n",
    "None"
   ]
  },
  {
   "cell_type": "code",
   "execution_count": null,
   "metadata": {},
   "outputs": [],
   "source": [
    "cross_correlation = pd.DataFrame(\n",
    "    1\n",
    "    - sp.spatial.distance.cdist(\n",
    "        x.T, y.T, metric=lambda x, y: 1 - sp.stats.spearmanr(x, y)[0]\n",
    "    ),\n",
    "    columns=y.columns,\n",
    "    index=x.columns,\n",
    ")"
   ]
  },
  {
   "cell_type": "code",
   "execution_count": null,
   "metadata": {},
   "outputs": [],
   "source": [
    "sns.clustermap(\n",
    "    pseudo_map.fillna(0).T, center=0, figsize=(5, 5), xticklabels=1, yticklabels=1\n",
    ")\n",
    "sns.clustermap(\n",
    "    cross_correlation.fillna(0), center=0, figsize=(5, 5), xticklabels=1, yticklabels=1\n",
    ")"
   ]
  },
  {
   "cell_type": "code",
   "execution_count": null,
   "metadata": {},
   "outputs": [],
   "source": [
    "d = pd.DataFrame(\n",
    "    dict(\n",
    "        pls=pseudo_map.stack(),\n",
    "        cc=cross_correlation.T.stack(),\n",
    "        pls_rank_A=pseudo_map.rank(axis=0, ascending=False).stack(),\n",
    "        pls_rank_B=pseudo_map.rank(axis=1, ascending=False).stack(),\n",
    "        cc_rank_A=cross_correlation.T.rank(axis=0, ascending=False).stack(),\n",
    "        cc_rank_B=cross_correlation.T.rank(axis=1, ascending=False).stack(),\n",
    "    )\n",
    ")"
   ]
  },
  {
   "cell_type": "code",
   "execution_count": null,
   "metadata": {},
   "outputs": [],
   "source": [
    "(\n",
    "    d.reorder_levels([\"zotu\", \"species_id\"])\n",
    "    .loc[focal_zotu]\n",
    "    .join(rotu_rabund[x_taxa].mean().rename(\"rotu_mean\"))\n",
    "    .join(motu_rabund[y_taxa].mean().rename(\"motu_mean\"))\n",
    "    .assign(pls_score=lambda x: x.pls * x.rotu_mean * x.motu_mean)\n",
    "    .sort_values(\"pls_score\", ascending=False)\n",
    "    .head(10)\n",
    "    .join(motu_taxonomy.s__)\n",
    ")"
   ]
  },
  {
   "cell_type": "markdown",
   "metadata": {},
   "source": [
    "### \"Bacteroidaceae\""
   ]
  },
  {
   "cell_type": "markdown",
   "metadata": {},
   "source": [
    "####  Zotu74"
   ]
  },
  {
   "cell_type": "code",
   "execution_count": null,
   "metadata": {},
   "outputs": [],
   "source": [
    "focal_zotu = [\"Zotu74\"]\n",
    "focal_family_list = rotu_taxonomy.loc[focal_zotu].str.split(\";\").str[-3].unique()\n",
    "assert len(focal_family_list) == 1\n",
    "focal_family = focal_family_list[0]\n",
    "print(focal_family)"
   ]
  },
  {
   "cell_type": "code",
   "execution_count": null,
   "metadata": {},
   "outputs": [],
   "source": [
    "x_taxa = idxwhere(rotu_taxonomy.str.contains(f\";{focal_family};\"))\n",
    "y_taxa = idxwhere(\n",
    "    motu_taxonomy.apply(lambda x: \";\".join(x), axis=1).str.contains(\n",
    "        f\"f__{focal_family};\"\n",
    "    )\n",
    "    & motu_taxonomy.index.to_series().isin(motu_rabund.columns)\n",
    ")"
   ]
  },
  {
   "cell_type": "code",
   "execution_count": null,
   "metadata": {},
   "outputs": [],
   "source": [
    "rotu_taxonomy.loc[x_taxa].reset_index().values"
   ]
  },
  {
   "cell_type": "code",
   "execution_count": null,
   "metadata": {},
   "outputs": [],
   "source": [
    "motu_taxonomy.loc[y_taxa]"
   ]
  },
  {
   "cell_type": "code",
   "execution_count": null,
   "metadata": {},
   "outputs": [],
   "source": [
    "from sklearn.cross_decomposition import PLSCanonical, PLSRegression\n",
    "\n",
    "x, y = align_indexes(rotu_rabund[x_taxa], motu_rabund[y_taxa])\n",
    "pls = PLSCanonical(n_components=min(*x.shape, *y.shape), scale=False, tol=1e-7).fit(\n",
    "    x, y\n",
    ")"
   ]
  },
  {
   "cell_type": "code",
   "execution_count": null,
   "metadata": {},
   "outputs": [],
   "source": [
    "pseudo_map = pd.DataFrame(\n",
    "    (pls.y_rotations_ @ pls.x_rotations_.T), index=y.columns, columns=x.columns\n",
    ")\n",
    "pseudo_map.shape"
   ]
  },
  {
   "cell_type": "code",
   "execution_count": null,
   "metadata": {},
   "outputs": [],
   "source": [
    "plt.hist(pseudo_map.values.flatten(), bins=1000)\n",
    "plt.yscale(\"log\")\n",
    "None"
   ]
  },
  {
   "cell_type": "code",
   "execution_count": null,
   "metadata": {},
   "outputs": [],
   "source": [
    "cross_correlation = pd.DataFrame(\n",
    "    1\n",
    "    - sp.spatial.distance.cdist(\n",
    "        x.T, y.T, metric=lambda x, y: 1 - sp.stats.spearmanr(x, y)[0]\n",
    "    ),\n",
    "    columns=y.columns,\n",
    "    index=x.columns,\n",
    ")"
   ]
  },
  {
   "cell_type": "code",
   "execution_count": null,
   "metadata": {},
   "outputs": [],
   "source": [
    "sns.clustermap(\n",
    "    pseudo_map.fillna(0).T, center=0, figsize=(5, 5), xticklabels=1, yticklabels=1\n",
    ")\n",
    "sns.clustermap(\n",
    "    cross_correlation.fillna(0), center=0, figsize=(5, 5), xticklabels=1, yticklabels=1\n",
    ")"
   ]
  },
  {
   "cell_type": "code",
   "execution_count": null,
   "metadata": {},
   "outputs": [],
   "source": [
    "d = pd.DataFrame(\n",
    "    dict(\n",
    "        pls=pseudo_map.stack(),\n",
    "        cc=cross_correlation.T.stack(),\n",
    "        pls_rank_A=pseudo_map.rank(axis=0, ascending=False).stack(),\n",
    "        pls_rank_B=pseudo_map.rank(axis=1, ascending=False).stack(),\n",
    "        cc_rank_A=cross_correlation.T.rank(axis=0, ascending=False).stack(),\n",
    "        cc_rank_B=cross_correlation.T.rank(axis=1, ascending=False).stack(),\n",
    "    )\n",
    ")"
   ]
  },
  {
   "cell_type": "code",
   "execution_count": null,
   "metadata": {},
   "outputs": [],
   "source": [
    "(\n",
    "    d.reorder_levels([\"zotu\", \"species_id\"])\n",
    "    .loc[focal_zotu]\n",
    "    .join(rotu_rabund[x_taxa].mean().rename(\"rotu_mean\"))\n",
    "    .join(motu_rabund[y_taxa].mean().rename(\"motu_mean\"))\n",
    "    .assign(pls_score=lambda x: x.pls * x.rotu_mean * x.motu_mean)\n",
    "    .sort_values(\"pls_score\", ascending=False)\n",
    "    .head(10)\n",
    "    .join(motu_taxonomy.s__)\n",
    ")"
   ]
  },
  {
   "cell_type": "markdown",
   "metadata": {},
   "source": [
    "##### Deeper dive into alternative Zotus to the same species"
   ]
  },
  {
   "cell_type": "code",
   "execution_count": null,
   "metadata": {},
   "outputs": [],
   "source": [
    "(\n",
    "    d\n",
    "    .loc[['102549']]\n",
    "    .join(rotu_rabund[x_taxa].mean().rename(\"rotu_mean\"))\n",
    "    .join(motu_rabund[y_taxa].mean().rename(\"motu_mean\"))\n",
    "    .assign(pls_score=lambda x: x.pls * x.rotu_mean * x.motu_mean)\n",
    "    .sort_values(\"pls\", ascending=False)\n",
    "    .head(10)\n",
    "    .join(motu_taxonomy.s__)\n",
    ")"
   ]
  },
  {
   "cell_type": "markdown",
   "metadata": {},
   "source": [
    "#### Zotu6"
   ]
  },
  {
   "cell_type": "code",
   "execution_count": null,
   "metadata": {},
   "outputs": [],
   "source": [
    "focal_zotu = [\"Zotu6\"]\n",
    "(\n",
    "    d.reorder_levels([\"zotu\", \"species_id\"])\n",
    "    .loc[focal_zotu]\n",
    "    .join(rotu_rabund[x_taxa].mean().rename(\"rotu_mean\"))\n",
    "    .join(motu_rabund[y_taxa].mean().rename(\"motu_mean\"))\n",
    "    .assign(pls_score=lambda x: x.pls * x.rotu_mean * x.motu_mean)\n",
    "    .sort_values(\"pls_score\", ascending=False)\n",
    "    .head(10)\n",
    "    .join(motu_taxonomy.s__)\n",
    ")"
   ]
  },
  {
   "cell_type": "code",
   "execution_count": null,
   "metadata": {},
   "outputs": [],
   "source": [
    "motu_taxonomy[['g__', 's__']].loc['101346']"
   ]
  },
  {
   "cell_type": "markdown",
   "metadata": {},
   "source": [
    "#### Zotu12"
   ]
  },
  {
   "cell_type": "code",
   "execution_count": null,
   "metadata": {},
   "outputs": [],
   "source": [
    "focal_zotu = [\"Zotu12\"]\n",
    "(\n",
    "    d.reorder_levels([\"zotu\", \"species_id\"])\n",
    "    .loc[focal_zotu]\n",
    "    .join(rotu_rabund[x_taxa].mean().rename(\"rotu_mean\"))\n",
    "    .join(motu_rabund[y_taxa].mean().rename(\"motu_mean\"))\n",
    "    .assign(pls_score=lambda x: x.pls * x.rotu_mean * x.motu_mean)\n",
    "    .sort_values(\"pls_score\", ascending=False)\n",
    "    .head(10)\n",
    "    .join(motu_taxonomy.s__)\n",
    ")"
   ]
  },
  {
   "cell_type": "code",
   "execution_count": null,
   "metadata": {},
   "outputs": [],
   "source": [
    "motu_taxonomy[['g__', 's__']].loc['101337']"
   ]
  },
  {
   "cell_type": "markdown",
   "metadata": {},
   "source": [
    "#### 102478"
   ]
  },
  {
   "cell_type": "code",
   "execution_count": null,
   "metadata": {},
   "outputs": [],
   "source": [
    "focal_motu = '102478'\n",
    "\n",
    "print(motu_taxonomy.loc[focal_motu])\n",
    "\n",
    "(\n",
    "    d.reorder_levels([\"species_id\", \"zotu\"])\n",
    "    .join(rotu_rabund[x_taxa].mean().rename(\"rotu_mean\"))\n",
    "    .join(motu_rabund[y_taxa].mean().rename(\"motu_mean\"))\n",
    "    .assign(pls_score=lambda x: x.pls * x.rotu_mean * x.motu_mean)\n",
    "    .sort_values(\"pls_score\", ascending=False)\n",
    "    .join(rotu_taxonomy.str[-20:])\n",
    "    .loc[focal_motu]\n",
    ")"
   ]
  },
  {
   "cell_type": "markdown",
   "metadata": {},
   "source": [
    "#### 101378"
   ]
  },
  {
   "cell_type": "code",
   "execution_count": null,
   "metadata": {},
   "outputs": [],
   "source": [
    "focal_motu = '101378'\n",
    "\n",
    "print(motu_taxonomy.loc[focal_motu])\n",
    "\n",
    "(\n",
    "    d.reorder_levels([\"species_id\", \"zotu\"])\n",
    "    .join(rotu_rabund[x_taxa].mean().rename(\"rotu_mean\"))\n",
    "    .join(motu_rabund[y_taxa].mean().rename(\"motu_mean\"))\n",
    "    .assign(pls_score=lambda x: x.pls * x.rotu_mean * x.motu_mean)\n",
    "    .sort_values(\"pls_score\", ascending=False)\n",
    "    .join(rotu_taxonomy.str[-20:])\n",
    "    .loc[focal_motu]\n",
    ")"
   ]
  },
  {
   "cell_type": "code",
   "execution_count": null,
   "metadata": {},
   "outputs": [],
   "source": [
    "motu_taxonomy.loc[focal_motu]"
   ]
  },
  {
   "cell_type": "markdown",
   "metadata": {},
   "source": [
    "### \"Peptostreptococcaceae\" (Zotu100)"
   ]
  },
  {
   "cell_type": "code",
   "execution_count": null,
   "metadata": {},
   "outputs": [],
   "source": [
    "focal_zotu = [\"Zotu100\"]\n",
    "focal_family_list = rotu_taxonomy.loc[focal_zotu].str.split(\";\").str[-3].unique()\n",
    "assert len(focal_family_list) == 1\n",
    "focal_family = focal_family_list[0]\n",
    "print(focal_family)"
   ]
  },
  {
   "cell_type": "code",
   "execution_count": null,
   "metadata": {},
   "outputs": [],
   "source": [
    "x_taxa = idxwhere(rotu_taxonomy.str.contains(f\";{focal_family};\"))\n",
    "y_taxa = idxwhere(\n",
    "    motu_taxonomy.apply(lambda x: \";\".join(x), axis=1).str.contains(\n",
    "        f\"f__{focal_family};\"\n",
    "    )\n",
    "    & motu_taxonomy.index.to_series().isin(motu_rabund.columns)\n",
    ")"
   ]
  },
  {
   "cell_type": "code",
   "execution_count": null,
   "metadata": {},
   "outputs": [],
   "source": [
    "rotu_taxonomy.loc[x_taxa].reset_index().values"
   ]
  },
  {
   "cell_type": "code",
   "execution_count": null,
   "metadata": {},
   "outputs": [],
   "source": [
    "motu_taxonomy.loc[y_taxa]"
   ]
  },
  {
   "cell_type": "code",
   "execution_count": null,
   "metadata": {},
   "outputs": [],
   "source": [
    "from sklearn.cross_decomposition import PLSCanonical, PLSRegression\n",
    "\n",
    "x, y = align_indexes(rotu_rabund[x_taxa], motu_rabund[y_taxa])\n",
    "pls = PLSCanonical(n_components=min(*x.shape, *y.shape), scale=False, tol=1e-7).fit(\n",
    "    x, y\n",
    ")"
   ]
  },
  {
   "cell_type": "code",
   "execution_count": null,
   "metadata": {},
   "outputs": [],
   "source": [
    "pseudo_map = pd.DataFrame(\n",
    "    (pls.y_rotations_ @ pls.x_rotations_.T), index=y.columns, columns=x.columns\n",
    ")\n",
    "pseudo_map.shape"
   ]
  },
  {
   "cell_type": "code",
   "execution_count": null,
   "metadata": {},
   "outputs": [],
   "source": [
    "plt.hist(pseudo_map.values.flatten(), bins=1000)\n",
    "plt.yscale(\"log\")\n",
    "None"
   ]
  },
  {
   "cell_type": "code",
   "execution_count": null,
   "metadata": {},
   "outputs": [],
   "source": [
    "cross_correlation = pd.DataFrame(\n",
    "    1\n",
    "    - sp.spatial.distance.cdist(\n",
    "        x.T, y.T, metric=lambda x, y: 1 - sp.stats.spearmanr(x, y)[0]\n",
    "    ),\n",
    "    columns=y.columns,\n",
    "    index=x.columns,\n",
    ")"
   ]
  },
  {
   "cell_type": "code",
   "execution_count": null,
   "metadata": {},
   "outputs": [],
   "source": [
    "sns.clustermap(\n",
    "    pseudo_map.fillna(0).T, center=0, figsize=(5, 5), xticklabels=1, yticklabels=1\n",
    ")\n",
    "sns.clustermap(\n",
    "    cross_correlation.fillna(0), center=0, figsize=(5, 5), xticklabels=1, yticklabels=1\n",
    ")"
   ]
  },
  {
   "cell_type": "code",
   "execution_count": null,
   "metadata": {},
   "outputs": [],
   "source": [
    "d = pd.DataFrame(\n",
    "    dict(\n",
    "        pls=pseudo_map.stack(),\n",
    "        cc=cross_correlation.T.stack(),\n",
    "        pls_rank_A=pseudo_map.rank(axis=0, ascending=False).stack(),\n",
    "        pls_rank_B=pseudo_map.rank(axis=1, ascending=False).stack(),\n",
    "        cc_rank_A=cross_correlation.T.rank(axis=0, ascending=False).stack(),\n",
    "        cc_rank_B=cross_correlation.T.rank(axis=1, ascending=False).stack(),\n",
    "    )\n",
    ")"
   ]
  },
  {
   "cell_type": "code",
   "execution_count": null,
   "metadata": {},
   "outputs": [],
   "source": [
    "(\n",
    "    d.reorder_levels([\"zotu\", \"species_id\"])\n",
    "    .loc[focal_zotu]\n",
    "    .join(rotu_rabund[x_taxa].mean().rename(\"rotu_mean\"))\n",
    "    .join(motu_rabund[y_taxa].mean().rename(\"motu_mean\"))\n",
    "    .assign(pls_score=lambda x: x.pls * x.rotu_mean * x.motu_mean)\n",
    "    .sort_values(\"pls_score\", ascending=False)\n",
    "    .head(10)\n",
    "    .join(motu_taxonomy.s__)\n",
    ")"
   ]
  },
  {
   "cell_type": "markdown",
   "metadata": {},
   "source": [
    "### \"Enterococcaceae\" (100323)"
   ]
  },
  {
   "cell_type": "code",
   "execution_count": null,
   "metadata": {},
   "outputs": [],
   "source": [
    "focal_motu = [\"100323\"]\n",
    "focal_family_list = list(motu_taxonomy.loc[focal_motu].f__.str[3:].values)\n",
    "focal_family_list\n",
    "assert len(focal_family_list) == 1\n",
    "focal_family = focal_family_list[0]\n",
    "print(focal_family)"
   ]
  },
  {
   "cell_type": "code",
   "execution_count": null,
   "metadata": {},
   "outputs": [],
   "source": [
    "x_taxa = idxwhere(rotu_taxonomy.str.contains(f\";{focal_family};\"))\n",
    "y_taxa = idxwhere(\n",
    "    motu_taxonomy.apply(lambda x: \";\".join(x), axis=1).str.contains(\n",
    "        f\"f__{focal_family};\"\n",
    "    )\n",
    "    & motu_taxonomy.index.to_series().isin(motu_rabund.columns)\n",
    ")"
   ]
  },
  {
   "cell_type": "code",
   "execution_count": null,
   "metadata": {},
   "outputs": [],
   "source": [
    "rotu_taxonomy.loc[x_taxa].reset_index().values"
   ]
  },
  {
   "cell_type": "code",
   "execution_count": null,
   "metadata": {},
   "outputs": [],
   "source": [
    "motu_taxonomy.loc[y_taxa]"
   ]
  },
  {
   "cell_type": "code",
   "execution_count": null,
   "metadata": {},
   "outputs": [],
   "source": [
    "from sklearn.cross_decomposition import PLSCanonical, PLSRegression\n",
    "\n",
    "x, y = align_indexes(rotu_rabund[x_taxa], motu_rabund[y_taxa])\n",
    "pls = PLSCanonical(n_components=min(*x.shape, *y.shape), scale=False, tol=1e-7).fit(\n",
    "    x, y\n",
    ")"
   ]
  },
  {
   "cell_type": "code",
   "execution_count": null,
   "metadata": {},
   "outputs": [],
   "source": [
    "pseudo_map = pd.DataFrame(\n",
    "    (pls.y_rotations_ @ pls.x_rotations_.T), index=y.columns, columns=x.columns\n",
    ")\n",
    "pseudo_map.shape"
   ]
  },
  {
   "cell_type": "code",
   "execution_count": null,
   "metadata": {},
   "outputs": [],
   "source": [
    "plt.hist(pseudo_map.values.flatten(), bins=1000)\n",
    "plt.yscale(\"log\")\n",
    "None"
   ]
  },
  {
   "cell_type": "code",
   "execution_count": null,
   "metadata": {},
   "outputs": [],
   "source": [
    "cross_correlation = pd.DataFrame(\n",
    "    1\n",
    "    - sp.spatial.distance.cdist(\n",
    "        x.T, y.T, metric=lambda x, y: 1 - sp.stats.spearmanr(x, y)[0]\n",
    "    ),\n",
    "    columns=y.columns,\n",
    "    index=x.columns,\n",
    ")"
   ]
  },
  {
   "cell_type": "code",
   "execution_count": null,
   "metadata": {},
   "outputs": [],
   "source": [
    "sns.clustermap(\n",
    "    pseudo_map.fillna(0).T, center=0, figsize=(5, 5), xticklabels=1, yticklabels=1\n",
    ")\n",
    "sns.clustermap(\n",
    "    cross_correlation.fillna(0), center=0, figsize=(5, 5), xticklabels=1, yticklabels=1\n",
    ")"
   ]
  },
  {
   "cell_type": "code",
   "execution_count": null,
   "metadata": {},
   "outputs": [],
   "source": [
    "d = pd.DataFrame(\n",
    "    dict(\n",
    "        pls=pseudo_map.stack(),\n",
    "        cc=cross_correlation.T.stack(),\n",
    "        pls_rank_A=pseudo_map.rank(axis=0, ascending=False).stack(),\n",
    "        pls_rank_B=pseudo_map.rank(axis=1, ascending=False).stack(),\n",
    "        cc_rank_A=cross_correlation.T.rank(axis=0, ascending=False).stack(),\n",
    "        cc_rank_B=cross_correlation.T.rank(axis=1, ascending=False).stack(),\n",
    "    )\n",
    ")"
   ]
  },
  {
   "cell_type": "code",
   "execution_count": null,
   "metadata": {},
   "outputs": [],
   "source": [
    "(\n",
    "    d.reorder_levels([\"species_id\", \"zotu\"])\n",
    "    .join(rotu_rabund[x_taxa].mean().rename(\"rotu_mean\"))\n",
    "    .join(motu_rabund[y_taxa].mean().rename(\"motu_mean\"))\n",
    "    .assign(pls_score=lambda x: x.pls * x.rotu_mean * x.motu_mean)\n",
    "    .sort_values(\"pls_score\", ascending=False)\n",
    "    .join(rotu_taxonomy.str[-20:])\n",
    "    .loc[focal_motu]\n",
    ")"
   ]
  },
  {
   "cell_type": "markdown",
   "metadata": {},
   "source": [
    "## Focal Species Plots"
   ]
  },
  {
   "cell_type": "code",
   "execution_count": null,
   "metadata": {},
   "outputs": [],
   "source": [
    "def strains_in_subjects(\n",
    "    _species_rabund,\n",
    "    # _species_id,\n",
    "    _world,\n",
    "    _meta,\n",
    "    # _species_taxonomy=motu_taxonomy,\n",
    "    _species_rabundB=None,\n",
    "    savefig=False,\n",
    "    plt_mean_key=False,\n",
    "    subject_order=subject_order,\n",
    "    # _outpath_pattern=\"fig/een_{_species_name}_strain_tracking.pdf\",\n",
    "    ncols=2,\n",
    "    ax_width=7,\n",
    "    ax_height=4,\n",
    "):\n",
    "    # print(_species_taxonomy.loc[_species_id])\n",
    "    # _species_name = (\n",
    "    #     _species_taxonomy.loc[_species_id].s__[len(\"s__\") :].replace(\" \", \"_\")\n",
    "    # )\n",
    "    _frac = _world.drop_low_abundance_strains(0.05).community.to_pandas()\n",
    "\n",
    "    # # Arbitrarily ordered palette:\n",
    "    # _strain_list = list(_frac.columns)\n",
    "    # _strain_list.remove(-1)  # Drop \"other\" strain.\n",
    "    # strain_palette = lib.plot.construct_ordered_palette(_strain_list, cm=\"rainbow\")\n",
    "\n",
    "    # Genotype similarity ordered palette:\n",
    "    _world_drop_low_abund = _world.drop_low_abundance_strains(0.05)\n",
    "    _strain_list = list(\n",
    "        linkage_order(\n",
    "            _world_drop_low_abund.genotype.linkage(optimal_ordering=True),\n",
    "            _world_drop_low_abund.strain.values,\n",
    "        )\n",
    "    )\n",
    "    _strain_list.remove(-1)  # Drop \"other\" strain.\n",
    "    strain_palette = lib.plot.construct_ordered_palette(\n",
    "        _strain_list,\n",
    "        cm=\"rainbow\",\n",
    "    )\n",
    "\n",
    "    # # Construct an ordered palette, but use the order to AVOID closely correlated strains (e.g. found in the same subject)\n",
    "    # # showing up with similar colors.\n",
    "    # _strain_list = linkage_order(\n",
    "    #     sp.cluster.hierarchy.linkage(\n",
    "    #         _frac.groupby(meta.subject_id).mean().T,\n",
    "    #         method=\"average\",\n",
    "    #         metric=\"cosine\",\n",
    "    #         optimal_ordering=True,\n",
    "    #     ),\n",
    "    #     index=_frac.columns,\n",
    "    # )\n",
    "    # _strain_list.remove(-1)  # Drop \"other\" strain.\n",
    "    # strain_palette = lib.plot.construct_ordered_palette(\n",
    "    #     maximally_shuffled_order(\n",
    "    #         _strain_list\n",
    "    #     ),\n",
    "    #     cm=\"rainbow\",\n",
    "    # )\n",
    "\n",
    "    d0 = (\n",
    "        _meta.assign(\n",
    "            # has_strain_deconv=lambda x: x.index.isin(_comm.index),\n",
    "            species_rabund=_species_rabund,\n",
    "            species_rabundB=_species_rabundB,\n",
    "        )\n",
    "        .join(_frac)\n",
    "        .sort_values(\n",
    "            [\n",
    "                \"subject_id\",\n",
    "                \"collection_date_relative_een_end\",\n",
    "                \"sample_type\",\n",
    "                \"source_samples\",\n",
    "                \"diet_or_media\",\n",
    "                \"mouse_genotype\",\n",
    "                \"status_mouse_inflamed\",\n",
    "            ]\n",
    "        )\n",
    "    )\n",
    "    xlim = d0.subject_id.value_counts().max()\n",
    "\n",
    "    _here_subject_list = _meta.subject_id.unique()\n",
    "    _subject_order = [s for s in subject_order if s in _here_subject_list]\n",
    "    fig, axs = lib.plot.subplots_grid(\n",
    "        ncols=ncols,\n",
    "        naxes=len(_subject_order),\n",
    "        ax_width=ax_width,\n",
    "        ax_height=ax_height,\n",
    "    )\n",
    "    # fig.suptitle(_species_name)\n",
    "    for subject_id, ax in zip(_subject_order, axs.flatten()):\n",
    "        ax.set_title(subject_id)\n",
    "        twin_ax = ax.twinx()\n",
    "        d1 = d0[lambda x: x.subject_id == subject_id].set_index(\"label\")\n",
    "        if d1.empty:\n",
    "            continue\n",
    "        d1[[-1] + _strain_list].plot(\n",
    "            kind=\"bar\",\n",
    "            width=0.95,\n",
    "            stacked=True,\n",
    "            color=strain_palette,\n",
    "            ax=ax,\n",
    "            edgecolor=\"k\",\n",
    "            lw=0.5,\n",
    "        )\n",
    "        d1.species_rabund.plot(\n",
    "            kind=\"line\", ax=twin_ax, color=\"k\", marker=\".\", linestyle=\"-\"\n",
    "        )\n",
    "        if _species_rabundB is not None:\n",
    "            d1.species_rabundB.plot(\n",
    "                kind=\"line\", ax=twin_ax, color=\"midnightblue\", marker=\".\", linestyle=\":\"\n",
    "            )\n",
    "        ax.legend_.set_visible(False)\n",
    "        ax.set_ylim(0, 1)\n",
    "        ax.set_ylabel(\"strain fraction\")\n",
    "        ax.set_xlabel(\"\")\n",
    "        twin_ax.set_ylabel(\"species relative abundance\")\n",
    "        twin_ax.set_ylim(0)\n",
    "        lib.plot.rotate_xticklabels(ax)\n",
    "        ax.set_xlim(-0.5, xlim + 0.5)\n",
    "    fig.tight_layout()\n",
    "\n",
    "    if savefig:\n",
    "        fig.savefig(savefig)\n",
    "\n",
    "    # Plot colorbars for each subject showing strain abundances.\n",
    "    if plt_mean_key:\n",
    "        fig, ax = plt.subplots()\n",
    "        d2 = d0.groupby(\"subject_id\")[_frac.columns].mean().reindex(_subject_order)\n",
    "        d2[[-1] + _strain_list].plot(\n",
    "            kind=\"bar\",\n",
    "            width=0.95,\n",
    "            stacked=True,\n",
    "            color=strain_palette,\n",
    "            ax=ax,\n",
    "            edgecolor=\"k\",\n",
    "            lw=0.5,\n",
    "        )\n",
    "        ax.legend_.set_visible(False)"
   ]
  },
  {
   "cell_type": "code",
   "execution_count": null,
   "metadata": {},
   "outputs": [],
   "source": [
    "def compete_two_fits(_world0, _world1, plot_npos=1000, low_abund_thresh=0.05):\n",
    "    w0 = _world0.random_sample(\n",
    "        position=min(_world0.sizes[\"position\"], plot_npos)\n",
    "    ).drop_low_abundance_strains(low_abund_thresh)\n",
    "    w1 = _world1.sel(position=w0.position, sample=w0.sample).drop_low_abundance_strains(\n",
    "        0.05\n",
    "    )\n",
    "\n",
    "    sf.plot.plot_metagenotype(\n",
    "        w0, col_linkage_func=lambda w: w0.metagenotype.linkage(optimal_ordering=True)\n",
    "    )\n",
    "    sf.plot.plot_community(\n",
    "        w0,\n",
    "        col_linkage_func=lambda w: w0.metagenotype.linkage(optimal_ordering=True),\n",
    "        row_linkage_func=lambda w: w.genotype.linkage(optimal_ordering=True),\n",
    "    )\n",
    "    sf.plot.plot_community(\n",
    "        w1,\n",
    "        col_linkage_func=lambda w: w0.metagenotype.linkage(optimal_ordering=True),\n",
    "        row_linkage_func=lambda w: w.genotype.linkage(optimal_ordering=True),\n",
    "    )\n",
    "\n",
    "    fig, axs = plt.subplots(2, 2)\n",
    "    ax = axs[0, 0]\n",
    "    ax.scatter(w0.community.entropy(), w1.community.entropy())\n",
    "    ax.plot([0, 2.5], [0, 2.5])\n",
    "\n",
    "    ax = axs[0, 1]\n",
    "    ax.scatter(\n",
    "        squareform(_world0.unifrac_pdist()), squareform(_world0.metagenotype.pdist())\n",
    "    )\n",
    "    ax.scatter(\n",
    "        squareform(_world1.unifrac_pdist()), squareform(_world1.metagenotype.pdist())\n",
    "    )\n",
    "\n",
    "    _mgtp_pdist = _world0.metagenotype.pdist()\n",
    "    _unifrac_pdist0 = _world0.unifrac_pdist()\n",
    "    _unifrac_pdist1 = _world1.unifrac_pdist()\n",
    "\n",
    "    _world0_sample_corr = {}\n",
    "    _world1_sample_corr = {}\n",
    "    for sample in _world0.sample.values:\n",
    "        _world0_sample_corr[sample] = sp.stats.spearmanr(\n",
    "            _unifrac_pdist0.loc[sample], _mgtp_pdist.loc[sample]\n",
    "        )[0]\n",
    "        _world1_sample_corr[sample] = sp.stats.spearmanr(\n",
    "            _unifrac_pdist1.loc[sample], _mgtp_pdist.loc[sample]\n",
    "        )[0]\n",
    "\n",
    "    sample_accuracy = pd.DataFrame(\n",
    "        dict(world0=_world0_sample_corr, world1=_world1_sample_corr)\n",
    "    )\n",
    "\n",
    "    ax = axs[1, 0]\n",
    "    ax.scatter(\"world0\", \"world1\", data=sample_accuracy)\n",
    "    ax.plot([0, 1], [0, 1])"
   ]
  },
  {
   "cell_type": "markdown",
   "metadata": {},
   "source": [
    "### Zotu4"
   ]
  },
  {
   "cell_type": "markdown",
   "metadata": {},
   "source": [
    "#### s__Escherichia coli_D (Zotu4 -> 102506) (1 of 3)"
   ]
  },
  {
   "cell_type": "code",
   "execution_count": null,
   "metadata": {},
   "outputs": [],
   "source": [
    "motu_taxonomy[motu_taxonomy.g__.str.contains(\"Escherichia\")]"
   ]
  },
  {
   "cell_type": "code",
   "execution_count": null,
   "metadata": {},
   "outputs": [],
   "source": [
    "rotu_taxonomy[rotu_taxonomy.str.contains(\"Escherichia\")].reset_index().values"
   ]
  },
  {
   "cell_type": "code",
   "execution_count": null,
   "metadata": {},
   "outputs": [],
   "source": [
    "_species_id = \"102506\"\n",
    "_rotu_list = [\"Zotu4\"]\n",
    "\n",
    "_world = (\n",
    "    sf.data.World.load(\n",
    "        f\"data/group/een/species/sp-{_species_id}/r.proc.gtpro.sfacts-fit.world.nc\",\n",
    "        validate=False,\n",
    "    )\n",
    "    .rename_coords(sample=lambda s: \"CF_{}\".format(int(s.split(\"_\")[1])))\n",
    "    .rename_coords(sample={'CF_11': 'CF_15', 'CF_15': 'CF_11'})  # Sample swap\n",
    ")\n",
    "\n",
    "print(motu_taxonomy.loc[_species_id])\n",
    "\n",
    "strains_in_subjects(\n",
    "    _species_rabund=motu_rabund[_species_id],\n",
    "    _species_rabundB=rotu_rabund[_rotu_list].sum(1),\n",
    "    _world=_world,\n",
    "    _meta=sample[lambda x: x.diet_or_media.isin([\"EEN\", \"PostEEN\"])],\n",
    "    plt_mean_key=True,\n",
    "    ncols=3,\n",
    ")\n",
    "\n",
    "for sample_type_list, (ax_width, ax_height) in [(['human'], (8, 4)), (['Fermenter', 'Fermenter_inoculum'], (15, 8)), (['mouse'], (30, 9))]:\n",
    "    strains_in_subjects(\n",
    "        _species_rabund=motu_rabund[_species_id],\n",
    "        _species_rabundB=rotu_rabund[_rotu_list].sum(1),\n",
    "        _world=_world,\n",
    "        _meta=sample[lambda x: x.subject_id.isin([\"A\", \"B\", \"H\"]) & x.sample_type.isin(sample_type_list)].assign(\n",
    "            label=lambda x: x.apply(_label_experiment_sample, axis=1)\n",
    "        ),\n",
    "        ncols=3,\n",
    "        ax_width=ax_width,\n",
    "    )"
   ]
  },
  {
   "cell_type": "code",
   "execution_count": null,
   "metadata": {},
   "outputs": [],
   "source": [
    "for i, (sample_type_list, (ax_width, ax_height)) in enumerate([(['human'], (8, 4)), (['Fermenter', 'Fermenter_inoculum'], (15, 8)), (['mouse'], (30, 9))]):\n",
    "    strains_in_subjects(\n",
    "        _species_rabund=motu_rabund[_species_id],\n",
    "        _species_rabundB=rotu_rabund[_rotu_list].sum(1),\n",
    "        _world=_world,\n",
    "        _meta=sample[lambda x: x.subject_id.isin([\"H\"]) & x.sample_type.isin(sample_type_list)].assign(\n",
    "            label=lambda x: x.apply(_label_experiment_sample, axis=1)\n",
    "        ),\n",
    "        ncols=1,\n",
    "        ax_width=ax_width,\n",
    "        # savefig=f'fig/{_species_id}.strain_tracking.{i}.pdf',\n",
    "    )"
   ]
  },
  {
   "cell_type": "code",
   "execution_count": null,
   "metadata": {},
   "outputs": [],
   "source": [
    "for i, (sample_type_list, (ax_width, ax_height)) in enumerate([(['human'], (8, 4)), (['Fermenter', 'Fermenter_inoculum'], (15, 8)), (['mouse'], (30, 9))]):\n",
    "    strains_in_subjects(\n",
    "        _species_rabund=motu_rabund[_species_id],\n",
    "        _species_rabundB=rotu_rabund[_rotu_list].sum(1),\n",
    "        _world=_world,\n",
    "        _meta=sample[lambda x: x.subject_id.isin([\"A\", \"B\", \"H\"]) & x.sample_type.isin(sample_type_list)].assign(\n",
    "            label=lambda x: x.apply(_label_experiment_sample, axis=1)\n",
    "        ),\n",
    "        ncols=1,\n",
    "        ax_width=ax_width,\n",
    "        savefig=f'fig/{_species_id}.strain_tracking.{i}.pdf',\n",
    "    )"
   ]
  },
  {
   "cell_type": "markdown",
   "metadata": {},
   "source": [
    "#### s__Klebsiella pneumoniae (Zotu4 -> 102538) (2 of 3)"
   ]
  },
  {
   "cell_type": "code",
   "execution_count": null,
   "metadata": {},
   "outputs": [],
   "source": [
    "_species_id = \"102538\"\n",
    "_rotu_list = [\"Zotu4\"]\n",
    "\n",
    "_world = (\n",
    "    sf.data.World.load(\n",
    "        f\"data/group/een/species/sp-{_species_id}/r.proc.gtpro.sfacts-fit.world.nc\",\n",
    "        validate=False,\n",
    "    )\n",
    "    .rename_coords(sample=lambda s: \"CF_{}\".format(int(s.split(\"_\")[1])))\n",
    "    .rename_coords(sample={'CF_11': 'CF_15', 'CF_15': 'CF_11'})  # Sample swap\n",
    ")\n",
    "\n",
    "print(motu_taxonomy.loc[_species_id])\n",
    "\n",
    "strains_in_subjects(\n",
    "    _species_rabund=motu_rabund[_species_id],\n",
    "    _species_rabundB=rotu_rabund[_rotu_list].sum(1),\n",
    "    _world=_world,\n",
    "    _meta=sample[lambda x: x.diet_or_media.isin([\"EEN\", \"PostEEN\"])],\n",
    "    plt_mean_key=True,\n",
    "    ncols=3,\n",
    ")\n",
    "\n",
    "for sample_type_list, (ax_width, ax_height) in [(['human'], (8, 4)), (['Fermenter', 'Fermenter_inoculum'], (15, 5)), (['mouse'], (30, 7))]:\n",
    "    strains_in_subjects(\n",
    "        _species_rabund=motu_rabund[_species_id],\n",
    "        _species_rabundB=rotu_rabund[_rotu_list].sum(1),\n",
    "        _world=_world,\n",
    "        _meta=sample[lambda x: x.subject_id.isin([\"A\", \"B\", \"H\"]) & x.sample_type.isin(sample_type_list)].assign(\n",
    "            label=lambda x: x.apply(_label_experiment_sample, axis=1)\n",
    "        ),\n",
    "        ncols=3,\n",
    "        ax_width=ax_width,\n",
    "    )"
   ]
  },
  {
   "cell_type": "markdown",
   "metadata": {},
   "source": [
    "#### s__Escherichia marmotae (Zotu4 -> 102322) (3 of 3)"
   ]
  },
  {
   "cell_type": "code",
   "execution_count": null,
   "metadata": {},
   "outputs": [],
   "source": [
    "_species_id = \"102322\"\n",
    "_rotu_list = [\"Zotu4\"]\n",
    "\n",
    "_world = (\n",
    "    sf.data.World.load(\n",
    "        f\"data/group/een/species/sp-{_species_id}/r.proc.gtpro.sfacts-fit.world.nc\",\n",
    "        validate=False,\n",
    "    )\n",
    "    .rename_coords(sample=lambda s: \"CF_{}\".format(int(s.split(\"_\")[1])))\n",
    "    .rename_coords(sample={'CF_11': 'CF_15', 'CF_15': 'CF_11'})  # Sample swap\n",
    ")\n",
    "\n",
    "print(motu_taxonomy.loc[_species_id])\n",
    "\n",
    "strains_in_subjects(\n",
    "    _species_rabund=motu_rabund[_species_id],\n",
    "    _species_rabundB=rotu_rabund[_rotu_list].sum(1),\n",
    "    _world=_world,\n",
    "    _meta=sample[lambda x: x.diet_or_media.isin([\"EEN\", \"PostEEN\"])],\n",
    "    plt_mean_key=True,\n",
    "    ncols=3,\n",
    ")\n",
    "\n",
    "for sample_type_list, (ax_width, ax_height) in [(['human'], (8, 4)), (['Fermenter', 'Fermenter_inoculum'], (15, 5)), (['mouse'], (30, 7))]:\n",
    "    strains_in_subjects(\n",
    "        _species_rabund=motu_rabund[_species_id],\n",
    "        _species_rabundB=rotu_rabund[_rotu_list].sum(1),\n",
    "        _world=_world,\n",
    "        _meta=sample[lambda x: x.subject_id.isin([\"A\", \"B\", \"H\"]) & x.sample_type.isin(sample_type_list)].assign(\n",
    "            label=lambda x: x.apply(_label_experiment_sample, axis=1)\n",
    "        ),\n",
    "        ncols=3,\n",
    "        ax_width=ax_width,\n",
    "    )"
   ]
  },
  {
   "cell_type": "markdown",
   "metadata": {},
   "source": [
    "### s__Enterococcus_D sp002850555 (Zotu85 -> 100323)"
   ]
  },
  {
   "cell_type": "code",
   "execution_count": null,
   "metadata": {},
   "outputs": [],
   "source": [
    "_species_id = \"100323\"\n",
    "_rotu_list = [\"Zotu85\"]\n",
    "\n",
    "_world = (\n",
    "    sf.data.World.load(\n",
    "        f\"data/group/een/species/sp-{_species_id}/r.proc.gtpro.sfacts-fit.world.nc\",\n",
    "        validate=False,\n",
    "    )\n",
    "    .rename_coords(sample=lambda s: \"CF_{}\".format(int(s.split(\"_\")[1])))\n",
    "    .rename_coords(sample={'CF_11': 'CF_15', 'CF_15': 'CF_11'})  # Sample swap\n",
    ")\n",
    "\n",
    "print(motu_taxonomy.loc[_species_id])\n",
    "\n",
    "strains_in_subjects(\n",
    "    _species_rabund=motu_rabund[_species_id],\n",
    "    _species_rabundB=rotu_rabund[_rotu_list].sum(1),\n",
    "    _world=_world,\n",
    "    _meta=sample[lambda x: x.diet_or_media.isin([\"EEN\", \"PostEEN\"])],\n",
    "    plt_mean_key=True,\n",
    "    ncols=3,\n",
    ")\n",
    "\n",
    "for sample_type_list, (ax_width, ax_height) in [(['human'], (8, 4)), (['Fermenter', 'Fermenter_inoculum'], (15, 5)), (['mouse'], (30, 7))]:\n",
    "    strains_in_subjects(\n",
    "        _species_rabund=motu_rabund[_species_id],\n",
    "        _species_rabundB=rotu_rabund[_rotu_list].sum(1),\n",
    "        _world=_world,\n",
    "        _meta=sample[lambda x: x.subject_id.isin([\"A\", \"B\", \"H\"]) & x.sample_type.isin(sample_type_list)].assign(\n",
    "            label=lambda x: x.apply(_label_experiment_sample, axis=1)\n",
    "        ),\n",
    "        ncols=3,\n",
    "        ax_width=ax_width,\n",
    "    )"
   ]
  },
  {
   "cell_type": "markdown",
   "metadata": {},
   "source": [
    "### s__Eggerthella lenta (Zotu172 -> 102544)"
   ]
  },
  {
   "cell_type": "code",
   "execution_count": null,
   "metadata": {},
   "outputs": [],
   "source": [
    "_species_id = \"102544\"\n",
    "_rotu_list = [\"Zotu172\"]\n",
    "\n",
    "_world = (\n",
    "    sf.data.World.load(\n",
    "        f\"data/group/een/species/sp-{_species_id}/r.proc.gtpro.sfacts-fit.world.nc\",\n",
    "        validate=False,\n",
    "    )\n",
    "    .rename_coords(sample=lambda s: \"CF_{}\".format(int(s.split(\"_\")[1])))\n",
    "    .rename_coords(sample={'CF_11': 'CF_15', 'CF_15': 'CF_11'})  # Sample swap\n",
    ")\n",
    "\n",
    "print(motu_taxonomy.loc[_species_id])\n",
    "\n",
    "strains_in_subjects(\n",
    "    _species_rabund=motu_rabund[_species_id],\n",
    "    _species_rabundB=rotu_rabund[_rotu_list].sum(1),\n",
    "    _world=_world,\n",
    "    _meta=sample[lambda x: x.diet_or_media.isin([\"EEN\", \"PostEEN\"])],\n",
    "    plt_mean_key=True,\n",
    "    ncols=3,\n",
    ")\n",
    "\n",
    "for sample_type_list, (ax_width, ax_height) in [(['human'], (8, 4)), (['Fermenter', 'Fermenter_inoculum'], (15, 5)), (['mouse'], (30, 7))]:\n",
    "    strains_in_subjects(\n",
    "        _species_rabund=motu_rabund[_species_id],\n",
    "        _species_rabundB=rotu_rabund[_rotu_list].sum(1),\n",
    "        _world=_world,\n",
    "        _meta=sample[lambda x: x.subject_id.isin([\"A\", \"B\", \"H\"]) & x.sample_type.isin(sample_type_list)].assign(\n",
    "            label=lambda x: x.apply(_label_experiment_sample, axis=1)\n",
    "        ),\n",
    "        ncols=3,\n",
    "        ax_width=ax_width,\n",
    "    )"
   ]
  },
  {
   "attachments": {},
   "cell_type": "markdown",
   "metadata": {},
   "source": [
    "### s__Dorea scindens (Zotu114 -> 101303)"
   ]
  },
  {
   "cell_type": "code",
   "execution_count": null,
   "metadata": {},
   "outputs": [],
   "source": [
    "_species_id = \"101303\"\n",
    "_rotu_list = [\"Zotu114\"]\n",
    "\n",
    "_world = (\n",
    "    sf.data.World.load(\n",
    "        f\"data/group/een/species/sp-{_species_id}/r.proc.gtpro.sfacts-fit.world.nc\",\n",
    "        validate=False,\n",
    "    )\n",
    "    .rename_coords(sample=lambda s: \"CF_{}\".format(int(s.split(\"_\")[1])))\n",
    "    .rename_coords(sample={'CF_11': 'CF_15', 'CF_15': 'CF_11'})  # Sample swap\n",
    ")\n",
    "\n",
    "print(motu_taxonomy.loc[_species_id])\n",
    "\n",
    "strains_in_subjects(\n",
    "    _species_rabund=motu_rabund[_species_id],\n",
    "    _species_rabundB=rotu_rabund[_rotu_list].sum(1),\n",
    "    _world=_world,\n",
    "    _meta=sample[lambda x: x.diet_or_media.isin([\"EEN\", \"PostEEN\"])],\n",
    "    plt_mean_key=True,\n",
    "    ncols=3,\n",
    ")\n",
    "\n",
    "for sample_type_list, (ax_width, ax_height) in [(['human'], (8, 4)), (['Fermenter', 'Fermenter_inoculum'], (15, 5)), (['mouse'], (30, 7))]:\n",
    "    strains_in_subjects(\n",
    "        _species_rabund=motu_rabund[_species_id],\n",
    "        _species_rabundB=rotu_rabund[_rotu_list].sum(1),\n",
    "        _world=_world,\n",
    "        _meta=sample[lambda x: x.subject_id.isin([\"A\", \"B\", \"H\"]) & x.sample_type.isin(sample_type_list)].assign(\n",
    "            label=lambda x: x.apply(_label_experiment_sample, axis=1)\n",
    "        ),\n",
    "        ncols=3,\n",
    "        ax_width=ax_width,\n",
    "    )"
   ]
  },
  {
   "attachments": {},
   "cell_type": "markdown",
   "metadata": {},
   "source": [
    "### s__Clostridium_Q symbiosum (Zotu25 -> 101367)"
   ]
  },
  {
   "cell_type": "code",
   "execution_count": null,
   "metadata": {},
   "outputs": [],
   "source": [
    "_species_id = \"101367\"\n",
    "_rotu_list = [\"Zotu25\"]\n",
    "\n",
    "_world = (\n",
    "    sf.data.World.load(\n",
    "        f\"data/group/een/species/sp-{_species_id}/r.proc.gtpro.sfacts-fit.world.nc\",\n",
    "        validate=False,\n",
    "    )\n",
    "    .rename_coords(sample=lambda s: \"CF_{}\".format(int(s.split(\"_\")[1])))\n",
    "    .rename_coords(sample={'CF_11': 'CF_15', 'CF_15': 'CF_11'})  # Sample swap\n",
    ")\n",
    "\n",
    "print(motu_taxonomy.loc[_species_id])\n",
    "\n",
    "strains_in_subjects(\n",
    "    _species_rabund=motu_rabund[_species_id],\n",
    "    _species_rabundB=rotu_rabund[_rotu_list].sum(1),\n",
    "    _world=_world,\n",
    "    _meta=sample[lambda x: x.diet_or_media.isin([\"EEN\", \"PostEEN\"])],\n",
    "    plt_mean_key=True,\n",
    "    ncols=3,\n",
    ")\n",
    "\n",
    "for sample_type_list, (ax_width, ax_height) in [(['human'], (8, 4)), (['Fermenter', 'Fermenter_inoculum'], (15, 5)), (['mouse'], (30, 7))]:\n",
    "    strains_in_subjects(\n",
    "        _species_rabund=motu_rabund[_species_id],\n",
    "        _species_rabundB=rotu_rabund[_rotu_list].sum(1),\n",
    "        _world=_world,\n",
    "        _meta=sample[lambda x: x.subject_id.isin([\"A\", \"B\", \"H\"]) & x.sample_type.isin(sample_type_list)].assign(\n",
    "            label=lambda x: x.apply(_label_experiment_sample, axis=1)\n",
    "        ),\n",
    "        ncols=3,\n",
    "        ax_width=ax_width,\n",
    "    )"
   ]
  },
  {
   "cell_type": "markdown",
   "metadata": {},
   "source": [
    "### Zotu5"
   ]
  },
  {
   "attachments": {},
   "cell_type": "markdown",
   "metadata": {},
   "source": [
    "#### s__Clostridium_M clostridioforme (Zotu5 -> 101386) (1 of 2)"
   ]
  },
  {
   "cell_type": "code",
   "execution_count": null,
   "metadata": {},
   "outputs": [],
   "source": [
    "_species_id = \"101386\"\n",
    "_rotu_list = [\"Zotu5\"]\n",
    "\n",
    "_world = (\n",
    "    sf.data.World.load(\n",
    "        f\"data/group/een/species/sp-{_species_id}/r.proc.gtpro.sfacts-fit.world.nc\",\n",
    "        validate=False,\n",
    "    )\n",
    "    .rename_coords(sample=lambda s: \"CF_{}\".format(int(s.split(\"_\")[1])))\n",
    "    .rename_coords(sample={'CF_11': 'CF_15', 'CF_15': 'CF_11'})  # Sample swap\n",
    ")\n",
    "\n",
    "print(motu_taxonomy.loc[_species_id])\n",
    "\n",
    "strains_in_subjects(\n",
    "    _species_rabund=motu_rabund[_species_id],\n",
    "    _species_rabundB=rotu_rabund[_rotu_list].sum(1),\n",
    "    _world=_world,\n",
    "    _meta=sample[lambda x: x.diet_or_media.isin([\"EEN\", \"PostEEN\"])],\n",
    "    plt_mean_key=True,\n",
    "    ncols=3,\n",
    ")\n",
    "\n",
    "for sample_type_list, (ax_width, ax_height) in [(['human'], (8, 4)), (['Fermenter', 'Fermenter_inoculum'], (15, 5)), (['mouse'], (30, 7))]:\n",
    "    strains_in_subjects(\n",
    "        _species_rabund=motu_rabund[_species_id],\n",
    "        _species_rabundB=rotu_rabund[_rotu_list].sum(1),\n",
    "        _world=_world,\n",
    "        _meta=sample[lambda x: x.subject_id.isin([\"A\", \"B\", \"H\"]) & x.sample_type.isin(sample_type_list)].assign(\n",
    "            label=lambda x: x.apply(_label_experiment_sample, axis=1)\n",
    "        ),\n",
    "        ncols=3,\n",
    "        ax_width=ax_width,\n",
    "    )"
   ]
  },
  {
   "attachments": {},
   "cell_type": "markdown",
   "metadata": {},
   "source": [
    "#### s__Clostridium_M bolteae (Zotu5 -> 101493) (2 of 2)"
   ]
  },
  {
   "cell_type": "code",
   "execution_count": null,
   "metadata": {},
   "outputs": [],
   "source": [
    "_species_id = \"101493\"\n",
    "_rotu_list = [\"Zotu5\"]\n",
    "\n",
    "_world = (\n",
    "    sf.data.World.load(\n",
    "        f\"data/group/een/species/sp-{_species_id}/r.proc.gtpro.sfacts-fit.world.nc\",\n",
    "        validate=False,\n",
    "    )\n",
    "    .rename_coords(sample=lambda s: \"CF_{}\".format(int(s.split(\"_\")[1])))\n",
    "    .rename_coords(sample={'CF_11': 'CF_15', 'CF_15': 'CF_11'})  # Sample swap\n",
    ")\n",
    "\n",
    "print(motu_taxonomy.loc[_species_id])\n",
    "\n",
    "strains_in_subjects(\n",
    "    _species_rabund=motu_rabund[_species_id],\n",
    "    _species_rabundB=rotu_rabund[_rotu_list].sum(1),\n",
    "    _world=_world,\n",
    "    _meta=sample[lambda x: x.diet_or_media.isin([\"EEN\", \"PostEEN\"])],\n",
    "    plt_mean_key=True,\n",
    "    ncols=3,\n",
    ")\n",
    "\n",
    "for sample_type_list, (ax_width, ax_height) in [(['human'], (8, 4)), (['Fermenter', 'Fermenter_inoculum'], (15, 5)), (['mouse'], (30, 7))]:\n",
    "    strains_in_subjects(\n",
    "        _species_rabund=motu_rabund[_species_id],\n",
    "        _species_rabundB=rotu_rabund[_rotu_list].sum(1),\n",
    "        _world=_world,\n",
    "        _meta=sample[lambda x: x.subject_id.isin([\"A\", \"B\", \"H\"]) & x.sample_type.isin(sample_type_list)].assign(\n",
    "            label=lambda x: x.apply(_label_experiment_sample, axis=1)\n",
    "        ),\n",
    "        ncols=3,\n",
    "        ax_width=ax_width,\n",
    "    )"
   ]
  },
  {
   "attachments": {},
   "cell_type": "markdown",
   "metadata": {},
   "source": [
    "### s__Hungatella effluvii (Zotu10 -> 100032)"
   ]
  },
  {
   "cell_type": "code",
   "execution_count": null,
   "metadata": {},
   "outputs": [],
   "source": [
    "_species_id = \"100032\"\n",
    "_rotu_list = [\"Zotu10\"]\n",
    "\n",
    "_world = (\n",
    "    sf.data.World.load(\n",
    "        f\"data/group/een/species/sp-{_species_id}/r.proc.gtpro.sfacts-fit.world.nc\",\n",
    "        validate=False,\n",
    "    )\n",
    "    .rename_coords(sample=lambda s: \"CF_{}\".format(int(s.split(\"_\")[1])))\n",
    "    .rename_coords(sample={'CF_11': 'CF_15', 'CF_15': 'CF_11'})  # Sample swap\n",
    ")\n",
    "\n",
    "print(motu_taxonomy.loc[_species_id])\n",
    "\n",
    "strains_in_subjects(\n",
    "    _species_rabund=motu_rabund[_species_id],\n",
    "    _species_rabundB=rotu_rabund[_rotu_list].sum(1),\n",
    "    _world=_world,\n",
    "    _meta=sample[lambda x: x.diet_or_media.isin([\"EEN\", \"PostEEN\"])],\n",
    "    plt_mean_key=True,\n",
    "    ncols=3,\n",
    ")\n",
    "\n",
    "for sample_type_list, (ax_width, ax_height) in [(['human'], (8, 4)), (['Fermenter', 'Fermenter_inoculum'], (15, 5)), (['mouse'], (30, 7))]:\n",
    "    strains_in_subjects(\n",
    "        _species_rabund=motu_rabund[_species_id],\n",
    "        _species_rabundB=rotu_rabund[_rotu_list].sum(1),\n",
    "        _world=_world,\n",
    "        _meta=sample[lambda x: x.subject_id.isin([\"A\", \"B\", \"H\"]) & x.sample_type.isin(sample_type_list)].assign(\n",
    "            label=lambda x: x.apply(_label_experiment_sample, axis=1)\n",
    "        ),\n",
    "        ncols=3,\n",
    "        ax_width=ax_width,\n",
    "    )"
   ]
  },
  {
   "cell_type": "markdown",
   "metadata": {},
   "source": [
    "### s__Hungatella hathewayi (Zotu160 -> 100150)"
   ]
  },
  {
   "cell_type": "code",
   "execution_count": null,
   "metadata": {},
   "outputs": [],
   "source": [
    "_species_id = \"100150\"\n",
    "_rotu_list = [\"Zotu160\"]\n",
    "\n",
    "_world = (\n",
    "    sf.data.World.load(\n",
    "        f\"data/group/een/species/sp-{_species_id}/r.proc.gtpro.sfacts-fit.world.nc\",\n",
    "        validate=False,\n",
    "    )\n",
    "    .rename_coords(sample=lambda s: \"CF_{}\".format(int(s.split(\"_\")[1])))\n",
    "    .rename_coords(sample={'CF_11': 'CF_15', 'CF_15': 'CF_11'})  # Sample swap\n",
    ")\n",
    "\n",
    "print(motu_taxonomy.loc[_species_id])\n",
    "\n",
    "strains_in_subjects(\n",
    "    _species_rabund=motu_rabund[_species_id],\n",
    "    _species_rabundB=rotu_rabund[_rotu_list].sum(1),\n",
    "    _world=_world,\n",
    "    _meta=sample[lambda x: x.diet_or_media.isin([\"EEN\", \"PostEEN\"])],\n",
    "    plt_mean_key=True,\n",
    "    ncols=3,\n",
    ")\n",
    "\n",
    "for sample_type_list, (ax_width, ax_height) in [(['human'], (8, 4)), (['Fermenter', 'Fermenter_inoculum'], (15, 5)), (['mouse'], (30, 7))]:\n",
    "    strains_in_subjects(\n",
    "        _species_rabund=motu_rabund[_species_id],\n",
    "        _species_rabundB=rotu_rabund[_rotu_list].sum(1),\n",
    "        _world=_world,\n",
    "        _meta=sample[lambda x: x.subject_id.isin([\"A\", \"B\", \"H\"]) & x.sample_type.isin(sample_type_list)].assign(\n",
    "            label=lambda x: x.apply(_label_experiment_sample, axis=1)\n",
    "        ),\n",
    "        ncols=3,\n",
    "        ax_width=ax_width,\n",
    "    )"
   ]
  },
  {
   "cell_type": "markdown",
   "metadata": {},
   "source": [
    "### s__Clostridium_M sp-? (Zotu31 -> 100179)"
   ]
  },
  {
   "cell_type": "code",
   "execution_count": null,
   "metadata": {},
   "outputs": [],
   "source": [
    "_species_id = \"100179\"\n",
    "_rotu_list = [\"Zotu31\"]\n",
    "\n",
    "_world = (\n",
    "    sf.data.World.load(\n",
    "        f\"data/group/een/species/sp-{_species_id}/r.proc.gtpro.sfacts-fit.world.nc\",\n",
    "        validate=False,\n",
    "    )\n",
    "    .rename_coords(sample=lambda s: \"CF_{}\".format(int(s.split(\"_\")[1])))\n",
    "    .rename_coords(sample={'CF_11': 'CF_15', 'CF_15': 'CF_11'})  # Sample swap\n",
    ")\n",
    "\n",
    "print(motu_taxonomy.loc[_species_id])\n",
    "\n",
    "strains_in_subjects(\n",
    "    _species_rabund=motu_rabund[_species_id],\n",
    "    _species_rabundB=rotu_rabund[_rotu_list].sum(1),\n",
    "    _world=_world,\n",
    "    _meta=sample[lambda x: x.diet_or_media.isin([\"EEN\", \"PostEEN\"])],\n",
    "    plt_mean_key=True,\n",
    "    ncols=3,\n",
    ")\n",
    "\n",
    "for sample_type_list, (ax_width, ax_height) in [(['human'], (8, 4)), (['Fermenter', 'Fermenter_inoculum'], (15, 5)), (['mouse'], (30, 7))]:\n",
    "    strains_in_subjects(\n",
    "        _species_rabund=motu_rabund[_species_id],\n",
    "        _species_rabundB=rotu_rabund[_rotu_list].sum(1),\n",
    "        _world=_world,\n",
    "        _meta=sample[lambda x: x.subject_id.isin([\"A\", \"B\", \"H\"]) & x.sample_type.isin(sample_type_list)].assign(\n",
    "            label=lambda x: x.apply(_label_experiment_sample, axis=1)\n",
    "        ),\n",
    "        ncols=3,\n",
    "        ax_width=ax_width,\n",
    "    )"
   ]
  },
  {
   "cell_type": "markdown",
   "metadata": {},
   "source": [
    "### s__Clostridium_M sp000431375 (Zotu155 -> 100242)"
   ]
  },
  {
   "cell_type": "code",
   "execution_count": null,
   "metadata": {},
   "outputs": [],
   "source": [
    "_species_id = \"100242\"\n",
    "_rotu_list = [\"Zotu155\"]\n",
    "\n",
    "_world = (\n",
    "    sf.data.World.load(\n",
    "        f\"data/group/een/species/sp-{_species_id}/r.proc.gtpro.sfacts-fit.world.nc\",\n",
    "        validate=False,\n",
    "    )\n",
    "    .rename_coords(sample=lambda s: \"CF_{}\".format(int(s.split(\"_\")[1])))\n",
    "    .rename_coords(sample={'CF_11': 'CF_15', 'CF_15': 'CF_11'})  # Sample swap\n",
    ")\n",
    "\n",
    "print(motu_taxonomy.loc[_species_id])\n",
    "\n",
    "strains_in_subjects(\n",
    "    _species_rabund=motu_rabund[_species_id],\n",
    "    _species_rabundB=rotu_rabund[_rotu_list].sum(1),\n",
    "    _world=_world,\n",
    "    _meta=sample[lambda x: x.diet_or_media.isin([\"EEN\", \"PostEEN\"])],\n",
    "    plt_mean_key=True,\n",
    "    ncols=3,\n",
    ")\n",
    "\n",
    "for sample_type_list, (ax_width, ax_height) in [(['human'], (8, 4)), (['Fermenter', 'Fermenter_inoculum'], (15, 5)), (['mouse'], (30, 7))]:\n",
    "    strains_in_subjects(\n",
    "        _species_rabund=motu_rabund[_species_id],\n",
    "        _species_rabundB=rotu_rabund[_rotu_list].sum(1),\n",
    "        _world=_world,\n",
    "        _meta=sample[lambda x: x.subject_id.isin([\"A\", \"B\", \"H\"]) & x.sample_type.isin(sample_type_list)].assign(\n",
    "            label=lambda x: x.apply(_label_experiment_sample, axis=1)\n",
    "        ),\n",
    "        ncols=3,\n",
    "        ax_width=ax_width,\n",
    "    )"
   ]
  },
  {
   "cell_type": "markdown",
   "metadata": {},
   "source": [
    "### s__Erysipelatoclostridium ramosum (Zotu46 -> 101400)"
   ]
  },
  {
   "cell_type": "code",
   "execution_count": null,
   "metadata": {},
   "outputs": [],
   "source": [
    "_species_id = \"101400\"\n",
    "_rotu_list = [\"Zotu46\"]\n",
    "\n",
    "_world = (\n",
    "    sf.data.World.load(\n",
    "        f\"data/group/een/species/sp-{_species_id}/r.proc.gtpro.sfacts-fit.world.nc\",\n",
    "        validate=False,\n",
    "    )\n",
    "    .rename_coords(sample=lambda s: \"CF_{}\".format(int(s.split(\"_\")[1])))\n",
    "    .rename_coords(sample={'CF_11': 'CF_15', 'CF_15': 'CF_11'})  # Sample swap\n",
    ")\n",
    "\n",
    "print(motu_taxonomy.loc[_species_id])\n",
    "\n",
    "strains_in_subjects(\n",
    "    _species_rabund=motu_rabund[_species_id],\n",
    "    _species_rabundB=rotu_rabund[_rotu_list].sum(1),\n",
    "    _world=_world,\n",
    "    _meta=sample[lambda x: x.diet_or_media.isin([\"EEN\", \"PostEEN\"])],\n",
    "    plt_mean_key=True,\n",
    "    ncols=3,\n",
    ")\n",
    "\n",
    "for sample_type_list, (ax_width, ax_height) in [(['human'], (8, 4)), (['Fermenter', 'Fermenter_inoculum'], (15, 5)), (['mouse'], (30, 7))]:\n",
    "    strains_in_subjects(\n",
    "        _species_rabund=motu_rabund[_species_id],\n",
    "        _species_rabundB=rotu_rabund[_rotu_list].sum(1),\n",
    "        _world=_world,\n",
    "        _meta=sample[lambda x: x.subject_id.isin([\"A\", \"B\", \"H\"]) & x.sample_type.isin(sample_type_list)].assign(\n",
    "            label=lambda x: x.apply(_label_experiment_sample, axis=1)\n",
    "        ),\n",
    "        ncols=3,\n",
    "        ax_width=ax_width,\n",
    "    )"
   ]
  },
  {
   "cell_type": "markdown",
   "metadata": {},
   "source": [
    "### s__Flavonifractor plautii (Zotu49 -> 100099)"
   ]
  },
  {
   "cell_type": "code",
   "execution_count": null,
   "metadata": {},
   "outputs": [],
   "source": [
    "_species_id = \"100099\"\n",
    "_rotu_list = [\"Zotu46\"]\n",
    "\n",
    "_world = (\n",
    "    sf.data.World.load(\n",
    "        f\"data/group/een/species/sp-{_species_id}/r.proc.gtpro.sfacts-fit.world.nc\",\n",
    "        validate=False,\n",
    "    )\n",
    "    .rename_coords(sample=lambda s: \"CF_{}\".format(int(s.split(\"_\")[1])))\n",
    "    .rename_coords(sample={'CF_11': 'CF_15', 'CF_15': 'CF_11'})  # Sample swap\n",
    ")\n",
    "\n",
    "print(motu_taxonomy.loc[_species_id])\n",
    "\n",
    "strains_in_subjects(\n",
    "    _species_rabund=motu_rabund[_species_id],\n",
    "    _species_rabundB=rotu_rabund[_rotu_list].sum(1),\n",
    "    _world=_world,\n",
    "    _meta=sample[lambda x: x.diet_or_media.isin([\"EEN\", \"PostEEN\"])],\n",
    "    plt_mean_key=True,\n",
    "    ncols=3,\n",
    ")\n",
    "\n",
    "for sample_type_list, (ax_width, ax_height) in [(['human'], (8, 4)), (['Fermenter', 'Fermenter_inoculum'], (15, 5)), (['mouse'], (30, 7))]:\n",
    "    strains_in_subjects(\n",
    "        _species_rabund=motu_rabund[_species_id],\n",
    "        _species_rabundB=rotu_rabund[_rotu_list].sum(1),\n",
    "        _world=_world,\n",
    "        _meta=sample[lambda x: x.subject_id.isin([\"A\", \"B\", \"H\"]) & x.sample_type.isin(sample_type_list)].assign(\n",
    "            label=lambda x: x.apply(_label_experiment_sample, axis=1)\n",
    "        ),\n",
    "        ncols=3,\n",
    "        ax_width=ax_width,\n",
    "    )"
   ]
  },
  {
   "cell_type": "markdown",
   "metadata": {},
   "source": [
    "### s__Eisenbergiella tayi (Zotu75 -> 102330)"
   ]
  },
  {
   "cell_type": "code",
   "execution_count": null,
   "metadata": {},
   "outputs": [],
   "source": [
    "_species_id = \"102330\"\n",
    "_rotu_list = [\"Zotu75\"]\n",
    "\n",
    "_world = (\n",
    "    sf.data.World.load(\n",
    "        f\"data/group/een/species/sp-{_species_id}/r.proc.gtpro.sfacts-fit.world.nc\",\n",
    "        validate=False,\n",
    "    )\n",
    "    .rename_coords(sample=lambda s: \"CF_{}\".format(int(s.split(\"_\")[1])))\n",
    "    .rename_coords(sample={'CF_11': 'CF_15', 'CF_15': 'CF_11'})  # Sample swap\n",
    ")\n",
    "\n",
    "print(motu_taxonomy.loc[_species_id])\n",
    "\n",
    "strains_in_subjects(\n",
    "    _species_rabund=motu_rabund[_species_id],\n",
    "    _species_rabundB=rotu_rabund[_rotu_list].sum(1),\n",
    "    _world=_world,\n",
    "    _meta=sample[lambda x: x.diet_or_media.isin([\"EEN\", \"PostEEN\"])],\n",
    "    plt_mean_key=True,\n",
    "    ncols=3,\n",
    ")\n",
    "\n",
    "for sample_type_list, (ax_width, ax_height) in [(['human'], (8, 4)), (['Fermenter', 'Fermenter_inoculum'], (15, 5)), (['mouse'], (30, 7))]:\n",
    "    strains_in_subjects(\n",
    "        _species_rabund=motu_rabund[_species_id],\n",
    "        _species_rabundB=rotu_rabund[_rotu_list].sum(1),\n",
    "        _world=_world,\n",
    "        _meta=sample[lambda x: x.subject_id.isin([\"A\", \"B\", \"H\"]) & x.sample_type.isin(sample_type_list)].assign(\n",
    "            label=lambda x: x.apply(_label_experiment_sample, axis=1)\n",
    "        ),\n",
    "        ncols=3,\n",
    "        ax_width=ax_width,\n",
    "    )"
   ]
  },
  {
   "cell_type": "markdown",
   "metadata": {},
   "source": [
    "### s__Ruthenibacterium lactatiformans (Zotu78\t103682)"
   ]
  },
  {
   "cell_type": "code",
   "execution_count": null,
   "metadata": {},
   "outputs": [],
   "source": [
    "_species_id = \"103682\"\n",
    "_rotu_list = [\"Zotu78\"]\n",
    "\n",
    "_world = (\n",
    "    sf.data.World.load(\n",
    "        f\"data/group/een/species/sp-{_species_id}/r.proc.gtpro.sfacts-fit.world.nc\",\n",
    "        validate=False,\n",
    "    )\n",
    "    .rename_coords(sample=lambda s: \"CF_{}\".format(int(s.split(\"_\")[1])))\n",
    "    .rename_coords(sample={'CF_11': 'CF_15', 'CF_15': 'CF_11'})  # Sample swap\n",
    ")\n",
    "\n",
    "print(motu_taxonomy.loc[_species_id])\n",
    "\n",
    "strains_in_subjects(\n",
    "    _species_rabund=motu_rabund[_species_id],\n",
    "    _species_rabundB=rotu_rabund[_rotu_list].sum(1),\n",
    "    _world=_world,\n",
    "    _meta=sample[lambda x: x.diet_or_media.isin([\"EEN\", \"PostEEN\"])],\n",
    "    plt_mean_key=True,\n",
    "    ncols=3,\n",
    ")\n",
    "\n",
    "for sample_type_list, (ax_width, ax_height) in [(['human'], (8, 4)), (['Fermenter', 'Fermenter_inoculum'], (15, 5)), (['mouse'], (30, 7))]:\n",
    "    strains_in_subjects(\n",
    "        _species_rabund=motu_rabund[_species_id],\n",
    "        _species_rabundB=rotu_rabund[_rotu_list].sum(1),\n",
    "        _world=_world,\n",
    "        _meta=sample[lambda x: x.subject_id.isin([\"A\", \"B\", \"H\"]) & x.sample_type.isin(sample_type_list)].assign(\n",
    "            label=lambda x: x.apply(_label_experiment_sample, axis=1)\n",
    "        ),\n",
    "        ncols=3,\n",
    "        ax_width=ax_width,\n",
    "    )"
   ]
  },
  {
   "cell_type": "markdown",
   "metadata": {},
   "source": [
    "### s__Blautia_A wexlerae (Zotu13 -> 101338)"
   ]
  },
  {
   "cell_type": "code",
   "execution_count": null,
   "metadata": {},
   "outputs": [],
   "source": [
    "_species_id = \"101338\"\n",
    "_rotu_list = [\"Zotu13\"]\n",
    "\n",
    "_world = (\n",
    "    sf.data.World.load(\n",
    "        f\"data/group/een/species/sp-{_species_id}/r.proc.gtpro.sfacts-fit.world.nc\",\n",
    "        validate=False,\n",
    "    )\n",
    "    .rename_coords(sample=lambda s: \"CF_{}\".format(int(s.split(\"_\")[1])))\n",
    "    .rename_coords(sample={'CF_11': 'CF_15', 'CF_15': 'CF_11'})  # Sample swap\n",
    ")\n",
    "\n",
    "print(motu_taxonomy.loc[_species_id])\n",
    "\n",
    "strains_in_subjects(\n",
    "    _species_rabund=motu_rabund[_species_id],\n",
    "    _species_rabundB=rotu_rabund[_rotu_list].sum(1),\n",
    "    _world=_world,\n",
    "    _meta=sample[lambda x: x.diet_or_media.isin([\"EEN\", \"PostEEN\"])],\n",
    "    plt_mean_key=True,\n",
    "    ncols=3,\n",
    ")\n",
    "\n",
    "for sample_type_list, (ax_width, ax_height) in [(['human'], (8, 4)), (['Fermenter', 'Fermenter_inoculum'], (15, 5)), (['mouse'], (30, 7))]:\n",
    "    strains_in_subjects(\n",
    "        _species_rabund=motu_rabund[_species_id],\n",
    "        _species_rabundB=rotu_rabund[_rotu_list].sum(1),\n",
    "        _world=_world,\n",
    "        _meta=sample[lambda x: x.subject_id.isin([\"A\", \"B\", \"H\"]) & x.sample_type.isin(sample_type_list)].assign(\n",
    "            label=lambda x: x.apply(_label_experiment_sample, axis=1)\n",
    "        ),\n",
    "        ncols=3,\n",
    "        ax_width=ax_width,\n",
    "    )"
   ]
  },
  {
   "cell_type": "markdown",
   "metadata": {},
   "source": [
    "### s__Bacteroides caccae (Zotu74 -> 102549)"
   ]
  },
  {
   "cell_type": "code",
   "execution_count": null,
   "metadata": {},
   "outputs": [],
   "source": [
    "_species_id = \"102549\"\n",
    "_rotu_list = [\"Zotu74\"]\n",
    "\n",
    "_world = (\n",
    "    sf.data.World.load(\n",
    "        f\"data/group/een/species/sp-{_species_id}/r.proc.gtpro.sfacts-fit.world.nc\",\n",
    "        validate=False,\n",
    "    )\n",
    "    .rename_coords(sample=lambda s: \"CF_{}\".format(int(s.split(\"_\")[1])))\n",
    "    .rename_coords(sample={'CF_11': 'CF_15', 'CF_15': 'CF_11'})  # Sample swap\n",
    ")\n",
    "\n",
    "print(motu_taxonomy.loc[_species_id])\n",
    "\n",
    "strains_in_subjects(\n",
    "    _species_rabund=motu_rabund[_species_id],\n",
    "    _species_rabundB=rotu_rabund[_rotu_list].sum(1),\n",
    "    _world=_world,\n",
    "    _meta=sample[lambda x: x.diet_or_media.isin([\"EEN\", \"PostEEN\"])],\n",
    "    plt_mean_key=True,\n",
    "    ncols=3,\n",
    ")\n",
    "\n",
    "for sample_type_list, (ax_width, ax_height) in [(['human'], (8, 4)), (['Fermenter', 'Fermenter_inoculum'], (15, 5)), (['mouse'], (30, 7))]:\n",
    "    strains_in_subjects(\n",
    "        _species_rabund=motu_rabund[_species_id],\n",
    "        _species_rabundB=rotu_rabund[_rotu_list].sum(1),\n",
    "        _world=_world,\n",
    "        _meta=sample[lambda x: x.subject_id.isin([\"A\", \"B\", \"H\"]) & x.sample_type.isin(sample_type_list)].assign(\n",
    "            label=lambda x: x.apply(_label_experiment_sample, axis=1)\n",
    "        ),\n",
    "        ncols=3,\n",
    "        ax_width=ax_width,\n",
    "    )"
   ]
  },
  {
   "cell_type": "markdown",
   "metadata": {},
   "source": [
    "### s__Bacteroides dorei (Zotu1 -> 102478)"
   ]
  },
  {
   "cell_type": "code",
   "execution_count": null,
   "metadata": {},
   "outputs": [],
   "source": [
    "_species_id = \"102478\"\n",
    "_rotu_list = [\"Zotu1\"]\n",
    "\n",
    "_world = (\n",
    "    sf.data.World.load(\n",
    "        f\"data/group/een/species/sp-{_species_id}/r.proc.gtpro.sfacts-fit.world.nc\",\n",
    "        validate=False,\n",
    "    )\n",
    "    .rename_coords(sample=lambda s: \"CF_{}\".format(int(s.split(\"_\")[1])))\n",
    "    .rename_coords(sample={'CF_11': 'CF_15', 'CF_15': 'CF_11'})  # Sample swap\n",
    ")\n",
    "\n",
    "print(motu_taxonomy.loc[_species_id])\n",
    "\n",
    "strains_in_subjects(\n",
    "    _species_rabund=motu_rabund[_species_id],\n",
    "    _species_rabundB=rotu_rabund[_rotu_list].sum(1),\n",
    "    _world=_world,\n",
    "    _meta=sample[lambda x: x.diet_or_media.isin([\"EEN\", \"PostEEN\"])],\n",
    "    plt_mean_key=True,\n",
    "    ncols=3,\n",
    ")\n",
    "\n",
    "for sample_type_list, (ax_width, ax_height) in [(['human'], (8, 4)), (['Fermenter', 'Fermenter_inoculum'], (15, 5)), (['mouse'], (30, 7))]:\n",
    "    strains_in_subjects(\n",
    "        _species_rabund=motu_rabund[_species_id],\n",
    "        _species_rabundB=rotu_rabund[_rotu_list].sum(1),\n",
    "        _world=_world,\n",
    "        _meta=sample[lambda x: x.subject_id.isin([\"A\", \"B\", \"H\"]) & x.sample_type.isin(sample_type_list)].assign(\n",
    "            label=lambda x: x.apply(_label_experiment_sample, axis=1)\n",
    "        ),\n",
    "        ncols=3,\n",
    "        ax_width=ax_width,\n",
    "    )"
   ]
  },
  {
   "cell_type": "markdown",
   "metadata": {},
   "source": [
    "### s__Bacteroides uniformis (Zotu6 -> 101346)"
   ]
  },
  {
   "cell_type": "code",
   "execution_count": null,
   "metadata": {},
   "outputs": [],
   "source": [
    "_species_id = \"101346\"\n",
    "_rotu_list = [\"Zotu6\"]\n",
    "\n",
    "_world = (\n",
    "    sf.data.World.load(\n",
    "        f\"data/group/een/species/sp-{_species_id}/r.proc.gtpro.sfacts-fit.world.nc\",\n",
    "        validate=False,\n",
    "    )\n",
    "    .rename_coords(sample=lambda s: \"CF_{}\".format(int(s.split(\"_\")[1])))\n",
    "    .rename_coords(sample={'CF_11': 'CF_15', 'CF_15': 'CF_11'})  # Sample swap\n",
    ")\n",
    "\n",
    "print(motu_taxonomy.loc[_species_id])\n",
    "\n",
    "strains_in_subjects(\n",
    "    _species_rabund=motu_rabund[_species_id],\n",
    "    _species_rabundB=rotu_rabund[_rotu_list].sum(1),\n",
    "    _world=_world,\n",
    "    _meta=sample[lambda x: x.diet_or_media.isin([\"EEN\", \"PostEEN\"])],\n",
    "    plt_mean_key=True,\n",
    "    ncols=3,\n",
    ")\n",
    "\n",
    "for sample_type_list, (ax_width, ax_height) in [(['human'], (8, 4)), (['Fermenter', 'Fermenter_inoculum'], (15, 5)), (['mouse'], (30, 7))]:\n",
    "    strains_in_subjects(\n",
    "        _species_rabund=motu_rabund[_species_id],\n",
    "        _species_rabundB=rotu_rabund[_rotu_list].sum(1),\n",
    "        _world=_world,\n",
    "        _meta=sample[lambda x: x.subject_id.isin([\"A\", \"B\", \"H\"]) & x.sample_type.isin(sample_type_list)].assign(\n",
    "            label=lambda x: x.apply(_label_experiment_sample, axis=1)\n",
    "        ),\n",
    "        ncols=3,\n",
    "        ax_width=ax_width,\n",
    "    )"
   ]
  },
  {
   "cell_type": "markdown",
   "metadata": {},
   "source": [
    "### s__Bacteroides ovatus (Zotu1 -> 101378 -> Zotu14+Zotu23)"
   ]
  },
  {
   "cell_type": "code",
   "execution_count": null,
   "metadata": {},
   "outputs": [],
   "source": [
    "_species_id = \"101378\"\n",
    "_rotu_list = [\"Zotu14\", \"Zotu23\"]\n",
    "\n",
    "_world = (\n",
    "    sf.data.World.load(\n",
    "        f\"data/group/een/species/sp-{_species_id}/r.proc.gtpro.sfacts-fit.world.nc\",\n",
    "        validate=False,\n",
    "    )\n",
    "    .rename_coords(sample=lambda s: \"CF_{}\".format(int(s.split(\"_\")[1])))\n",
    "    .rename_coords(sample={'CF_11': 'CF_15', 'CF_15': 'CF_11'})  # Sample swap\n",
    ")\n",
    "\n",
    "print(motu_taxonomy.loc[_species_id])\n",
    "\n",
    "strains_in_subjects(\n",
    "    _species_rabund=motu_rabund[_species_id],\n",
    "    _species_rabundB=rotu_rabund[_rotu_list].sum(1),\n",
    "    _world=_world,\n",
    "    _meta=sample[lambda x: x.diet_or_media.isin([\"EEN\", \"PostEEN\"])],\n",
    "    plt_mean_key=True,\n",
    "    ncols=3,\n",
    ")\n",
    "\n",
    "for sample_type_list, (ax_width, ax_height) in [(['human'], (8, 4)), (['Fermenter', 'Fermenter_inoculum'], (15, 5)), (['mouse'], (30, 7))]:\n",
    "    strains_in_subjects(\n",
    "        _species_rabund=motu_rabund[_species_id],\n",
    "        _species_rabundB=rotu_rabund[_rotu_list].sum(1),\n",
    "        _world=_world,\n",
    "        _meta=sample[lambda x: x.subject_id.isin([\"A\", \"B\", \"H\"]) & x.sample_type.isin(sample_type_list)].assign(\n",
    "            label=lambda x: x.apply(_label_experiment_sample, axis=1)\n",
    "        ),\n",
    "        ncols=3,\n",
    "        ax_width=ax_width,\n",
    "    )"
   ]
  },
  {
   "cell_type": "markdown",
   "metadata": {},
   "source": [
    "## Permutation Test Prototype #3\n",
    "\n",
    "This permutation test differs from earlier versions in that\n",
    "- it permutes the pair labels,\n",
    "- it fits a cubic spline (with 4 knots) to the time data\n",
    "- it's run on the compositional data (instead of metagenomics)"
   ]
  },
  {
   "cell_type": "code",
   "execution_count": null,
   "metadata": {},
   "outputs": [],
   "source": []
  },
  {
   "cell_type": "code",
   "execution_count": null,
   "metadata": {},
   "outputs": [],
   "source": [
    "def turnover_analysis3(\n",
    "    _rabund,\n",
    "    _meta,\n",
    "    _rabund_ctrl=None,  # e.g. control for species-level turnover\n",
    "    pair_type_palette=pair_type_palette,\n",
    "    pair_type_marker_palette=pair_type_marker_palette,\n",
    "    pair_type_linestyle_palette=pair_type_linestyle_palette,\n",
    "    subject_palette=subject_palette,\n",
    "    subject_order=subject_order,\n",
    "    pair_type_order=pair_type_order,\n",
    "    _dmat=None,\n",
    "    n_perm=999,\n",
    "):\n",
    "    # Select data\n",
    "    _rabund, _meta = lib.pandas_util.align_indexes(_rabund, _meta)\n",
    "\n",
    "    # Calculate pairwise comparisons\n",
    "    if _dmat is None:\n",
    "        _dmat = pdist(_rabund, metric=\"braycurtis\")\n",
    "        if _rabund_ctrl is not None:\n",
    "            # NOTE: bc stands for bray-curtis and is used as a stand-in for\n",
    "            # dissimilarity throughout because\n",
    "            # the default is to use bc dissimilarity.\n",
    "            bc_cdist_ctrl = pdist(_rabund_ctrl.loc[_rabund.index], metric='braycurtis')\n",
    "            _dmat = _dmat - bc_cdist_ctrl\n",
    "    else:\n",
    "        assert _rabund_ctrl is None\n",
    "        assert _dmat.shape[0] == _rabund.shape[0]\n",
    "        assert _dmat.shape[1] == _rabund.shape[0]\n",
    "        _dmat = squareform(_dmat)\n",
    "        # But it's the users responsibility to sort the dmat correctly.\n",
    "\n",
    "    time_cdist = pdist(\n",
    "        _meta[[\"collection_date_relative_een_end\"]], metric=lambda x, y: np.abs(x - y)\n",
    "    )\n",
    "    depth_min_cdist = pdist(_meta[['depth']], metric=lambda x, y: min(x, y))\n",
    "    diff_subject_cdist = pdist(_meta[[\"subject_id\"]], metric=lambda x, y: x != y)\n",
    "    same_subject_cdist = (1 - diff_subject_cdist).astype(bool)\n",
    "    type_transition_indicator = pdist(\n",
    "        _meta[[\"diet_or_media\"]],\n",
    "        metric=lambda x, y: (x == \"PostEEN\").astype(float)\n",
    "        + (y == \"PostEEN\").astype(float),\n",
    "    )\n",
    "    # same_type_cdist = (1 - diff_type_cdist).astype(bool)\n",
    "    pairs = (\n",
    "        pd.DataFrame(\n",
    "            squareform(diff_subject_cdist),\n",
    "            index=_meta.index,\n",
    "            columns=_meta.index,\n",
    "        )\n",
    "        .rename_axis(index=\"sampleA\", columns=\"sampleB\")\n",
    "        .unstack()\n",
    "        .index.to_frame()\n",
    "        .assign(pair=lambda x: x[[\"sampleA\", \"sampleB\"]].apply(tuple, axis=1))\n",
    "        .pair.unstack()\n",
    "    )\n",
    "    pairs = pd.Series(pairs.values[np.triu_indices_from(pairs.values, k=1)])\n",
    "    d0 = pd.DataFrame(\n",
    "        dict(\n",
    "            sampleA=pairs.str[0],\n",
    "            sampleB=pairs.str[1],\n",
    "            bc=_dmat,  # Really this should be generic for any dissimilarity, not only BC.\n",
    "            same_subject=same_subject_cdist,\n",
    "            type_transition_indicator=type_transition_indicator,\n",
    "            diff_type=type_transition_indicator == 1,\n",
    "            time_delta=time_cdist,\n",
    "            depth_min=depth_min_cdist,\n",
    "        )\n",
    "    ).assign(\n",
    "        pair_type=lambda x: x.type_transition_indicator.map(\n",
    "            {0: \"EEN\", 1: \"Transition\", 2: \"PostEEN\"}\n",
    "        ),\n",
    "        subject_id=lambda x: x.sampleA.map(_meta.subject_id),\n",
    "        subject_id_other=lambda x: x.sampleB.map(_meta.subject_id),\n",
    "    )\n",
    "    d1 = d0[lambda x: x.same_subject]\n",
    "\n",
    "    # Plot and observed relationship\n",
    "    fig, axs = plt.subplots(1, 2)\n",
    "    ax = axs[0]\n",
    "    sns.boxenplot(\n",
    "        y=\"bc\",\n",
    "        x=\"same_subject\",\n",
    "        hue=\"pair_type\",\n",
    "        data=d0,\n",
    "        ax=ax,\n",
    "        palette=pair_type_palette,\n",
    "        order=[False, True],\n",
    "        hue_order=pair_type_order,\n",
    "    )\n",
    "    # ax.legend()\n",
    "    ax = axs[1]\n",
    "    sns.stripplot(\n",
    "        y=\"bc\",\n",
    "        x=\"pair_type\",\n",
    "        hue=\"subject_id\",\n",
    "        data=d1,\n",
    "        ax=ax,\n",
    "        palette=subject_palette,\n",
    "        order=pair_type_order,\n",
    "    )\n",
    "    ax.legend_.set_visible(False)\n",
    "\n",
    "    # Fit observed relationship\n",
    "    # formula = \"bc ~ 0 + C(pair_type) + cr(time_delta, 4) + C(subject_id, Sum) + cr(depth_min, 4)\"\n",
    "    formula = \"bc ~ 0 + C(pair_type) + cr(time_delta, 4) + C(subject_id, Sum)\"\n",
    "    fit = smf.ols(formula, data=d1).fit()\n",
    "    observed_stat = fit.params\n",
    "    observed_stat[\"PostEEN - EEN\"] = (\n",
    "        observed_stat[\"C(pair_type)[PostEEN]\"] - observed_stat[\"C(pair_type)[EEN]\"]\n",
    "    )\n",
    "    observed_stat[\"Transition - EEN\"] = (\n",
    "        observed_stat[\"C(pair_type)[Transition]\"] - observed_stat[\"C(pair_type)[EEN]\"]\n",
    "    )\n",
    "    observed_stat[\"Transition - PostEEN\"] = (\n",
    "        observed_stat[\"C(pair_type)[Transition]\"]\n",
    "        - observed_stat[\"C(pair_type)[PostEEN]\"]\n",
    "    )\n",
    "    print(observed_stat[[\"Transition - EEN\", \"Transition - PostEEN\", \"PostEEN - EEN\"]])\n",
    "\n",
    "    # Calculate permutations\n",
    "    np.random.seed(1)\n",
    "    perm_stat = {}\n",
    "    for i in tqdm(range(n_perm)):\n",
    "        # Permute sample-pair labels within subjects\n",
    "        _perm_type = (\n",
    "            d0.assign(mgen_id=lambda x: x.index)\n",
    "            .groupby(\"subject_id\")\n",
    "            .pair_type.transform(np.random.permutation)\n",
    "        )\n",
    "        perm_fit = smf.ols(\n",
    "            formula,\n",
    "            data=d0.assign(\n",
    "                pair_type=_perm_type,\n",
    "            )[lambda x: x.same_subject],\n",
    "        ).fit()\n",
    "        _stat = perm_fit.params\n",
    "        _stat[\"PostEEN - EEN\"] = (\n",
    "            _stat[\"C(pair_type)[PostEEN]\"] - _stat[\"C(pair_type)[EEN]\"]\n",
    "        )\n",
    "        _stat[\"Transition - EEN\"] = (\n",
    "            _stat[\"C(pair_type)[Transition]\"] - _stat[\"C(pair_type)[EEN]\"]\n",
    "        )\n",
    "        _stat[\"Transition - PostEEN\"] = (\n",
    "            _stat[\"C(pair_type)[Transition]\"] - _stat[\"C(pair_type)[PostEEN]\"]\n",
    "        )\n",
    "        perm_stat[i] = _stat\n",
    "    perm_stat = pd.DataFrame(perm_stat).T\n",
    "\n",
    "    perm_pvalues = _calculate_2tailed_pvalue_from_perm(observed_stat, perm_stat)\n",
    "\n",
    "    fig, axs = plt.subplots(3)\n",
    "    # Plot permutation tests\n",
    "    ax = axs[0]\n",
    "    param_name = \"Transition - EEN\"\n",
    "    ax.set_title(param_name)\n",
    "    ax.hist(perm_stat[param_name], bins=20)\n",
    "    ax.axvline(observed_stat[param_name])\n",
    "    ax.annotate(\n",
    "        perm_pvalues[param_name],\n",
    "        xy=(0.95, 0.95),\n",
    "        xycoords=\"axes fraction\",\n",
    "        ha=\"right\",\n",
    "        va=\"top\",\n",
    "    )\n",
    "    ax = axs[1]\n",
    "    param_name = \"Transition - PostEEN\"\n",
    "    ax.set_title(param_name)\n",
    "    ax.hist(perm_stat[param_name], bins=20)\n",
    "    ax.axvline(observed_stat[param_name])\n",
    "    hypoth = perm_stat[param_name] > observed_stat[param_name]\n",
    "    null_p = (hypoth.sum() + 1) / (len(hypoth) + 1)\n",
    "    ax.annotate(\n",
    "        perm_pvalues[param_name],\n",
    "        xy=(0.95, 0.95),\n",
    "        xycoords=\"axes fraction\",\n",
    "        ha=\"right\",\n",
    "        va=\"top\",\n",
    "    )\n",
    "    ax = axs[2]\n",
    "    param_name = \"PostEEN - EEN\"\n",
    "    ax.set_title(param_name)\n",
    "    ax.hist(perm_stat[param_name], bins=20)\n",
    "    ax.axvline(observed_stat[param_name])\n",
    "    hypoth = perm_stat[param_name] > observed_stat[param_name]\n",
    "    null_p = (hypoth.sum() + 1) / (len(hypoth) + 1)\n",
    "    ax.annotate(\n",
    "        perm_pvalues[param_name],\n",
    "        xy=(0.95, 0.95),\n",
    "        xycoords=\"axes fraction\",\n",
    "        ha=\"right\",\n",
    "        va=\"top\",\n",
    "    )\n",
    "    fig.tight_layout()\n",
    "\n",
    "    d2 = d1.assign(\n",
    "        # predict=fit.predict(),\n",
    "        # predict_mean_subject=fit.predict(d1.assign(subject_id=_arbitrary_subject))\n",
    "        # - fit.params[f\"C(subject_id, Sum)[S.{_arbitrary_subject}]\"],\n",
    "        resid_pearson=fit.resid_pearson,\n",
    "        influence=fit.get_influence().summary_frame().cooks_d,\n",
    "    ).sort_values(\"time_delta\")\n",
    "\n",
    "    fig, ax = plt.subplots()\n",
    "    art = ax.scatter(\n",
    "        \"time_delta\",\n",
    "        \"resid_pearson\",\n",
    "        c=\"influence\",\n",
    "        data=d2,\n",
    "    )\n",
    "    fig.colorbar(art, label=\"Cook's D\")\n",
    "    # ax.set_ylabel(\"Residual BC\\n(standardized)\")\n",
    "    ax.set_xlabel(\"Within-Subjects Days between Samples\")\n",
    "    ax.set_xscale(\"symlog\")\n",
    "\n",
    "    fit.summary()\n",
    "\n",
    "    fig, ax = plt.subplots()\n",
    "    ax.set_title(\"Within-subject Pairwise Turnover\")\n",
    "    for pair_type in pair_type_order:\n",
    "        d3 = d1[lambda x: (x.pair_type == pair_type)]\n",
    "        ax.scatter(\n",
    "            \"time_delta\",\n",
    "            \"bc\",\n",
    "            label=\"__nolegend__\",\n",
    "            color=pair_type_palette[pair_type],\n",
    "            data=d3,\n",
    "            marker=pair_type_marker_palette[pair_type],\n",
    "            edgecolor='grey', lw=0.5,\n",
    "        )\n",
    "\n",
    "    _arbitrary_subject = d1.subject_id.unique()[1]\n",
    "    predict_data = pd.DataFrame(\n",
    "        product(\n",
    "            [_arbitrary_subject],\n",
    "            [\"EEN\", \"PostEEN\", \"Transition\"],\n",
    "            np.logspace(1.0, 2.6),\n",
    "            [1.0]\n",
    "        ),\n",
    "        columns=[\"subject_id\", \"pair_type\", \"time_delta\", \"depth_min\"],\n",
    "    )\n",
    "    predict_data = predict_data.assign(\n",
    "        prediction=fit.predict(predict_data),\n",
    "        predict_mean_subject=lambda x: x.prediction\n",
    "        - fit.params[f\"C(subject_id, Sum)[S.{_arbitrary_subject}]\"],\n",
    "    )\n",
    "    for pair_type in pair_type_order:\n",
    "        d4 = predict_data[lambda x: x.pair_type == pair_type]\n",
    "        left, right = d1[lambda x: x.pair_type == pair_type].time_delta.quantile(\n",
    "            [0.05, 0.95]\n",
    "        )\n",
    "        ax.plot(\n",
    "            \"time_delta\",\n",
    "            \"predict_mean_subject\",\n",
    "            label=\"__nolegend__\",\n",
    "            data=d4[lambda x: (x.time_delta > left) & (x.time_delta < right)],\n",
    "            color='black',\n",
    "            linestyle=pair_type_linestyle_palette[pair_type],\n",
    "        )\n",
    "    ax.set_ylabel(\"Pairwise Dissimilarity\")\n",
    "    ax.set_xlabel(\"Days between Samples\")\n",
    "    ax.set_xscale(\"symlog\", linthresh=1e-1)\n",
    "\n",
    "    # fig, ax = plt.subplots(figsize=(2.5, 1.5))\n",
    "    for pair_type in pair_type_order:\n",
    "        ax.plot(\n",
    "            [],\n",
    "            [],\n",
    "            label=pair_type,\n",
    "            color=pair_type_palette[pair_type],\n",
    "            marker=pair_type_marker_palette[pair_type],\n",
    "            linestyle=pair_type_linestyle_palette[pair_type],\n",
    "        )\n",
    "    ax.legend()\n",
    "\n",
    "    d2 = d1.assign(\n",
    "        predict=fit.predict(),\n",
    "        predict_mean_subject=fit.predict(d1.assign(subject_id=_arbitrary_subject))\n",
    "        - fit.params[f\"C(subject_id, Sum)[S.{_arbitrary_subject}]\"],\n",
    "        resid_pearson=fit.resid_pearson,\n",
    "        influence=fit.get_influence().summary_frame().cooks_d,\n",
    "    ).sort_values(\"time_delta\")\n",
    "\n",
    "    fig, ax = plt.subplots()\n",
    "    ax.set_title(\"Within-subject Pairwise Turnover\")\n",
    "    for subject_id, pair_type in product(subject_order, pair_type_order):\n",
    "        d3 = d2[lambda x: (x.subject_id == subject_id) & (x.pair_type == pair_type)]\n",
    "        ax.scatter(\n",
    "            \"time_delta\",\n",
    "            \"bc\",\n",
    "            label=\"__nolegend__\",\n",
    "            color=subject_palette[subject_id],\n",
    "            data=d3,\n",
    "            marker=pair_type_marker_palette[pair_type],\n",
    "            alpha=0.7,\n",
    "        )\n",
    "\n",
    "    predict_data = pd.DataFrame(\n",
    "        product(\n",
    "            [_arbitrary_subject],\n",
    "            [\"EEN\", \"PostEEN\", \"Transition\"],\n",
    "            np.logspace(1.1, 2.6),\n",
    "            [1.0],\n",
    "        ),\n",
    "        columns=[\"subject_id\", \"pair_type\", \"time_delta\", \"depth_min\"],\n",
    "    )\n",
    "    predict_data = predict_data.assign(\n",
    "        prediction=fit.predict(predict_data),\n",
    "        predict_mean_subject=lambda x: x.prediction\n",
    "        - fit.params[f\"C(subject_id, Sum)[S.{_arbitrary_subject}]\"],\n",
    "    )\n",
    "\n",
    "    for pair_type in pair_type_order:\n",
    "        d4 = predict_data[lambda x: x.pair_type == pair_type]\n",
    "        left, right = d1[lambda x: x.pair_type == pair_type].time_delta.quantile(\n",
    "            [0.05, 0.95]\n",
    "        )\n",
    "        ax.plot(\n",
    "            \"time_delta\",\n",
    "            \"predict_mean_subject\",\n",
    "            label=\"__nolegend__\",\n",
    "            data=d4[lambda x: (x.time_delta > left) & (x.time_delta < right)],\n",
    "            color=\"black\",\n",
    "            linestyle=pair_type_linestyle_palette[pair_type],\n",
    "        )\n",
    "    ax.set_ylabel(\"Bray-Curtis Dissimilarity\")\n",
    "    ax.set_xlabel(\"Days between Samples\")\n",
    "    ax.set_xscale(\"symlog\", linthresh=1e-1)\n",
    "\n",
    "    fig, ax = plt.subplots(figsize=(5, 2))\n",
    "    # Legends\n",
    "    for subject_id in subject_order:\n",
    "        ax.scatter(\n",
    "            [], [], label=subject_id, color=subject_palette[subject_id], marker=\"s\"\n",
    "        )\n",
    "    ax.legend(ncols=5, title=\"Subject\")\n",
    "\n",
    "    fig, ax = plt.subplots(figsize=(2.5, 1.5))\n",
    "    for pair_type in pair_type_order:\n",
    "        ax.plot(\n",
    "            [],\n",
    "            [],\n",
    "            label=pair_type,\n",
    "            color=\"black\",\n",
    "            marker=pair_type_marker_palette[pair_type],\n",
    "            linestyle=pair_type_linestyle_palette[pair_type],\n",
    "        )\n",
    "    ax.legend()\n",
    "    return fit.summary()"
   ]
  },
  {
   "cell_type": "markdown",
   "metadata": {},
   "source": [
    "### Metagenomic Species Turnover"
   ]
  },
  {
   "cell_type": "code",
   "execution_count": null,
   "metadata": {},
   "outputs": [],
   "source": [
    "turnover_analysis3(\n",
    "    _rabund=motu_rabund,\n",
    "    _meta=sample[\n",
    "        sample.diet_or_media.isin([\"EEN\", \"PostEEN\"])\n",
    "        & ~sample.collection_date_relative_een_end.isna()\n",
    "    ].assign(depth=0),\n",
    ")"
   ]
  },
  {
   "cell_type": "markdown",
   "metadata": {},
   "source": [
    "### zOTU Species Turnover"
   ]
  },
  {
   "cell_type": "code",
   "execution_count": null,
   "metadata": {},
   "outputs": [],
   "source": [
    "turnover_analysis3(\n",
    "    _rabund=rotu_rabund,\n",
    "    _meta=sample[\n",
    "        sample.diet_or_media.isin([\"EEN\", \"PostEEN\"])\n",
    "        & ~sample.collection_date_relative_een_end.isna()\n",
    "    ].assign(depth=0),\n",
    ")"
   ]
  },
  {
   "cell_type": "markdown",
   "metadata": {},
   "source": [
    "### zOTU Species Turnover using Generalized Unifrac"
   ]
  },
  {
   "cell_type": "code",
   "execution_count": null,
   "metadata": {},
   "outputs": [],
   "source": [
    "dmat_gunifrac = pd.read_excel('raw/een-mgen/2023-09-28_deborah.haecker@tum-create.edu.sg/distance-matrix-gunif_Byron.xlsx', index_col='ID')"
   ]
  },
  {
   "cell_type": "code",
   "execution_count": null,
   "metadata": {},
   "outputs": [],
   "source": [
    "_rabund = rotu_rabund\n",
    "_meta=sample[\n",
    "        sample.diet_or_media.isin([\"EEN\", \"PostEEN\"])\n",
    "        & ~sample.collection_date_relative_een_end.isna()\n",
    "    ].assign(depth=0)\n",
    "\n",
    "_rabund, _meta = lib.pandas_util.align_indexes(_rabund, _meta)\n",
    "\n",
    "_dmat = dmat_gunifrac.loc[_meta.index, _meta.index]\n",
    "\n",
    "turnover_analysis3(\n",
    "    _rabund=_rabund,\n",
    "    _meta=_meta,\n",
    "    _dmat=_dmat,\n",
    "    n_perm=999,\n",
    ")"
   ]
  },
  {
   "cell_type": "markdown",
   "metadata": {},
   "source": [
    "### zOTU Species Turnover (but same samples as Metagenomic Species)"
   ]
  },
  {
   "cell_type": "code",
   "execution_count": null,
   "metadata": {},
   "outputs": [],
   "source": [
    "turnover_analysis3(\n",
    "    _rabund=rotu_rabund.loc[motu_rabund.index],\n",
    "    _meta=sample[\n",
    "        sample.diet_or_media.isin([\"EEN\", \"PostEEN\"])\n",
    "        & ~sample.collection_date_relative_een_end.isna()\n",
    "    ].assign(depth=0),\n",
    ")"
   ]
  },
  {
   "cell_type": "markdown",
   "metadata": {},
   "source": [
    "### zOTU Species Turnover using Generalized Unifrac (but same samples as Metagenomic Species)"
   ]
  },
  {
   "cell_type": "code",
   "execution_count": null,
   "metadata": {},
   "outputs": [],
   "source": [
    "_rabund = rotu_rabund.loc[motu_rabund.index]\n",
    "_meta=sample[\n",
    "        sample.diet_or_media.isin([\"EEN\", \"PostEEN\"])\n",
    "        & ~sample.collection_date_relative_een_end.isna()\n",
    "    ].assign(depth=0)\n",
    "\n",
    "_rabund, _meta = lib.pandas_util.align_indexes(_rabund, _meta)\n",
    "\n",
    "_dmat = dmat_gunifrac.loc[_meta.index, _meta.index]\n",
    "\n",
    "turnover_analysis3(\n",
    "    _rabund=_rabund,\n",
    "    _meta=_meta,\n",
    "    _dmat=_dmat,\n",
    ")"
   ]
  },
  {
   "cell_type": "markdown",
   "metadata": {},
   "source": [
    "### Strain Turnover"
   ]
  },
  {
   "cell_type": "code",
   "execution_count": null,
   "metadata": {},
   "outputs": [],
   "source": [
    "turnover_analysis3(\n",
    "    _rabund=sotu_rabund,\n",
    "    _meta=sample[\n",
    "        sample.diet_or_media.isin([\"EEN\", \"PostEEN\"])\n",
    "        & ~sample.collection_date_relative_een_end.isna()\n",
    "    ].assign(depth=0),\n",
    ")"
   ]
  },
  {
   "cell_type": "markdown",
   "metadata": {},
   "source": [
    "### Strain Turnover while Controlling for Species"
   ]
  },
  {
   "cell_type": "code",
   "execution_count": null,
   "metadata": {},
   "outputs": [],
   "source": [
    "turnover_analysis3(\n",
    "    _rabund=sotu_rabund,\n",
    "    _rabund_ctrl=motu_rabund,\n",
    "    _meta=sample[\n",
    "        sample.diet_or_media.isin([\"EEN\", \"PostEEN\"])\n",
    "        & ~sample.collection_date_relative_een_end.isna()\n",
    "    ].assign(depth=0),\n",
    ")"
   ]
  },
  {
   "cell_type": "markdown",
   "metadata": {},
   "source": [
    "### Individual strain turnover"
   ]
  },
  {
   "cell_type": "markdown",
   "metadata": {},
   "source": [
    "#### g__Escherichia coli_D"
   ]
  },
  {
   "cell_type": "code",
   "execution_count": null,
   "metadata": {},
   "outputs": [],
   "source": [
    "_species_id = \"102506\"\n",
    "_world = (\n",
    "    sf.data.World.load(\n",
    "        f\"data/group/een/species/sp-{_species_id}/r.proc.gtpro.sfacts-fit.world.nc\",\n",
    "        validate=False,\n",
    "    )\n",
    "    .rename_coords(sample=lambda s: \"CF_{}\".format(int(s.split(\"_\")[1])))\n",
    "    .rename_coords(sample={'CF_11': 'CF_15', 'CF_15': 'CF_11'})  # Sample swap\n",
    ")\n",
    "_rabund = _world.community.sel(sample=_world.metagenotype.mean_depth() > 1e-1).to_pandas()\n",
    "_meta=sample[\n",
    "        sample.diet_or_media.isin([\"EEN\", \"PostEEN\"])\n",
    "        & ~sample.collection_date_relative_een_end.isna()\n",
    "    ].assign(depth=0)\n",
    "\n",
    "turnover_analysis3(\n",
    "    _rabund=_rabund,\n",
    "    _meta=_meta,\n",
    ")"
   ]
  },
  {
   "cell_type": "code",
   "execution_count": null,
   "metadata": {},
   "outputs": [],
   "source": [
    "_species_id = \"102506\"\n",
    "_world = (\n",
    "    sf.data.World.load(\n",
    "        f\"data/group/een/species/sp-{_species_id}/r.proc.gtpro.sfacts-fit.world.nc\",\n",
    "        validate=False,\n",
    "    )\n",
    "    .rename_coords(sample=lambda s: \"CF_{}\".format(int(s.split(\"_\")[1])))\n",
    "    .rename_coords(sample={'CF_11': 'CF_15', 'CF_15': 'CF_11'})  # Sample swap\n",
    ")\n",
    "_rabund = _world.community.sel(sample=_world.metagenotype.mean_depth() > 1e-1).to_pandas()\n",
    "_meta=sample[\n",
    "        sample.diet_or_media.isin([\"EEN\", \"PostEEN\"])\n",
    "        & ~sample.collection_date_relative_een_end.isna()\n",
    "    ].assign(depth=0)\n",
    "\n",
    "_rabund, _meta = lib.pandas_util.align_indexes(_rabund, _meta)\n",
    "\n",
    "_dmat = _world.unifrac_pdist(discretized=False).loc[_meta.index, _meta.index]\n",
    "\n",
    "turnover_analysis3(\n",
    "    _rabund=_rabund,\n",
    "    _meta=_meta,\n",
    "    _dmat=_dmat,\n",
    ")"
   ]
  },
  {
   "cell_type": "markdown",
   "metadata": {},
   "source": [
    "#### s__Eggerthella lenta"
   ]
  },
  {
   "cell_type": "code",
   "execution_count": null,
   "metadata": {},
   "outputs": [],
   "source": [
    "_species_id = \"102544\"\n",
    "_world = (\n",
    "    sf.data.World.load(\n",
    "        f\"data/group/een/species/sp-{_species_id}/r.proc.gtpro.sfacts-fit.world.nc\",\n",
    "        validate=False,\n",
    "    )\n",
    "    .rename_coords(sample=lambda s: \"CF_{}\".format(int(s.split(\"_\")[1])))\n",
    "    .rename_coords(sample={'CF_11': 'CF_15', 'CF_15': 'CF_11'})  # Sample swap\n",
    ")\n",
    "_rabund = _world.community.sel(sample=_world.metagenotype.mean_depth() > 1e-1).to_pandas()\n",
    "_meta = sample[\n",
    "        sample.diet_or_media.isin([\"EEN\", \"PostEEN\"])\n",
    "        & ~sample.collection_date_relative_een_end.isna()\n",
    "    ].assign(depth=0)\n",
    "\n",
    "turnover_analysis3(\n",
    "    _rabund=_rabund,\n",
    "    _meta=_meta,\n",
    ")"
   ]
  },
  {
   "cell_type": "code",
   "execution_count": null,
   "metadata": {},
   "outputs": [],
   "source": [
    "_species_id = \"102544\"\n",
    "_world = (\n",
    "    sf.data.World.load(\n",
    "        f\"data/group/een/species/sp-{_species_id}/r.proc.gtpro.sfacts-fit.world.nc\",\n",
    "        validate=False,\n",
    "    )\n",
    "    .rename_coords(sample=lambda s: \"CF_{}\".format(int(s.split(\"_\")[1])))\n",
    "    .rename_coords(sample={'CF_11': 'CF_15', 'CF_15': 'CF_11'})  # Sample swap\n",
    ")\n",
    "_rabund = _world.community.sel(sample=_world.metagenotype.mean_depth() > 1e-1).to_pandas()\n",
    "_meta=sample[\n",
    "        sample.diet_or_media.isin([\"EEN\", \"PostEEN\"])\n",
    "        & ~sample.collection_date_relative_een_end.isna()\n",
    "    ].assign(depth=0)\n",
    "\n",
    "_rabund, _meta = lib.pandas_util.align_indexes(_rabund, _meta)\n",
    "\n",
    "_dmat = _world.unifrac_pdist(discretized=False).loc[_meta.index, _meta.index]\n",
    "\n",
    "turnover_analysis3(\n",
    "    _rabund=_rabund,\n",
    "    _meta=_meta,\n",
    "    _dmat=_dmat,\n",
    ")"
   ]
  },
  {
   "cell_type": "markdown",
   "metadata": {},
   "source": [
    "#### s__Flavonifractor plautii"
   ]
  },
  {
   "cell_type": "code",
   "execution_count": null,
   "metadata": {},
   "outputs": [],
   "source": [
    "_species_id = \"100099\"\n",
    "_world = (\n",
    "    sf.data.World.load(\n",
    "        f\"data/group/een/species/sp-{_species_id}/r.proc.gtpro.sfacts-fit.world.nc\",\n",
    "        validate=False,\n",
    "    )\n",
    "    .rename_coords(sample=lambda s: \"CF_{}\".format(int(s.split(\"_\")[1])))\n",
    "    .rename_coords(sample={'CF_11': 'CF_15', 'CF_15': 'CF_11'})  # Sample swap\n",
    ")\n",
    "_rabund = _world.community.sel(sample=_world.metagenotype.mean_depth() > 1e-1).to_pandas()\n",
    "_meta = sample[\n",
    "        sample.diet_or_media.isin([\"EEN\", \"PostEEN\"])\n",
    "        & ~sample.collection_date_relative_een_end.isna()\n",
    "    ].assign(depth=0)\n",
    "\n",
    "turnover_analysis3(\n",
    "    _rabund=_rabund,\n",
    "    _meta=_meta,\n",
    ")"
   ]
  },
  {
   "cell_type": "code",
   "execution_count": null,
   "metadata": {},
   "outputs": [],
   "source": [
    "_species_id = \"102544\"\n",
    "_world = (\n",
    "    sf.data.World.load(\n",
    "        f\"data/group/een/species/sp-{_species_id}/r.proc.gtpro.sfacts-fit.world.nc\",\n",
    "        validate=False,\n",
    "    )\n",
    "    .rename_coords(sample=lambda s: \"CF_{}\".format(int(s.split(\"_\")[1])))\n",
    "    .rename_coords(sample={'CF_11': 'CF_15', 'CF_15': 'CF_11'})  # Sample swap\n",
    ")\n",
    "_rabund = _world.community.sel(sample=_world.metagenotype.mean_depth() > 1e-1).to_pandas()\n",
    "_meta=sample[\n",
    "        sample.diet_or_media.isin([\"EEN\", \"PostEEN\"])\n",
    "        & ~sample.collection_date_relative_een_end.isna()\n",
    "    ].assign(depth=0)\n",
    "\n",
    "_rabund, _meta = lib.pandas_util.align_indexes(_rabund, _meta)\n",
    "\n",
    "_dmat = _world.unifrac_pdist(discretized=False).loc[_meta.index, _meta.index]\n",
    "\n",
    "turnover_analysis3(\n",
    "    _rabund=_rabund,\n",
    "    _meta=_meta,\n",
    "    _dmat=_dmat,\n",
    ")"
   ]
  },
  {
   "cell_type": "markdown",
   "metadata": {},
   "source": [
    "#### s__Bacteroides uniformis"
   ]
  },
  {
   "cell_type": "code",
   "execution_count": null,
   "metadata": {},
   "outputs": [],
   "source": [
    "_species_id = \"101346\"\n",
    "_world = (\n",
    "    sf.data.World.load(\n",
    "        f\"data/group/een/species/sp-{_species_id}/r.proc.gtpro.sfacts-fit.world.nc\",\n",
    "        validate=False,\n",
    "    )\n",
    "    .rename_coords(sample=lambda s: \"CF_{}\".format(int(s.split(\"_\")[1])))\n",
    "    .rename_coords(sample={'CF_11': 'CF_15', 'CF_15': 'CF_11'})  # Sample swap\n",
    ")\n",
    "_rabund = _world.community.sel(sample=_world.metagenotype.mean_depth() > 1e-1).to_pandas()\n",
    "_meta = sample[\n",
    "        sample.diet_or_media.isin([\"EEN\", \"PostEEN\"])\n",
    "        & ~sample.collection_date_relative_een_end.isna()\n",
    "    ].assign(depth=0)\n",
    "\n",
    "turnover_analysis3(\n",
    "    _rabund=_rabund,\n",
    "    _meta=_meta,\n",
    ")"
   ]
  },
  {
   "cell_type": "markdown",
   "metadata": {},
   "source": [
    "#### TODO1"
   ]
  },
  {
   "cell_type": "code",
   "execution_count": null,
   "metadata": {},
   "outputs": [],
   "source": [
    "_species_id = \"101378\"\n",
    "_world = (\n",
    "    sf.data.World.load(\n",
    "        f\"data/group/een/species/sp-{_species_id}/r.proc.gtpro.sfacts-fit.world.nc\",\n",
    "        validate=False,\n",
    "    )\n",
    "    .rename_coords(sample=lambda s: \"CF_{}\".format(int(s.split(\"_\")[1])))\n",
    "    .rename_coords(sample={'CF_11': 'CF_15', 'CF_15': 'CF_11'})  # Sample swap\n",
    ")\n",
    "_rabund = _world.community.sel(sample=_world.metagenotype.mean_depth() > 1e-1).to_pandas()\n",
    "_meta = sample[\n",
    "        sample.diet_or_media.isin([\"EEN\", \"PostEEN\"])\n",
    "        & ~sample.collection_date_relative_een_end.isna()\n",
    "    ].assign(depth=0)\n",
    "\n",
    "turnover_analysis3(\n",
    "    _rabund=_rabund,\n",
    "    _meta=_meta,\n",
    ")"
   ]
  },
  {
   "cell_type": "code",
   "execution_count": null,
   "metadata": {},
   "outputs": [],
   "source": []
  }
 ],
 "metadata": {
  "kernelspec": {
   "display_name": "toolz2",
   "language": "python",
   "name": "toolz2"
  },
  "language_info": {
   "codemirror_mode": {
    "name": "ipython",
    "version": 3
   },
   "file_extension": ".py",
   "mimetype": "text/x-python",
   "name": "python",
   "nbconvert_exporter": "python",
   "pygments_lexer": "ipython3",
   "version": "3.10.12"
  }
 },
 "nbformat": 4,
 "nbformat_minor": 5
}