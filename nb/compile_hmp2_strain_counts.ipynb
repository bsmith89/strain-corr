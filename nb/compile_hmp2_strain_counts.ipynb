{
 "cells": [
  {
   "cell_type": "markdown",
   "metadata": {},
   "source": [
    "## Preamble"
   ]
  },
  {
   "cell_type": "markdown",
   "metadata": {},
   "source": [
    "### Project Template"
   ]
  },
  {
   "cell_type": "code",
   "execution_count": null,
   "metadata": {},
   "outputs": [],
   "source": [
    "%load_ext autoreload"
   ]
  },
  {
   "cell_type": "code",
   "execution_count": null,
   "metadata": {},
   "outputs": [],
   "source": [
    "import os as _os\n",
    "\n",
    "_os.chdir(_os.environ[\"PROJECT_ROOT\"])\n",
    "_os.path.realpath(_os.path.curdir)"
   ]
  },
  {
   "cell_type": "markdown",
   "metadata": {},
   "source": [
    "### Imports"
   ]
  },
  {
   "cell_type": "code",
   "execution_count": null,
   "metadata": {},
   "outputs": [],
   "source": [
    "import os\n",
    "\n",
    "import matplotlib as mpl\n",
    "import matplotlib.pyplot as plt\n",
    "import pandas as pd\n",
    "import seaborn as sns\n",
    "from tqdm import tqdm\n",
    "\n",
    "import lib.plot"
   ]
  },
  {
   "cell_type": "markdown",
   "metadata": {},
   "source": [
    "### Set Style"
   ]
  },
  {
   "cell_type": "code",
   "execution_count": null,
   "metadata": {},
   "outputs": [],
   "source": [
    "sns.set_context(\"talk\")\n",
    "plt.rcParams[\"figure.dpi\"] = 50"
   ]
  },
  {
   "cell_type": "code",
   "execution_count": null,
   "metadata": {},
   "outputs": [],
   "source": [
    "genome_type_palette = {\"SPGC\": \"tab:green\", \"MAG\": \"tab:orange\", \"Isolate\": \"tab:blue\"}"
   ]
  },
  {
   "cell_type": "markdown",
   "metadata": {},
   "source": [
    "## Data Setup"
   ]
  },
  {
   "cell_type": "markdown",
   "metadata": {},
   "source": [
    "### Metadata"
   ]
  },
  {
   "cell_type": "code",
   "execution_count": null,
   "metadata": {},
   "outputs": [],
   "source": [
    "species_list = (\n",
    "    pd.read_table(\"meta/species_group.tsv\")[\n",
    "        lambda x: x.species_group_id == \"xjin_ucfmt_hmp2\"\n",
    "    ]\n",
    "    .species_id.astype(str)\n",
    "    .unique()\n",
    ")"
   ]
  },
  {
   "cell_type": "code",
   "execution_count": null,
   "metadata": {},
   "outputs": [],
   "source": [
    "def parse_taxonomy_string(taxonomy_string):\n",
    "    values = taxonomy_string.split(\";\")\n",
    "    return pd.Series(values, index=[\"d__\", \"p__\", \"c__\", \"o__\", \"f__\", \"g__\", \"s__\"])"
   ]
  },
  {
   "cell_type": "code",
   "execution_count": null,
   "metadata": {},
   "outputs": [],
   "source": [
    "species_taxonomy_inpath = \"ref/uhgg_genomes_all_v2.tsv\"\n",
    "\n",
    "species_taxonomy = (\n",
    "    pd.read_table(species_taxonomy_inpath)[lambda x: x.Genome == x.Species_rep]\n",
    "    .assign(species_id=lambda x: \"1\" + x.MGnify_accession.str.split(\"-\").str[2])\n",
    "    .set_index(\"species_id\")[[\"Lineage\"]]\n",
    ")\n",
    "species_taxonomy = species_taxonomy.join(\n",
    "    species_taxonomy.Lineage.apply(parse_taxonomy_string)\n",
    ")\n",
    "species_taxonomy"
   ]
  },
  {
   "cell_type": "code",
   "execution_count": null,
   "metadata": {},
   "outputs": [],
   "source": [
    "phylum_palette = lib.plot.construct_ordered_palette(\n",
    "    sorted(species_taxonomy.p__.unique()),\n",
    "    cm=\"tab10\",\n",
    ")"
   ]
  },
  {
   "cell_type": "markdown",
   "metadata": {},
   "source": [
    "### Strain Statistics"
   ]
  },
  {
   "cell_type": "code",
   "execution_count": null,
   "metadata": {},
   "outputs": [],
   "source": [
    "def classify_genome(x):\n",
    "    \"\"\"Re-label genomes to a mutually exclusive vocabulary for manuscript.\"\"\"\n",
    "    if (x.genome_type == \"Isolate\") & x.passes_filter:\n",
    "        return \"isolate\"\n",
    "    elif (x.genome_type == \"Isolate\") & ~x.passes_filter:\n",
    "        return \"isolate_fails_qc\"\n",
    "    elif (x.genome_type == \"MAG\") & x.passes_filter:\n",
    "        return \"mag\"\n",
    "    elif (x.genome_type == \"MAG\") & ~x.passes_filter:\n",
    "        return \"mag_fails_qc\"\n",
    "    elif (x.genome_type == \"SPGC\") & x.passes_filter:\n",
    "        return \"spgc\"\n",
    "    elif (x.genome_type == \"SPGC\") & x.passes_geno_positions & x.passes_in_sample_list:\n",
    "        return \"sfacts\"\n",
    "    elif (x.genome_type == \"SPGC\") & ~(\n",
    "        x.passes_geno_positions & x.passes_in_sample_list\n",
    "    ):\n",
    "        return \"sfacts_fails_qc\"\n",
    "    else:\n",
    "        raise ValueError(\"Genome did not match classification criteria:\", x)"
   ]
  },
  {
   "cell_type": "code",
   "execution_count": null,
   "metadata": {},
   "outputs": [],
   "source": [
    "filt_stats = []\n",
    "missing_species = []\n",
    "\n",
    "_species_list = species_list\n",
    "\n",
    "for species in tqdm(_species_list):\n",
    "    # NOTE: All paths are relative to /pollard/data/projects/bsmith/strain-corr\n",
    "    # These tables are for each species individually.\n",
    "    # Here's I'm concatenating them all together, 'cause it's easy enough to work with the whole set.\n",
    "    inpath = f\"data/group/xjin_ucfmt_hmp2/species/sp-{species}/r.proc.gtpro.sfacts-fit.gene99_new-v22-agg75.spgc-fit.uhgg-strain_gene.strain_meta_for_analysis.tsv\"\n",
    "    if not os.path.exists(inpath):\n",
    "        missing_species.append(species)\n",
    "        continue\n",
    "    data = pd.read_table(inpath, index_col=\"genome_id\").assign(species=species)\n",
    "    filt_stats.append(data)\n",
    "\n",
    "\n",
    "print(\n",
    "    len(missing_species),\n",
    "    \"out of\",\n",
    "    len(_species_list),\n",
    "    \"species are missing stats.\",\n",
    ")\n",
    "\n",
    "filt_stats = pd.concat(filt_stats).assign(\n",
    "    genome_class=lambda x: x.apply(classify_genome, axis=1)\n",
    ")"
   ]
  },
  {
   "cell_type": "code",
   "execution_count": null,
   "metadata": {},
   "outputs": [],
   "source": [
    "d0 = (\n",
    "    # For each dereplication cluster, tally number of genomes in each \"genome class\".\n",
    "    filt_stats.groupby([\"species\", \"clust\"])\n",
    "    .genome_class.value_counts()\n",
    "    .unstack(\"genome_class\", fill_value=0)\n",
    "    .assign(\n",
    "        # For each cluster, find the \"highest\" genome class present.\n",
    "        highest_genome_class=lambda x: (\n",
    "            x[\n",
    "                [\n",
    "                    \"isolate\",\n",
    "                    \"mag\",\n",
    "                    \"spgc\",\n",
    "                    \"sfacts\",\n",
    "                    \"isolate_fails_qc\",\n",
    "                    \"mag_fails_qc\",\n",
    "                    \"sfacts_fails_qc\",\n",
    "                ]\n",
    "            ]\n",
    "            > 0\n",
    "        ).idxmax(1)\n",
    "    )\n",
    ")\n",
    "d1 = (\n",
    "    # For each species, tally the number of clusters with with each highest genome class.\n",
    "    d0.groupby(\"species\")\n",
    "    .highest_genome_class.value_counts()\n",
    "    .unstack(fill_value=0)\n",
    "    # Order columns to match the genome class priority order.\n",
    "    [\n",
    "        [\n",
    "            \"isolate\",\n",
    "            \"mag\",\n",
    "            \"spgc\",\n",
    "            \"sfacts\",\n",
    "            \"isolate_fails_qc\",\n",
    "            \"mag_fails_qc\",\n",
    "            \"sfacts_fails_qc\",\n",
    "        ]\n",
    "    ]\n",
    ")\n",
    "\n",
    "# Append taxonomy.\n",
    "d2 = d1.join(species_taxonomy).sort_values(list(species_taxonomy.columns.values))\n",
    "\n",
    "# Plot a seaborn heatmap of these results.\n",
    "row_colors = d2.p__.map(phylum_palette)\n",
    "sns.clustermap(\n",
    "    d2[[\"isolate\", \"mag\", \"spgc\", \"sfacts\"]],\n",
    "    norm=mpl.colors.SymLogNorm(1),\n",
    "    col_cluster=False,\n",
    "    row_cluster=False,\n",
    "    row_colors=row_colors,\n",
    ")"
   ]
  },
  {
   "cell_type": "code",
   "execution_count": null,
   "metadata": {},
   "outputs": [],
   "source": [
    "d3 = d1.assign(taxonomy=species_taxonomy.Lineage).sort_values(\"taxonomy\")\n",
    "\n",
    "d3.to_csv(\n",
    "    \"data/group/xjin_ucfmt_hmp2/r.proc.gtpro.sfacts-fit.gene99_new-v22-agg75.spgc-fit.uhgg-strain_gene.strain_meta_for_analysis.tsv\",\n",
    "    sep=\"\\t\",\n",
    ")\n",
    "d3"
   ]
  }
 ],
 "metadata": {
  "kernelspec": {
   "display_name": "toolz3",
   "language": "python",
   "name": "toolz3"
  },
  "language_info": {
   "codemirror_mode": {
    "name": "ipython",
    "version": 3
   },
   "file_extension": ".py",
   "mimetype": "text/x-python",
   "name": "python",
   "nbconvert_exporter": "python",
   "pygments_lexer": "ipython3",
   "version": "3.10.12"
  }
 },
 "nbformat": 4,
 "nbformat_minor": 5
}