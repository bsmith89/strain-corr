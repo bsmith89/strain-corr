{
 "cells": [
  {
   "cell_type": "markdown",
   "id": "5b9ccd18",
   "metadata": {},
   "source": [
    "## Preamble"
   ]
  },
  {
   "cell_type": "markdown",
   "id": "68188a5a",
   "metadata": {},
   "source": [
    "### Project Template"
   ]
  },
  {
   "cell_type": "code",
   "execution_count": 1,
   "id": "8671afcc",
   "metadata": {
    "execution": {
     "iopub.execute_input": "2024-11-09T11:55:29.620497Z",
     "iopub.status.busy": "2024-11-09T11:55:29.619740Z",
     "iopub.status.idle": "2024-11-09T11:55:29.643503Z",
     "shell.execute_reply": "2024-11-09T11:55:29.642774Z",
     "shell.execute_reply.started": "2024-11-09T11:55:29.620470Z"
    }
   },
   "outputs": [],
   "source": [
    "%load_ext autoreload"
   ]
  },
  {
   "cell_type": "code",
   "execution_count": 2,
   "id": "3b643dde",
   "metadata": {
    "execution": {
     "iopub.execute_input": "2024-11-09T11:55:29.645208Z",
     "iopub.status.busy": "2024-11-09T11:55:29.644921Z",
     "iopub.status.idle": "2024-11-09T11:55:29.726902Z",
     "shell.execute_reply": "2024-11-09T11:55:29.726291Z",
     "shell.execute_reply.started": "2024-11-09T11:55:29.645187Z"
    }
   },
   "outputs": [
    {
     "data": {
      "text/plain": [
       "'/pollard/data/projects/bsmith/strain-corr'"
      ]
     },
     "execution_count": 2,
     "metadata": {},
     "output_type": "execute_result"
    }
   ],
   "source": [
    "import os as _os\n",
    "\n",
    "_os.chdir(_os.environ[\"PROJECT_ROOT\"])\n",
    "_os.path.realpath(_os.path.curdir)"
   ]
  },
  {
   "cell_type": "markdown",
   "id": "293f93c9",
   "metadata": {},
   "source": [
    "### Imports"
   ]
  },
  {
   "cell_type": "code",
   "execution_count": 3,
   "id": "1a3dc99c",
   "metadata": {
    "execution": {
     "iopub.execute_input": "2024-11-09T11:55:29.727868Z",
     "iopub.status.busy": "2024-11-09T11:55:29.727682Z",
     "iopub.status.idle": "2024-11-09T11:55:34.643293Z",
     "shell.execute_reply": "2024-11-09T11:55:34.642579Z",
     "shell.execute_reply.started": "2024-11-09T11:55:29.727848Z"
    }
   },
   "outputs": [
    {
     "name": "stderr",
     "output_type": "stream",
     "text": [
      "/pollard/home/bsmith/.snakemake/conda/8dd43b17b83f3accb639079fe0075b14_/lib/python3.10/site-packages/tqdm/auto.py:21: TqdmWarning: IProgress not found. Please update jupyter and ipywidgets. See https://ipywidgets.readthedocs.io/en/stable/user_install.html\n",
      "  from .autonotebook import tqdm as notebook_tqdm\n"
     ]
    }
   ],
   "source": [
    "import os\n",
    "import subprocess\n",
    "import sys\n",
    "import time\n",
    "from datetime import datetime\n",
    "from glob import glob\n",
    "from itertools import chain, product\n",
    "from tempfile import mkstemp\n",
    "\n",
    "import matplotlib as mpl\n",
    "import matplotlib.pyplot as plt\n",
    "import numpy as np\n",
    "import pandas as pd\n",
    "import scipy as sp\n",
    "import seaborn as sns\n",
    "import sfacts as sf\n",
    "import statsmodels.api as sm\n",
    "import statsmodels.formula.api as smf\n",
    "import xarray as xr\n",
    "from mpl_toolkits.axes_grid1 import make_axes_locatable\n",
    "from scipy.spatial.distance import pdist, squareform\n",
    "from statsmodels.stats.multitest import fdrcorrection\n",
    "from tqdm import tqdm\n",
    "\n",
    "import lib.plot\n",
    "from lib.dissimilarity import load_dmat_as_pickle\n",
    "from lib.pandas_util import align_indexes, aligned_index, idxwhere, invert_mapping"
   ]
  },
  {
   "cell_type": "code",
   "execution_count": 4,
   "id": "c510e620",
   "metadata": {
    "execution": {
     "iopub.execute_input": "2024-11-09T11:55:34.644474Z",
     "iopub.status.busy": "2024-11-09T11:55:34.644153Z",
     "iopub.status.idle": "2024-11-09T11:55:34.649086Z",
     "shell.execute_reply": "2024-11-09T11:55:34.648551Z",
     "shell.execute_reply.started": "2024-11-09T11:55:34.644453Z"
    }
   },
   "outputs": [],
   "source": [
    "import lib.thisproject.data"
   ]
  },
  {
   "cell_type": "markdown",
   "id": "05665a36",
   "metadata": {},
   "source": [
    "### Set Style"
   ]
  },
  {
   "cell_type": "code",
   "execution_count": 5,
   "id": "3e8befd2",
   "metadata": {
    "execution": {
     "iopub.execute_input": "2024-11-09T11:55:34.651172Z",
     "iopub.status.busy": "2024-11-09T11:55:34.650757Z",
     "iopub.status.idle": "2024-11-09T11:55:34.686258Z",
     "shell.execute_reply": "2024-11-09T11:55:34.685594Z",
     "shell.execute_reply.started": "2024-11-09T11:55:34.651151Z"
    }
   },
   "outputs": [],
   "source": [
    "sns.set_context(\"paper\")\n",
    "plt.rcParams[\"figure.dpi\"] = 200"
   ]
  },
  {
   "cell_type": "markdown",
   "id": "5f0aedca",
   "metadata": {},
   "source": [
    "## Data Setup"
   ]
  },
  {
   "cell_type": "markdown",
   "id": "b4ef8cda",
   "metadata": {},
   "source": [
    "### Metadata"
   ]
  },
  {
   "cell_type": "code",
   "execution_count": 6,
   "id": "97972624",
   "metadata": {
    "execution": {
     "iopub.execute_input": "2024-11-09T11:55:34.687266Z",
     "iopub.status.busy": "2024-11-09T11:55:34.687075Z",
     "iopub.status.idle": "2024-11-09T11:55:34.725347Z",
     "shell.execute_reply": "2024-11-09T11:55:34.724657Z",
     "shell.execute_reply.started": "2024-11-09T11:55:34.687247Z"
    }
   },
   "outputs": [],
   "source": [
    "species_list = (\n",
    "    pd.read_table(\"meta/species_group.tsv\")[lambda x: x.species_group_id == \"hmp2\"]\n",
    "    .species_id.astype(str)\n",
    "    .unique()\n",
    ")"
   ]
  },
  {
   "cell_type": "code",
   "execution_count": 7,
   "id": "0e94ac5b",
   "metadata": {
    "execution": {
     "iopub.execute_input": "2024-11-09T11:55:34.726427Z",
     "iopub.status.busy": "2024-11-09T11:55:34.726238Z",
     "iopub.status.idle": "2024-11-09T11:55:34.754407Z",
     "shell.execute_reply": "2024-11-09T11:55:34.753802Z",
     "shell.execute_reply.started": "2024-11-09T11:55:34.726407Z"
    }
   },
   "outputs": [],
   "source": [
    "def parse_taxonomy_string(taxonomy_string):\n",
    "    values = taxonomy_string.split(\";\")\n",
    "    return pd.Series(values, index=[\"d__\", \"p__\", \"c__\", \"o__\", \"f__\", \"g__\", \"s__\"])"
   ]
  },
  {
   "cell_type": "code",
   "execution_count": 8,
   "id": "bcd636b2",
   "metadata": {
    "execution": {
     "iopub.execute_input": "2024-11-09T11:55:34.755363Z",
     "iopub.status.busy": "2024-11-09T11:55:34.755183Z",
     "iopub.status.idle": "2024-11-09T11:55:37.304216Z",
     "shell.execute_reply": "2024-11-09T11:55:37.303512Z",
     "shell.execute_reply.started": "2024-11-09T11:55:34.755341Z"
    }
   },
   "outputs": [
    {
     "name": "stderr",
     "output_type": "stream",
     "text": [
      "/tmp/bsmith/ipykernel_930871/4268967817.py:4: DtypeWarning: Columns (15) have mixed types. Specify dtype option on import or set low_memory=False.\n",
      "  pd.read_table(species_taxonomy_inpath)[lambda x: x.Genome == x.Species_rep]\n"
     ]
    },
    {
     "data": {
      "text/html": [
       "<div>\n",
       "<style scoped>\n",
       "    .dataframe tbody tr th:only-of-type {\n",
       "        vertical-align: middle;\n",
       "    }\n",
       "\n",
       "    .dataframe tbody tr th {\n",
       "        vertical-align: top;\n",
       "    }\n",
       "\n",
       "    .dataframe thead th {\n",
       "        text-align: right;\n",
       "    }\n",
       "</style>\n",
       "<table border=\"1\" class=\"dataframe\">\n",
       "  <thead>\n",
       "    <tr style=\"text-align: right;\">\n",
       "      <th></th>\n",
       "      <th>d__</th>\n",
       "      <th>p__</th>\n",
       "      <th>c__</th>\n",
       "      <th>o__</th>\n",
       "      <th>f__</th>\n",
       "      <th>g__</th>\n",
       "      <th>s__</th>\n",
       "    </tr>\n",
       "    <tr>\n",
       "      <th>species_id</th>\n",
       "      <th></th>\n",
       "      <th></th>\n",
       "      <th></th>\n",
       "      <th></th>\n",
       "      <th></th>\n",
       "      <th></th>\n",
       "      <th></th>\n",
       "    </tr>\n",
       "  </thead>\n",
       "  <tbody>\n",
       "    <tr>\n",
       "      <th>100001</th>\n",
       "      <td>d__Bacteria</td>\n",
       "      <td>p__Firmicutes_A</td>\n",
       "      <td>c__Clostridia</td>\n",
       "      <td>o__Peptostreptococcales</td>\n",
       "      <td>f__Peptostreptococcaceae</td>\n",
       "      <td>g__GCA-900066495</td>\n",
       "      <td>s__</td>\n",
       "    </tr>\n",
       "    <tr>\n",
       "      <th>100002</th>\n",
       "      <td>d__Bacteria</td>\n",
       "      <td>p__Firmicutes_A</td>\n",
       "      <td>c__Clostridia</td>\n",
       "      <td>o__Lachnospirales</td>\n",
       "      <td>f__Lachnospiraceae</td>\n",
       "      <td>g__Blautia_A</td>\n",
       "      <td>s__Blautia_A sp900066165</td>\n",
       "    </tr>\n",
       "    <tr>\n",
       "      <th>100003</th>\n",
       "      <td>d__Bacteria</td>\n",
       "      <td>p__Bacteroidota</td>\n",
       "      <td>c__Bacteroidia</td>\n",
       "      <td>o__Bacteroidales</td>\n",
       "      <td>f__Rikenellaceae</td>\n",
       "      <td>g__Alistipes</td>\n",
       "      <td>s__Alistipes shahii</td>\n",
       "    </tr>\n",
       "    <tr>\n",
       "      <th>100004</th>\n",
       "      <td>d__Bacteria</td>\n",
       "      <td>p__Firmicutes_A</td>\n",
       "      <td>c__Clostridia</td>\n",
       "      <td>o__Oscillospirales</td>\n",
       "      <td>f__Ruminococcaceae</td>\n",
       "      <td>g__Anaerotruncus</td>\n",
       "      <td>s__Anaerotruncus colihominis</td>\n",
       "    </tr>\n",
       "    <tr>\n",
       "      <th>100005</th>\n",
       "      <td>d__Bacteria</td>\n",
       "      <td>p__Firmicutes_A</td>\n",
       "      <td>c__Clostridia</td>\n",
       "      <td>o__Peptostreptococcales</td>\n",
       "      <td>f__Peptostreptococcaceae</td>\n",
       "      <td>g__Terrisporobacter</td>\n",
       "      <td>s__Terrisporobacter glycolicus_A</td>\n",
       "    </tr>\n",
       "    <tr>\n",
       "      <th>...</th>\n",
       "      <td>...</td>\n",
       "      <td>...</td>\n",
       "      <td>...</td>\n",
       "      <td>...</td>\n",
       "      <td>...</td>\n",
       "      <td>...</td>\n",
       "      <td>...</td>\n",
       "    </tr>\n",
       "    <tr>\n",
       "      <th>104640</th>\n",
       "      <td>d__Bacteria</td>\n",
       "      <td>p__Bacteroidota</td>\n",
       "      <td>c__Bacteroidia</td>\n",
       "      <td>o__Bacteroidales</td>\n",
       "      <td>f__Bacteroidaceae</td>\n",
       "      <td>g__Prevotella</td>\n",
       "      <td>s__</td>\n",
       "    </tr>\n",
       "    <tr>\n",
       "      <th>104641</th>\n",
       "      <td>d__Bacteria</td>\n",
       "      <td>p__Proteobacteria</td>\n",
       "      <td>c__Gammaproteobacteria</td>\n",
       "      <td>o__Burkholderiales</td>\n",
       "      <td>f__Burkholderiaceae</td>\n",
       "      <td>g__Sutterella</td>\n",
       "      <td>s__</td>\n",
       "    </tr>\n",
       "    <tr>\n",
       "      <th>104642</th>\n",
       "      <td>d__Bacteria</td>\n",
       "      <td>p__Firmicutes_A</td>\n",
       "      <td>c__Clostridia</td>\n",
       "      <td>o__Lachnospirales</td>\n",
       "      <td>f__</td>\n",
       "      <td>g__</td>\n",
       "      <td>s__</td>\n",
       "    </tr>\n",
       "    <tr>\n",
       "      <th>104643</th>\n",
       "      <td>d__Bacteria</td>\n",
       "      <td>p__Firmicutes_A</td>\n",
       "      <td>c__Clostridia</td>\n",
       "      <td>o__Oscillospirales</td>\n",
       "      <td>f__Acutalibacteraceae</td>\n",
       "      <td>g__Eubacterium_R</td>\n",
       "      <td>s__Eubacterium_R sp003526845</td>\n",
       "    </tr>\n",
       "    <tr>\n",
       "      <th>104644</th>\n",
       "      <td>d__Bacteria</td>\n",
       "      <td>p__Firmicutes_A</td>\n",
       "      <td>c__Clostridia</td>\n",
       "      <td>o__Oscillospirales</td>\n",
       "      <td>f__Ruminococcaceae</td>\n",
       "      <td>g__Negativibacillus</td>\n",
       "      <td>s__</td>\n",
       "    </tr>\n",
       "  </tbody>\n",
       "</table>\n",
       "<p>4644 rows × 7 columns</p>\n",
       "</div>"
      ],
      "text/plain": [
       "                    d__                p__                     c__  \\\n",
       "species_id                                                           \n",
       "100001      d__Bacteria    p__Firmicutes_A           c__Clostridia   \n",
       "100002      d__Bacteria    p__Firmicutes_A           c__Clostridia   \n",
       "100003      d__Bacteria    p__Bacteroidota          c__Bacteroidia   \n",
       "100004      d__Bacteria    p__Firmicutes_A           c__Clostridia   \n",
       "100005      d__Bacteria    p__Firmicutes_A           c__Clostridia   \n",
       "...                 ...                ...                     ...   \n",
       "104640      d__Bacteria    p__Bacteroidota          c__Bacteroidia   \n",
       "104641      d__Bacteria  p__Proteobacteria  c__Gammaproteobacteria   \n",
       "104642      d__Bacteria    p__Firmicutes_A           c__Clostridia   \n",
       "104643      d__Bacteria    p__Firmicutes_A           c__Clostridia   \n",
       "104644      d__Bacteria    p__Firmicutes_A           c__Clostridia   \n",
       "\n",
       "                                o__                       f__  \\\n",
       "species_id                                                      \n",
       "100001      o__Peptostreptococcales  f__Peptostreptococcaceae   \n",
       "100002            o__Lachnospirales        f__Lachnospiraceae   \n",
       "100003             o__Bacteroidales          f__Rikenellaceae   \n",
       "100004           o__Oscillospirales        f__Ruminococcaceae   \n",
       "100005      o__Peptostreptococcales  f__Peptostreptococcaceae   \n",
       "...                             ...                       ...   \n",
       "104640             o__Bacteroidales         f__Bacteroidaceae   \n",
       "104641           o__Burkholderiales       f__Burkholderiaceae   \n",
       "104642            o__Lachnospirales                       f__   \n",
       "104643           o__Oscillospirales     f__Acutalibacteraceae   \n",
       "104644           o__Oscillospirales        f__Ruminococcaceae   \n",
       "\n",
       "                            g__                               s__  \n",
       "species_id                                                         \n",
       "100001         g__GCA-900066495                               s__  \n",
       "100002             g__Blautia_A          s__Blautia_A sp900066165  \n",
       "100003             g__Alistipes               s__Alistipes shahii  \n",
       "100004         g__Anaerotruncus      s__Anaerotruncus colihominis  \n",
       "100005      g__Terrisporobacter  s__Terrisporobacter glycolicus_A  \n",
       "...                         ...                               ...  \n",
       "104640            g__Prevotella                               s__  \n",
       "104641            g__Sutterella                               s__  \n",
       "104642                      g__                               s__  \n",
       "104643         g__Eubacterium_R      s__Eubacterium_R sp003526845  \n",
       "104644      g__Negativibacillus                               s__  \n",
       "\n",
       "[4644 rows x 7 columns]"
      ]
     },
     "execution_count": 8,
     "metadata": {},
     "output_type": "execute_result"
    }
   ],
   "source": [
    "species_taxonomy_inpath = \"ref/uhgg_genomes_all_v2.tsv\"\n",
    "\n",
    "species_taxonomy = (\n",
    "    pd.read_table(species_taxonomy_inpath)[lambda x: x.Genome == x.Species_rep]\n",
    "    .assign(species_id=lambda x: \"1\" + x.MGnify_accession.str.split(\"-\").str[2])\n",
    "    .set_index(\"species_id\")\n",
    "    .Lineage.apply(parse_taxonomy_string)\n",
    ")\n",
    "species_taxonomy"
   ]
  },
  {
   "cell_type": "code",
   "execution_count": 9,
   "id": "c6da5687",
   "metadata": {
    "execution": {
     "iopub.execute_input": "2024-11-09T11:55:37.305292Z",
     "iopub.status.busy": "2024-11-09T11:55:37.305096Z",
     "iopub.status.idle": "2024-11-09T11:55:37.312147Z",
     "shell.execute_reply": "2024-11-09T11:55:37.311502Z",
     "shell.execute_reply.started": "2024-11-09T11:55:37.305272Z"
    }
   },
   "outputs": [],
   "source": [
    "phylum_palette = lib.plot.construct_ordered_palette(\n",
    "    sorted(species_taxonomy.p__.unique()),\n",
    "    cm=\"tab10\",\n",
    ")\n",
    "\n",
    "# assert len(set(phylum_palette.values())) == len((phylum_palette.values()))"
   ]
  },
  {
   "cell_type": "code",
   "execution_count": 10,
   "id": "3e91e3f5",
   "metadata": {
    "execution": {
     "iopub.execute_input": "2024-11-09T11:55:37.313109Z",
     "iopub.status.busy": "2024-11-09T11:55:37.312927Z",
     "iopub.status.idle": "2024-11-09T11:55:37.480300Z",
     "shell.execute_reply": "2024-11-09T11:55:37.479438Z",
     "shell.execute_reply.started": "2024-11-09T11:55:37.313089Z"
    }
   },
   "outputs": [],
   "source": [
    "mgen = pd.read_table(\"meta/hmp2/mgen.tsv\", index_col=\"library_id\")\n",
    "preparation = pd.read_table(\"meta/hmp2/preparation.tsv\", index_col=\"preparation_id\")\n",
    "stool = pd.read_table(\"meta/hmp2/stool.tsv\", index_col=\"stool_id\")\n",
    "visit = pd.read_table(\"meta/hmp2/visit.tsv\", index_col=\"visit_id\")\n",
    "subject = pd.read_table(\"meta/hmp2/subject.tsv\", index_col=\"subject_id\")\n",
    "\n",
    "meta_all = (\n",
    "    mgen.join(preparation.drop(columns=\"library_type\"), on=\"preparation_id\")\n",
    "    .join(stool, on=\"stool_id\")\n",
    "    .join(visit, on=\"visit_id\", rsuffix=\"_\")\n",
    "    .join(subject, on=\"subject_id\")\n",
    "    .assign(\n",
    "        new_name=lambda x: (\n",
    "            x[[\"subject_id\", \"week_number\"]]\n",
    "            .assign(library_id=x.index)\n",
    "            .assign(week_number=lambda x: x.week_number.fillna(999).astype(int))\n",
    "            .apply(lambda x: \"_\".join(x.astype(str)), axis=1)\n",
    "        )\n",
    "    )\n",
    "    # .reset_index()\n",
    "    # .set_index('new_name')\n",
    ")\n",
    "\n",
    "library_id_to_new_name = meta_all.new_name\n",
    "\n",
    "assert not any(meta_all.subject_id.isna())\n",
    "\n",
    "# TODO: Rename samples based on subject and visit number\n",
    "# TODO: Drop duplicate stools"
   ]
  },
  {
   "cell_type": "markdown",
   "id": "ce226e25",
   "metadata": {},
   "source": [
    "### Species Depth"
   ]
  },
  {
   "cell_type": "code",
   "execution_count": 11,
   "id": "bc1e55dc",
   "metadata": {
    "execution": {
     "iopub.execute_input": "2024-11-09T11:55:37.481483Z",
     "iopub.status.busy": "2024-11-09T11:55:37.481216Z",
     "iopub.status.idle": "2024-11-09T11:55:39.167994Z",
     "shell.execute_reply": "2024-11-09T11:55:39.167334Z",
     "shell.execute_reply.started": "2024-11-09T11:55:37.481463Z"
    }
   },
   "outputs": [
    {
     "name": "stderr",
     "output_type": "stream",
     "text": [
      "100%|█████████████████████████████████████████████████████████████████████████████████████████████████████████████████████| 627/627 [00:01<00:00, 501.31it/s]\n"
     ]
    },
    {
     "name": "stdout",
     "output_type": "stream",
     "text": [
      "0 out of 627 species are missing.\n"
     ]
    }
   ],
   "source": [
    "species_depth = []\n",
    "_missing_species = []\n",
    "\n",
    "for species in tqdm(species_list):\n",
    "    inpath = f\"data/group/hmp2/species/sp-{species}/r.proc.gene99_v20-v23-agg75.spgc_specgene-ref-filt-p95.species_depth.tsv\"\n",
    "    if not os.path.exists(inpath):\n",
    "        _missing_species.append(species)\n",
    "        continue\n",
    "    data = pd.read_table(inpath, names=[\"sample\", \"depth\"]).assign(species=species)\n",
    "    species_depth.append(data)\n",
    "species_depth = (\n",
    "    pd.concat(species_depth)\n",
    "    .set_index([\"sample\", \"species\"])\n",
    "    .depth.unstack(fill_value=0)\n",
    ")\n",
    "\n",
    "print(\n",
    "    len(_missing_species),\n",
    "    \"out of\",\n",
    "    len(species_list),\n",
    "    \"species are missing.\",\n",
    ")"
   ]
  },
  {
   "cell_type": "code",
   "execution_count": 12,
   "id": "f2ec8e57",
   "metadata": {
    "execution": {
     "iopub.execute_input": "2024-11-09T11:55:39.169083Z",
     "iopub.status.busy": "2024-11-09T11:55:39.168897Z",
     "iopub.status.idle": "2024-11-09T11:55:39.216458Z",
     "shell.execute_reply": "2024-11-09T11:55:39.215839Z",
     "shell.execute_reply.started": "2024-11-09T11:55:39.169064Z"
    }
   },
   "outputs": [
    {
     "data": {
      "text/html": [
       "<div>\n",
       "<style scoped>\n",
       "    .dataframe tbody tr th:only-of-type {\n",
       "        vertical-align: middle;\n",
       "    }\n",
       "\n",
       "    .dataframe tbody tr th {\n",
       "        vertical-align: top;\n",
       "    }\n",
       "\n",
       "    .dataframe thead th {\n",
       "        text-align: right;\n",
       "    }\n",
       "</style>\n",
       "<table border=\"1\" class=\"dataframe\">\n",
       "  <thead>\n",
       "    <tr style=\"text-align: right;\">\n",
       "      <th></th>\n",
       "      <th>prevalence</th>\n",
       "      <th>mean_rabund</th>\n",
       "      <th>median_rabund</th>\n",
       "      <th>d__</th>\n",
       "      <th>p__</th>\n",
       "      <th>c__</th>\n",
       "      <th>o__</th>\n",
       "      <th>f__</th>\n",
       "      <th>g__</th>\n",
       "      <th>s__</th>\n",
       "    </tr>\n",
       "    <tr>\n",
       "      <th>species</th>\n",
       "      <th></th>\n",
       "      <th></th>\n",
       "      <th></th>\n",
       "      <th></th>\n",
       "      <th></th>\n",
       "      <th></th>\n",
       "      <th></th>\n",
       "      <th></th>\n",
       "      <th></th>\n",
       "      <th></th>\n",
       "    </tr>\n",
       "  </thead>\n",
       "  <tbody>\n",
       "    <tr>\n",
       "      <th>101345</th>\n",
       "      <td>0.971698</td>\n",
       "      <td>0.015968</td>\n",
       "      <td>0.007896</td>\n",
       "      <td>d__Bacteria</td>\n",
       "      <td>p__Bacteroidota</td>\n",
       "      <td>c__Bacteroidia</td>\n",
       "      <td>o__Bacteroidales</td>\n",
       "      <td>f__Bacteroidaceae</td>\n",
       "      <td>g__Bacteroides</td>\n",
       "      <td>s__Bacteroides xylanisolvens</td>\n",
       "    </tr>\n",
       "    <tr>\n",
       "      <th>101378</th>\n",
       "      <td>0.962264</td>\n",
       "      <td>0.027595</td>\n",
       "      <td>0.012972</td>\n",
       "      <td>d__Bacteria</td>\n",
       "      <td>p__Bacteroidota</td>\n",
       "      <td>c__Bacteroidia</td>\n",
       "      <td>o__Bacteroidales</td>\n",
       "      <td>f__Bacteroidaceae</td>\n",
       "      <td>g__Bacteroides</td>\n",
       "      <td>s__Bacteroides ovatus</td>\n",
       "    </tr>\n",
       "    <tr>\n",
       "      <th>102478</th>\n",
       "      <td>0.962264</td>\n",
       "      <td>0.162656</td>\n",
       "      <td>0.137527</td>\n",
       "      <td>d__Bacteria</td>\n",
       "      <td>p__Bacteroidota</td>\n",
       "      <td>c__Bacteroidia</td>\n",
       "      <td>o__Bacteroidales</td>\n",
       "      <td>f__Bacteroidaceae</td>\n",
       "      <td>g__Bacteroides_B</td>\n",
       "      <td>s__Bacteroides_B dorei</td>\n",
       "    </tr>\n",
       "    <tr>\n",
       "      <th>101300</th>\n",
       "      <td>0.943396</td>\n",
       "      <td>0.020052</td>\n",
       "      <td>0.010758</td>\n",
       "      <td>d__Bacteria</td>\n",
       "      <td>p__Firmicutes_A</td>\n",
       "      <td>c__Clostridia</td>\n",
       "      <td>o__Oscillospirales</td>\n",
       "      <td>f__Ruminococcaceae</td>\n",
       "      <td>g__Faecalibacterium</td>\n",
       "      <td>s__Faecalibacterium prausnitzii_K</td>\n",
       "    </tr>\n",
       "    <tr>\n",
       "      <th>102545</th>\n",
       "      <td>0.943396</td>\n",
       "      <td>0.023713</td>\n",
       "      <td>0.008445</td>\n",
       "      <td>d__Bacteria</td>\n",
       "      <td>p__Firmicutes_A</td>\n",
       "      <td>c__Clostridia</td>\n",
       "      <td>o__Oscillospirales</td>\n",
       "      <td>f__Ruminococcaceae</td>\n",
       "      <td>g__Faecalibacterium</td>\n",
       "      <td>s__Faecalibacterium prausnitzii_G</td>\n",
       "    </tr>\n",
       "    <tr>\n",
       "      <th>102492</th>\n",
       "      <td>0.933962</td>\n",
       "      <td>0.043301</td>\n",
       "      <td>0.022242</td>\n",
       "      <td>d__Bacteria</td>\n",
       "      <td>p__Firmicutes_A</td>\n",
       "      <td>c__Clostridia</td>\n",
       "      <td>o__Lachnospirales</td>\n",
       "      <td>f__Lachnospiraceae</td>\n",
       "      <td>g__Agathobacter</td>\n",
       "      <td>s__Agathobacter rectalis</td>\n",
       "    </tr>\n",
       "    <tr>\n",
       "      <th>102528</th>\n",
       "      <td>0.933962</td>\n",
       "      <td>0.006703</td>\n",
       "      <td>0.003563</td>\n",
       "      <td>d__Bacteria</td>\n",
       "      <td>p__Firmicutes_A</td>\n",
       "      <td>c__Clostridia</td>\n",
       "      <td>o__Lachnospirales</td>\n",
       "      <td>f__Lachnospiraceae</td>\n",
       "      <td>g__Anaerostipes</td>\n",
       "      <td>s__Anaerostipes hadrus</td>\n",
       "    </tr>\n",
       "    <tr>\n",
       "      <th>102549</th>\n",
       "      <td>0.933962</td>\n",
       "      <td>0.011088</td>\n",
       "      <td>0.006721</td>\n",
       "      <td>d__Bacteria</td>\n",
       "      <td>p__Bacteroidota</td>\n",
       "      <td>c__Bacteroidia</td>\n",
       "      <td>o__Bacteroidales</td>\n",
       "      <td>f__Bacteroidaceae</td>\n",
       "      <td>g__Bacteroides</td>\n",
       "      <td>s__Bacteroides caccae</td>\n",
       "    </tr>\n",
       "    <tr>\n",
       "      <th>100196</th>\n",
       "      <td>0.933962</td>\n",
       "      <td>0.012013</td>\n",
       "      <td>0.004226</td>\n",
       "      <td>d__Bacteria</td>\n",
       "      <td>p__Bacteroidota</td>\n",
       "      <td>c__Bacteroidia</td>\n",
       "      <td>o__Bacteroidales</td>\n",
       "      <td>f__Bacteroidaceae</td>\n",
       "      <td>g__Bacteroides</td>\n",
       "      <td>s__Bacteroides thetaiotaomicron</td>\n",
       "    </tr>\n",
       "    <tr>\n",
       "      <th>101346</th>\n",
       "      <td>0.933962</td>\n",
       "      <td>0.077860</td>\n",
       "      <td>0.056808</td>\n",
       "      <td>d__Bacteria</td>\n",
       "      <td>p__Bacteroidota</td>\n",
       "      <td>c__Bacteroidia</td>\n",
       "      <td>o__Bacteroidales</td>\n",
       "      <td>f__Bacteroidaceae</td>\n",
       "      <td>g__Bacteroides</td>\n",
       "      <td>s__Bacteroides uniformis</td>\n",
       "    </tr>\n",
       "    <tr>\n",
       "      <th>101338</th>\n",
       "      <td>0.933962</td>\n",
       "      <td>0.003837</td>\n",
       "      <td>0.001703</td>\n",
       "      <td>d__Bacteria</td>\n",
       "      <td>p__Firmicutes_A</td>\n",
       "      <td>c__Clostridia</td>\n",
       "      <td>o__Lachnospirales</td>\n",
       "      <td>f__Lachnospiraceae</td>\n",
       "      <td>g__Blautia_A</td>\n",
       "      <td>s__Blautia_A wexlerae</td>\n",
       "    </tr>\n",
       "    <tr>\n",
       "      <th>102272</th>\n",
       "      <td>0.924528</td>\n",
       "      <td>0.031332</td>\n",
       "      <td>0.013002</td>\n",
       "      <td>d__Bacteria</td>\n",
       "      <td>p__Firmicutes_A</td>\n",
       "      <td>c__Clostridia</td>\n",
       "      <td>o__Oscillospirales</td>\n",
       "      <td>f__Ruminococcaceae</td>\n",
       "      <td>g__Faecalibacterium</td>\n",
       "      <td>s__Faecalibacterium prausnitzii_D</td>\n",
       "    </tr>\n",
       "    <tr>\n",
       "      <th>102327</th>\n",
       "      <td>0.924528</td>\n",
       "      <td>0.005060</td>\n",
       "      <td>0.003054</td>\n",
       "      <td>d__Bacteria</td>\n",
       "      <td>p__Firmicutes_A</td>\n",
       "      <td>c__Clostridia</td>\n",
       "      <td>o__Oscillospirales</td>\n",
       "      <td>f__Oscillospiraceae</td>\n",
       "      <td>g__Oscillibacter</td>\n",
       "      <td>s__Oscillibacter sp900066435</td>\n",
       "    </tr>\n",
       "    <tr>\n",
       "      <th>100099</th>\n",
       "      <td>0.915094</td>\n",
       "      <td>0.006474</td>\n",
       "      <td>0.003432</td>\n",
       "      <td>d__Bacteria</td>\n",
       "      <td>p__Firmicutes_A</td>\n",
       "      <td>c__Clostridia</td>\n",
       "      <td>o__Oscillospirales</td>\n",
       "      <td>f__Oscillospiraceae</td>\n",
       "      <td>g__Flavonifractor</td>\n",
       "      <td>s__Flavonifractor plautii</td>\n",
       "    </tr>\n",
       "    <tr>\n",
       "      <th>100022</th>\n",
       "      <td>0.905660</td>\n",
       "      <td>0.018995</td>\n",
       "      <td>0.010851</td>\n",
       "      <td>d__Bacteria</td>\n",
       "      <td>p__Firmicutes_A</td>\n",
       "      <td>c__Clostridia</td>\n",
       "      <td>o__Oscillospirales</td>\n",
       "      <td>f__Ruminococcaceae</td>\n",
       "      <td>g__Faecalibacterium</td>\n",
       "      <td>s__Faecalibacterium prausnitzii_C</td>\n",
       "    </tr>\n",
       "    <tr>\n",
       "      <th>100251</th>\n",
       "      <td>0.896226</td>\n",
       "      <td>0.006890</td>\n",
       "      <td>0.003227</td>\n",
       "      <td>d__Bacteria</td>\n",
       "      <td>p__Firmicutes_A</td>\n",
       "      <td>c__Clostridia</td>\n",
       "      <td>o__Lachnospirales</td>\n",
       "      <td>f__Lachnospiraceae</td>\n",
       "      <td>g__Fusicatenibacter</td>\n",
       "      <td>s__Fusicatenibacter saccharivorans</td>\n",
       "    </tr>\n",
       "    <tr>\n",
       "      <th>100029</th>\n",
       "      <td>0.896226</td>\n",
       "      <td>0.004113</td>\n",
       "      <td>0.001500</td>\n",
       "      <td>d__Bacteria</td>\n",
       "      <td>p__Bacteroidota</td>\n",
       "      <td>c__Bacteroidia</td>\n",
       "      <td>o__Bacteroidales</td>\n",
       "      <td>f__Bacteroidaceae</td>\n",
       "      <td>g__Bacteroides</td>\n",
       "      <td>s__Bacteroides finegoldii</td>\n",
       "    </tr>\n",
       "    <tr>\n",
       "      <th>102438</th>\n",
       "      <td>0.886792</td>\n",
       "      <td>0.032567</td>\n",
       "      <td>0.018244</td>\n",
       "      <td>d__Bacteria</td>\n",
       "      <td>p__Bacteroidota</td>\n",
       "      <td>c__Bacteroidia</td>\n",
       "      <td>o__Bacteroidales</td>\n",
       "      <td>f__Tannerellaceae</td>\n",
       "      <td>g__Parabacteroides</td>\n",
       "      <td>s__Parabacteroides distasonis</td>\n",
       "    </tr>\n",
       "    <tr>\n",
       "      <th>103681</th>\n",
       "      <td>0.867925</td>\n",
       "      <td>0.049747</td>\n",
       "      <td>0.011281</td>\n",
       "      <td>d__Bacteria</td>\n",
       "      <td>p__Bacteroidota</td>\n",
       "      <td>c__Bacteroidia</td>\n",
       "      <td>o__Bacteroidales</td>\n",
       "      <td>f__Bacteroidaceae</td>\n",
       "      <td>g__Bacteroides</td>\n",
       "      <td>s__Bacteroides stercoris</td>\n",
       "    </tr>\n",
       "    <tr>\n",
       "      <th>102506</th>\n",
       "      <td>0.858491</td>\n",
       "      <td>0.025264</td>\n",
       "      <td>0.002860</td>\n",
       "      <td>d__Bacteria</td>\n",
       "      <td>p__Proteobacteria</td>\n",
       "      <td>c__Gammaproteobacteria</td>\n",
       "      <td>o__Enterobacterales</td>\n",
       "      <td>f__Enterobacteriaceae</td>\n",
       "      <td>g__Escherichia</td>\n",
       "      <td>s__Escherichia coli_D</td>\n",
       "    </tr>\n",
       "  </tbody>\n",
       "</table>\n",
       "</div>"
      ],
      "text/plain": [
       "         prevalence  mean_rabund  median_rabund          d__  \\\n",
       "species                                                        \n",
       "101345     0.971698     0.015968       0.007896  d__Bacteria   \n",
       "101378     0.962264     0.027595       0.012972  d__Bacteria   \n",
       "102478     0.962264     0.162656       0.137527  d__Bacteria   \n",
       "101300     0.943396     0.020052       0.010758  d__Bacteria   \n",
       "102545     0.943396     0.023713       0.008445  d__Bacteria   \n",
       "102492     0.933962     0.043301       0.022242  d__Bacteria   \n",
       "102528     0.933962     0.006703       0.003563  d__Bacteria   \n",
       "102549     0.933962     0.011088       0.006721  d__Bacteria   \n",
       "100196     0.933962     0.012013       0.004226  d__Bacteria   \n",
       "101346     0.933962     0.077860       0.056808  d__Bacteria   \n",
       "101338     0.933962     0.003837       0.001703  d__Bacteria   \n",
       "102272     0.924528     0.031332       0.013002  d__Bacteria   \n",
       "102327     0.924528     0.005060       0.003054  d__Bacteria   \n",
       "100099     0.915094     0.006474       0.003432  d__Bacteria   \n",
       "100022     0.905660     0.018995       0.010851  d__Bacteria   \n",
       "100251     0.896226     0.006890       0.003227  d__Bacteria   \n",
       "100029     0.896226     0.004113       0.001500  d__Bacteria   \n",
       "102438     0.886792     0.032567       0.018244  d__Bacteria   \n",
       "103681     0.867925     0.049747       0.011281  d__Bacteria   \n",
       "102506     0.858491     0.025264       0.002860  d__Bacteria   \n",
       "\n",
       "                       p__                     c__                  o__  \\\n",
       "species                                                                   \n",
       "101345     p__Bacteroidota          c__Bacteroidia     o__Bacteroidales   \n",
       "101378     p__Bacteroidota          c__Bacteroidia     o__Bacteroidales   \n",
       "102478     p__Bacteroidota          c__Bacteroidia     o__Bacteroidales   \n",
       "101300     p__Firmicutes_A           c__Clostridia   o__Oscillospirales   \n",
       "102545     p__Firmicutes_A           c__Clostridia   o__Oscillospirales   \n",
       "102492     p__Firmicutes_A           c__Clostridia    o__Lachnospirales   \n",
       "102528     p__Firmicutes_A           c__Clostridia    o__Lachnospirales   \n",
       "102549     p__Bacteroidota          c__Bacteroidia     o__Bacteroidales   \n",
       "100196     p__Bacteroidota          c__Bacteroidia     o__Bacteroidales   \n",
       "101346     p__Bacteroidota          c__Bacteroidia     o__Bacteroidales   \n",
       "101338     p__Firmicutes_A           c__Clostridia    o__Lachnospirales   \n",
       "102272     p__Firmicutes_A           c__Clostridia   o__Oscillospirales   \n",
       "102327     p__Firmicutes_A           c__Clostridia   o__Oscillospirales   \n",
       "100099     p__Firmicutes_A           c__Clostridia   o__Oscillospirales   \n",
       "100022     p__Firmicutes_A           c__Clostridia   o__Oscillospirales   \n",
       "100251     p__Firmicutes_A           c__Clostridia    o__Lachnospirales   \n",
       "100029     p__Bacteroidota          c__Bacteroidia     o__Bacteroidales   \n",
       "102438     p__Bacteroidota          c__Bacteroidia     o__Bacteroidales   \n",
       "103681     p__Bacteroidota          c__Bacteroidia     o__Bacteroidales   \n",
       "102506   p__Proteobacteria  c__Gammaproteobacteria  o__Enterobacterales   \n",
       "\n",
       "                           f__                  g__  \\\n",
       "species                                               \n",
       "101345       f__Bacteroidaceae       g__Bacteroides   \n",
       "101378       f__Bacteroidaceae       g__Bacteroides   \n",
       "102478       f__Bacteroidaceae     g__Bacteroides_B   \n",
       "101300      f__Ruminococcaceae  g__Faecalibacterium   \n",
       "102545      f__Ruminococcaceae  g__Faecalibacterium   \n",
       "102492      f__Lachnospiraceae      g__Agathobacter   \n",
       "102528      f__Lachnospiraceae      g__Anaerostipes   \n",
       "102549       f__Bacteroidaceae       g__Bacteroides   \n",
       "100196       f__Bacteroidaceae       g__Bacteroides   \n",
       "101346       f__Bacteroidaceae       g__Bacteroides   \n",
       "101338      f__Lachnospiraceae         g__Blautia_A   \n",
       "102272      f__Ruminococcaceae  g__Faecalibacterium   \n",
       "102327     f__Oscillospiraceae     g__Oscillibacter   \n",
       "100099     f__Oscillospiraceae    g__Flavonifractor   \n",
       "100022      f__Ruminococcaceae  g__Faecalibacterium   \n",
       "100251      f__Lachnospiraceae  g__Fusicatenibacter   \n",
       "100029       f__Bacteroidaceae       g__Bacteroides   \n",
       "102438       f__Tannerellaceae   g__Parabacteroides   \n",
       "103681       f__Bacteroidaceae       g__Bacteroides   \n",
       "102506   f__Enterobacteriaceae       g__Escherichia   \n",
       "\n",
       "                                        s__  \n",
       "species                                      \n",
       "101345         s__Bacteroides xylanisolvens  \n",
       "101378                s__Bacteroides ovatus  \n",
       "102478               s__Bacteroides_B dorei  \n",
       "101300    s__Faecalibacterium prausnitzii_K  \n",
       "102545    s__Faecalibacterium prausnitzii_G  \n",
       "102492             s__Agathobacter rectalis  \n",
       "102528               s__Anaerostipes hadrus  \n",
       "102549                s__Bacteroides caccae  \n",
       "100196      s__Bacteroides thetaiotaomicron  \n",
       "101346             s__Bacteroides uniformis  \n",
       "101338                s__Blautia_A wexlerae  \n",
       "102272    s__Faecalibacterium prausnitzii_D  \n",
       "102327         s__Oscillibacter sp900066435  \n",
       "100099            s__Flavonifractor plautii  \n",
       "100022    s__Faecalibacterium prausnitzii_C  \n",
       "100251   s__Fusicatenibacter saccharivorans  \n",
       "100029            s__Bacteroides finegoldii  \n",
       "102438        s__Parabacteroides distasonis  \n",
       "103681             s__Bacteroides stercoris  \n",
       "102506                s__Escherichia coli_D  "
      ]
     },
     "execution_count": 12,
     "metadata": {},
     "output_type": "execute_result"
    }
   ],
   "source": [
    "depth_thresh = 0.2\n",
    "\n",
    "species_found = species_depth > depth_thresh\n",
    "species_prevalence = (\n",
    "    species_found.groupby(meta_all.subject_id).any().mean().sort_values(ascending=False)\n",
    ")\n",
    "\n",
    "species_rabund_when_found = species_depth.divide(species_depth.sum(1), axis=0).where(\n",
    "    species_found, np.nan\n",
    ")\n",
    "species_mean_rabund_when_found = (\n",
    "    species_rabund_when_found.groupby(meta_all.subject_id)\n",
    "    .mean()\n",
    "    .mean()\n",
    "    .sort_values(ascending=False)\n",
    ")\n",
    "species_median_rabund_when_found = (\n",
    "    species_rabund_when_found.groupby(meta_all.subject_id)\n",
    "    .median()\n",
    "    .median()\n",
    "    .sort_values(ascending=False)\n",
    ")\n",
    "\n",
    "species_prevalence.to_frame(\"prevalence\").assign(\n",
    "    mean_rabund=species_mean_rabund_when_found,\n",
    "    median_rabund=species_median_rabund_when_found,\n",
    ").join(species_taxonomy).head(20)"
   ]
  },
  {
   "cell_type": "markdown",
   "id": "4e39811c",
   "metadata": {},
   "source": [
    "### Strain Statistics"
   ]
  },
  {
   "cell_type": "code",
   "execution_count": 13,
   "id": "2b0b4165",
   "metadata": {
    "execution": {
     "iopub.execute_input": "2024-11-09T11:55:39.217418Z",
     "iopub.status.busy": "2024-11-09T11:55:39.217240Z",
     "iopub.status.idle": "2024-11-09T11:55:39.237285Z",
     "shell.execute_reply": "2024-11-09T11:55:39.236513Z",
     "shell.execute_reply.started": "2024-11-09T11:55:39.217399Z"
    }
   },
   "outputs": [],
   "source": [
    "def classify_genome(x):\n",
    "    if (x.genome_type == \"Isolate\") & x.passes_filter:\n",
    "        return \"isolate\"\n",
    "    elif (x.genome_type == \"Isolate\") & ~x.passes_filter:\n",
    "        return \"isolate_fails_qc\"\n",
    "    elif (x.genome_type == \"MAG\") & x.passes_filter:\n",
    "        return \"mag\"\n",
    "    elif (x.genome_type == \"MAG\") & ~x.passes_filter:\n",
    "        return \"mag_fails_qc\"\n",
    "    elif (x.genome_type == \"SPGC\") & x.passes_filter:\n",
    "        return \"spgc\"\n",
    "    elif (\n",
    "        x.genome_type == \"SPGC\"\n",
    "    ) & x.passes_geno_positions:  # & x.passes_in_sample_list:  # NOTE: This last condition \"passes_in_sample_list\" is deprecated because we're now splitting out the different datasets.\n",
    "        return \"sfacts_only\"\n",
    "    elif (x.genome_type == \"SPGC\") & ~(\n",
    "        x.passes_geno_positions  # & x.passes_in_sample_list  # NOTE: This last condition \"passes_in_sample_list\" is deprecated because we're now splitting out the different datasets.\n",
    "    ):\n",
    "        return \"sfacts_fails_qc\"\n",
    "    else:\n",
    "        raise ValueError(\"Genome did not match classification criteria:\", x)"
   ]
  },
  {
   "cell_type": "code",
   "execution_count": 14,
   "id": "0a8d5c2d",
   "metadata": {
    "execution": {
     "iopub.execute_input": "2024-11-09T11:55:39.240250Z",
     "iopub.status.busy": "2024-11-09T11:55:39.239969Z",
     "iopub.status.idle": "2024-11-09T11:55:50.777950Z",
     "shell.execute_reply": "2024-11-09T11:55:50.777369Z",
     "shell.execute_reply.started": "2024-11-09T11:55:39.240231Z"
    }
   },
   "outputs": [
    {
     "name": "stderr",
     "output_type": "stream",
     "text": [
      "100%|█████████████████████████████████████████████████████████████████████████████████████████████████████████████████████| 627/627 [00:01<00:00, 366.88it/s]\n"
     ]
    },
    {
     "name": "stdout",
     "output_type": "stream",
     "text": [
      "11 out of 627 species are missing stats.\n"
     ]
    }
   ],
   "source": [
    "filt_stats = []\n",
    "missing = []\n",
    "\n",
    "for species in tqdm(species_list):\n",
    "    inpath = f\"data/group/hmp2/species/sp-{species}/r.proc.gtpro.sfacts-fit.gene99_v20-v23-agg75.spgc-fit.strain_meta_spgc_and_ref.tsv\"\n",
    "    if not os.path.exists(inpath):\n",
    "        missing.append(inpath)\n",
    "        continue\n",
    "    data = pd.read_table(inpath).assign(species=species, inpath=inpath)\n",
    "    filt_stats.append(data)\n",
    "print(\n",
    "    len(missing),\n",
    "    \"out of\",\n",
    "    len(species_list),\n",
    "    \"species are missing stats.\",\n",
    ")\n",
    "\n",
    "filt_stats = pd.concat(filt_stats).assign(\n",
    "    genome_class=lambda x: x.apply(classify_genome, axis=1),\n",
    "    species_strain=lambda x: x.species + \"_\" + x.genome_id,\n",
    ")"
   ]
  },
  {
   "cell_type": "code",
   "execution_count": 15,
   "id": "649aee5f",
   "metadata": {
    "execution": {
     "iopub.execute_input": "2024-11-09T11:55:50.778839Z",
     "iopub.status.busy": "2024-11-09T11:55:50.778668Z",
     "iopub.status.idle": "2024-11-09T11:56:07.514044Z",
     "shell.execute_reply": "2024-11-09T11:56:07.513280Z",
     "shell.execute_reply.started": "2024-11-09T11:55:50.778820Z"
    }
   },
   "outputs": [
    {
     "name": "stderr",
     "output_type": "stream",
     "text": [
      "100%|██████████████████████████████████████████████████████████████████████████████████████████████████████████████████████| 627/627 [00:16<00:00, 38.70it/s]\n"
     ]
    },
    {
     "name": "stdout",
     "output_type": "stream",
     "text": [
      "9 out of 627 species are missing stats.\n"
     ]
    },
    {
     "name": "stderr",
     "output_type": "stream",
     "text": [
      "/tmp/bsmith/ipykernel_930871/2567288374.py:38: PerformanceWarning: DataFrame is highly fragmented.  This is usually the result of calling `frame.insert` many times, which has poor performance.  Consider joining all columns at once using pd.concat(axis=1) instead. To get a de-fragmented frame, use `newframe = frame.copy()`\n",
      "  strain_rabund[\"-1\"] = 1 - strain_rabund.sum(1)\n"
     ]
    }
   ],
   "source": [
    "# Collect strain fractions:\n",
    "\n",
    "strain_depth = []\n",
    "strain_to_species = []\n",
    "missing_species = []\n",
    "for species in tqdm(species_list):\n",
    "    inpath = f\"data/group/hmp2/species/sp-{species}/r.proc.gtpro.sfacts-fit.comm.tsv\"\n",
    "    if not os.path.exists(inpath):\n",
    "        missing_species.append(species)\n",
    "        d = pd.DataFrame([])\n",
    "    else:\n",
    "        d = pd.read_table(inpath, index_col=[\"sample\", \"strain\"]).squeeze().unstack()\n",
    "\n",
    "    if species in species_depth.columns:\n",
    "        _species_depth = species_depth[species]\n",
    "    else:\n",
    "        _species_depth = 0\n",
    "\n",
    "    _keep_strains = idxwhere(d.sum() > 0.05)\n",
    "    assert d.index.isin(species_depth.index).all()\n",
    "    d = d.reindex(index=species_depth.index, columns=_keep_strains, fill_value=0)\n",
    "    d = d.assign(__other=lambda x: 1 - x.sum(1)).rename(columns={\"__other\": -1})\n",
    "    d[d < 0] = 0\n",
    "    d = d.divide(d.sum(1), axis=0)\n",
    "    d = d.multiply(_species_depth, axis=0)\n",
    "    d = d.rename(columns=lambda s: f\"{species}_{s}\")\n",
    "    strain_depth.append(d)\n",
    "    strain_to_species.append(pd.Series(species, index=d.columns))\n",
    "print(\n",
    "    len(missing_species),\n",
    "    \"out of\",\n",
    "    len(species_list),\n",
    "    \"species are missing stats.\",\n",
    ")\n",
    "\n",
    "strain_depth = pd.concat(strain_depth, axis=1)\n",
    "strain_rabund = strain_depth.divide(strain_depth.sum(1), axis=0)\n",
    "strain_rabund[\"-1\"] = 1 - strain_rabund.sum(1)\n",
    "strain_to_species = pd.concat(strain_to_species)"
   ]
  },
  {
   "cell_type": "code",
   "execution_count": 16,
   "id": "78a60c68",
   "metadata": {
    "execution": {
     "iopub.execute_input": "2024-11-09T11:56:07.515180Z",
     "iopub.status.busy": "2024-11-09T11:56:07.514953Z",
     "iopub.status.idle": "2024-11-09T11:56:07.525054Z",
     "shell.execute_reply": "2024-11-09T11:56:07.524434Z",
     "shell.execute_reply.started": "2024-11-09T11:56:07.515157Z"
    }
   },
   "outputs": [
    {
     "data": {
      "text/plain": [
       "(count    106\n",
       " Name: count, dtype: int64,\n",
       " 0.25     9.0\n",
       " 0.50    11.0\n",
       " 0.75    14.0\n",
       " Name: count, dtype: float64)"
      ]
     },
     "execution_count": 16,
     "metadata": {},
     "output_type": "execute_result"
    }
   ],
   "source": [
    "d = meta_all.loc[strain_depth.index].subject_id.value_counts()\n",
    "d.agg([\"count\"]), d.quantile([0.25, 0.5, 0.75])"
   ]
  },
  {
   "cell_type": "code",
   "execution_count": 17,
   "id": "a0706a30",
   "metadata": {
    "execution": {
     "iopub.execute_input": "2024-11-09T11:56:07.526127Z",
     "iopub.status.busy": "2024-11-09T11:56:07.525859Z",
     "iopub.status.idle": "2024-11-09T11:56:07.598105Z",
     "shell.execute_reply": "2024-11-09T11:56:07.597406Z",
     "shell.execute_reply.started": "2024-11-09T11:56:07.526106Z"
    }
   },
   "outputs": [],
   "source": [
    "# Shared strains between\n",
    "strain_detection_threshold = 0.1\n",
    "\n",
    "# Select species_strain (concatenated name) where it's StrainFacts inferred and passes the geno_positions filter.\n",
    "species_strain_list = filt_stats[\n",
    "    lambda x: x.passes_geno_positions & x.genome_type.isin([\"SPGC\"])\n",
    "].species_strain\n",
    "\n",
    "# other_strain_list = idxwhere(strain_depth.columns.to_series().str.endswith(\"-1\"))\n",
    "strain_present = strain_depth > strain_detection_threshold\n",
    "low_strain_samples = idxwhere(strain_present.sum(1) <= 10)"
   ]
  },
  {
   "cell_type": "markdown",
   "id": "045427b5",
   "metadata": {},
   "source": [
    "### Figure 3A/B"
   ]
  },
  {
   "cell_type": "code",
   "execution_count": 18,
   "id": "662035b9",
   "metadata": {
    "execution": {
     "iopub.execute_input": "2024-11-09T11:56:07.599174Z",
     "iopub.status.busy": "2024-11-09T11:56:07.598980Z",
     "iopub.status.idle": "2024-11-09T11:56:08.346962Z",
     "shell.execute_reply": "2024-11-09T11:56:08.346287Z",
     "shell.execute_reply.started": "2024-11-09T11:56:07.599153Z"
    }
   },
   "outputs": [
    {
     "name": "stdout",
     "output_type": "stream",
     "text": [
      "total_strains_per_sample 0.25    43.0\n",
      "0.50    59.0\n",
      "0.75    78.0\n",
      "dtype: float64\n",
      "total_strains_per_subject 0.25    147.75\n",
      "0.50    191.50\n",
      "0.75    240.75\n",
      "dtype: float64\n",
      "num common strains 7129\n",
      "total_subjects_per_strain 0.0 0.5227679040908613 0.25060469029340626\n",
      "total_subjects_per_common_strain 0.0 0.3634450834619161 0.6657315191471455\n"
     ]
    },
    {
     "data": {
      "image/png": "[encoded data removed]",
      "text/plain": [
       "<Figure size 600x500 with 2 Axes>"
      ]
     },
     "metadata": {},
     "output_type": "display_data"
    }
   ],
   "source": [
    "strain_by_sample = strain_present[species_strain_list]\n",
    "strain_by_subject = (\n",
    "    strain_by_sample.groupby(meta_all.subject_id).any().loc[:, strain_by_sample.any()]\n",
    ")  # Exclude undetected strains.\n",
    "\n",
    "total_strains_per_subject = strain_by_subject.sum(1)\n",
    "total_subjects_per_strain = strain_by_subject.sum(0)\n",
    "total_subjects_per_common_strain = total_subjects_per_strain[strain_by_sample.sum() > 1]\n",
    "\n",
    "print(\"total_strains_per_sample\", strain_by_sample.sum(1).quantile([0.25, 0.5, 0.75]))\n",
    "print(\n",
    "    \"total_strains_per_subject\", total_strains_per_subject.quantile([0.25, 0.5, 0.75])\n",
    ")\n",
    "print(\"num common strains\", len(total_subjects_per_common_strain))\n",
    "print(\n",
    "    \"total_subjects_per_strain\",\n",
    "    (total_subjects_per_strain == 0).mean(),\n",
    "    (total_subjects_per_strain == 1).mean(),\n",
    "    (total_subjects_per_strain >= 3).mean(),\n",
    ")\n",
    "print(\n",
    "    \"total_subjects_per_common_strain\",\n",
    "    (total_subjects_per_common_strain == 0).mean(),\n",
    "    (total_subjects_per_common_strain <= 1).mean(),\n",
    "    (total_subjects_per_common_strain <= 2).mean(),\n",
    ")\n",
    "\n",
    "\n",
    "fig, axs = plt.subplots(2, figsize=(3.0, 2.5), gridspec_kw=dict(hspace=0.85))\n",
    "ax = axs[0]\n",
    "bins = np.linspace(0, total_strains_per_subject.max(), num=20)\n",
    "ax.hist(total_strains_per_subject, bins=bins, density=False, color=\"k\", histtype=\"step\")\n",
    "ax.hist(total_strains_per_subject, bins=bins, density=False, color=\"k\", alpha=0.5)\n",
    "# ax.set_ylabel('Subjects')\n",
    "ax.set_xlabel(\"Strains\")\n",
    "\n",
    "# fig.savefig('fig/spgc_strains_per_subject.svg', bbox_inches='tight')\n",
    "\n",
    "# fig, ax = plt.subplots(figsize=(2, 1))\n",
    "ax = axs[1]\n",
    "bins = np.arange(1, 15)\n",
    "ax.hist(\n",
    "    total_subjects_per_common_strain,\n",
    "    bins=bins,\n",
    "    density=False,\n",
    "    color=\"k\",\n",
    "    histtype=\"step\",\n",
    "    align=\"left\",\n",
    ")\n",
    "ax.hist(\n",
    "    total_subjects_per_common_strain,\n",
    "    bins=bins,\n",
    "    density=False,\n",
    "    color=\"k\",\n",
    "    alpha=0.5,\n",
    "    align=\"left\",\n",
    ")\n",
    "ax.set_xticks(np.arange(1, 14, step=2))\n",
    "# ax.set_ylabel('Strains')\n",
    "# axs[1].set_yticks([0])\n",
    "ax.set_xlabel(\"Subjects\")\n",
    "fig.savefig(\"fig/fig3ab_strain_subject.pdf\", bbox_inches=\"tight\")"
   ]
  },
  {
   "cell_type": "code",
   "execution_count": 19,
   "id": "8a974ebf",
   "metadata": {
    "execution": {
     "iopub.execute_input": "2024-11-09T11:56:08.348028Z",
     "iopub.status.busy": "2024-11-09T11:56:08.347833Z",
     "iopub.status.idle": "2024-11-09T11:56:08.404680Z",
     "shell.execute_reply": "2024-11-09T11:56:08.404053Z",
     "shell.execute_reply.started": "2024-11-09T11:56:08.348007Z"
    }
   },
   "outputs": [
    {
     "data": {
      "text/plain": [
       "(0.0, 0.3634450834619161, 0.33426848085285454)"
      ]
     },
     "execution_count": 19,
     "metadata": {},
     "output_type": "execute_result"
    }
   ],
   "source": [
    "# Distribution of strains found in at least 2 samples:\n",
    "d0 = strain_by_subject.loc[:, (strain_by_sample.sum() >= 2)]\n",
    "d1 = d0.sum()\n",
    "\n",
    "(d1 == 0).mean(), (d1 == 1).mean(), (d1 >= 3).mean()"
   ]
  },
  {
   "cell_type": "markdown",
   "id": "b10cf9e5",
   "metadata": {},
   "source": [
    "### Figure 3C"
   ]
  },
  {
   "cell_type": "code",
   "execution_count": 20,
   "id": "c9957fb8",
   "metadata": {
    "execution": {
     "iopub.execute_input": "2024-11-09T11:56:08.405668Z",
     "iopub.status.busy": "2024-11-09T11:56:08.405486Z",
     "iopub.status.idle": "2024-11-09T11:56:47.410485Z",
     "shell.execute_reply": "2024-11-09T11:56:47.409819Z",
     "shell.execute_reply.started": "2024-11-09T11:56:08.405649Z"
    }
   },
   "outputs": [],
   "source": [
    "m, x = align_indexes(\n",
    "    meta_all, strain_present[species_strain_list].drop(low_strain_samples)\n",
    ")\n",
    "\n",
    "shared_strains = pdist(x, metric=lambda x, y: (x & y).sum())\n",
    "diff_subj = pdist(m[[\"subject_id\"]], lambda x, y: (x != y).sum())"
   ]
  },
  {
   "cell_type": "code",
   "execution_count": 21,
   "id": "ad791419",
   "metadata": {
    "execution": {
     "iopub.execute_input": "2024-11-09T11:56:47.411483Z",
     "iopub.status.busy": "2024-11-09T11:56:47.411303Z",
     "iopub.status.idle": "2024-11-09T11:56:48.884971Z",
     "shell.execute_reply": "2024-11-09T11:56:48.884508Z",
     "shell.execute_reply.started": "2024-11-09T11:56:47.411463Z"
    }
   },
   "outputs": [
    {
     "name": "stdout",
     "output_type": "stream",
     "text": [
      "diff_subject: 0, mean: 36.736979166666664\n",
      "diff_subject: 1, mean: 0.7385621380761684\n",
      "diff_subject: 0, mean: 36.736979166666664\n",
      "diff_subject: 1, mean: 0.7385621380761684\n"
     ]
    },
    {
     "data": {
      "image/png": "[encoded data removed]",
      "text/plain": [
       "<Figure size 600x300 with 2 Axes>"
      ]
     },
     "metadata": {
      "needs_background": "light"
     },
     "output_type": "display_data"
    }
   ],
   "source": [
    "fig, axs = plt.subplots(\n",
    "    2,\n",
    "    figsize=(3, 1.5),\n",
    "    gridspec_kw=dict(height_ratios=(0.4, 0.6), hspace=0.1),\n",
    "    facecolor=\"none\",\n",
    ")\n",
    "\n",
    "# bins = list(np.arange(0, 10)) + list(np.linspace(10, shared_strains.max(), num=10))\n",
    "bins = np.arange(0, shared_strains.max())\n",
    "for ax in axs:\n",
    "    for _diff_subj, label, c in zip(\n",
    "        [0, 1], [\"Same Subject\", \"Different Subject\"], [\"tab:purple\", \"tab:red\"]\n",
    "    ):\n",
    "        ax.hist(\n",
    "            shared_strains[diff_subj == _diff_subj],\n",
    "            alpha=0.5,\n",
    "            color=c,\n",
    "            bins=bins,\n",
    "            density=True,\n",
    "            label=label,\n",
    "        )\n",
    "        ax.hist(\n",
    "            shared_strains[diff_subj == _diff_subj],\n",
    "            histtype=\"step\",\n",
    "            color=c,\n",
    "            bins=bins,\n",
    "            density=True,\n",
    "            label=\"__nolegend__\",\n",
    "        )\n",
    "        print(\n",
    "            f\"diff_subject: {_diff_subj}, mean:\",\n",
    "            shared_strains[diff_subj == _diff_subj].mean(),\n",
    "        )\n",
    "axs[0].set_ylim(bottom=0.5, top=0.62)\n",
    "axs[1].set_ylim(top=0.31)\n",
    "axs[1].set_xlabel(\"Shared Strains per Sample Pair\")\n",
    "axs[1].set_ylabel(\"           Pairs (fraction)\")\n",
    "axs[0].legend(fontsize=8)\n",
    "\n",
    "axs[1].spines[\"top\"].set_visible(False)\n",
    "axs[0].spines[\"bottom\"].set_visible(False)\n",
    "axs[0].set_xticks([])\n",
    "\n",
    "axs[0].set_yticks([0.25, 0.5])\n",
    "axs[0].set_ylim(0.05, 0.65)\n",
    "axs[1].set_ylim(0.0, 0.05)\n",
    "axs[1].set_yticks([0.0, 0.02, 0.04])\n",
    "\n",
    "aspect = \"auto\"\n",
    "axs[0].set_aspect(aspect)\n",
    "axs[1].set_aspect(aspect)\n",
    "\n",
    "fig.savefig(\"fig/fig3c_strain_sharing.pdf\", bbox_inches=\"tight\")"
   ]
  },
  {
   "cell_type": "code",
   "execution_count": 22,
   "id": "fdc9644f",
   "metadata": {
    "execution": {
     "iopub.execute_input": "2024-11-09T11:56:48.885822Z",
     "iopub.status.busy": "2024-11-09T11:56:48.885652Z",
     "iopub.status.idle": "2024-11-09T11:56:49.718358Z",
     "shell.execute_reply": "2024-11-09T11:56:49.717855Z",
     "shell.execute_reply.started": "2024-11-09T11:56:48.885804Z"
    }
   },
   "outputs": [
    {
     "data": {
      "text/plain": [
       "(0.017221263096207237, 0.0)"
      ]
     },
     "execution_count": 22,
     "metadata": {},
     "output_type": "execute_result"
    }
   ],
   "source": [
    "import lib.stats\n",
    "\n",
    "lib.stats.mannwhitneyu(\n",
    "    \"x\", \"y\", data=pd.DataFrame(dict(x=diff_subj.astype(bool), y=shared_strains))\n",
    ")"
   ]
  },
  {
   "cell_type": "code",
   "execution_count": 23,
   "id": "3c0abda3",
   "metadata": {
    "execution": {
     "iopub.execute_input": "2024-11-09T11:56:49.719210Z",
     "iopub.status.busy": "2024-11-09T11:56:49.719032Z",
     "iopub.status.idle": "2024-11-09T11:56:50.529844Z",
     "shell.execute_reply": "2024-11-09T11:56:50.529347Z",
     "shell.execute_reply.started": "2024-11-09T11:56:49.719191Z"
    }
   },
   "outputs": [
    {
     "data": {
      "text/plain": [
       "MannwhitneyuResult(statistic=128070939.5, pvalue=0.0)"
      ]
     },
     "execution_count": 23,
     "metadata": {},
     "output_type": "execute_result"
    }
   ],
   "source": [
    "sp.stats.mannwhitneyu(\n",
    "    shared_strains[diff_subj.astype(bool)], shared_strains[~diff_subj.astype(bool)]\n",
    ")"
   ]
  },
  {
   "cell_type": "code",
   "execution_count": 24,
   "id": "2d671b1d",
   "metadata": {
    "execution": {
     "iopub.execute_input": "2024-11-09T11:56:50.530676Z",
     "iopub.status.busy": "2024-11-09T11:56:50.530510Z",
     "iopub.status.idle": "2024-11-09T11:56:50.942050Z",
     "shell.execute_reply": "2024-11-09T11:56:50.941489Z",
     "shell.execute_reply.started": "2024-11-09T11:56:50.530658Z"
    }
   },
   "outputs": [],
   "source": [
    "# Shared strains between\n",
    "other_strain_list = idxwhere(strain_depth.columns.to_series().str.endswith(\"-1\"))\n",
    "x = (strain_depth.groupby(meta_all.subject_id).max() > 0.1).drop(\n",
    "    columns=other_strain_list\n",
    ")\n",
    "\n",
    "shared_strains_between_subjects = pdist(x, metric=lambda x, y: (x & y).sum())"
   ]
  },
  {
   "cell_type": "code",
   "execution_count": 25,
   "id": "e89384bc",
   "metadata": {
    "execution": {
     "iopub.execute_input": "2024-11-09T11:56:50.942923Z",
     "iopub.status.busy": "2024-11-09T11:56:50.942752Z",
     "iopub.status.idle": "2024-11-09T11:56:50.971282Z",
     "shell.execute_reply": "2024-11-09T11:56:50.970790Z",
     "shell.execute_reply.started": "2024-11-09T11:56:50.942904Z"
    }
   },
   "outputs": [
    {
     "data": {
      "text/plain": [
       "0.01    0.0\n",
       "0.05    0.0\n",
       "0.10    0.0\n",
       "0.25    0.0\n",
       "0.50    0.0\n",
       "0.75    1.0\n",
       "0.90    2.0\n",
       "0.95    3.0\n",
       "0.99    4.0\n",
       "dtype: float64"
      ]
     },
     "execution_count": 25,
     "metadata": {},
     "output_type": "execute_result"
    }
   ],
   "source": [
    "pd.Series(shared_strains[diff_subj.astype(bool)]).quantile(\n",
    "    [0.01, 0.05, 0.1, 0.25, 0.5, 0.75, 0.90, 0.95, 0.99]\n",
    ")"
   ]
  }
 ],
 "metadata": {
  "kernelspec": {
   "display_name": "toolz5",
   "language": "python",
   "name": "toolz5"
  },
  "language_info": {
   "codemirror_mode": {
    "name": "ipython",
    "version": 3
   },
   "file_extension": ".py",
   "mimetype": "text/x-python",
   "name": "python",
   "nbconvert_exporter": "python",
   "pygments_lexer": "ipython3",
   "version": "3.10.13"
  }
 },
 "nbformat": 4,
 "nbformat_minor": 5
}
