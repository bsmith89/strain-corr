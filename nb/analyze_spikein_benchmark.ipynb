{
 "cells": [
  {
   "cell_type": "markdown",
   "metadata": {},
   "source": [
    "## Preamble"
   ]
  },
  {
   "cell_type": "markdown",
   "metadata": {},
   "source": [
    "### Project Template"
   ]
  },
  {
   "cell_type": "code",
   "execution_count": null,
   "metadata": {},
   "outputs": [],
   "source": [
    "%load_ext autoreload"
   ]
  },
  {
   "cell_type": "code",
   "execution_count": null,
   "metadata": {},
   "outputs": [],
   "source": [
    "import os as _os\n",
    "\n",
    "_os.chdir(_os.environ[\"PROJECT_ROOT\"])\n",
    "_os.path.realpath(_os.path.curdir)"
   ]
  },
  {
   "cell_type": "markdown",
   "metadata": {},
   "source": [
    "### Imports"
   ]
  },
  {
   "cell_type": "code",
   "execution_count": null,
   "metadata": {},
   "outputs": [],
   "source": [
    "import os\n",
    "import subprocess\n",
    "import sys\n",
    "import time\n",
    "from datetime import datetime\n",
    "from glob import glob\n",
    "from itertools import chain, product\n",
    "from tempfile import mkstemp\n",
    "\n",
    "import matplotlib as mpl\n",
    "import matplotlib.pyplot as plt\n",
    "import numpy as np\n",
    "import pandas as pd\n",
    "import scipy as sp\n",
    "import seaborn as sns\n",
    "import statsmodels.api as sm\n",
    "import statsmodels.formula.api as smf\n",
    "import xarray as xr\n",
    "from mpl_toolkits.axes_grid1 import make_axes_locatable\n",
    "from statsmodels.stats.multitest import fdrcorrection\n",
    "from tqdm import tqdm\n",
    "\n",
    "import sfacts as sf\n",
    "\n",
    "import lib.plot\n",
    "from lib.pandas_util import align_indexes, aligned_index, idxwhere, invert_mapping"
   ]
  },
  {
   "cell_type": "markdown",
   "metadata": {},
   "source": [
    "## Style"
   ]
  },
  {
   "cell_type": "code",
   "execution_count": null,
   "metadata": {},
   "outputs": [],
   "source": [
    "sns.set_context(\"paper\")\n",
    "plt.rcParams[\"figure.dpi\"] = 100"
   ]
  },
  {
   "cell_type": "markdown",
   "metadata": {},
   "source": [
    "## Analysis Parameters"
   ]
  },
  {
   "cell_type": "code",
   "execution_count": null,
   "metadata": {},
   "outputs": [],
   "source": [
    "ambiguity_threshold = 0.1"
   ]
  },
  {
   "cell_type": "markdown",
   "metadata": {},
   "source": [
    "# Load and Check Data"
   ]
  },
  {
   "cell_type": "markdown",
   "metadata": {},
   "source": [
    "## Select some GTDB genomes missing from UHGG"
   ]
  },
  {
   "cell_type": "markdown",
   "metadata": {},
   "source": [
    "### Pick some examples genomes and generate the necessary metadata files."
   ]
  },
  {
   "cell_type": "code",
   "execution_count": null,
   "metadata": {},
   "outputs": [],
   "source": [
    "gtdb_genomes = pd.read_table('ref/gtdb/species/102506/metadata.tsv', index_col='accession')"
   ]
  },
  {
   "cell_type": "code",
   "execution_count": null,
   "metadata": {},
   "outputs": [],
   "source": [
    "gtdb_genomes[['ncbi_biosample']]"
   ]
  },
  {
   "cell_type": "code",
   "execution_count": null,
   "metadata": {},
   "outputs": [],
   "source": [
    "for i, (c, v) in enumerate(zip(gtdb_genomes.columns, gtdb_genomes.iloc[0].values)):\n",
    "    print(i, c, v, sep='\\t')"
   ]
  },
  {
   "cell_type": "code",
   "execution_count": null,
   "metadata": {},
   "outputs": [],
   "source": [
    "gtdb_genomes[['ncbi_assembly_name', 'ncbi_genbank_assembly_accession']][lambda x: x.ncbi_genbank_assembly_accession == 'GCA_011601075.1']"
   ]
  },
  {
   "cell_type": "code",
   "execution_count": null,
   "metadata": {},
   "outputs": [],
   "source": [
    "genome_meta = pd.read_table('meta/genome.tsv')\n",
    "\n",
    "for i, (c, v) in enumerate(zip(genome_meta.columns, genome_meta.iloc[0].values)):\n",
    "    print(i, c, v, sep='\\t')"
   ]
  },
  {
   "cell_type": "code",
   "execution_count": null,
   "metadata": {},
   "outputs": [],
   "source": [
    "gtdb_genomes[lambda x: x.ncbi_assembly_name == 'ASM1160107v1'].squeeze().ncbi_biosample"
   ]
  },
  {
   "cell_type": "code",
   "execution_count": null,
   "metadata": {},
   "outputs": [],
   "source": [
    "gtdb_genomes.assign(\n",
    "    genome_id=lambda x: 'Escherichia-coli-'+ x.ncbi_genbank_assembly_accession.str.replace('GCA', 'GCF'),\n",
    "    species_id='102506',\n",
    "    genome_path=lambda x: 'raw/genomes/gtdb/' + x.genome_id + '/assembly.fa',\n",
    "    _old_genome_id='',\n",
    "    ncbi_assembly_name=lambda x: x.ncbi_assembly_name,\n",
    "    ncbi_assembly_biosample=lambda x: x.ncbi_biosample,\n",
    "    comments=lambda x: 'GTDB Accession ' + x.index + ';',\n",
    ")[genome_meta.columns].to_csv('meta/gtdb_genome.tsv', index=False, sep='\\t')"
   ]
  },
  {
   "cell_type": "markdown",
   "metadata": {},
   "source": [
    "## Compare Genotypes"
   ]
  },
  {
   "cell_type": "code",
   "execution_count": null,
   "metadata": {},
   "outputs": [],
   "source": [
    "spikein_assembly_inpath = 'data/group/spikein_benchmark/species/sp-102506/strain_genomes.gtpro.mgtp.nc'\n",
    "spikein_assembly_geno = (\n",
    "    sf.Metagenotype.load(spikein_assembly_inpath)\n",
    "    .to_estimated_genotype()\n",
    "    # .discretized(max_ambiguity=ambiguity_threshold)\n",
    ")"
   ]
  },
  {
   "cell_type": "raw",
   "metadata": {},
   "source": [
    "spikein_reads_inpath = 'data/group/spikein_benchmark/species/sp-102506/r.proc.gtpro.mgtp.nc'\n",
    "spikein_reads_geno = (\n",
    "    sf.Metagenotype.load(spikein_assembly_inpath)\n",
    "    .to_estimated_genotype()\n",
    "    .discretized(max_ambiguity=ambiguity_threshold)\n",
    ")"
   ]
  },
  {
   "cell_type": "code",
   "execution_count": null,
   "metadata": {},
   "outputs": [],
   "source": [
    "midas_assembly_inpath = 'data/species/sp-102506/midasdb_v15.gtpro.mgtp.nc'\n",
    "midas_assembly_geno = (\n",
    "    sf.Metagenotype.load(midas_assembly_inpath)\n",
    "    .to_estimated_genotype()\n",
    "    # .discretized(max_ambiguity=ambiguity_threshold)\n",
    ")"
   ]
  },
  {
   "cell_type": "code",
   "execution_count": null,
   "metadata": {},
   "outputs": [],
   "source": [
    "hmp2_inferred_inpath = 'data/group/hmp2/species/sp-102506/r.proc.gtpro.sfacts-fit.spgc_ss-all.mgtp.nc'\n",
    "hmp2_inferred_geno = (\n",
    "    sf.Metagenotype.load(hmp2_inferred_inpath)\n",
    "    .to_estimated_genotype()\n",
    "    # .discretized(max_ambiguity=ambiguity_threshold)\n",
    ")"
   ]
  },
  {
   "cell_type": "code",
   "execution_count": null,
   "metadata": {},
   "outputs": [],
   "source": [
    "hmp2_to_midas_gdist = hmp2_inferred_geno.cdist(midas_assembly_geno)"
   ]
  },
  {
   "cell_type": "code",
   "execution_count": null,
   "metadata": {},
   "outputs": [],
   "source": [
    "spikein_to_midas_gdist = spikein_assembly_geno.cdist(midas_assembly_geno)"
   ]
  },
  {
   "cell_type": "code",
   "execution_count": null,
   "metadata": {},
   "outputs": [],
   "source": [
    "pd.DataFrame(dict(idxmin=spikein_to_midas_gdist.idxmin(axis=1), min=spikein_to_midas_gdist.min(axis=1)))"
   ]
  }
 ],
 "metadata": {
  "kernelspec": {
   "display_name": "toolz5",
   "language": "python",
   "name": "toolz5"
  },
  "language_info": {
   "codemirror_mode": {
    "name": "ipython",
    "version": 3
   },
   "file_extension": ".py",
   "mimetype": "text/x-python",
   "name": "python",
   "nbconvert_exporter": "python",
   "pygments_lexer": "ipython3",
   "version": "3.10.13"
  }
 },
 "nbformat": 4,
 "nbformat_minor": 5
}