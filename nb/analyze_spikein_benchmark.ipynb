{
 "cells": [
  {
   "cell_type": "markdown",
   "metadata": {},
   "source": [
    "## Preamble"
   ]
  },
  {
   "cell_type": "markdown",
   "metadata": {},
   "source": [
    "### Project Template"
   ]
  },
  {
   "cell_type": "code",
   "execution_count": null,
   "metadata": {},
   "outputs": [],
   "source": [
    "%load_ext autoreload"
   ]
  },
  {
   "cell_type": "code",
   "execution_count": null,
   "metadata": {},
   "outputs": [],
   "source": [
    "import os as _os\n",
    "\n",
    "_os.chdir(_os.environ[\"PROJECT_ROOT\"])\n",
    "_os.path.realpath(_os.path.curdir)"
   ]
  },
  {
   "cell_type": "markdown",
   "metadata": {},
   "source": [
    "### Imports"
   ]
  },
  {
   "cell_type": "code",
   "execution_count": null,
   "metadata": {},
   "outputs": [],
   "source": [
    "import os\n",
    "import subprocess\n",
    "import sys\n",
    "import time\n",
    "from datetime import datetime\n",
    "from glob import glob\n",
    "from itertools import chain, product\n",
    "from tempfile import mkstemp\n",
    "\n",
    "import matplotlib as mpl\n",
    "import matplotlib.pyplot as plt\n",
    "import numpy as np\n",
    "import pandas as pd\n",
    "import scipy as sp\n",
    "import seaborn as sns\n",
    "import sfacts as sf\n",
    "import statsmodels.api as sm\n",
    "import statsmodels.formula.api as smf\n",
    "import xarray as xr\n",
    "from mpl_toolkits.axes_grid1 import make_axes_locatable\n",
    "from scipy.spatial.distance import squareform\n",
    "from statsmodels.stats.multitest import fdrcorrection\n",
    "from tqdm import tqdm\n",
    "\n",
    "import lib.plot\n",
    "from lib.pandas_util import align_indexes, aligned_index, idxwhere, invert_mapping\n",
    "from lib.thisproject.genotype_dissimilarity import native_masked_hamming_distance_cdist"
   ]
  },
  {
   "cell_type": "markdown",
   "metadata": {},
   "source": [
    "## Style"
   ]
  },
  {
   "cell_type": "code",
   "execution_count": null,
   "metadata": {},
   "outputs": [],
   "source": [
    "sns.set_context(\"paper\")\n",
    "plt.rcParams[\"figure.dpi\"] = 100"
   ]
  },
  {
   "cell_type": "markdown",
   "metadata": {},
   "source": [
    "## Analysis Parameters"
   ]
  },
  {
   "cell_type": "code",
   "execution_count": null,
   "metadata": {},
   "outputs": [],
   "source": [
    "ambiguity_threshold = 0.1"
   ]
  },
  {
   "cell_type": "markdown",
   "metadata": {},
   "source": [
    "# Load and Check Data"
   ]
  },
  {
   "cell_type": "markdown",
   "metadata": {},
   "source": [
    "## Select some GTDB genomes missing from UHGG"
   ]
  },
  {
   "cell_type": "markdown",
   "metadata": {},
   "source": [
    "### Pick some examples genomes and generate the necessary metadata files."
   ]
  },
  {
   "cell_type": "code",
   "execution_count": null,
   "metadata": {},
   "outputs": [],
   "source": [
    "prjna938932_genomes = pd.read_table(\n",
    "    \"raw/PRJNA938932_AssemblyDetails.txt\",\n",
    "    skiprows=2,\n",
    "    names=[\"assembly_id\", \"level\", \"wgs\", \"biosample\", \"strain\", \"taxonomy\", \"_\"],\n",
    ")\n",
    "prjna938932_genomes"
   ]
  },
  {
   "cell_type": "raw",
   "metadata": {},
   "source": [
    "gtdb_ecoli_genomes = pd.read_table(\n",
    "    \"ref/gtdb/species/102506/metadata.tsv\", index_col=\"accession\"\n",
    ")"
   ]
  },
  {
   "cell_type": "raw",
   "metadata": {},
   "source": [
    "gtdb_ecoli_genomes[[\"ncbi_biosample\"]]"
   ]
  },
  {
   "cell_type": "raw",
   "metadata": {},
   "source": [
    "gtdb_genomes = pd.read_table('ref/gtdb/metadata.tsv', index_col='accession')"
   ]
  },
  {
   "cell_type": "code",
   "execution_count": null,
   "metadata": {},
   "outputs": [],
   "source": [
    "def table_description(df):\n",
    "    return pd.DataFrame(\n",
    "        dict(col_idx=range(df.shape[1]), name=df.columns, example_val=df.iloc[0].values)\n",
    "    ).set_index(\"col_idx\")\n",
    "\n",
    "\n",
    "table_description(prjna938932_genomes)"
   ]
  },
  {
   "cell_type": "raw",
   "metadata": {},
   "source": [
    "gtdb_ecoli_genomes[[\"ncbi_assembly_name\", \"ncbi_genbank_assembly_accession\"]][\n",
    "    lambda x: x.ncbi_genbank_assembly_accession == \"GCA_011601075.1\"\n",
    "]"
   ]
  },
  {
   "cell_type": "code",
   "execution_count": null,
   "metadata": {},
   "outputs": [],
   "source": [
    "genome_meta = pd.read_table(\"meta/genome.tsv\")\n",
    "\n",
    "table_description(genome_meta)\n",
    "\n",
    "# for i, (c, v) in enumerate(zip(genome_meta.columns, genome_meta.iloc[0].values)):\n",
    "#     print(i, c, v, sep=\"\\t\")"
   ]
  },
  {
   "cell_type": "code",
   "execution_count": null,
   "metadata": {},
   "outputs": [],
   "source": [
    "genome_group_meta = pd.read_table(\"meta/genome_group.tsv\")\n",
    "\n",
    "\n",
    "table_description(genome_group_meta)\n",
    "\n",
    "# for i, (c, v) in enumerate(\n",
    "#     zip(genome_group_meta.columns, genome_group_meta.iloc[0].values)\n",
    "# ):\n",
    "#     print(i, c, v, sep=\"\\t\")"
   ]
  },
  {
   "cell_type": "code",
   "execution_count": null,
   "metadata": {},
   "outputs": [],
   "source": [
    "mgen_meta = pd.read_table(\"meta/mgen_to_reads.tsv\")\n",
    "\n",
    "\n",
    "table_description(mgen_meta)\n",
    "\n",
    "# for i, (c, v) in enumerate(zip(mgen_meta.columns, mgen_meta.iloc[0].values)):\n",
    "#     print(i, c, v, sep=\"\\t\")"
   ]
  },
  {
   "cell_type": "code",
   "execution_count": null,
   "metadata": {},
   "outputs": [],
   "source": [
    "mgen_group_meta = pd.read_table(\"meta/mgen_group.tsv\")\n",
    "\n",
    "\n",
    "table_description(mgen_group_meta)\n",
    "\n",
    "# for i, (c, v) in enumerate(\n",
    "#     zip(mgen_group_meta.columns, mgen_group_meta.iloc[0].values)\n",
    "# ):\n",
    "#     print(i, c, v, sep=\"\\t\")"
   ]
  },
  {
   "cell_type": "raw",
   "metadata": {},
   "source": [
    "gtdb_ecoli_genomes[\n",
    "    lambda x: x.ncbi_assembly_name == \"ASM1160107v1\"\n",
    "].squeeze().ncbi_biosample"
   ]
  },
  {
   "cell_type": "raw",
   "metadata": {},
   "source": [
    "d = gtdb_ecoli_genomes.assign(\n",
    "    genome_id=lambda x: \"Escherichia-coli-\"\n",
    "    + x.ncbi_genbank_assembly_accession.str.replace(\"GCA\", \"GCF\").str.replace(\n",
    "        \".1$\", \"-1\", regex=True\n",
    "    ),\n",
    "    species_id=\"102506\",\n",
    "    genome_path=lambda x: \"raw/genomes/gtdb/\" + x.genome_id + \"/assembly.fa\",\n",
    "    _old_genome_id=\"\",\n",
    "    ncbi_assembly_name=lambda x: x.ncbi_assembly_name,\n",
    "    ncbi_assembly_biosample=lambda x: x.ncbi_biosample,\n",
    "    comments=lambda x: \"GTDB Accession \" + x.index + \";\",\n",
    ")[genome_meta.columns]\n",
    "\n",
    "\n",
    "d.to_csv(\"meta/gtdb_ecoli_genome.tsv\", index=False, sep=\"\\t\")\n",
    "\n",
    "d"
   ]
  },
  {
   "cell_type": "raw",
   "metadata": {},
   "source": [
    "gtdb_fpraus_genomes = gtdb_meta[lambda x: x."
   ]
  },
  {
   "cell_type": "raw",
   "metadata": {},
   "source": [
    "midas_meta[lambda x: x.species == 100195].Genome_type.value_counts()"
   ]
  },
  {
   "cell_type": "raw",
   "metadata": {},
   "source": [
    "midas_meta[lambda x: x.Lineage.str.contains(\"s__Faecalibacterium prausnitzii\")][\n",
    "    [\"species\", \"Lineage\", \"Genome_type\"]\n",
    "].value_counts().unstack(\"Genome_type\")"
   ]
  },
  {
   "cell_type": "raw",
   "metadata": {},
   "source": [
    "gtdb_fpraus_genomes = gtdb_genomes[\n",
    "    lambda x: x.gtdb_taxonomy\n",
    "    == \"d__Bacteria;p__Bacillota_A;c__Clostridia;o__Oscillospirales;f__Ruminococcaceae;g__Faecalibacterium;s__Faecalibacterium prausnitzii_D\"\n",
    "]\n",
    "gtdb_fpraus_genomes"
   ]
  },
  {
   "cell_type": "raw",
   "metadata": {},
   "source": [
    "d = gtdb_fpraus_genomes.assign(\n",
    "    genome_id=lambda x: \"Faecalibacterium-prausnitzii-D-\"\n",
    "    + x.ncbi_genbank_assembly_accession.str.replace(\"GCA\", \"GCF\").str.replace(\n",
    "        \".1$\", \"-1\", regex=True\n",
    "    ),\n",
    "    mgen_id=lambda x: x.genome_id,\n",
    "    species_id=\"102272\",\n",
    "    genome_path=lambda x: \"raw/genomes/gtdb/\" + x.genome_id + \"/assembly.fa\",\n",
    "    r1_path=lambda x: \"raw/genomes/gtdb/\" + x.genome_id + \"/r1.fq.gz\",\n",
    "    r2_path=lambda x: \"raw/genomes/gtdb/\" + x.genome_id + \"/r2.fq.gz\",\n",
    "    genome_group_id=\"potential_spikein_benchmark\",\n",
    "    mgen_group_id=\"potential_spikein_benchmark\",\n",
    "    preprocessing=\"noop\",\n",
    "    _old_genome_id=\"\",\n",
    "    ncbi_assembly_name=lambda x: x.ncbi_assembly_name,\n",
    "    ncbi_assembly_biosample=lambda x: x.ncbi_biosample,\n",
    "    comments=lambda x: \"GTDB Accession \" + x.index + \";\",\n",
    ").sort_values(\"genome_id\")\n",
    "\n",
    "\n",
    "d[genome_meta.columns].to_csv(\"meta/gtdb_fpraus_genome.tsv\", index=False, sep=\"\\t\")\n",
    "d[genome_group_meta.columns].to_csv(\n",
    "    \"meta/gtdb_fpraus_genome_group.tsv\", index=False, sep=\"\\t\"\n",
    ")\n",
    "d[mgen_group_meta.columns].to_csv(\n",
    "    \"meta/gtdb_fpraus_mgen_group.tsv\", index=False, sep=\"\\t\"\n",
    ")\n",
    "d[mgen_meta.columns].to_csv(\"meta/gtdb_fpraus_mgen_to_reads.tsv\", index=False, sep=\"\\t\")"
   ]
  },
  {
   "cell_type": "code",
   "execution_count": null,
   "metadata": {},
   "outputs": [],
   "source": [
    "prjna938932_genomes"
   ]
  },
  {
   "cell_type": "code",
   "execution_count": null,
   "metadata": {},
   "outputs": [],
   "source": [
    "prjna938932_genomes\n",
    "\n",
    "d = prjna938932_genomes.assign(\n",
    "    genome_id=lambda x: \"Escherichia-coli-\"\n",
    "    + x.assembly_id.str.replace(\"GCA\", \"GCF\").str.replace(\".1$\", \"-1\", regex=True),\n",
    "    mgen_id=lambda x: x.genome_id,\n",
    "    species_id=\"102506\",\n",
    "    genome_path=lambda x: \"raw/genomes/ncbi/\" + x.genome_id + \"/assembly.fa\",\n",
    "    r1_path=lambda x: \"raw/genomes/ncbi/\" + x.genome_id + \"/r1.fq.gz\",\n",
    "    r2_path=lambda x: \"raw/genomes/ncbi/\" + x.genome_id + \"/r2.fq.gz\",\n",
    "    genome_group_id=\"potential_spikein_benchmark\",\n",
    "    mgen_group_id=\"potential_spikein_benchmark\",\n",
    "    preprocessing=\"noop\",\n",
    "    _old_genome_id=\"\",\n",
    "    ncbi_assembly_name=lambda x: x.assembly_id,\n",
    "    ncbi_assembly_biosample=lambda x: x.biosample,\n",
    "    comments=lambda x: \"From PRJNA938932 \" + x.assembly_id + \";\",\n",
    ").sort_values(\"genome_id\")\n",
    "\n",
    "\n",
    "d[genome_meta.columns].to_csv(\n",
    "    \"meta/prjna938932_ecoli_genome.tsv\", index=False, sep=\"\\t\"\n",
    ")\n",
    "d[genome_group_meta.columns].to_csv(\n",
    "    \"meta/prjna938932_ecoli_genome_group.tsv\", index=False, sep=\"\\t\"\n",
    ")\n",
    "d[mgen_group_meta.columns].to_csv(\n",
    "    \"meta/prjna938932_ecoli_mgen_group.tsv\", index=False, sep=\"\\t\"\n",
    ")\n",
    "d[mgen_meta.columns].to_csv(\n",
    "    \"meta/prjna938932_ecoli_mgen_to_reads.tsv\", index=False, sep=\"\\t\"\n",
    ")"
   ]
  },
  {
   "cell_type": "markdown",
   "metadata": {},
   "source": [
    "## Load metadata"
   ]
  },
  {
   "cell_type": "code",
   "execution_count": null,
   "metadata": {},
   "outputs": [],
   "source": [
    "uhgg_genome_meta = pd.read_table('ref/midasdb_uhgg_v20/metadata/genomes-all_metadata.tsv', index_col='New_Genome_accession')"
   ]
  },
  {
   "cell_type": "markdown",
   "metadata": {},
   "source": [
    "## Compare Genotypes"
   ]
  },
  {
   "cell_type": "code",
   "execution_count": null,
   "metadata": {},
   "outputs": [],
   "source": [
    "species = \"102506\""
   ]
  },
  {
   "cell_type": "code",
   "execution_count": null,
   "metadata": {},
   "outputs": [],
   "source": [
    "midas_assembly_inpath = f\"data/species/sp-{species}/midasdb_v15.gtpro.mgtp.nc\"\n",
    "midas_assembly_geno = (\n",
    "    sf.Metagenotype.load(midas_assembly_inpath).to_estimated_genotype()\n",
    "    # .discretized(max_ambiguity=ambiguity_threshold)\n",
    ")"
   ]
  },
  {
   "cell_type": "raw",
   "metadata": {},
   "source": [
    "spikein_reads_inpath = (\n",
    "    f\"data/group/potential_spikein_benchmark/species/sp-{species}/r.proc.gtpro.mgtp.nc\"\n",
    ")\n",
    "spikein_reads_geno = (\n",
    "    sf.Metagenotype.load(spikein_reads_inpath).to_estimated_genotype()\n",
    "    # .discretized(max_ambiguity=ambiguity_threshold)\n",
    ")"
   ]
  },
  {
   "cell_type": "code",
   "execution_count": null,
   "metadata": {},
   "outputs": [],
   "source": [
    "spikein_assembly_inpath = f\"data/group/potential_spikein_benchmark/species/sp-{species}/strain_genomes.gtpro.mgtp.nc\"\n",
    "spikein_assembly_geno = (\n",
    "    sf.Metagenotype.load(spikein_assembly_inpath).to_estimated_genotype()\n",
    "    # .discretized(max_ambiguity=ambiguity_threshold)\n",
    ")"
   ]
  },
  {
   "cell_type": "raw",
   "metadata": {},
   "source": [
    "spikein_to_midas_gdist = spikein_reads_geno.cdist(midas_assembly_geno)"
   ]
  },
  {
   "cell_type": "raw",
   "metadata": {},
   "source": [
    "pd.DataFrame(\n",
    "    dict(\n",
    "        idxmin=spikein_to_midas_gdist.idxmin(axis=1),\n",
    "        min=spikein_to_midas_gdist.min(axis=1),\n",
    "    )\n",
    ")"
   ]
  },
  {
   "cell_type": "code",
   "execution_count": null,
   "metadata": {},
   "outputs": [],
   "source": [
    "hmp2_inferred_inpath = (\n",
    "    f\"data/group/hmp2/species/sp-{species}/r.proc.gtpro.sfacts-fit.spgc_ss-all.mgtp.nc\"\n",
    ")\n",
    "hmp2_inferred_geno = (\n",
    "    sf.Metagenotype.load(hmp2_inferred_inpath).to_estimated_genotype()\n",
    "    # .discretized(max_ambiguity=ambiguity_threshold)\n",
    ")"
   ]
  },
  {
   "cell_type": "raw",
   "metadata": {},
   "source": [
    "hmp2_to_midas_gdist = hmp2_inferred_geno.cdist(midas_assembly_geno)"
   ]
  },
  {
   "cell_type": "raw",
   "metadata": {},
   "source": [
    "spikein_to_hmp2_gdist = spikein_reads_geno.cdist(hmp2_inferred_geno)"
   ]
  },
  {
   "cell_type": "code",
   "execution_count": null,
   "metadata": {},
   "outputs": [],
   "source": [
    "g1 = spikein_assembly_geno.discretized(max_ambiguity=ambiguity_threshold)\n",
    "g2 = hmp2_inferred_geno.discretized(max_ambiguity=ambiguity_threshold)\n",
    "\n",
    "g0 = sf.data.Genotype.concat(\n",
    "    {\n",
    "        \"spike\": g1,\n",
    "        \"hmp2\": g2,\n",
    "    },\n",
    "    dim=\"strain\",\n",
    "    rename=False,\n",
    ")\n",
    "\n",
    "spikein_and_hmp2_sample_geno = g0\n",
    "\n",
    "g0 = spikein_and_hmp2_sample_geno_ss = g0.random_sample(position=10_000)\n",
    "\n",
    "spikein_to_hmp2_gdist = native_masked_hamming_distance_cdist(\n",
    "    g0.sel(strain=g1.strain).values,\n",
    "    g0.sel(strain=g2.strain).values,\n",
    ")\n",
    "spikein_to_hmp2_gdist = pd.DataFrame(\n",
    "    spikein_to_hmp2_gdist,\n",
    "    index=g1.strain,\n",
    "    columns=g2.strain,\n",
    ")"
   ]
  },
  {
   "cell_type": "code",
   "execution_count": null,
   "metadata": {},
   "outputs": [],
   "source": [
    "g1 = spikein_assembly_geno.discretized(max_ambiguity=ambiguity_threshold)\n",
    "g2 = midas_assembly_geno.discretized(max_ambiguity=ambiguity_threshold)\n",
    "\n",
    "g0 = sf.data.Genotype.concat(\n",
    "    {\n",
    "        \"spike\": g1,\n",
    "        \"midas\": g2,\n",
    "    },\n",
    "    dim=\"strain\",\n",
    "    rename=False,\n",
    ")\n",
    "\n",
    "spikein_and_midas_geno = g0\n",
    "spikein_and_midas_geno_ss = g0.sel(position=spikein_and_hmp2_sample_geno_ss.position)\n",
    "\n",
    "\n",
    "spikein_to_midas_gdist = native_masked_hamming_distance_cdist(\n",
    "    g0.sel(strain=g1.strain).values,\n",
    "    g0.sel(strain=g2.strain).values,\n",
    ")\n",
    "spikein_to_midas_gdist = pd.DataFrame(\n",
    "    spikein_to_midas_gdist,\n",
    "    index=g1.strain,\n",
    "    columns=g2.strain,\n",
    ")"
   ]
  },
  {
   "cell_type": "code",
   "execution_count": null,
   "metadata": {},
   "outputs": [],
   "source": [
    "midas_ecoli_isolate_list = idxwhere((uhgg_genome_meta.Genome_type == 'Isolate') & uhgg_genome_meta.Lineage.str.endswith('s__Escherichia coli_D'))\n",
    "\n",
    "spikein_to_midas_ecoli_isolate_gdist = spikein_to_midas_gdist.loc[:, midas_ecoli_isolate_list]"
   ]
  },
  {
   "cell_type": "code",
   "execution_count": null,
   "metadata": {},
   "outputs": [],
   "source": [
    "spikein_closest_match = pd.DataFrame(\n",
    "    dict(\n",
    "        idxmin_midas=spikein_to_midas_gdist.idxmin(axis=1),\n",
    "        min_dist_midas=spikein_to_midas_gdist.min(axis=1),\n",
    "        idxmin_isolate=spikein_to_midas_ecoli_isolate_gdist.idxmin(axis=1),\n",
    "        min_dist_isolate=spikein_to_midas_ecoli_isolate_gdist.min(axis=1),\n",
    "        idxmin_hmp2=spikein_to_hmp2_gdist.idxmin(axis=1),\n",
    "        min_dist_hmp2=spikein_to_hmp2_gdist.min(axis=1),\n",
    "    )\n",
    ")\n",
    "\n",
    "plt.hist(spikein_closest_match.min_dist_midas)\n",
    "\n",
    "spikein_closest_match.sort_values(\"min_dist_midas\", ascending=False)"
   ]
  },
  {
   "cell_type": "code",
   "execution_count": null,
   "metadata": {},
   "outputs": [],
   "source": [
    "unique_closest_match_spikein = spikein_closest_match.sort_values(\n",
    "    \"min_dist_midas\", ascending=False\n",
    ").drop_duplicates(subset=[\"idxmin_midas\"])\n",
    "\n",
    "\n",
    "spikein_benchmark_isolate_genomes = list(\n",
    "    unique_closest_match_spikein.head(20).index\n",
    ") + list(unique_closest_match_spikein.head(50).tail(5).index)\n",
    "\n",
    "spikein_closest_match.loc[spikein_benchmark_isolate_genomes]"
   ]
  },
  {
   "cell_type": "code",
   "execution_count": null,
   "metadata": {},
   "outputs": [],
   "source": [
    "spikein_to_spikein_gdist = pd.DataFrame(\n",
    "    native_masked_hamming_distance_cdist(\n",
    "        spikein_and_midas_geno.sel(strain=spikein_assembly_geno.strain).values,\n",
    "        spikein_and_midas_geno.sel(strain=spikein_assembly_geno.strain).values,\n",
    "    ),\n",
    "    index=spikein_assembly_geno.strain,\n",
    "    columns=spikein_assembly_geno.strain,\n",
    ")"
   ]
  },
  {
   "cell_type": "code",
   "execution_count": null,
   "metadata": {},
   "outputs": [],
   "source": [
    "_colors = pd.DataFrame(\n",
    "    dict(\n",
    "        min_dist_midas=spikein_closest_match.min_dist_midas.map(\n",
    "            lambda x: mpl.cm.viridis(x * 20)\n",
    "        ),\n",
    "        min_dist_hmp2=spikein_closest_match.min_dist_hmp2.map(\n",
    "            lambda x: mpl.cm.viridis(x * 20)\n",
    "        ),\n",
    "        is_selected=spikein_closest_match.index.to_series()\n",
    "        .isin(spikein_benchmark_isolate_genomes)\n",
    "        .map({False: \"grey\", True: \"black\"}),\n",
    "    )\n",
    ")\n",
    "\n",
    "sns.clustermap(spikein_to_spikein_gdist, col_colors=_colors, row_colors=_colors)"
   ]
  },
  {
   "cell_type": "code",
   "execution_count": null,
   "metadata": {},
   "outputs": [],
   "source": [
    "d = prjna938932_genomes.assign(\n",
    "    genome_id=lambda x: \"Escherichia-coli-\"\n",
    "    + x.assembly_id.str.replace(\"GCA\", \"GCF\").str.replace(\".1$\", \"-1\", regex=True),\n",
    "    mgen_id=lambda x: x.genome_id,\n",
    "    species_id=\"102506\",\n",
    "    genome_path=lambda x: \"raw/genomes/ncbi/\" + x.genome_id + \"/assembly.fa\",\n",
    "    r1_path=lambda x: \"raw/genomes/ncbi/\" + x.genome_id + \"/r1.fq.gz\",\n",
    "    r2_path=lambda x: \"raw/genomes/ncbi/\" + x.genome_id + \"/r2.fq.gz\",\n",
    "    genome_group_id=\"potential_spikein_benchmark\",\n",
    "    mgen_group_id=\"potential_spikein_benchmark\",\n",
    "    preprocessing=\"noop\",\n",
    "    _old_genome_id=\"\",\n",
    "    ncbi_assembly_name=lambda x: x.assembly_id,\n",
    "    ncbi_assembly_biosample=lambda x: x.biosample,\n",
    "    comments=lambda x: \"From PRJNA938932 \" + x.assembly_id + \";\",\n",
    ")[lambda x: x.genome_id.isin(spikein_benchmark_isolate_genomes)].sort_values(\n",
    "    \"genome_id\"\n",
    ")\n",
    "\n",
    "\n",
    "d[genome_meta.columns].to_csv(\"meta/bench_ecoli_genome.tsv\", index=False, sep=\"\\t\")\n",
    "d[genome_group_meta.columns].to_csv(\n",
    "    \"meta/bench_ecoli_genome_group.tsv\", index=False, sep=\"\\t\"\n",
    ")\n",
    "d[mgen_group_meta.columns].to_csv(\n",
    "    \"meta/bench_ecoli_mgen_group.tsv\", index=False, sep=\"\\t\"\n",
    ")\n",
    "d[mgen_meta.columns].to_csv(\"meta/bench_ecoli_mgen_to_reads.tsv\", index=False, sep=\"\\t\")"
   ]
  },
  {
   "cell_type": "markdown",
   "metadata": {},
   "source": [
    "## Select a subject with 5+ samples and no E. coli"
   ]
  },
  {
   "cell_type": "code",
   "execution_count": null,
   "metadata": {},
   "outputs": [],
   "source": [
    "species_list = (\n",
    "    pd.read_table(\"meta/species_group.tsv\")[lambda x: x.species_group_id == \"hmp2\"]\n",
    "    .species_id.astype(str)\n",
    "    .unique()\n",
    ")"
   ]
  },
  {
   "cell_type": "code",
   "execution_count": null,
   "metadata": {},
   "outputs": [],
   "source": [
    "mgen = pd.read_table(\"meta/hmp2/mgen.tsv\", index_col=\"library_id\")\n",
    "preparation = pd.read_table(\"meta/hmp2/preparation.tsv\", index_col=\"preparation_id\")\n",
    "stool = pd.read_table(\"meta/hmp2/stool.tsv\", index_col=\"stool_id\")\n",
    "visit = pd.read_table(\"meta/hmp2/visit.tsv\", index_col=\"visit_id\")\n",
    "subject = pd.read_table(\"meta/hmp2/subject.tsv\", index_col=\"subject_id\")\n",
    "\n",
    "meta_all = (\n",
    "    mgen.join(preparation.drop(columns=\"library_type\"), on=\"preparation_id\")\n",
    "    .join(stool, on=\"stool_id\")\n",
    "    .join(visit, on=\"visit_id\", rsuffix=\"_\")\n",
    "    .join(subject, on=\"subject_id\")\n",
    "    .assign(\n",
    "        new_name=lambda x: (\n",
    "            x[[\"subject_id\", \"week_number\"]]\n",
    "            .assign(library_id=x.index)\n",
    "            .assign(week_number=lambda x: x.week_number.fillna(999).astype(int))\n",
    "            .apply(lambda x: \"_\".join(x.astype(str)), axis=1)\n",
    "        )\n",
    "    )\n",
    "    # .reset_index()\n",
    "    # .set_index('new_name')\n",
    ")\n",
    "\n",
    "library_id_to_new_name = meta_all.new_name\n",
    "\n",
    "assert not any(meta_all.subject_id.isna())\n",
    "\n",
    "# TODO: Rename samples based on subject and visit number\n",
    "# TODO: Drop duplicate stools"
   ]
  },
  {
   "cell_type": "code",
   "execution_count": null,
   "metadata": {},
   "outputs": [],
   "source": [
    "species_depth_inpath = f\"data/group/hmp2/species/sp-{species}/r.proc.gene99_v20-v23-agg75.spgc_specgene-ref-filt-p95.species_depth.tsv\"\n",
    "species_depth = pd.read_table(\n",
    "    species_depth_inpath, names=[\"library_id\", \"species_depth\"], index_col=\"library_id\"\n",
    ").squeeze()\n",
    "\n",
    "d = (\n",
    "    meta_all.assign(\n",
    "        species_depth=species_depth, species_missing=lambda x: x.species_depth == 0\n",
    "    )\n",
    "    .groupby(\"subject_id\")\n",
    "    .species_missing.agg([\"mean\", \"sum\"])\n",
    ")\n",
    "\n",
    "plt.scatter(\"sum\", \"mean\", data=d)"
   ]
  },
  {
   "cell_type": "code",
   "execution_count": null,
   "metadata": {},
   "outputs": [],
   "source": [
    "d.sort_values(\"sum\", ascending=False)"
   ]
  },
  {
   "cell_type": "code",
   "execution_count": null,
   "metadata": {},
   "outputs": [],
   "source": [
    "meta_all.assign(\n",
    "    species_depth=species_depth, species_missing=lambda x: x.species_depth == 0\n",
    ")[lambda x: (x.subject_id == \"C3022\") & (x.species_depth == 0)]"
   ]
  },
  {
   "cell_type": "code",
   "execution_count": null,
   "metadata": {},
   "outputs": [],
   "source": [
    "spikein_mapping = pd.read_table('data/group/hmp2_spikein_benchmark/species/sp-102506/ecoli-spiked.strain_samples.tsv', names=['sample', 'strain'], index_col='sample').strain\n",
    "spikein_mapping"
   ]
  },
  {
   "cell_type": "code",
   "execution_count": null,
   "metadata": {},
   "outputs": [],
   "source": [
    "spikein_closest_match.loc[spikein_mapping.unique()]"
   ]
  },
  {
   "cell_type": "code",
   "execution_count": null,
   "metadata": {},
   "outputs": [],
   "source": [
    "uhgg_genome_meta.loc[spikein_closest_match.loc[spikein_mapping.unique()].idxmin_midas]\n",
    "# uhgg_genome_meta.loc[spikein_closest_match.loc[spikein_mapping.unique()].idxmin_midas]"
   ]
  },
  {
   "cell_type": "code",
   "execution_count": null,
   "metadata": {},
   "outputs": [],
   "source": [
    "uhgg_genome_meta.loc[spikein_closest_match.loc[spikein_mapping.unique()].idxmin_midas]"
   ]
  },
  {
   "cell_type": "code",
   "execution_count": null,
   "metadata": {},
   "outputs": [],
   "source": [
    "w = sf.data.World.load(\n",
    "    \"data/group/hmp2_spikein_benchmark/species/sp-102506/r.proc.gtpro.filt-poly05-cvrg05.ss-g10000-block0-seed0.fit-sfacts37-s85-seed0.world.nc\"\n",
    ")\n",
    "\n",
    "genome_to_strain = w.sel(sample=spikein_mapping.index).community.to_pandas().groupby(spikein_mapping).mean().idxmax(1)\n",
    "genome_to_strain"
   ]
  },
  {
   "cell_type": "raw",
   "metadata": {},
   "source": [
    "spikein_sample_list = idxwhere(w.sample.to_series().str.contains('spikein'))"
   ]
  },
  {
   "cell_type": "raw",
   "metadata": {},
   "source": [
    "spikein_strain_list = idxwhere(w.sel(sample=spikein_sample_list).community.max(\"sample\").to_series() > 0.5)\n",
    "has_spikein_strain_sample_list = idxwhere(w.sel(strain=spikein_strain_list).community.max(\"strain\").to_series() > 0.5)"
   ]
  },
  {
   "cell_type": "raw",
   "metadata": {},
   "source": [
    "set(idxwhere(w.sample.to_series().str.contains('spikein'))) - set(spikein_mapping.index)"
   ]
  },
  {
   "cell_type": "raw",
   "metadata": {},
   "source": [
    "set(spikein_mapping.index) - set(idxwhere(w.sample.to_series().str.contains('spikein')))"
   ]
  },
  {
   "cell_type": "code",
   "execution_count": null,
   "metadata": {},
   "outputs": [],
   "source": [
    "genome_to_strain.index.values"
   ]
  },
  {
   "cell_type": "code",
   "execution_count": null,
   "metadata": {},
   "outputs": [],
   "source": [
    "spikein_performance = []\n",
    "\n",
    "for genome, strain in genome_to_strain.items():\n",
    "    inpath = f'data/group/hmp2_spikein_benchmark/species/sp-102506/r.proc.gtpro.filt-poly05-cvrg05.ss-g10000-block0-seed0.fit-sfacts37-s85-seed0.gene99_v20-v23-agg75.spgc_specgene-ref-filt-p95_ss-all_t-10_thresh-corr400-depth200.{genome}.eggnog-reconstruction_accuracy.tsv'\n",
    "    benchmark = pd.read_table(inpath, index_col='strain').assign(genome_id=genome)\n",
    "    print(inpath)\n",
    "    # print(benchmark.loc[strain])\n",
    "    # print(spikein_closest_match.loc[genome])\n",
    "    # print()\n",
    "    spikein_performance.append(benchmark.loc[strain].to_dict() | spikein_closest_match.loc[genome].to_dict())\n",
    "\n",
    "spikein_performance = pd.DataFrame(spikein_performance)\n",
    "\n",
    "print(spikein_performance[['precision', 'recall', 'f1']].mean())\n",
    "spikein_performance"
   ]
  },
  {
   "cell_type": "code",
   "execution_count": null,
   "metadata": {},
   "outputs": [],
   "source": [
    "print(spikein_performance[['genome_id', 'idxmin_midas', 'min_dist_midas', 'precision', 'recall', 'f1']].to_markdown())"
   ]
  },
  {
   "cell_type": "code",
   "execution_count": null,
   "metadata": {},
   "outputs": [],
   "source": [
    "spikein_performance[['precision', 'recall', 'f1']].median()"
   ]
  },
  {
   "cell_type": "code",
   "execution_count": null,
   "metadata": {},
   "outputs": [],
   "source": [
    "uhgg_genome_meta.loc[spikein_performance.idxmin_isolate]"
   ]
  },
  {
   "cell_type": "code",
   "execution_count": null,
   "metadata": {},
   "outputs": [],
   "source": [
    "sns.pairplot(spikein_performance.assign(sqrt_min_dist_midas=lambda x: np.sqrt(x.min_dist_midas))[['f1', 'precision', 'recall', 'sqrt_min_dist_midas']])"
   ]
  },
  {
   "cell_type": "code",
   "execution_count": null,
   "metadata": {},
   "outputs": [],
   "source": [
    "for genome_id, midas_id in spikein_performance[['genome_id', 'idxmin_midas']].values:\n",
    "    g = spikein_and_midas_geno.sel(strain=[genome_id, midas_id]).data\n",
    "    shared_positions = idxwhere(~g.pipe(np.isnan).any(\"strain\").to_series())\n",
    "    num_mismatched, num_shared = (\n",
    "        (g.sel(strain=genome_id) != g.sel(strain=midas_id)).sel(position=shared_positions).sum(),\n",
    "        len(shared_positions)\n",
    "    )\n",
    "    print(\n",
    "        genome_id,\n",
    "        midas_id,\n",
    "        num_mismatched,\n",
    "        num_shared,\n",
    "        (num_mismatched + 1) / (num_shared + 1)\n",
    "    )"
   ]
  }
 ],
 "metadata": {
  "kernelspec": {
   "display_name": "toolz5",
   "language": "python",
   "name": "toolz5"
  },
  "language_info": {
   "codemirror_mode": {
    "name": "ipython",
    "version": 3
   },
   "file_extension": ".py",
   "mimetype": "text/x-python",
   "name": "python",
   "nbconvert_exporter": "python",
   "pygments_lexer": "ipython3",
   "version": "3.10.13"
  }
 },
 "nbformat": 4,
 "nbformat_minor": 5
}