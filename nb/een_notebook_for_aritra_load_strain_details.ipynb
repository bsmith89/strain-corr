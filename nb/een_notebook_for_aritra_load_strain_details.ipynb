{
 "cells": [
  {
   "cell_type": "markdown",
   "metadata": {},
   "source": [
    "# Preamble"
   ]
  },
  {
   "cell_type": "code",
   "execution_count": null,
   "metadata": {},
   "outputs": [],
   "source": [
    "%load_ext autoreload"
   ]
  },
  {
   "cell_type": "code",
   "execution_count": null,
   "metadata": {},
   "outputs": [],
   "source": [
    "import os as _os\n",
    "\n",
    "# NOTE: This cell is to allow the notebook to be run from a subdirectory of the project root.\n",
    "# TODO: Either export this \"PROJECT_ROOT\" environmental variable, or modify this cell for your setup.\n",
    "_os.chdir('..')\n",
    "_os.path.realpath(_os.path.curdir)"
   ]
  },
  {
   "cell_type": "markdown",
   "metadata": {},
   "source": [
    "## Imports"
   ]
  },
  {
   "cell_type": "code",
   "execution_count": null,
   "metadata": {},
   "outputs": [],
   "source": [
    "import os\n",
    "import matplotlib as mpl\n",
    "import matplotlib.pyplot as plt\n",
    "import seaborn as sns\n",
    "import numpy as np\n",
    "import pandas as pd"
   ]
  },
  {
   "cell_type": "code",
   "execution_count": null,
   "metadata": {},
   "outputs": [],
   "source": [
    "def rotate_xticklabels(ax=None, rotation=45, ha=\"right\", **kwargs):\n",
    "    if ax is None:\n",
    "        ax = plt.gca()\n",
    "    ax.set_xticklabels(\n",
    "        [x.get_text() for x in ax.get_xticklabels()],\n",
    "        rotation=rotation,\n",
    "        ha=ha,\n",
    "        **kwargs,\n",
    "    )\n",
    "\n",
    "def idxwhere(condition, x=None):\n",
    "    if x is None:\n",
    "        x = condition\n",
    "    return list(x[condition].index)"
   ]
  },
  {
   "cell_type": "code",
   "execution_count": null,
   "metadata": {},
   "outputs": [],
   "source": [
    "sns.set_context(\"talk\")\n",
    "plt.rcParams[\"figure.dpi\"] = 50"
   ]
  },
  {
   "cell_type": "markdown",
   "metadata": {},
   "source": [
    "# Prepare Metadata"
   ]
  },
  {
   "cell_type": "code",
   "execution_count": null,
   "metadata": {},
   "outputs": [],
   "source": [
    "species_taxonomy_inpath = \"ref/uhgg_genomes_all_v2.tsv\"\n",
    "\n",
    "_species_taxonomy = (\n",
    "    pd.read_table(species_taxonomy_inpath)[lambda x: x.Genome == x.Species_rep]\n",
    "    .assign(species_id=lambda x: \"1\" + x.MGnify_accession.str.split(\"-\").str[2])\n",
    "    .set_index(\"species_id\")\n",
    ")\n",
    "\n",
    "\n",
    "def parse_taxonomy_string(taxonomy_string):\n",
    "    values = taxonomy_string.split(\";\")\n",
    "    return pd.Series(values, index=[\"d__\", \"p__\", \"c__\", \"o__\", \"f__\", \"g__\", \"s__\"])\n",
    "\n",
    "\n",
    "species_taxonomy = _species_taxonomy.Lineage.apply(parse_taxonomy_string)\n",
    "species_taxonomy"
   ]
  },
  {
   "cell_type": "code",
   "execution_count": null,
   "metadata": {},
   "outputs": [],
   "source": [
    "def label_een_experiment_sample(x):\n",
    "    if x.sample_type == \"human\":\n",
    "        label = f\"[{x.name}] {x.collection_date_relative_een_end} {x.diet_or_media}\"\n",
    "    elif x.sample_type in [\"Fermenter_inoculum\"]:\n",
    "        label = f\"[{x.name}] {x.source_samples} inoc {x.diet_or_media}\"\n",
    "    elif x.sample_type in [\"Fermenter\"]:\n",
    "        # label = f\"[{x.name}] {x.source_samples} frmnt {x.diet_or_media}\"\n",
    "        label = f\"[{x.name}] {x.source_samples} {x.diet_or_media}\"\n",
    "    elif x.sample_type in [\"mouse\"]:\n",
    "        if x.status_mouse_inflamed == \"Inflamed\":\n",
    "            # label = f\"[{x.name}] {x.source_samples} \ud83d\udc2d {x.mouse_genotype} {x.diet_or_media} inflam\"\n",
    "            label = f\"[{x.name}] {x.source_samples} {x.diet_or_media} inflam\"\n",
    "        elif x.status_mouse_inflamed == \"not_Inflamed\":\n",
    "            # label = f\"[{x.name}] {x.source_samples} \ud83d\udc2d {x.mouse_genotype} {x.diet_or_media} not_inf\"\n",
    "            label = f\"[{x.name}] {x.source_samples} {x.diet_or_media} not_inf\"\n",
    "        else:\n",
    "            raise ValueError(f\"sample type {x.status_mouse_inflamed} not understood\")\n",
    "    else:\n",
    "        raise ValueError(f\"sample type {x.sample_type} not understood\")\n",
    "    return label\n",
    "\n",
    "\n",
    "sample = (\n",
    "    pd.read_table(\"meta/een-mgen/sample.tsv\")\n",
    "    .assign(\n",
    "        label=lambda x: x[\n",
    "            [\"collection_date_relative_een_end\", \"diet_or_media\", \"sample_id\"]\n",
    "        ].apply(tuple, axis=1)\n",
    "    )\n",
    "    .set_index(\"sample_id\")\n",
    "    .assign(full_label=lambda d: d.apply(label_een_experiment_sample, axis=1))\n",
    ")"
   ]
  },
  {
   "cell_type": "markdown",
   "metadata": {},
   "source": [
    "# Prepare Data"
   ]
  },
  {
   "cell_type": "code",
   "execution_count": null,
   "metadata": {},
   "outputs": [],
   "source": [
    "species_depth = (\n",
    "    pd.read_table(\n",
    "        \"data/group/een/r.proc.gene99_new-v22-agg75.spgc_specgene-ref-t25-p95.species_depth.tsv\",\n",
    "        names=[\"sample\", \"species_id\", \"depth\"],\n",
    "        index_col=[\"sample\", \"species_id\"],\n",
    "    )\n",
    "    .depth.unstack(fill_value=0)\n",
    "    .rename(columns=str, index=lambda x: \"CF_\" + str(int(x.split(\"_\")[1])))\n",
    "    .rename({\"CF_15\": \"CF_11\", \"CF_11\": \"CF_15\"})  # Sample swap\n",
    ")\n",
    "species_relabund = species_depth.divide(species_depth.sum(1), axis=0)\n",
    "\n",
    "species_relabund"
   ]
  },
  {
   "cell_type": "code",
   "execution_count": null,
   "metadata": {},
   "outputs": [],
   "source": [
    "# Strains with maximum, within-species fraction less than this are dropped.\n",
    "min_strain_frac = 0.05\n",
    "\n",
    "strain_depth = []\n",
    "strain_to_species = []\n",
    "missing_files = []\n",
    "for species_id in species_depth.columns:\n",
    "    # Load data\n",
    "    path = f\"data/group/een/species/sp-{species_id}/r.proc.gtpro.sfacts-fit.comm.tsv\"\n",
    "    if os.path.exists(path):\n",
    "        _strain_frac = (\n",
    "            pd.read_table(path, index_col=[\"sample\", \"strain\"])\n",
    "            .squeeze()\n",
    "            .unstack()\n",
    "            # Normalize samples names and correct the sample swap.\n",
    "            .rename(columns=str, index=lambda x: \"CF_\" + str(int(x.split(\"_\")[1])))\n",
    "            .rename({\"CF_11\": \"CF_15\", \"CF_15\": \"CF_11\"})\n",
    "        )\n",
    "    else:\n",
    "        missing_files.append(path)\n",
    "        _strain_frac = pd.DataFrame([])\n",
    "    assert _strain_frac.index.isin(species_depth.index).all()\n",
    "\n",
    "    # Drop very rare strains.\n",
    "    _keep_strains = idxwhere(_strain_frac.max() >= min_strain_frac)\n",
    "    _strain_frac = _strain_frac.reindex(\n",
    "        index=species_depth.index, columns=_keep_strains, fill_value=0\n",
    "    )\n",
    "    _strain_frac = _strain_frac.assign(__other=lambda x: 1 - x.sum(1))\n",
    "    _strain_frac[_strain_frac < 0] = 0\n",
    "    _strain_frac = _strain_frac.divide(_strain_frac.sum(1), axis=0)\n",
    "\n",
    "    # Multiply strain relative abundance by species depth (resulting in strain depth.)\n",
    "    _strain_depth = _strain_frac.multiply(species_depth[species_id], axis=0)\n",
    "\n",
    "    # Rename strains to prefix with species_id.\n",
    "    _strain_depth = _strain_depth.rename(columns=lambda s: f\"{species_id}_{s}\")\n",
    "\n",
    "    # Append to results\n",
    "    strain_depth.append(_strain_depth)\n",
    "    strain_to_species.append(pd.Series(species_id, index=_strain_depth.columns))\n",
    "\n",
    "# Compile full tables.\n",
    "strain_depth = pd.concat(strain_depth, axis=1)\n",
    "strain_to_species = pd.concat(strain_to_species)\n",
    "strain_relabund = strain_depth.divide(strain_depth.sum(1), axis=0)\n",
    "\n",
    "# Check that we didn't introduce error.\n",
    "assert np.allclose(\n",
    "    strain_depth.groupby(strain_to_species, axis=\"columns\").sum(), species_depth\n",
    ")\n",
    "\n",
    "# Report how many species were run.\n",
    "print(len(species_depth.columns), len(missing_files))"
   ]
  },
  {
   "cell_type": "markdown",
   "metadata": {},
   "source": [
    "# Visualize E. coli strain fractions"
   ]
  },
  {
   "cell_type": "code",
   "execution_count": null,
   "metadata": {},
   "outputs": [],
   "source": [
    "species_id = \"102506\"\n",
    "strain_frac_thresh = 0.2\n",
    "\n",
    "print(species_taxonomy.loc[species_id])\n",
    "\n",
    "sample_meta = sample.sort_values(\n",
    "    [\n",
    "        \"subject_id\",\n",
    "        \"sample_type\",\n",
    "        \"collection_date_relative_een_end\",\n",
    "        \"diet_or_media\",\n",
    "        \"mouse_genotype\",\n",
    "    ]\n",
    ").loc[strain_depth.index]\n",
    "strain_frac = (\n",
    "    strain_depth.loc[:, strain_to_species == species_id]\n",
    "    .apply(lambda x: x / x.sum(), axis=1)\n",
    ")\n",
    "sample_meta, strain_frac = sample_meta.align(strain_frac, axis=\"index\")\n",
    "\n",
    "all_strains = strain_frac.columns\n",
    "strain_palette = dict(\n",
    "    zip(all_strains, mpl.cm.Spectral(np.linspace(0, 1, num=len(all_strains))))\n",
    ")\n",
    "subject_order = sample_meta.subject_id.unique()\n",
    "\n",
    "num_subjects = len(subject_order)\n",
    "num_cols = 4\n",
    "num_rows = int(np.ceil(num_subjects / num_cols))\n",
    "max_num_samples = sample_meta.subject_id.value_counts().max()\n",
    "fig, axs = plt.subplots(\n",
    "    num_rows,\n",
    "    num_cols,\n",
    "    figsize=(15 * num_cols, 6 * num_rows),\n",
    "    gridspec_kw=dict(wspace=0.1, hspace=3),\n",
    "    sharex=False,\n",
    "    sharey=True,\n",
    "    squeeze=False,\n",
    ")\n",
    "\n",
    "for subject_id, ax in zip(subject_order, axs.flatten()):\n",
    "    _subject_strain_frac = strain_frac.loc[sample_meta.subject_id == subject_id]\n",
    "    _subject_sample_meta = sample_meta.loc[sample_meta.subject_id == subject_id].assign(\n",
    "        xpos=lambda x: range(len(x.index))\n",
    "    )\n",
    "    _subject_strain_order = idxwhere(_subject_strain_frac.max() >= strain_frac_thresh)\n",
    "    last_top = 0\n",
    "    for strain_id in _subject_strain_order:\n",
    "        ax.bar(\n",
    "            x=_subject_sample_meta.xpos,\n",
    "            height=_subject_strain_frac[strain_id],\n",
    "            bottom=last_top,\n",
    "            width=1.0,\n",
    "            alpha=1.0,\n",
    "            color=strain_palette[strain_id],\n",
    "            edgecolor=\"k\",\n",
    "            lw=1,\n",
    "            label=strain_id,\n",
    "        )\n",
    "        last_top += _subject_strain_frac[strain_id]\n",
    "    ax.bar(\n",
    "        x=_subject_sample_meta.xpos,\n",
    "        height=1.0 - last_top,\n",
    "        bottom=last_top,\n",
    "        width=1.0,\n",
    "        alpha=1.0,\n",
    "        color=\"grey\",\n",
    "        edgecolor=\"k\",\n",
    "        lw=1,\n",
    "        label=\"other\",\n",
    "    )\n",
    "    ax.set_title((subject_id, species_id))\n",
    "    ax.set_xticks(range(len(_subject_sample_meta.index)))\n",
    "    ax.set_xticklabels(_subject_sample_meta.full_label.values)\n",
    "    ax.set_xlim(-0.5, max_num_samples - 0.5)\n",
    "    # ax.legend(bbox_to_anchor=(1, 1))\n",
    "    rotate_xticklabels(ax=ax)"
   ]
  }
 ],
 "metadata": {
  "kernelspec": {
   "display_name": "toolz2",
   "language": "python",
   "name": "toolz2"
  },
  "language_info": {
   "codemirror_mode": {
    "name": "ipython",
    "version": 3
   },
   "file_extension": ".py",
   "mimetype": "text/x-python",
   "name": "python",
   "nbconvert_exporter": "python",
   "pygments_lexer": "ipython3",
   "version": "3.10.12"
  }
 },
 "nbformat": 4,
 "nbformat_minor": 5
}